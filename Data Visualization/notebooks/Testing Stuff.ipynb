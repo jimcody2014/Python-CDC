{
 "cells": [
  {
   "cell_type": "code",
   "execution_count": 31,
   "id": "decfaf94",
   "metadata": {},
   "outputs": [],
   "source": [
    "import numpy as py\n",
    "import pandas as pd\n",
    "import matplotlib.pyplot as plt\n",
    "import seaborn as sns\n",
    "\n",
    "%matplotlib inline    \n",
    "# %matplotlib is a magic function in IPython.\n",
    "\n",
    "df = sns.load_dataset(\"diamonds\")\n",
    "diamonds = sns.load_dataset(\"diamonds\")\n",
    "tips = sns.load_dataset(\"tips\")\n",
    "penguins = sns.load_dataset(\"penguins\")\n",
    "flights = sns.load_dataset(\"flights\")"
   ]
  },
  {
   "cell_type": "code",
   "execution_count": 32,
   "id": "dffe1d0c",
   "metadata": {},
   "outputs": [
    {
     "data": {
      "text/plain": [
       "Index(['carat', 'cut', 'color', 'clarity', 'depth', 'table', 'price', 'x', 'y',\n",
       "       'z'],\n",
       "      dtype='object')"
      ]
     },
     "execution_count": 32,
     "metadata": {},
     "output_type": "execute_result"
    }
   ],
   "source": [
    "df.columns"
   ]
  },
  {
   "cell_type": "code",
   "execution_count": 33,
   "id": "8f1e2c52",
   "metadata": {},
   "outputs": [
    {
     "data": {
      "text/plain": [
       "<BarContainer object of 9 artists>"
      ]
     },
     "execution_count": 33,
     "metadata": {},
     "output_type": "execute_result"
    },
    {
     "data": {
      "image/png": "[encoded data removed]",
      "text/plain": [
       "<Figure size 864x288 with 1 Axes>"
      ]
     },
     "metadata": {
      "needs_background": "light"
     },
     "output_type": "display_data"
    }
   ],
   "source": [
    "# Exercise data\n",
    "data = {'ME': 109,\n",
    "        'NH': 103,\n",
    "        'VT': 112,\n",
    "        'MA': 112,\n",
    "        'CT': 100,\n",
    "        'RI': 103,\n",
    "        'NY': 137,\n",
    "        'NY': 123,\n",
    "        'PA': 135,\n",
    "        'OH': 104,\n",
    "        'ME': 199,\n",
    "        'NH': 183,\n",
    "        'VT': 142,}\n",
    "food_illness = list(data.values())\n",
    "state = list(data.keys())\n",
    "state_mean = np.mean(food_illness)\n",
    "\n",
    "fig = plt.figure(figsize = (12,4))\n",
    "ax = fig.add_axes([0,0,1,1])\n",
    "ax.bar(state,food_illness, color = 'g')"
   ]
  },
  {
   "cell_type": "code",
   "execution_count": 34,
   "id": "e93a49b4",
   "metadata": {},
   "outputs": [
    {
     "data": {
      "text/plain": [
       "[<matplotlib.lines.Line2D at 0x7fd50f743310>]"
      ]
     },
     "execution_count": 34,
     "metadata": {},
     "output_type": "execute_result"
    },
    {
     "data": {
      "image/png": "[encoded data removed]",
      "text/plain": [
       "<Figure size 864x288 with 1 Axes>"
      ]
     },
     "metadata": {
      "needs_background": "light"
     },
     "output_type": "display_data"
    }
   ],
   "source": [
    "fig = plt.figure(figsize = (12,4))\n",
    "ax = fig.add_axes([0,0,1,1])\n",
    "ax.plot(df.cut,df.price, color = 'g')"
   ]
  },
  {
   "cell_type": "markdown",
   "id": "e7e7151d",
   "metadata": {},
   "source": [
    "# Using GroupBy with CDC data"
   ]
  },
  {
   "cell_type": "code",
   "execution_count": 35,
   "id": "90bc716e",
   "metadata": {},
   "outputs": [
    {
     "data": {
      "text/html": [
       "<div>\n",
       "<style scoped>\n",
       "    .dataframe tbody tr th:only-of-type {\n",
       "        vertical-align: middle;\n",
       "    }\n",
       "\n",
       "    .dataframe tbody tr th {\n",
       "        vertical-align: top;\n",
       "    }\n",
       "\n",
       "    .dataframe thead th {\n",
       "        text-align: right;\n",
       "    }\n",
       "</style>\n",
       "<table border=\"1\" class=\"dataframe\">\n",
       "  <thead>\n",
       "    <tr style=\"text-align: right;\">\n",
       "      <th></th>\n",
       "      <th>jurisdiction</th>\n",
       "      <th>week_of_allocations</th>\n",
       "      <th>_1st_dose_allocations</th>\n",
       "      <th>_2nd_dose_allocations</th>\n",
       "    </tr>\n",
       "  </thead>\n",
       "  <tbody>\n",
       "    <tr>\n",
       "      <th>0</th>\n",
       "      <td>Connecticut</td>\n",
       "      <td>2021-06-21T00:00:00.000</td>\n",
       "      <td>54360</td>\n",
       "      <td>54360</td>\n",
       "    </tr>\n",
       "    <tr>\n",
       "      <th>1</th>\n",
       "      <td>Maine</td>\n",
       "      <td>2021-06-21T00:00:00.000</td>\n",
       "      <td>21420</td>\n",
       "      <td>21420</td>\n",
       "    </tr>\n",
       "    <tr>\n",
       "      <th>2</th>\n",
       "      <td>Massachusetts</td>\n",
       "      <td>2021-06-21T00:00:00.000</td>\n",
       "      <td>104580</td>\n",
       "      <td>104580</td>\n",
       "    </tr>\n",
       "    <tr>\n",
       "      <th>3</th>\n",
       "      <td>New Hampshire</td>\n",
       "      <td>2021-06-21T00:00:00.000</td>\n",
       "      <td>21420</td>\n",
       "      <td>21420</td>\n",
       "    </tr>\n",
       "    <tr>\n",
       "      <th>4</th>\n",
       "      <td>Rhode Island</td>\n",
       "      <td>2021-06-21T00:00:00.000</td>\n",
       "      <td>17280</td>\n",
       "      <td>17280</td>\n",
       "    </tr>\n",
       "    <tr>\n",
       "      <th>...</th>\n",
       "      <td>...</td>\n",
       "      <td>...</td>\n",
       "      <td>...</td>\n",
       "      <td>...</td>\n",
       "    </tr>\n",
       "    <tr>\n",
       "      <th>995</th>\n",
       "      <td>Hawaii</td>\n",
       "      <td>2021-03-08T00:00:00.000</td>\n",
       "      <td>18720</td>\n",
       "      <td>18720</td>\n",
       "    </tr>\n",
       "    <tr>\n",
       "      <th>996</th>\n",
       "      <td>Nevada</td>\n",
       "      <td>2021-03-08T00:00:00.000</td>\n",
       "      <td>36270</td>\n",
       "      <td>36270</td>\n",
       "    </tr>\n",
       "    <tr>\n",
       "      <th>997</th>\n",
       "      <td>American Samoa</td>\n",
       "      <td>2021-03-08T00:00:00.000</td>\n",
       "      <td>0</td>\n",
       "      <td>0</td>\n",
       "    </tr>\n",
       "    <tr>\n",
       "      <th>998</th>\n",
       "      <td>Guam</td>\n",
       "      <td>2021-03-08T00:00:00.000</td>\n",
       "      <td>0</td>\n",
       "      <td>0</td>\n",
       "    </tr>\n",
       "    <tr>\n",
       "      <th>999</th>\n",
       "      <td>Marshall Islands</td>\n",
       "      <td>2021-03-08T00:00:00.000</td>\n",
       "      <td>0</td>\n",
       "      <td>0</td>\n",
       "    </tr>\n",
       "  </tbody>\n",
       "</table>\n",
       "<p>1000 rows × 4 columns</p>\n",
       "</div>"
      ],
      "text/plain": [
       "         jurisdiction      week_of_allocations _1st_dose_allocations  \\\n",
       "0         Connecticut  2021-06-21T00:00:00.000                 54360   \n",
       "1               Maine  2021-06-21T00:00:00.000                 21420   \n",
       "2       Massachusetts  2021-06-21T00:00:00.000                104580   \n",
       "3       New Hampshire  2021-06-21T00:00:00.000                 21420   \n",
       "4        Rhode Island  2021-06-21T00:00:00.000                 17280   \n",
       "..                ...                      ...                   ...   \n",
       "995            Hawaii  2021-03-08T00:00:00.000                 18720   \n",
       "996            Nevada  2021-03-08T00:00:00.000                 36270   \n",
       "997    American Samoa  2021-03-08T00:00:00.000                     0   \n",
       "998              Guam  2021-03-08T00:00:00.000                     0   \n",
       "999  Marshall Islands  2021-03-08T00:00:00.000                     0   \n",
       "\n",
       "    _2nd_dose_allocations  \n",
       "0                   54360  \n",
       "1                   21420  \n",
       "2                  104580  \n",
       "3                   21420  \n",
       "4                   17280  \n",
       "..                    ...  \n",
       "995                 18720  \n",
       "996                 36270  \n",
       "997                     0  \n",
       "998                     0  \n",
       "999                     0  \n",
       "\n",
       "[1000 rows x 4 columns]"
      ]
     },
     "execution_count": 35,
     "metadata": {},
     "output_type": "execute_result"
    }
   ],
   "source": [
    "import requests\n",
    "import numpy as py\n",
    "import pandas as pd\n",
    "import matplotlib.pyplot as plt\n",
    "import seaborn as sns\n",
    "\n",
    "\n",
    "response = requests.get(\"https://data.cdc.gov/resource/saz5-9hgg.json\")\n",
    "jsonhold = response.json()\n",
    "\n",
    "vaccines = pd.DataFrame(jsonhold)\n",
    "vaccines\n"
   ]
  },
  {
   "cell_type": "code",
   "execution_count": 36,
   "id": "d862eebe",
   "metadata": {},
   "outputs": [
    {
     "name": "stderr",
     "output_type": "stream",
     "text": [
      "/var/folders/bg/jzzhjp857hv08kcqg3jdptcr0000gn/T/ipykernel_41304/1428729903.py:2: FutureWarning: Series.dt.weekofyear and Series.dt.week have been deprecated. Please use Series.dt.isocalendar().week instead.\n",
      "  vaccines['week'] =  pd.to_datetime(vaccines['week_of_allocations']).dt.week\n"
     ]
    },
    {
     "data": {
      "text/html": [
       "<div>\n",
       "<style scoped>\n",
       "    .dataframe tbody tr th:only-of-type {\n",
       "        vertical-align: middle;\n",
       "    }\n",
       "\n",
       "    .dataframe tbody tr th {\n",
       "        vertical-align: top;\n",
       "    }\n",
       "\n",
       "    .dataframe thead th {\n",
       "        text-align: right;\n",
       "    }\n",
       "</style>\n",
       "<table border=\"1\" class=\"dataframe\">\n",
       "  <thead>\n",
       "    <tr style=\"text-align: right;\">\n",
       "      <th></th>\n",
       "      <th>jurisdiction</th>\n",
       "      <th>week_of_allocations</th>\n",
       "      <th>_1st_dose_allocations</th>\n",
       "      <th>_2nd_dose_allocations</th>\n",
       "      <th>month</th>\n",
       "      <th>week</th>\n",
       "    </tr>\n",
       "  </thead>\n",
       "  <tbody>\n",
       "    <tr>\n",
       "      <th>0</th>\n",
       "      <td>Connecticut</td>\n",
       "      <td>2021-06-21T00:00:00.000</td>\n",
       "      <td>54360</td>\n",
       "      <td>54360</td>\n",
       "      <td>6</td>\n",
       "      <td>25</td>\n",
       "    </tr>\n",
       "    <tr>\n",
       "      <th>1</th>\n",
       "      <td>Maine</td>\n",
       "      <td>2021-06-21T00:00:00.000</td>\n",
       "      <td>21420</td>\n",
       "      <td>21420</td>\n",
       "      <td>6</td>\n",
       "      <td>25</td>\n",
       "    </tr>\n",
       "    <tr>\n",
       "      <th>2</th>\n",
       "      <td>Massachusetts</td>\n",
       "      <td>2021-06-21T00:00:00.000</td>\n",
       "      <td>104580</td>\n",
       "      <td>104580</td>\n",
       "      <td>6</td>\n",
       "      <td>25</td>\n",
       "    </tr>\n",
       "    <tr>\n",
       "      <th>3</th>\n",
       "      <td>New Hampshire</td>\n",
       "      <td>2021-06-21T00:00:00.000</td>\n",
       "      <td>21420</td>\n",
       "      <td>21420</td>\n",
       "      <td>6</td>\n",
       "      <td>25</td>\n",
       "    </tr>\n",
       "    <tr>\n",
       "      <th>4</th>\n",
       "      <td>Rhode Island</td>\n",
       "      <td>2021-06-21T00:00:00.000</td>\n",
       "      <td>17280</td>\n",
       "      <td>17280</td>\n",
       "      <td>6</td>\n",
       "      <td>25</td>\n",
       "    </tr>\n",
       "    <tr>\n",
       "      <th>...</th>\n",
       "      <td>...</td>\n",
       "      <td>...</td>\n",
       "      <td>...</td>\n",
       "      <td>...</td>\n",
       "      <td>...</td>\n",
       "      <td>...</td>\n",
       "    </tr>\n",
       "    <tr>\n",
       "      <th>995</th>\n",
       "      <td>Hawaii</td>\n",
       "      <td>2021-03-08T00:00:00.000</td>\n",
       "      <td>18720</td>\n",
       "      <td>18720</td>\n",
       "      <td>3</td>\n",
       "      <td>10</td>\n",
       "    </tr>\n",
       "    <tr>\n",
       "      <th>996</th>\n",
       "      <td>Nevada</td>\n",
       "      <td>2021-03-08T00:00:00.000</td>\n",
       "      <td>36270</td>\n",
       "      <td>36270</td>\n",
       "      <td>3</td>\n",
       "      <td>10</td>\n",
       "    </tr>\n",
       "    <tr>\n",
       "      <th>997</th>\n",
       "      <td>American Samoa</td>\n",
       "      <td>2021-03-08T00:00:00.000</td>\n",
       "      <td>0</td>\n",
       "      <td>0</td>\n",
       "      <td>3</td>\n",
       "      <td>10</td>\n",
       "    </tr>\n",
       "    <tr>\n",
       "      <th>998</th>\n",
       "      <td>Guam</td>\n",
       "      <td>2021-03-08T00:00:00.000</td>\n",
       "      <td>0</td>\n",
       "      <td>0</td>\n",
       "      <td>3</td>\n",
       "      <td>10</td>\n",
       "    </tr>\n",
       "    <tr>\n",
       "      <th>999</th>\n",
       "      <td>Marshall Islands</td>\n",
       "      <td>2021-03-08T00:00:00.000</td>\n",
       "      <td>0</td>\n",
       "      <td>0</td>\n",
       "      <td>3</td>\n",
       "      <td>10</td>\n",
       "    </tr>\n",
       "  </tbody>\n",
       "</table>\n",
       "<p>1000 rows × 6 columns</p>\n",
       "</div>"
      ],
      "text/plain": [
       "         jurisdiction      week_of_allocations _1st_dose_allocations  \\\n",
       "0         Connecticut  2021-06-21T00:00:00.000                 54360   \n",
       "1               Maine  2021-06-21T00:00:00.000                 21420   \n",
       "2       Massachusetts  2021-06-21T00:00:00.000                104580   \n",
       "3       New Hampshire  2021-06-21T00:00:00.000                 21420   \n",
       "4        Rhode Island  2021-06-21T00:00:00.000                 17280   \n",
       "..                ...                      ...                   ...   \n",
       "995            Hawaii  2021-03-08T00:00:00.000                 18720   \n",
       "996            Nevada  2021-03-08T00:00:00.000                 36270   \n",
       "997    American Samoa  2021-03-08T00:00:00.000                     0   \n",
       "998              Guam  2021-03-08T00:00:00.000                     0   \n",
       "999  Marshall Islands  2021-03-08T00:00:00.000                     0   \n",
       "\n",
       "    _2nd_dose_allocations  month  week  \n",
       "0                   54360      6    25  \n",
       "1                   21420      6    25  \n",
       "2                  104580      6    25  \n",
       "3                   21420      6    25  \n",
       "4                   17280      6    25  \n",
       "..                    ...    ...   ...  \n",
       "995                 18720      3    10  \n",
       "996                 36270      3    10  \n",
       "997                     0      3    10  \n",
       "998                     0      3    10  \n",
       "999                     0      3    10  \n",
       "\n",
       "[1000 rows x 6 columns]"
      ]
     },
     "execution_count": 36,
     "metadata": {},
     "output_type": "execute_result"
    }
   ],
   "source": [
    "vaccines['month'] = pd.to_datetime(vaccines['week_of_allocations']).dt.month\n",
    "vaccines['week'] =  pd.to_datetime(vaccines['week_of_allocations']).dt.week\n",
    "vaccines"
   ]
  },
  {
   "cell_type": "code",
   "execution_count": 37,
   "id": "9b3dcf1d",
   "metadata": {},
   "outputs": [
    {
     "data": {
      "text/html": [
       "<div>\n",
       "<style scoped>\n",
       "    .dataframe tbody tr th:only-of-type {\n",
       "        vertical-align: middle;\n",
       "    }\n",
       "\n",
       "    .dataframe tbody tr th {\n",
       "        vertical-align: top;\n",
       "    }\n",
       "\n",
       "    .dataframe thead th {\n",
       "        text-align: right;\n",
       "    }\n",
       "</style>\n",
       "<table border=\"1\" class=\"dataframe\">\n",
       "  <thead>\n",
       "    <tr style=\"text-align: right;\">\n",
       "      <th></th>\n",
       "      <th>month</th>\n",
       "      <th>week</th>\n",
       "    </tr>\n",
       "    <tr>\n",
       "      <th>jurisdiction</th>\n",
       "      <th></th>\n",
       "      <th></th>\n",
       "    </tr>\n",
       "  </thead>\n",
       "  <tbody>\n",
       "    <tr>\n",
       "      <th>Alabama</th>\n",
       "      <td>71</td>\n",
       "      <td>280</td>\n",
       "    </tr>\n",
       "    <tr>\n",
       "      <th>Alaska</th>\n",
       "      <td>68</td>\n",
       "      <td>270</td>\n",
       "    </tr>\n",
       "    <tr>\n",
       "      <th>American Samoa</th>\n",
       "      <td>71</td>\n",
       "      <td>280</td>\n",
       "    </tr>\n",
       "    <tr>\n",
       "      <th>Arizona</th>\n",
       "      <td>71</td>\n",
       "      <td>280</td>\n",
       "    </tr>\n",
       "    <tr>\n",
       "      <th>Arkansas</th>\n",
       "      <td>71</td>\n",
       "      <td>280</td>\n",
       "    </tr>\n",
       "    <tr>\n",
       "      <th>...</th>\n",
       "      <td>...</td>\n",
       "      <td>...</td>\n",
       "    </tr>\n",
       "    <tr>\n",
       "      <th>Virginia</th>\n",
       "      <td>71</td>\n",
       "      <td>280</td>\n",
       "    </tr>\n",
       "    <tr>\n",
       "      <th>Washington</th>\n",
       "      <td>68</td>\n",
       "      <td>270</td>\n",
       "    </tr>\n",
       "    <tr>\n",
       "      <th>West Virginia</th>\n",
       "      <td>71</td>\n",
       "      <td>280</td>\n",
       "    </tr>\n",
       "    <tr>\n",
       "      <th>Wisconsin</th>\n",
       "      <td>71</td>\n",
       "      <td>280</td>\n",
       "    </tr>\n",
       "    <tr>\n",
       "      <th>Wyoming</th>\n",
       "      <td>71</td>\n",
       "      <td>280</td>\n",
       "    </tr>\n",
       "  </tbody>\n",
       "</table>\n",
       "<p>63 rows × 2 columns</p>\n",
       "</div>"
      ],
      "text/plain": [
       "                month  week\n",
       "jurisdiction               \n",
       "Alabama            71   280\n",
       "Alaska             68   270\n",
       "American Samoa     71   280\n",
       "Arizona            71   280\n",
       "Arkansas           71   280\n",
       "...               ...   ...\n",
       "Virginia           71   280\n",
       "Washington         68   270\n",
       "West Virginia      71   280\n",
       "Wisconsin          71   280\n",
       "Wyoming            71   280\n",
       "\n",
       "[63 rows x 2 columns]"
      ]
     },
     "execution_count": 37,
     "metadata": {},
     "output_type": "execute_result"
    }
   ],
   "source": [
    "# This is just to show that the qty is not numeric\n",
    "\n",
    "vaccines.groupby('jurisdiction').sum()"
   ]
  },
  {
   "cell_type": "code",
   "execution_count": 38,
   "id": "e381e1fa",
   "metadata": {},
   "outputs": [
    {
     "name": "stdout",
     "output_type": "stream",
     "text": [
      "<class 'pandas.core.frame.DataFrame'>\n",
      "RangeIndex: 1000 entries, 0 to 999\n",
      "Data columns (total 6 columns):\n",
      " #   Column                 Non-Null Count  Dtype \n",
      "---  ------                 --------------  ----- \n",
      " 0   jurisdiction           1000 non-null   object\n",
      " 1   week_of_allocations    1000 non-null   object\n",
      " 2   _1st_dose_allocations  1000 non-null   object\n",
      " 3   _2nd_dose_allocations  1000 non-null   object\n",
      " 4   month                  1000 non-null   int64 \n",
      " 5   week                   1000 non-null   int64 \n",
      "dtypes: int64(2), object(4)\n",
      "memory usage: 47.0+ KB\n"
     ]
    }
   ],
   "source": [
    "vaccines.info()"
   ]
  },
  {
   "cell_type": "code",
   "execution_count": 39,
   "id": "b697ba37",
   "metadata": {},
   "outputs": [
    {
     "name": "stdout",
     "output_type": "stream",
     "text": [
      "<class 'pandas.core.frame.DataFrame'>\n",
      "RangeIndex: 1000 entries, 0 to 999\n",
      "Data columns (total 6 columns):\n",
      " #   Column               Non-Null Count  Dtype  \n",
      "---  ------               --------------  -----  \n",
      " 0   jurisdiction         1000 non-null   object \n",
      " 1   week_of_allocations  1000 non-null   object \n",
      " 2   first                1000 non-null   int64  \n",
      " 3   second               1000 non-null   float64\n",
      " 4   month                1000 non-null   int64  \n",
      " 5   week                 1000 non-null   int64  \n",
      "dtypes: float64(1), int64(3), object(2)\n",
      "memory usage: 47.0+ KB\n"
     ]
    }
   ],
   "source": [
    "#vaccines['month'] = vaccines.month.astype(str)\n",
    "#vaccines['week'] = vaccines.week.astype(str)\n",
    "vaccines['_1st_dose_allocations'] = pd.to_numeric(vaccines['_1st_dose_allocations']).astype(int)\n",
    "vaccines['_2nd_dose_allocations'] = pd.to_numeric(vaccines['_2nd_dose_allocations']).astype(int)\n",
    "vaccines['_2nd_dose_allocations'] = vaccines._2nd_dose_allocations*1.2\n",
    "\n",
    "\n",
    "short_names = {'_1st_dose_allocations':'first',\n",
    "               '_2nd_dose_allocations':'second'}\n",
    "vaccines.rename(columns=short_names, inplace=True)\n",
    "               \n",
    "vaccines.info()"
   ]
  },
  {
   "cell_type": "code",
   "execution_count": 40,
   "id": "8d9b04cd",
   "metadata": {},
   "outputs": [
    {
     "data": {
      "text/plain": [
       "array(['Connecticut', 'Maine', 'Massachusetts', 'New Hampshire',\n",
       "       'Rhode Island', 'Vermont', 'New Jersey', 'New York',\n",
       "       'New York City', 'Puerto Rico', 'U.S. Virgin Islands', 'Delaware',\n",
       "       'District of Columbia', 'Maryland', 'Pennsylvania', 'Philadelphia',\n",
       "       'Virginia', 'West Virginia', 'Alabama', 'Florida', 'Georgia',\n",
       "       'Kentucky', 'Mississippi', 'North Carolina', 'South Carolina',\n",
       "       'Tennessee', 'Chicago', 'Illinois', 'Indiana', 'Michigan',\n",
       "       'Minnesota', 'Ohio', 'Wisconsin', 'Arkansas', 'Louisiana',\n",
       "       'New Mexico', 'Oklahoma', 'Texas', 'Iowa', 'Kansas', 'Missouri',\n",
       "       'Nebraska', 'Colorado', 'Montana', 'North Dakota', 'South Dakota',\n",
       "       'Utah', 'Wyoming', 'Arizona', 'California', 'Hawaii', 'Nevada',\n",
       "       'American Samoa', 'Guam', 'Marshall Islands', 'Micronesia',\n",
       "       'Mariana Islands', 'Palau', 'Alaska', 'Idaho', 'Oregon',\n",
       "       'Washington', 'Federal Entities'], dtype=object)"
      ]
     },
     "execution_count": 40,
     "metadata": {},
     "output_type": "execute_result"
    }
   ],
   "source": [
    "vaccines.jurisdiction.unique()"
   ]
  },
  {
   "cell_type": "code",
   "execution_count": 41,
   "id": "57b30769",
   "metadata": {},
   "outputs": [
    {
     "data": {
      "text/plain": [
       "(48, 6)"
      ]
     },
     "execution_count": 41,
     "metadata": {},
     "output_type": "execute_result"
    }
   ],
   "source": [
    "vaccines = vaccines[vaccines.jurisdiction.isin(['Massachusetts','New Hampshire', 'Rhode Island'])]\n",
    "vaccines.shape"
   ]
  },
  {
   "cell_type": "code",
   "execution_count": 42,
   "id": "85bdf959",
   "metadata": {},
   "outputs": [
    {
     "data": {
      "text/html": [
       "<div>\n",
       "<style scoped>\n",
       "    .dataframe tbody tr th:only-of-type {\n",
       "        vertical-align: middle;\n",
       "    }\n",
       "\n",
       "    .dataframe tbody tr th {\n",
       "        vertical-align: top;\n",
       "    }\n",
       "\n",
       "    .dataframe thead th {\n",
       "        text-align: right;\n",
       "    }\n",
       "</style>\n",
       "<table border=\"1\" class=\"dataframe\">\n",
       "  <thead>\n",
       "    <tr style=\"text-align: right;\">\n",
       "      <th></th>\n",
       "      <th>jurisdiction</th>\n",
       "      <th>week_of_allocations</th>\n",
       "      <th>first</th>\n",
       "      <th>second</th>\n",
       "      <th>month</th>\n",
       "      <th>week</th>\n",
       "    </tr>\n",
       "  </thead>\n",
       "  <tbody>\n",
       "    <tr>\n",
       "      <th>2</th>\n",
       "      <td>Massachusetts</td>\n",
       "      <td>2021-06-21T00:00:00.000</td>\n",
       "      <td>104580</td>\n",
       "      <td>125496.0</td>\n",
       "      <td>6</td>\n",
       "      <td>25</td>\n",
       "    </tr>\n",
       "    <tr>\n",
       "      <th>3</th>\n",
       "      <td>New Hampshire</td>\n",
       "      <td>2021-06-21T00:00:00.000</td>\n",
       "      <td>21420</td>\n",
       "      <td>25704.0</td>\n",
       "      <td>6</td>\n",
       "      <td>25</td>\n",
       "    </tr>\n",
       "    <tr>\n",
       "      <th>4</th>\n",
       "      <td>Rhode Island</td>\n",
       "      <td>2021-06-21T00:00:00.000</td>\n",
       "      <td>17280</td>\n",
       "      <td>20736.0</td>\n",
       "      <td>6</td>\n",
       "      <td>25</td>\n",
       "    </tr>\n",
       "    <tr>\n",
       "      <th>65</th>\n",
       "      <td>Massachusetts</td>\n",
       "      <td>2021-06-14T00:00:00.000</td>\n",
       "      <td>104580</td>\n",
       "      <td>125496.0</td>\n",
       "      <td>6</td>\n",
       "      <td>24</td>\n",
       "    </tr>\n",
       "    <tr>\n",
       "      <th>66</th>\n",
       "      <td>New Hampshire</td>\n",
       "      <td>2021-06-14T00:00:00.000</td>\n",
       "      <td>21420</td>\n",
       "      <td>25704.0</td>\n",
       "      <td>6</td>\n",
       "      <td>24</td>\n",
       "    </tr>\n",
       "  </tbody>\n",
       "</table>\n",
       "</div>"
      ],
      "text/plain": [
       "     jurisdiction      week_of_allocations   first    second  month  week\n",
       "2   Massachusetts  2021-06-21T00:00:00.000  104580  125496.0      6    25\n",
       "3   New Hampshire  2021-06-21T00:00:00.000   21420   25704.0      6    25\n",
       "4    Rhode Island  2021-06-21T00:00:00.000   17280   20736.0      6    25\n",
       "65  Massachusetts  2021-06-14T00:00:00.000  104580  125496.0      6    24\n",
       "66  New Hampshire  2021-06-14T00:00:00.000   21420   25704.0      6    24"
      ]
     },
     "execution_count": 42,
     "metadata": {},
     "output_type": "execute_result"
    }
   ],
   "source": [
    "vaccines.head()"
   ]
  },
  {
   "cell_type": "markdown",
   "id": "77e3d067",
   "metadata": {},
   "source": [
    "## Using matplotlib"
   ]
  },
  {
   "cell_type": "code",
   "execution_count": 43,
   "id": "97f38a93",
   "metadata": {},
   "outputs": [],
   "source": [
    "# We cannot.  Matplotlib does not work with dataframes."
   ]
  },
  {
   "cell_type": "markdown",
   "id": "43a376df",
   "metadata": {},
   "source": [
    "## Using seaborn"
   ]
  },
  {
   "cell_type": "code",
   "execution_count": 44,
   "id": "e987ac97",
   "metadata": {},
   "outputs": [
    {
     "data": {
      "text/plain": [
       "<AxesSubplot:xlabel='month', ylabel='first'>"
      ]
     },
     "execution_count": 44,
     "metadata": {},
     "output_type": "execute_result"
    },
    {
     "data": {
      "image/png": "[encoded data removed]",
      "text/plain": [
       "<Figure size 432x288 with 1 Axes>"
      ]
     },
     "metadata": {
      "needs_background": "light"
     },
     "output_type": "display_data"
    }
   ],
   "source": [
    "sns.lineplot(data=vaccines, x='month', y='first', ci = None)\n",
    "# Seaborn has aggregated the data but uses mean as the aggregation"
   ]
  },
  {
   "cell_type": "code",
   "execution_count": 45,
   "id": "11954abc",
   "metadata": {},
   "outputs": [
    {
     "data": {
      "image/png": "[encoded data removed]",
      "text/plain": [
       "<Figure size 432x288 with 1 Axes>"
      ]
     },
     "metadata": {
      "needs_background": "light"
     },
     "output_type": "display_data"
    }
   ],
   "source": [
    "sns.lineplot(data=vaccines, x='month', y='first', ci = None, estimator = 'sum')\n",
    "plt.xticks(vaccines.month)\n",
    "plt.show()"
   ]
  },
  {
   "cell_type": "code",
   "execution_count": 46,
   "id": "4a060160",
   "metadata": {},
   "outputs": [
    {
     "data": {
      "image/png": "[encoded data removed]",
      "text/plain": [
       "<Figure size 432x288 with 1 Axes>"
      ]
     },
     "metadata": {
      "needs_background": "light"
     },
     "output_type": "display_data"
    }
   ],
   "source": [
    "# Add a line for each jurisdiction\n",
    "sns.lineplot(data=vaccines, x='month', y='first', ci = None, estimator = 'sum', hue = 'jurisdiction')\n",
    "plt.xticks(vaccines.month)\n",
    "plt.show()"
   ]
  },
  {
   "cell_type": "code",
   "execution_count": 47,
   "id": "65c5ad22",
   "metadata": {},
   "outputs": [
    {
     "data": {
      "image/png": "[encoded data removed]",
      "text/plain": [
       "<Figure size 864x576 with 1 Axes>"
      ]
     },
     "metadata": {
      "needs_background": "light"
     },
     "output_type": "display_data"
    }
   ],
   "source": [
    "# Change month to week\n",
    "plt.figure(figsize=(12,8))\n",
    "sns.lineplot(data=vaccines, x='week', y='first', ci = None, estimator = 'sum', hue = 'jurisdiction')\n",
    "plt.xticks(vaccines.week)\n",
    "plt.show()"
   ]
  },
  {
   "cell_type": "code",
   "execution_count": 48,
   "id": "04790a04",
   "metadata": {},
   "outputs": [
    {
     "ename": "AttributeError",
     "evalue": "'Line2D' object has no property 'col'",
     "output_type": "error",
     "traceback": [
      "\u001b[0;31m---------------------------------------------------------------------------\u001b[0m",
      "\u001b[0;31mAttributeError\u001b[0m                            Traceback (most recent call last)",
      "\u001b[0;32m/var/folders/bg/jzzhjp857hv08kcqg3jdptcr0000gn/T/ipykernel_41304/1506178700.py\u001b[0m in \u001b[0;36m<module>\u001b[0;34m\u001b[0m\n\u001b[1;32m      2\u001b[0m \u001b[0;31m# Cannot do that with lineplot\u001b[0m\u001b[0;34m\u001b[0m\u001b[0;34m\u001b[0m\u001b[0m\n\u001b[1;32m      3\u001b[0m \u001b[0mplt\u001b[0m\u001b[0;34m.\u001b[0m\u001b[0mfigure\u001b[0m\u001b[0;34m(\u001b[0m\u001b[0mfigsize\u001b[0m\u001b[0;34m=\u001b[0m\u001b[0;34m(\u001b[0m\u001b[0;36m12\u001b[0m\u001b[0;34m,\u001b[0m\u001b[0;36m8\u001b[0m\u001b[0;34m)\u001b[0m\u001b[0;34m)\u001b[0m\u001b[0;34m\u001b[0m\u001b[0;34m\u001b[0m\u001b[0m\n\u001b[0;32m----> 4\u001b[0;31m \u001b[0msns\u001b[0m\u001b[0;34m.\u001b[0m\u001b[0mlineplot\u001b[0m\u001b[0;34m(\u001b[0m\u001b[0mdata\u001b[0m\u001b[0;34m=\u001b[0m\u001b[0mvaccines\u001b[0m\u001b[0;34m,\u001b[0m \u001b[0mx\u001b[0m\u001b[0;34m=\u001b[0m\u001b[0;34m'week'\u001b[0m\u001b[0;34m,\u001b[0m \u001b[0my\u001b[0m\u001b[0;34m=\u001b[0m\u001b[0;34m'first'\u001b[0m\u001b[0;34m,\u001b[0m \u001b[0mci\u001b[0m \u001b[0;34m=\u001b[0m \u001b[0;32mNone\u001b[0m\u001b[0;34m,\u001b[0m \u001b[0mestimator\u001b[0m \u001b[0;34m=\u001b[0m \u001b[0;34m'sum'\u001b[0m\u001b[0;34m,\u001b[0m \u001b[0mhue\u001b[0m \u001b[0;34m=\u001b[0m \u001b[0;34m'jurisdiction'\u001b[0m\u001b[0;34m,\u001b[0m\u001b[0mcol\u001b[0m\u001b[0;34m=\u001b[0m\u001b[0;34m'month'\u001b[0m\u001b[0;34m)\u001b[0m\u001b[0;34m\u001b[0m\u001b[0;34m\u001b[0m\u001b[0m\n\u001b[0m\u001b[1;32m      5\u001b[0m \u001b[0mplt\u001b[0m\u001b[0;34m.\u001b[0m\u001b[0mxticks\u001b[0m\u001b[0;34m(\u001b[0m\u001b[0mvaccines\u001b[0m\u001b[0;34m.\u001b[0m\u001b[0mweek\u001b[0m\u001b[0;34m)\u001b[0m\u001b[0;34m\u001b[0m\u001b[0;34m\u001b[0m\u001b[0m\n\u001b[1;32m      6\u001b[0m \u001b[0mplt\u001b[0m\u001b[0;34m.\u001b[0m\u001b[0mshow\u001b[0m\u001b[0;34m(\u001b[0m\u001b[0;34m)\u001b[0m\u001b[0;34m\u001b[0m\u001b[0;34m\u001b[0m\u001b[0m\n",
      "\u001b[0;32m~/opt/anaconda3/lib/python3.9/site-packages/seaborn/_decorators.py\u001b[0m in \u001b[0;36minner_f\u001b[0;34m(*args, **kwargs)\u001b[0m\n\u001b[1;32m     44\u001b[0m             )\n\u001b[1;32m     45\u001b[0m         \u001b[0mkwargs\u001b[0m\u001b[0;34m.\u001b[0m\u001b[0mupdate\u001b[0m\u001b[0;34m(\u001b[0m\u001b[0;34m{\u001b[0m\u001b[0mk\u001b[0m\u001b[0;34m:\u001b[0m \u001b[0marg\u001b[0m \u001b[0;32mfor\u001b[0m \u001b[0mk\u001b[0m\u001b[0;34m,\u001b[0m \u001b[0marg\u001b[0m \u001b[0;32min\u001b[0m \u001b[0mzip\u001b[0m\u001b[0;34m(\u001b[0m\u001b[0msig\u001b[0m\u001b[0;34m.\u001b[0m\u001b[0mparameters\u001b[0m\u001b[0;34m,\u001b[0m \u001b[0margs\u001b[0m\u001b[0;34m)\u001b[0m\u001b[0;34m}\u001b[0m\u001b[0;34m)\u001b[0m\u001b[0;34m\u001b[0m\u001b[0;34m\u001b[0m\u001b[0m\n\u001b[0;32m---> 46\u001b[0;31m         \u001b[0;32mreturn\u001b[0m \u001b[0mf\u001b[0m\u001b[0;34m(\u001b[0m\u001b[0;34m**\u001b[0m\u001b[0mkwargs\u001b[0m\u001b[0;34m)\u001b[0m\u001b[0;34m\u001b[0m\u001b[0;34m\u001b[0m\u001b[0m\n\u001b[0m\u001b[1;32m     47\u001b[0m     \u001b[0;32mreturn\u001b[0m \u001b[0minner_f\u001b[0m\u001b[0;34m\u001b[0m\u001b[0;34m\u001b[0m\u001b[0m\n\u001b[1;32m     48\u001b[0m \u001b[0;34m\u001b[0m\u001b[0m\n",
      "\u001b[0;32m~/opt/anaconda3/lib/python3.9/site-packages/seaborn/relational.py\u001b[0m in \u001b[0;36mlineplot\u001b[0;34m(x, y, hue, size, style, data, palette, hue_order, hue_norm, sizes, size_order, size_norm, dashes, markers, style_order, units, estimator, ci, n_boot, seed, sort, err_style, err_kws, legend, ax, **kwargs)\u001b[0m\n\u001b[1;32m    708\u001b[0m     \u001b[0mp\u001b[0m\u001b[0;34m.\u001b[0m\u001b[0m_attach\u001b[0m\u001b[0;34m(\u001b[0m\u001b[0max\u001b[0m\u001b[0;34m)\u001b[0m\u001b[0;34m\u001b[0m\u001b[0;34m\u001b[0m\u001b[0m\n\u001b[1;32m    709\u001b[0m \u001b[0;34m\u001b[0m\u001b[0m\n\u001b[0;32m--> 710\u001b[0;31m     \u001b[0mp\u001b[0m\u001b[0;34m.\u001b[0m\u001b[0mplot\u001b[0m\u001b[0;34m(\u001b[0m\u001b[0max\u001b[0m\u001b[0;34m,\u001b[0m \u001b[0mkwargs\u001b[0m\u001b[0;34m)\u001b[0m\u001b[0;34m\u001b[0m\u001b[0;34m\u001b[0m\u001b[0m\n\u001b[0m\u001b[1;32m    711\u001b[0m     \u001b[0;32mreturn\u001b[0m \u001b[0max\u001b[0m\u001b[0;34m\u001b[0m\u001b[0;34m\u001b[0m\u001b[0m\n\u001b[1;32m    712\u001b[0m \u001b[0;34m\u001b[0m\u001b[0m\n",
      "\u001b[0;32m~/opt/anaconda3/lib/python3.9/site-packages/seaborn/relational.py\u001b[0m in \u001b[0;36mplot\u001b[0;34m(self, ax, kws)\u001b[0m\n\u001b[1;32m    434\u001b[0m         \u001b[0;31m# function will advance the axes property cycle.\u001b[0m\u001b[0;34m\u001b[0m\u001b[0;34m\u001b[0m\u001b[0m\n\u001b[1;32m    435\u001b[0m \u001b[0;34m\u001b[0m\u001b[0m\n\u001b[0;32m--> 436\u001b[0;31m         \u001b[0mscout\u001b[0m\u001b[0;34m,\u001b[0m \u001b[0;34m=\u001b[0m \u001b[0max\u001b[0m\u001b[0;34m.\u001b[0m\u001b[0mplot\u001b[0m\u001b[0;34m(\u001b[0m\u001b[0;34m[\u001b[0m\u001b[0;34m]\u001b[0m\u001b[0;34m,\u001b[0m \u001b[0;34m[\u001b[0m\u001b[0;34m]\u001b[0m\u001b[0;34m,\u001b[0m \u001b[0;34m**\u001b[0m\u001b[0mkws\u001b[0m\u001b[0;34m)\u001b[0m\u001b[0;34m\u001b[0m\u001b[0;34m\u001b[0m\u001b[0m\n\u001b[0m\u001b[1;32m    437\u001b[0m \u001b[0;34m\u001b[0m\u001b[0m\n\u001b[1;32m    438\u001b[0m         \u001b[0morig_color\u001b[0m \u001b[0;34m=\u001b[0m \u001b[0mkws\u001b[0m\u001b[0;34m.\u001b[0m\u001b[0mpop\u001b[0m\u001b[0;34m(\u001b[0m\u001b[0;34m\"color\"\u001b[0m\u001b[0;34m,\u001b[0m \u001b[0mscout\u001b[0m\u001b[0;34m.\u001b[0m\u001b[0mget_color\u001b[0m\u001b[0;34m(\u001b[0m\u001b[0;34m)\u001b[0m\u001b[0;34m)\u001b[0m\u001b[0;34m\u001b[0m\u001b[0;34m\u001b[0m\u001b[0m\n",
      "\u001b[0;32m~/opt/anaconda3/lib/python3.9/site-packages/matplotlib/axes/_axes.py\u001b[0m in \u001b[0;36mplot\u001b[0;34m(self, scalex, scaley, data, *args, **kwargs)\u001b[0m\n\u001b[1;32m   1603\u001b[0m         \"\"\"\n\u001b[1;32m   1604\u001b[0m         \u001b[0mkwargs\u001b[0m \u001b[0;34m=\u001b[0m \u001b[0mcbook\u001b[0m\u001b[0;34m.\u001b[0m\u001b[0mnormalize_kwargs\u001b[0m\u001b[0;34m(\u001b[0m\u001b[0mkwargs\u001b[0m\u001b[0;34m,\u001b[0m \u001b[0mmlines\u001b[0m\u001b[0;34m.\u001b[0m\u001b[0mLine2D\u001b[0m\u001b[0;34m)\u001b[0m\u001b[0;34m\u001b[0m\u001b[0;34m\u001b[0m\u001b[0m\n\u001b[0;32m-> 1605\u001b[0;31m         \u001b[0mlines\u001b[0m \u001b[0;34m=\u001b[0m \u001b[0;34m[\u001b[0m\u001b[0;34m*\u001b[0m\u001b[0mself\u001b[0m\u001b[0;34m.\u001b[0m\u001b[0m_get_lines\u001b[0m\u001b[0;34m(\u001b[0m\u001b[0;34m*\u001b[0m\u001b[0margs\u001b[0m\u001b[0;34m,\u001b[0m \u001b[0mdata\u001b[0m\u001b[0;34m=\u001b[0m\u001b[0mdata\u001b[0m\u001b[0;34m,\u001b[0m \u001b[0;34m**\u001b[0m\u001b[0mkwargs\u001b[0m\u001b[0;34m)\u001b[0m\u001b[0;34m]\u001b[0m\u001b[0;34m\u001b[0m\u001b[0;34m\u001b[0m\u001b[0m\n\u001b[0m\u001b[1;32m   1606\u001b[0m         \u001b[0;32mfor\u001b[0m \u001b[0mline\u001b[0m \u001b[0;32min\u001b[0m \u001b[0mlines\u001b[0m\u001b[0;34m:\u001b[0m\u001b[0;34m\u001b[0m\u001b[0;34m\u001b[0m\u001b[0m\n\u001b[1;32m   1607\u001b[0m             \u001b[0mself\u001b[0m\u001b[0;34m.\u001b[0m\u001b[0madd_line\u001b[0m\u001b[0;34m(\u001b[0m\u001b[0mline\u001b[0m\u001b[0;34m)\u001b[0m\u001b[0;34m\u001b[0m\u001b[0;34m\u001b[0m\u001b[0m\n",
      "\u001b[0;32m~/opt/anaconda3/lib/python3.9/site-packages/matplotlib/axes/_base.py\u001b[0m in \u001b[0;36m__call__\u001b[0;34m(self, data, *args, **kwargs)\u001b[0m\n\u001b[1;32m    313\u001b[0m                 \u001b[0mthis\u001b[0m \u001b[0;34m+=\u001b[0m \u001b[0margs\u001b[0m\u001b[0;34m[\u001b[0m\u001b[0;36m0\u001b[0m\u001b[0;34m]\u001b[0m\u001b[0;34m,\u001b[0m\u001b[0;34m\u001b[0m\u001b[0;34m\u001b[0m\u001b[0m\n\u001b[1;32m    314\u001b[0m                 \u001b[0margs\u001b[0m \u001b[0;34m=\u001b[0m \u001b[0margs\u001b[0m\u001b[0;34m[\u001b[0m\u001b[0;36m1\u001b[0m\u001b[0;34m:\u001b[0m\u001b[0;34m]\u001b[0m\u001b[0;34m\u001b[0m\u001b[0;34m\u001b[0m\u001b[0m\n\u001b[0;32m--> 315\u001b[0;31m             \u001b[0;32myield\u001b[0m \u001b[0;32mfrom\u001b[0m \u001b[0mself\u001b[0m\u001b[0;34m.\u001b[0m\u001b[0m_plot_args\u001b[0m\u001b[0;34m(\u001b[0m\u001b[0mthis\u001b[0m\u001b[0;34m,\u001b[0m \u001b[0mkwargs\u001b[0m\u001b[0;34m)\u001b[0m\u001b[0;34m\u001b[0m\u001b[0;34m\u001b[0m\u001b[0m\n\u001b[0m\u001b[1;32m    316\u001b[0m \u001b[0;34m\u001b[0m\u001b[0m\n\u001b[1;32m    317\u001b[0m     \u001b[0;32mdef\u001b[0m \u001b[0mget_next_color\u001b[0m\u001b[0;34m(\u001b[0m\u001b[0mself\u001b[0m\u001b[0;34m)\u001b[0m\u001b[0;34m:\u001b[0m\u001b[0;34m\u001b[0m\u001b[0;34m\u001b[0m\u001b[0m\n",
      "\u001b[0;32m~/opt/anaconda3/lib/python3.9/site-packages/matplotlib/axes/_base.py\u001b[0m in \u001b[0;36m_plot_args\u001b[0;34m(self, tup, kwargs, return_kwargs)\u001b[0m\n\u001b[1;32m    537\u001b[0m             \u001b[0;32mreturn\u001b[0m \u001b[0mlist\u001b[0m\u001b[0;34m(\u001b[0m\u001b[0mresult\u001b[0m\u001b[0;34m)\u001b[0m\u001b[0;34m\u001b[0m\u001b[0;34m\u001b[0m\u001b[0m\n\u001b[1;32m    538\u001b[0m         \u001b[0;32melse\u001b[0m\u001b[0;34m:\u001b[0m\u001b[0;34m\u001b[0m\u001b[0;34m\u001b[0m\u001b[0m\n\u001b[0;32m--> 539\u001b[0;31m             \u001b[0;32mreturn\u001b[0m \u001b[0;34m[\u001b[0m\u001b[0ml\u001b[0m\u001b[0;34m[\u001b[0m\u001b[0;36m0\u001b[0m\u001b[0;34m]\u001b[0m \u001b[0;32mfor\u001b[0m \u001b[0ml\u001b[0m \u001b[0;32min\u001b[0m \u001b[0mresult\u001b[0m\u001b[0;34m]\u001b[0m\u001b[0;34m\u001b[0m\u001b[0;34m\u001b[0m\u001b[0m\n\u001b[0m\u001b[1;32m    540\u001b[0m \u001b[0;34m\u001b[0m\u001b[0m\n\u001b[1;32m    541\u001b[0m \u001b[0;34m\u001b[0m\u001b[0m\n",
      "\u001b[0;32m~/opt/anaconda3/lib/python3.9/site-packages/matplotlib/axes/_base.py\u001b[0m in \u001b[0;36m<listcomp>\u001b[0;34m(.0)\u001b[0m\n\u001b[1;32m    537\u001b[0m             \u001b[0;32mreturn\u001b[0m \u001b[0mlist\u001b[0m\u001b[0;34m(\u001b[0m\u001b[0mresult\u001b[0m\u001b[0;34m)\u001b[0m\u001b[0;34m\u001b[0m\u001b[0;34m\u001b[0m\u001b[0m\n\u001b[1;32m    538\u001b[0m         \u001b[0;32melse\u001b[0m\u001b[0;34m:\u001b[0m\u001b[0;34m\u001b[0m\u001b[0;34m\u001b[0m\u001b[0m\n\u001b[0;32m--> 539\u001b[0;31m             \u001b[0;32mreturn\u001b[0m \u001b[0;34m[\u001b[0m\u001b[0ml\u001b[0m\u001b[0;34m[\u001b[0m\u001b[0;36m0\u001b[0m\u001b[0;34m]\u001b[0m \u001b[0;32mfor\u001b[0m \u001b[0ml\u001b[0m \u001b[0;32min\u001b[0m \u001b[0mresult\u001b[0m\u001b[0;34m]\u001b[0m\u001b[0;34m\u001b[0m\u001b[0;34m\u001b[0m\u001b[0m\n\u001b[0m\u001b[1;32m    540\u001b[0m \u001b[0;34m\u001b[0m\u001b[0m\n\u001b[1;32m    541\u001b[0m \u001b[0;34m\u001b[0m\u001b[0m\n",
      "\u001b[0;32m~/opt/anaconda3/lib/python3.9/site-packages/matplotlib/axes/_base.py\u001b[0m in \u001b[0;36m<genexpr>\u001b[0;34m(.0)\u001b[0m\n\u001b[1;32m    530\u001b[0m             \u001b[0mlabels\u001b[0m \u001b[0;34m=\u001b[0m \u001b[0;34m[\u001b[0m\u001b[0mlabel\u001b[0m\u001b[0;34m]\u001b[0m \u001b[0;34m*\u001b[0m \u001b[0mn_datasets\u001b[0m\u001b[0;34m\u001b[0m\u001b[0;34m\u001b[0m\u001b[0m\n\u001b[1;32m    531\u001b[0m \u001b[0;34m\u001b[0m\u001b[0m\n\u001b[0;32m--> 532\u001b[0;31m         result = (make_artist(x[:, j % ncx], y[:, j % ncy], kw,\n\u001b[0m\u001b[1;32m    533\u001b[0m                               {**kwargs, 'label': label})\n\u001b[1;32m    534\u001b[0m                   for j, label in enumerate(labels))\n",
      "\u001b[0;32m~/opt/anaconda3/lib/python3.9/site-packages/matplotlib/axes/_base.py\u001b[0m in \u001b[0;36m_makeline\u001b[0;34m(self, x, y, kw, kwargs)\u001b[0m\n\u001b[1;32m    352\u001b[0m         \u001b[0mdefault_dict\u001b[0m \u001b[0;34m=\u001b[0m \u001b[0mself\u001b[0m\u001b[0;34m.\u001b[0m\u001b[0m_getdefaults\u001b[0m\u001b[0;34m(\u001b[0m\u001b[0mset\u001b[0m\u001b[0;34m(\u001b[0m\u001b[0;34m)\u001b[0m\u001b[0;34m,\u001b[0m \u001b[0mkw\u001b[0m\u001b[0;34m)\u001b[0m\u001b[0;34m\u001b[0m\u001b[0;34m\u001b[0m\u001b[0m\n\u001b[1;32m    353\u001b[0m         \u001b[0mself\u001b[0m\u001b[0;34m.\u001b[0m\u001b[0m_setdefaults\u001b[0m\u001b[0;34m(\u001b[0m\u001b[0mdefault_dict\u001b[0m\u001b[0;34m,\u001b[0m \u001b[0mkw\u001b[0m\u001b[0;34m)\u001b[0m\u001b[0;34m\u001b[0m\u001b[0;34m\u001b[0m\u001b[0m\n\u001b[0;32m--> 354\u001b[0;31m         \u001b[0mseg\u001b[0m \u001b[0;34m=\u001b[0m \u001b[0mmlines\u001b[0m\u001b[0;34m.\u001b[0m\u001b[0mLine2D\u001b[0m\u001b[0;34m(\u001b[0m\u001b[0mx\u001b[0m\u001b[0;34m,\u001b[0m \u001b[0my\u001b[0m\u001b[0;34m,\u001b[0m \u001b[0;34m**\u001b[0m\u001b[0mkw\u001b[0m\u001b[0;34m)\u001b[0m\u001b[0;34m\u001b[0m\u001b[0;34m\u001b[0m\u001b[0m\n\u001b[0m\u001b[1;32m    355\u001b[0m         \u001b[0;32mreturn\u001b[0m \u001b[0mseg\u001b[0m\u001b[0;34m,\u001b[0m \u001b[0mkw\u001b[0m\u001b[0;34m\u001b[0m\u001b[0;34m\u001b[0m\u001b[0m\n\u001b[1;32m    356\u001b[0m \u001b[0;34m\u001b[0m\u001b[0m\n",
      "\u001b[0;32m~/opt/anaconda3/lib/python3.9/site-packages/matplotlib/lines.py\u001b[0m in \u001b[0;36m__init__\u001b[0;34m(self, xdata, ydata, linewidth, linestyle, color, marker, markersize, markeredgewidth, markeredgecolor, markerfacecolor, markerfacecoloralt, fillstyle, antialiased, dash_capstyle, solid_capstyle, dash_joinstyle, solid_joinstyle, pickradius, drawstyle, markevery, **kwargs)\u001b[0m\n\u001b[1;32m    395\u001b[0m         \u001b[0;31m# update kwargs before updating data to give the caller a\u001b[0m\u001b[0;34m\u001b[0m\u001b[0;34m\u001b[0m\u001b[0m\n\u001b[1;32m    396\u001b[0m         \u001b[0;31m# chance to init axes (and hence unit support)\u001b[0m\u001b[0;34m\u001b[0m\u001b[0;34m\u001b[0m\u001b[0m\n\u001b[0;32m--> 397\u001b[0;31m         \u001b[0mself\u001b[0m\u001b[0;34m.\u001b[0m\u001b[0mupdate\u001b[0m\u001b[0;34m(\u001b[0m\u001b[0mkwargs\u001b[0m\u001b[0;34m)\u001b[0m\u001b[0;34m\u001b[0m\u001b[0;34m\u001b[0m\u001b[0m\n\u001b[0m\u001b[1;32m    398\u001b[0m         \u001b[0mself\u001b[0m\u001b[0;34m.\u001b[0m\u001b[0mpickradius\u001b[0m \u001b[0;34m=\u001b[0m \u001b[0mpickradius\u001b[0m\u001b[0;34m\u001b[0m\u001b[0;34m\u001b[0m\u001b[0m\n\u001b[1;32m    399\u001b[0m         \u001b[0mself\u001b[0m\u001b[0;34m.\u001b[0m\u001b[0mind_offset\u001b[0m \u001b[0;34m=\u001b[0m \u001b[0;36m0\u001b[0m\u001b[0;34m\u001b[0m\u001b[0;34m\u001b[0m\u001b[0m\n",
      "\u001b[0;32m~/opt/anaconda3/lib/python3.9/site-packages/matplotlib/artist.py\u001b[0m in \u001b[0;36mupdate\u001b[0;34m(self, props)\u001b[0m\n\u001b[1;32m   1060\u001b[0m                     \u001b[0mfunc\u001b[0m \u001b[0;34m=\u001b[0m \u001b[0mgetattr\u001b[0m\u001b[0;34m(\u001b[0m\u001b[0mself\u001b[0m\u001b[0;34m,\u001b[0m \u001b[0;34mf\"set_{k}\"\u001b[0m\u001b[0;34m,\u001b[0m \u001b[0;32mNone\u001b[0m\u001b[0;34m)\u001b[0m\u001b[0;34m\u001b[0m\u001b[0;34m\u001b[0m\u001b[0m\n\u001b[1;32m   1061\u001b[0m                     \u001b[0;32mif\u001b[0m \u001b[0;32mnot\u001b[0m \u001b[0mcallable\u001b[0m\u001b[0;34m(\u001b[0m\u001b[0mfunc\u001b[0m\u001b[0;34m)\u001b[0m\u001b[0;34m:\u001b[0m\u001b[0;34m\u001b[0m\u001b[0;34m\u001b[0m\u001b[0m\n\u001b[0;32m-> 1062\u001b[0;31m                         raise AttributeError(f\"{type(self).__name__!r} object \"\n\u001b[0m\u001b[1;32m   1063\u001b[0m                                              f\"has no property {k!r}\")\n\u001b[1;32m   1064\u001b[0m                     \u001b[0mret\u001b[0m\u001b[0;34m.\u001b[0m\u001b[0mappend\u001b[0m\u001b[0;34m(\u001b[0m\u001b[0mfunc\u001b[0m\u001b[0;34m(\u001b[0m\u001b[0mv\u001b[0m\u001b[0;34m)\u001b[0m\u001b[0;34m)\u001b[0m\u001b[0;34m\u001b[0m\u001b[0;34m\u001b[0m\u001b[0m\n",
      "\u001b[0;31mAttributeError\u001b[0m: 'Line2D' object has no property 'col'"
     ]
    },
    {
     "data": {
      "image/png": "[encoded data removed]",
      "text/plain": [
       "<Figure size 864x576 with 1 Axes>"
      ]
     },
     "metadata": {
      "needs_background": "light"
     },
     "output_type": "display_data"
    }
   ],
   "source": [
    "# Add a facetgrid\n",
    "# Cannot do that with lineplot\n",
    "plt.figure(figsize=(12,8))\n",
    "sns.lineplot(data=vaccines, x='week', y='first', ci = None, estimator = 'sum', hue = 'jurisdiction',col='month')\n",
    "plt.xticks(vaccines.week)\n",
    "plt.show()"
   ]
  },
  {
   "cell_type": "code",
   "execution_count": 49,
   "id": "d05e2e84",
   "metadata": {},
   "outputs": [
    {
     "data": {
      "text/plain": [
       "<Figure size 864x576 with 0 Axes>"
      ]
     },
     "metadata": {},
     "output_type": "display_data"
    },
    {
     "data": {
      "image/png": "[encoded data removed]",
      "text/plain": [
       "<Figure size 834.875x720 with 4 Axes>"
      ]
     },
     "metadata": {
      "needs_background": "light"
     },
     "output_type": "display_data"
    }
   ],
   "source": [
    "plt.figure(figsize=(12,8))\n",
    "sns.relplot(data=vaccines, x='week', y='first', ci = None, estimator = 'sum', \n",
    "            hue = 'jurisdiction',col='month', kind = 'line',\n",
    "           col_wrap = 2)\n",
    "plt.xticks(vaccines.week)\n",
    "plt.show()"
   ]
  },
  {
   "cell_type": "code",
   "execution_count": 50,
   "id": "c1ce8aaa",
   "metadata": {},
   "outputs": [
    {
     "data": {
      "image/png": "[encoded data removed]",
      "text/plain": [
       "<Figure size 864x576 with 1 Axes>"
      ]
     },
     "metadata": {
      "needs_background": "light"
     },
     "output_type": "display_data"
    }
   ],
   "source": [
    "# Change month to week\n",
    "plt.figure(figsize=(12,8))\n",
    "sns.lineplot(data=vaccines, x='week', y='first', ci = None, estimator = 'sum')\n",
    "plt.xticks(vaccines.week)\n",
    "plt.show()"
   ]
  },
  {
   "cell_type": "code",
   "execution_count": 51,
   "id": "078efa73",
   "metadata": {},
   "outputs": [
    {
     "data": {
      "image/png": "[encoded data removed]",
      "text/plain": [
       "<Figure size 1080x720 with 1 Axes>"
      ]
     },
     "metadata": {
      "needs_background": "light"
     },
     "output_type": "display_data"
    }
   ],
   "source": [
    "fig, ax1 = plt.subplots(figsize=(15, 10))\n",
    "sns.lineplot(data=vaccines, x='week', y='first', ci = None, estimator = 'sum')\n",
    "sns.lineplot(data=vaccines, x='week', y='second', ci = None, estimator = 'sum')\n",
    "plt.xticks(vaccines.week)\n",
    "plt.show()"
   ]
  },
  {
   "cell_type": "code",
   "execution_count": 52,
   "id": "f750ad4d",
   "metadata": {},
   "outputs": [
    {
     "data": {
      "text/plain": [
       "Index(['jurisdiction', 'week_of_allocations', 'first', 'second', 'month',\n",
       "       'week'],\n",
       "      dtype='object')"
      ]
     },
     "execution_count": 52,
     "metadata": {},
     "output_type": "execute_result"
    }
   ],
   "source": [
    "vaccines.columns"
   ]
  },
  {
   "cell_type": "code",
   "execution_count": 53,
   "id": "950b45f3",
   "metadata": {},
   "outputs": [
    {
     "data": {
      "text/html": [
       "<div>\n",
       "<style scoped>\n",
       "    .dataframe tbody tr th:only-of-type {\n",
       "        vertical-align: middle;\n",
       "    }\n",
       "\n",
       "    .dataframe tbody tr th {\n",
       "        vertical-align: top;\n",
       "    }\n",
       "\n",
       "    .dataframe thead th {\n",
       "        text-align: right;\n",
       "    }\n",
       "</style>\n",
       "<table border=\"1\" class=\"dataframe\">\n",
       "  <thead>\n",
       "    <tr style=\"text-align: right;\">\n",
       "      <th></th>\n",
       "      <th>jurisdiction</th>\n",
       "      <th>week_of_allocations</th>\n",
       "      <th>month</th>\n",
       "      <th>week</th>\n",
       "      <th>allocation</th>\n",
       "      <th>dist</th>\n",
       "    </tr>\n",
       "  </thead>\n",
       "  <tbody>\n",
       "    <tr>\n",
       "      <th>0</th>\n",
       "      <td>Massachusetts</td>\n",
       "      <td>2021-06-21T00:00:00.000</td>\n",
       "      <td>6</td>\n",
       "      <td>25</td>\n",
       "      <td>first</td>\n",
       "      <td>104580.0</td>\n",
       "    </tr>\n",
       "    <tr>\n",
       "      <th>42</th>\n",
       "      <td>Massachusetts</td>\n",
       "      <td>2021-03-15T00:00:00.000</td>\n",
       "      <td>3</td>\n",
       "      <td>11</td>\n",
       "      <td>first</td>\n",
       "      <td>93600.0</td>\n",
       "    </tr>\n",
       "    <tr>\n",
       "      <th>24</th>\n",
       "      <td>Massachusetts</td>\n",
       "      <td>2021-04-26T00:00:00.000</td>\n",
       "      <td>4</td>\n",
       "      <td>17</td>\n",
       "      <td>first</td>\n",
       "      <td>105300.0</td>\n",
       "    </tr>\n",
       "    <tr>\n",
       "      <th>54</th>\n",
       "      <td>Massachusetts</td>\n",
       "      <td>2021-06-07T00:00:00.000</td>\n",
       "      <td>6</td>\n",
       "      <td>23</td>\n",
       "      <td>second</td>\n",
       "      <td>125496.0</td>\n",
       "    </tr>\n",
       "    <tr>\n",
       "      <th>27</th>\n",
       "      <td>Massachusetts</td>\n",
       "      <td>2021-04-19T00:00:00.000</td>\n",
       "      <td>4</td>\n",
       "      <td>16</td>\n",
       "      <td>first</td>\n",
       "      <td>105300.0</td>\n",
       "    </tr>\n",
       "    <tr>\n",
       "      <th>51</th>\n",
       "      <td>Massachusetts</td>\n",
       "      <td>2021-06-14T00:00:00.000</td>\n",
       "      <td>6</td>\n",
       "      <td>24</td>\n",
       "      <td>second</td>\n",
       "      <td>125496.0</td>\n",
       "    </tr>\n",
       "    <tr>\n",
       "      <th>84</th>\n",
       "      <td>Massachusetts</td>\n",
       "      <td>2021-03-29T00:00:00.000</td>\n",
       "      <td>3</td>\n",
       "      <td>13</td>\n",
       "      <td>second</td>\n",
       "      <td>140400.0</td>\n",
       "    </tr>\n",
       "    <tr>\n",
       "      <th>30</th>\n",
       "      <td>Massachusetts</td>\n",
       "      <td>2021-04-12T00:00:00.000</td>\n",
       "      <td>4</td>\n",
       "      <td>15</td>\n",
       "      <td>first</td>\n",
       "      <td>97110.0</td>\n",
       "    </tr>\n",
       "    <tr>\n",
       "      <th>78</th>\n",
       "      <td>Massachusetts</td>\n",
       "      <td>2021-04-12T00:00:00.000</td>\n",
       "      <td>4</td>\n",
       "      <td>15</td>\n",
       "      <td>second</td>\n",
       "      <td>116532.0</td>\n",
       "    </tr>\n",
       "    <tr>\n",
       "      <th>33</th>\n",
       "      <td>Massachusetts</td>\n",
       "      <td>2021-04-05T00:00:00.000</td>\n",
       "      <td>4</td>\n",
       "      <td>14</td>\n",
       "      <td>first</td>\n",
       "      <td>95940.0</td>\n",
       "    </tr>\n",
       "    <tr>\n",
       "      <th>48</th>\n",
       "      <td>Massachusetts</td>\n",
       "      <td>2021-06-21T00:00:00.000</td>\n",
       "      <td>6</td>\n",
       "      <td>25</td>\n",
       "      <td>second</td>\n",
       "      <td>125496.0</td>\n",
       "    </tr>\n",
       "    <tr>\n",
       "      <th>69</th>\n",
       "      <td>Massachusetts</td>\n",
       "      <td>2021-05-03T00:00:00.000</td>\n",
       "      <td>5</td>\n",
       "      <td>18</td>\n",
       "      <td>second</td>\n",
       "      <td>126360.0</td>\n",
       "    </tr>\n",
       "    <tr>\n",
       "      <th>36</th>\n",
       "      <td>Massachusetts</td>\n",
       "      <td>2021-03-29T00:00:00.000</td>\n",
       "      <td>3</td>\n",
       "      <td>13</td>\n",
       "      <td>first</td>\n",
       "      <td>117000.0</td>\n",
       "    </tr>\n",
       "    <tr>\n",
       "      <th>81</th>\n",
       "      <td>Massachusetts</td>\n",
       "      <td>2021-04-05T00:00:00.000</td>\n",
       "      <td>4</td>\n",
       "      <td>14</td>\n",
       "      <td>second</td>\n",
       "      <td>115128.0</td>\n",
       "    </tr>\n",
       "    <tr>\n",
       "      <th>39</th>\n",
       "      <td>Massachusetts</td>\n",
       "      <td>2021-03-22T00:00:00.000</td>\n",
       "      <td>3</td>\n",
       "      <td>12</td>\n",
       "      <td>first</td>\n",
       "      <td>95940.0</td>\n",
       "    </tr>\n",
       "    <tr>\n",
       "      <th>45</th>\n",
       "      <td>Massachusetts</td>\n",
       "      <td>2021-03-08T00:00:00.000</td>\n",
       "      <td>3</td>\n",
       "      <td>10</td>\n",
       "      <td>first</td>\n",
       "      <td>87750.0</td>\n",
       "    </tr>\n",
       "    <tr>\n",
       "      <th>87</th>\n",
       "      <td>Massachusetts</td>\n",
       "      <td>2021-03-22T00:00:00.000</td>\n",
       "      <td>3</td>\n",
       "      <td>12</td>\n",
       "      <td>second</td>\n",
       "      <td>115128.0</td>\n",
       "    </tr>\n",
       "    <tr>\n",
       "      <th>57</th>\n",
       "      <td>Massachusetts</td>\n",
       "      <td>2021-05-31T00:00:00.000</td>\n",
       "      <td>5</td>\n",
       "      <td>22</td>\n",
       "      <td>second</td>\n",
       "      <td>125496.0</td>\n",
       "    </tr>\n",
       "    <tr>\n",
       "      <th>21</th>\n",
       "      <td>Massachusetts</td>\n",
       "      <td>2021-05-03T00:00:00.000</td>\n",
       "      <td>5</td>\n",
       "      <td>18</td>\n",
       "      <td>first</td>\n",
       "      <td>105300.0</td>\n",
       "    </tr>\n",
       "    <tr>\n",
       "      <th>12</th>\n",
       "      <td>Massachusetts</td>\n",
       "      <td>2021-05-24T00:00:00.000</td>\n",
       "      <td>5</td>\n",
       "      <td>21</td>\n",
       "      <td>first</td>\n",
       "      <td>105300.0</td>\n",
       "    </tr>\n",
       "  </tbody>\n",
       "</table>\n",
       "</div>"
      ],
      "text/plain": [
       "     jurisdiction      week_of_allocations  month  week allocation      dist\n",
       "0   Massachusetts  2021-06-21T00:00:00.000      6    25      first  104580.0\n",
       "42  Massachusetts  2021-03-15T00:00:00.000      3    11      first   93600.0\n",
       "24  Massachusetts  2021-04-26T00:00:00.000      4    17      first  105300.0\n",
       "54  Massachusetts  2021-06-07T00:00:00.000      6    23     second  125496.0\n",
       "27  Massachusetts  2021-04-19T00:00:00.000      4    16      first  105300.0\n",
       "51  Massachusetts  2021-06-14T00:00:00.000      6    24     second  125496.0\n",
       "84  Massachusetts  2021-03-29T00:00:00.000      3    13     second  140400.0\n",
       "30  Massachusetts  2021-04-12T00:00:00.000      4    15      first   97110.0\n",
       "78  Massachusetts  2021-04-12T00:00:00.000      4    15     second  116532.0\n",
       "33  Massachusetts  2021-04-05T00:00:00.000      4    14      first   95940.0\n",
       "48  Massachusetts  2021-06-21T00:00:00.000      6    25     second  125496.0\n",
       "69  Massachusetts  2021-05-03T00:00:00.000      5    18     second  126360.0\n",
       "36  Massachusetts  2021-03-29T00:00:00.000      3    13      first  117000.0\n",
       "81  Massachusetts  2021-04-05T00:00:00.000      4    14     second  115128.0\n",
       "39  Massachusetts  2021-03-22T00:00:00.000      3    12      first   95940.0\n",
       "45  Massachusetts  2021-03-08T00:00:00.000      3    10      first   87750.0\n",
       "87  Massachusetts  2021-03-22T00:00:00.000      3    12     second  115128.0\n",
       "57  Massachusetts  2021-05-31T00:00:00.000      5    22     second  125496.0\n",
       "21  Massachusetts  2021-05-03T00:00:00.000      5    18      first  105300.0\n",
       "12  Massachusetts  2021-05-24T00:00:00.000      5    21      first  105300.0"
      ]
     },
     "execution_count": 53,
     "metadata": {},
     "output_type": "execute_result"
    }
   ],
   "source": [
    "v_long = vaccines.melt(id_vars=['jurisdiction', 'week_of_allocations','month','week'], \n",
    "                          var_name = 'allocation', value_name='dist').sort_values(by = 'jurisdiction')\n",
    "v_long.head(20)"
   ]
  },
  {
   "cell_type": "code",
   "execution_count": 54,
   "id": "880888d6",
   "metadata": {},
   "outputs": [
    {
     "data": {
      "image/png": "[encoded data removed]",
      "text/plain": [
       "<Figure size 864x576 with 1 Axes>"
      ]
     },
     "metadata": {
      "needs_background": "light"
     },
     "output_type": "display_data"
    }
   ],
   "source": [
    "plt.figure(figsize=(12,8))\n",
    "sns.lineplot(data=v_long, x='week', y='dist', ci = None, estimator = 'sum', hue = 'allocation')\n",
    "plt.xticks(v_long.week)\n",
    "plt.show()"
   ]
  },
  {
   "cell_type": "code",
   "execution_count": null,
   "id": "d849f373",
   "metadata": {},
   "outputs": [],
   "source": []
  }
 ],
 "metadata": {
  "kernelspec": {
   "display_name": "Python 3 (ipykernel)",
   "language": "python",
   "name": "python3"
  },
  "language_info": {
   "codemirror_mode": {
    "name": "ipython",
    "version": 3
   },
   "file_extension": ".py",
   "mimetype": "text/x-python",
   "name": "python",
   "nbconvert_exporter": "python",
   "pygments_lexer": "ipython3",
   "version": "3.9.7"
  },
  "varInspector": {
   "cols": {
    "lenName": 16,
    "lenType": 16,
    "lenVar": 40
   },
   "kernels_config": {
    "python": {
     "delete_cmd_postfix": "",
     "delete_cmd_prefix": "del ",
     "library": "var_list.py",
     "varRefreshCmd": "print(var_dic_list())"
    },
    "r": {
     "delete_cmd_postfix": ") ",
     "delete_cmd_prefix": "rm(",
     "library": "var_list.r",
     "varRefreshCmd": "cat(var_dic_list()) "
    }
   },
   "types_to_exclude": [
    "module",
    "function",
    "builtin_function_or_method",
    "instance",
    "_Feature"
   ],
   "window_display": false
  }
 },
 "nbformat": 4,
 "nbformat_minor": 5
}
