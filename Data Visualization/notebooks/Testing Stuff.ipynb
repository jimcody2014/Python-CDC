{
 "cells": [
  {
   "cell_type": "code",
   "execution_count": null,
   "id": "decfaf94",
   "metadata": {},
   "outputs": [],
   "source": [
    "import numpy as py\n",
    "import pandas as pd\n",
    "import matplotlib.pyplot as plt\n",
    "import seaborn as sns\n",
    "\n",
    "%matplotlib inline    \n",
    "# %matplotlib is a magic function in IPython.\n",
    "\n",
    "df = sns.load_dataset(\"diamonds\")\n",
    "diamonds = sns.load_dataset(\"diamonds\")\n",
    "tips = sns.load_dataset(\"tips\")\n",
    "penguins = sns.load_dataset(\"penguins\")\n",
    "flights = sns.load_dataset(\"flights\")"
   ]
  },
  {
   "cell_type": "code",
   "execution_count": null,
   "id": "dffe1d0c",
   "metadata": {},
   "outputs": [],
   "source": [
    "df.columns"
   ]
  },
  {
   "cell_type": "code",
   "execution_count": null,
   "id": "8f1e2c52",
   "metadata": {},
   "outputs": [],
   "source": [
    "# Exercise data\n",
    "data = {'ME': 109,\n",
    "        'NH': 103,\n",
    "        'VT': 112,\n",
    "        'MA': 112,\n",
    "        'CT': 100,\n",
    "        'RI': 103,\n",
    "        'NY': 137,\n",
    "        'NY': 123,\n",
    "        'PA': 135,\n",
    "        'OH': 104,\n",
    "        'ME': 199,\n",
    "        'NH': 183,\n",
    "        'VT': 142,}\n",
    "food_illness = list(data.values())\n",
    "state = list(data.keys())\n",
    "state_mean = np.mean(food_illness)\n",
    "\n",
    "fig = plt.figure(figsize = (12,4))\n",
    "ax = fig.add_axes([0,0,1,1])\n",
    "ax.bar(state,food_illness, color = 'g')"
   ]
  },
  {
   "cell_type": "code",
   "execution_count": 10,
   "id": "e93a49b4",
   "metadata": {},
   "outputs": [
    {
     "data": {
      "text/plain": [
       "[<matplotlib.lines.Line2D at 0x7fbdfe4ef9d0>]"
      ]
     },
     "execution_count": 10,
     "metadata": {},
     "output_type": "execute_result"
    },
    {
     "data": {
      "image/png": "[encoded data removed]",
      "text/plain": [
       "<Figure size 864x288 with 1 Axes>"
      ]
     },
     "metadata": {
      "needs_background": "light"
     },
     "output_type": "display_data"
    }
   ],
   "source": [
    "fig = plt.figure(figsize = (12,4))\n",
    "ax = fig.add_axes([0,0,1,1])\n",
    "ax.plot(df.cut,df.price, color = 'g')"
   ]
  },
  {
   "cell_type": "code",
   "execution_count": null,
   "id": "e33aa313",
   "metadata": {},
   "outputs": [],
   "source": []
  }
 ],
 "metadata": {
  "kernelspec": {
   "display_name": "Python 3 (ipykernel)",
   "language": "python",
   "name": "python3"
  },
  "language_info": {
   "codemirror_mode": {
    "name": "ipython",
    "version": 3
   },
   "file_extension": ".py",
   "mimetype": "text/x-python",
   "name": "python",
   "nbconvert_exporter": "python",
   "pygments_lexer": "ipython3",
   "version": "3.9.7"
  },
  "varInspector": {
   "cols": {
    "lenName": 16,
    "lenType": 16,
    "lenVar": 40
   },
   "kernels_config": {
    "python": {
     "delete_cmd_postfix": "",
     "delete_cmd_prefix": "del ",
     "library": "var_list.py",
     "varRefreshCmd": "print(var_dic_list())"
    },
    "r": {
     "delete_cmd_postfix": ") ",
     "delete_cmd_prefix": "rm(",
     "library": "var_list.r",
     "varRefreshCmd": "cat(var_dic_list()) "
    }
   },
   "types_to_exclude": [
    "module",
    "function",
    "builtin_function_or_method",
    "instance",
    "_Feature"
   ],
   "window_display": false
  }
 },
 "nbformat": 4,
 "nbformat_minor": 5
}
