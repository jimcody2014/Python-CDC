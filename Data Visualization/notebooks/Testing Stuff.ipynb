{
 "cells": [
  {
   "cell_type": "code",
   "execution_count": null,
   "id": "decfaf94",
   "metadata": {},
   "outputs": [],
   "source": [
    "import numpy as py\n",
    "import pandas as pd\n",
    "import matplotlib.pyplot as plt\n",
    "import seaborn as sns\n",
    "\n",
    "%matplotlib inline    \n",
    "# %matplotlib is a magic function in IPython.\n",
    "\n",
    "df = sns.load_dataset(\"diamonds\")\n",
    "diamonds = sns.load_dataset(\"diamonds\")\n",
    "tips = sns.load_dataset(\"tips\")\n",
    "penguins = sns.load_dataset(\"penguins\")\n",
    "flights = sns.load_dataset(\"flights\")"
   ]
  },
  {
   "cell_type": "code",
   "execution_count": null,
   "id": "dffe1d0c",
   "metadata": {},
   "outputs": [],
   "source": [
    "df.columns"
   ]
  },
  {
   "cell_type": "code",
   "execution_count": null,
   "id": "8f1e2c52",
   "metadata": {},
   "outputs": [],
   "source": [
    "# Exercise data\n",
    "data = {'ME': 109,\n",
    "        'NH': 103,\n",
    "        'VT': 112,\n",
    "        'MA': 112,\n",
    "        'CT': 100,\n",
    "        'RI': 103,\n",
    "        'NY': 137,\n",
    "        'NY': 123,\n",
    "        'PA': 135,\n",
    "        'OH': 104,\n",
    "        'ME': 199,\n",
    "        'NH': 183,\n",
    "        'VT': 142,}\n",
    "food_illness = list(data.values())\n",
    "state = list(data.keys())\n",
    "state_mean = np.mean(food_illness)\n",
    "\n",
    "fig = plt.figure(figsize = (12,4))\n",
    "ax = fig.add_axes([0,0,1,1])\n",
    "ax.bar(state,food_illness, color = 'g')"
   ]
  },
  {
   "cell_type": "code",
   "execution_count": null,
   "id": "e93a49b4",
   "metadata": {},
   "outputs": [],
   "source": [
    "fig = plt.figure(figsize = (12,4))\n",
    "ax = fig.add_axes([0,0,1,1])\n",
    "ax.plot(df.cut,df.price, color = 'g')"
   ]
  },
  {
   "cell_type": "markdown",
   "id": "e7e7151d",
   "metadata": {},
   "source": [
    "# Using GroupBy with CDC data"
   ]
  },
  {
   "cell_type": "code",
   "execution_count": 123,
   "id": "90bc716e",
   "metadata": {},
   "outputs": [
    {
     "name": "stderr",
     "output_type": "stream",
     "text": [
      "/var/folders/bg/jzzhjp857hv08kcqg3jdptcr0000gn/T/ipykernel_8636/2826745272.py:14: FutureWarning: Series.dt.weekofyear and Series.dt.week have been deprecated. Please use Series.dt.isocalendar().week instead.\n",
      "  vaccines['week'] =  pd.to_datetime(vaccines['week_of_allocations']).dt.week\n"
     ]
    },
    {
     "data": {
      "text/html": [
       "<div>\n",
       "<style scoped>\n",
       "    .dataframe tbody tr th:only-of-type {\n",
       "        vertical-align: middle;\n",
       "    }\n",
       "\n",
       "    .dataframe tbody tr th {\n",
       "        vertical-align: top;\n",
       "    }\n",
       "\n",
       "    .dataframe thead th {\n",
       "        text-align: right;\n",
       "    }\n",
       "</style>\n",
       "<table border=\"1\" class=\"dataframe\">\n",
       "  <thead>\n",
       "    <tr style=\"text-align: right;\">\n",
       "      <th></th>\n",
       "      <th>jurisdiction</th>\n",
       "      <th>week_of_allocations</th>\n",
       "      <th>_1st_dose_allocations</th>\n",
       "      <th>_2nd_dose_allocations</th>\n",
       "      <th>month</th>\n",
       "      <th>week</th>\n",
       "    </tr>\n",
       "  </thead>\n",
       "  <tbody>\n",
       "    <tr>\n",
       "      <th>0</th>\n",
       "      <td>Connecticut</td>\n",
       "      <td>2021-06-21T00:00:00.000</td>\n",
       "      <td>54360</td>\n",
       "      <td>54360</td>\n",
       "      <td>6</td>\n",
       "      <td>25</td>\n",
       "    </tr>\n",
       "    <tr>\n",
       "      <th>1</th>\n",
       "      <td>Maine</td>\n",
       "      <td>2021-06-21T00:00:00.000</td>\n",
       "      <td>21420</td>\n",
       "      <td>21420</td>\n",
       "      <td>6</td>\n",
       "      <td>25</td>\n",
       "    </tr>\n",
       "    <tr>\n",
       "      <th>2</th>\n",
       "      <td>Massachusetts</td>\n",
       "      <td>2021-06-21T00:00:00.000</td>\n",
       "      <td>104580</td>\n",
       "      <td>104580</td>\n",
       "      <td>6</td>\n",
       "      <td>25</td>\n",
       "    </tr>\n",
       "    <tr>\n",
       "      <th>3</th>\n",
       "      <td>New Hampshire</td>\n",
       "      <td>2021-06-21T00:00:00.000</td>\n",
       "      <td>21420</td>\n",
       "      <td>21420</td>\n",
       "      <td>6</td>\n",
       "      <td>25</td>\n",
       "    </tr>\n",
       "    <tr>\n",
       "      <th>4</th>\n",
       "      <td>Rhode Island</td>\n",
       "      <td>2021-06-21T00:00:00.000</td>\n",
       "      <td>17280</td>\n",
       "      <td>17280</td>\n",
       "      <td>6</td>\n",
       "      <td>25</td>\n",
       "    </tr>\n",
       "    <tr>\n",
       "      <th>...</th>\n",
       "      <td>...</td>\n",
       "      <td>...</td>\n",
       "      <td>...</td>\n",
       "      <td>...</td>\n",
       "      <td>...</td>\n",
       "      <td>...</td>\n",
       "    </tr>\n",
       "    <tr>\n",
       "      <th>995</th>\n",
       "      <td>Hawaii</td>\n",
       "      <td>2021-03-08T00:00:00.000</td>\n",
       "      <td>18720</td>\n",
       "      <td>18720</td>\n",
       "      <td>3</td>\n",
       "      <td>10</td>\n",
       "    </tr>\n",
       "    <tr>\n",
       "      <th>996</th>\n",
       "      <td>Nevada</td>\n",
       "      <td>2021-03-08T00:00:00.000</td>\n",
       "      <td>36270</td>\n",
       "      <td>36270</td>\n",
       "      <td>3</td>\n",
       "      <td>10</td>\n",
       "    </tr>\n",
       "    <tr>\n",
       "      <th>997</th>\n",
       "      <td>American Samoa</td>\n",
       "      <td>2021-03-08T00:00:00.000</td>\n",
       "      <td>0</td>\n",
       "      <td>0</td>\n",
       "      <td>3</td>\n",
       "      <td>10</td>\n",
       "    </tr>\n",
       "    <tr>\n",
       "      <th>998</th>\n",
       "      <td>Guam</td>\n",
       "      <td>2021-03-08T00:00:00.000</td>\n",
       "      <td>0</td>\n",
       "      <td>0</td>\n",
       "      <td>3</td>\n",
       "      <td>10</td>\n",
       "    </tr>\n",
       "    <tr>\n",
       "      <th>999</th>\n",
       "      <td>Marshall Islands</td>\n",
       "      <td>2021-03-08T00:00:00.000</td>\n",
       "      <td>0</td>\n",
       "      <td>0</td>\n",
       "      <td>3</td>\n",
       "      <td>10</td>\n",
       "    </tr>\n",
       "  </tbody>\n",
       "</table>\n",
       "<p>1000 rows × 6 columns</p>\n",
       "</div>"
      ],
      "text/plain": [
       "         jurisdiction      week_of_allocations _1st_dose_allocations  \\\n",
       "0         Connecticut  2021-06-21T00:00:00.000                 54360   \n",
       "1               Maine  2021-06-21T00:00:00.000                 21420   \n",
       "2       Massachusetts  2021-06-21T00:00:00.000                104580   \n",
       "3       New Hampshire  2021-06-21T00:00:00.000                 21420   \n",
       "4        Rhode Island  2021-06-21T00:00:00.000                 17280   \n",
       "..                ...                      ...                   ...   \n",
       "995            Hawaii  2021-03-08T00:00:00.000                 18720   \n",
       "996            Nevada  2021-03-08T00:00:00.000                 36270   \n",
       "997    American Samoa  2021-03-08T00:00:00.000                     0   \n",
       "998              Guam  2021-03-08T00:00:00.000                     0   \n",
       "999  Marshall Islands  2021-03-08T00:00:00.000                     0   \n",
       "\n",
       "    _2nd_dose_allocations  month  week  \n",
       "0                   54360      6    25  \n",
       "1                   21420      6    25  \n",
       "2                  104580      6    25  \n",
       "3                   21420      6    25  \n",
       "4                   17280      6    25  \n",
       "..                    ...    ...   ...  \n",
       "995                 18720      3    10  \n",
       "996                 36270      3    10  \n",
       "997                     0      3    10  \n",
       "998                     0      3    10  \n",
       "999                     0      3    10  \n",
       "\n",
       "[1000 rows x 6 columns]"
      ]
     },
     "execution_count": 123,
     "metadata": {},
     "output_type": "execute_result"
    }
   ],
   "source": [
    "import requests\n",
    "import numpy as py\n",
    "import pandas as pd\n",
    "import matplotlib.pyplot as plt\n",
    "import seaborn as sns\n",
    "\n",
    "\n",
    "response = requests.get(\"https://data.cdc.gov/resource/saz5-9hgg.json\")\n",
    "jsonhold = response.json()\n",
    "\n",
    "vaccines = pd.DataFrame(jsonhold)\n",
    "\n",
    "vaccines['month'] = pd.to_datetime(vaccines['week_of_allocations']).dt.month\n",
    "vaccines['week'] =  pd.to_datetime(vaccines['week_of_allocations']).dt.week\n",
    "vaccines"
   ]
  },
  {
   "cell_type": "code",
   "execution_count": 124,
   "id": "e381e1fa",
   "metadata": {},
   "outputs": [
    {
     "name": "stdout",
     "output_type": "stream",
     "text": [
      "<class 'pandas.core.frame.DataFrame'>\n",
      "RangeIndex: 1000 entries, 0 to 999\n",
      "Data columns (total 6 columns):\n",
      " #   Column                 Non-Null Count  Dtype \n",
      "---  ------                 --------------  ----- \n",
      " 0   jurisdiction           1000 non-null   object\n",
      " 1   week_of_allocations    1000 non-null   object\n",
      " 2   _1st_dose_allocations  1000 non-null   object\n",
      " 3   _2nd_dose_allocations  1000 non-null   object\n",
      " 4   month                  1000 non-null   int64 \n",
      " 5   week                   1000 non-null   int64 \n",
      "dtypes: int64(2), object(4)\n",
      "memory usage: 47.0+ KB\n"
     ]
    }
   ],
   "source": [
    "vaccines.info()"
   ]
  },
  {
   "cell_type": "code",
   "execution_count": 125,
   "id": "b697ba37",
   "metadata": {},
   "outputs": [
    {
     "name": "stdout",
     "output_type": "stream",
     "text": [
      "<class 'pandas.core.frame.DataFrame'>\n",
      "RangeIndex: 1000 entries, 0 to 999\n",
      "Data columns (total 6 columns):\n",
      " #   Column               Non-Null Count  Dtype  \n",
      "---  ------               --------------  -----  \n",
      " 0   jurisdiction         1000 non-null   object \n",
      " 1   week_of_allocations  1000 non-null   object \n",
      " 2   first                1000 non-null   int64  \n",
      " 3   second               1000 non-null   float64\n",
      " 4   month                1000 non-null   int64  \n",
      " 5   week                 1000 non-null   int64  \n",
      "dtypes: float64(1), int64(3), object(2)\n",
      "memory usage: 47.0+ KB\n"
     ]
    }
   ],
   "source": [
    "vaccines['_1st_dose_allocations'] = pd.to_numeric(vaccines['_1st_dose_allocations']).astype(int)\n",
    "vaccines['_2nd_dose_allocations'] = pd.to_numeric(vaccines['_2nd_dose_allocations']).astype(int)\n",
    "vaccines['_2nd_dose_allocations'] = vaccines._2nd_dose_allocations*1.2\n",
    "\n",
    "\n",
    "short_names = {'_1st_dose_allocations':'first',\n",
    "               '_2nd_dose_allocations':'second'}\n",
    "vaccines.rename(columns=short_names, inplace=True)\n",
    "               \n",
    "vaccines.info()"
   ]
  },
  {
   "cell_type": "code",
   "execution_count": 126,
   "id": "8d9b04cd",
   "metadata": {},
   "outputs": [
    {
     "data": {
      "text/plain": [
       "array(['Connecticut', 'Maine', 'Massachusetts', 'New Hampshire',\n",
       "       'Rhode Island', 'Vermont', 'New Jersey', 'New York',\n",
       "       'New York City', 'Puerto Rico', 'U.S. Virgin Islands', 'Delaware',\n",
       "       'District of Columbia', 'Maryland', 'Pennsylvania', 'Philadelphia',\n",
       "       'Virginia', 'West Virginia', 'Alabama', 'Florida', 'Georgia',\n",
       "       'Kentucky', 'Mississippi', 'North Carolina', 'South Carolina',\n",
       "       'Tennessee', 'Chicago', 'Illinois', 'Indiana', 'Michigan',\n",
       "       'Minnesota', 'Ohio', 'Wisconsin', 'Arkansas', 'Louisiana',\n",
       "       'New Mexico', 'Oklahoma', 'Texas', 'Iowa', 'Kansas', 'Missouri',\n",
       "       'Nebraska', 'Colorado', 'Montana', 'North Dakota', 'South Dakota',\n",
       "       'Utah', 'Wyoming', 'Arizona', 'California', 'Hawaii', 'Nevada',\n",
       "       'American Samoa', 'Guam', 'Marshall Islands', 'Micronesia',\n",
       "       'Mariana Islands', 'Palau', 'Alaska', 'Idaho', 'Oregon',\n",
       "       'Washington', 'Federal Entities'], dtype=object)"
      ]
     },
     "execution_count": 126,
     "metadata": {},
     "output_type": "execute_result"
    }
   ],
   "source": [
    "vaccines.jurisdiction.unique()"
   ]
  },
  {
   "cell_type": "code",
   "execution_count": 127,
   "id": "57b30769",
   "metadata": {},
   "outputs": [
    {
     "data": {
      "text/plain": [
       "(48, 6)"
      ]
     },
     "execution_count": 127,
     "metadata": {},
     "output_type": "execute_result"
    }
   ],
   "source": [
    "vaccines = vaccines[vaccines.jurisdiction.isin(['Massachusetts','New Hampshire', 'Rhode Island'])]\n",
    "vaccines.shape"
   ]
  },
  {
   "cell_type": "code",
   "execution_count": 128,
   "id": "85bdf959",
   "metadata": {},
   "outputs": [
    {
     "data": {
      "text/html": [
       "<div>\n",
       "<style scoped>\n",
       "    .dataframe tbody tr th:only-of-type {\n",
       "        vertical-align: middle;\n",
       "    }\n",
       "\n",
       "    .dataframe tbody tr th {\n",
       "        vertical-align: top;\n",
       "    }\n",
       "\n",
       "    .dataframe thead th {\n",
       "        text-align: right;\n",
       "    }\n",
       "</style>\n",
       "<table border=\"1\" class=\"dataframe\">\n",
       "  <thead>\n",
       "    <tr style=\"text-align: right;\">\n",
       "      <th></th>\n",
       "      <th>jurisdiction</th>\n",
       "      <th>week_of_allocations</th>\n",
       "      <th>first</th>\n",
       "      <th>second</th>\n",
       "      <th>month</th>\n",
       "      <th>week</th>\n",
       "    </tr>\n",
       "  </thead>\n",
       "  <tbody>\n",
       "    <tr>\n",
       "      <th>2</th>\n",
       "      <td>Massachusetts</td>\n",
       "      <td>2021-06-21T00:00:00.000</td>\n",
       "      <td>104580</td>\n",
       "      <td>125496.0</td>\n",
       "      <td>6</td>\n",
       "      <td>25</td>\n",
       "    </tr>\n",
       "    <tr>\n",
       "      <th>3</th>\n",
       "      <td>New Hampshire</td>\n",
       "      <td>2021-06-21T00:00:00.000</td>\n",
       "      <td>21420</td>\n",
       "      <td>25704.0</td>\n",
       "      <td>6</td>\n",
       "      <td>25</td>\n",
       "    </tr>\n",
       "    <tr>\n",
       "      <th>4</th>\n",
       "      <td>Rhode Island</td>\n",
       "      <td>2021-06-21T00:00:00.000</td>\n",
       "      <td>17280</td>\n",
       "      <td>20736.0</td>\n",
       "      <td>6</td>\n",
       "      <td>25</td>\n",
       "    </tr>\n",
       "    <tr>\n",
       "      <th>65</th>\n",
       "      <td>Massachusetts</td>\n",
       "      <td>2021-06-14T00:00:00.000</td>\n",
       "      <td>104580</td>\n",
       "      <td>125496.0</td>\n",
       "      <td>6</td>\n",
       "      <td>24</td>\n",
       "    </tr>\n",
       "    <tr>\n",
       "      <th>66</th>\n",
       "      <td>New Hampshire</td>\n",
       "      <td>2021-06-14T00:00:00.000</td>\n",
       "      <td>21420</td>\n",
       "      <td>25704.0</td>\n",
       "      <td>6</td>\n",
       "      <td>24</td>\n",
       "    </tr>\n",
       "  </tbody>\n",
       "</table>\n",
       "</div>"
      ],
      "text/plain": [
       "     jurisdiction      week_of_allocations   first    second  month  week\n",
       "2   Massachusetts  2021-06-21T00:00:00.000  104580  125496.0      6    25\n",
       "3   New Hampshire  2021-06-21T00:00:00.000   21420   25704.0      6    25\n",
       "4    Rhode Island  2021-06-21T00:00:00.000   17280   20736.0      6    25\n",
       "65  Massachusetts  2021-06-14T00:00:00.000  104580  125496.0      6    24\n",
       "66  New Hampshire  2021-06-14T00:00:00.000   21420   25704.0      6    24"
      ]
     },
     "execution_count": 128,
     "metadata": {},
     "output_type": "execute_result"
    }
   ],
   "source": [
    "vaccines.head()"
   ]
  },
  {
   "cell_type": "markdown",
   "id": "77e3d067",
   "metadata": {},
   "source": [
    "## Using matplotlib"
   ]
  },
  {
   "cell_type": "code",
   "execution_count": null,
   "id": "97f38a93",
   "metadata": {},
   "outputs": [],
   "source": [
    "# We cannot.  Matplotlib does not work with dataframes."
   ]
  },
  {
   "cell_type": "markdown",
   "id": "43a376df",
   "metadata": {},
   "source": [
    "## Using seaborn"
   ]
  },
  {
   "cell_type": "code",
   "execution_count": null,
   "id": "e987ac97",
   "metadata": {},
   "outputs": [],
   "source": [
    "sns.lineplot(data=vaccines, x='month', y='first', ci = None)\n",
    "# Seaborn has aggregated the data but uses mean as the aggregation"
   ]
  },
  {
   "cell_type": "code",
   "execution_count": null,
   "id": "11954abc",
   "metadata": {},
   "outputs": [],
   "source": [
    "sns.lineplot(data=vaccines, x='month', y='first', ci = None, estimator = 'sum')\n",
    "plt.xticks(vaccines.month)\n",
    "plt.show()"
   ]
  },
  {
   "cell_type": "code",
   "execution_count": null,
   "id": "4a060160",
   "metadata": {},
   "outputs": [],
   "source": [
    "# Add a line for each jurisdiction\n",
    "sns.lineplot(data=vaccines, x='month', y='first', ci = None, estimator = 'sum', hue = 'jurisdiction')\n",
    "plt.xticks(vaccines.month)\n",
    "plt.show()"
   ]
  },
  {
   "cell_type": "code",
   "execution_count": null,
   "id": "65c5ad22",
   "metadata": {},
   "outputs": [],
   "source": [
    "# Change month to week\n",
    "plt.figure(figsize=(12,8))\n",
    "sns.lineplot(data=vaccines, x='week', y='first', ci = None, estimator = 'sum', hue = 'jurisdiction')\n",
    "plt.xticks(vaccines.week)\n",
    "plt.show()"
   ]
  },
  {
   "cell_type": "code",
   "execution_count": null,
   "id": "04790a04",
   "metadata": {},
   "outputs": [],
   "source": [
    "# Add a facetgrid\n",
    "# Cannot do that with lineplot\n",
    "plt.figure(figsize=(12,8))\n",
    "sns.lineplot(data=vaccines, x='week', y='first', ci = None, estimator = 'sum', hue = 'jurisdiction',col='month')\n",
    "plt.xticks(vaccines.week)\n",
    "plt.show()"
   ]
  },
  {
   "cell_type": "code",
   "execution_count": 103,
   "id": "d05e2e84",
   "metadata": {},
   "outputs": [
    {
     "data": {
      "text/plain": [
       "<Figure size 864x576 with 0 Axes>"
      ]
     },
     "metadata": {},
     "output_type": "display_data"
    },
    {
     "data": {
      "image/png": "[encoded data removed]",
      "text/plain": [
       "<Figure size 834.875x720 with 4 Axes>"
      ]
     },
     "metadata": {
      "needs_background": "light"
     },
     "output_type": "display_data"
    }
   ],
   "source": [
    "plt.figure(figsize=(12,8))\n",
    "sns.relplot(data=vaccines, x='week', y='first', ci = None, estimator = 'sum', \n",
    "            hue = 'jurisdiction',col='month', kind = 'line',\n",
    "           col_wrap = 2)\n",
    "plt.xticks(vaccines.week)\n",
    "plt.show()"
   ]
  },
  {
   "cell_type": "code",
   "execution_count": 105,
   "id": "c1ce8aaa",
   "metadata": {},
   "outputs": [
    {
     "data": {
      "image/png": "[encoded data removed]",
      "text/plain": [
       "<Figure size 864x576 with 1 Axes>"
      ]
     },
     "metadata": {
      "needs_background": "light"
     },
     "output_type": "display_data"
    }
   ],
   "source": [
    "# Change month to week\n",
    "plt.figure(figsize=(12,8))\n",
    "sns.lineplot(data=vaccines, x='week', y='first', ci = None, estimator = 'sum')\n",
    "plt.xticks(vaccines.week)\n",
    "plt.show()"
   ]
  },
  {
   "cell_type": "code",
   "execution_count": 129,
   "id": "078efa73",
   "metadata": {},
   "outputs": [
    {
     "data": {
      "image/png": "[encoded data removed]",
      "text/plain": [
       "<Figure size 1080x720 with 1 Axes>"
      ]
     },
     "metadata": {
      "needs_background": "light"
     },
     "output_type": "display_data"
    }
   ],
   "source": [
    "fig, ax1 = plt.subplots(figsize=(15, 10))\n",
    "sns.lineplot(data=vaccines, x='week', y='first', ci = None, estimator = 'sum')\n",
    "sns.lineplot(data=vaccines, x='week', y='second', ci = None, estimator = 'sum')\n",
    "plt.xticks(vaccines.week)\n",
    "plt.show()"
   ]
  },
  {
   "cell_type": "code",
   "execution_count": 130,
   "id": "f750ad4d",
   "metadata": {},
   "outputs": [
    {
     "data": {
      "text/plain": [
       "Index(['jurisdiction', 'week_of_allocations', 'first', 'second', 'month',\n",
       "       'week'],\n",
       "      dtype='object')"
      ]
     },
     "execution_count": 130,
     "metadata": {},
     "output_type": "execute_result"
    }
   ],
   "source": [
    "vaccines.columns"
   ]
  },
  {
   "cell_type": "code",
   "execution_count": 131,
   "id": "950b45f3",
   "metadata": {},
   "outputs": [
    {
     "data": {
      "text/html": [
       "<div>\n",
       "<style scoped>\n",
       "    .dataframe tbody tr th:only-of-type {\n",
       "        vertical-align: middle;\n",
       "    }\n",
       "\n",
       "    .dataframe tbody tr th {\n",
       "        vertical-align: top;\n",
       "    }\n",
       "\n",
       "    .dataframe thead th {\n",
       "        text-align: right;\n",
       "    }\n",
       "</style>\n",
       "<table border=\"1\" class=\"dataframe\">\n",
       "  <thead>\n",
       "    <tr style=\"text-align: right;\">\n",
       "      <th></th>\n",
       "      <th>jurisdiction</th>\n",
       "      <th>week_of_allocations</th>\n",
       "      <th>month</th>\n",
       "      <th>week</th>\n",
       "      <th>allocation</th>\n",
       "      <th>dist</th>\n",
       "    </tr>\n",
       "  </thead>\n",
       "  <tbody>\n",
       "    <tr>\n",
       "      <th>0</th>\n",
       "      <td>Massachusetts</td>\n",
       "      <td>2021-06-21T00:00:00.000</td>\n",
       "      <td>6</td>\n",
       "      <td>25</td>\n",
       "      <td>first</td>\n",
       "      <td>104580.0</td>\n",
       "    </tr>\n",
       "    <tr>\n",
       "      <th>42</th>\n",
       "      <td>Massachusetts</td>\n",
       "      <td>2021-03-15T00:00:00.000</td>\n",
       "      <td>3</td>\n",
       "      <td>11</td>\n",
       "      <td>first</td>\n",
       "      <td>93600.0</td>\n",
       "    </tr>\n",
       "    <tr>\n",
       "      <th>24</th>\n",
       "      <td>Massachusetts</td>\n",
       "      <td>2021-04-26T00:00:00.000</td>\n",
       "      <td>4</td>\n",
       "      <td>17</td>\n",
       "      <td>first</td>\n",
       "      <td>105300.0</td>\n",
       "    </tr>\n",
       "    <tr>\n",
       "      <th>54</th>\n",
       "      <td>Massachusetts</td>\n",
       "      <td>2021-06-07T00:00:00.000</td>\n",
       "      <td>6</td>\n",
       "      <td>23</td>\n",
       "      <td>second</td>\n",
       "      <td>125496.0</td>\n",
       "    </tr>\n",
       "    <tr>\n",
       "      <th>27</th>\n",
       "      <td>Massachusetts</td>\n",
       "      <td>2021-04-19T00:00:00.000</td>\n",
       "      <td>4</td>\n",
       "      <td>16</td>\n",
       "      <td>first</td>\n",
       "      <td>105300.0</td>\n",
       "    </tr>\n",
       "    <tr>\n",
       "      <th>51</th>\n",
       "      <td>Massachusetts</td>\n",
       "      <td>2021-06-14T00:00:00.000</td>\n",
       "      <td>6</td>\n",
       "      <td>24</td>\n",
       "      <td>second</td>\n",
       "      <td>125496.0</td>\n",
       "    </tr>\n",
       "    <tr>\n",
       "      <th>84</th>\n",
       "      <td>Massachusetts</td>\n",
       "      <td>2021-03-29T00:00:00.000</td>\n",
       "      <td>3</td>\n",
       "      <td>13</td>\n",
       "      <td>second</td>\n",
       "      <td>140400.0</td>\n",
       "    </tr>\n",
       "    <tr>\n",
       "      <th>30</th>\n",
       "      <td>Massachusetts</td>\n",
       "      <td>2021-04-12T00:00:00.000</td>\n",
       "      <td>4</td>\n",
       "      <td>15</td>\n",
       "      <td>first</td>\n",
       "      <td>97110.0</td>\n",
       "    </tr>\n",
       "    <tr>\n",
       "      <th>78</th>\n",
       "      <td>Massachusetts</td>\n",
       "      <td>2021-04-12T00:00:00.000</td>\n",
       "      <td>4</td>\n",
       "      <td>15</td>\n",
       "      <td>second</td>\n",
       "      <td>116532.0</td>\n",
       "    </tr>\n",
       "    <tr>\n",
       "      <th>33</th>\n",
       "      <td>Massachusetts</td>\n",
       "      <td>2021-04-05T00:00:00.000</td>\n",
       "      <td>4</td>\n",
       "      <td>14</td>\n",
       "      <td>first</td>\n",
       "      <td>95940.0</td>\n",
       "    </tr>\n",
       "    <tr>\n",
       "      <th>48</th>\n",
       "      <td>Massachusetts</td>\n",
       "      <td>2021-06-21T00:00:00.000</td>\n",
       "      <td>6</td>\n",
       "      <td>25</td>\n",
       "      <td>second</td>\n",
       "      <td>125496.0</td>\n",
       "    </tr>\n",
       "    <tr>\n",
       "      <th>69</th>\n",
       "      <td>Massachusetts</td>\n",
       "      <td>2021-05-03T00:00:00.000</td>\n",
       "      <td>5</td>\n",
       "      <td>18</td>\n",
       "      <td>second</td>\n",
       "      <td>126360.0</td>\n",
       "    </tr>\n",
       "    <tr>\n",
       "      <th>36</th>\n",
       "      <td>Massachusetts</td>\n",
       "      <td>2021-03-29T00:00:00.000</td>\n",
       "      <td>3</td>\n",
       "      <td>13</td>\n",
       "      <td>first</td>\n",
       "      <td>117000.0</td>\n",
       "    </tr>\n",
       "    <tr>\n",
       "      <th>81</th>\n",
       "      <td>Massachusetts</td>\n",
       "      <td>2021-04-05T00:00:00.000</td>\n",
       "      <td>4</td>\n",
       "      <td>14</td>\n",
       "      <td>second</td>\n",
       "      <td>115128.0</td>\n",
       "    </tr>\n",
       "    <tr>\n",
       "      <th>39</th>\n",
       "      <td>Massachusetts</td>\n",
       "      <td>2021-03-22T00:00:00.000</td>\n",
       "      <td>3</td>\n",
       "      <td>12</td>\n",
       "      <td>first</td>\n",
       "      <td>95940.0</td>\n",
       "    </tr>\n",
       "    <tr>\n",
       "      <th>45</th>\n",
       "      <td>Massachusetts</td>\n",
       "      <td>2021-03-08T00:00:00.000</td>\n",
       "      <td>3</td>\n",
       "      <td>10</td>\n",
       "      <td>first</td>\n",
       "      <td>87750.0</td>\n",
       "    </tr>\n",
       "    <tr>\n",
       "      <th>87</th>\n",
       "      <td>Massachusetts</td>\n",
       "      <td>2021-03-22T00:00:00.000</td>\n",
       "      <td>3</td>\n",
       "      <td>12</td>\n",
       "      <td>second</td>\n",
       "      <td>115128.0</td>\n",
       "    </tr>\n",
       "    <tr>\n",
       "      <th>57</th>\n",
       "      <td>Massachusetts</td>\n",
       "      <td>2021-05-31T00:00:00.000</td>\n",
       "      <td>5</td>\n",
       "      <td>22</td>\n",
       "      <td>second</td>\n",
       "      <td>125496.0</td>\n",
       "    </tr>\n",
       "    <tr>\n",
       "      <th>21</th>\n",
       "      <td>Massachusetts</td>\n",
       "      <td>2021-05-03T00:00:00.000</td>\n",
       "      <td>5</td>\n",
       "      <td>18</td>\n",
       "      <td>first</td>\n",
       "      <td>105300.0</td>\n",
       "    </tr>\n",
       "    <tr>\n",
       "      <th>12</th>\n",
       "      <td>Massachusetts</td>\n",
       "      <td>2021-05-24T00:00:00.000</td>\n",
       "      <td>5</td>\n",
       "      <td>21</td>\n",
       "      <td>first</td>\n",
       "      <td>105300.0</td>\n",
       "    </tr>\n",
       "  </tbody>\n",
       "</table>\n",
       "</div>"
      ],
      "text/plain": [
       "     jurisdiction      week_of_allocations  month  week allocation      dist\n",
       "0   Massachusetts  2021-06-21T00:00:00.000      6    25      first  104580.0\n",
       "42  Massachusetts  2021-03-15T00:00:00.000      3    11      first   93600.0\n",
       "24  Massachusetts  2021-04-26T00:00:00.000      4    17      first  105300.0\n",
       "54  Massachusetts  2021-06-07T00:00:00.000      6    23     second  125496.0\n",
       "27  Massachusetts  2021-04-19T00:00:00.000      4    16      first  105300.0\n",
       "51  Massachusetts  2021-06-14T00:00:00.000      6    24     second  125496.0\n",
       "84  Massachusetts  2021-03-29T00:00:00.000      3    13     second  140400.0\n",
       "30  Massachusetts  2021-04-12T00:00:00.000      4    15      first   97110.0\n",
       "78  Massachusetts  2021-04-12T00:00:00.000      4    15     second  116532.0\n",
       "33  Massachusetts  2021-04-05T00:00:00.000      4    14      first   95940.0\n",
       "48  Massachusetts  2021-06-21T00:00:00.000      6    25     second  125496.0\n",
       "69  Massachusetts  2021-05-03T00:00:00.000      5    18     second  126360.0\n",
       "36  Massachusetts  2021-03-29T00:00:00.000      3    13      first  117000.0\n",
       "81  Massachusetts  2021-04-05T00:00:00.000      4    14     second  115128.0\n",
       "39  Massachusetts  2021-03-22T00:00:00.000      3    12      first   95940.0\n",
       "45  Massachusetts  2021-03-08T00:00:00.000      3    10      first   87750.0\n",
       "87  Massachusetts  2021-03-22T00:00:00.000      3    12     second  115128.0\n",
       "57  Massachusetts  2021-05-31T00:00:00.000      5    22     second  125496.0\n",
       "21  Massachusetts  2021-05-03T00:00:00.000      5    18      first  105300.0\n",
       "12  Massachusetts  2021-05-24T00:00:00.000      5    21      first  105300.0"
      ]
     },
     "execution_count": 131,
     "metadata": {},
     "output_type": "execute_result"
    }
   ],
   "source": [
    "v_long = vaccines.melt(id_vars=['jurisdiction', 'week_of_allocations','month','week'], \n",
    "                          var_name = 'allocation', value_name='dist').sort_values(by = 'jurisdiction')\n",
    "v_long.head(20)"
   ]
  },
  {
   "cell_type": "code",
   "execution_count": 132,
   "id": "880888d6",
   "metadata": {},
   "outputs": [
    {
     "data": {
      "image/png": "[encoded data removed]",
      "text/plain": [
       "<Figure size 864x576 with 1 Axes>"
      ]
     },
     "metadata": {
      "needs_background": "light"
     },
     "output_type": "display_data"
    }
   ],
   "source": [
    "plt.figure(figsize=(12,8))\n",
    "sns.lineplot(data=v_long, x='week', y='dist', ci = None, estimator = 'sum', hue = 'allocation')\n",
    "plt.xticks(v_long.week)\n",
    "plt.show()"
   ]
  },
  {
   "cell_type": "code",
   "execution_count": null,
   "id": "d849f373",
   "metadata": {},
   "outputs": [],
   "source": []
  }
 ],
 "metadata": {
  "kernelspec": {
   "display_name": "Python 3 (ipykernel)",
   "language": "python",
   "name": "python3"
  },
  "language_info": {
   "codemirror_mode": {
    "name": "ipython",
    "version": 3
   },
   "file_extension": ".py",
   "mimetype": "text/x-python",
   "name": "python",
   "nbconvert_exporter": "python",
   "pygments_lexer": "ipython3",
   "version": "3.9.13"
  },
  "varInspector": {
   "cols": {
    "lenName": 16,
    "lenType": 16,
    "lenVar": 40
   },
   "kernels_config": {
    "python": {
     "delete_cmd_postfix": "",
     "delete_cmd_prefix": "del ",
     "library": "var_list.py",
     "varRefreshCmd": "print(var_dic_list())"
    },
    "r": {
     "delete_cmd_postfix": ") ",
     "delete_cmd_prefix": "rm(",
     "library": "var_list.r",
     "varRefreshCmd": "cat(var_dic_list()) "
    }
   },
   "types_to_exclude": [
    "module",
    "function",
    "builtin_function_or_method",
    "instance",
    "_Feature"
   ],
   "window_display": false
  }
 },
 "nbformat": 4,
 "nbformat_minor": 5
}
