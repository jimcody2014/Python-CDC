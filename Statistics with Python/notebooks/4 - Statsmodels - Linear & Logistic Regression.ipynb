{
 "cells": [
  {
   "cell_type": "markdown",
   "id": "900bdc33",
   "metadata": {
    "toc": true
   },
   "source": [
    "<h1>Table of Contents<span class=\"tocSkip\"></span></h1>\n",
    "<div class=\"toc\"><ul class=\"toc-item\"><li><span><a href=\"#Our-interest\" data-toc-modified-id=\"Our-interest-1\">Our interest</a></span></li><li><span><a href=\"#Get-Advertising-Data\" data-toc-modified-id=\"Get-Advertising-Data-2\">Get Advertising Data</a></span><ul class=\"toc-item\"><li><ul class=\"toc-item\"><li><ul class=\"toc-item\"><li><span><a href=\"#A-look-at-the-full-dataset\" data-toc-modified-id=\"A-look-at-the-full-dataset-2.0.0.1\">A look at the full dataset</a></span></li><li><span><a href=\"#Selecting-specific-columns\" data-toc-modified-id=\"Selecting-specific-columns-2.0.0.2\">Selecting specific columns</a></span></li></ul></li></ul></li></ul></li><li><span><a href=\"#Examine-the-Advertising-Data\" data-toc-modified-id=\"Examine-the-Advertising-Data-3\">Examine the Advertising Data</a></span><ul class=\"toc-item\"><li><span><a href=\"#Correlation\" data-toc-modified-id=\"Correlation-3.1\">Correlation</a></span></li><li><span><a href=\"#Hypothesis-Testing\" data-toc-modified-id=\"Hypothesis-Testing-3.2\">Hypothesis Testing</a></span><ul class=\"toc-item\"><li><span><a href=\"#Is-the-difference-in-the-mean-spend-bewtween-radio-and-newspaper-statistically-significant?\" data-toc-modified-id=\"Is-the-difference-in-the-mean-spend-bewtween-radio-and-newspaper-statistically-significant?-3.2.1\">Is the difference in the mean spend bewtween radio and newspaper statistically significant?</a></span></li></ul></li><li><span><a href=\"#Using-ANOVA\" data-toc-modified-id=\"Using-ANOVA-3.3\">Using ANOVA</a></span><ul class=\"toc-item\"><li><ul class=\"toc-item\"><li><span><a href=\"#A-short-side-trip\" data-toc-modified-id=\"A-short-side-trip-3.3.0.1\">A short side trip</a></span></li></ul></li></ul></li><li><span><a href=\"#Using-ANOVA\" data-toc-modified-id=\"Using-ANOVA-3.4\">Using ANOVA</a></span></li></ul></li><li><span><a href=\"#Simple-Linear-Regression-using-Statsmodels\" data-toc-modified-id=\"Simple-Linear-Regression-using-Statsmodels-4\">Simple Linear Regression using Statsmodels</a></span><ul class=\"toc-item\"><li><span><a href=\"#Examine-the-endogenous-(dependent)-variable\" data-toc-modified-id=\"Examine-the-endogenous-(dependent)-variable-4.1\">Examine the endogenous (dependent) variable</a></span><ul class=\"toc-item\"><li><ul class=\"toc-item\"><li><span><a href=\"#statsmodels-terminology\" data-toc-modified-id=\"statsmodels-terminology-4.1.0.1\">statsmodels terminology</a></span></li></ul></li></ul></li><li><span><a href=\"#Simple-linear-regression\" data-toc-modified-id=\"Simple-linear-regression-4.2\">Simple linear regression</a></span></li></ul></li><li><span><a href=\"#Multivariate-Linear-Regression\" data-toc-modified-id=\"Multivariate-Linear-Regression-5\">Multivariate Linear Regression</a></span></li><li><span><a href=\"#Practice---10-minutes\" data-toc-modified-id=\"Practice---10-minutes-6\">Practice - 10 minutes</a></span><ul class=\"toc-item\"><li><span><a href=\"#Assumptions-for-Regression\" data-toc-modified-id=\"Assumptions-for-Regression-6.1\">Assumptions for Regression</a></span><ul class=\"toc-item\"><li><ul class=\"toc-item\"><li><span><a href=\"#Example-of-the-statsmodels-matrix-api\" data-toc-modified-id=\"Example-of-the-statsmodels-matrix-api-6.1.0.1\">Example of the statsmodels matrix api</a></span></li></ul></li></ul></li></ul></li><li><span><a href=\"#Exercise-3\" data-toc-modified-id=\"Exercise-3-7\">Exercise 3</a></span></li><li><span><a href=\"#Logistic-Regression\" data-toc-modified-id=\"Logistic-Regression-8\">Logistic Regression</a></span><ul class=\"toc-item\"><li><span><a href=\"#Using-a-single-continuous-predictor\" data-toc-modified-id=\"Using-a-single-continuous-predictor-8.1\">Using a single continuous predictor</a></span><ul class=\"toc-item\"><li><ul class=\"toc-item\"><li><span><a href=\"#“For-every-one-unit-increase-in-[X-variable],-the-odds-that-the-observation-is-in-(y-class)-are-[coefficient]-times-as-large-as-the-odds-that-the-observation-is-not-in-(y-class)-when-all-other-variables-are-held-constant.”\" data-toc-modified-id=\"“For-every-one-unit-increase-in-[X-variable],-the-odds-that-the-observation-is-in-(y-class)-are-[coefficient]-times-as-large-as-the-odds-that-the-observation-is-not-in-(y-class)-when-all-other-variables-are-held-constant.”-8.1.0.1\">“For every one-unit increase in [X variable], the odds that the observation is in (y class) are [coefficient] times as large as the odds that the observation is not in (y class) when all other variables are held constant.”</a></span></li></ul></li></ul></li><li><span><a href=\"#Using-a-single-dichotomous-predictor\" data-toc-modified-id=\"Using-a-single-dichotomous-predictor-8.2\">Using a single dichotomous predictor</a></span></li><li><span><a href=\"#Using-multiple-predictor-variables\" data-toc-modified-id=\"Using-multiple-predictor-variables-8.3\">Using multiple predictor variables</a></span></li><li><span><a href=\"#Using-the-logit-function\" data-toc-modified-id=\"Using-the-logit-function-8.4\">Using the logit function</a></span></li></ul></li><li><span><a href=\"#Exercise-4\" data-toc-modified-id=\"Exercise-4-9\">Exercise 4</a></span></li></ul></div>"
   ]
  },
  {
   "cell_type": "markdown",
   "id": "96940eb9",
   "metadata": {},
   "source": [
    "A little background on inferential statistics.\n",
    "\n",
    "https://towardsai.net/p/data-science/inferential-statistics-for-data-science-explained"
   ]
  },
  {
   "cell_type": "markdown",
   "id": "72022456",
   "metadata": {},
   "source": [
    "**statsmodels** is a\n",
    "Python library for fitting many kinds of statistical models, performing\n",
    "statistical tests, and data exploration and visualization. Statsmodels\n",
    "contains more “classical” frequentist statistical methods, while Bayesian\n",
    "methods and machine learning models are found in other libraries. Some kinds of models found in statsmodels include: \n",
    "- Linear models, generalized linear models, and robust linear models \n",
    "- Linear mixed effects models \n",
    "- Analysis of variance (ANOVA) methods \n",
    "- Time series processes and state space models \n",
    "- Generalized method of moments \n",
    "\n",
    "McKinney, Wes. Python for Data Analysis: Data Wrangling with Pandas, NumPy, and IPython (Kindle Locations 13844-13849). O'Reilly Media. Kindle Edition. \n",
    "\n"
   ]
  },
  {
   "cell_type": "markdown",
   "id": "46f36bdb",
   "metadata": {},
   "source": [
    "# Our interest\n",
    "\n",
    "In order to make adjustments to our advertising spend, we want to understand how each spend category (tv, radio, newspaper) influences sales."
   ]
  },
  {
   "cell_type": "code",
   "execution_count": null,
   "id": "69e86839",
   "metadata": {},
   "outputs": [],
   "source": [
    "import numpy as np\n",
    "import pandas as pd\n",
    "import seaborn as sns\n",
    "import matplotlib.pyplot as plt\n",
    "%matplotlib inline\n",
    "# from scipy.stats import pearsonr\n",
    "import scipy.stats as stats \n",
    "import statsmodels.api as sm\n",
    "from statsmodels.formula.api import logit\n",
    "from statsmodels.formula.api import ols"
   ]
  },
  {
   "cell_type": "code",
   "execution_count": null,
   "id": "4b6bc4ec",
   "metadata": {},
   "outputs": [],
   "source": [
    "from google.colab import drive\n",
    "drive.mount('/content/drive')"
   ]
  },
  {
   "cell_type": "markdown",
   "id": "96f0f400",
   "metadata": {},
   "source": [
    "# Get Advertising Data"
   ]
  },
  {
   "cell_type": "markdown",
   "id": "4c574a6e",
   "metadata": {},
   "source": [
    "#### A look at the full dataset"
   ]
  },
  {
   "cell_type": "code",
   "execution_count": null,
   "id": "65b726b3",
   "metadata": {},
   "outputs": [],
   "source": [
    "\n",
    "df = pd.read_csv('/content/drive/MyDrive/NLP_data/advertising.csv')\n",
    "df.columns= df.columns.str.lower()\n",
    "df.head()"
   ]
  },
  {
   "cell_type": "markdown",
   "id": "acd2e2a5",
   "metadata": {},
   "source": [
    "#### Selecting specific columns"
   ]
  },
  {
   "cell_type": "code",
   "execution_count": null,
   "id": "b4de7cda",
   "metadata": {},
   "outputs": [],
   "source": [
    "df = pd.read_csv('/content/drive/MyDrive/NLP_data/advertising.csv',\n",
    "                 usecols = [1,2,3,4])\n",
    "df.columns= df.columns.str.lower()\n",
    "df.head()"
   ]
  },
  {
   "cell_type": "markdown",
   "id": "32411984",
   "metadata": {},
   "source": [
    "# Examine the Advertising Data"
   ]
  },
  {
   "cell_type": "markdown",
   "id": "524e0bf2",
   "metadata": {},
   "source": [
    "## Correlation"
   ]
  },
  {
   "cell_type": "code",
   "execution_count": null,
   "id": "2007a8f9",
   "metadata": {},
   "outputs": [],
   "source": [
    "sns.pairplot(df, corner=True)"
   ]
  },
  {
   "cell_type": "code",
   "execution_count": null,
   "id": "2fd2501d",
   "metadata": {},
   "outputs": [],
   "source": [
    "sns.scatterplot(data=df, x='tv', y='sales', size = 0.5 )"
   ]
  },
  {
   "cell_type": "code",
   "execution_count": null,
   "id": "ebeeb297",
   "metadata": {},
   "outputs": [],
   "source": [
    "sns.regplot(data=df, x='tv', y='sales', ci=None)"
   ]
  },
  {
   "cell_type": "code",
   "execution_count": null,
   "id": "93a0e251",
   "metadata": {},
   "outputs": [],
   "source": [
    "corr = df.corr()['tv']['sales']\n",
    "corr\n",
    "\n",
    "# Uses Pearson Correlation"
   ]
  },
  {
   "cell_type": "code",
   "execution_count": null,
   "id": "7d641d1f",
   "metadata": {},
   "outputs": [],
   "source": [
    "corr = df.corr()['newspaper']['sales']\n",
    "corr"
   ]
  },
  {
   "cell_type": "code",
   "execution_count": null,
   "id": "c47c0836",
   "metadata": {},
   "outputs": [],
   "source": [
    "corr = df.corr()\n",
    "corr"
   ]
  },
  {
   "cell_type": "code",
   "execution_count": null,
   "id": "59d7fa48",
   "metadata": {},
   "outputs": [],
   "source": [
    "# Options for correlation\n",
    "# df.corr(method='spearman')\n",
    "# df.corr(method='kendall')"
   ]
  },
  {
   "cell_type": "markdown",
   "id": "f7702305",
   "metadata": {},
   "source": [
    "## Hypothesis Testing\n",
    "\n",
    "What is the probability that our observation is due to some random factor?\n",
    "<p>Null hypothesis - the hypothesis we want to reject!"
   ]
  },
  {
   "cell_type": "markdown",
   "id": "e23374a6",
   "metadata": {},
   "source": [
    "**Note:** We do not have any categorical data so we do not have populations to compare.<p>\n",
    "    \n",
    "- This is from the Scipy notebook and blood pressure data.\n",
    "    - t-test to compare 2 groups\n",
    "    - stats.ttest_ind(df['bp_after'][df['sex'] == 'Male'],df['bp_after'][df['sex'] == 'Female'])"
   ]
  },
  {
   "cell_type": "markdown",
   "id": "dbc3a76c",
   "metadata": {},
   "source": [
    "### Is the difference in the mean spend bewtween radio and newspaper statistically significant?"
   ]
  },
  {
   "cell_type": "code",
   "execution_count": null,
   "id": "d99da12a",
   "metadata": {},
   "outputs": [],
   "source": [
    "print(np.mean(df['tv']))\n",
    "print(np.mean(df['radio']))\n",
    "print(np.mean(df['newspaper']))\n",
    "\n",
    "# The p-value is the probability of the observation, assuming that the null hypothesis is true.\n",
    "# If the p-value is below a certain threshold, usually p=0.05, you can conclude that the null hypothesis is \n",
    "# unlikely to be true and reject it;"
   ]
  },
  {
   "cell_type": "code",
   "execution_count": null,
   "id": "0bfced53",
   "metadata": {},
   "outputs": [],
   "source": [
    "stats.ttest_ind(df['radio'], df['newspaper'])"
   ]
  },
  {
   "cell_type": "code",
   "execution_count": null,
   "id": "d858a27a",
   "metadata": {},
   "outputs": [],
   "source": [
    "stats.ttest_ind(df['tv'], df['radio'])"
   ]
  },
  {
   "cell_type": "markdown",
   "id": "3e222d91",
   "metadata": {},
   "source": [
    "## Using ANOVA\n",
    "\n",
    "\n",
    "#### A short side trip"
   ]
  },
  {
   "cell_type": "code",
   "execution_count": null,
   "id": "36556c57",
   "metadata": {},
   "outputs": [],
   "source": [
    "obesity = pd.read_csv('/content/drive/MyDrive/NLP_data/obesity_data.csv')\n",
    "obesity.columns= obesity.columns.str.lower()\n",
    "obesity.head()"
   ]
  },
  {
   "cell_type": "code",
   "execution_count": null,
   "id": "336e9312",
   "metadata": {},
   "outputs": [],
   "source": [
    "# calc - consumption of alcohol\n",
    "obesity.calc.unique()"
   ]
  },
  {
   "cell_type": "code",
   "execution_count": null,
   "id": "fa420eba",
   "metadata": {},
   "outputs": [],
   "source": [
    "np.mean(obesity['weight'])"
   ]
  },
  {
   "cell_type": "code",
   "execution_count": null,
   "id": "ade13824",
   "metadata": {},
   "outputs": [],
   "source": [
    "obesity.shape"
   ]
  },
  {
   "cell_type": "code",
   "execution_count": null,
   "id": "3e8e97de",
   "metadata": {},
   "outputs": [],
   "source": [
    "# Just testing the code to subset the data\n",
    "\n",
    "o2 = obesity['weight'][obesity['gender'] == 'Male']\n",
    "o3 = obesity['weight'][obesity['gender'] == 'Female']\n",
    "print(o2.shape)\n",
    "print(o3.shape)"
   ]
  },
  {
   "cell_type": "code",
   "execution_count": null,
   "id": "32d3dde1",
   "metadata": {},
   "outputs": [],
   "source": [
    "# Calc means for Males/Females\n",
    "print('Male weight mean: ',np.mean(obesity['weight'][obesity['gender'] == 'Male']))\n",
    "print('Female weight mean: ',np.mean(obesity['weight'][obesity['gender'] == 'Female']))"
   ]
  },
  {
   "cell_type": "code",
   "execution_count": null,
   "id": "acc2c6f2",
   "metadata": {},
   "outputs": [],
   "source": [
    "# T-test groups\n",
    "stats.ttest_ind(obesity['weight'][obesity['gender'] == 'Male'],                 \n",
    "                 obesity['weight'][obesity['gender'] == 'Female'])"
   ]
  },
  {
   "cell_type": "markdown",
   "id": "14e49702",
   "metadata": {},
   "source": [
    "## Using ANOVA\n",
    "\n",
    "The t-test is a method that determines whether **two** populations are statistically different from each other.<P>\n",
    "ANOVA determines whether **three** or more populations are statistically different from each other. <p>Both of them look at the difference in means and the spread of the distributions (i.e., variance) across groups; however, the ways that they determine the statistical significance are different.\n",
    "\n",
    "https://www.raybiotech.com/learning-center/t-test-anova/#:~:text=The%20t%2Dtest%20is%20a,statistically%20different%20from%20each%20other.\n"
   ]
  },
  {
   "attachments": {
    "arewedifferent.png": {
     "image/png": "[encoded data removed]"
    }
   },
   "cell_type": "markdown",
   "id": "7ba5f35e",
   "metadata": {},
   "source": [
    "![arewedifferent.png](attachment:arewedifferent.png)"
   ]
  },
  {
   "cell_type": "code",
   "execution_count": null,
   "id": "47ed4937",
   "metadata": {},
   "outputs": [],
   "source": [
    "# scipy ANOVA \n",
    "# calc - consuption of alcohol\n",
    "stats.f_oneway(obesity['weight'][obesity['calc'] == 'Sometimes'],\n",
    "               obesity['weight'][obesity['calc'] == 'Frequently'],\n",
    "               obesity['weight'][obesity['calc'] == 'Always'],\n",
    "               obesity['weight'][obesity['calc'] == 'no'])"
   ]
  },
  {
   "cell_type": "markdown",
   "id": "f22abd14",
   "metadata": {},
   "source": [
    "# Simple Linear Regression using Statsmodels"
   ]
  },
  {
   "cell_type": "markdown",
   "id": "a601ffd1",
   "metadata": {},
   "source": [
    "## Examine the endogenous (dependent) variable"
   ]
  },
  {
   "cell_type": "code",
   "execution_count": null,
   "id": "5e012be9",
   "metadata": {},
   "outputs": [],
   "source": [
    "df.columns"
   ]
  },
  {
   "cell_type": "code",
   "execution_count": null,
   "id": "725ae3a1",
   "metadata": {},
   "outputs": [],
   "source": [
    "df.sales.describe()"
   ]
  },
  {
   "cell_type": "code",
   "execution_count": null,
   "id": "ff46e829",
   "metadata": {},
   "outputs": [],
   "source": [
    "# Plot a histogram of BMI\n",
    "sns.displot(df['sales'], kde = True)"
   ]
  },
  {
   "cell_type": "code",
   "execution_count": null,
   "id": "ad19b7be",
   "metadata": {},
   "outputs": [],
   "source": [
    "# Basic boxplot\n",
    "sns.boxplot(y=\"sales\", data=df,palette='rainbow')"
   ]
  },
  {
   "cell_type": "code",
   "execution_count": null,
   "id": "42d0a88f",
   "metadata": {},
   "outputs": [],
   "source": [
    "# Multiple boxplots\n",
    "plt.figure(figsize=(20, 10))\n",
    "plt.subplot(1,3,1)\n",
    "sns.regplot(data=df, x='tv', y='sales', ci=None)\n",
    "plt.subplot(1,3,2)\n",
    "sns.regplot(data=df, x='radio', y='sales', ci=None)\n",
    "plt.subplot(1,3,3)\n",
    "sns.regplot(data=df, x='newspaper', y='sales', ci=None)\n",
    "plt.show()"
   ]
  },
  {
   "cell_type": "code",
   "execution_count": null,
   "id": "61536b8a",
   "metadata": {},
   "outputs": [],
   "source": [
    "corr = df.corr()['sales']\n",
    "corr"
   ]
  },
  {
   "cell_type": "markdown",
   "id": "24a78578",
   "metadata": {},
   "source": [
    "#### statsmodels terminology\n",
    "\n",
    "- Endogenous: caused by factors within the system. The dependent variable.\n",
    "- Exogenous: caused by factors outside the system. The independent variables."
   ]
  },
  {
   "cell_type": "markdown",
   "id": "2d8faf46",
   "metadata": {},
   "source": [
    "## Simple linear regression"
   ]
  },
  {
   "cell_type": "code",
   "execution_count": null,
   "id": "023ad543",
   "metadata": {},
   "outputs": [],
   "source": [
    "# import statsmodels.api as sm    The import was already done.\n",
    "# Using the formula approach\n",
    "\n",
    "model = sm.OLS.from_formula('sales ~ tv', data=df)\n",
    "result = model.fit()\n",
    "result.summary()"
   ]
  },
  {
   "cell_type": "markdown",
   "id": "e21c1820",
   "metadata": {},
   "source": [
    "**Examine**\n",
    "\n",
    "- The coefficients are an indication of the correlation of your input variable(s) with the outcome.\n",
    "\n",
    "- The associated p-values and confidence intervals tell you how much trust you can put in these coefficient estimations. The p-value also tells you how confident you can be that each individual variable has some correlation with the outcome.\n",
    "\n",
    "- When the p-value > 0.05, or when the confidence interval contains 0, then the coefficients are not reliable. \n",
    "\n",
    "- The t and standard error also give an indication of how much the coefficient varies around the estimated value. You want a high t and a low standard error compared to the value of the coefficient.\n",
    "\n",
    "- The R-squared shows you how much of the variations in the target variable are explained by the model. The higher the better. The R-squared is particularly relevant when using the model to make predictions."
   ]
  },
  {
   "cell_type": "code",
   "execution_count": null,
   "id": "fdac684a",
   "metadata": {},
   "outputs": [],
   "source": [
    "model = sm.OLS.from_formula('sales ~ radio', data=df)\n",
    "result = model.fit()\n",
    "result.summary()"
   ]
  },
  {
   "cell_type": "code",
   "execution_count": null,
   "id": "ea901203",
   "metadata": {},
   "outputs": [],
   "source": [
    "model = sm.OLS.from_formula('sales ~ newspaper', data=df)\n",
    "result = model.fit()\n",
    "result.summary()"
   ]
  },
  {
   "cell_type": "markdown",
   "id": "4896161c",
   "metadata": {},
   "source": [
    "# Multivariate Linear Regression"
   ]
  },
  {
   "cell_type": "code",
   "execution_count": null,
   "id": "f16f4cd0",
   "metadata": {},
   "outputs": [],
   "source": [
    "# Let's throw all numeric data in!\n",
    "\n",
    "model = sm.OLS.from_formula('sales ~ tv+radio+newspaper', data=df)\n",
    "result = model.fit()\n",
    "result.summary()"
   ]
  },
  {
   "cell_type": "markdown",
   "id": "f686b8f7",
   "metadata": {},
   "source": [
    "# Practice - 10 minutes\n",
    "\n",
    "- run the three models with each combination of 2 variables.\n",
    "- keep track of the important metrics\n",
    "- Of all the models, which should we use?"
   ]
  },
  {
   "cell_type": "markdown",
   "id": "86514555",
   "metadata": {},
   "source": [
    "## Assumptions for Regression"
   ]
  },
  {
   "cell_type": "markdown",
   "id": "2c01e080",
   "metadata": {},
   "source": [
    "Conditions on inputs:\n",
    "\n",
    "- Linearity: the data has to be somewhat linear. \n",
    "\n",
    "- Collinearity: the predictors are not correlated. (Do we have any variables that should not be in the model together?)\n",
    "\n",
    "Conditions on resiiduals:\n",
    "\n",
    "- Autocorrelation: the residuals are not correlated to one another.\n",
    "\n",
    "- Normality: the residuals must be normally distributed.\n",
    "\n",
    "- Homoscedasticity: the variance of the residuals is stable (the inverse is called heteroscedasticity!)"
   ]
  },
  {
   "cell_type": "code",
   "execution_count": null,
   "id": "d1905f3c",
   "metadata": {},
   "outputs": [],
   "source": [
    "# Is the input linear?\n",
    "sns.regplot(data=df, x='tv', y='sales', ci=None)\n",
    "\n",
    "# there is a bit of a curve at botton-left"
   ]
  },
  {
   "cell_type": "code",
   "execution_count": null,
   "id": "c9add863",
   "metadata": {},
   "outputs": [],
   "source": [
    "# Does taking the square root make it better?\n",
    "\n",
    "df['tvsq'] = np.square(df.tv)\n",
    "model = sm.OLS.from_formula('sales ~ tvsq', data=df)\n",
    "result = model.fit()\n",
    "result.summary()"
   ]
  },
  {
   "cell_type": "code",
   "execution_count": null,
   "id": "f41410e2",
   "metadata": {},
   "outputs": [],
   "source": [
    "model = sm.OLS.from_formula('sales ~ tv', data=df)\n",
    "result = model.fit()\n",
    "\n",
    "#define figure size\n",
    "fig = plt.figure(figsize=(12,8))\n",
    "\n",
    "#produce regression plots\n",
    "fig = sm.graphics.plot_regress_exog(result, 'tv', fig=fig)\n",
    "\n",
    "# Residuals vs tv appear to be randomly scattered around zero.  \n",
    "# Therefore, Heteroscedasticity is not an issue."
   ]
  },
  {
   "cell_type": "markdown",
   "id": "19fc45fb",
   "metadata": {},
   "source": [
    "#### Example of the statsmodels matrix api"
   ]
  },
  {
   "cell_type": "code",
   "execution_count": null,
   "id": "f5601b2d",
   "metadata": {},
   "outputs": [],
   "source": [
    "X = ([[ 0.1295 , 1.2128 , 0.5042 ], [ 0.3029 , 0.4357 , 0.2542 ], \n",
    "      [ 0.3285 , 0.0253 , 0.1384 ], [ 0.3515 , 0.7196 , 0.2582 ], \n",
    "      [ 1.2433 , 0.3738 , 0.5226 ]]) \n",
    "y = ([ 0.4279 , 0.6735 , 0.0909 , 0.4895 , 0.1289 ]) \n",
    "X_model = sm.add_constant(X)\n",
    "print(X_model)\n",
    "matrix_model = sm.OLS(y, X)\n",
    "results = matrix_model.fit()\n",
    "print(results.params)\n",
    "print()\n",
    "print(results.summary())"
   ]
  },
  {
   "cell_type": "code",
   "execution_count": null,
   "id": "7e2b0578",
   "metadata": {},
   "outputs": [],
   "source": []
  },
  {
   "cell_type": "markdown",
   "id": "da73cfac",
   "metadata": {},
   "source": [
    "# Exercise 3\n",
    "\n",
    "- Build on your brain data notebook\n",
    "- Conduct any additional EDA you think is required to understand your data\n",
    "- Create 3 or 4 linear regression models that can be used to predict FSIQ"
   ]
  },
  {
   "cell_type": "markdown",
   "id": "f2255780",
   "metadata": {},
   "source": [
    "# Logistic Regression"
   ]
  },
  {
   "cell_type": "code",
   "execution_count": null,
   "id": "babca8c4",
   "metadata": {},
   "outputs": [],
   "source": [
    "df3 = pd.read_csv('/content/drive/MyDrive/NLP_data/sample.csv')\n",
    "df3.columns= df3.columns.str.lower()\n",
    "df3.head()"
   ]
  },
  {
   "cell_type": "markdown",
   "id": "60dbc259",
   "metadata": {},
   "source": [
    "## Using a single continuous predictor"
   ]
  },
  {
   "cell_type": "code",
   "execution_count": null,
   "id": "425eb471",
   "metadata": {},
   "outputs": [],
   "source": [
    "import statsmodels.formula.api as smf\n",
    "formula = 'hon ~ math'\n",
    "glm_model = smf.glm(formula = formula, data=df3, family=sm.families.Binomial())\n",
    "glm_result = glm_model.fit()\n",
    "print(glm_result.summary())"
   ]
  },
  {
   "cell_type": "markdown",
   "id": "b1564358",
   "metadata": {},
   "source": [
    "**Interpretation**<p>\n",
    "Intercept is the log odds of the lowest math score receiving honors.\n",
    "Math coefficient (estimate) (0.15634) is the log odds increase for a 1 unit increase in math score"
   ]
  },
  {
   "cell_type": "code",
   "execution_count": null,
   "id": "2be31f77",
   "metadata": {},
   "outputs": [],
   "source": [
    "glm_result.params"
   ]
  },
  {
   "cell_type": "markdown",
   "id": "8dcce735",
   "metadata": {},
   "source": [
    "The estimated coefficients are the log odds. By exponentiating these values, we can calculate the odds, which are easier to interpret."
   ]
  },
  {
   "cell_type": "code",
   "execution_count": null,
   "id": "7dd9d08d",
   "metadata": {},
   "outputs": [],
   "source": [
    "np.exp(glm_result.params)"
   ]
  },
  {
   "cell_type": "markdown",
   "id": "788c645f",
   "metadata": {},
   "source": [
    "#### “For every one-unit increase in [X variable], the odds that the observation is in (y class) are [coefficient] times as large as the odds that the observation is not in (y class) when all other variables are held constant.”\n",
    "\n",
    "As variable math increases by one unit, the odds that the student represented in the observation are in the target class (honors) are over 1.1x as large as the odds that they won’t be in the target class.\n",
    "\n",
    "Or, there is approximately 14% increase in the odds of receiving honors.\n",
    "\n"
   ]
  },
  {
   "cell_type": "markdown",
   "id": "10c7ee3a",
   "metadata": {},
   "source": [
    "## Using a single dichotomous predictor"
   ]
  },
  {
   "cell_type": "code",
   "execution_count": null,
   "id": "62a494f9",
   "metadata": {},
   "outputs": [],
   "source": [
    "import statsmodels.formula.api as smf\n",
    "formula = 'hon ~ female'\n",
    "glm_model2 = smf.glm(formula = formula, data=df3, family=sm.families.Binomial())\n",
    "glm2_result = glm_model2.fit()\n",
    "print(glm2_result.summary())"
   ]
  },
  {
   "cell_type": "code",
   "execution_count": null,
   "id": "46c71119",
   "metadata": {},
   "outputs": [],
   "source": [
    "print(\"Coefficeients\")\n",
    "print(glm2_result.params)\n",
    "print()\n",
    "print(\"p-Values\")\n",
    "print(glm2_result.pvalues)\n",
    "print()\n",
    "print(\"Dependent variables\")\n",
    "print(glm2_result.model.endog_names)\n",
    "print()\n",
    "print(np.exp(glm2_result.params))"
   ]
  },
  {
   "cell_type": "markdown",
   "id": "1ab4bb78",
   "metadata": {},
   "source": [
    "## Using multiple predictor variables"
   ]
  },
  {
   "cell_type": "code",
   "execution_count": null,
   "id": "7dd41751",
   "metadata": {},
   "outputs": [],
   "source": [
    "import statsmodels.formula.api as smf\n",
    "formula = 'hon ~ math+female'\n",
    "glm_model3 = smf.glm(formula = formula, data=df3, family=sm.families.Binomial())\n",
    "glm3_result = glm_model3.fit()\n",
    "np.exp(glm3_result.params)\n"
   ]
  },
  {
   "cell_type": "markdown",
   "id": "f3e3d214",
   "metadata": {},
   "source": [
    "1. Holding female constant, we expect a 15% increase in the odds of receiving honors with a 1 unit increase in math score.\n",
    "2. Holding math constant, we expect the odds 124% higher for females to receive honors than males."
   ]
  },
  {
   "cell_type": "code",
   "execution_count": null,
   "id": "39afbe79",
   "metadata": {},
   "outputs": [],
   "source": [
    "import statsmodels.formula.api as smf\n",
    "formula = 'hon ~ math+read+write+female'\n",
    "glm_model4 = smf.glm(formula = formula, data=df3, family=sm.families.Binomial())\n",
    "glm4_result = glm_model4.fit()\n",
    "np.exp(glm4_result.params)"
   ]
  },
  {
   "cell_type": "code",
   "execution_count": null,
   "id": "5cbda288",
   "metadata": {},
   "outputs": [],
   "source": [
    "print(\"Coefficeients\")\n",
    "print(glm4_result.params)\n",
    "print()\n",
    "print(\"p-Values\")\n",
    "print(glm4_result.pvalues)\n",
    "print()\n",
    "print(\"Dependent variables\")\n",
    "print(glm4_result.model.endog_names)"
   ]
  },
  {
   "cell_type": "code",
   "execution_count": null,
   "id": "188eeea6",
   "metadata": {},
   "outputs": [],
   "source": [
    "# Expect n error here...\n",
    "glm_model4.pred_table()"
   ]
  },
  {
   "cell_type": "markdown",
   "id": "6baa9644",
   "metadata": {},
   "source": [
    "## Using the logit function"
   ]
  },
  {
   "cell_type": "code",
   "execution_count": null,
   "id": "a4221e75",
   "metadata": {},
   "outputs": [],
   "source": [
    "logit_model = logit('hon ~ female', df3 ).fit()\n",
    "print(logit_model.summary())"
   ]
  },
  {
   "cell_type": "markdown",
   "id": "86e5dfa3",
   "metadata": {},
   "source": [
    "Interpretation<p>\n",
    "- Males are the reference group.\n",
    "- Intercept is the log odds of males receiving honors\n",
    "- Female coefficient (estimate) (0.5928) is the log odds ratio between the female group and the male group  \n"
   ]
  },
  {
   "cell_type": "code",
   "execution_count": null,
   "id": "c43d1b3f",
   "metadata": {},
   "outputs": [],
   "source": [
    "print(np.exp(0.5928))"
   ]
  },
  {
   "cell_type": "code",
   "execution_count": null,
   "id": "82a2c537",
   "metadata": {},
   "outputs": [],
   "source": [
    "df3.groupby(['female','hon']).count()\n"
   ]
  },
  {
   "attachments": {
    "student%20data.png": {
     "image/png": "[encoded data removed]"
    }
   },
   "cell_type": "markdown",
   "id": "30511c7a",
   "metadata": {},
   "source": [
    "![student%20data.png](attachment:student%20data.png)"
   ]
  },
  {
   "cell_type": "markdown",
   "id": "849a3bf3",
   "metadata": {},
   "source": [
    "Table:\n",
    "- female across the top 0,1\n",
    "- honors down the side 0,1\n",
    "<p><p>\n",
    "- probability of female receiving honors - 32/109 = 0.29\n",
    "- probability of female not receiving honors - 77/109 = 0.71\n",
    "- Odds of female receiving honors - 0.29/0.71 = 0.41\n",
    "<p><p>\n",
    "- probability of male receiving honors - 17/91 = 0.18\n",
    "- probability of male not receiving honors - 74/91 = 0.82\n",
    "- Odds of male receiving honors - 0.17/0.82 = 0.20\n",
    "<p>    <p>\n",
    "- Ratio of odds for female to male - 0.41/0.20 = 2.05\n",
    "- Odds for females to receive honors is about 105% higher than the odds for males."
   ]
  },
  {
   "cell_type": "markdown",
   "id": "6ea5d3b9",
   "metadata": {},
   "source": [
    "# Exercise 4\n",
    "- Create a new notebook (or build on your existing exercise notebook)\n",
    "- Get the Framingham Heart Study data\n",
    "- Examine the data\n",
    "- Create a logistic regression model to predict if an individual is at risk of coronary heart disease within 10 years."
   ]
  }
 ],
 "metadata": {
  "kernelspec": {
   "display_name": "Python 3 (ipykernel)",
   "language": "python",
   "name": "python3"
  },
  "language_info": {
   "codemirror_mode": {
    "name": "ipython",
    "version": 3
   },
   "file_extension": ".py",
   "mimetype": "text/x-python",
   "name": "python",
   "nbconvert_exporter": "python",
   "pygments_lexer": "ipython3",
   "version": "3.8.12"
  },
  "toc": {
   "base_numbering": 1,
   "nav_menu": {},
   "number_sections": false,
   "sideBar": true,
   "skip_h1_title": false,
   "title_cell": "Table of Contents",
   "title_sidebar": "Contents",
   "toc_cell": true,
   "toc_position": {},
   "toc_section_display": true,
   "toc_window_display": true
  },
  "varInspector": {
   "cols": {
    "lenName": 16,
    "lenType": 16,
    "lenVar": 40
   },
   "kernels_config": {
    "python": {
     "delete_cmd_postfix": "",
     "delete_cmd_prefix": "del ",
     "library": "var_list.py",
     "varRefreshCmd": "print(var_dic_list())"
    },
    "r": {
     "delete_cmd_postfix": ") ",
     "delete_cmd_prefix": "rm(",
     "library": "var_list.r",
     "varRefreshCmd": "cat(var_dic_list()) "
    }
   },
   "types_to_exclude": [
    "module",
    "function",
    "builtin_function_or_method",
    "instance",
    "_Feature"
   ],
   "window_display": false
  }
 },
 "nbformat": 4,
 "nbformat_minor": 5
}
