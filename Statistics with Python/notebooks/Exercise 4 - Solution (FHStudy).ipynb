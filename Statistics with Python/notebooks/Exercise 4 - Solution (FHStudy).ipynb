{
 "cells": [
  {
   "cell_type": "markdown",
   "id": "9a990172",
   "metadata": {
    "toc": true
   },
   "source": [
    "<h1>Table of Contents<span class=\"tocSkip\"></span></h1>\n",
    "<div class=\"toc\"><ul class=\"toc-item\"><li><span><a href=\"#Get-the-data\" data-toc-modified-id=\"Get-the-data-1\">Get the data</a></span><ul class=\"toc-item\"><li><ul class=\"toc-item\"><li><span><a href=\"#A-look-at-the-full-dataset\" data-toc-modified-id=\"A-look-at-the-full-dataset-1.0.1\">A look at the full dataset</a></span></li></ul></li></ul></li><li><span><a href=\"#Examine-the-data\" data-toc-modified-id=\"Examine-the-data-2\">Examine the data</a></span></li></ul></div>"
   ]
  },
  {
   "cell_type": "code",
   "execution_count": null,
   "id": "517d6de6",
   "metadata": {},
   "outputs": [],
   "source": [
    "import numpy as np\n",
    "import pandas as pd\n",
    "import seaborn as sns\n",
    "import matplotlib.pyplot as plt\n",
    "%matplotlib inline\n",
    "# from scipy.stats import pearsonr\n",
    "import scipy.stats as stats \n",
    "import statsmodels.api as sm\n",
    "from statsmodels.formula.api import logit\n",
    "from statsmodels.formula.api import ols"
   ]
  },
  {
   "cell_type": "code",
   "execution_count": null,
   "id": "df5feb75",
   "metadata": {},
   "outputs": [],
   "source": [
    "# from google.colab import drive\n",
    "# drive.mount('/content/drive')"
   ]
  },
  {
   "cell_type": "markdown",
   "id": "1afc21d4",
   "metadata": {},
   "source": [
    "# Get the data"
   ]
  },
  {
   "cell_type": "markdown",
   "id": "2624bff3",
   "metadata": {},
   "source": [
    "### A look at the full dataset"
   ]
  },
  {
   "cell_type": "code",
   "execution_count": null,
   "id": "e7157650",
   "metadata": {},
   "outputs": [],
   "source": [
    "#df = pd.read_csv('/content/drive/MyDrive/NLP_data/advertising.csv')\n",
    "df_original = pd.read_csv('/Users/jimcody/Documents/GitHub/cdc_stats/data/framingham heart study-M.csv')\n",
    "df_original.columns= df.columns.str.lower()\n"
   ]
  },
  {
   "cell_type": "code",
   "execution_count": null,
   "id": "6da0db7a",
   "metadata": {},
   "outputs": [],
   "source": [
    "df = df_original\n",
    "df.head()"
   ]
  },
  {
   "cell_type": "markdown",
   "id": "deaab50f",
   "metadata": {},
   "source": [
    "# Examine the data"
   ]
  },
  {
   "cell_type": "code",
   "execution_count": null,
   "id": "162d040b",
   "metadata": {},
   "outputs": [],
   "source": [
    "print('Shape: ',df.shape)\n",
    "df.info()"
   ]
  },
  {
   "cell_type": "code",
   "execution_count": null,
   "id": "e326551a",
   "metadata": {},
   "outputs": [],
   "source": [
    "# Change to string\n",
    "df['snack'] = df['snack'].astype(str)\n",
    "df['lpa'] = df['lpa'].astype(str)\n",
    "\n",
    "# Change from codes\n",
    "#df['snack'] = df['snack'].map({1: 'cookies', 2: 'ice cream', 3: 'chips', 4: 'candy', 5: 'healthy'})\n",
    "#df['lpa'] = df['lpa'].map({1: 'very little', 2: 'some', 3: 'moderate', 4: 'daily', 5: 'two a day'})"
   ]
  },
  {
   "cell_type": "code",
   "execution_count": null,
   "id": "2472d364",
   "metadata": {},
   "outputs": [],
   "source": [
    "df.loc[df.duplicated()]"
   ]
  },
  {
   "cell_type": "code",
   "execution_count": null,
   "id": "e2d6dc30",
   "metadata": {},
   "outputs": [],
   "source": [
    "df.isnull().sum()"
   ]
  },
  {
   "cell_type": "code",
   "execution_count": null,
   "id": "e532b663",
   "metadata": {},
   "outputs": [],
   "source": [
    "df.education.fillna( df.education.mean(),inplace=True )\n",
    "df.cigsperday.fillna( df.cigsperday.mean(),inplace=True )\n",
    "df.totchol.fillna( df.totchol.mean(),inplace=True )\n",
    "df.bmi.fillna( df.bmi.mean(),inplace=True )\n",
    "df.glucose.fillna( df.glucose.mean(),inplace=True )"
   ]
  },
  {
   "cell_type": "code",
   "execution_count": null,
   "id": "be1db18f",
   "metadata": {},
   "outputs": [],
   "source": [
    "df.bpmeds.unique()"
   ]
  },
  {
   "cell_type": "code",
   "execution_count": null,
   "id": "69d094a2",
   "metadata": {},
   "outputs": [],
   "source": [
    "df.bpmeds.fillna( 0,inplace=True )\n",
    "df['bpmeds'] = df['bpmeds'].astype(str)\n",
    "\n",
    "# Can be written as\n",
    "#df.bpmeds=df.bpmeds.astype(str)"
   ]
  },
  {
   "cell_type": "code",
   "execution_count": null,
   "id": "041dcc37",
   "metadata": {},
   "outputs": [],
   "source": [
    "df.columns"
   ]
  },
  {
   "cell_type": "code",
   "execution_count": null,
   "id": "0a328c61",
   "metadata": {},
   "outputs": [],
   "source": [
    "sns.pairplot(df)"
   ]
  },
  {
   "cell_type": "code",
   "execution_count": null,
   "id": "de380eeb",
   "metadata": {},
   "outputs": [],
   "source": [
    "sns.pairplot(df, vars = ['age','cigsperday','totchol','sysbp','diabp','bmi','heartrate','glucose'])"
   ]
  },
  {
   "cell_type": "code",
   "execution_count": null,
   "id": "c4b7a124",
   "metadata": {},
   "outputs": [],
   "source": [
    "corr = df.corr()['tenyearchd']\n",
    "corr"
   ]
  },
  {
   "cell_type": "code",
   "execution_count": 32,
   "id": "1677e3a6",
   "metadata": {},
   "outputs": [
    {
     "name": "stdout",
     "output_type": "stream",
     "text": [
      "                 Generalized Linear Model Regression Results                  \n",
      "==============================================================================\n",
      "Dep. Variable:             tenyearchd   No. Observations:                 4240\n",
      "Model:                            GLM   Df Residuals:                     4238\n",
      "Model Family:                Binomial   Df Model:                            1\n",
      "Link Function:                  logit   Scale:                          1.0000\n",
      "Method:                          IRLS   Log-Likelihood:                -1782.8\n",
      "Date:                Thu, 09 Dec 2021   Deviance:                       3565.6\n",
      "Time:                        06:26:14   Pearson chi2:                 4.25e+03\n",
      "No. Iterations:                     4                                         \n",
      "Covariance Type:            nonrobust                                         \n",
      "==============================================================================\n",
      "                 coef    std err          z      P>|z|      [0.025      0.975]\n",
      "------------------------------------------------------------------------------\n",
      "Intercept     -2.6020      0.140    -18.617      0.000      -2.876      -2.328\n",
      "glucose        0.0105      0.002      6.709      0.000       0.007       0.014\n",
      "==============================================================================\n"
     ]
    }
   ],
   "source": [
    "import statsmodels.formula.api as smf\n",
    "formula = 'tenyearchd ~ glucose'\n",
    "glm_model = smf.glm(formula = formula, data=df, family=sm.families.Binomial())\n",
    "glm_result = glm_model.fit()\n",
    "print(glm_result.summary())"
   ]
  },
  {
   "cell_type": "code",
   "execution_count": null,
   "id": "4a07a854",
   "metadata": {},
   "outputs": [],
   "source": [
    "np.exp(glm_result.params)"
   ]
  },
  {
   "cell_type": "markdown",
   "id": "933fb6f6",
   "metadata": {},
   "source": [
    "For every one unit increase in glucose measure, the is a 1% increase in the odds of developing CHD within 10 years."
   ]
  },
  {
   "cell_type": "code",
   "execution_count": 38,
   "id": "d39136e2",
   "metadata": {},
   "outputs": [
    {
     "name": "stdout",
     "output_type": "stream",
     "text": [
      "                 Generalized Linear Model Regression Results                  \n",
      "==============================================================================\n",
      "Dep. Variable:             tenyearchd   No. Observations:                 4240\n",
      "Model:                            GLM   Df Residuals:                     4233\n",
      "Model Family:                Binomial   Df Model:                            6\n",
      "Link Function:                  logit   Scale:                          1.0000\n",
      "Method:                          IRLS   Log-Likelihood:                -1622.6\n",
      "Date:                Thu, 09 Dec 2021   Deviance:                       3245.1\n",
      "Time:                        06:38:53   Pearson chi2:                 4.27e+03\n",
      "No. Iterations:                     5                                         \n",
      "Covariance Type:            nonrobust                                         \n",
      "===================================================================================\n",
      "                      coef    std err          z      P>|z|      [0.025      0.975]\n",
      "-----------------------------------------------------------------------------------\n",
      "Intercept          -8.3395      0.422    -19.740      0.000      -9.167      -7.511\n",
      "glucose             0.0071      0.002      4.391      0.000       0.004       0.010\n",
      "age                 0.0567      0.006      9.852      0.000       0.045       0.068\n",
      "male                0.6776      0.092      7.329      0.000       0.496       0.859\n",
      "prevalentstroke     0.9949      0.433      2.299      0.021       0.147       1.843\n",
      "totchol             0.0021      0.001      2.027      0.043    6.78e-05       0.004\n",
      "sysbp               0.0167      0.002      8.313      0.000       0.013       0.021\n",
      "===================================================================================\n"
     ]
    }
   ],
   "source": [
    "import statsmodels.formula.api as smf\n",
    "formula = 'tenyearchd ~ glucose+age+male+prevalentstroke+totchol+sysbp'\n",
    "glm2_model = smf.glm(formula = formula, data=df, family=sm.families.Binomial())\n",
    "glm2_result = glm2_model.fit()\n",
    "print(glm2_result.summary())"
   ]
  },
  {
   "cell_type": "code",
   "execution_count": 33,
   "id": "913729e5",
   "metadata": {},
   "outputs": [
    {
     "name": "stdout",
     "output_type": "stream",
     "text": [
      "Optimization terminated successfully.\n",
      "         Current function value: 0.420470\n",
      "         Iterations 6\n",
      "                           Logit Regression Results                           \n",
      "==============================================================================\n",
      "Dep. Variable:             tenyearchd   No. Observations:                 4240\n",
      "Model:                          Logit   Df Residuals:                     4238\n",
      "Method:                           MLE   Df Model:                            1\n",
      "Date:                Thu, 09 Dec 2021   Pseudo R-squ.:                 0.01291\n",
      "Time:                        06:26:19   Log-Likelihood:                -1782.8\n",
      "converged:                       True   LL-Null:                       -1806.1\n",
      "Covariance Type:            nonrobust   LLR p-value:                 8.604e-12\n",
      "==============================================================================\n",
      "                 coef    std err          z      P>|z|      [0.025      0.975]\n",
      "------------------------------------------------------------------------------\n",
      "Intercept     -2.6020      0.140    -18.617      0.000      -2.876      -2.328\n",
      "glucose        0.0105      0.002      6.709      0.000       0.007       0.014\n",
      "==============================================================================\n"
     ]
    }
   ],
   "source": [
    "logit_model = logit('tenyearchd ~ glucose', df ).fit()\n",
    "print(logit_model.summary())"
   ]
  },
  {
   "cell_type": "markdown",
   "id": "d7e8102f",
   "metadata": {},
   "source": [
    "- Pseudo- Rsq: substitute for Rsq\n",
    "- Log-likelihood: F statistic\n",
    "- LL-Null: F-probability"
   ]
  },
  {
   "cell_type": "code",
   "execution_count": 36,
   "id": "d6adbad7",
   "metadata": {},
   "outputs": [
    {
     "name": "stdout",
     "output_type": "stream",
     "text": [
      "Optimization terminated successfully.\n",
      "         Current function value: 0.382259\n",
      "         Iterations 7\n",
      "                           Logit Regression Results                           \n",
      "==============================================================================\n",
      "Dep. Variable:             tenyearchd   No. Observations:                 4240\n",
      "Model:                          Logit   Df Residuals:                     4230\n",
      "Method:                           MLE   Df Model:                            9\n",
      "Date:                Thu, 09 Dec 2021   Pseudo R-squ.:                  0.1026\n",
      "Time:                        06:29:11   Log-Likelihood:                -1620.8\n",
      "converged:                       True   LL-Null:                       -1806.1\n",
      "Covariance Type:            nonrobust   LLR p-value:                 2.480e-74\n",
      "===================================================================================\n",
      "                      coef    std err          z      P>|z|      [0.025      0.975]\n",
      "-----------------------------------------------------------------------------------\n",
      "Intercept          -7.8417      0.540    -14.533      0.000      -8.899      -6.784\n",
      "glucose             0.0064      0.002      2.994      0.003       0.002       0.011\n",
      "age                 0.0562      0.006      9.745      0.000       0.045       0.068\n",
      "bmi                -0.0027      0.011     -0.240      0.810      -0.025       0.020\n",
      "male                0.6718      0.093      7.251      0.000       0.490       0.853\n",
      "prevalentstroke     0.9569      0.434      2.206      0.027       0.107       1.807\n",
      "prevalenthyp        0.2244      0.126      1.787      0.074      -0.022       0.471\n",
      "diabetes            0.1787      0.293      0.610      0.542      -0.395       0.753\n",
      "totchol             0.0020      0.001      1.982      0.048    2.21e-05       0.004\n",
      "sysbp               0.0136      0.003      5.059      0.000       0.008       0.019\n",
      "===================================================================================\n"
     ]
    }
   ],
   "source": [
    "logit_model2 = logit('tenyearchd ~ glucose+age+bmi+male+prevalentstroke+prevalenthyp+diabetes+totchol+sysbp', df ).fit()\n",
    "print(logit_model2.summary())"
   ]
  },
  {
   "cell_type": "code",
   "execution_count": 37,
   "id": "e22b3031",
   "metadata": {},
   "outputs": [
    {
     "name": "stdout",
     "output_type": "stream",
     "text": [
      "Optimization terminated successfully.\n",
      "         Current function value: 0.382678\n",
      "         Iterations 7\n",
      "                           Logit Regression Results                           \n",
      "==============================================================================\n",
      "Dep. Variable:             tenyearchd   No. Observations:                 4240\n",
      "Model:                          Logit   Df Residuals:                     4233\n",
      "Method:                           MLE   Df Model:                            6\n",
      "Date:                Thu, 09 Dec 2021   Pseudo R-squ.:                  0.1016\n",
      "Time:                        06:30:12   Log-Likelihood:                -1622.6\n",
      "converged:                       True   LL-Null:                       -1806.1\n",
      "Covariance Type:            nonrobust   LLR p-value:                 3.279e-76\n",
      "===================================================================================\n",
      "                      coef    std err          z      P>|z|      [0.025      0.975]\n",
      "-----------------------------------------------------------------------------------\n",
      "Intercept          -8.3395      0.422    -19.740      0.000      -9.167      -7.511\n",
      "glucose             0.0071      0.002      4.391      0.000       0.004       0.010\n",
      "age                 0.0567      0.006      9.852      0.000       0.045       0.068\n",
      "male                0.6776      0.092      7.329      0.000       0.496       0.859\n",
      "prevalentstroke     0.9949      0.433      2.299      0.021       0.147       1.843\n",
      "totchol             0.0021      0.001      2.027      0.043    6.78e-05       0.004\n",
      "sysbp               0.0167      0.002      8.313      0.000       0.013       0.021\n",
      "===================================================================================\n"
     ]
    }
   ],
   "source": [
    "logit_model3 = logit('tenyearchd ~ glucose+age+male+prevalentstroke+totchol+sysbp', df ).fit()\n",
    "print(logit_model3.summary())"
   ]
  },
  {
   "cell_type": "code",
   "execution_count": null,
   "id": "e4457657",
   "metadata": {},
   "outputs": [],
   "source": []
  }
 ],
 "metadata": {
  "kernelspec": {
   "display_name": "Python 3 (ipykernel)",
   "language": "python",
   "name": "python3"
  },
  "language_info": {
   "codemirror_mode": {
    "name": "ipython",
    "version": 3
   },
   "file_extension": ".py",
   "mimetype": "text/x-python",
   "name": "python",
   "nbconvert_exporter": "python",
   "pygments_lexer": "ipython3",
   "version": "3.8.12"
  },
  "toc": {
   "base_numbering": 1,
   "nav_menu": {},
   "number_sections": false,
   "sideBar": true,
   "skip_h1_title": false,
   "title_cell": "Table of Contents",
   "title_sidebar": "Contents",
   "toc_cell": true,
   "toc_position": {
    "height": "calc(100% - 180px)",
    "left": "10px",
    "top": "150px",
    "width": "165px"
   },
   "toc_section_display": true,
   "toc_window_display": true
  },
  "varInspector": {
   "cols": {
    "lenName": 16,
    "lenType": 16,
    "lenVar": 40
   },
   "kernels_config": {
    "python": {
     "delete_cmd_postfix": "",
     "delete_cmd_prefix": "del ",
     "library": "var_list.py",
     "varRefreshCmd": "print(var_dic_list())"
    },
    "r": {
     "delete_cmd_postfix": ") ",
     "delete_cmd_prefix": "rm(",
     "library": "var_list.r",
     "varRefreshCmd": "cat(var_dic_list()) "
    }
   },
   "types_to_exclude": [
    "module",
    "function",
    "builtin_function_or_method",
    "instance",
    "_Feature"
   ],
   "window_display": false
  }
 },
 "nbformat": 4,
 "nbformat_minor": 5
}
