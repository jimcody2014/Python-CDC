{
 "cells": [
  {
   "cell_type": "markdown",
   "id": "99375bf3",
   "metadata": {},
   "source": [
    "# Jupyter Notebook Basics - The CoLab Version\n",
    "\n",
    "- add a row for code\n",
    "- add a row for markdown\n",
    "- delete a row\n",
    "- move up/down"
   ]
  },
  {
   "cell_type": "markdown",
   "id": "de631c0e",
   "metadata": {},
   "source": [
    "# Attach Your Google Drive\n",
    "\n",
    "You will have to do this everytime you open a notebook."
   ]
  },
  {
   "cell_type": "code",
   "execution_count": null,
   "id": "eb0b624d",
   "metadata": {},
   "outputs": [],
   "source": [
    "from google.colab import drive\n",
    "drive.mount('/content/drive')"
   ]
  },
  {
   "cell_type": "markdown",
   "id": "b407bc0d",
   "metadata": {},
   "source": [
    "### Upload outbreaks to your google drive\n",
    "- From within the notebook on CoLab:\n",
    "    - Drive > MyDrive > Press the three dots and select 'New Folder'\n",
    "    - Name the folder NLP_data\n",
    "    - Go to the NLP_data folder and upload outbreaks2.csv"
   ]
  },
  {
   "cell_type": "markdown",
   "id": "0249f9c5",
   "metadata": {},
   "source": [
    "# Read from your Google Drive"
   ]
  },
  {
   "cell_type": "code",
   "execution_count": null,
   "id": "ac112307",
   "metadata": {},
   "outputs": [],
   "source": [
    "import pandas as pd\n",
    "import seaborn as sns"
   ]
  },
  {
   "cell_type": "markdown",
   "id": "372758a1",
   "metadata": {},
   "source": [
    "In the files directory: \n",
    "- go to the file you want to load\n",
    "- click on the three dots and select 'Copy path'\n",
    "- paste the path into the read statement"
   ]
  },
  {
   "cell_type": "code",
   "execution_count": null,
   "id": "028d9af9",
   "metadata": {},
   "outputs": [],
   "source": [
    "vac = pd.read_csv('/content/drive/MyDrive/NLP_data/outbreaks2.csv')\n",
    "vac.head()"
   ]
  },
  {
   "cell_type": "markdown",
   "id": "694d4000",
   "metadata": {},
   "source": [
    "# Read from Github"
   ]
  },
  {
   "cell_type": "code",
   "execution_count": null,
   "id": "00cc79ea",
   "metadata": {},
   "outputs": [],
   "source": [
    "latuda = pd.read_csv('https://raw.githubusercontent.com/jimcody2014/nlp_cdc/main/data/latuda.csv')\n",
    "latuda.head()"
   ]
  },
  {
   "cell_type": "markdown",
   "id": "c3321a46",
   "metadata": {},
   "source": [
    "# Use your Kaggle API Token to get data from Kaggle"
   ]
  },
  {
   "cell_type": "code",
   "execution_count": null,
   "id": "f54d775d",
   "metadata": {},
   "outputs": [],
   "source": [
    "from google.colab import files\n",
    "\n",
    "## Upload your kaggle json file (API Token)\n",
    "files.upload()\n",
    "\n",
    "!mkdir ~/.kaggle            # The exclamation point means run this command line code\n",
    "\n",
    "!cp kaggle.json ~/.kaggle/\n",
    "\n",
    "!chmod 600 ~/.kaggle/kaggle.json"
   ]
  },
  {
   "cell_type": "markdown",
   "id": "b259c3a4",
   "metadata": {},
   "source": [
    "### Get the Kaggle data"
   ]
  },
  {
   "cell_type": "code",
   "execution_count": null,
   "id": "1bae4bad",
   "metadata": {},
   "outputs": [],
   "source": [
    "!kaggle datasets download -d nicapotato/womens-ecommerce-clothing-reviews"
   ]
  },
  {
   "cell_type": "code",
   "execution_count": null,
   "id": "fccf9a94",
   "metadata": {},
   "outputs": [],
   "source": [
    "!ls"
   ]
  },
  {
   "cell_type": "markdown",
   "id": "993e9d5b",
   "metadata": {},
   "source": [
    "### Unzip the Kaggle data\n",
    "\n",
    "This will unzip the file into a new folder called data."
   ]
  },
  {
   "cell_type": "code",
   "execution_count": null,
   "id": "f5d4eaed",
   "metadata": {},
   "outputs": [],
   "source": [
    "!mkdir data\n",
    "\n",
    "!unzip womens-ecommerce-clothing-reviews -d data"
   ]
  },
  {
   "cell_type": "code",
   "execution_count": null,
   "id": "6d28e3e9",
   "metadata": {},
   "outputs": [],
   "source": [
    "!ls -l data/"
   ]
  },
  {
   "cell_type": "markdown",
   "id": "fe760a6c",
   "metadata": {},
   "source": [
    "### Use the Kaggle data"
   ]
  },
  {
   "cell_type": "code",
   "execution_count": null,
   "id": "ce5128fb",
   "metadata": {},
   "outputs": [],
   "source": [
    "reviews = pd.read_csv('/content/data/Womens Clothing E-Commerce Reviews.csv')\n",
    "reviews.head()"
   ]
  },
  {
   "cell_type": "markdown",
   "id": "c1235521",
   "metadata": {},
   "source": [
    "# Exercise - 15 minutes\n",
    "- Upload the Health-News-Tweets.zip file to your NLP_data folder\n",
    "- Inside NLP_data create a new folder named health_tweets\n",
    "- From within this notebook, unzip Health-News-Tweets into health_tweets"
   ]
  },
  {
   "cell_type": "markdown",
   "id": "9a82d45b",
   "metadata": {},
   "source": [
    "# Save this notebook to Google Drive\n",
    "\n",
    "The notebook will be placed in a folder named Colab Notebooks"
   ]
  },
  {
   "cell_type": "code",
   "execution_count": null,
   "id": "7464dd95",
   "metadata": {},
   "outputs": [],
   "source": []
  },
  {
   "cell_type": "code",
   "execution_count": null,
   "id": "cd2fa6ca",
   "metadata": {},
   "outputs": [],
   "source": []
  }
 ],
 "metadata": {
  "kernelspec": {
   "display_name": "Python 3 (ipykernel)",
   "language": "python",
   "name": "python3"
  },
  "language_info": {
   "codemirror_mode": {
    "name": "ipython",
    "version": 3
   },
   "file_extension": ".py",
   "mimetype": "text/x-python",
   "name": "python",
   "nbconvert_exporter": "python",
   "pygments_lexer": "ipython3",
   "version": "3.8.12"
  }
 },
 "nbformat": 4,
 "nbformat_minor": 5
}
