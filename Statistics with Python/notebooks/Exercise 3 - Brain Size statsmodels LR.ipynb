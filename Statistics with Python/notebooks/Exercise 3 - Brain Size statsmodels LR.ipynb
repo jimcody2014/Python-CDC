{
 "cells": [
  {
   "cell_type": "markdown",
   "id": "2ed9c3c5",
   "metadata": {
    "toc": true
   },
   "source": [
    "<h1>Table of Contents<span class=\"tocSkip\"></span></h1>\n",
    "<div class=\"toc\"><ul class=\"toc-item\"><li><span><a href=\"#Data-Cleaning\" data-toc-modified-id=\"Data-Cleaning-1\">Data Cleaning</a></span><ul class=\"toc-item\"><li><span><a href=\"#Missing-data\" data-toc-modified-id=\"Missing-data-1.1\">Missing data</a></span></li></ul></li><li><span><a href=\"#A-Quick-EDA\" data-toc-modified-id=\"A-Quick-EDA-2\">A Quick EDA</a></span><ul class=\"toc-item\"><li><span><a href=\"#Examine-the-endogenous-(dependent)-variable---VIQ\" data-toc-modified-id=\"Examine-the-endogenous-(dependent)-variable---VIQ-2.1\">Examine the endogenous (dependent) variable - VIQ</a></span></li><li><span><a href=\"#What-do-our-exogenous-(independent)-variables-look-like?\" data-toc-modified-id=\"What-do-our-exogenous-(independent)-variables-look-like?-2.2\">What do our exogenous (independent) variables look like?</a></span></li></ul></li></ul></div>"
   ]
  },
  {
   "cell_type": "markdown",
   "id": "d38d7b5f",
   "metadata": {},
   "source": [
    "Abstract: Are the size and weight of your brain indicators of your mental capacity? <p>\n",
    "In this study by Willerman et al. (1991) the researchers use Magnetic\n",
    "Resonance Imaging (MRI) to determine the brain size of the subjects. The\n",
    "researchers take into account gender and body size to draw conclusions about the\n",
    "connection between brain size and intelligence.<p>\n",
    "Dependent variable is VIQ\n",
    "1. Gender: Male or Female\n",
    "2. FSIQ: Full Scale IQ scores based on the four Wechsler (1981) subtests\n",
    "3. VIQ: Verbal IQ scores based on the four Wechsler (1981) subtests\n",
    "4. PIQ: Performance IQ scores based on the four Wechsler (1981) subtests\n",
    "5. Weight: body weight in pounds\n",
    "6. Height: height in inches\n",
    "7. MRI_Count: total pixel Count from the 18 MRI scans"
   ]
  },
  {
   "cell_type": "markdown",
   "id": "1b97d104",
   "metadata": {},
   "source": [
    "Statsmodels uses a statistical terminology: the y variable in statsmodels is called ‘endogenous’ while the x variable is called exogenous. This is discussed in more detail here.\n",
    "\n",
    "To simplify, y (endogenous) is the value you are trying to predict, while x (exogenous) represents the features you are using to make the prediction.\n",
    "\n"
   ]
  },
  {
   "cell_type": "code",
   "execution_count": 2,
   "id": "05eebd32",
   "metadata": {},
   "outputs": [],
   "source": [
    "import pandas as pd\n",
    "import numpy as np\n",
    "import seaborn as sns\n",
    "import scipy.stats as stats\n",
    "import statsmodels.api as sm\n",
    "from statsmodels.formula.api import ols\n",
    "import matplotlib.pyplot as plt"
   ]
  },
  {
   "cell_type": "code",
   "execution_count": 3,
   "id": "8fac446d",
   "metadata": {},
   "outputs": [
    {
     "data": {
      "text/html": [
       "<div>\n",
       "<style scoped>\n",
       "    .dataframe tbody tr th:only-of-type {\n",
       "        vertical-align: middle;\n",
       "    }\n",
       "\n",
       "    .dataframe tbody tr th {\n",
       "        vertical-align: top;\n",
       "    }\n",
       "\n",
       "    .dataframe thead th {\n",
       "        text-align: right;\n",
       "    }\n",
       "</style>\n",
       "<table border=\"1\" class=\"dataframe\">\n",
       "  <thead>\n",
       "    <tr style=\"text-align: right;\">\n",
       "      <th></th>\n",
       "      <th>Gender</th>\n",
       "      <th>FSIQ</th>\n",
       "      <th>VIQ</th>\n",
       "      <th>PIQ</th>\n",
       "      <th>Weight</th>\n",
       "      <th>Height</th>\n",
       "      <th>MRI_Count</th>\n",
       "      <th>class</th>\n",
       "      <th>major</th>\n",
       "    </tr>\n",
       "  </thead>\n",
       "  <tbody>\n",
       "    <tr>\n",
       "      <th>0</th>\n",
       "      <td>Female</td>\n",
       "      <td>133</td>\n",
       "      <td>132</td>\n",
       "      <td>124</td>\n",
       "      <td>118.0</td>\n",
       "      <td>64.5</td>\n",
       "      <td>816932</td>\n",
       "      <td>F</td>\n",
       "      <td>STEM</td>\n",
       "    </tr>\n",
       "    <tr>\n",
       "      <th>1</th>\n",
       "      <td>Male</td>\n",
       "      <td>140</td>\n",
       "      <td>150</td>\n",
       "      <td>124</td>\n",
       "      <td>NaN</td>\n",
       "      <td>72.5</td>\n",
       "      <td>1001121</td>\n",
       "      <td>S</td>\n",
       "      <td>Business</td>\n",
       "    </tr>\n",
       "    <tr>\n",
       "      <th>2</th>\n",
       "      <td>Male</td>\n",
       "      <td>139</td>\n",
       "      <td>123</td>\n",
       "      <td>150</td>\n",
       "      <td>143.0</td>\n",
       "      <td>73.3</td>\n",
       "      <td>1038437</td>\n",
       "      <td>J</td>\n",
       "      <td>Art</td>\n",
       "    </tr>\n",
       "    <tr>\n",
       "      <th>3</th>\n",
       "      <td>Male</td>\n",
       "      <td>133</td>\n",
       "      <td>129</td>\n",
       "      <td>128</td>\n",
       "      <td>172.0</td>\n",
       "      <td>68.8</td>\n",
       "      <td>965353</td>\n",
       "      <td>Sr</td>\n",
       "      <td>STEM</td>\n",
       "    </tr>\n",
       "    <tr>\n",
       "      <th>4</th>\n",
       "      <td>Female</td>\n",
       "      <td>137</td>\n",
       "      <td>132</td>\n",
       "      <td>134</td>\n",
       "      <td>147.0</td>\n",
       "      <td>65.0</td>\n",
       "      <td>951545</td>\n",
       "      <td>S</td>\n",
       "      <td>Business</td>\n",
       "    </tr>\n",
       "  </tbody>\n",
       "</table>\n",
       "</div>"
      ],
      "text/plain": [
       "   Gender  FSIQ  VIQ  PIQ  Weight  Height  MRI_Count class     major\n",
       "0  Female   133  132  124   118.0    64.5     816932     F      STEM\n",
       "1    Male   140  150  124     NaN    72.5    1001121     S  Business\n",
       "2    Male   139  123  150   143.0    73.3    1038437     J       Art\n",
       "3    Male   133  129  128   172.0    68.8     965353    Sr      STEM\n",
       "4  Female   137  132  134   147.0    65.0     951545     S  Business"
      ]
     },
     "execution_count": 3,
     "metadata": {},
     "output_type": "execute_result"
    }
   ],
   "source": [
    "brain = pd.read_csv('/Users/jimcody/Documents/2021Python/statistics/data/brain_sizeM.csv')\n",
    "brain.head()"
   ]
  },
  {
   "cell_type": "code",
   "execution_count": 12,
   "id": "7306c25e",
   "metadata": {},
   "outputs": [
    {
     "name": "stdout",
     "output_type": "stream",
     "text": [
      "(40, 9)\n",
      "\n",
      "Index(['Gender', 'FSIQ', 'VIQ', 'PIQ', 'Weight', 'Height', 'MRI_Count',\n",
      "       'class', 'major'],\n",
      "      dtype='object')\n",
      "\n",
      "Gender        object\n",
      "FSIQ           int64\n",
      "VIQ            int64\n",
      "PIQ            int64\n",
      "Weight       float64\n",
      "Height       float64\n",
      "MRI_Count      int64\n",
      "class         object\n",
      "major         object\n",
      "dtype: object\n",
      "\n",
      "RangeIndex(start=0, stop=40, step=1)\n"
     ]
    }
   ],
   "source": [
    "print(brain.shape)\n",
    "print()\n",
    "print(brain.columns)\n",
    "print()\n",
    "print(brain.dtypes)\n",
    "print()\n",
    "print(brain.index)"
   ]
  },
  {
   "cell_type": "code",
   "execution_count": 14,
   "id": "bbfea109",
   "metadata": {},
   "outputs": [],
   "source": [
    "brain.columns= brain.columns.str.lower()"
   ]
  },
  {
   "cell_type": "code",
   "execution_count": 15,
   "id": "d211bc1e",
   "metadata": {},
   "outputs": [
    {
     "data": {
      "text/html": [
       "<div>\n",
       "<style scoped>\n",
       "    .dataframe tbody tr th:only-of-type {\n",
       "        vertical-align: middle;\n",
       "    }\n",
       "\n",
       "    .dataframe tbody tr th {\n",
       "        vertical-align: top;\n",
       "    }\n",
       "\n",
       "    .dataframe thead th {\n",
       "        text-align: right;\n",
       "    }\n",
       "</style>\n",
       "<table border=\"1\" class=\"dataframe\">\n",
       "  <thead>\n",
       "    <tr style=\"text-align: right;\">\n",
       "      <th></th>\n",
       "      <th>fsiq</th>\n",
       "      <th>viq</th>\n",
       "      <th>piq</th>\n",
       "      <th>weight</th>\n",
       "      <th>height</th>\n",
       "      <th>mri_count</th>\n",
       "    </tr>\n",
       "  </thead>\n",
       "  <tbody>\n",
       "    <tr>\n",
       "      <th>count</th>\n",
       "      <td>40.000000</td>\n",
       "      <td>40.000000</td>\n",
       "      <td>40.00000</td>\n",
       "      <td>38.000000</td>\n",
       "      <td>39.000000</td>\n",
       "      <td>4.000000e+01</td>\n",
       "    </tr>\n",
       "    <tr>\n",
       "      <th>mean</th>\n",
       "      <td>113.450000</td>\n",
       "      <td>112.350000</td>\n",
       "      <td>111.02500</td>\n",
       "      <td>151.052632</td>\n",
       "      <td>68.525641</td>\n",
       "      <td>9.087550e+05</td>\n",
       "    </tr>\n",
       "    <tr>\n",
       "      <th>std</th>\n",
       "      <td>24.082071</td>\n",
       "      <td>23.616107</td>\n",
       "      <td>22.47105</td>\n",
       "      <td>23.478509</td>\n",
       "      <td>3.994649</td>\n",
       "      <td>7.228205e+04</td>\n",
       "    </tr>\n",
       "    <tr>\n",
       "      <th>min</th>\n",
       "      <td>77.000000</td>\n",
       "      <td>71.000000</td>\n",
       "      <td>72.00000</td>\n",
       "      <td>106.000000</td>\n",
       "      <td>62.000000</td>\n",
       "      <td>7.906190e+05</td>\n",
       "    </tr>\n",
       "    <tr>\n",
       "      <th>25%</th>\n",
       "      <td>89.750000</td>\n",
       "      <td>90.000000</td>\n",
       "      <td>88.25000</td>\n",
       "      <td>135.250000</td>\n",
       "      <td>66.000000</td>\n",
       "      <td>8.559185e+05</td>\n",
       "    </tr>\n",
       "    <tr>\n",
       "      <th>50%</th>\n",
       "      <td>116.500000</td>\n",
       "      <td>113.000000</td>\n",
       "      <td>115.00000</td>\n",
       "      <td>146.500000</td>\n",
       "      <td>68.000000</td>\n",
       "      <td>9.053990e+05</td>\n",
       "    </tr>\n",
       "    <tr>\n",
       "      <th>75%</th>\n",
       "      <td>135.500000</td>\n",
       "      <td>129.750000</td>\n",
       "      <td>128.00000</td>\n",
       "      <td>172.000000</td>\n",
       "      <td>70.500000</td>\n",
       "      <td>9.500780e+05</td>\n",
       "    </tr>\n",
       "    <tr>\n",
       "      <th>max</th>\n",
       "      <td>144.000000</td>\n",
       "      <td>150.000000</td>\n",
       "      <td>150.00000</td>\n",
       "      <td>192.000000</td>\n",
       "      <td>77.000000</td>\n",
       "      <td>1.079549e+06</td>\n",
       "    </tr>\n",
       "  </tbody>\n",
       "</table>\n",
       "</div>"
      ],
      "text/plain": [
       "             fsiq         viq        piq      weight     height     mri_count\n",
       "count   40.000000   40.000000   40.00000   38.000000  39.000000  4.000000e+01\n",
       "mean   113.450000  112.350000  111.02500  151.052632  68.525641  9.087550e+05\n",
       "std     24.082071   23.616107   22.47105   23.478509   3.994649  7.228205e+04\n",
       "min     77.000000   71.000000   72.00000  106.000000  62.000000  7.906190e+05\n",
       "25%     89.750000   90.000000   88.25000  135.250000  66.000000  8.559185e+05\n",
       "50%    116.500000  113.000000  115.00000  146.500000  68.000000  9.053990e+05\n",
       "75%    135.500000  129.750000  128.00000  172.000000  70.500000  9.500780e+05\n",
       "max    144.000000  150.000000  150.00000  192.000000  77.000000  1.079549e+06"
      ]
     },
     "execution_count": 15,
     "metadata": {},
     "output_type": "execute_result"
    }
   ],
   "source": [
    "brain.describe()"
   ]
  },
  {
   "cell_type": "markdown",
   "id": "5f649e37",
   "metadata": {},
   "source": [
    "## Data Cleaning"
   ]
  },
  {
   "cell_type": "code",
   "execution_count": null,
   "id": "02a215e5",
   "metadata": {},
   "outputs": [],
   "source": [
    "# No datatypes to change\n",
    "# No columns need to be dropped\n",
    "# Name changes were taken care of above\n",
    "# No additional columns need to be created (at this time)"
   ]
  },
  {
   "cell_type": "markdown",
   "id": "db68c362",
   "metadata": {},
   "source": [
    "### Missing data"
   ]
  },
  {
   "cell_type": "code",
   "execution_count": 17,
   "id": "9c9bc524",
   "metadata": {},
   "outputs": [
    {
     "data": {
      "text/plain": [
       "gender       0\n",
       "fsiq         0\n",
       "viq          0\n",
       "piq          0\n",
       "weight       2\n",
       "height       1\n",
       "mri_count    0\n",
       "class        0\n",
       "major        0\n",
       "dtype: int64"
      ]
     },
     "execution_count": 17,
     "metadata": {},
     "output_type": "execute_result"
    }
   ],
   "source": [
    "brain.isnull().sum()"
   ]
  },
  {
   "cell_type": "code",
   "execution_count": 18,
   "id": "64878473",
   "metadata": {},
   "outputs": [],
   "source": [
    "brain['weight'].fillna((brain['weight'].mean()), inplace=True)\n",
    "brain['height'].fillna((brain['height'].mean()), inplace=True)"
   ]
  },
  {
   "cell_type": "markdown",
   "id": "c274b9a0",
   "metadata": {},
   "source": [
    "## A Quick EDA"
   ]
  },
  {
   "cell_type": "markdown",
   "id": "33107221",
   "metadata": {},
   "source": [
    "### Examine the endogenous (dependent) variable - VIQ"
   ]
  },
  {
   "cell_type": "code",
   "execution_count": 20,
   "id": "2c3aaa4a",
   "metadata": {},
   "outputs": [
    {
     "data": {
      "text/plain": [
       "count     40.000000\n",
       "mean     112.350000\n",
       "std       23.616107\n",
       "min       71.000000\n",
       "25%       90.000000\n",
       "50%      113.000000\n",
       "75%      129.750000\n",
       "max      150.000000\n",
       "Name: viq, dtype: float64"
      ]
     },
     "execution_count": 20,
     "metadata": {},
     "output_type": "execute_result"
    }
   ],
   "source": [
    "brain.viq.describe()"
   ]
  },
  {
   "cell_type": "code",
   "execution_count": 27,
   "id": "6e46a9a6",
   "metadata": {},
   "outputs": [
    {
     "name": "stderr",
     "output_type": "stream",
     "text": [
      "/opt/anaconda3/envs/NLP_code/lib/python3.8/site-packages/seaborn/distributions.py:2619: FutureWarning: `distplot` is a deprecated function and will be removed in a future version. Please adapt your code to use either `displot` (a figure-level function with similar flexibility) or `histplot` (an axes-level function for histograms).\n",
      "  warnings.warn(msg, FutureWarning)\n"
     ]
    },
    {
     "data": {
      "text/plain": [
       "Text(0.5, 1.0, 'Histogram of VIQ')"
      ]
     },
     "execution_count": 27,
     "metadata": {},
     "output_type": "execute_result"
    },
    {
     "data": {
      "image/png": "[encoded data removed]",
      "text/plain": [
       "<Figure size 432x288 with 1 Axes>"
      ]
     },
     "metadata": {
      "needs_background": "light"
     },
     "output_type": "display_data"
    }
   ],
   "source": [
    "sns.distplot(brain['viq'], kde = True).set_title('Histogram of VIQ')"
   ]
  },
  {
   "cell_type": "code",
   "execution_count": 29,
   "id": "920e58f8",
   "metadata": {},
   "outputs": [
    {
     "data": {
      "text/plain": [
       "Index(['gender', 'fsiq', 'viq', 'piq', 'weight', 'height', 'mri_count',\n",
       "       'class', 'major'],\n",
       "      dtype='object')"
      ]
     },
     "execution_count": 29,
     "metadata": {},
     "output_type": "execute_result"
    },
    {
     "data": {
      "image/png": "[encoded data removed]",
      "text/plain": [
       "<Figure size 432x288 with 1 Axes>"
      ]
     },
     "metadata": {
      "needs_background": "light"
     },
     "output_type": "display_data"
    }
   ],
   "source": [
    "sns.boxplot(y=\"viq\", data=brain,palette='rainbow')\n",
    "brain.columns"
   ]
  },
  {
   "cell_type": "code",
   "execution_count": 28,
   "id": "061efe14",
   "metadata": {},
   "outputs": [
    {
     "data": {
      "text/plain": [
       "<AxesSubplot:xlabel='gender', ylabel='viq'>"
      ]
     },
     "execution_count": 28,
     "metadata": {},
     "output_type": "execute_result"
    },
    {
     "data": {
      "image/png": "[encoded data removed]",
      "text/plain": [
       "<Figure size 432x288 with 1 Axes>"
      ]
     },
     "metadata": {
      "needs_background": "light"
     },
     "output_type": "display_data"
    }
   ],
   "source": [
    "sns.boxplot(x='gender', y='viq', data=brain,palette='rainbow')"
   ]
  },
  {
   "cell_type": "code",
   "execution_count": 32,
   "id": "1aff0850",
   "metadata": {},
   "outputs": [
    {
     "data": {
      "text/plain": [
       "<AxesSubplot:xlabel='class', ylabel='viq'>"
      ]
     },
     "execution_count": 32,
     "metadata": {},
     "output_type": "execute_result"
    },
    {
     "data": {
      "image/png": "[encoded data removed]",
      "text/plain": [
       "<Figure size 432x288 with 1 Axes>"
      ]
     },
     "metadata": {
      "needs_background": "light"
     },
     "output_type": "display_data"
    }
   ],
   "source": [
    "sns.boxplot(x='class', y='viq', data=brain,palette='rainbow')"
   ]
  },
  {
   "cell_type": "code",
   "execution_count": 33,
   "id": "815bc921",
   "metadata": {},
   "outputs": [
    {
     "data": {
      "text/plain": [
       "<AxesSubplot:xlabel='major', ylabel='viq'>"
      ]
     },
     "execution_count": 33,
     "metadata": {},
     "output_type": "execute_result"
    },
    {
     "data": {
      "image/png": "[encoded data removed]",
      "text/plain": [
       "<Figure size 432x288 with 1 Axes>"
      ]
     },
     "metadata": {
      "needs_background": "light"
     },
     "output_type": "display_data"
    }
   ],
   "source": [
    "sns.boxplot(x='major', y='viq', data=brain,palette='rainbow')"
   ]
  },
  {
   "cell_type": "markdown",
   "id": "64e0686b",
   "metadata": {},
   "source": [
    "### What do our exogenous (independent) variables look like?"
   ]
  },
  {
   "cell_type": "code",
   "execution_count": 36,
   "id": "f0494109",
   "metadata": {},
   "outputs": [
    {
     "data": {
      "text/plain": [
       "<seaborn.axisgrid.PairGrid at 0x7f82e20b9df0>"
      ]
     },
     "execution_count": 36,
     "metadata": {},
     "output_type": "execute_result"
    },
    {
     "data": {
      "image/png": "[encoded data removed]",
      "text/plain": [
       "<Figure size 1080x1080 with 42 Axes>"
      ]
     },
     "metadata": {
      "needs_background": "light"
     },
     "output_type": "display_data"
    }
   ],
   "source": [
    "sns.pairplot(data = brain)"
   ]
  },
  {
   "cell_type": "code",
   "execution_count": null,
   "id": "163aab38",
   "metadata": {},
   "outputs": [],
   "source": [
    " stats.ttest_ind(df['bp_after'][df['sex'] == 'Male'],                 \n",
    "                 df['bp_after'][df['sex'] == 'Female'])"
   ]
  },
  {
   "cell_type": "code",
   "execution_count": null,
   "id": "ad9a2248",
   "metadata": {},
   "outputs": [],
   "source": [
    "brain.groupby('Gender').mean()"
   ]
  },
  {
   "cell_type": "code",
   "execution_count": null,
   "id": "43962e19",
   "metadata": {},
   "outputs": [],
   "source": [
    "sns.pairplot(data = brain, hue = 'Gender')"
   ]
  },
  {
   "cell_type": "code",
   "execution_count": null,
   "id": "14beffa2",
   "metadata": {},
   "outputs": [],
   "source": [
    "stats.ttest_1samp(brain['VIQ'], 0) "
   ]
  },
  {
   "cell_type": "code",
   "execution_count": null,
   "id": "f77befff",
   "metadata": {},
   "outputs": [],
   "source": [
    "female_viq = brain[brain['Gender'] == 'Female']['VIQ']\n",
    "male_viq = brain[brain['Gender'] == 'Male']['VIQ']\n",
    "stats.ttest_ind(female_viq, male_viq)   "
   ]
  },
  {
   "cell_type": "code",
   "execution_count": null,
   "id": "a3435b41",
   "metadata": {},
   "outputs": [],
   "source": [
    "stats.ttest_ind(brain['FSIQ'], df['PIQ']) "
   ]
  },
  {
   "cell_type": "code",
   "execution_count": 4,
   "id": "1c063275",
   "metadata": {},
   "outputs": [
    {
     "data": {
      "text/html": [
       "<div>\n",
       "<style scoped>\n",
       "    .dataframe tbody tr th:only-of-type {\n",
       "        vertical-align: middle;\n",
       "    }\n",
       "\n",
       "    .dataframe tbody tr th {\n",
       "        vertical-align: top;\n",
       "    }\n",
       "\n",
       "    .dataframe thead th {\n",
       "        text-align: right;\n",
       "    }\n",
       "</style>\n",
       "<table border=\"1\" class=\"dataframe\">\n",
       "  <thead>\n",
       "    <tr style=\"text-align: right;\">\n",
       "      <th></th>\n",
       "      <th>Gender</th>\n",
       "      <th>FSIQ</th>\n",
       "      <th>VIQ</th>\n",
       "      <th>PIQ</th>\n",
       "      <th>Weight</th>\n",
       "      <th>Height</th>\n",
       "      <th>MRI_Count</th>\n",
       "      <th>class</th>\n",
       "      <th>major</th>\n",
       "    </tr>\n",
       "  </thead>\n",
       "  <tbody>\n",
       "    <tr>\n",
       "      <th>0</th>\n",
       "      <td>Female</td>\n",
       "      <td>133</td>\n",
       "      <td>132</td>\n",
       "      <td>124</td>\n",
       "      <td>118.0</td>\n",
       "      <td>64.5</td>\n",
       "      <td>816932</td>\n",
       "      <td>F</td>\n",
       "      <td>STEM</td>\n",
       "    </tr>\n",
       "    <tr>\n",
       "      <th>1</th>\n",
       "      <td>Male</td>\n",
       "      <td>140</td>\n",
       "      <td>150</td>\n",
       "      <td>124</td>\n",
       "      <td>NaN</td>\n",
       "      <td>72.5</td>\n",
       "      <td>1001121</td>\n",
       "      <td>S</td>\n",
       "      <td>Business</td>\n",
       "    </tr>\n",
       "    <tr>\n",
       "      <th>2</th>\n",
       "      <td>Male</td>\n",
       "      <td>139</td>\n",
       "      <td>123</td>\n",
       "      <td>150</td>\n",
       "      <td>143.0</td>\n",
       "      <td>73.3</td>\n",
       "      <td>1038437</td>\n",
       "      <td>J</td>\n",
       "      <td>Art</td>\n",
       "    </tr>\n",
       "    <tr>\n",
       "      <th>3</th>\n",
       "      <td>Male</td>\n",
       "      <td>133</td>\n",
       "      <td>129</td>\n",
       "      <td>128</td>\n",
       "      <td>172.0</td>\n",
       "      <td>68.8</td>\n",
       "      <td>965353</td>\n",
       "      <td>Sr</td>\n",
       "      <td>STEM</td>\n",
       "    </tr>\n",
       "    <tr>\n",
       "      <th>4</th>\n",
       "      <td>Female</td>\n",
       "      <td>137</td>\n",
       "      <td>132</td>\n",
       "      <td>134</td>\n",
       "      <td>147.0</td>\n",
       "      <td>65.0</td>\n",
       "      <td>951545</td>\n",
       "      <td>S</td>\n",
       "      <td>Business</td>\n",
       "    </tr>\n",
       "  </tbody>\n",
       "</table>\n",
       "</div>"
      ],
      "text/plain": [
       "   Gender  FSIQ  VIQ  PIQ  Weight  Height  MRI_Count class     major\n",
       "0  Female   133  132  124   118.0    64.5     816932     F      STEM\n",
       "1    Male   140  150  124     NaN    72.5    1001121     S  Business\n",
       "2    Male   139  123  150   143.0    73.3    1038437     J       Art\n",
       "3    Male   133  129  128   172.0    68.8     965353    Sr      STEM\n",
       "4  Female   137  132  134   147.0    65.0     951545     S  Business"
      ]
     },
     "execution_count": 4,
     "metadata": {},
     "output_type": "execute_result"
    }
   ],
   "source": [
    "brain.head()"
   ]
  },
  {
   "cell_type": "code",
   "execution_count": 6,
   "id": "ceaf2eb3",
   "metadata": {},
   "outputs": [],
   "source": [
    "brain.columns= brain.columns.str.lower()"
   ]
  },
  {
   "cell_type": "code",
   "execution_count": 8,
   "id": "f5c01fd0",
   "metadata": {},
   "outputs": [
    {
     "name": "stdout",
     "output_type": "stream",
     "text": [
      "                            OLS Regression Results                            \n",
      "==============================================================================\n",
      "Dep. Variable:                   fsiq   R-squared:                       0.995\n",
      "Model:                            OLS   Adj. R-squared:                  0.994\n",
      "Method:                 Least Squares   F-statistic:                     1618.\n",
      "Date:                Wed, 08 Dec 2021   Prob (F-statistic):           2.40e-37\n",
      "Time:                        10:31:56   Log-Likelihood:                -73.498\n",
      "No. Observations:                  38   AIC:                             157.0\n",
      "Df Residuals:                      33   BIC:                             165.2\n",
      "Df Model:                           4                                         \n",
      "Covariance Type:            nonrobust                                         \n",
      "==============================================================================\n",
      "                 coef    std err          t      P>|t|      [0.025      0.975]\n",
      "------------------------------------------------------------------------------\n",
      "Intercept     -9.5847      6.003     -1.597      0.120     -21.798       2.629\n",
      "viq            0.5718      0.021     27.795      0.000       0.530       0.614\n",
      "piq            0.5347      0.021     25.560      0.000       0.492       0.577\n",
      "weight        -0.0137      0.018     -0.771      0.446      -0.050       0.022\n",
      "height         0.0227      0.104      0.217      0.830      -0.190       0.235\n",
      "==============================================================================\n",
      "Omnibus:                        3.113   Durbin-Watson:                   1.706\n",
      "Prob(Omnibus):                  0.211   Jarque-Bera (JB):                1.901\n",
      "Skew:                           0.451   Prob(JB):                        0.386\n",
      "Kurtosis:                       3.623   Cond. No.                     4.75e+03\n",
      "==============================================================================\n",
      "\n",
      "Notes:\n",
      "[1] Standard Errors assume that the covariance matrix of the errors is correctly specified.\n",
      "[2] The condition number is large, 4.75e+03. This might indicate that there are\n",
      "strong multicollinearity or other numerical problems.\n"
     ]
    }
   ],
   "source": [
    "model = sm.OLS.from_formula('fsiq ~ viq+piq+weight+height', data=brain)\n",
    "result = model.fit()\n",
    "print(result.summary())"
   ]
  },
  {
   "cell_type": "code",
   "execution_count": 9,
   "id": "30921b8f",
   "metadata": {},
   "outputs": [
    {
     "name": "stdout",
     "output_type": "stream",
     "text": [
      "                            OLS Regression Results                            \n",
      "==============================================================================\n",
      "Dep. Variable:                   fsiq   R-squared:                       0.995\n",
      "Model:                            OLS   Adj. R-squared:                  0.995\n",
      "Method:                 Least Squares   F-statistic:                     3690.\n",
      "Date:                Wed, 08 Dec 2021   Prob (F-statistic):           2.59e-43\n",
      "Time:                        10:32:20   Log-Likelihood:                -77.500\n",
      "No. Observations:                  40   AIC:                             161.0\n",
      "Df Residuals:                      37   BIC:                             166.1\n",
      "Df Model:                           2                                         \n",
      "Covariance Type:            nonrobust                                         \n",
      "==============================================================================\n",
      "                 coef    std err          t      P>|t|      [0.025      0.975]\n",
      "------------------------------------------------------------------------------\n",
      "Intercept     -9.9411      1.466     -6.779      0.000     -12.912      -6.970\n",
      "viq            0.5681      0.019     30.132      0.000       0.530       0.606\n",
      "piq            0.5366      0.020     27.081      0.000       0.496       0.577\n",
      "==============================================================================\n",
      "Omnibus:                        4.057   Durbin-Watson:                   1.761\n",
      "Prob(Omnibus):                  0.132   Jarque-Bera (JB):                2.882\n",
      "Skew:                           0.620   Prob(JB):                        0.237\n",
      "Kurtosis:                       3.438   Cond. No.                         854.\n",
      "==============================================================================\n",
      "\n",
      "Notes:\n",
      "[1] Standard Errors assume that the covariance matrix of the errors is correctly specified.\n"
     ]
    }
   ],
   "source": [
    "model = sm.OLS.from_formula('fsiq ~ viq+piq', data=brain)\n",
    "result = model.fit()\n",
    "print(result.summary())"
   ]
  },
  {
   "cell_type": "code",
   "execution_count": 10,
   "id": "424b47a9",
   "metadata": {},
   "outputs": [
    {
     "name": "stdout",
     "output_type": "stream",
     "text": [
      "                            OLS Regression Results                            \n",
      "==============================================================================\n",
      "Dep. Variable:                   fsiq   R-squared:                       0.896\n",
      "Model:                            OLS   Adj. R-squared:                  0.893\n",
      "Method:                 Least Squares   F-statistic:                     327.8\n",
      "Date:                Wed, 08 Dec 2021   Prob (F-statistic):           2.79e-20\n",
      "Time:                        10:32:36   Log-Likelihood:                -138.22\n",
      "No. Observations:                  40   AIC:                             280.4\n",
      "Df Residuals:                      38   BIC:                             283.8\n",
      "Df Model:                           1                                         \n",
      "Covariance Type:            nonrobust                                         \n",
      "==============================================================================\n",
      "                 coef    std err          t      P>|t|      [0.025      0.975]\n",
      "------------------------------------------------------------------------------\n",
      "Intercept      4.9967      6.118      0.817      0.419      -7.388      17.381\n",
      "viq            0.9653      0.053     18.106      0.000       0.857       1.073\n",
      "==============================================================================\n",
      "Omnibus:                        2.143   Durbin-Watson:                   2.362\n",
      "Prob(Omnibus):                  0.343   Jarque-Bera (JB):                1.670\n",
      "Skew:                           0.500   Prob(JB):                        0.434\n",
      "Kurtosis:                       2.943   Cond. No.                         565.\n",
      "==============================================================================\n",
      "\n",
      "Notes:\n",
      "[1] Standard Errors assume that the covariance matrix of the errors is correctly specified.\n"
     ]
    }
   ],
   "source": [
    "model = sm.OLS.from_formula('fsiq ~ viq', data=brain)\n",
    "result = model.fit()\n",
    "print(result.summary())"
   ]
  },
  {
   "cell_type": "code",
   "execution_count": 11,
   "id": "ae74a6fe",
   "metadata": {},
   "outputs": [
    {
     "name": "stdout",
     "output_type": "stream",
     "text": [
      "                            OLS Regression Results                            \n",
      "==============================================================================\n",
      "Dep. Variable:                   fsiq   R-squared:                       0.873\n",
      "Model:                            OLS   Adj. R-squared:                  0.869\n",
      "Method:                 Least Squares   F-statistic:                     260.2\n",
      "Date:                Wed, 08 Dec 2021   Prob (F-statistic):           1.37e-18\n",
      "Time:                        10:32:46   Log-Likelihood:                -142.30\n",
      "No. Observations:                  40   AIC:                             288.6\n",
      "Df Residuals:                      38   BIC:                             292.0\n",
      "Df Model:                           1                                         \n",
      "Covariance Type:            nonrobust                                         \n",
      "==============================================================================\n",
      "                 coef    std err          t      P>|t|      [0.025      0.975]\n",
      "------------------------------------------------------------------------------\n",
      "Intercept      2.3034      7.026      0.328      0.745     -11.920      16.527\n",
      "piq            1.0011      0.062     16.132      0.000       0.875       1.127\n",
      "==============================================================================\n",
      "Omnibus:                        3.181   Durbin-Watson:                   2.856\n",
      "Prob(Omnibus):                  0.204   Jarque-Bera (JB):                1.801\n",
      "Skew:                          -0.246   Prob(JB):                        0.406\n",
      "Kurtosis:                       2.085   Cond. No.                         578.\n",
      "==============================================================================\n",
      "\n",
      "Notes:\n",
      "[1] Standard Errors assume that the covariance matrix of the errors is correctly specified.\n"
     ]
    }
   ],
   "source": [
    "model = sm.OLS.from_formula('fsiq ~ piq', data=brain)\n",
    "result = model.fit()\n",
    "print(result.summary())"
   ]
  },
  {
   "cell_type": "code",
   "execution_count": null,
   "id": "3f5bdd27",
   "metadata": {},
   "outputs": [],
   "source": []
  }
 ],
 "metadata": {
  "kernelspec": {
   "display_name": "Python 3 (ipykernel)",
   "language": "python",
   "name": "python3"
  },
  "language_info": {
   "codemirror_mode": {
    "name": "ipython",
    "version": 3
   },
   "file_extension": ".py",
   "mimetype": "text/x-python",
   "name": "python",
   "nbconvert_exporter": "python",
   "pygments_lexer": "ipython3",
   "version": "3.8.12"
  },
  "toc": {
   "base_numbering": 1,
   "nav_menu": {},
   "number_sections": false,
   "sideBar": true,
   "skip_h1_title": false,
   "title_cell": "Table of Contents",
   "title_sidebar": "Contents",
   "toc_cell": true,
   "toc_position": {
    "height": "calc(100% - 180px)",
    "left": "10px",
    "top": "150px",
    "width": "165px"
   },
   "toc_section_display": true,
   "toc_window_display": true
  },
  "varInspector": {
   "cols": {
    "lenName": 16,
    "lenType": 16,
    "lenVar": 40
   },
   "kernels_config": {
    "python": {
     "delete_cmd_postfix": "",
     "delete_cmd_prefix": "del ",
     "library": "var_list.py",
     "varRefreshCmd": "print(var_dic_list())"
    },
    "r": {
     "delete_cmd_postfix": ") ",
     "delete_cmd_prefix": "rm(",
     "library": "var_list.r",
     "varRefreshCmd": "cat(var_dic_list()) "
    }
   },
   "types_to_exclude": [
    "module",
    "function",
    "builtin_function_or_method",
    "instance",
    "_Feature"
   ],
   "window_display": false
  }
 },
 "nbformat": 4,
 "nbformat_minor": 5
}
