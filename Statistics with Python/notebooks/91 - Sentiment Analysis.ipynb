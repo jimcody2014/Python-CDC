{
 "cells": [
  {
   "cell_type": "markdown",
   "metadata": {
    "toc": true
   },
   "source": [
    "<h1>Table of Contents<span class=\"tocSkip\"></span></h1>\n",
    "<div class=\"toc\"><ul class=\"toc-item\"><li><span><a href=\"#Objective\" data-toc-modified-id=\"Objective-1\">Objective</a></span><ul class=\"toc-item\"><li><span><a href=\"#Load-the-data-into-a-dataframe\" data-toc-modified-id=\"Load-the-data-into-a-dataframe-1.1\">Load the data into a dataframe</a></span></li></ul></li><li><span><a href=\"#Pre-processing\" data-toc-modified-id=\"Pre-processing-2\">Pre-processing</a></span><ul class=\"toc-item\"><li><span><a href=\"#Making-a-copy-of-latuda-df\" data-toc-modified-id=\"Making-a-copy-of-latuda-df-2.1\">Making a copy of latuda df</a></span></li></ul></li><li><span><a href=\"#Sentiment-Analysis-using-textblob-Polarity\" data-toc-modified-id=\"Sentiment-Analysis-using-textblob-Polarity-3\">Sentiment Analysis using textblob Polarity</a></span></li><li><span><a href=\"#Sentiment-Analysis-using-a-logistic-regression-classifier\" data-toc-modified-id=\"Sentiment-Analysis-using-a-logistic-regression-classifier-4\">Sentiment Analysis using a logistic regression classifier</a></span><ul class=\"toc-item\"><li><ul class=\"toc-item\"><li><span><a href=\"#Tasks\" data-toc-modified-id=\"Tasks-4.0.1\">Tasks</a></span></li></ul></li><li><span><a href=\"#Sentiment-Analysis-using-Deep-Learning\" data-toc-modified-id=\"Sentiment-Analysis-using-Deep-Learning-4.1\">Sentiment Analysis using Deep Learning</a></span></li><li><span><a href=\"#This-is-the-deep-learning-code\" data-toc-modified-id=\"This-is-the-deep-learning-code-4.2\">This is the deep learning code</a></span></li></ul></li></ul></div>"
   ]
  },
  {
   "cell_type": "markdown",
   "metadata": {
    "id": "H_7-atW0EsZU"
   },
   "source": [
    "## Objective"
   ]
  },
  {
   "cell_type": "markdown",
   "metadata": {
    "id": "Ntv0Ow89Yy2a"
   },
   "source": [
    "Can we create a model that will accurately assess the sentiment of incoming review comments.  This assumes we will not have a rating column."
   ]
  },
  {
   "cell_type": "code",
   "execution_count": 1,
   "metadata": {
    "id": "TcxmLldU2CEu"
   },
   "outputs": [],
   "source": [
    "#from google.colab import drive\n",
    "#drive.mount('/content/drive')"
   ]
  },
  {
   "cell_type": "markdown",
   "metadata": {
    "id": "r86g9B5TAlCW"
   },
   "source": [
    "### Load the data into a dataframe"
   ]
  },
  {
   "cell_type": "code",
   "execution_count": 2,
   "metadata": {
    "id": "3XNaBVGj4GmF"
   },
   "outputs": [],
   "source": [
    "import pandas as pd"
   ]
  },
  {
   "cell_type": "code",
   "execution_count": 3,
   "metadata": {
    "id": "W5B1lujRjcZd"
   },
   "outputs": [],
   "source": [
    "latuda = pd.read_csv('https://raw.githubusercontent.com/jimcody2014/nlp_cdc/main/data/latuda.csv')"
   ]
  },
  {
   "cell_type": "code",
   "execution_count": 4,
   "metadata": {
    "id": "I6MHmv_0_Snx"
   },
   "outputs": [
    {
     "data": {
      "text/plain": [
       "Index(['drugName', 'condition', 'review', 'rating', 'date', 'usefulCount'], dtype='object')"
      ]
     },
     "execution_count": 4,
     "metadata": {},
     "output_type": "execute_result"
    }
   ],
   "source": [
    "latuda.columns"
   ]
  },
  {
   "cell_type": "code",
   "execution_count": 5,
   "metadata": {},
   "outputs": [
    {
     "data": {
      "text/html": [
       "<div>\n",
       "<style scoped>\n",
       "    .dataframe tbody tr th:only-of-type {\n",
       "        vertical-align: middle;\n",
       "    }\n",
       "\n",
       "    .dataframe tbody tr th {\n",
       "        vertical-align: top;\n",
       "    }\n",
       "\n",
       "    .dataframe thead th {\n",
       "        text-align: right;\n",
       "    }\n",
       "</style>\n",
       "<table border=\"1\" class=\"dataframe\">\n",
       "  <thead>\n",
       "    <tr style=\"text-align: right;\">\n",
       "      <th></th>\n",
       "      <th>drugName</th>\n",
       "      <th>condition</th>\n",
       "      <th>review</th>\n",
       "      <th>rating</th>\n",
       "      <th>date</th>\n",
       "      <th>usefulCount</th>\n",
       "    </tr>\n",
       "  </thead>\n",
       "  <tbody>\n",
       "    <tr>\n",
       "      <th>0</th>\n",
       "      <td>Latuda</td>\n",
       "      <td>Bipolar Disorde</td>\n",
       "      <td>\"I have had great experience so far with Latud...</td>\n",
       "      <td>8</td>\n",
       "      <td>20-Feb-12</td>\n",
       "      <td>39</td>\n",
       "    </tr>\n",
       "    <tr>\n",
       "      <th>1</th>\n",
       "      <td>Latuda</td>\n",
       "      <td>Bipolar Disorde</td>\n",
       "      <td>\"I've taken a lot of medications. I was prescr...</td>\n",
       "      <td>3</td>\n",
       "      <td>28-Oct-16</td>\n",
       "      <td>25</td>\n",
       "    </tr>\n",
       "    <tr>\n",
       "      <th>2</th>\n",
       "      <td>Latuda</td>\n",
       "      <td>Bipolar Disorde</td>\n",
       "      <td>\"I was deeply suicidal for 15 years with repet...</td>\n",
       "      <td>9</td>\n",
       "      <td>25-Dec-15</td>\n",
       "      <td>33</td>\n",
       "    </tr>\n",
       "    <tr>\n",
       "      <th>3</th>\n",
       "      <td>Latuda</td>\n",
       "      <td>Bipolar Disorde</td>\n",
       "      <td>\"I have been taking Latuda 80 mg for 8 months ...</td>\n",
       "      <td>3</td>\n",
       "      <td>23-Apr-13</td>\n",
       "      <td>34</td>\n",
       "    </tr>\n",
       "    <tr>\n",
       "      <th>4</th>\n",
       "      <td>Latuda</td>\n",
       "      <td>Schizophrenia</td>\n",
       "      <td>\"We've heard of the Latuda 20-40 mg restlessne...</td>\n",
       "      <td>9</td>\n",
       "      <td>5-Feb-16</td>\n",
       "      <td>15</td>\n",
       "    </tr>\n",
       "  </tbody>\n",
       "</table>\n",
       "</div>"
      ],
      "text/plain": [
       "  drugName        condition  \\\n",
       "0   Latuda  Bipolar Disorde   \n",
       "1   Latuda  Bipolar Disorde   \n",
       "2   Latuda  Bipolar Disorde   \n",
       "3   Latuda  Bipolar Disorde   \n",
       "4   Latuda    Schizophrenia   \n",
       "\n",
       "                                              review  rating       date  \\\n",
       "0  \"I have had great experience so far with Latud...       8  20-Feb-12   \n",
       "1  \"I've taken a lot of medications. I was prescr...       3  28-Oct-16   \n",
       "2  \"I was deeply suicidal for 15 years with repet...       9  25-Dec-15   \n",
       "3  \"I have been taking Latuda 80 mg for 8 months ...       3  23-Apr-13   \n",
       "4  \"We've heard of the Latuda 20-40 mg restlessne...       9   5-Feb-16   \n",
       "\n",
       "   usefulCount  \n",
       "0           39  \n",
       "1           25  \n",
       "2           33  \n",
       "3           34  \n",
       "4           15  "
      ]
     },
     "execution_count": 5,
     "metadata": {},
     "output_type": "execute_result"
    }
   ],
   "source": [
    "latuda.head()"
   ]
  },
  {
   "cell_type": "markdown",
   "metadata": {},
   "source": [
    "## Pre-processing"
   ]
  },
  {
   "cell_type": "code",
   "execution_count": 6,
   "metadata": {
    "id": "2s2G1qpI7_sR"
   },
   "outputs": [
    {
     "name": "stdout",
     "output_type": "stream",
     "text": [
      "Requirement already satisfied: contractions in /opt/anaconda3/lib/python3.8/site-packages (0.0.58)\r\n",
      "Requirement already satisfied: textsearch>=0.0.21 in /opt/anaconda3/lib/python3.8/site-packages (from contractions) (0.0.21)\r\n",
      "Requirement already satisfied: pyahocorasick in /opt/anaconda3/lib/python3.8/site-packages (from textsearch>=0.0.21->contractions) (1.4.2)\r\n",
      "Requirement already satisfied: anyascii in /opt/anaconda3/lib/python3.8/site-packages (from textsearch>=0.0.21->contractions) (0.3.0)\r\n"
     ]
    },
    {
     "name": "stderr",
     "output_type": "stream",
     "text": [
      "[nltk_data] Downloading package punkt to /Users/jimcody/nltk_data...\n",
      "[nltk_data]   Package punkt is already up-to-date!\n",
      "[nltk_data] Downloading package averaged_perceptron_tagger to\n",
      "[nltk_data]     /Users/jimcody/nltk_data...\n",
      "[nltk_data]   Package averaged_perceptron_tagger is already up-to-\n",
      "[nltk_data]       date!\n",
      "[nltk_data] Downloading package wordnet to /Users/jimcody/nltk_data...\n",
      "[nltk_data]   Package wordnet is already up-to-date!\n",
      "[nltk_data] Downloading package stopwords to\n",
      "[nltk_data]     /Users/jimcody/nltk_data...\n",
      "[nltk_data]   Package stopwords is already up-to-date!\n"
     ]
    }
   ],
   "source": [
    "!pip install contractions\n",
    "\n",
    "import matplotlib.pyplot as plt\n",
    "import seaborn as sns\n",
    "import numpy as np\n",
    "import contractions\n",
    "import string\n",
    "import re\n",
    "from textblob import TextBlob, Word\n",
    "\n",
    "import nltk\n",
    "nltk.download('punkt')\n",
    "nltk.download('averaged_perceptron_tagger')\n",
    "nltk.download('wordnet')\n",
    "nltk.download('stopwords')\n",
    "\n",
    "from nltk.tokenize import word_tokenize\n",
    "from nltk.tokenize import sent_tokenize\n",
    "from nltk.stem import WordNetLemmatizer\n",
    "from nltk.corpus import stopwords\n",
    "from nltk.corpus import wordnet\n",
    "\n",
    "from sklearn.ensemble import RandomForestClassifier, ExtraTreesClassifier,AdaBoostClassifier\n",
    "from sklearn.tree import DecisionTreeClassifier\n"
   ]
  },
  {
   "cell_type": "code",
   "execution_count": 7,
   "metadata": {
    "id": "0kvEK9KsFoTz"
   },
   "outputs": [],
   "source": [
    "# Add a column 'target' based on the rating column\n",
    "latuda['eval'] = latuda['rating'].apply(lambda x: 'Good' if x >= 6 else 'Bad')\n",
    "#drop_columns = {'drugName', 'condition','date', 'usefulCount', 'rating'}\n",
    "#latuda = latuda.drop(columns = drop_columns)\n",
    "latuda['remove_ctr'] = latuda['review'].apply(lambda x: [contractions.fix(word) for word in x.split()])\n",
    "# change no_contract back to a string\n",
    "latuda[\"review_new\"] = [' '.join(map(str, l)) for l in latuda['remove_ctr']]\n",
    "latuda['tokenized'] = latuda['review_new'].apply(word_tokenize)\n",
    "latuda['lower'] = latuda['tokenized'].apply(lambda x: [word.lower() for word in x])\n",
    "punc = string.punctuation\n",
    "latuda['lower'] = latuda['lower'].apply(lambda x: [word for word in x if word not in punc])"
   ]
  },
  {
   "cell_type": "code",
   "execution_count": 8,
   "metadata": {
    "id": "BdEQahd2-hiY"
   },
   "outputs": [],
   "source": [
    "# This is the code that modifies 'review'.  Review is used in the models below.\n",
    "def clean_text_round1(text):  \n",
    "    text = text.lower()\n",
    "    text = re.sub('\\[.*?\\]', '', text)\n",
    "    text = re.sub('[%s]' % re.escape(string.punctuation), '', text)\n",
    "    text = re.sub('\\w*\\d\\w*', '', text)\n",
    "    text = re.sub('[‘’“”…]', '', text)\n",
    "    text = re.sub('\\n', '', text)\n",
    "    return text\n",
    "\n",
    "round1 = lambda x: clean_text_round1(x)\n",
    "\n",
    "latuda.review = pd.DataFrame(latuda.review.apply(round1))"
   ]
  },
  {
   "cell_type": "code",
   "execution_count": 9,
   "metadata": {
    "id": "KY50hxPTEXrQ"
   },
   "outputs": [],
   "source": [
    "stop_words = set(stopwords.words('english'))\n",
    "latuda['no_stopwords'] = latuda['lower'].apply(lambda x: [word for word in x if word not in stop_words])\n",
    "latuda['pos_tags'] = latuda['no_stopwords'].apply(nltk.tag.pos_tag)\n"
   ]
  },
  {
   "cell_type": "code",
   "execution_count": 10,
   "metadata": {},
   "outputs": [],
   "source": [
    "def get_wordnet_pos(tag):\n",
    "    if tag.startswith('J'):\n",
    "        return wordnet.ADJ\n",
    "    elif tag.startswith('V'):\n",
    "        return wordnet.VERB\n",
    "    elif tag.startswith('N'):\n",
    "        return wordnet.NOUN\n",
    "    elif tag.startswith('R'):\n",
    "        return wordnet.ADV\n",
    "    else:\n",
    "        return wordnet.NOUN"
   ]
  },
  {
   "cell_type": "code",
   "execution_count": 11,
   "metadata": {},
   "outputs": [],
   "source": [
    "latuda['wordnet_pos'] = latuda['pos_tags'].apply(lambda x: [(word, get_wordnet_pos(pos_tag)) for (word, pos_tag) in x])\n",
    "wnl = WordNetLemmatizer()\n",
    "latuda['lemmatized'] = latuda['wordnet_pos'].apply(lambda x: [wnl.lemmatize(word, tag) for word, tag in x])"
   ]
  },
  {
   "cell_type": "markdown",
   "metadata": {},
   "source": [
    "### Making a copy of latuda df"
   ]
  },
  {
   "cell_type": "code",
   "execution_count": 12,
   "metadata": {},
   "outputs": [],
   "source": [
    "drop_columns = {'remove_ctr', 'review_new', 'tokenized', 'lower','no_stopwords','pos_tags','wordnet_pos'}\n",
    "latuda2 = latuda.drop(columns = drop_columns)"
   ]
  },
  {
   "cell_type": "markdown",
   "metadata": {},
   "source": [
    "## Sentiment Analysis using textblob Polarity"
   ]
  },
  {
   "cell_type": "code",
   "execution_count": 13,
   "metadata": {},
   "outputs": [
    {
     "name": "stdout",
     "output_type": "stream",
     "text": [
      " been taking  of latuda for two days now i take it in the morning with breakfast so i  experienced nausea however i do have more difficulty getting up in the morning but once  up i seem to be more energetic than i have been in ages last night i was watching a comedy show on television and laughed so hard for so long it actually scared me like it was completely foreign to me to be express that level of happinessgiddiness on the flip side  noticed that  gained  pounds in two days so that is totally freaking me out i have always been a little overweight so the idea of gaining more weight is untenable for me i will be watching my weight over the next few days and see how it goes\n"
     ]
    }
   ],
   "source": [
    "sample = latuda.review.sample(1).iloc[0]\n",
    "print(sample)"
   ]
  },
  {
   "cell_type": "code",
   "execution_count": 14,
   "metadata": {},
   "outputs": [
    {
     "data": {
      "text/plain": [
       "Sentiment(polarity=0.1763888888888889, subjectivity=0.3788888888888889)"
      ]
     },
     "execution_count": 14,
     "metadata": {},
     "output_type": "execute_result"
    }
   ],
   "source": [
    "TextBlob(sample).sentiment"
   ]
  },
  {
   "cell_type": "code",
   "execution_count": 15,
   "metadata": {},
   "outputs": [],
   "source": [
    "pol = lambda x: TextBlob(x).sentiment.polarity\n",
    "sub = lambda x: TextBlob(x).sentiment.subjectivity\n",
    "\n",
    "latuda2['polarity'] = latuda2['review'].apply(pol)\n",
    "latuda2['subjectivity'] = latuda2['review'].apply(sub)"
   ]
  },
  {
   "cell_type": "code",
   "execution_count": 16,
   "metadata": {},
   "outputs": [
    {
     "data": {
      "text/html": [
       "<div>\n",
       "<style scoped>\n",
       "    .dataframe tbody tr th:only-of-type {\n",
       "        vertical-align: middle;\n",
       "    }\n",
       "\n",
       "    .dataframe tbody tr th {\n",
       "        vertical-align: top;\n",
       "    }\n",
       "\n",
       "    .dataframe thead th {\n",
       "        text-align: right;\n",
       "    }\n",
       "</style>\n",
       "<table border=\"1\" class=\"dataframe\">\n",
       "  <thead>\n",
       "    <tr style=\"text-align: right;\">\n",
       "      <th></th>\n",
       "      <th>drugName</th>\n",
       "      <th>condition</th>\n",
       "      <th>review</th>\n",
       "      <th>rating</th>\n",
       "      <th>date</th>\n",
       "      <th>usefulCount</th>\n",
       "      <th>eval</th>\n",
       "      <th>lemmatized</th>\n",
       "      <th>polarity</th>\n",
       "      <th>subjectivity</th>\n",
       "    </tr>\n",
       "  </thead>\n",
       "  <tbody>\n",
       "    <tr>\n",
       "      <th>0</th>\n",
       "      <td>Latuda</td>\n",
       "      <td>Bipolar Disorde</td>\n",
       "      <td>i have had great experience so far with latuda...</td>\n",
       "      <td>8</td>\n",
       "      <td>20-Feb-12</td>\n",
       "      <td>39</td>\n",
       "      <td>Good</td>\n",
       "      <td>[``, great, experience, far, latuda, start, ta...</td>\n",
       "      <td>0.170000</td>\n",
       "      <td>0.768462</td>\n",
       "    </tr>\n",
       "    <tr>\n",
       "      <th>1</th>\n",
       "      <td>Latuda</td>\n",
       "      <td>Bipolar Disorde</td>\n",
       "      <td>ive taken a lot of medications i was prescribe...</td>\n",
       "      <td>3</td>\n",
       "      <td>28-Oct-16</td>\n",
       "      <td>25</td>\n",
       "      <td>Bad</td>\n",
       "      <td>[``, take, lot, medication, prescribe, latuda,...</td>\n",
       "      <td>0.377222</td>\n",
       "      <td>0.534444</td>\n",
       "    </tr>\n",
       "    <tr>\n",
       "      <th>2</th>\n",
       "      <td>Latuda</td>\n",
       "      <td>Bipolar Disorde</td>\n",
       "      <td>i was deeply suicidal for  years with repetiti...</td>\n",
       "      <td>9</td>\n",
       "      <td>25-Dec-15</td>\n",
       "      <td>33</td>\n",
       "      <td>Good</td>\n",
       "      <td>[``, deeply, suicidal, 15, year, repetitive, s...</td>\n",
       "      <td>-0.040427</td>\n",
       "      <td>0.383730</td>\n",
       "    </tr>\n",
       "    <tr>\n",
       "      <th>3</th>\n",
       "      <td>Latuda</td>\n",
       "      <td>Bipolar Disorde</td>\n",
       "      <td>i have been taking latuda  mg for  months and ...</td>\n",
       "      <td>3</td>\n",
       "      <td>23-Apr-13</td>\n",
       "      <td>34</td>\n",
       "      <td>Bad</td>\n",
       "      <td>[``, take, latuda, 80, mg, 8, month, medicatio...</td>\n",
       "      <td>0.185119</td>\n",
       "      <td>0.656746</td>\n",
       "    </tr>\n",
       "    <tr>\n",
       "      <th>4</th>\n",
       "      <td>Latuda</td>\n",
       "      <td>Schizophrenia</td>\n",
       "      <td>weve heard of the latuda  mg restlessnesssense...</td>\n",
       "      <td>9</td>\n",
       "      <td>5-Feb-16</td>\n",
       "      <td>15</td>\n",
       "      <td>Good</td>\n",
       "      <td>[``, heard, latuda, 20-40, mg, restlessness/se...</td>\n",
       "      <td>0.175000</td>\n",
       "      <td>0.487500</td>\n",
       "    </tr>\n",
       "  </tbody>\n",
       "</table>\n",
       "</div>"
      ],
      "text/plain": [
       "  drugName        condition  \\\n",
       "0   Latuda  Bipolar Disorde   \n",
       "1   Latuda  Bipolar Disorde   \n",
       "2   Latuda  Bipolar Disorde   \n",
       "3   Latuda  Bipolar Disorde   \n",
       "4   Latuda    Schizophrenia   \n",
       "\n",
       "                                              review  rating       date  \\\n",
       "0  i have had great experience so far with latuda...       8  20-Feb-12   \n",
       "1  ive taken a lot of medications i was prescribe...       3  28-Oct-16   \n",
       "2  i was deeply suicidal for  years with repetiti...       9  25-Dec-15   \n",
       "3  i have been taking latuda  mg for  months and ...       3  23-Apr-13   \n",
       "4  weve heard of the latuda  mg restlessnesssense...       9   5-Feb-16   \n",
       "\n",
       "   usefulCount  eval                                         lemmatized  \\\n",
       "0           39  Good  [``, great, experience, far, latuda, start, ta...   \n",
       "1           25   Bad  [``, take, lot, medication, prescribe, latuda,...   \n",
       "2           33  Good  [``, deeply, suicidal, 15, year, repetitive, s...   \n",
       "3           34   Bad  [``, take, latuda, 80, mg, 8, month, medicatio...   \n",
       "4           15  Good  [``, heard, latuda, 20-40, mg, restlessness/se...   \n",
       "\n",
       "   polarity  subjectivity  \n",
       "0  0.170000      0.768462  \n",
       "1  0.377222      0.534444  \n",
       "2 -0.040427      0.383730  \n",
       "3  0.185119      0.656746  \n",
       "4  0.175000      0.487500  "
      ]
     },
     "execution_count": 16,
     "metadata": {},
     "output_type": "execute_result"
    }
   ],
   "source": [
    "latuda2.head()"
   ]
  },
  {
   "cell_type": "code",
   "execution_count": 17,
   "metadata": {},
   "outputs": [
    {
     "data": {
      "image/png": "[encoded data removed]",
      "text/plain": [
       "<Figure size 720x432 with 1 Axes>"
      ]
     },
     "metadata": {
      "needs_background": "light"
     },
     "output_type": "display_data"
    }
   ],
   "source": [
    "# A histogram of the polarity scores.\n",
    "num_bins = 50\n",
    "plt.figure(figsize=(10,6))\n",
    "n, bins, patches = plt.hist(latuda2.polarity, num_bins, facecolor='blue', alpha=0.5)\n",
    "plt.xlabel('Polarity')\n",
    "plt.ylabel('Count')\n",
    "plt.title('Histogram of polarity')\n",
    "plt.show();"
   ]
  },
  {
   "cell_type": "code",
   "execution_count": 18,
   "metadata": {},
   "outputs": [
    {
     "data": {
      "image/png": "[encoded data removed]",
      "text/plain": [
       "<Figure size 720x432 with 1 Axes>"
      ]
     },
     "metadata": {
      "needs_background": "light"
     },
     "output_type": "display_data"
    }
   ],
   "source": [
    "# Box plot of sentiment grouped by rating\n",
    "plt.figure(figsize=(10,6))\n",
    "sns.boxenplot(x='rating', y='polarity', data=latuda2)\n",
    "plt.show();"
   ]
  },
  {
   "cell_type": "code",
   "execution_count": 19,
   "metadata": {},
   "outputs": [
    {
     "data": {
      "text/plain": [
       "<AxesSubplot:xlabel='polarity', ylabel='subjectivity'>"
      ]
     },
     "execution_count": 19,
     "metadata": {},
     "output_type": "execute_result"
    },
    {
     "data": {
      "image/png": "[encoded data removed]",
      "text/plain": [
       "<Figure size 720x576 with 1 Axes>"
      ]
     },
     "metadata": {
      "needs_background": "light"
     },
     "output_type": "display_data"
    }
   ],
   "source": [
    "plt.rcParams['figure.figsize'] = [10, 8]\n",
    "sns.scatterplot(data = latuda2, x = 'polarity', y='subjectivity', hue = 'eval')\n",
    "    "
   ]
  },
  {
   "cell_type": "code",
   "execution_count": 20,
   "metadata": {},
   "outputs": [],
   "source": [
    "pd.set_option('max_colwidth', 400)"
   ]
  },
  {
   "cell_type": "code",
   "execution_count": 21,
   "metadata": {},
   "outputs": [
    {
     "data": {
      "text/plain": [
       "Series([], Name: review, dtype: object)"
      ]
     },
     "execution_count": 21,
     "metadata": {},
     "output_type": "execute_result"
    }
   ],
   "source": [
    "latuda2[latuda2.polarity == -1].review.head()"
   ]
  },
  {
   "cell_type": "code",
   "execution_count": 22,
   "metadata": {},
   "outputs": [
    {
     "data": {
      "text/plain": [
       "10    before i took latuda my bipolar disorder was pretty much ruining my life i started latuda and about  months later while i was starting to feel so much better i also noticed that i was starting to feel overwhelmed and was starting to become delusional and developed irrational fears such as being scared to even go outside for example i stopped latuda and went back to feeling normal i thought it ...\n",
       "11                                                                                                                                                                                                                                                                              i was on  of latuda gained  overnight and developed tardive dyskinesia\\r\\rfor me the side effects outweighed the therapeutic benefits\n",
       "27                latuda  even come close to touching my bipolar depression i kept waiting and waiting for it to work but nothing happened i ended up having a horrible depressive episode that almost got me hospitalized plus i had to eat a  calorie snack with it which was always difficult to figure out on top of that it would knock me out every night which would be considered niceif it  knock me out at \n",
       "32                                                                                                                                                                                                                                                                           this medication gave me a bad reaction it gave me restlessness in my legs and suicidal thoughts i  recommend this drug for me personally\n",
       "38    i was put on latuda  several months ago it made my insomnia worse increased my racing thoughts and i felt like i was in a constant state of panic after discussing all of this with the doctor she doubled the dosage after  weeks with maybe an hour of sleep a night no appetite a constant racing mind and disabling panic i sought the advice of my pcp he has been treating me for more than  years now...\n",
       "Name: review, dtype: object"
      ]
     },
     "execution_count": 22,
     "metadata": {},
     "output_type": "execute_result"
    }
   ],
   "source": [
    "latuda2[latuda2.rating == 1].review.head()"
   ]
  },
  {
   "cell_type": "code",
   "execution_count": 23,
   "metadata": {},
   "outputs": [
    {
     "data": {
      "text/html": [
       "<div>\n",
       "<style scoped>\n",
       "    .dataframe tbody tr th:only-of-type {\n",
       "        vertical-align: middle;\n",
       "    }\n",
       "\n",
       "    .dataframe tbody tr th {\n",
       "        vertical-align: top;\n",
       "    }\n",
       "\n",
       "    .dataframe thead th {\n",
       "        text-align: right;\n",
       "    }\n",
       "</style>\n",
       "<table border=\"1\" class=\"dataframe\">\n",
       "  <thead>\n",
       "    <tr style=\"text-align: right;\">\n",
       "      <th></th>\n",
       "      <th>drugName</th>\n",
       "      <th>condition</th>\n",
       "      <th>review</th>\n",
       "      <th>rating</th>\n",
       "      <th>date</th>\n",
       "      <th>usefulCount</th>\n",
       "      <th>eval</th>\n",
       "      <th>lemmatized</th>\n",
       "      <th>polarity</th>\n",
       "      <th>subjectivity</th>\n",
       "    </tr>\n",
       "  </thead>\n",
       "  <tbody>\n",
       "    <tr>\n",
       "      <th>251</th>\n",
       "      <td>Latuda</td>\n",
       "      <td>Bipolar Disorde</td>\n",
       "      <td>i have taken this med twice in the past few years because of ect i  remember my prior experience but for some reason i was taken off it i remember now i experience crippling nausea and irritability i makes me mean also within  minutes of taking it  so sick i have to lie down  going to ask my psychiatrist to take me off it i just  function with so much nausea</td>\n",
       "      <td>5</td>\n",
       "      <td>26-Jul-15</td>\n",
       "      <td>22</td>\n",
       "      <td>Bad</td>\n",
       "      <td>[``, take, med, twice, past, year, ect, 039, remember, prior, experience, reason, take, remember, experience, cripple, nausea, irritability, make, mean, also, within, 15, minute, take, 039, sick, lie, 039, go, ask, psychiatrist, take, 039, function, much, nausea, ``]</td>\n",
       "      <td>-0.20462</td>\n",
       "      <td>0.340505</td>\n",
       "    </tr>\n",
       "  </tbody>\n",
       "</table>\n",
       "</div>"
      ],
      "text/plain": [
       "    drugName        condition  \\\n",
       "251   Latuda  Bipolar Disorde   \n",
       "\n",
       "                                                                                                                                                                                                                                                                                                                                                                        review  \\\n",
       "251  i have taken this med twice in the past few years because of ect i  remember my prior experience but for some reason i was taken off it i remember now i experience crippling nausea and irritability i makes me mean also within  minutes of taking it  so sick i have to lie down  going to ask my psychiatrist to take me off it i just  function with so much nausea    \n",
       "\n",
       "     rating       date  usefulCount eval  \\\n",
       "251       5  26-Jul-15           22  Bad   \n",
       "\n",
       "                                                                                                                                                                                                                                                                      lemmatized  \\\n",
       "251  [``, take, med, twice, past, year, ect, 039, remember, prior, experience, reason, take, remember, experience, cripple, nausea, irritability, make, mean, also, within, 15, minute, take, 039, sick, lie, 039, go, ask, psychiatrist, take, 039, function, much, nausea, ``]   \n",
       "\n",
       "     polarity  subjectivity  \n",
       "251  -0.20462      0.340505  "
      ]
     },
     "execution_count": 23,
     "metadata": {},
     "output_type": "execute_result"
    }
   ],
   "source": [
    "latuda2[(latuda2.rating == 5) & (latuda2.polarity <= -0.2)].head(10)"
   ]
  },
  {
   "cell_type": "code",
   "execution_count": 24,
   "metadata": {},
   "outputs": [
    {
     "data": {
      "text/html": [
       "<div>\n",
       "<style scoped>\n",
       "    .dataframe tbody tr th:only-of-type {\n",
       "        vertical-align: middle;\n",
       "    }\n",
       "\n",
       "    .dataframe tbody tr th {\n",
       "        vertical-align: top;\n",
       "    }\n",
       "\n",
       "    .dataframe thead th {\n",
       "        text-align: right;\n",
       "    }\n",
       "</style>\n",
       "<table border=\"1\" class=\"dataframe\">\n",
       "  <thead>\n",
       "    <tr style=\"text-align: right;\">\n",
       "      <th></th>\n",
       "      <th>drugName</th>\n",
       "      <th>condition</th>\n",
       "      <th>review</th>\n",
       "      <th>rating</th>\n",
       "      <th>date</th>\n",
       "      <th>usefulCount</th>\n",
       "      <th>eval</th>\n",
       "      <th>lemmatized</th>\n",
       "      <th>polarity</th>\n",
       "      <th>subjectivity</th>\n",
       "    </tr>\n",
       "  </thead>\n",
       "  <tbody>\n",
       "    <tr>\n",
       "      <th>131</th>\n",
       "      <td>Latuda</td>\n",
       "      <td>Bipolar Disorde</td>\n",
       "      <td>i had been on latuda for two months  great medicine except i had severe muscle weakness</td>\n",
       "      <td>1</td>\n",
       "      <td>29-Nov-11</td>\n",
       "      <td>38</td>\n",
       "      <td>Bad</td>\n",
       "      <td>[``, latuda, two, month, great, medicine, except, severe, muscle, weakness, '']</td>\n",
       "      <td>0.8</td>\n",
       "      <td>0.75</td>\n",
       "    </tr>\n",
       "  </tbody>\n",
       "</table>\n",
       "</div>"
      ],
      "text/plain": [
       "    drugName        condition  \\\n",
       "131   Latuda  Bipolar Disorde   \n",
       "\n",
       "                                                                                      review  \\\n",
       "131  i had been on latuda for two months  great medicine except i had severe muscle weakness   \n",
       "\n",
       "     rating       date  usefulCount eval  \\\n",
       "131       1  29-Nov-11           38  Bad   \n",
       "\n",
       "                                                                          lemmatized  \\\n",
       "131  [``, latuda, two, month, great, medicine, except, severe, muscle, weakness, '']   \n",
       "\n",
       "     polarity  subjectivity  \n",
       "131       0.8          0.75  "
      ]
     },
     "execution_count": 24,
     "metadata": {},
     "output_type": "execute_result"
    }
   ],
   "source": [
    "latuda2[(latuda2.rating == 1) & (latuda2.polarity >= 0.5)].head(10)"
   ]
  },
  {
   "cell_type": "markdown",
   "metadata": {},
   "source": [
    "Is it possible that the words used in medical reviews are too ambiguous for most common lexicons?"
   ]
  },
  {
   "cell_type": "markdown",
   "metadata": {},
   "source": [
    "## Sentiment Analysis using a logistic regression classifier"
   ]
  },
  {
   "cell_type": "markdown",
   "metadata": {},
   "source": [
    "#### Tasks\n",
    " - Change Good/Bad to 1/-1 (We've already classified the review as good or bad)\n",
    " - visualize counts for 1/-1\n",
    " - Reduce columns to review and eval\n",
    " - split the datset to train & test\n",
    " - create a bag of words\n",
    " - import the logistic regression from sklearn\n",
    " - fit the model\n",
    " - make a prediction\n",
    " - determine accuracy\n",
    " "
   ]
  },
  {
   "cell_type": "code",
   "execution_count": 25,
   "metadata": {},
   "outputs": [
    {
     "data": {
      "text/plain": [
       "Index(['drugName', 'condition', 'review', 'rating', 'date', 'usefulCount',\n",
       "       'eval', 'remove_ctr', 'review_new', 'tokenized', 'lower',\n",
       "       'no_stopwords', 'pos_tags', 'wordnet_pos', 'lemmatized'],\n",
       "      dtype='object')"
      ]
     },
     "execution_count": 25,
     "metadata": {},
     "output_type": "execute_result"
    }
   ],
   "source": [
    "latuda.columns"
   ]
  },
  {
   "cell_type": "code",
   "execution_count": 26,
   "metadata": {},
   "outputs": [
    {
     "data": {
      "text/html": [
       "<div>\n",
       "<style scoped>\n",
       "    .dataframe tbody tr th:only-of-type {\n",
       "        vertical-align: middle;\n",
       "    }\n",
       "\n",
       "    .dataframe tbody tr th {\n",
       "        vertical-align: top;\n",
       "    }\n",
       "\n",
       "    .dataframe thead th {\n",
       "        text-align: right;\n",
       "    }\n",
       "</style>\n",
       "<table border=\"1\" class=\"dataframe\">\n",
       "  <thead>\n",
       "    <tr style=\"text-align: right;\">\n",
       "      <th></th>\n",
       "      <th>review</th>\n",
       "      <th>eval</th>\n",
       "    </tr>\n",
       "  </thead>\n",
       "  <tbody>\n",
       "    <tr>\n",
       "      <th>0</th>\n",
       "      <td>i have had great experience so far with latuda i started taking  mg in nov and it worked great for about a week then i crashed again dr put it up to  mg and  been great ever since  afraid though because my sex drive has completely disappeared and if  the latuda  going to have to go off itand i hate to go off something  working so well however  also on a pretty high dose of lexapro and the dr t...</td>\n",
       "      <td>1</td>\n",
       "    </tr>\n",
       "    <tr>\n",
       "      <th>1</th>\n",
       "      <td>ive taken a lot of medications i was prescribed latuda and it wasnt a very good experience i  even sit down to watch a movie without feeling jittery and needing to be on the go when it was bed time my legs were so restless i  sleep i would lay in bed kicking my legs non stop  never take this again</td>\n",
       "      <td>0</td>\n",
       "    </tr>\n",
       "    <tr>\n",
       "      <th>2</th>\n",
       "      <td>i was deeply suicidal for  years with repetitive suicidal thoughts on a daily basis i was at the end of my rope close to killing myself and my doctor suggested latuda i started at  mg  a day at bed time suicidal thoughts and constant thoughts of my  year old cat constantly dying largely diminished i have a down episode once every  days about where i am hopeless and negative thinking again but ...</td>\n",
       "      <td>1</td>\n",
       "    </tr>\n",
       "    <tr>\n",
       "      <th>3</th>\n",
       "      <td>i have been taking latuda  mg for  months and am on no other medications for medication induced bipolar disorder which was caused by antidepressants prescribed for anxiety  latuda should be taken with  calories but when i took the medicine with food i was completely engulfed in anxiety within an hour  now i take it at night with no food  i sleep for  hours at night and feel pretty good but am ...</td>\n",
       "      <td>0</td>\n",
       "    </tr>\n",
       "    <tr>\n",
       "      <th>4</th>\n",
       "      <td>weve heard of the latuda  mg restlessnesssense of muscle quiver being controlled by a small  benztropine daily dosage taken with the latuda  both were taken in evening as it seemed to help with sleep i believe benztropine may normally be given for parkinson this was suggested by an experienced psychiatrist who reviewed medications looking for one that had the side effect to address and to help...</td>\n",
       "      <td>1</td>\n",
       "    </tr>\n",
       "  </tbody>\n",
       "</table>\n",
       "</div>"
      ],
      "text/plain": [
       "                                                                                                                                                                                                                                                                                                                                                                                                            review  \\\n",
       "0  i have had great experience so far with latuda i started taking  mg in nov and it worked great for about a week then i crashed again dr put it up to  mg and  been great ever since  afraid though because my sex drive has completely disappeared and if  the latuda  going to have to go off itand i hate to go off something  working so well however  also on a pretty high dose of lexapro and the dr t...   \n",
       "1                                                                                                       ive taken a lot of medications i was prescribed latuda and it wasnt a very good experience i  even sit down to watch a movie without feeling jittery and needing to be on the go when it was bed time my legs were so restless i  sleep i would lay in bed kicking my legs non stop  never take this again   \n",
       "2  i was deeply suicidal for  years with repetitive suicidal thoughts on a daily basis i was at the end of my rope close to killing myself and my doctor suggested latuda i started at  mg  a day at bed time suicidal thoughts and constant thoughts of my  year old cat constantly dying largely diminished i have a down episode once every  days about where i am hopeless and negative thinking again but ...   \n",
       "3  i have been taking latuda  mg for  months and am on no other medications for medication induced bipolar disorder which was caused by antidepressants prescribed for anxiety  latuda should be taken with  calories but when i took the medicine with food i was completely engulfed in anxiety within an hour  now i take it at night with no food  i sleep for  hours at night and feel pretty good but am ...   \n",
       "4  weve heard of the latuda  mg restlessnesssense of muscle quiver being controlled by a small  benztropine daily dosage taken with the latuda  both were taken in evening as it seemed to help with sleep i believe benztropine may normally be given for parkinson this was suggested by an experienced psychiatrist who reviewed medications looking for one that had the side effect to address and to help...   \n",
       "\n",
       "   eval  \n",
       "0     1  \n",
       "1     0  \n",
       "2     1  \n",
       "3     0  \n",
       "4     1  "
      ]
     },
     "execution_count": 26,
     "metadata": {},
     "output_type": "execute_result"
    }
   ],
   "source": [
    "latuda3 = latuda\n",
    "\n",
    "# ####### Change to the code\n",
    "\n",
    "latuda3['eval'] = latuda['rating'].apply(lambda x: 1 if x >= 6 else 0)\n",
    "\n",
    "\n",
    "\n",
    "\n",
    "drop_columns = {'drugName', 'condition', 'rating', 'date', 'usefulCount', 'remove_ctr', 'review_new', 'tokenized', 'lower',\n",
    "       'no_stopwords', 'pos_tags', 'wordnet_pos', 'lemmatized'}\n",
    "latuda3 = latuda3.drop(columns = drop_columns)\n",
    "latuda3.head()"
   ]
  },
  {
   "cell_type": "code",
   "execution_count": 27,
   "metadata": {},
   "outputs": [
    {
     "name": "stdout",
     "output_type": "stream",
     "text": [
      "<class 'pandas.core.frame.DataFrame'>\n",
      "RangeIndex: 330 entries, 0 to 329\n",
      "Data columns (total 2 columns):\n",
      " #   Column  Non-Null Count  Dtype \n",
      "---  ------  --------------  ----- \n",
      " 0   review  330 non-null    object\n",
      " 1   eval    330 non-null    int64 \n",
      "dtypes: int64(1), object(1)\n",
      "memory usage: 5.3+ KB\n"
     ]
    }
   ],
   "source": [
    "latuda3.info()"
   ]
  },
  {
   "cell_type": "code",
   "execution_count": 28,
   "metadata": {},
   "outputs": [],
   "source": [
    "# random split train and test data\n",
    "index = latuda3.index\n",
    "latuda3['random_number'] = np.random.randn(len(index))  # This is just a sample technique\n",
    "train = latuda3[latuda3['random_number'] <= 0.8]\n",
    "test = latuda3[latuda3['random_number'] > 0.8]\n",
    "\n",
    "# X_train, X_test, y_train, y_test = train_test_split(df['abc'], df['xyz'], test_size=0.2, random_state=8)"
   ]
  },
  {
   "cell_type": "code",
   "execution_count": 29,
   "metadata": {},
   "outputs": [
    {
     "data": {
      "text/plain": [
       "\"token_patternstr, default=r”(?u)\\x08\\\\w\\\\w+\\x08”\\nRegular expression denoting what constitutes a “token”, only used if analyzer == 'word'. \\nThe default regexp select tokens of 2 or more alphanumeric characters (punctuation is completely \\nignored and always treated as a token separator).\\n\\n\\nfit_transform() is used on the training data so that we can scale the training data \\nand also learn the scaling parameters of that data.\\nThe fit method is calculating the mean and variance of each of the features present in our data. \\nThe transform method is transforming all the features using the respective mean and variance.\""
      ]
     },
     "execution_count": 29,
     "metadata": {},
     "output_type": "execute_result"
    }
   ],
   "source": [
    "# Create a 'bag of words' and transform it to a doc matrix.\n",
    "from sklearn.feature_extraction.text import CountVectorizer\n",
    "vectorizer = CountVectorizer(token_pattern=r'\\b\\w+\\b')     \n",
    "train_matrix = vectorizer.fit_transform(train['review'])\n",
    "test_matrix = vectorizer.transform(test['review'])\n",
    "\n",
    "\n",
    "# token_patternstr, default=r”(?u)\\b\\w\\w+\\b”\n",
    "# Regular expression denoting what constitutes a “token”, only used if analyzer == 'word'. \n",
    "# The default regexp select tokens of 2 or more alphanumeric characters (punctuation is completely \n",
    "# ignored and always treated as a token separator).\n",
    "\n",
    "\n",
    "# fit_transform() is used on the training data so that we can scale the training data \n",
    "# and also learn the scaling parameters of that data.\n",
    "# The fit method is calculating the mean and variance of each of the features present in our data. \n",
    "# The transform method is transforming all the features using the respective mean and variance."
   ]
  },
  {
   "cell_type": "code",
   "execution_count": 30,
   "metadata": {},
   "outputs": [],
   "source": [
    "# Logistic Regression\n",
    "from sklearn.linear_model import LogisticRegression\n",
    "from sklearn import metrics\n",
    "lr = LogisticRegression()"
   ]
  },
  {
   "cell_type": "code",
   "execution_count": 31,
   "metadata": {},
   "outputs": [],
   "source": [
    "# X is the independent variable, Y is the target\n",
    "\n",
    "X_train = train_matrix\n",
    "X_test = test_matrix\n",
    "y_train = train['eval']\n",
    "y_test = test['eval']"
   ]
  },
  {
   "cell_type": "code",
   "execution_count": 32,
   "metadata": {},
   "outputs": [
    {
     "data": {
      "text/plain": [
       "LogisticRegression()"
      ]
     },
     "execution_count": 32,
     "metadata": {},
     "output_type": "execute_result"
    }
   ],
   "source": [
    "lr.fit(X_train,y_train)    # Run a logistic regression on the training data"
   ]
  },
  {
   "cell_type": "code",
   "execution_count": 33,
   "metadata": {},
   "outputs": [],
   "source": [
    "predictions = lr.predict(X_test)"
   ]
  },
  {
   "cell_type": "code",
   "execution_count": 34,
   "metadata": {},
   "outputs": [
    {
     "data": {
      "text/plain": [
       "array([[12,  5],\n",
       "       [ 9, 40]])"
      ]
     },
     "execution_count": 34,
     "metadata": {},
     "output_type": "execute_result"
    }
   ],
   "source": [
    "# A confusion matrix is used to evaluate the performance of a classification model\n",
    "# find accuracy, precision, recall:\n",
    "from sklearn.metrics import confusion_matrix,classification_report\n",
    "new = np.asarray(y_test)\n",
    "confusion_matrix(predictions,y_test)"
   ]
  },
  {
   "cell_type": "markdown",
   "metadata": {},
   "source": [
    " - Rows are predicted, columns are actual.  \n",
    " - Top left (pos,pos). True Positive. These are correctly predicted.\n",
    " - Bottom right (neg,neg). True Negative. These are correctly predicted.\n",
    " - bottom left (false negative), top right (false positive) are the number of incorrect predictions"
   ]
  },
  {
   "cell_type": "code",
   "execution_count": 35,
   "metadata": {},
   "outputs": [
    {
     "name": "stdout",
     "output_type": "stream",
     "text": [
      "Accuracy: 0.7878787878787878\n",
      "Precision: 0.8163265306122449\n",
      "Recall: 0.8888888888888888\n"
     ]
    }
   ],
   "source": [
    "print(\"Accuracy:\",metrics.accuracy_score(y_test, predictions))\n",
    "print(\"Precision:\",metrics.precision_score(y_test, predictions))\n",
    "print(\"Recall:\",metrics.recall_score(y_test, predictions))\n",
    "\n",
    "\n",
    "# Accuracy: Accuracy assesses whether a series of measurements are correct on average.\n",
    "# Precision: Precision indicates how close the measurements are to each other.\n",
    "# Recall: Number of true positives divided by the number of true positives plus the number of false negatives."
   ]
  },
  {
   "cell_type": "markdown",
   "metadata": {},
   "source": [
    "### Sentiment Analysis using Deep Learning"
   ]
  },
  {
   "cell_type": "code",
   "execution_count": 36,
   "metadata": {},
   "outputs": [
    {
     "data": {
      "text/html": [
       "<div>\n",
       "<style scoped>\n",
       "    .dataframe tbody tr th:only-of-type {\n",
       "        vertical-align: middle;\n",
       "    }\n",
       "\n",
       "    .dataframe tbody tr th {\n",
       "        vertical-align: top;\n",
       "    }\n",
       "\n",
       "    .dataframe thead th {\n",
       "        text-align: right;\n",
       "    }\n",
       "</style>\n",
       "<table border=\"1\" class=\"dataframe\">\n",
       "  <thead>\n",
       "    <tr style=\"text-align: right;\">\n",
       "      <th></th>\n",
       "      <th>review</th>\n",
       "      <th>eval</th>\n",
       "      <th>random_number</th>\n",
       "    </tr>\n",
       "  </thead>\n",
       "  <tbody>\n",
       "    <tr>\n",
       "      <th>0</th>\n",
       "      <td>i have had great experience so far with latuda i started taking  mg in nov and it worked great for about a week then i crashed again dr put it up to  mg and  been great ever since  afraid though because my sex drive has completely disappeared and if  the latuda  going to have to go off itand i hate to go off something  working so well however  also on a pretty high dose of lexapro and the dr t...</td>\n",
       "      <td>1</td>\n",
       "      <td>0.356318</td>\n",
       "    </tr>\n",
       "    <tr>\n",
       "      <th>1</th>\n",
       "      <td>ive taken a lot of medications i was prescribed latuda and it wasnt a very good experience i  even sit down to watch a movie without feeling jittery and needing to be on the go when it was bed time my legs were so restless i  sleep i would lay in bed kicking my legs non stop  never take this again</td>\n",
       "      <td>0</td>\n",
       "      <td>-0.417830</td>\n",
       "    </tr>\n",
       "    <tr>\n",
       "      <th>2</th>\n",
       "      <td>i was deeply suicidal for  years with repetitive suicidal thoughts on a daily basis i was at the end of my rope close to killing myself and my doctor suggested latuda i started at  mg  a day at bed time suicidal thoughts and constant thoughts of my  year old cat constantly dying largely diminished i have a down episode once every  days about where i am hopeless and negative thinking again but ...</td>\n",
       "      <td>1</td>\n",
       "      <td>0.822047</td>\n",
       "    </tr>\n",
       "    <tr>\n",
       "      <th>3</th>\n",
       "      <td>i have been taking latuda  mg for  months and am on no other medications for medication induced bipolar disorder which was caused by antidepressants prescribed for anxiety  latuda should be taken with  calories but when i took the medicine with food i was completely engulfed in anxiety within an hour  now i take it at night with no food  i sleep for  hours at night and feel pretty good but am ...</td>\n",
       "      <td>0</td>\n",
       "      <td>0.515142</td>\n",
       "    </tr>\n",
       "    <tr>\n",
       "      <th>4</th>\n",
       "      <td>weve heard of the latuda  mg restlessnesssense of muscle quiver being controlled by a small  benztropine daily dosage taken with the latuda  both were taken in evening as it seemed to help with sleep i believe benztropine may normally be given for parkinson this was suggested by an experienced psychiatrist who reviewed medications looking for one that had the side effect to address and to help...</td>\n",
       "      <td>1</td>\n",
       "      <td>-1.177717</td>\n",
       "    </tr>\n",
       "  </tbody>\n",
       "</table>\n",
       "</div>"
      ],
      "text/plain": [
       "                                                                                                                                                                                                                                                                                                                                                                                                            review  \\\n",
       "0  i have had great experience so far with latuda i started taking  mg in nov and it worked great for about a week then i crashed again dr put it up to  mg and  been great ever since  afraid though because my sex drive has completely disappeared and if  the latuda  going to have to go off itand i hate to go off something  working so well however  also on a pretty high dose of lexapro and the dr t...   \n",
       "1                                                                                                       ive taken a lot of medications i was prescribed latuda and it wasnt a very good experience i  even sit down to watch a movie without feeling jittery and needing to be on the go when it was bed time my legs were so restless i  sleep i would lay in bed kicking my legs non stop  never take this again   \n",
       "2  i was deeply suicidal for  years with repetitive suicidal thoughts on a daily basis i was at the end of my rope close to killing myself and my doctor suggested latuda i started at  mg  a day at bed time suicidal thoughts and constant thoughts of my  year old cat constantly dying largely diminished i have a down episode once every  days about where i am hopeless and negative thinking again but ...   \n",
       "3  i have been taking latuda  mg for  months and am on no other medications for medication induced bipolar disorder which was caused by antidepressants prescribed for anxiety  latuda should be taken with  calories but when i took the medicine with food i was completely engulfed in anxiety within an hour  now i take it at night with no food  i sleep for  hours at night and feel pretty good but am ...   \n",
       "4  weve heard of the latuda  mg restlessnesssense of muscle quiver being controlled by a small  benztropine daily dosage taken with the latuda  both were taken in evening as it seemed to help with sleep i believe benztropine may normally be given for parkinson this was suggested by an experienced psychiatrist who reviewed medications looking for one that had the side effect to address and to help...   \n",
       "\n",
       "   eval  random_number  \n",
       "0     1       0.356318  \n",
       "1     0      -0.417830  \n",
       "2     1       0.822047  \n",
       "3     0       0.515142  \n",
       "4     1      -1.177717  "
      ]
     },
     "execution_count": 36,
     "metadata": {},
     "output_type": "execute_result"
    }
   ],
   "source": [
    "latuda3.head()"
   ]
  },
  {
   "cell_type": "code",
   "execution_count": 37,
   "metadata": {},
   "outputs": [],
   "source": [
    "latuda3.drop('random_number', axis=1, inplace=True)"
   ]
  },
  {
   "cell_type": "code",
   "execution_count": 38,
   "metadata": {},
   "outputs": [],
   "source": [
    "from sklearn.model_selection import train_test_split"
   ]
  },
  {
   "cell_type": "code",
   "execution_count": 39,
   "metadata": {},
   "outputs": [],
   "source": [
    "X=latuda3['review'].values"
   ]
  },
  {
   "cell_type": "code",
   "execution_count": 40,
   "metadata": {},
   "outputs": [],
   "source": [
    "Y=latuda3['eval'].values"
   ]
  },
  {
   "cell_type": "code",
   "execution_count": 41,
   "metadata": {},
   "outputs": [
    {
     "name": "stderr",
     "output_type": "stream",
     "text": [
      "/opt/anaconda3/envs/NLP_code/lib/python3.8/site-packages/seaborn/_decorators.py:36: FutureWarning: Pass the following variable as a keyword arg: x. From version 0.12, the only valid positional argument will be `data`, and passing other arguments without an explicit keyword will result in an error or misinterpretation.\n",
      "  warnings.warn(\n"
     ]
    },
    {
     "data": {
      "text/plain": [
       "<AxesSubplot:xlabel='eval', ylabel='count'>"
      ]
     },
     "execution_count": 41,
     "metadata": {},
     "output_type": "execute_result"
    },
    {
     "data": {
      "image/png": "[encoded data removed]",
      "text/plain": [
       "<Figure size 720x576 with 1 Axes>"
      ]
     },
     "metadata": {
      "needs_background": "light"
     },
     "output_type": "display_data"
    }
   ],
   "source": [
    "import seaborn as sns\n",
    "sns.countplot(latuda3['eval'])"
   ]
  },
  {
   "cell_type": "code",
   "execution_count": 42,
   "metadata": {},
   "outputs": [],
   "source": [
    "X_train, X_test, Y_train, Y_test= train_test_split(X,Y, test_size=0.3)"
   ]
  },
  {
   "cell_type": "code",
   "execution_count": 43,
   "metadata": {},
   "outputs": [
    {
     "data": {
      "text/plain": [
       "CountVectorizer()"
      ]
     },
     "execution_count": 43,
     "metadata": {},
     "output_type": "execute_result"
    }
   ],
   "source": [
    "vec = CountVectorizer()\n",
    "vec"
   ]
  },
  {
   "cell_type": "code",
   "execution_count": 44,
   "metadata": {},
   "outputs": [
    {
     "data": {
      "text/plain": [
       "CountVectorizer()"
      ]
     },
     "execution_count": 44,
     "metadata": {},
     "output_type": "execute_result"
    }
   ],
   "source": [
    "vec.fit(X_train)"
   ]
  },
  {
   "cell_type": "code",
   "execution_count": 45,
   "metadata": {},
   "outputs": [],
   "source": [
    "x_train=vec.transform(X_train)"
   ]
  },
  {
   "cell_type": "code",
   "execution_count": 46,
   "metadata": {},
   "outputs": [],
   "source": [
    "x_test=vec.transform(X_test)"
   ]
  },
  {
   "cell_type": "code",
   "execution_count": 47,
   "metadata": {},
   "outputs": [
    {
     "data": {
      "text/plain": [
       "<231x2294 sparse matrix of type '<class 'numpy.int64'>'\n",
       "\twith 13787 stored elements in Compressed Sparse Row format>"
      ]
     },
     "execution_count": 47,
     "metadata": {},
     "output_type": "execute_result"
    }
   ],
   "source": [
    "x_train"
   ]
  },
  {
   "cell_type": "markdown",
   "metadata": {},
   "source": [
    "### This is the deep learning code"
   ]
  },
  {
   "cell_type": "markdown",
   "metadata": {},
   "source": [
    " - An activation function is a function that is added into an artificial neural network in order to help the network learn complex patterns in the data. \n",
    " \n",
    " - https://www.tensorflow.org/tutorials/keras/classification"
   ]
  },
  {
   "cell_type": "code",
   "execution_count": 48,
   "metadata": {},
   "outputs": [
    {
     "name": "stderr",
     "output_type": "stream",
     "text": [
      "2021-12-09 11:55:27.811677: I tensorflow/core/platform/cpu_feature_guard.cc:142] This TensorFlow binary is optimized with oneAPI Deep Neural Network Library (oneDNN) to use the following CPU instructions in performance-critical operations:  SSE4.1 SSE4.2 AVX AVX2 FMA\n",
      "To enable them in other operations, rebuild TensorFlow with the appropriate compiler flags.\n"
     ]
    }
   ],
   "source": [
    "from tensorflow.keras.models import Sequential\n",
    "from tensorflow.keras.layers import Dense\n",
    "from tensorflow.keras.optimizers import Adam\n",
    "model = Sequential()\n",
    "model.add(Dense(16, input_dim=x_train.shape[1], activation='relu'))\n",
    "model.add(Dense(16, activation='relu'))\n",
    "model.add(Dense(1, activation='sigmoid'))\n",
    "model.compile(loss='binary_crossentropy',optimizer='Adam',metrics=['accuracy'])"
   ]
  },
  {
   "cell_type": "code",
   "execution_count": 49,
   "metadata": {},
   "outputs": [
    {
     "name": "stdout",
     "output_type": "stream",
     "text": [
      "Model: \"sequential\"\n",
      "_________________________________________________________________\n",
      "Layer (type)                 Output Shape              Param #   \n",
      "=================================================================\n",
      "dense (Dense)                (None, 16)                36720     \n",
      "_________________________________________________________________\n",
      "dense_1 (Dense)              (None, 16)                272       \n",
      "_________________________________________________________________\n",
      "dense_2 (Dense)              (None, 1)                 17        \n",
      "=================================================================\n",
      "Total params: 37,009\n",
      "Trainable params: 37,009\n",
      "Non-trainable params: 0\n",
      "_________________________________________________________________\n"
     ]
    }
   ],
   "source": [
    "model.summary()"
   ]
  },
  {
   "cell_type": "code",
   "execution_count": 50,
   "metadata": {},
   "outputs": [
    {
     "name": "stdout",
     "output_type": "stream",
     "text": [
      "Epoch 1/100\n",
      "15/15 [==============================] - 0s 913us/step - loss: 0.7201 - accuracy: 0.5050\n",
      "Epoch 2/100\n",
      "15/15 [==============================] - 0s 937us/step - loss: 0.5964 - accuracy: 0.7359\n",
      "Epoch 3/100\n",
      "15/15 [==============================] - 0s 2ms/step - loss: 0.5123 - accuracy: 0.7185\n",
      "Epoch 4/100\n",
      " 1/15 [=>............................] - ETA: 0s - loss: 0.3333 - accuracy: 0.9375"
     ]
    },
    {
     "name": "stderr",
     "output_type": "stream",
     "text": [
      "2021-12-09 11:55:28.190933: I tensorflow/compiler/mlir/mlir_graph_optimization_pass.cc:116] None of the MLIR optimization passes are enabled (registered 2)\n"
     ]
    },
    {
     "name": "stdout",
     "output_type": "stream",
     "text": [
      "15/15 [==============================] - 0s 1ms/step - loss: 0.3728 - accuracy: 0.8451\n",
      "Epoch 5/100\n",
      "15/15 [==============================] - 0s 930us/step - loss: 0.3096 - accuracy: 0.9160\n",
      "Epoch 6/100\n",
      "15/15 [==============================] - 0s 1ms/step - loss: 0.1954 - accuracy: 0.9621\n",
      "Epoch 7/100\n",
      "15/15 [==============================] - 0s 1ms/step - loss: 0.1425 - accuracy: 0.9807\n",
      "Epoch 8/100\n",
      "15/15 [==============================] - 0s 1ms/step - loss: 0.0854 - accuracy: 0.9907\n",
      "Epoch 9/100\n",
      "15/15 [==============================] - 0s 968us/step - loss: 0.0510 - accuracy: 1.0000\n",
      "Epoch 10/100\n",
      "15/15 [==============================] - 0s 1ms/step - loss: 0.0414 - accuracy: 1.0000\n",
      "Epoch 11/100\n",
      "15/15 [==============================] - 0s 865us/step - loss: 0.0363 - accuracy: 1.0000\n",
      "Epoch 12/100\n",
      "15/15 [==============================] - 0s 1ms/step - loss: 0.0271 - accuracy: 1.0000\n",
      "Epoch 13/100\n",
      "15/15 [==============================] - 0s 812us/step - loss: 0.0218 - accuracy: 1.0000\n",
      "Epoch 14/100\n",
      "15/15 [==============================] - 0s 803us/step - loss: 0.0166 - accuracy: 1.0000\n",
      "Epoch 15/100\n",
      "15/15 [==============================] - 0s 671us/step - loss: 0.0164 - accuracy: 1.0000\n",
      "Epoch 16/100\n",
      "15/15 [==============================] - 0s 667us/step - loss: 0.0158 - accuracy: 1.0000\n",
      "Epoch 17/100\n",
      "15/15 [==============================] - 0s 773us/step - loss: 0.0116 - accuracy: 1.0000\n",
      "Epoch 18/100\n",
      "15/15 [==============================] - 0s 686us/step - loss: 0.0101 - accuracy: 1.0000\n",
      "Epoch 19/100\n",
      "15/15 [==============================] - 0s 771us/step - loss: 0.0077 - accuracy: 1.0000\n",
      "Epoch 20/100\n",
      "15/15 [==============================] - 0s 675us/step - loss: 0.0061 - accuracy: 1.0000\n",
      "Epoch 21/100\n",
      "15/15 [==============================] - 0s 894us/step - loss: 0.0100 - accuracy: 1.0000\n",
      "Epoch 22/100\n",
      "15/15 [==============================] - 0s 661us/step - loss: 0.0063 - accuracy: 1.0000\n",
      "Epoch 23/100\n",
      "15/15 [==============================] - 0s 717us/step - loss: 0.0055 - accuracy: 1.0000\n",
      "Epoch 24/100\n",
      "15/15 [==============================] - 0s 727us/step - loss: 0.0046 - accuracy: 1.0000\n",
      "Epoch 25/100\n",
      "15/15 [==============================] - 0s 722us/step - loss: 0.0038 - accuracy: 1.0000\n",
      "Epoch 26/100\n",
      "15/15 [==============================] - 0s 744us/step - loss: 0.0035 - accuracy: 1.0000\n",
      "Epoch 27/100\n",
      "15/15 [==============================] - 0s 693us/step - loss: 0.0040 - accuracy: 1.0000\n",
      "Epoch 28/100\n",
      "15/15 [==============================] - 0s 678us/step - loss: 0.0034 - accuracy: 1.0000\n",
      "Epoch 29/100\n",
      "15/15 [==============================] - 0s 1ms/step - loss: 0.0033 - accuracy: 1.0000\n",
      "Epoch 30/100\n",
      "15/15 [==============================] - 0s 1ms/step - loss: 0.0027 - accuracy: 1.0000\n",
      "Epoch 31/100\n",
      "15/15 [==============================] - 0s 1ms/step - loss: 0.0042 - accuracy: 1.0000\n",
      "Epoch 32/100\n",
      "15/15 [==============================] - 0s 919us/step - loss: 0.0056 - accuracy: 1.0000\n",
      "Epoch 33/100\n",
      "15/15 [==============================] - 0s 875us/step - loss: 0.0024 - accuracy: 1.0000\n",
      "Epoch 34/100\n",
      "15/15 [==============================] - 0s 893us/step - loss: 0.0021 - accuracy: 1.0000\n",
      "Epoch 35/100\n",
      "15/15 [==============================] - 0s 878us/step - loss: 0.0021 - accuracy: 1.0000\n",
      "Epoch 36/100\n",
      "15/15 [==============================] - 0s 757us/step - loss: 0.0025 - accuracy: 1.0000\n",
      "Epoch 37/100\n",
      "15/15 [==============================] - 0s 795us/step - loss: 0.0015 - accuracy: 1.0000\n",
      "Epoch 38/100\n",
      "15/15 [==============================] - 0s 797us/step - loss: 0.0027 - accuracy: 1.0000\n",
      "Epoch 39/100\n",
      "15/15 [==============================] - 0s 802us/step - loss: 0.0012 - accuracy: 1.0000\n",
      "Epoch 40/100\n",
      "15/15 [==============================] - 0s 774us/step - loss: 0.0022 - accuracy: 1.0000\n",
      "Epoch 41/100\n",
      "15/15 [==============================] - 0s 927us/step - loss: 0.0013 - accuracy: 1.0000\n",
      "Epoch 42/100\n",
      "15/15 [==============================] - 0s 794us/step - loss: 0.0011 - accuracy: 1.0000\n",
      "Epoch 43/100\n",
      "15/15 [==============================] - 0s 1ms/step - loss: 9.4346e-04 - accuracy: 1.0000\n",
      "Epoch 44/100\n",
      "15/15 [==============================] - 0s 873us/step - loss: 0.0015 - accuracy: 1.0000\n",
      "Epoch 45/100\n",
      "15/15 [==============================] - 0s 682us/step - loss: 8.9503e-04 - accuracy: 1.0000\n",
      "Epoch 46/100\n",
      "15/15 [==============================] - 0s 887us/step - loss: 0.0019 - accuracy: 1.0000\n",
      "Epoch 47/100\n",
      "15/15 [==============================] - 0s 902us/step - loss: 0.0011 - accuracy: 1.0000\n",
      "Epoch 48/100\n",
      "15/15 [==============================] - 0s 1ms/step - loss: 9.4858e-04 - accuracy: 1.0000\n",
      "Epoch 49/100\n",
      "15/15 [==============================] - 0s 1ms/step - loss: 0.0011 - accuracy: 1.0000\n",
      "Epoch 50/100\n",
      "15/15 [==============================] - 0s 948us/step - loss: 0.0014 - accuracy: 1.0000\n",
      "Epoch 51/100\n",
      "15/15 [==============================] - 0s 923us/step - loss: 7.7911e-04 - accuracy: 1.0000\n",
      "Epoch 52/100\n",
      "15/15 [==============================] - 0s 1ms/step - loss: 0.0011 - accuracy: 1.0000\n",
      "Epoch 53/100\n",
      "15/15 [==============================] - 0s 1ms/step - loss: 8.2419e-04 - accuracy: 1.0000\n",
      "Epoch 54/100\n",
      "15/15 [==============================] - 0s 830us/step - loss: 9.8008e-04 - accuracy: 1.0000\n",
      "Epoch 55/100\n",
      "15/15 [==============================] - 0s 798us/step - loss: 7.7456e-04 - accuracy: 1.0000\n",
      "Epoch 56/100\n",
      "15/15 [==============================] - 0s 903us/step - loss: 5.7319e-04 - accuracy: 1.0000\n",
      "Epoch 57/100\n",
      "15/15 [==============================] - 0s 799us/step - loss: 0.0016 - accuracy: 1.0000\n",
      "Epoch 58/100\n",
      "15/15 [==============================] - 0s 961us/step - loss: 5.6323e-04 - accuracy: 1.0000\n",
      "Epoch 59/100\n",
      "15/15 [==============================] - 0s 875us/step - loss: 8.2733e-04 - accuracy: 1.0000\n",
      "Epoch 60/100\n",
      "15/15 [==============================] - 0s 755us/step - loss: 5.5157e-04 - accuracy: 1.0000\n",
      "Epoch 61/100\n",
      "15/15 [==============================] - 0s 1ms/step - loss: 5.4572e-04 - accuracy: 1.0000\n",
      "Epoch 62/100\n",
      "15/15 [==============================] - 0s 850us/step - loss: 7.1573e-04 - accuracy: 1.0000\n",
      "Epoch 63/100\n",
      "15/15 [==============================] - 0s 775us/step - loss: 5.0914e-04 - accuracy: 1.0000\n",
      "Epoch 64/100\n",
      "15/15 [==============================] - 0s 697us/step - loss: 4.3064e-04 - accuracy: 1.0000\n",
      "Epoch 65/100\n",
      "15/15 [==============================] - 0s 691us/step - loss: 8.5534e-04 - accuracy: 1.0000\n",
      "Epoch 66/100\n",
      "15/15 [==============================] - 0s 768us/step - loss: 4.8977e-04 - accuracy: 1.0000\n",
      "Epoch 67/100\n",
      "15/15 [==============================] - 0s 859us/step - loss: 9.1635e-04 - accuracy: 1.0000\n",
      "Epoch 68/100\n",
      "15/15 [==============================] - 0s 938us/step - loss: 6.8634e-04 - accuracy: 1.0000\n",
      "Epoch 69/100\n",
      "15/15 [==============================] - 0s 901us/step - loss: 6.8078e-04 - accuracy: 1.0000\n",
      "Epoch 70/100\n",
      "15/15 [==============================] - 0s 662us/step - loss: 3.3471e-04 - accuracy: 1.0000\n",
      "Epoch 71/100\n",
      "15/15 [==============================] - 0s 847us/step - loss: 3.7777e-04 - accuracy: 1.0000\n",
      "Epoch 72/100\n",
      "15/15 [==============================] - 0s 766us/step - loss: 5.1731e-04 - accuracy: 1.0000\n",
      "Epoch 73/100\n",
      "15/15 [==============================] - 0s 778us/step - loss: 5.1872e-04 - accuracy: 1.0000\n",
      "Epoch 74/100\n",
      "15/15 [==============================] - 0s 797us/step - loss: 2.8154e-04 - accuracy: 1.0000\n",
      "Epoch 75/100\n",
      "15/15 [==============================] - 0s 809us/step - loss: 2.9702e-04 - accuracy: 1.0000\n",
      "Epoch 76/100\n",
      "15/15 [==============================] - 0s 839us/step - loss: 3.1257e-04 - accuracy: 1.0000\n",
      "Epoch 77/100\n",
      "15/15 [==============================] - 0s 804us/step - loss: 4.2346e-04 - accuracy: 1.0000\n",
      "Epoch 78/100\n",
      "15/15 [==============================] - 0s 812us/step - loss: 2.7620e-04 - accuracy: 1.0000\n",
      "Epoch 79/100\n",
      "15/15 [==============================] - 0s 805us/step - loss: 2.2942e-04 - accuracy: 1.0000\n",
      "Epoch 80/100\n",
      "15/15 [==============================] - 0s 824us/step - loss: 5.0455e-04 - accuracy: 1.0000\n",
      "Epoch 81/100\n",
      "15/15 [==============================] - 0s 858us/step - loss: 3.8648e-04 - accuracy: 1.0000\n",
      "Epoch 82/100\n",
      "15/15 [==============================] - 0s 2ms/step - loss: 3.0529e-04 - accuracy: 1.0000\n",
      "Epoch 83/100\n"
     ]
    },
    {
     "name": "stdout",
     "output_type": "stream",
     "text": [
      "15/15 [==============================] - 0s 822us/step - loss: 1.8428e-04 - accuracy: 1.0000\n",
      "Epoch 84/100\n",
      "15/15 [==============================] - 0s 666us/step - loss: 2.9973e-04 - accuracy: 1.0000\n",
      "Epoch 85/100\n",
      "15/15 [==============================] - 0s 954us/step - loss: 3.4096e-04 - accuracy: 1.0000\n",
      "Epoch 86/100\n",
      "15/15 [==============================] - 0s 699us/step - loss: 2.7453e-04 - accuracy: 1.0000\n",
      "Epoch 87/100\n",
      "15/15 [==============================] - 0s 878us/step - loss: 2.4394e-04 - accuracy: 1.0000\n",
      "Epoch 88/100\n",
      "15/15 [==============================] - 0s 939us/step - loss: 2.2230e-04 - accuracy: 1.0000\n",
      "Epoch 89/100\n",
      "15/15 [==============================] - 0s 741us/step - loss: 4.0810e-04 - accuracy: 1.0000\n",
      "Epoch 90/100\n",
      "15/15 [==============================] - 0s 1ms/step - loss: 2.9237e-04 - accuracy: 1.0000\n",
      "Epoch 91/100\n",
      "15/15 [==============================] - 0s 688us/step - loss: 1.7218e-04 - accuracy: 1.0000\n",
      "Epoch 92/100\n",
      "15/15 [==============================] - 0s 689us/step - loss: 1.8115e-04 - accuracy: 1.0000\n",
      "Epoch 93/100\n",
      "15/15 [==============================] - 0s 667us/step - loss: 2.3649e-04 - accuracy: 1.0000\n",
      "Epoch 94/100\n",
      "15/15 [==============================] - 0s 686us/step - loss: 2.4471e-04 - accuracy: 1.0000\n",
      "Epoch 95/100\n",
      "15/15 [==============================] - 0s 689us/step - loss: 2.1229e-04 - accuracy: 1.0000\n",
      "Epoch 96/100\n",
      "15/15 [==============================] - 0s 735us/step - loss: 1.5290e-04 - accuracy: 1.0000\n",
      "Epoch 97/100\n",
      "15/15 [==============================] - 0s 681us/step - loss: 1.5798e-04 - accuracy: 1.0000\n",
      "Epoch 98/100\n",
      "15/15 [==============================] - 0s 666us/step - loss: 1.6700e-04 - accuracy: 1.0000\n",
      "Epoch 99/100\n",
      "15/15 [==============================] - 0s 674us/step - loss: 1.2999e-04 - accuracy: 1.0000\n",
      "Epoch 100/100\n",
      "15/15 [==============================] - 0s 671us/step - loss: 4.7366e-04 - accuracy: 1.0000\n"
     ]
    }
   ],
   "source": [
    "history = model.fit(x_train, Y_train,epochs=100,verbose=True,batch_size=16)"
   ]
  },
  {
   "cell_type": "code",
   "execution_count": 51,
   "metadata": {},
   "outputs": [
    {
     "name": "stdout",
     "output_type": "stream",
     "text": [
      "8/8 [==============================] - 0s 737us/step - loss: 2.1104e-04 - accuracy: 1.0000\n"
     ]
    },
    {
     "data": {
      "text/plain": [
       "[0.00021103725885041058, 1.0]"
      ]
     },
     "execution_count": 51,
     "metadata": {},
     "output_type": "execute_result"
    }
   ],
   "source": [
    "model.evaluate(x_train,Y_train)"
   ]
  },
  {
   "cell_type": "code",
   "execution_count": 52,
   "metadata": {},
   "outputs": [
    {
     "name": "stdout",
     "output_type": "stream",
     "text": [
      "4/4 [==============================] - 0s 755us/step - loss: 0.7744 - accuracy: 0.7778\n"
     ]
    },
    {
     "data": {
      "text/plain": [
       "[0.7743812203407288, 0.7777777910232544]"
      ]
     },
     "execution_count": 52,
     "metadata": {},
     "output_type": "execute_result"
    }
   ],
   "source": [
    "model.evaluate(x_test,Y_test)"
   ]
  },
  {
   "cell_type": "code",
   "execution_count": 53,
   "metadata": {},
   "outputs": [
    {
     "data": {
      "text/plain": [
       "['loss', 'accuracy']"
      ]
     },
     "execution_count": 53,
     "metadata": {},
     "output_type": "execute_result"
    }
   ],
   "source": [
    "model.metrics_names\n",
    "\n",
    "# Loss is a value that represents the summation of errors in our model. \n",
    "# Accuracy is more straightforward. It measures how well our model predicts by comparing the model \n",
    "#     predictions with the true values in terms of percentage."
   ]
  },
  {
   "cell_type": "code",
   "execution_count": 54,
   "metadata": {},
   "outputs": [
    {
     "ename": "ValueError",
     "evalue": "in user code:\n\n    /opt/anaconda3/envs/NLP_code/lib/python3.8/site-packages/tensorflow/python/keras/engine/training.py:1473 predict_function  *\n        return step_function(self, iterator)\n    /opt/anaconda3/envs/NLP_code/lib/python3.8/site-packages/tensorflow/python/keras/engine/training.py:1463 step_function  **\n        outputs = model.distribute_strategy.run(run_step, args=(data,))\n    /opt/anaconda3/envs/NLP_code/lib/python3.8/site-packages/tensorflow/python/distribute/distribute_lib.py:1259 run\n        return self._extended.call_for_each_replica(fn, args=args, kwargs=kwargs)\n    /opt/anaconda3/envs/NLP_code/lib/python3.8/site-packages/tensorflow/python/distribute/distribute_lib.py:2730 call_for_each_replica\n        return self._call_for_each_replica(fn, args, kwargs)\n    /opt/anaconda3/envs/NLP_code/lib/python3.8/site-packages/tensorflow/python/distribute/distribute_lib.py:3417 _call_for_each_replica\n        return fn(*args, **kwargs)\n    /opt/anaconda3/envs/NLP_code/lib/python3.8/site-packages/tensorflow/python/keras/engine/training.py:1456 run_step  **\n        outputs = model.predict_step(data)\n    /opt/anaconda3/envs/NLP_code/lib/python3.8/site-packages/tensorflow/python/keras/engine/training.py:1429 predict_step\n        return self(x, training=False)\n    /opt/anaconda3/envs/NLP_code/lib/python3.8/site-packages/tensorflow/python/keras/engine/base_layer.py:998 __call__\n        input_spec.assert_input_compatibility(self.input_spec, inputs, self.name)\n    /opt/anaconda3/envs/NLP_code/lib/python3.8/site-packages/tensorflow/python/keras/engine/input_spec.py:255 assert_input_compatibility\n        raise ValueError(\n\n    ValueError: Input 0 of layer sequential is incompatible with the layer: expected axis -1 of input shape to have value 2294 but received input with shape (None, 1)\n",
     "output_type": "error",
     "traceback": [
      "\u001b[0;31m---------------------------------------------------------------------------\u001b[0m",
      "\u001b[0;31mValueError\u001b[0m                                Traceback (most recent call last)",
      "\u001b[0;32m/var/folders/0q/ntwcxlqn1111n9nhc76xwp1w0000gn/T/ipykernel_12448/877857585.py\u001b[0m in \u001b[0;36m<module>\u001b[0;34m\u001b[0m\n\u001b[1;32m      5\u001b[0m ]\n\u001b[1;32m      6\u001b[0m \u001b[0;34m\u001b[0m\u001b[0m\n\u001b[0;32m----> 7\u001b[0;31m \u001b[0mmodel\u001b[0m\u001b[0;34m.\u001b[0m\u001b[0mpredict\u001b[0m\u001b[0;34m(\u001b[0m\u001b[0mexamples\u001b[0m\u001b[0;34m)\u001b[0m\u001b[0;34m\u001b[0m\u001b[0;34m\u001b[0m\u001b[0m\n\u001b[0m",
      "\u001b[0;32m/opt/anaconda3/envs/NLP_code/lib/python3.8/site-packages/tensorflow/python/keras/engine/training.py\u001b[0m in \u001b[0;36mpredict\u001b[0;34m(self, x, batch_size, verbose, steps, callbacks, max_queue_size, workers, use_multiprocessing)\u001b[0m\n\u001b[1;32m   1622\u001b[0m           \u001b[0;32mfor\u001b[0m \u001b[0mstep\u001b[0m \u001b[0;32min\u001b[0m \u001b[0mdata_handler\u001b[0m\u001b[0;34m.\u001b[0m\u001b[0msteps\u001b[0m\u001b[0;34m(\u001b[0m\u001b[0;34m)\u001b[0m\u001b[0;34m:\u001b[0m\u001b[0;34m\u001b[0m\u001b[0;34m\u001b[0m\u001b[0m\n\u001b[1;32m   1623\u001b[0m             \u001b[0mcallbacks\u001b[0m\u001b[0;34m.\u001b[0m\u001b[0mon_predict_batch_begin\u001b[0m\u001b[0;34m(\u001b[0m\u001b[0mstep\u001b[0m\u001b[0;34m)\u001b[0m\u001b[0;34m\u001b[0m\u001b[0;34m\u001b[0m\u001b[0m\n\u001b[0;32m-> 1624\u001b[0;31m             \u001b[0mtmp_batch_outputs\u001b[0m \u001b[0;34m=\u001b[0m \u001b[0mself\u001b[0m\u001b[0;34m.\u001b[0m\u001b[0mpredict_function\u001b[0m\u001b[0;34m(\u001b[0m\u001b[0miterator\u001b[0m\u001b[0;34m)\u001b[0m\u001b[0;34m\u001b[0m\u001b[0;34m\u001b[0m\u001b[0m\n\u001b[0m\u001b[1;32m   1625\u001b[0m             \u001b[0;32mif\u001b[0m \u001b[0mdata_handler\u001b[0m\u001b[0;34m.\u001b[0m\u001b[0mshould_sync\u001b[0m\u001b[0;34m:\u001b[0m\u001b[0;34m\u001b[0m\u001b[0;34m\u001b[0m\u001b[0m\n\u001b[1;32m   1626\u001b[0m               \u001b[0mcontext\u001b[0m\u001b[0;34m.\u001b[0m\u001b[0masync_wait\u001b[0m\u001b[0;34m(\u001b[0m\u001b[0;34m)\u001b[0m\u001b[0;34m\u001b[0m\u001b[0;34m\u001b[0m\u001b[0m\n",
      "\u001b[0;32m/opt/anaconda3/envs/NLP_code/lib/python3.8/site-packages/tensorflow/python/eager/def_function.py\u001b[0m in \u001b[0;36m__call__\u001b[0;34m(self, *args, **kwds)\u001b[0m\n\u001b[1;32m    826\u001b[0m     \u001b[0mtracing_count\u001b[0m \u001b[0;34m=\u001b[0m \u001b[0mself\u001b[0m\u001b[0;34m.\u001b[0m\u001b[0mexperimental_get_tracing_count\u001b[0m\u001b[0;34m(\u001b[0m\u001b[0;34m)\u001b[0m\u001b[0;34m\u001b[0m\u001b[0;34m\u001b[0m\u001b[0m\n\u001b[1;32m    827\u001b[0m     \u001b[0;32mwith\u001b[0m \u001b[0mtrace\u001b[0m\u001b[0;34m.\u001b[0m\u001b[0mTrace\u001b[0m\u001b[0;34m(\u001b[0m\u001b[0mself\u001b[0m\u001b[0;34m.\u001b[0m\u001b[0m_name\u001b[0m\u001b[0;34m)\u001b[0m \u001b[0;32mas\u001b[0m \u001b[0mtm\u001b[0m\u001b[0;34m:\u001b[0m\u001b[0;34m\u001b[0m\u001b[0;34m\u001b[0m\u001b[0m\n\u001b[0;32m--> 828\u001b[0;31m       \u001b[0mresult\u001b[0m \u001b[0;34m=\u001b[0m \u001b[0mself\u001b[0m\u001b[0;34m.\u001b[0m\u001b[0m_call\u001b[0m\u001b[0;34m(\u001b[0m\u001b[0;34m*\u001b[0m\u001b[0margs\u001b[0m\u001b[0;34m,\u001b[0m \u001b[0;34m**\u001b[0m\u001b[0mkwds\u001b[0m\u001b[0;34m)\u001b[0m\u001b[0;34m\u001b[0m\u001b[0;34m\u001b[0m\u001b[0m\n\u001b[0m\u001b[1;32m    829\u001b[0m       \u001b[0mcompiler\u001b[0m \u001b[0;34m=\u001b[0m \u001b[0;34m\"xla\"\u001b[0m \u001b[0;32mif\u001b[0m \u001b[0mself\u001b[0m\u001b[0;34m.\u001b[0m\u001b[0m_experimental_compile\u001b[0m \u001b[0;32melse\u001b[0m \u001b[0;34m\"nonXla\"\u001b[0m\u001b[0;34m\u001b[0m\u001b[0;34m\u001b[0m\u001b[0m\n\u001b[1;32m    830\u001b[0m       \u001b[0mnew_tracing_count\u001b[0m \u001b[0;34m=\u001b[0m \u001b[0mself\u001b[0m\u001b[0;34m.\u001b[0m\u001b[0mexperimental_get_tracing_count\u001b[0m\u001b[0;34m(\u001b[0m\u001b[0;34m)\u001b[0m\u001b[0;34m\u001b[0m\u001b[0;34m\u001b[0m\u001b[0m\n",
      "\u001b[0;32m/opt/anaconda3/envs/NLP_code/lib/python3.8/site-packages/tensorflow/python/eager/def_function.py\u001b[0m in \u001b[0;36m_call\u001b[0;34m(self, *args, **kwds)\u001b[0m\n\u001b[1;32m    869\u001b[0m       \u001b[0;31m# This is the first call of __call__, so we have to initialize.\u001b[0m\u001b[0;34m\u001b[0m\u001b[0;34m\u001b[0m\u001b[0;34m\u001b[0m\u001b[0m\n\u001b[1;32m    870\u001b[0m       \u001b[0minitializers\u001b[0m \u001b[0;34m=\u001b[0m \u001b[0;34m[\u001b[0m\u001b[0;34m]\u001b[0m\u001b[0;34m\u001b[0m\u001b[0;34m\u001b[0m\u001b[0m\n\u001b[0;32m--> 871\u001b[0;31m       \u001b[0mself\u001b[0m\u001b[0;34m.\u001b[0m\u001b[0m_initialize\u001b[0m\u001b[0;34m(\u001b[0m\u001b[0margs\u001b[0m\u001b[0;34m,\u001b[0m \u001b[0mkwds\u001b[0m\u001b[0;34m,\u001b[0m \u001b[0madd_initializers_to\u001b[0m\u001b[0;34m=\u001b[0m\u001b[0minitializers\u001b[0m\u001b[0;34m)\u001b[0m\u001b[0;34m\u001b[0m\u001b[0;34m\u001b[0m\u001b[0m\n\u001b[0m\u001b[1;32m    872\u001b[0m     \u001b[0;32mfinally\u001b[0m\u001b[0;34m:\u001b[0m\u001b[0;34m\u001b[0m\u001b[0;34m\u001b[0m\u001b[0m\n\u001b[1;32m    873\u001b[0m       \u001b[0;31m# At this point we know that the initialization is complete (or less\u001b[0m\u001b[0;34m\u001b[0m\u001b[0;34m\u001b[0m\u001b[0;34m\u001b[0m\u001b[0m\n",
      "\u001b[0;32m/opt/anaconda3/envs/NLP_code/lib/python3.8/site-packages/tensorflow/python/eager/def_function.py\u001b[0m in \u001b[0;36m_initialize\u001b[0;34m(self, args, kwds, add_initializers_to)\u001b[0m\n\u001b[1;32m    723\u001b[0m     \u001b[0mself\u001b[0m\u001b[0;34m.\u001b[0m\u001b[0m_graph_deleter\u001b[0m \u001b[0;34m=\u001b[0m \u001b[0mFunctionDeleter\u001b[0m\u001b[0;34m(\u001b[0m\u001b[0mself\u001b[0m\u001b[0;34m.\u001b[0m\u001b[0m_lifted_initializer_graph\u001b[0m\u001b[0;34m)\u001b[0m\u001b[0;34m\u001b[0m\u001b[0;34m\u001b[0m\u001b[0m\n\u001b[1;32m    724\u001b[0m     self._concrete_stateful_fn = (\n\u001b[0;32m--> 725\u001b[0;31m         self._stateful_fn._get_concrete_function_internal_garbage_collected(  # pylint: disable=protected-access\n\u001b[0m\u001b[1;32m    726\u001b[0m             *args, **kwds))\n\u001b[1;32m    727\u001b[0m \u001b[0;34m\u001b[0m\u001b[0m\n",
      "\u001b[0;32m/opt/anaconda3/envs/NLP_code/lib/python3.8/site-packages/tensorflow/python/eager/function.py\u001b[0m in \u001b[0;36m_get_concrete_function_internal_garbage_collected\u001b[0;34m(self, *args, **kwargs)\u001b[0m\n\u001b[1;32m   2967\u001b[0m       \u001b[0margs\u001b[0m\u001b[0;34m,\u001b[0m \u001b[0mkwargs\u001b[0m \u001b[0;34m=\u001b[0m \u001b[0;32mNone\u001b[0m\u001b[0;34m,\u001b[0m \u001b[0;32mNone\u001b[0m\u001b[0;34m\u001b[0m\u001b[0;34m\u001b[0m\u001b[0m\n\u001b[1;32m   2968\u001b[0m     \u001b[0;32mwith\u001b[0m \u001b[0mself\u001b[0m\u001b[0;34m.\u001b[0m\u001b[0m_lock\u001b[0m\u001b[0;34m:\u001b[0m\u001b[0;34m\u001b[0m\u001b[0;34m\u001b[0m\u001b[0m\n\u001b[0;32m-> 2969\u001b[0;31m       \u001b[0mgraph_function\u001b[0m\u001b[0;34m,\u001b[0m \u001b[0m_\u001b[0m \u001b[0;34m=\u001b[0m \u001b[0mself\u001b[0m\u001b[0;34m.\u001b[0m\u001b[0m_maybe_define_function\u001b[0m\u001b[0;34m(\u001b[0m\u001b[0margs\u001b[0m\u001b[0;34m,\u001b[0m \u001b[0mkwargs\u001b[0m\u001b[0;34m)\u001b[0m\u001b[0;34m\u001b[0m\u001b[0;34m\u001b[0m\u001b[0m\n\u001b[0m\u001b[1;32m   2970\u001b[0m     \u001b[0;32mreturn\u001b[0m \u001b[0mgraph_function\u001b[0m\u001b[0;34m\u001b[0m\u001b[0;34m\u001b[0m\u001b[0m\n\u001b[1;32m   2971\u001b[0m \u001b[0;34m\u001b[0m\u001b[0m\n",
      "\u001b[0;32m/opt/anaconda3/envs/NLP_code/lib/python3.8/site-packages/tensorflow/python/eager/function.py\u001b[0m in \u001b[0;36m_maybe_define_function\u001b[0;34m(self, args, kwargs)\u001b[0m\n\u001b[1;32m   3359\u001b[0m \u001b[0;34m\u001b[0m\u001b[0m\n\u001b[1;32m   3360\u001b[0m           \u001b[0mself\u001b[0m\u001b[0;34m.\u001b[0m\u001b[0m_function_cache\u001b[0m\u001b[0;34m.\u001b[0m\u001b[0mmissed\u001b[0m\u001b[0;34m.\u001b[0m\u001b[0madd\u001b[0m\u001b[0;34m(\u001b[0m\u001b[0mcall_context_key\u001b[0m\u001b[0;34m)\u001b[0m\u001b[0;34m\u001b[0m\u001b[0;34m\u001b[0m\u001b[0m\n\u001b[0;32m-> 3361\u001b[0;31m           \u001b[0mgraph_function\u001b[0m \u001b[0;34m=\u001b[0m \u001b[0mself\u001b[0m\u001b[0;34m.\u001b[0m\u001b[0m_create_graph_function\u001b[0m\u001b[0;34m(\u001b[0m\u001b[0margs\u001b[0m\u001b[0;34m,\u001b[0m \u001b[0mkwargs\u001b[0m\u001b[0;34m)\u001b[0m\u001b[0;34m\u001b[0m\u001b[0;34m\u001b[0m\u001b[0m\n\u001b[0m\u001b[1;32m   3362\u001b[0m           \u001b[0mself\u001b[0m\u001b[0;34m.\u001b[0m\u001b[0m_function_cache\u001b[0m\u001b[0;34m.\u001b[0m\u001b[0mprimary\u001b[0m\u001b[0;34m[\u001b[0m\u001b[0mcache_key\u001b[0m\u001b[0;34m]\u001b[0m \u001b[0;34m=\u001b[0m \u001b[0mgraph_function\u001b[0m\u001b[0;34m\u001b[0m\u001b[0;34m\u001b[0m\u001b[0m\n\u001b[1;32m   3363\u001b[0m \u001b[0;34m\u001b[0m\u001b[0m\n",
      "\u001b[0;32m/opt/anaconda3/envs/NLP_code/lib/python3.8/site-packages/tensorflow/python/eager/function.py\u001b[0m in \u001b[0;36m_create_graph_function\u001b[0;34m(self, args, kwargs, override_flat_arg_shapes)\u001b[0m\n\u001b[1;32m   3194\u001b[0m     \u001b[0marg_names\u001b[0m \u001b[0;34m=\u001b[0m \u001b[0mbase_arg_names\u001b[0m \u001b[0;34m+\u001b[0m \u001b[0mmissing_arg_names\u001b[0m\u001b[0;34m\u001b[0m\u001b[0;34m\u001b[0m\u001b[0m\n\u001b[1;32m   3195\u001b[0m     graph_function = ConcreteFunction(\n\u001b[0;32m-> 3196\u001b[0;31m         func_graph_module.func_graph_from_py_func(\n\u001b[0m\u001b[1;32m   3197\u001b[0m             \u001b[0mself\u001b[0m\u001b[0;34m.\u001b[0m\u001b[0m_name\u001b[0m\u001b[0;34m,\u001b[0m\u001b[0;34m\u001b[0m\u001b[0;34m\u001b[0m\u001b[0m\n\u001b[1;32m   3198\u001b[0m             \u001b[0mself\u001b[0m\u001b[0;34m.\u001b[0m\u001b[0m_python_function\u001b[0m\u001b[0;34m,\u001b[0m\u001b[0;34m\u001b[0m\u001b[0;34m\u001b[0m\u001b[0m\n",
      "\u001b[0;32m/opt/anaconda3/envs/NLP_code/lib/python3.8/site-packages/tensorflow/python/framework/func_graph.py\u001b[0m in \u001b[0;36mfunc_graph_from_py_func\u001b[0;34m(name, python_func, args, kwargs, signature, func_graph, autograph, autograph_options, add_control_dependencies, arg_names, op_return_value, collections, capture_by_value, override_flat_arg_shapes)\u001b[0m\n\u001b[1;32m    988\u001b[0m         \u001b[0m_\u001b[0m\u001b[0;34m,\u001b[0m \u001b[0moriginal_func\u001b[0m \u001b[0;34m=\u001b[0m \u001b[0mtf_decorator\u001b[0m\u001b[0;34m.\u001b[0m\u001b[0munwrap\u001b[0m\u001b[0;34m(\u001b[0m\u001b[0mpython_func\u001b[0m\u001b[0;34m)\u001b[0m\u001b[0;34m\u001b[0m\u001b[0;34m\u001b[0m\u001b[0m\n\u001b[1;32m    989\u001b[0m \u001b[0;34m\u001b[0m\u001b[0m\n\u001b[0;32m--> 990\u001b[0;31m       \u001b[0mfunc_outputs\u001b[0m \u001b[0;34m=\u001b[0m \u001b[0mpython_func\u001b[0m\u001b[0;34m(\u001b[0m\u001b[0;34m*\u001b[0m\u001b[0mfunc_args\u001b[0m\u001b[0;34m,\u001b[0m \u001b[0;34m**\u001b[0m\u001b[0mfunc_kwargs\u001b[0m\u001b[0;34m)\u001b[0m\u001b[0;34m\u001b[0m\u001b[0;34m\u001b[0m\u001b[0m\n\u001b[0m\u001b[1;32m    991\u001b[0m \u001b[0;34m\u001b[0m\u001b[0m\n\u001b[1;32m    992\u001b[0m       \u001b[0;31m# invariant: `func_outputs` contains only Tensors, CompositeTensors,\u001b[0m\u001b[0;34m\u001b[0m\u001b[0;34m\u001b[0m\u001b[0;34m\u001b[0m\u001b[0m\n",
      "\u001b[0;32m/opt/anaconda3/envs/NLP_code/lib/python3.8/site-packages/tensorflow/python/eager/def_function.py\u001b[0m in \u001b[0;36mwrapped_fn\u001b[0;34m(*args, **kwds)\u001b[0m\n\u001b[1;32m    632\u001b[0m             \u001b[0mxla_context\u001b[0m\u001b[0;34m.\u001b[0m\u001b[0mExit\u001b[0m\u001b[0;34m(\u001b[0m\u001b[0;34m)\u001b[0m\u001b[0;34m\u001b[0m\u001b[0;34m\u001b[0m\u001b[0m\n\u001b[1;32m    633\u001b[0m         \u001b[0;32melse\u001b[0m\u001b[0;34m:\u001b[0m\u001b[0;34m\u001b[0m\u001b[0;34m\u001b[0m\u001b[0m\n\u001b[0;32m--> 634\u001b[0;31m           \u001b[0mout\u001b[0m \u001b[0;34m=\u001b[0m \u001b[0mweak_wrapped_fn\u001b[0m\u001b[0;34m(\u001b[0m\u001b[0;34m)\u001b[0m\u001b[0;34m.\u001b[0m\u001b[0m__wrapped__\u001b[0m\u001b[0;34m(\u001b[0m\u001b[0;34m*\u001b[0m\u001b[0margs\u001b[0m\u001b[0;34m,\u001b[0m \u001b[0;34m**\u001b[0m\u001b[0mkwds\u001b[0m\u001b[0;34m)\u001b[0m\u001b[0;34m\u001b[0m\u001b[0;34m\u001b[0m\u001b[0m\n\u001b[0m\u001b[1;32m    635\u001b[0m         \u001b[0;32mreturn\u001b[0m \u001b[0mout\u001b[0m\u001b[0;34m\u001b[0m\u001b[0;34m\u001b[0m\u001b[0m\n\u001b[1;32m    636\u001b[0m \u001b[0;34m\u001b[0m\u001b[0m\n",
      "\u001b[0;32m/opt/anaconda3/envs/NLP_code/lib/python3.8/site-packages/tensorflow/python/framework/func_graph.py\u001b[0m in \u001b[0;36mwrapper\u001b[0;34m(*args, **kwargs)\u001b[0m\n\u001b[1;32m    975\u001b[0m           \u001b[0;32mexcept\u001b[0m \u001b[0mException\u001b[0m \u001b[0;32mas\u001b[0m \u001b[0me\u001b[0m\u001b[0;34m:\u001b[0m  \u001b[0;31m# pylint:disable=broad-except\u001b[0m\u001b[0;34m\u001b[0m\u001b[0;34m\u001b[0m\u001b[0m\n\u001b[1;32m    976\u001b[0m             \u001b[0;32mif\u001b[0m \u001b[0mhasattr\u001b[0m\u001b[0;34m(\u001b[0m\u001b[0me\u001b[0m\u001b[0;34m,\u001b[0m \u001b[0;34m\"ag_error_metadata\"\u001b[0m\u001b[0;34m)\u001b[0m\u001b[0;34m:\u001b[0m\u001b[0;34m\u001b[0m\u001b[0;34m\u001b[0m\u001b[0m\n\u001b[0;32m--> 977\u001b[0;31m               \u001b[0;32mraise\u001b[0m \u001b[0me\u001b[0m\u001b[0;34m.\u001b[0m\u001b[0mag_error_metadata\u001b[0m\u001b[0;34m.\u001b[0m\u001b[0mto_exception\u001b[0m\u001b[0;34m(\u001b[0m\u001b[0me\u001b[0m\u001b[0;34m)\u001b[0m\u001b[0;34m\u001b[0m\u001b[0;34m\u001b[0m\u001b[0m\n\u001b[0m\u001b[1;32m    978\u001b[0m             \u001b[0;32melse\u001b[0m\u001b[0;34m:\u001b[0m\u001b[0;34m\u001b[0m\u001b[0;34m\u001b[0m\u001b[0m\n\u001b[1;32m    979\u001b[0m               \u001b[0;32mraise\u001b[0m\u001b[0;34m\u001b[0m\u001b[0;34m\u001b[0m\u001b[0m\n",
      "\u001b[0;31mValueError\u001b[0m: in user code:\n\n    /opt/anaconda3/envs/NLP_code/lib/python3.8/site-packages/tensorflow/python/keras/engine/training.py:1473 predict_function  *\n        return step_function(self, iterator)\n    /opt/anaconda3/envs/NLP_code/lib/python3.8/site-packages/tensorflow/python/keras/engine/training.py:1463 step_function  **\n        outputs = model.distribute_strategy.run(run_step, args=(data,))\n    /opt/anaconda3/envs/NLP_code/lib/python3.8/site-packages/tensorflow/python/distribute/distribute_lib.py:1259 run\n        return self._extended.call_for_each_replica(fn, args=args, kwargs=kwargs)\n    /opt/anaconda3/envs/NLP_code/lib/python3.8/site-packages/tensorflow/python/distribute/distribute_lib.py:2730 call_for_each_replica\n        return self._call_for_each_replica(fn, args, kwargs)\n    /opt/anaconda3/envs/NLP_code/lib/python3.8/site-packages/tensorflow/python/distribute/distribute_lib.py:3417 _call_for_each_replica\n        return fn(*args, **kwargs)\n    /opt/anaconda3/envs/NLP_code/lib/python3.8/site-packages/tensorflow/python/keras/engine/training.py:1456 run_step  **\n        outputs = model.predict_step(data)\n    /opt/anaconda3/envs/NLP_code/lib/python3.8/site-packages/tensorflow/python/keras/engine/training.py:1429 predict_step\n        return self(x, training=False)\n    /opt/anaconda3/envs/NLP_code/lib/python3.8/site-packages/tensorflow/python/keras/engine/base_layer.py:998 __call__\n        input_spec.assert_input_compatibility(self.input_spec, inputs, self.name)\n    /opt/anaconda3/envs/NLP_code/lib/python3.8/site-packages/tensorflow/python/keras/engine/input_spec.py:255 assert_input_compatibility\n        raise ValueError(\n\n    ValueError: Input 0 of layer sequential is incompatible with the layer: expected axis -1 of input shape to have value 2294 but received input with shape (None, 1)\n"
     ]
    }
   ],
   "source": [
    "examples = [\n",
    "  \"The movie was great!\",\n",
    "  \"The movie was okay.\",\n",
    "  \"The movie was terrible...\"\n",
    "]\n",
    "\n",
    "model.predict(examples)"
   ]
  },
  {
   "cell_type": "code",
   "execution_count": null,
   "metadata": {},
   "outputs": [],
   "source": []
  }
 ],
 "metadata": {
  "colab": {
   "collapsed_sections": [],
   "name": "Basic NLP Pre-processing.ipynb",
   "provenance": []
  },
  "kernelspec": {
   "display_name": "Python 3 (ipykernel)",
   "language": "python",
   "name": "python3"
  },
  "language_info": {
   "codemirror_mode": {
    "name": "ipython",
    "version": 3
   },
   "file_extension": ".py",
   "mimetype": "text/x-python",
   "name": "python",
   "nbconvert_exporter": "python",
   "pygments_lexer": "ipython3",
   "version": "3.8.12"
  },
  "toc": {
   "base_numbering": 1,
   "nav_menu": {},
   "number_sections": false,
   "sideBar": false,
   "skip_h1_title": false,
   "title_cell": "Table of Contents",
   "title_sidebar": "",
   "toc_cell": true,
   "toc_position": {},
   "toc_section_display": false,
   "toc_window_display": false
  },
  "varInspector": {
   "cols": {
    "lenName": 16,
    "lenType": 16,
    "lenVar": 40
   },
   "kernels_config": {
    "python": {
     "delete_cmd_postfix": "",
     "delete_cmd_prefix": "del ",
     "library": "var_list.py",
     "varRefreshCmd": "print(var_dic_list())"
    },
    "r": {
     "delete_cmd_postfix": ") ",
     "delete_cmd_prefix": "rm(",
     "library": "var_list.r",
     "varRefreshCmd": "cat(var_dic_list()) "
    }
   },
   "types_to_exclude": [
    "module",
    "function",
    "builtin_function_or_method",
    "instance",
    "_Feature"
   ],
   "window_display": false
  }
 },
 "nbformat": 4,
 "nbformat_minor": 4
}
