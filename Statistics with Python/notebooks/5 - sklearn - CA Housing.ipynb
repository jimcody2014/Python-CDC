{
 "cells": [
  {
   "cell_type": "markdown",
   "id": "31e11772",
   "metadata": {
    "toc": true
   },
   "source": [
    "<h1>Table of Contents<span class=\"tocSkip\"></span></h1>\n",
    "<div class=\"toc\"><ul class=\"toc-item\"><li><span><a href=\"#Question\" data-toc-modified-id=\"Question-1\">Question</a></span><ul class=\"toc-item\"><li><ul class=\"toc-item\"><li><ul class=\"toc-item\"><li><span><a href=\"#Can-we-accurately-predict-house-values-based-on-other-variables?\" data-toc-modified-id=\"Can-we-accurately-predict-house-values-based-on-other-variables?-1.0.0.1\">Can we accurately predict house values based on other variables?</a></span></li></ul></li></ul></li></ul></li><li><span><a href=\"#Read-data-and-modify\" data-toc-modified-id=\"Read-data-and-modify-2\">Read data and modify</a></span><ul class=\"toc-item\"><li><ul class=\"toc-item\"><li><ul class=\"toc-item\"><li><span><a href=\"#Create-average-rooms,-average-bedrooms\" data-toc-modified-id=\"Create-average-rooms,-average-bedrooms-2.0.0.1\">Create average rooms, average bedrooms</a></span></li></ul></li></ul></li></ul></li><li><span><a href=\"#Split-and-model\" data-toc-modified-id=\"Split-and-model-3\">Split and model</a></span><ul class=\"toc-item\"><li><ul class=\"toc-item\"><li><ul class=\"toc-item\"><li><span><a href=\"#Identify-which-data-is-the-target-and-which-will-be-the-predictor(s)\" data-toc-modified-id=\"Identify-which-data-is-the-target-and-which-will-be-the-predictor(s)-3.0.0.1\">Identify which data is the target and which will be the predictor(s)</a></span></li><li><span><a href=\"#Split-the-dataset-into-test-and-train\" data-toc-modified-id=\"Split-the-dataset-into-test-and-train-3.0.0.2\">Split the dataset into test and train</a></span></li><li><span><a href=\"#Run-the-linear-regression-model\" data-toc-modified-id=\"Run-the-linear-regression-model-3.0.0.3\">Run the linear regression model</a></span></li><li><span><a href=\"#What-are-the-predicted-values?\" data-toc-modified-id=\"What-are-the-predicted-values?-3.0.0.4\">What are the predicted values?</a></span></li><li><span><a href=\"#Examining-results\" data-toc-modified-id=\"Examining-results-3.0.0.5\">Examining results</a></span></li><li><span><a href=\"#Using-coefficients-as-a-way-of-measuring-feature-importance\" data-toc-modified-id=\"Using-coefficients-as-a-way-of-measuring-feature-importance-3.0.0.6\">Using coefficients as a way of measuring feature importance</a></span></li></ul></li></ul></li></ul></li></ul></div>"
   ]
  },
  {
   "cell_type": "code",
   "execution_count": 90,
   "id": "2175a5d4",
   "metadata": {},
   "outputs": [],
   "source": [
    "import pandas as pd\n",
    "import matplotlib.pyplot as plt\n",
    "import seaborn as sns\n",
    "from sklearn.model_selection import train_test_split\n",
    "from sklearn import linear_model\n",
    "from sklearn.metrics import mean_squared_error, r2_score, mean_absolute_error\n",
    "from sklearn.preprocessing import StandardScaler\n",
    "\n",
    "from sklearn.pipeline import make_pipeline\n",
    "from sklearn.model_selection import cross_validate\n",
    "\n",
    "import warnings\n",
    "warnings.filterwarnings('ignore')"
   ]
  },
  {
   "cell_type": "markdown",
   "id": "d1095ba3",
   "metadata": {},
   "source": [
    "# Question\n",
    "\n",
    "#### Can we accurately predict house values based on other variables?"
   ]
  },
  {
   "cell_type": "markdown",
   "id": "18118668",
   "metadata": {},
   "source": [
    "# Read data and modify"
   ]
  },
  {
   "cell_type": "code",
   "execution_count": null,
   "id": "63e7943f",
   "metadata": {},
   "outputs": [],
   "source": [
    "#from google.colab import drive\n",
    "#drive.mount('/content/drive')"
   ]
  },
  {
   "cell_type": "code",
   "execution_count": null,
   "id": "f3825cde",
   "metadata": {},
   "outputs": [],
   "source": [
    "df = pd.read_csv('/content/drive/MyDrive/NLP_data/housing.csv')\n",
    "df.columns= df.columns.str.lower()\n",
    "df.head()\n",
    "\n",
    "# Notice that each row is associated with a lat/long pair.  Thus median values."
   ]
  },
  {
   "cell_type": "code",
   "execution_count": null,
   "id": "1c0b5563",
   "metadata": {},
   "outputs": [],
   "source": [
    "print(df.shape)\n",
    "print()\n",
    "print(df.info())"
   ]
  },
  {
   "cell_type": "code",
   "execution_count": null,
   "id": "60839c94",
   "metadata": {},
   "outputs": [],
   "source": [
    "df = df.drop('longitude', axis = 1)\n",
    "df = df.drop('latitude', axis = 1)"
   ]
  },
  {
   "cell_type": "code",
   "execution_count": null,
   "id": "3f60ca1f",
   "metadata": {},
   "outputs": [],
   "source": [
    "df.isnull().sum()"
   ]
  },
  {
   "cell_type": "code",
   "execution_count": null,
   "id": "1eeb61f8",
   "metadata": {},
   "outputs": [],
   "source": [
    "df.total_bedrooms.fillna( df.total_bedrooms.mean(),inplace=True )"
   ]
  },
  {
   "cell_type": "markdown",
   "id": "3dbc8a2d",
   "metadata": {},
   "source": [
    "#### Create average rooms, average bedrooms"
   ]
  },
  {
   "cell_type": "code",
   "execution_count": null,
   "id": "f54c3c02",
   "metadata": {},
   "outputs": [],
   "source": [
    "df['avg_rooms'] = round((df.total_rooms/df.households),2)\n",
    "df['avg_bedrooms'] = round((df.total_bedrooms/df.households),2)\n",
    "df.head()"
   ]
  },
  {
   "cell_type": "code",
   "execution_count": null,
   "id": "c5c35064",
   "metadata": {},
   "outputs": [],
   "source": [
    "df = df.drop('total_rooms', axis = 1)\n",
    "df = df.drop('total_bedrooms', axis = 1)"
   ]
  },
  {
   "cell_type": "code",
   "execution_count": null,
   "id": "d8cf1f66",
   "metadata": {},
   "outputs": [],
   "source": [
    "df.hist(figsize=(12, 10), bins=30, edgecolor=\"black\")\n",
    "plt.subplots_adjust(hspace=0.7, wspace=0.4)"
   ]
  },
  {
   "cell_type": "code",
   "execution_count": null,
   "id": "04e49202",
   "metadata": {},
   "outputs": [],
   "source": [
    "#sns.pairplot(df)"
   ]
  },
  {
   "cell_type": "markdown",
   "id": "77d23b8c",
   "metadata": {},
   "source": [
    "# Split and model"
   ]
  },
  {
   "cell_type": "code",
   "execution_count": null,
   "id": "fcffa818",
   "metadata": {},
   "outputs": [],
   "source": [
    "df.columns"
   ]
  },
  {
   "cell_type": "markdown",
   "id": "5680c8cd",
   "metadata": {},
   "source": [
    "#### Identify which data is the target and which will be the predictor(s)"
   ]
  },
  {
   "cell_type": "code",
   "execution_count": null,
   "id": "32de3eec",
   "metadata": {},
   "outputs": [],
   "source": [
    "data = df[['avg_bedrooms', 'population', 'housing_median_age','avg_rooms','households','median_income']]\n",
    "target = df.median_house_value"
   ]
  },
  {
   "cell_type": "markdown",
   "id": "0b7630b8",
   "metadata": {},
   "source": [
    "#### Split the dataset into test and train"
   ]
  },
  {
   "cell_type": "code",
   "execution_count": null,
   "id": "5a58bbf3",
   "metadata": {},
   "outputs": [],
   "source": [
    "x_train, x_test, y_train, y_test = train_test_split(data,target, test_size = 0.2)"
   ]
  },
  {
   "cell_type": "markdown",
   "id": "a858fe73",
   "metadata": {},
   "source": [
    "#### Run the linear regression model"
   ]
  },
  {
   "cell_type": "code",
   "execution_count": null,
   "id": "9a4a2aa4",
   "metadata": {},
   "outputs": [],
   "source": [
    "reg = linear_model.LinearRegression()\n",
    "reg.fit(x_train, y_train)\n",
    "print('train: ',reg.score( x_train, y_train ))\n",
    "print('test:  ',reg.score(x_test, y_test))"
   ]
  },
  {
   "cell_type": "markdown",
   "id": "614654dd",
   "metadata": {},
   "source": [
    "#### What are the predicted values?"
   ]
  },
  {
   "cell_type": "code",
   "execution_count": null,
   "id": "8d1a4f0c",
   "metadata": {},
   "outputs": [],
   "source": [
    "# Use model to make predictions\n",
    "y_pred = reg.predict(x_test)\n",
    "#y_pred"
   ]
  },
  {
   "cell_type": "markdown",
   "id": "34fb975e",
   "metadata": {},
   "source": [
    "#### Examining results"
   ]
  },
  {
   "cell_type": "code",
   "execution_count": 86,
   "id": "db6fb19b",
   "metadata": {},
   "outputs": [
    {
     "name": "stdout",
     "output_type": "stream",
     "text": [
      "Model Coefficients: [ 1.68336868e+04 -4.09888714e+01  1.91905524e+03 -4.81944376e+03\n",
      "  1.44781535e+02  4.51814858e+04]\n",
      "Mean Absolute Error: 56724.3505735962\n",
      "Coefficient of Determination: 0.5657494878933816\n"
     ]
    }
   ],
   "source": [
    "# Printout relevant metrics\n",
    "print(\"Model Coefficients:\",reg.coef_)\n",
    "print(\"Mean Absolute Error:\", mean_absolute_error(y_test, y_pred))\n",
    "print(\"Coefficient of Determination:\", r2_score(y_test, y_pred))"
   ]
  },
  {
   "cell_type": "markdown",
   "id": "cea2563b",
   "metadata": {},
   "source": [
    "#### Using coefficients as a way of measuring feature importance\n",
    "\n",
    "- Coefficients can provide the basis for a crude feature importance score. \n",
    "- This assumes that the input variables have the same scale or have been scaled prior to fitting a model."
   ]
  },
  {
   "cell_type": "code",
   "execution_count": 87,
   "id": "69c43a7c",
   "metadata": {},
   "outputs": [
    {
     "name": "stdout",
     "output_type": "stream",
     "text": [
      "Feature: 0, Score: 16833.69\n",
      "Feature: 1, Score: -40.99\n",
      "Feature: 2, Score: 1919.06\n",
      "Feature: 3, Score: -4819.44\n",
      "Feature: 4, Score: 144.78\n",
      "Feature: 5, Score: 45181.49\n"
     ]
    }
   ],
   "source": [
    "# summarize feature importance\n",
    "for i,v in enumerate(reg.coef_):\n",
    "\tprint('Feature: %0d, Score: %.2f' % (i,v))"
   ]
  },
  {
   "cell_type": "code",
   "execution_count": 91,
   "id": "2b293cf8",
   "metadata": {},
   "outputs": [
    {
     "data": {
      "text/html": [
       "<div>\n",
       "<style scoped>\n",
       "    .dataframe tbody tr th:only-of-type {\n",
       "        vertical-align: middle;\n",
       "    }\n",
       "\n",
       "    .dataframe tbody tr th {\n",
       "        vertical-align: top;\n",
       "    }\n",
       "\n",
       "    .dataframe thead th {\n",
       "        text-align: right;\n",
       "    }\n",
       "</style>\n",
       "<table border=\"1\" class=\"dataframe\">\n",
       "  <thead>\n",
       "    <tr style=\"text-align: right;\">\n",
       "      <th></th>\n",
       "      <th>coefficient</th>\n",
       "    </tr>\n",
       "  </thead>\n",
       "  <tbody>\n",
       "    <tr>\n",
       "      <th>avg_bedrooms</th>\n",
       "      <td>16833.686785</td>\n",
       "    </tr>\n",
       "    <tr>\n",
       "      <th>population</th>\n",
       "      <td>-40.988871</td>\n",
       "    </tr>\n",
       "    <tr>\n",
       "      <th>housing_median_age</th>\n",
       "      <td>1919.055236</td>\n",
       "    </tr>\n",
       "    <tr>\n",
       "      <th>avg_rooms</th>\n",
       "      <td>-4819.443759</td>\n",
       "    </tr>\n",
       "    <tr>\n",
       "      <th>households</th>\n",
       "      <td>144.781535</td>\n",
       "    </tr>\n",
       "  </tbody>\n",
       "</table>\n",
       "</div>"
      ],
      "text/plain": [
       "                     coefficient\n",
       "avg_bedrooms        16833.686785\n",
       "population            -40.988871\n",
       "housing_median_age   1919.055236\n",
       "avg_rooms           -4819.443759\n",
       "households            144.781535"
      ]
     },
     "execution_count": 91,
     "metadata": {},
     "output_type": "execute_result"
    }
   ],
   "source": [
    "# A cleaner view of the coefficients\n",
    "features = pd.DataFrame(reg.coef_, x_train.columns, columns=['coefficient'])\n",
    "features.head()"
   ]
  },
  {
   "cell_type": "code",
   "execution_count": 92,
   "id": "2b4ae20a",
   "metadata": {},
   "outputs": [
    {
     "data": {
      "image/png": "[encoded data removed]",
      "text/plain": [
       "<Figure size 432x288 with 1 Axes>"
      ]
     },
     "metadata": {
      "needs_background": "light"
     },
     "output_type": "display_data"
    }
   ],
   "source": [
    "# plot feature importance\n",
    "sns.barplot([x for x in range(len(reg.coef_))], importance)\n",
    "plt.show()"
   ]
  },
  {
   "cell_type": "markdown",
   "id": "24102343",
   "metadata": {},
   "source": [
    "\n",
    "Image result for sklearn linear regression feature importance\n",
    "Feature importance refers to techniques that assign a score to input features based on how useful they are at predicting a target variable"
   ]
  },
  {
   "cell_type": "code",
   "execution_count": null,
   "id": "c061ab87",
   "metadata": {},
   "outputs": [],
   "source": []
  }
 ],
 "metadata": {
  "kernelspec": {
   "display_name": "Python 3 (ipykernel)",
   "language": "python",
   "name": "python3"
  },
  "language_info": {
   "codemirror_mode": {
    "name": "ipython",
    "version": 3
   },
   "file_extension": ".py",
   "mimetype": "text/x-python",
   "name": "python",
   "nbconvert_exporter": "python",
   "pygments_lexer": "ipython3",
   "version": "3.8.12"
  },
  "toc": {
   "base_numbering": 1,
   "nav_menu": {},
   "number_sections": false,
   "sideBar": true,
   "skip_h1_title": false,
   "title_cell": "Table of Contents",
   "title_sidebar": "Contents",
   "toc_cell": true,
   "toc_position": {
    "height": "calc(100% - 180px)",
    "left": "10px",
    "top": "150px",
    "width": "165px"
   },
   "toc_section_display": true,
   "toc_window_display": true
  },
  "varInspector": {
   "cols": {
    "lenName": 16,
    "lenType": 16,
    "lenVar": 40
   },
   "kernels_config": {
    "python": {
     "delete_cmd_postfix": "",
     "delete_cmd_prefix": "del ",
     "library": "var_list.py",
     "varRefreshCmd": "print(var_dic_list())"
    },
    "r": {
     "delete_cmd_postfix": ") ",
     "delete_cmd_prefix": "rm(",
     "library": "var_list.r",
     "varRefreshCmd": "cat(var_dic_list()) "
    }
   },
   "types_to_exclude": [
    "module",
    "function",
    "builtin_function_or_method",
    "instance",
    "_Feature"
   ],
   "window_display": false
  }
 },
 "nbformat": 4,
 "nbformat_minor": 5
}
