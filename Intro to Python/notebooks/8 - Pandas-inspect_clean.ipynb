{
 "cells": [
  {
   "cell_type": "markdown",
   "id": "fc820f58",
   "metadata": {
    "toc": true
   },
   "source": [
    "<h1>Table of Contents<span class=\"tocSkip\"></span></h1>\n",
    "<div class=\"toc\"><ul class=\"toc-item\"><li><span><a href=\"#Ingest\" data-toc-modified-id=\"Ingest-1\">Ingest</a></span></li><li><span><a href=\"#Inspect-and-Clean\" data-toc-modified-id=\"Inspect-and-Clean-2\">Inspect and Clean</a></span><ul class=\"toc-item\"><li><ul class=\"toc-item\"><li><span><a href=\"#Looking-for-duplicates\" data-toc-modified-id=\"Looking-for-duplicates-2.0.1\">Looking for duplicates</a></span></li><li><span><a href=\"#Change-datatypes\" data-toc-modified-id=\"Change-datatypes-2.0.2\">Change datatypes</a></span></li><li><span><a href=\"#Change-column-names\" data-toc-modified-id=\"Change-column-names-2.0.3\">Change column names</a></span></li><li><span><a href=\"#Manage-missing-data\" data-toc-modified-id=\"Manage-missing-data-2.0.4\">Manage missing data</a></span></li><li><span><a href=\"#Imputing-missing-values\" data-toc-modified-id=\"Imputing-missing-values-2.0.5\">Imputing missing values</a></span></li></ul></li><li><span><a href=\"#Check-categorical-data\" data-toc-modified-id=\"Check-categorical-data-2.1\">Check categorical data</a></span><ul class=\"toc-item\"><li><span><a href=\"#Using-visuals-to-get-a-sense-of-the-data\" data-toc-modified-id=\"Using-visuals-to-get-a-sense-of-the-data-2.1.1\">Using visuals to get a sense of the data</a></span><ul class=\"toc-item\"><li><span><a href=\"#Categorical-data\" data-toc-modified-id=\"Categorical-data-2.1.1.1\">Categorical data</a></span></li></ul></li><li><span><a href=\"#Examine-categorical-data-a-little-more-closely\" data-toc-modified-id=\"Examine-categorical-data-a-little-more-closely-2.1.2\">Examine categorical data a little more closely</a></span></li><li><span><a href=\"#Dropping-columns-and-rows\" data-toc-modified-id=\"Dropping-columns-and-rows-2.1.3\">Dropping columns and rows</a></span><ul class=\"toc-item\"><li><span><a href=\"#Quantitative-data\" data-toc-modified-id=\"Quantitative-data-2.1.3.1\">Quantitative data</a></span></li></ul></li><li><span><a href=\"#Removing-outliers\" data-toc-modified-id=\"Removing-outliers-2.1.4\">Removing outliers</a></span></li></ul></li></ul></li><li><span><a href=\"#Exercise---30-minutes\" data-toc-modified-id=\"Exercise---30-minutes-3\">Exercise - 30 minutes</a></span><ul class=\"toc-item\"><li><ul class=\"toc-item\"><li><span><a href=\"#See-Beer-Notebook---Part-1\" data-toc-modified-id=\"See-Beer-Notebook---Part-1-3.0.1\">See Beer Notebook - Part 1</a></span></li></ul></li></ul></li></ul></div>"
   ]
  },
  {
   "cell_type": "markdown",
   "id": "eea06d49",
   "metadata": {},
   "source": [
    "# Ingest"
   ]
  },
  {
   "cell_type": "code",
   "execution_count": null,
   "id": "76d23ffc",
   "metadata": {},
   "outputs": [],
   "source": [
    "import numpy as np\n",
    "import pandas as pd\n",
    "import matplotlib.pyplot as plt\n",
    "import matplotlib as mpl\n",
    "import seaborn as sns\n",
    "from numpy.random import randn"
   ]
  },
  {
   "cell_type": "code",
   "execution_count": null,
   "id": "75735811",
   "metadata": {},
   "outputs": [],
   "source": [
    "df = pd.read_csv('https://raw.githubusercontent.com/jimcody2014/python-data/main/diabetes_inspect.csv')\n",
    "df.head()"
   ]
  },
  {
   "cell_type": "code",
   "execution_count": null,
   "id": "fe658248",
   "metadata": {},
   "outputs": [],
   "source": [
    "# A cursory look at the data\n",
    "df.shape"
   ]
  },
  {
   "cell_type": "markdown",
   "id": "22f37a6e",
   "metadata": {},
   "source": [
    " "
   ]
  },
  {
   "cell_type": "markdown",
   "id": "58202dd4",
   "metadata": {},
   "source": [
    "# Inspect and Clean"
   ]
  },
  {
   "cell_type": "markdown",
   "id": "641b7bb4",
   "metadata": {},
   "source": [
    "### Looking for duplicates"
   ]
  },
  {
   "cell_type": "code",
   "execution_count": null,
   "id": "1d5c185d",
   "metadata": {},
   "outputs": [],
   "source": [
    "# checking for duplicates\n",
    "df.loc[df.duplicated()]# This will drop all duplicate rows"
   ]
  },
  {
   "cell_type": "code",
   "execution_count": null,
   "id": "aa672d25",
   "metadata": {},
   "outputs": [],
   "source": [
    "df.drop_duplicates(keep = 'first', inplace = True) \n",
    "\n",
    "# keep - which duplicate to keep, default is none!\n",
    "\n",
    "df.loc[df.duplicated()]"
   ]
  },
  {
   "cell_type": "markdown",
   "id": "0c54551a",
   "metadata": {},
   "source": [
    "### Change datatypes"
   ]
  },
  {
   "cell_type": "code",
   "execution_count": null,
   "id": "3a6c910c",
   "metadata": {},
   "outputs": [],
   "source": [
    "# Are we ok with the data types?\n",
    "df.info()"
   ]
  },
  {
   "cell_type": "code",
   "execution_count": null,
   "id": "ea23b27c",
   "metadata": {},
   "outputs": [],
   "source": [
    "# Change data type\n",
    "\n",
    "df['encounter_id'] = df['encounter_id'].astype(str)\n",
    "df['patient_nbr'] = df['patient_nbr'].astype(str)\n",
    "df['admission_type_id'] = df['admission_type_id'].astype(str)\n",
    "df['discharge_disposition_id'] = df['discharge_disposition_id'].astype(str)\n",
    "df['admission_source_id'] = df['admission_source_id'].astype(str)\n",
    "df.info()\n",
    "\n",
    "# vaccines['series_complete_pop_pct'] = pd.to_numeric(vaccines['series_complete_pop_pct']).astype(int)\n"
   ]
  },
  {
   "cell_type": "markdown",
   "id": "f7761d8c",
   "metadata": {},
   "source": [
    "### Change column names"
   ]
  },
  {
   "cell_type": "code",
   "execution_count": null,
   "id": "abdbe8e6",
   "metadata": {},
   "outputs": [],
   "source": [
    "# Rename a few columns\n",
    "\n",
    "short_names = {'admission_type_id':'admin_type', # creating a dict of the names to be changed\n",
    "               'discharge_disposition_id':'discharge_dispo',\n",
    "               'admission_source_id':'admin_source',\n",
    "               'num_lab_procedures':'lab_procedures',\n",
    "               'num_procedures':'procedures'}\n",
    "\n",
    "df.rename(columns=short_names, inplace=True) # passing the dict to the rename method\n",
    "                                             # inplace=True\n",
    "df.info()\n",
    "\n",
    "######## Appendix A has an explanation of 'inplace'"
   ]
  },
  {
   "cell_type": "markdown",
   "id": "892de505",
   "metadata": {},
   "source": [
    "### Manage missing data"
   ]
  },
  {
   "cell_type": "code",
   "execution_count": null,
   "id": "192f9bd5",
   "metadata": {},
   "outputs": [],
   "source": [
    "# Just listing the columns and how many rows \n",
    "# for each have a missing value.\n",
    "\n",
    "df.isnull().sum()"
   ]
  },
  {
   "cell_type": "code",
   "execution_count": null,
   "id": "573fe9e3",
   "metadata": {},
   "outputs": [],
   "source": [
    "df_null = df.isna().mean().round(4) * 100\n",
    "\n",
    "df_null.sort_values(ascending=False).head()"
   ]
  },
  {
   "cell_type": "code",
   "execution_count": null,
   "id": "6fdcb895",
   "metadata": {},
   "outputs": [],
   "source": [
    "# Plotting missing values\n",
    "\n",
    "sns.heatmap(df.isnull(), cbar=False)"
   ]
  },
  {
   "cell_type": "markdown",
   "id": "46de8b04",
   "metadata": {},
   "source": [
    "### Imputing missing values"
   ]
  },
  {
   "cell_type": "code",
   "execution_count": null,
   "id": "69a63e43",
   "metadata": {},
   "outputs": [],
   "source": [
    "a = df['num_medications'].describe()\n",
    "b = df['num_medications'].median()\n",
    "c = df['num_medications'].mode()\n",
    "print(a)\n",
    "print()\n",
    "print(b)\n",
    "print()\n",
    "print(c)"
   ]
  },
  {
   "cell_type": "code",
   "execution_count": null,
   "id": "c6232411",
   "metadata": {},
   "outputs": [],
   "source": [
    "# Fill missing values of num_medications with the average of num_medications (mean)\n",
    "\n",
    "#df[ 'num_medications' ] = df.num_medications.fillna( df.num_medications.mean() )\n",
    "\n",
    "df.num_medications.fillna( df.num_medications.mean(),inplace=True )\n",
    "\n",
    "df_null = df.isna().mean().round(4) * 100\n",
    "df_null.sort_values(ascending=False).head()\n",
    "\n",
    "# Can be filled with an arbitrary number\n",
    "# df.num_medications.fillna( 101,inplace=True )\n",
    "\n",
    "# backward, forward ->  df.fillna(method='bfill') , df.fillna(method='ffill')"
   ]
  },
  {
   "cell_type": "markdown",
   "id": "c831b26d",
   "metadata": {},
   "source": [
    "## Check categorical data"
   ]
  },
  {
   "cell_type": "code",
   "execution_count": null,
   "id": "a5d89673",
   "metadata": {},
   "outputs": [],
   "source": [
    "sns.countplot(x='gender', data=df)"
   ]
  },
  {
   "cell_type": "code",
   "execution_count": 8,
   "id": "925dbbac",
   "metadata": {},
   "outputs": [
    {
     "data": {
      "text/plain": [
       "6"
      ]
     },
     "execution_count": 8,
     "metadata": {},
     "output_type": "execute_result"
    }
   ],
   "source": [
    "df['gender'].nunique()"
   ]
  },
  {
   "cell_type": "code",
   "execution_count": null,
   "id": "d70e283b",
   "metadata": {},
   "outputs": [],
   "source": [
    "df['gender'].unique()"
   ]
  },
  {
   "cell_type": "code",
   "execution_count": null,
   "id": "58a2280c",
   "metadata": {},
   "outputs": [],
   "source": [
    "df['gender'].value_counts()"
   ]
  },
  {
   "cell_type": "code",
   "execution_count": null,
   "id": "fe009990",
   "metadata": {},
   "outputs": [],
   "source": [
    "\n",
    "df['weight'] = df['weight'].replace('?', pd.NA)\n",
    "df.isnull().sum()"
   ]
  },
  {
   "cell_type": "code",
   "execution_count": null,
   "id": "ba4a1e34",
   "metadata": {},
   "outputs": [],
   "source": [
    "df.loc[df.gender == 'M','gender']='Male'\n",
    "df.head()"
   ]
  },
  {
   "cell_type": "code",
   "execution_count": 7,
   "id": "91cd4374",
   "metadata": {},
   "outputs": [],
   "source": [
    "# Change/Fix some of the data values\n",
    "\n",
    "df['gender'] = df['gender'].replace({'M':'Male', 'Mle':'Male', 'F':'Female'})\n",
    "#df.head()"
   ]
  },
  {
   "cell_type": "code",
   "execution_count": null,
   "id": "c5f57135",
   "metadata": {},
   "outputs": [],
   "source": [
    "# Inconsistent capitalization\n",
    "# Apply a function along an axis of the DataFrame.\n",
    "\n",
    "df['gender'] = df['gender'].apply(lambda x:x.lower())\n",
    "df.head()"
   ]
  },
  {
   "cell_type": "code",
   "execution_count": null,
   "id": "fbaeb0a9",
   "metadata": {},
   "outputs": [],
   "source": [
    "sns.countplot(x='gender', data=df)"
   ]
  },
  {
   "cell_type": "code",
   "execution_count": null,
   "id": "338c5cc2",
   "metadata": {},
   "outputs": [],
   "source": [
    "x = df.loc[df.gender == 'unknown/invalid','gender']\n",
    "y = df.loc[df.gender == '?','gender']\n",
    "print(x)\n",
    "print(y)"
   ]
  },
  {
   "cell_type": "code",
   "execution_count": null,
   "id": "1cba6e69",
   "metadata": {},
   "outputs": [],
   "source": [
    "df.iloc[11]"
   ]
  },
  {
   "cell_type": "code",
   "execution_count": null,
   "id": "cf1de9a3",
   "metadata": {},
   "outputs": [],
   "source": [
    "df['gender'] = df['gender'].replace({'?':'NaN', 'unknown/invalid':'male'})\n",
    "df.head()"
   ]
  },
  {
   "cell_type": "code",
   "execution_count": null,
   "id": "466129ee",
   "metadata": {},
   "outputs": [],
   "source": [
    "# Change a value for an entire column\n",
    "#df.loc[:,'discharge_dispo'] = 99   \n",
    "#df.loc[64410] = 99   # Change a value for an entire row\n",
    "#df.head()\n"
   ]
  },
  {
   "cell_type": "markdown",
   "id": "674e5fe8",
   "metadata": {},
   "source": [
    "### Using visuals to get a sense of the data"
   ]
  },
  {
   "cell_type": "code",
   "execution_count": null,
   "id": "6673423d",
   "metadata": {},
   "outputs": [],
   "source": [
    "df.info()"
   ]
  },
  {
   "cell_type": "markdown",
   "id": "47d8efb7",
   "metadata": {},
   "source": [
    "#### Categorical data"
   ]
  },
  {
   "cell_type": "code",
   "execution_count": null,
   "id": "05464083",
   "metadata": {},
   "outputs": [],
   "source": [
    "# Create a bar chart for each categorical variables to see the distribution of the data\n",
    "plt.figure(figsize = (20,20))\n",
    "plt.subplot(3,3,1)\n",
    "sns.countplot(x=\"race\", data=df)\n",
    "plt.subplot(3,3,2)\n",
    "sns.countplot(x=\"age\", data=df)\n",
    "plt.subplot(3,3,3)\n",
    "sns.countplot(x=\"gender\", data=df)\n",
    "plt.subplot(3,3,4)\n",
    "sns.countplot(x=\"admin_type\", data=df)\n",
    "plt.subplot(3,3,5)\n",
    "sns.countplot(x=\"admin_source\", data=df)\n",
    "plt.subplot(3,3,6)\n",
    "sns.countplot(x=\"discharge_dispo\", data=df)\n",
    "plt.subplot(3,3,7)\n",
    "sns.countplot(x=\"medical_specialty\", data=df)\n",
    "plt.subplot(3,3,8)\n",
    "sns.countplot(x=\"weight\", data=df)\n",
    "plt.subplot(3,3,9)\n",
    "sns.countplot(x=\"payer_code\", data=df)\n",
    "\n",
    "plt.suptitle('Categorical Plotting')\n",
    "plt.show()\n"
   ]
  },
  {
   "cell_type": "code",
   "execution_count": null,
   "id": "47df3c64",
   "metadata": {},
   "outputs": [],
   "source": [
    "# Create a bar chart for each categorical variables to see the distribution of the data\n",
    "plt.figure(figsize = (20,20))\n",
    "plt.subplot(521)\n",
    "sns.countplot(x=\"race\", data=df)\n",
    "plt.subplot(522)\n",
    "sns.countplot(x=\"age\", data=df)\n",
    "plt.subplot(523)\n",
    "sns.countplot(x=\"gender\", data=df)\n",
    "plt.subplot(524)\n",
    "sns.countplot(x=\"admin_type\", data=df)\n",
    "plt.subplot(525)\n",
    "sns.countplot(x=\"admin_source\", data=df)\n",
    "plt.subplot(526)\n",
    "sns.countplot(x=\"discharge_dispo\", data=df)\n",
    "plt.subplot(527)\n",
    "sns.countplot(x=\"medical_specialty\", data=df)\n",
    "plt.subplot(528)\n",
    "sns.countplot(x=\"weight\", data=df)\n",
    "plt.subplot(529)\n",
    "sns.countplot(x=\"payer_code\", data=df)\n",
    "\n",
    "plt.suptitle('Categorical Plotting')\n",
    "plt.show()"
   ]
  },
  {
   "cell_type": "markdown",
   "id": "71e98912",
   "metadata": {},
   "source": [
    "### Examine categorical data a little more closely"
   ]
  },
  {
   "cell_type": "code",
   "execution_count": null,
   "id": "72db2dfa",
   "metadata": {},
   "outputs": [],
   "source": [
    "for column in df.columns:         # df.columns is a data frame attribute\n",
    "    print(f\"{column}: Number of unique values {df[column].nunique()}\")\n",
    "    print(\"==========================================================\")\n",
    "    \n",
    "    \n",
    "# f means Formatted string literals "
   ]
  },
  {
   "cell_type": "code",
   "execution_count": 14,
   "id": "3d6be235",
   "metadata": {},
   "outputs": [
    {
     "name": "stdout",
     "output_type": "stream",
     "text": [
      "race : ['Caucasian' 'AfricanAmerican' '?' 'Other' 'Asian' 'Hispanic']\n",
      "Caucasian          76099\n",
      "AfricanAmerican    19209\n",
      "?                   2273\n",
      "Hispanic            2037\n",
      "Other               1506\n",
      "Asian                641\n",
      "Name: race, dtype: int64\n",
      "====================================\n",
      "gender : ['Female' 'female' 'Male' 'male' 'Unknown/Invalid']\n",
      "Female             54706\n",
      "Male               47054\n",
      "Unknown/Invalid        3\n",
      "female                 1\n",
      "male                   1\n",
      "Name: gender, dtype: int64\n",
      "====================================\n",
      "age : [nan '[20-30)' '[30-40)' '[40-50)' '[50-60)' '[60-70)' '[70-80)' '[80-90)'\n",
      " '[90-100)' '[10-20)' '[0-10)']\n",
      "[70-80)     26069\n",
      "[60-70)     22482\n",
      "[50-60)     17256\n",
      "[80-90)     17197\n",
      "[40-50)      9685\n",
      "[30-40)      3775\n",
      "[90-100)     2793\n",
      "[20-30)      1657\n",
      "[10-20)       690\n",
      "[0-10)        160\n",
      "Name: age, dtype: int64\n",
      "====================================\n",
      "weight : ['?' '[75-100)' '[50-75)' '[0-25)' '[100-125)' '[25-50)' '[125-150)'\n",
      " '[175-200)' '[150-175)' '>200']\n",
      "?            98568\n",
      "[75-100)      1336\n",
      "[50-75)        897\n",
      "[100-125)      625\n",
      "[125-150)      145\n",
      "[25-50)         97\n",
      "[0-25)          48\n",
      "[150-175)       35\n",
      "[175-200)       11\n",
      ">200             3\n",
      "Name: weight, dtype: int64\n",
      "====================================\n",
      "admission_type_id : ['1' '2' '3' '6' '4' '5' '8' '7']\n",
      "1    53991\n",
      "3    18869\n",
      "2    18479\n",
      "6     5290\n",
      "5     4785\n",
      "8      320\n",
      "7       21\n",
      "4       10\n",
      "Name: admission_type_id, dtype: int64\n",
      "====================================\n",
      "discharge_disposition_id : ['1' '3' '6' '2' '5' '11' '7' '25' '10' '4' '14' '18' '8' '13' '12' '16'\n",
      " '17' '22' '23' '9' '20' '15' '24' '28' '19' '27']\n",
      "1     60234\n",
      "3     13954\n",
      "6     12902\n",
      "18     3691\n",
      "2      2128\n",
      "22     1993\n",
      "11     1642\n",
      "5      1184\n",
      "25      988\n",
      "4       815\n",
      "7       623\n",
      "23      412\n",
      "13      399\n",
      "14      372\n",
      "28      139\n",
      "8       108\n",
      "15       63\n",
      "24       48\n",
      "9        21\n",
      "17       14\n",
      "16       11\n",
      "19        8\n",
      "10        6\n",
      "27        5\n",
      "12        3\n",
      "20        2\n",
      "Name: discharge_disposition_id, dtype: int64\n",
      "====================================\n",
      "admission_source_id : ['7' '2' '4' '1' '5' '6' '20' '3' '17' '8' '9' '14' '10' '22' '11' '25'\n",
      " '13']\n",
      "7     57495\n",
      "1     29564\n",
      "17     6781\n",
      "4      3186\n",
      "6      2264\n",
      "2      1104\n",
      "5       855\n",
      "3       187\n",
      "20      161\n",
      "9       125\n",
      "8        16\n",
      "22       12\n",
      "10        8\n",
      "14        2\n",
      "11        2\n",
      "25        2\n",
      "13        1\n",
      "Name: admission_source_id, dtype: int64\n",
      "====================================\n",
      "payer_code : ['?' 'MC' 'MD' 'HM' 'UN' 'BC' 'SP' 'CP' 'SI' 'DM' 'CM' 'CH' 'PO' 'WC' 'OT'\n",
      " 'OG' 'MP' 'FR']\n",
      "?     40255\n",
      "MC    32439\n",
      "HM     6274\n",
      "SP     5007\n",
      "BC     4655\n",
      "MD     3532\n",
      "CP     2533\n",
      "UN     2448\n",
      "CM     1937\n",
      "OG     1033\n",
      "PO      592\n",
      "DM      549\n",
      "CH      146\n",
      "WC      135\n",
      "OT       95\n",
      "MP       79\n",
      "SI       55\n",
      "FR        1\n",
      "Name: payer_code, dtype: int64\n",
      "====================================\n",
      "max_glu_serum : ['None' '>300' 'Norm' '>200']\n",
      "None    96419\n",
      "Norm     2597\n",
      ">200     1485\n",
      ">300     1264\n",
      "Name: max_glu_serum, dtype: int64\n",
      "====================================\n",
      "A1Cresult : ['None' '>7' '>8' 'Norm']\n",
      "None    84747\n",
      ">8       8216\n",
      "Norm     4990\n",
      ">7       3812\n",
      "Name: A1Cresult, dtype: int64\n",
      "====================================\n",
      "metformin : ['No' 'Steady' 'Up' 'Down']\n",
      "No        81777\n",
      "Steady    18346\n",
      "Up         1067\n",
      "Down        575\n",
      "Name: metformin, dtype: int64\n",
      "====================================\n",
      "glimepiride : ['No' 'Steady' 'Down' 'Up']\n",
      "No        96574\n",
      "Steady     4670\n",
      "Up          327\n",
      "Down        194\n",
      "Name: glimepiride, dtype: int64\n",
      "====================================\n",
      "glipizide : ['No' 'Steady' 'Up' 'Down']\n",
      "No        89079\n",
      "Steady    11356\n",
      "Up          770\n",
      "Down        560\n",
      "Name: glipizide, dtype: int64\n",
      "====================================\n",
      "glyburide : ['No' 'Steady' 'Down' 'Up']\n",
      "No        91116\n",
      "Steady     9274\n",
      "Up          811\n",
      "Down        564\n",
      "Name: glyburide, dtype: int64\n",
      "====================================\n",
      "tolbutamide : ['No' 'Steady']\n",
      "No        101742\n",
      "Steady        23\n",
      "Name: tolbutamide, dtype: int64\n",
      "====================================\n",
      "miglitol : ['No' 'Steady' 'Down' 'Up']\n",
      "No        101727\n",
      "Steady        31\n",
      "Down           5\n",
      "Up             2\n",
      "Name: miglitol, dtype: int64\n",
      "====================================\n",
      "insulin : ['Up' 'No' 'Steady' 'Down']\n",
      "No        47383\n",
      "Steady    30848\n",
      "Down      12218\n",
      "Up        11316\n",
      "Name: insulin, dtype: int64\n",
      "====================================\n",
      "glyburide-metformin : ['No' 'Steady' 'Down' 'Up']\n",
      "No        101059\n",
      "Steady       692\n",
      "Up             8\n",
      "Down           6\n",
      "Name: glyburide-metformin, dtype: int64\n",
      "====================================\n",
      "glipizide-metformin : ['No' 'Steady']\n",
      "No        101752\n",
      "Steady        13\n",
      "Name: glipizide-metformin, dtype: int64\n",
      "====================================\n",
      "glimepiride-pioglitazone : ['No' 'Steady']\n",
      "No        101764\n",
      "Steady         1\n",
      "Name: glimepiride-pioglitazone, dtype: int64\n",
      "====================================\n",
      "diabetesMed : ['Yes' 'No']\n",
      "Yes    78362\n",
      "No     23403\n",
      "Name: diabetesMed, dtype: int64\n",
      "====================================\n",
      "readmitted : ['>30' 'NO' '<30']\n",
      "NO     54864\n",
      ">30    35545\n",
      "<30    11356\n",
      "Name: readmitted, dtype: int64\n",
      "====================================\n"
     ]
    }
   ],
   "source": [
    "object_col = []\n",
    "for column in df.columns:\n",
    "    if df[column].dtype == object and len(df[column].unique()) <= 30:\n",
    "        object_col.append(column)\n",
    "        print(f\"{column} : {df[column].unique()}\")\n",
    "        print(df[column].value_counts())\n",
    "        print(\"====================================\")"
   ]
  },
  {
   "cell_type": "code",
   "execution_count": 11,
   "id": "3a12706c",
   "metadata": {},
   "outputs": [
    {
     "data": {
      "text/plain": [
       "18"
      ]
     },
     "execution_count": 11,
     "metadata": {},
     "output_type": "execute_result"
    }
   ],
   "source": [
    "df['payer_code'].nunique()"
   ]
  },
  {
   "cell_type": "code",
   "execution_count": 12,
   "id": "51c72eed",
   "metadata": {},
   "outputs": [
    {
     "data": {
      "text/plain": [
       "?     40255\n",
       "MC    32439\n",
       "HM     6274\n",
       "SP     5007\n",
       "BC     4655\n",
       "MD     3532\n",
       "CP     2533\n",
       "UN     2448\n",
       "CM     1937\n",
       "OG     1033\n",
       "PO      592\n",
       "DM      549\n",
       "CH      146\n",
       "WC      135\n",
       "OT       95\n",
       "MP       79\n",
       "SI       55\n",
       "FR        1\n",
       "Name: payer_code, dtype: int64"
      ]
     },
     "execution_count": 12,
     "metadata": {},
     "output_type": "execute_result"
    }
   ],
   "source": [
    "df['payer_code'].value_counts()"
   ]
  },
  {
   "cell_type": "code",
   "execution_count": 13,
   "id": "96794622",
   "metadata": {},
   "outputs": [
    {
     "data": {
      "text/html": [
       "<div>\n",
       "<style scoped>\n",
       "    .dataframe tbody tr th:only-of-type {\n",
       "        vertical-align: middle;\n",
       "    }\n",
       "\n",
       "    .dataframe tbody tr th {\n",
       "        vertical-align: top;\n",
       "    }\n",
       "\n",
       "    .dataframe thead th {\n",
       "        text-align: right;\n",
       "    }\n",
       "</style>\n",
       "<table border=\"1\" class=\"dataframe\">\n",
       "  <thead>\n",
       "    <tr style=\"text-align: right;\">\n",
       "      <th></th>\n",
       "      <th>encounter_id</th>\n",
       "      <th>patient_nbr</th>\n",
       "      <th>race</th>\n",
       "      <th>gender</th>\n",
       "      <th>age</th>\n",
       "      <th>weight</th>\n",
       "      <th>admission_type_id</th>\n",
       "      <th>discharge_disposition_id</th>\n",
       "      <th>admission_source_id</th>\n",
       "      <th>time_in_hospital</th>\n",
       "      <th>...</th>\n",
       "      <th>glipizide</th>\n",
       "      <th>glyburide</th>\n",
       "      <th>tolbutamide</th>\n",
       "      <th>miglitol</th>\n",
       "      <th>insulin</th>\n",
       "      <th>glyburide-metformin</th>\n",
       "      <th>glipizide-metformin</th>\n",
       "      <th>glimepiride-pioglitazone</th>\n",
       "      <th>diabetesMed</th>\n",
       "      <th>readmitted</th>\n",
       "    </tr>\n",
       "  </thead>\n",
       "  <tbody>\n",
       "    <tr>\n",
       "      <th>1</th>\n",
       "      <td>149190</td>\n",
       "      <td>55629189</td>\n",
       "      <td>Caucasian</td>\n",
       "      <td>Female</td>\n",
       "      <td>NaN</td>\n",
       "      <td>?</td>\n",
       "      <td>1</td>\n",
       "      <td>1</td>\n",
       "      <td>7</td>\n",
       "      <td>3</td>\n",
       "      <td>...</td>\n",
       "      <td>No</td>\n",
       "      <td>No</td>\n",
       "      <td>No</td>\n",
       "      <td>No</td>\n",
       "      <td>Up</td>\n",
       "      <td>No</td>\n",
       "      <td>No</td>\n",
       "      <td>No</td>\n",
       "      <td>Yes</td>\n",
       "      <td>&gt;30</td>\n",
       "    </tr>\n",
       "    <tr>\n",
       "      <th>2</th>\n",
       "      <td>64410</td>\n",
       "      <td>86047875</td>\n",
       "      <td>AfricanAmerican</td>\n",
       "      <td>female</td>\n",
       "      <td>[20-30)</td>\n",
       "      <td>?</td>\n",
       "      <td>1</td>\n",
       "      <td>1</td>\n",
       "      <td>7</td>\n",
       "      <td>2</td>\n",
       "      <td>...</td>\n",
       "      <td>Steady</td>\n",
       "      <td>No</td>\n",
       "      <td>No</td>\n",
       "      <td>No</td>\n",
       "      <td>No</td>\n",
       "      <td>No</td>\n",
       "      <td>No</td>\n",
       "      <td>No</td>\n",
       "      <td>Yes</td>\n",
       "      <td>NO</td>\n",
       "    </tr>\n",
       "    <tr>\n",
       "      <th>3</th>\n",
       "      <td>500364</td>\n",
       "      <td>82442376</td>\n",
       "      <td>Caucasian</td>\n",
       "      <td>Male</td>\n",
       "      <td>[30-40)</td>\n",
       "      <td>?</td>\n",
       "      <td>1</td>\n",
       "      <td>1</td>\n",
       "      <td>7</td>\n",
       "      <td>2</td>\n",
       "      <td>...</td>\n",
       "      <td>No</td>\n",
       "      <td>No</td>\n",
       "      <td>No</td>\n",
       "      <td>No</td>\n",
       "      <td>Up</td>\n",
       "      <td>No</td>\n",
       "      <td>No</td>\n",
       "      <td>No</td>\n",
       "      <td>Yes</td>\n",
       "      <td>NO</td>\n",
       "    </tr>\n",
       "    <tr>\n",
       "      <th>4</th>\n",
       "      <td>16680</td>\n",
       "      <td>42519267</td>\n",
       "      <td>Caucasian</td>\n",
       "      <td>Male</td>\n",
       "      <td>[40-50)</td>\n",
       "      <td>?</td>\n",
       "      <td>1</td>\n",
       "      <td>1</td>\n",
       "      <td>7</td>\n",
       "      <td>1</td>\n",
       "      <td>...</td>\n",
       "      <td>Steady</td>\n",
       "      <td>No</td>\n",
       "      <td>No</td>\n",
       "      <td>No</td>\n",
       "      <td>Steady</td>\n",
       "      <td>No</td>\n",
       "      <td>No</td>\n",
       "      <td>No</td>\n",
       "      <td>Yes</td>\n",
       "      <td>NO</td>\n",
       "    </tr>\n",
       "    <tr>\n",
       "      <th>5</th>\n",
       "      <td>35754</td>\n",
       "      <td>82637451</td>\n",
       "      <td>Caucasian</td>\n",
       "      <td>Male</td>\n",
       "      <td>[50-60)</td>\n",
       "      <td>?</td>\n",
       "      <td>2</td>\n",
       "      <td>1</td>\n",
       "      <td>2</td>\n",
       "      <td>3</td>\n",
       "      <td>...</td>\n",
       "      <td>No</td>\n",
       "      <td>No</td>\n",
       "      <td>No</td>\n",
       "      <td>No</td>\n",
       "      <td>Steady</td>\n",
       "      <td>No</td>\n",
       "      <td>No</td>\n",
       "      <td>No</td>\n",
       "      <td>Yes</td>\n",
       "      <td>&gt;30</td>\n",
       "    </tr>\n",
       "    <tr>\n",
       "      <th>...</th>\n",
       "      <td>...</td>\n",
       "      <td>...</td>\n",
       "      <td>...</td>\n",
       "      <td>...</td>\n",
       "      <td>...</td>\n",
       "      <td>...</td>\n",
       "      <td>...</td>\n",
       "      <td>...</td>\n",
       "      <td>...</td>\n",
       "      <td>...</td>\n",
       "      <td>...</td>\n",
       "      <td>...</td>\n",
       "      <td>...</td>\n",
       "      <td>...</td>\n",
       "      <td>...</td>\n",
       "      <td>...</td>\n",
       "      <td>...</td>\n",
       "      <td>...</td>\n",
       "      <td>...</td>\n",
       "      <td>...</td>\n",
       "      <td>...</td>\n",
       "    </tr>\n",
       "    <tr>\n",
       "      <th>101756</th>\n",
       "      <td>443842070</td>\n",
       "      <td>140199494</td>\n",
       "      <td>Other</td>\n",
       "      <td>Female</td>\n",
       "      <td>[60-70)</td>\n",
       "      <td>?</td>\n",
       "      <td>1</td>\n",
       "      <td>1</td>\n",
       "      <td>7</td>\n",
       "      <td>2</td>\n",
       "      <td>...</td>\n",
       "      <td>No</td>\n",
       "      <td>No</td>\n",
       "      <td>No</td>\n",
       "      <td>No</td>\n",
       "      <td>Steady</td>\n",
       "      <td>No</td>\n",
       "      <td>No</td>\n",
       "      <td>No</td>\n",
       "      <td>Yes</td>\n",
       "      <td>&gt;30</td>\n",
       "    </tr>\n",
       "    <tr>\n",
       "      <th>101757</th>\n",
       "      <td>443842136</td>\n",
       "      <td>181593374</td>\n",
       "      <td>Caucasian</td>\n",
       "      <td>Female</td>\n",
       "      <td>[70-80)</td>\n",
       "      <td>?</td>\n",
       "      <td>1</td>\n",
       "      <td>1</td>\n",
       "      <td>7</td>\n",
       "      <td>5</td>\n",
       "      <td>...</td>\n",
       "      <td>No</td>\n",
       "      <td>No</td>\n",
       "      <td>No</td>\n",
       "      <td>No</td>\n",
       "      <td>Steady</td>\n",
       "      <td>No</td>\n",
       "      <td>No</td>\n",
       "      <td>No</td>\n",
       "      <td>Yes</td>\n",
       "      <td>NO</td>\n",
       "    </tr>\n",
       "    <tr>\n",
       "      <th>101760</th>\n",
       "      <td>443847176</td>\n",
       "      <td>50375628</td>\n",
       "      <td>AfricanAmerican</td>\n",
       "      <td>Female</td>\n",
       "      <td>[60-70)</td>\n",
       "      <td>?</td>\n",
       "      <td>1</td>\n",
       "      <td>1</td>\n",
       "      <td>7</td>\n",
       "      <td>6</td>\n",
       "      <td>...</td>\n",
       "      <td>No</td>\n",
       "      <td>No</td>\n",
       "      <td>No</td>\n",
       "      <td>No</td>\n",
       "      <td>Down</td>\n",
       "      <td>No</td>\n",
       "      <td>No</td>\n",
       "      <td>No</td>\n",
       "      <td>Yes</td>\n",
       "      <td>&gt;30</td>\n",
       "    </tr>\n",
       "    <tr>\n",
       "      <th>101765</th>\n",
       "      <td>443867222</td>\n",
       "      <td>175429310</td>\n",
       "      <td>Caucasian</td>\n",
       "      <td>Male</td>\n",
       "      <td>[70-80)</td>\n",
       "      <td>?</td>\n",
       "      <td>1</td>\n",
       "      <td>1</td>\n",
       "      <td>7</td>\n",
       "      <td>6</td>\n",
       "      <td>...</td>\n",
       "      <td>No</td>\n",
       "      <td>No</td>\n",
       "      <td>No</td>\n",
       "      <td>No</td>\n",
       "      <td>No</td>\n",
       "      <td>No</td>\n",
       "      <td>No</td>\n",
       "      <td>No</td>\n",
       "      <td>No</td>\n",
       "      <td>NO</td>\n",
       "    </tr>\n",
       "    <tr>\n",
       "      <th>101766</th>\n",
       "      <td>443867222</td>\n",
       "      <td>175429310</td>\n",
       "      <td>Caucasian</td>\n",
       "      <td>Male</td>\n",
       "      <td>[70-80)</td>\n",
       "      <td>?</td>\n",
       "      <td>1</td>\n",
       "      <td>1</td>\n",
       "      <td>7</td>\n",
       "      <td>6</td>\n",
       "      <td>...</td>\n",
       "      <td>No</td>\n",
       "      <td>No</td>\n",
       "      <td>No</td>\n",
       "      <td>No</td>\n",
       "      <td>No</td>\n",
       "      <td>No</td>\n",
       "      <td>No</td>\n",
       "      <td>No</td>\n",
       "      <td>No</td>\n",
       "      <td>NO</td>\n",
       "    </tr>\n",
       "  </tbody>\n",
       "</table>\n",
       "<p>69326 rows × 33 columns</p>\n",
       "</div>"
      ],
      "text/plain": [
       "       encounter_id patient_nbr             race  gender      age weight  \\\n",
       "1            149190    55629189        Caucasian  Female      NaN      ?   \n",
       "2             64410    86047875  AfricanAmerican  female  [20-30)      ?   \n",
       "3            500364    82442376        Caucasian    Male  [30-40)      ?   \n",
       "4             16680    42519267        Caucasian    Male  [40-50)      ?   \n",
       "5             35754    82637451        Caucasian    Male  [50-60)      ?   \n",
       "...             ...         ...              ...     ...      ...    ...   \n",
       "101756    443842070   140199494            Other  Female  [60-70)      ?   \n",
       "101757    443842136   181593374        Caucasian  Female  [70-80)      ?   \n",
       "101760    443847176    50375628  AfricanAmerican  Female  [60-70)      ?   \n",
       "101765    443867222   175429310        Caucasian    Male  [70-80)      ?   \n",
       "101766    443867222   175429310        Caucasian    Male  [70-80)      ?   \n",
       "\n",
       "       admission_type_id discharge_disposition_id admission_source_id  \\\n",
       "1                      1                        1                   7   \n",
       "2                      1                        1                   7   \n",
       "3                      1                        1                   7   \n",
       "4                      1                        1                   7   \n",
       "5                      2                        1                   2   \n",
       "...                  ...                      ...                 ...   \n",
       "101756                 1                        1                   7   \n",
       "101757                 1                        1                   7   \n",
       "101760                 1                        1                   7   \n",
       "101765                 1                        1                   7   \n",
       "101766                 1                        1                   7   \n",
       "\n",
       "        time_in_hospital  ... glipizide glyburide  tolbutamide  miglitol  \\\n",
       "1                      3  ...        No        No           No        No   \n",
       "2                      2  ...    Steady        No           No        No   \n",
       "3                      2  ...        No        No           No        No   \n",
       "4                      1  ...    Steady        No           No        No   \n",
       "5                      3  ...        No        No           No        No   \n",
       "...                  ...  ...       ...       ...          ...       ...   \n",
       "101756                 2  ...        No        No           No        No   \n",
       "101757                 5  ...        No        No           No        No   \n",
       "101760                 6  ...        No        No           No        No   \n",
       "101765                 6  ...        No        No           No        No   \n",
       "101766                 6  ...        No        No           No        No   \n",
       "\n",
       "        insulin  glyburide-metformin  glipizide-metformin  \\\n",
       "1            Up                   No                   No   \n",
       "2            No                   No                   No   \n",
       "3            Up                   No                   No   \n",
       "4        Steady                   No                   No   \n",
       "5        Steady                   No                   No   \n",
       "...         ...                  ...                  ...   \n",
       "101756   Steady                   No                   No   \n",
       "101757   Steady                   No                   No   \n",
       "101760     Down                   No                   No   \n",
       "101765       No                   No                   No   \n",
       "101766       No                   No                   No   \n",
       "\n",
       "        glimepiride-pioglitazone diabetesMed readmitted  \n",
       "1                             No         Yes        >30  \n",
       "2                             No         Yes         NO  \n",
       "3                             No         Yes         NO  \n",
       "4                             No         Yes         NO  \n",
       "5                             No         Yes        >30  \n",
       "...                          ...         ...        ...  \n",
       "101756                        No         Yes        >30  \n",
       "101757                        No         Yes         NO  \n",
       "101760                        No         Yes        >30  \n",
       "101765                        No          No         NO  \n",
       "101766                        No          No         NO  \n",
       "\n",
       "[69326 rows x 33 columns]"
      ]
     },
     "execution_count": 13,
     "metadata": {},
     "output_type": "execute_result"
    }
   ],
   "source": [
    "df.loc[df['payer_code']!= 'MC']"
   ]
  },
  {
   "cell_type": "code",
   "execution_count": null,
   "id": "f1ad544c",
   "metadata": {},
   "outputs": [],
   "source": [
    "df['medical_specialty'].nunique()"
   ]
  },
  {
   "cell_type": "code",
   "execution_count": null,
   "id": "0dba9e84",
   "metadata": {},
   "outputs": [],
   "source": [
    "df['medical_specialty'].value_counts()"
   ]
  },
  {
   "cell_type": "code",
   "execution_count": null,
   "id": "7bab24c5",
   "metadata": {},
   "outputs": [],
   "source": [
    "df['weight'].nunique()"
   ]
  },
  {
   "cell_type": "code",
   "execution_count": null,
   "id": "5ca76e83",
   "metadata": {},
   "outputs": [],
   "source": [
    "df['weight'].value_counts()"
   ]
  },
  {
   "cell_type": "markdown",
   "id": "862d8126",
   "metadata": {},
   "source": [
    "### Dropping columns and rows"
   ]
  },
  {
   "cell_type": "code",
   "execution_count": null,
   "id": "6b6f2229",
   "metadata": {},
   "outputs": [],
   "source": [
    "df.shape"
   ]
  },
  {
   "cell_type": "code",
   "execution_count": null,
   "id": "7b0e0eba",
   "metadata": {},
   "outputs": [],
   "source": [
    "# Remove a single column\n",
    "df = df.drop('payer_code',axis=1)  # Axis=1 means drop the column\n",
    "df = df.drop('weight',axis=1)  \n",
    "\n",
    "# inplace=True not used so columns still exist. Just not in this instance.  \n",
    "# Fix that."
   ]
  },
  {
   "cell_type": "code",
   "execution_count": null,
   "id": "b6020c93",
   "metadata": {},
   "outputs": [],
   "source": [
    "# Remove multiple columns\n",
    "\n",
    "# glyburide-metformin       \n",
    "# glipizide-metformin       \n",
    "# glimepiride-pioglitazone\n",
    "\n",
    "drop_columns = {'medical_specialty','glyburide-metformin','glipizide-metformin',\n",
    "                'glimepiride-pioglitazone'}\n",
    "df = df.drop(columns = drop_columns) # inplace=True not used so columns still exist. \n",
    "                                     # Just not in this instance.\n",
    "#df.head()"
   ]
  },
  {
   "cell_type": "code",
   "execution_count": 9,
   "id": "8724ad1d",
   "metadata": {},
   "outputs": [],
   "source": [
    "# Delete by selecting rows not equal to the condition\n",
    "df = df.loc[df['age']!= 'xyz']\n",
    "df = df.loc[df.gender != '?']\n",
    "#df = df.loc[df['gender']!='?']\n",
    "#df.shape"
   ]
  },
  {
   "cell_type": "code",
   "execution_count": null,
   "id": "880b618c",
   "metadata": {},
   "outputs": [],
   "source": [
    "no_age = df[df['age'].isnull()].index\n",
    "#no_age\n",
    "df = df.drop(no_age, axis = 0)   # axis = 0 means drop the row\n",
    "df.shape\n",
    "               \n",
    "              "
   ]
  },
  {
   "cell_type": "markdown",
   "id": "b23095a1",
   "metadata": {},
   "source": [
    "#### Quantitative data"
   ]
  },
  {
   "cell_type": "code",
   "execution_count": null,
   "id": "d3f5cd2c",
   "metadata": {},
   "outputs": [],
   "source": [
    "# Histograms\n",
    "\n",
    "plt.figure(figsize = (20,20))\n",
    "plt.subplot(521)\n",
    "sns.histplot(data=df, x='time_in_hospital', binwidth = 1)\n",
    "plt.subplot(522)\n",
    "sns.histplot(data=df, x='lab_procedures', bins=25)\n",
    "plt.subplot(523)\n",
    "sns.histplot(data=df, x='procedures', binwidth = 1)\n",
    "plt.subplot(524)\n",
    "sns.histplot(data=df, x='num_medications', binwidth = 2)\n",
    "plt.subplot(525)\n",
    "sns.histplot(data=df, x='number_outpatient', binwidth = 2)\n",
    "plt.subplot(526)\n",
    "sns.histplot(data=df, x='number_inpatient', binwidth = 2)\n",
    "plt.subplot(527)\n",
    "sns.histplot(data=df, x='number_emergency', binwidth = 2)\n",
    "\n",
    "\n",
    "plt.suptitle('Histograms')\n",
    "plt.show()"
   ]
  },
  {
   "cell_type": "code",
   "execution_count": null,
   "id": "ef7ca099",
   "metadata": {},
   "outputs": [],
   "source": [
    "# Pairplot to see the big picture\n",
    "sns.pairplot(df)"
   ]
  },
  {
   "cell_type": "code",
   "execution_count": null,
   "id": "bc08cab5",
   "metadata": {},
   "outputs": [],
   "source": [
    "sns.pairplot(df, hue = 'gender', corner = True)"
   ]
  },
  {
   "cell_type": "code",
   "execution_count": null,
   "id": "988c4648",
   "metadata": {},
   "outputs": [],
   "source": [
    "sns.pairplot(df,\n",
    "             x_vars=['lab_procedures', 'procedures', 'num_medications'],\n",
    "             y_vars=['time_in_hospital','number_outpatient','number_emergency','number_inpatient' ])\n"
   ]
  },
  {
   "cell_type": "code",
   "execution_count": null,
   "id": "456b257b",
   "metadata": {},
   "outputs": [],
   "source": [
    "# Correlations\n",
    "df2 = df.corr()\n",
    "df2"
   ]
  },
  {
   "cell_type": "code",
   "execution_count": null,
   "id": "699f49eb",
   "metadata": {},
   "outputs": [],
   "source": [
    "plt.figure(figsize=(10,10))\n",
    "corr = df2.corr()\n",
    "ax = sns.heatmap(\n",
    "    df2,\n",
    "    vmin=-1, vmax=1, center=0,\n",
    "    cmap=sns.diverging_palette(20, 220, n=200),\n",
    "    square=True,\n",
    "    annot=True, annot_kws={\"size\":10}\n",
    ")\n",
    "ax.set_xticklabels(\n",
    "    ax.get_xticklabels(),\n",
    "    rotation=45,\n",
    "    horizontalalignment='right')\n",
    "plt.show()"
   ]
  },
  {
   "cell_type": "code",
   "execution_count": null,
   "id": "2bfe810a",
   "metadata": {},
   "outputs": [],
   "source": [
    "# Focusing on a few variables\n",
    "\n",
    "plt.figure(figsize = (20,20))\n",
    "plt.subplot(221)\n",
    "sns.boxplot(data=df, y=\"time_in_hospital\")\n",
    "plt.subplot(222)\n",
    "sns.boxplot(data=df, y=\"lab_procedures\")\n",
    "plt.subplot(223)\n",
    "sns.boxplot(data=df, y=\"procedures\")\n",
    "plt.subplot(224)\n",
    "sns.boxplot(data=df, y=\"num_medications\")"
   ]
  },
  {
   "cell_type": "code",
   "execution_count": null,
   "id": "bc877d0a",
   "metadata": {},
   "outputs": [],
   "source": [
    "# Focusing on a few variables\n",
    "\n",
    "plt.figure(figsize = (20,20))\n",
    "plt.subplot(221)\n",
    "sns.boxplot(data=df, x='age', y=\"time_in_hospital\")\n",
    "plt.subplot(222)\n",
    "sns.boxplot(data=df, x='age', y=\"lab_procedures\")\n",
    "plt.subplot(223)\n",
    "sns.boxplot(data=df, x='age', y=\"procedures\")\n",
    "plt.subplot(224)\n",
    "sns.boxplot(data=df, x='age', y=\"num_medications\")"
   ]
  },
  {
   "cell_type": "markdown",
   "id": "7855e728",
   "metadata": {},
   "source": [
    "### Removing outliers"
   ]
  },
  {
   "cell_type": "code",
   "execution_count": 10,
   "id": "972397ee",
   "metadata": {},
   "outputs": [
    {
     "data": {
      "text/plain": [
       "(8, 33)"
      ]
     },
     "execution_count": 10,
     "metadata": {},
     "output_type": "execute_result"
    }
   ],
   "source": [
    "#outliers\n",
    "dfoutliers = df[(df['num_medications']>70)]\n",
    "dfoutliers.shape\n",
    "#filtering outliers out\n",
    "#df_movie = df_movie[(df_movie['minute']>43) & (df_movie['minute']<158)]"
   ]
  },
  {
   "cell_type": "markdown",
   "id": "ee77deff",
   "metadata": {},
   "source": [
    "# Exercise - 30 minutes\n",
    "\n",
    "### See Beer Notebook - Part 1"
   ]
  },
  {
   "cell_type": "markdown",
   "id": "ead6e8d6",
   "metadata": {},
   "source": [
    " "
   ]
  }
 ],
 "metadata": {
  "kernelspec": {
   "display_name": "Python 3 (ipykernel)",
   "language": "python",
   "name": "python3"
  },
  "language_info": {
   "codemirror_mode": {
    "name": "ipython",
    "version": 3
   },
   "file_extension": ".py",
   "mimetype": "text/x-python",
   "name": "python",
   "nbconvert_exporter": "python",
   "pygments_lexer": "ipython3",
   "version": "3.9.13"
  },
  "toc": {
   "base_numbering": 1,
   "nav_menu": {},
   "number_sections": false,
   "sideBar": false,
   "skip_h1_title": false,
   "title_cell": "Table of Contents",
   "title_sidebar": "Contents",
   "toc_cell": true,
   "toc_position": {
    "height": "47.6875px",
    "left": "1163.64px",
    "top": "111.125px",
    "width": "159.359px"
   },
   "toc_section_display": false,
   "toc_window_display": true
  },
  "varInspector": {
   "cols": {
    "lenName": 16,
    "lenType": 16,
    "lenVar": 40
   },
   "kernels_config": {
    "python": {
     "delete_cmd_postfix": "",
     "delete_cmd_prefix": "del ",
     "library": "var_list.py",
     "varRefreshCmd": "print(var_dic_list())"
    },
    "r": {
     "delete_cmd_postfix": ") ",
     "delete_cmd_prefix": "rm(",
     "library": "var_list.r",
     "varRefreshCmd": "cat(var_dic_list()) "
    }
   },
   "types_to_exclude": [
    "module",
    "function",
    "builtin_function_or_method",
    "instance",
    "_Feature"
   ],
   "window_display": false
  }
 },
 "nbformat": 4,
 "nbformat_minor": 5
}
