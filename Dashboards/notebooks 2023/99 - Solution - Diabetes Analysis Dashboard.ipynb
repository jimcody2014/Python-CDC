{
 "cells": [
  {
   "cell_type": "code",
   "execution_count": null,
   "id": "dbbccf78",
   "metadata": {},
   "outputs": [],
   "source": [
    "!pip install jupyter-dash  "
   ]
  },
  {
   "cell_type": "code",
   "execution_count": null,
   "id": "2da767a7",
   "metadata": {},
   "outputs": [],
   "source": [
    "# Uses a dropdown list to control the year of the chart\n",
    "from jupyter_dash import JupyterDash  \n",
    "from dash.dependencies import Output, Input\n",
    "from dash import no_update\n",
    "from dash import dcc\n",
    "from dash import html                       \n",
    "\n",
    "import pandas as pd \n",
    "import plotly.graph_objects as go\n",
    "import plotly.express as px\n",
    "\n",
    "###### Cleaning up the data after it is read in.  Fixing values, dropping columns, creating 2 aggregate tables.\n",
    "\n",
    "diabetes = pd.read_csv('https://bitbucket.org/jimcody/sampledata/raw/b2aa6df015816ec35afc482b53df1b7ca7a31f80/diabetes_for_plotly.csv')\n",
    "diabetes['gender'] = diabetes['gender'].replace({'M':'Male', 'Mle':'Male', 'F':'Female', \n",
    "                                                 'female':'Female', 'male':'Male', \n",
    "                                                 '?':'Female', 'Unknown/Invalid':'Female'})\n",
    "diabetes = diabetes.drop('encounter_id',axis=1)\n",
    "diabetes = diabetes.drop('patient_nbr',axis=1)\n",
    "diabetes = diabetes.drop('admission_type_id',axis=1)\n",
    "diabetes = diabetes.drop('discharge_disposition_id',axis=1)\n",
    "diabetes = diabetes.drop('diag_1',axis=1)\n",
    "diabetes = diabetes.drop('A1Cresult',axis=1)\n",
    "diabetes = diabetes.drop('insulin',axis=1)\n",
    "diabetes = diabetes.drop('diabetesMed',axis=1)\n",
    "diabetes = diabetes.drop('readmitted',axis=1)\n",
    "d_month = diabetes.groupby('month')[['time_in_hospital','num_lab_procedures','num_procedures','num_medications']].sum().reset_index()\n",
    "d_gender = diabetes.groupby('gender')[['time_in_hospital','num_lab_procedures','num_procedures','num_medications']].sum().reset_index()"
   ]
  },
  {
   "cell_type": "markdown",
   "id": "a2eb5d15",
   "metadata": {},
   "source": [
    "# Exercise 1 - plotly charts - 30 minutes"
   ]
  },
  {
   "cell_type": "markdown",
   "id": "8c3f8a16",
   "metadata": {},
   "source": [
    "- read in the diabetes_for_plotly dataset (already done above)\n",
    "- group data as needed\n",
    "- Use express or graph objects\n",
    "- Create a scatter plot of any two measures.  Use a third measure to adjust the size.  Color by a categorical value. Add hover text to show the age group.\n",
    "- Create a side-by-side bar chart showing number of lab procedures and number of non lab procedures by gender.\n",
    "- Create a line chart showing number of number of medications by month.\n",
    "- Create a line chart showing number of number of procedures by month.\n",
    "- Create a fifth chart of your choice (NOT scatter, bar or line) using the documentation."
   ]
  },
  {
   "cell_type": "markdown",
   "id": "49d7256e",
   "metadata": {},
   "source": [
    "### scatterplot is given a variable name: labs"
   ]
  },
  {
   "cell_type": "code",
   "execution_count": null,
   "id": "8325a15e",
   "metadata": {},
   "outputs": [],
   "source": [
    "# express version\n",
    "# Create a scatter plot of any two measures. Use a third measure to adjust the size. Color by a categorical value. \n",
    "# Add hover text to show the age group.\n",
    "labs = px.scatter(diabetes, x=diabetes.num_lab_procedures, \n",
    "                 y=diabetes.num_medications, \n",
    "                # size = diabetes.time_in_hospital,\n",
    "                # color = diabetes.gender,\n",
    "                # hover_data = ['age']\n",
    "                 )\n",
    "labs.show()"
   ]
  },
  {
   "cell_type": "code",
   "execution_count": null,
   "id": "8da7eaa0",
   "metadata": {},
   "outputs": [],
   "source": [
    "# go version\n",
    "fig = go.Figure()\n",
    "fig.add_trace(go.Scatter(\n",
    "    x=diabetes.num_lab_procedures,\n",
    "    y=diabetes.num_medications, \n",
    "    mode = 'markers',\n",
    "    #marker_color='indianred'\n",
    "    marker_color = diabetes.time_in_hospital\n",
    "))\n",
    "\n",
    "fig.show()"
   ]
  },
  {
   "cell_type": "code",
   "execution_count": null,
   "id": "2bfe80cb",
   "metadata": {},
   "outputs": [],
   "source": [
    "# express version\n",
    "# Create a side-by-side bar chart showing number of lab procedures and number of non lab procedures by gender.\n",
    "\n",
    "fig = px.bar(d_gender, x='gender', y=['num_lab_procedures', 'num_procedures'], barmode = 'group')\n",
    "fig.show()"
   ]
  },
  {
   "cell_type": "code",
   "execution_count": null,
   "id": "dc3d9628",
   "metadata": {},
   "outputs": [],
   "source": [
    "# go version\n",
    "fig = go.Figure(\n",
    "    data=[go.Bar(name = 'labs', x=d_gender.gender, y = d_gender.num_lab_procedures),\n",
    "         go.Bar(name = 'non labs', x=d_gender.gender, y = d_gender.num_procedures)],\n",
    "    layout=go.Layout(\n",
    "        title=go.layout.Title(text=\"A Figure Specified By A Graph Object\")\n",
    "    )\n",
    ")\n",
    "fig.show()"
   ]
  },
  {
   "cell_type": "code",
   "execution_count": null,
   "id": "5167376c",
   "metadata": {},
   "outputs": [],
   "source": [
    "# Create a line chart showing number of number of medications by monmth.\n",
    "\n",
    "fig = px.line(d_month,x='month', y='num_medications')\n",
    "fig.show()\n",
    "\n",
    "# NOTE: \n",
    "#    fig = go.Figure(go.Scatter(x=d_month.month, y=d_month.num_medications,mode='lines')) DEFAULT is a line"
   ]
  },
  {
   "cell_type": "code",
   "execution_count": null,
   "id": "8f6e2fe1",
   "metadata": {},
   "outputs": [],
   "source": [
    "# Create a line chart showing number of number of procedures by month.\n",
    "\n",
    "fig = px.line(d_month,x='month', y='num_procedures')\n",
    "fig.show()"
   ]
  },
  {
   "cell_type": "code",
   "execution_count": null,
   "id": "1ec8045f",
   "metadata": {
    "scrolled": true
   },
   "outputs": [],
   "source": [
    "# Create a line chart showing number of number of procedures by gender.\n",
    "\n",
    "fig = px.bar(d_gender,x='gender', y='num_procedures')\n",
    "fig.show()"
   ]
  },
  {
   "cell_type": "markdown",
   "id": "44b94a45",
   "metadata": {},
   "source": [
    "# Dash Exercise 2 - 20 minutes\n",
    "## Create a dashboard with one chart\n",
    "\n",
    "- Add a new cell that will contain all of the dashboard code.\n",
    "- Add dashboard code to show any chart created earlier."
   ]
  },
  {
   "cell_type": "code",
   "execution_count": null,
   "id": "6a6c1030",
   "metadata": {},
   "outputs": [],
   "source": [
    "app = JupyterDash(__name__) \n",
    "\n",
    "procs = px.bar(d_gender, x='gender', y=['num_lab_procedures', 'num_procedures'], barmode = 'group')\n",
    "\n",
    "# Add dcc.Graph code here\n",
    "app.layout = html.Div([\n",
    "\n",
    "    html.Div([dcc.Graph(id='x', figure=procs )]),\n",
    "   \n",
    "])\n",
    "\n",
    "app.run_server(mode='inline')\n",
    "#app.run_server(mode='external', port = 8202)"
   ]
  },
  {
   "cell_type": "markdown",
   "id": "be997483",
   "metadata": {},
   "source": [
    "# Dash Exercise 3 - 15 minutes\n",
    "## Add two more charts to the dashboard\n",
    "\n",
    "- Copy the code from the prior exercise and add to it.\n",
    "- Add two more of your graphs to the dashboard\n",
    "- Place each chart in its own Div\n",
    "- Give each chart a different background and text color\n",
    "- Try some of your own formatting.  Use the documentation."
   ]
  },
  {
   "cell_type": "code",
   "execution_count": null,
   "id": "59526f5b",
   "metadata": {},
   "outputs": [],
   "source": [
    "app = JupyterDash(__name__) \n",
    "\n",
    "procs = px.bar(d_gender, x='gender', y=['num_lab_procedures', 'num_procedures'], barmode = 'group')\n",
    "fig2 = px.bar(d_gender,x='gender', y='num_procedures')\n",
    "fig3 = px.line(d_month,x='month', y='num_procedures')\n",
    "\n",
    "procs.update_layout(plot_bgcolor='#111111')\n",
    "fig2.update_layout(plot_bgcolor='red')\n",
    "fig3.update_layout(plot_bgcolor='green')\n",
    "\n",
    "colors = {\n",
    "    'background': 'purple', # black\n",
    "    'text': '#7FDBFF'        # light blue\n",
    "}\n",
    "\n",
    "\n",
    "app.layout = html.Div([\n",
    "    \n",
    "    html.Div([dcc.Graph(id='x', figure=procs )], style={'width': '49%','textAlign': 'left','color': colors['text']}),\n",
    "    html.Div([dcc.Graph(id='y', figure=fig2 )]),\n",
    "    html.Div([dcc.Graph(id='z', figure=fig3 )])\n",
    " \n",
    "])\n",
    "\n",
    "app.run_server(mode='inline')\n",
    "#app.run_server(mode='external', port = 8203)\n"
   ]
  },
  {
   "cell_type": "markdown",
   "id": "253260b2",
   "metadata": {},
   "source": [
    "# Dash Exercise 4 - 15 minutes\n",
    "## Add a core component that uses a callback\n",
    "\n",
    "- Add a checkbox core component to the dashboard\n",
    "- Use the checkbox to select one or more gender values\n",
    "- Set the default to select all genders\n",
    "- Apply the selection to all of the charts"
   ]
  },
  {
   "cell_type": "markdown",
   "id": "9b93e78f",
   "metadata": {},
   "source": [
    "### Adding callback feature"
   ]
  },
  {
   "cell_type": "code",
   "execution_count": null,
   "id": "fe5a38a0",
   "metadata": {},
   "outputs": [],
   "source": [
    "from jupyter_dash import JupyterDash  \n",
    "from dash.dependencies import Output, Input\n",
    "from dash import no_update\n",
    "from dash import dcc\n",
    "from dash import html                       \n",
    "\n",
    "import pandas as pd \n",
    "import plotly.graph_objects as go\n",
    "import plotly.express as px\n",
    "\n",
    "app = JupyterDash(__name__) \n",
    "\n",
    "diabetes = pd.read_csv('https://bitbucket.org/jimcody/sampledata/raw/b2aa6df015816ec35afc482b53df1b7ca7a31f80/diabetes_for_plotly.csv')\n",
    "diabetes['gender'] = diabetes['gender'].replace({'M':'Male', 'Mle':'Male', 'F':'Female', \n",
    "                                                 'female':'Female', 'male':'Male', \n",
    "                                                 '?':'Female', 'Unknown/Invalid':'Female'})\n",
    "d_month = diabetes.groupby('month')[['time_in_hospital','num_lab_procedures','num_procedures','num_medications']].sum().reset_index()\n",
    "d_gender = diabetes.groupby('gender')[['time_in_hospital','num_lab_procedures','num_procedures','num_medications']].sum().reset_index()\n",
    "\n",
    "app.layout = html.Div([\n",
    "    \n",
    "    dcc.Checklist(\n",
    "        id = 'checklist',\n",
    "        options = ['Female', 'Male'],\n",
    "        value = ['Female']),             \n",
    "\n",
    "    html.Div([dcc.Graph(id='graph')])\n",
    "])\n",
    "\n",
    "@app.callback(\n",
    "    Output('graph', 'figure'),\n",
    "    Input('checklist', 'value'))\n",
    "\n",
    "def update_charts(abc):\n",
    "\n",
    "    df = d_gender[d_gender['gender'].isin(abc)]\n",
    "    procs = px.bar(df, x='gender', y=['num_lab_procedures', 'num_procedures'], barmode = 'group')\n",
    "    return procs\n",
    "\n",
    "    \n",
    "app.run_server(mode='inline')\n",
    "#app.run_server(mode='external', port = 8204)\n"
   ]
  },
  {
   "cell_type": "markdown",
   "id": "843dd81b",
   "metadata": {},
   "source": [
    "# Exercise 5 - Change the scatterplot variables - 30 minutes\n",
    "\n",
    "- modify your Diabetes Dashboard.\n",
    "- Use the code above (as an example) to have dropdown list that change the data in the scatter plot."
   ]
  },
  {
   "cell_type": "code",
   "execution_count": null,
   "id": "e9c8b604",
   "metadata": {},
   "outputs": [],
   "source": [
    "# Changing the variables to include in the plot\n",
    "\n",
    "app = JupyterDash(__name__) \n",
    "\n",
    "diabetes = pd.read_csv('https://bitbucket.org/jimcody/sampledata/raw/b2aa6df015816ec35afc482b53df1b7ca7a31f80/diabetes_for_plotly.csv')\n",
    "diabetes['gender'] = diabetes['gender'].replace({'M':'Male', 'Mle':'Male', 'F':'Female', \n",
    "                                                 'female':'Female', 'male':'Male', \n",
    "                                                 '?':'Female', 'Unknown/Invalid':'Female'})\n",
    "\n",
    "######## NOTICE: d_month is now grouped by year and month\n",
    "\n",
    "d_month = diabetes.groupby(['year','month'])[['time_in_hospital','num_lab_procedures','num_procedures','num_medications']].sum().reset_index()\n",
    "d_gender = diabetes.groupby('gender')[['time_in_hospital','num_lab_procedures','num_procedures','num_medications']].sum().reset_index()\n",
    "\n",
    "\n",
    "available_variables = d_month.select_dtypes(exclude = ['object'])\n",
    "available_variables = available_variables.drop('month',axis=1)\n",
    "available_variables = available_variables.drop('year',axis=1)\n",
    "#available_variables\n",
    "\n",
    "app.layout = html.Div([\n",
    "    \n",
    "    html.Div([\n",
    "        html.Div([\n",
    "            dcc.Dropdown(\n",
    "                id='xaxis-column',\n",
    "                options=[{'label': i, 'value': i} for i in available_variables],\n",
    "                value='num_procedures')\n",
    "        ],style={'width': '48%', 'display': 'inline-block'}),\n",
    "        html.Div([\n",
    "            dcc.Dropdown(\n",
    "                id='yaxis-column',\n",
    "                options=[{'label': i, 'value': i} for i in available_variables],\n",
    "                value='num_lab_procedures')\n",
    "        ], style={'width': '48%', 'float': 'right', 'display': 'inline-block'}),\n",
    "    \n",
    "    \n",
    "    dcc.Graph(id='fig1'),\n",
    "    'Select a Year:  ',\n",
    "    html.P(),\n",
    "    dcc.RadioItems(id='year-s', options=[2019,2020,2021], value=2019)  ])\n",
    "    ])\n",
    "\n",
    "@app.callback(\n",
    "    Output('fig1','figure'),               \n",
    "    Input('year-s','value'),\n",
    "    Input('xaxis-column','value'),\n",
    "    Input('yaxis-column','value'))\n",
    "\n",
    "def update_figure(year, xa, ya):\n",
    "    filtered_df = d_month[d_month.year == year]\n",
    "\n",
    "    labs = px.scatter(filtered_df, \n",
    "                     x= xa,\n",
    "                     y= ya)\n",
    "\n",
    "    labs.update_layout(transition_duration=500)\n",
    "\n",
    "    return labs\n",
    "    \n",
    "\n",
    "app.run_server(mode='inline')\n",
    "#app.run_server(mode='external', port = 8205)\n",
    "\n"
   ]
  },
  {
   "cell_type": "code",
   "execution_count": null,
   "id": "cf042847",
   "metadata": {},
   "outputs": [],
   "source": []
  }
 ],
 "metadata": {
  "kernelspec": {
   "display_name": "Python 3 (ipykernel)",
   "language": "python",
   "name": "python3"
  },
  "language_info": {
   "codemirror_mode": {
    "name": "ipython",
    "version": 3
   },
   "file_extension": ".py",
   "mimetype": "text/x-python",
   "name": "python",
   "nbconvert_exporter": "python",
   "pygments_lexer": "ipython3",
   "version": "3.10.9"
  },
  "toc": {
   "base_numbering": 1,
   "nav_menu": {},
   "number_sections": true,
   "sideBar": true,
   "skip_h1_title": true,
   "title_cell": "Topics",
   "title_sidebar": "Contents",
   "toc_cell": true,
   "toc_position": {},
   "toc_section_display": true,
   "toc_window_display": false
  },
  "varInspector": {
   "cols": {
    "lenName": 16,
    "lenType": 16,
    "lenVar": 40
   },
   "kernels_config": {
    "python": {
     "delete_cmd_postfix": "",
     "delete_cmd_prefix": "del ",
     "library": "var_list.py",
     "varRefreshCmd": "print(var_dic_list())"
    },
    "r": {
     "delete_cmd_postfix": ") ",
     "delete_cmd_prefix": "rm(",
     "library": "var_list.r",
     "varRefreshCmd": "cat(var_dic_list()) "
    }
   },
   "types_to_exclude": [
    "module",
    "function",
    "builtin_function_or_method",
    "instance",
    "_Feature"
   ],
   "window_display": false
  }
 },
 "nbformat": 4,
 "nbformat_minor": 5
}
