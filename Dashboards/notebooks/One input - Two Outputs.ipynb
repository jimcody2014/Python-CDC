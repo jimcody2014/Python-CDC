{
 "cells": [
  {
   "cell_type": "code",
   "execution_count": 3,
   "id": "cfb8ee5e",
   "metadata": {},
   "outputs": [
    {
     "name": "stdout",
     "output_type": "stream",
     "text": [
      "Dash app running on http://127.0.0.1:8090/\n"
     ]
    }
   ],
   "source": [
    "# Uses a dropdown list to control the year of the chart\n",
    "from jupyter_dash import JupyterDash  \n",
    "from dash.dependencies import Output, Input\n",
    "from dash import no_update\n",
    "from dash import dcc\n",
    "from dash import html                       \n",
    "\n",
    "import pandas as pd \n",
    "import plotly.express as px\n",
    "import plotly.graph_objects as go\n",
    "\n",
    "diabetes = pd.read_csv('https://bitbucket.org/jimcody/sampledata/raw/b2aa6df015816ec35afc482b53df1b7ca7a31f80/diabetes_for_plotly.csv')\n",
    "d_month = diabetes.groupby(['year','month']).sum().reset_index()\n",
    "d_month = d_month.sort_values(['year','month'])\n",
    "\n",
    "layout = go.Layout(\n",
    "    margin=go.layout.Margin(\n",
    "        l=40,  # left margin\n",
    "        r=40,  # right margin\n",
    "        b=10,  # bottom margin\n",
    "        t=35  # top margin\n",
    "    )\n",
    ")\n",
    "\n",
    "fig5 = px.line(d_month,x='month', y='num_medications', height=250)\n",
    "fig6 = px.line(d_month,x='month', y='num_lab_procedures',height = 250)\n",
    "\n",
    "####### Build the App. ##################\n",
    "app = JupyterDash(__name__) \n",
    "\n",
    "app.layout = html.Div([\n",
    "    \n",
    "    dcc.Graph(id='x', figure = fig5),   # Don't forget the comma\n",
    "    dcc.Graph(id='y', figure = fig6),   # Don't forget the comma\n",
    "    \n",
    "    dcc.Dropdown(id='dropdown', \n",
    "                 options=[\n",
    "                {'label': i, 'value': i} for i in d_month.year.unique()\n",
    "                ],  value=2019,\n",
    "                    clearable=False,placeholder='Filter by year...')\n",
    "    \n",
    "])\n",
    "\n",
    "\n",
    "@app.callback(\n",
    "   \n",
    "    Output('x', 'figure'),\n",
    "    Input('dropdown', 'value'))\n",
    "\n",
    "def update_figure(selected_year):\n",
    "    d_month2 = d_month[d_month.year == selected_year]\n",
    "    \n",
    "    fig5 = px.line(d_month2,x='month', y='num_medications')\n",
    "    fig5.update_layout(transition_duration=100, height = 300)\n",
    "    return fig5\n",
    "\n",
    "def update_2nd_figure(selected_year):\n",
    "    \n",
    "    fig6 = px.line(d_month2,x='month', y='num_lab_procedures')\n",
    "    fig6.update_layout(transition_duration=100, height = 300)\n",
    "    return fig6\n",
    "\n",
    "#app.run_server(mode='inline')\n",
    "app.run_server(mode='external', port = 8090)"
   ]
  },
  {
   "cell_type": "code",
   "execution_count": null,
   "id": "fffeff89",
   "metadata": {},
   "outputs": [],
   "source": []
  }
 ],
 "metadata": {
  "kernelspec": {
   "display_name": "Python 3 (ipykernel)",
   "language": "python",
   "name": "python3"
  },
  "language_info": {
   "codemirror_mode": {
    "name": "ipython",
    "version": 3
   },
   "file_extension": ".py",
   "mimetype": "text/x-python",
   "name": "python",
   "nbconvert_exporter": "python",
   "pygments_lexer": "ipython3",
   "version": "3.9.12"
  },
  "varInspector": {
   "cols": {
    "lenName": 16,
    "lenType": 16,
    "lenVar": 40
   },
   "kernels_config": {
    "python": {
     "delete_cmd_postfix": "",
     "delete_cmd_prefix": "del ",
     "library": "var_list.py",
     "varRefreshCmd": "print(var_dic_list())"
    },
    "r": {
     "delete_cmd_postfix": ") ",
     "delete_cmd_prefix": "rm(",
     "library": "var_list.r",
     "varRefreshCmd": "cat(var_dic_list()) "
    }
   },
   "types_to_exclude": [
    "module",
    "function",
    "builtin_function_or_method",
    "instance",
    "_Feature"
   ],
   "window_display": false
  }
 },
 "nbformat": 4,
 "nbformat_minor": 5
}
