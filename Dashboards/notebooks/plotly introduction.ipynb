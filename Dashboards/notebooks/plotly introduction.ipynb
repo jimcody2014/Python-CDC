{
 "cells": [
  {
   "cell_type": "markdown",
   "id": "9f9db43e",
   "metadata": {
    "toc": true
   },
   "source": [
    "<h1>Table of Contents<span class=\"tocSkip\"></span></h1>\n",
    "<div class=\"toc\"><ul class=\"toc-item\"><li><span><a href=\"#Why-plotly?\" data-toc-modified-id=\"Why-plotly?-1\"><span class=\"toc-item-num\">1&nbsp;&nbsp;</span>Why plotly?</a></span></li><li><span><a href=\"#Get-the-data\" data-toc-modified-id=\"Get-the-data-2\"><span class=\"toc-item-num\">2&nbsp;&nbsp;</span>Get the data</a></span></li><li><span><a href=\"#Inspect-the-data\" data-toc-modified-id=\"Inspect-the-data-3\"><span class=\"toc-item-num\">3&nbsp;&nbsp;</span>Inspect the data</a></span></li><li><span><a href=\"#Add-region-to-the-dataframe\" data-toc-modified-id=\"Add-region-to-the-dataframe-4\"><span class=\"toc-item-num\">4&nbsp;&nbsp;</span>Add region to the dataframe</a></span></li><li><span><a href=\"#Create-a-summary-table\" data-toc-modified-id=\"Create-a-summary-table-5\"><span class=\"toc-item-num\">5&nbsp;&nbsp;</span>Create a summary table</a></span></li><li><span><a href=\"#Use-plotly-express\" data-toc-modified-id=\"Use-plotly-express-6\"><span class=\"toc-item-num\">6&nbsp;&nbsp;</span>Use plotly express</a></span><ul class=\"toc-item\"><li><span><a href=\"#Bar-chart\" data-toc-modified-id=\"Bar-chart-6.1\"><span class=\"toc-item-num\">6.1&nbsp;&nbsp;</span>Bar chart</a></span></li></ul></li><li><span><a href=\"#Use-the-high-level-interface\" data-toc-modified-id=\"Use-the-high-level-interface-7\"><span class=\"toc-item-num\">7&nbsp;&nbsp;</span>Use the high level interface</a></span></li><li><span><a href=\"#Adding-More-Details\" data-toc-modified-id=\"Adding-More-Details-8\"><span class=\"toc-item-num\">8&nbsp;&nbsp;</span>Adding More Details</a></span></li><li><span><a href=\"#DO-NOT-GO-PAST-HERE!!!!!\" data-toc-modified-id=\"DO-NOT-GO-PAST-HERE!!!!!-9\"><span class=\"toc-item-num\">9&nbsp;&nbsp;</span>DO NOT GO PAST HERE!!!!!</a></span></li></ul></div>"
   ]
  },
  {
   "cell_type": "markdown",
   "id": "dfaa9bda",
   "metadata": {},
   "source": [
    "# Why plotly?\n",
    "\n",
    "1. why you should use plotly and not other data visualization platforms\n",
    "    - only platform w interactive and pure python and deploy to web as a web app\n",
    "    - use with R, julia and a few others\n",
    "    - very efficient coding\n",
    "2. navigate documentation\n",
    "3. share graphs with others\n",
    "\n",
    "\n",
    "Express to graph objects == seaborn/pyplot to matplotlib\n",
    "graph objects - build from the bottom up - define data > layout > frame\n",
    "\n",
    "start with express and the use graph objects to further refine\n",
    "\n",
    "\n",
    "https://plotly.com/python/\n",
    "\n"
   ]
  },
  {
   "cell_type": "markdown",
   "id": "0f5735ce",
   "metadata": {},
   "source": [
    "# Get the data"
   ]
  },
  {
   "cell_type": "code",
   "execution_count": null,
   "id": "11d79c11",
   "metadata": {},
   "outputs": [],
   "source": [
    "import pandas as pd\n",
    "import numpy as np\n",
    "from numpy.random import randn\n",
    "import plotly.express as px\n",
    "import requests\n",
    "from sodapy import Socrata\n",
    "import seaborn as sns\n",
    "\n",
    "\n",
    "\n",
    "#from gapminder import gapminder\n",
    "#gm = gapminder\n",
    "#gm.head()"
   ]
  },
  {
   "cell_type": "code",
   "execution_count": null,
   "id": "461bde8b",
   "metadata": {},
   "outputs": [],
   "source": [
    "#client = Socrata(\"data.cdc.gov\", None)\n",
    "\n",
    "client = Socrata('data.cdc.gov',\n",
    "                  'cGQ7A3af5QfCgIY9vYgX0uFaZ',\n",
    "                  username=\"james_cody@mail.harvard.edu\",\n",
    "                  password=\"RideaBike2021!\")\n",
    "\n",
    "#results = client.get(\"8xkx-amqh\", limit = 100000)\n",
    "results = client.get(\"unsk-b7fc\", limit = 150000)\n",
    "vaccines = pd.DataFrame(results)\n",
    "\n",
    "\n",
    "\n",
    "# https://data.cdc.gov/Vaccinations/COVID-19-Vaccinations-in-the-United-States-County/8xkx-amqh\n",
    "# https://data.cdc.gov/Vaccinations/COVID-19-Vaccinations-in-the-United-States-Jurisdi/unsk-b7fc"
   ]
  },
  {
   "cell_type": "code",
   "execution_count": null,
   "id": "4d92b002",
   "metadata": {},
   "outputs": [],
   "source": [
    "v2 = vaccines\n",
    "v2.shape"
   ]
  },
  {
   "cell_type": "code",
   "execution_count": null,
   "id": "7ec15e82",
   "metadata": {},
   "outputs": [],
   "source": [
    "vaccines.info()"
   ]
  },
  {
   "cell_type": "code",
   "execution_count": null,
   "id": "4fedd028",
   "metadata": {},
   "outputs": [],
   "source": [
    "# Drop columns\n",
    "drop_columns = {'distributed_janssen',\n",
    "    'distributed_moderna', \n",
    "    'distributed_pfizer', \n",
    "    'distributed_unk_manuf',\n",
    "    'administered_janssen', \n",
    "    'administered_moderna',\n",
    "    'administered_pfizer', \n",
    "    'administered_unk_manuf', \n",
    "    'admin_per_100k',\n",
    "    'series_complete_janssen', \n",
    "    'series_complete_moderna',\n",
    "    'series_complete_pfizer', \n",
    "    'series_complete_unk_manuf',\n",
    "    'series_complete_janssen_12plus', \n",
    "    'series_complete_moderna_12plus',\n",
    "    'series_complete_pfizer_12plus', \n",
    "    'series_complete_unk_manuf_1',\n",
    "    'series_complete_janssen_18plus', \n",
    "    'series_complete_moderna_18plus',\n",
    "    'series_complete_pfizer_18plus', \n",
    "    'series_complete_unk_manuf_2',\n",
    "    'series_complete_janssen_65plus', \n",
    "    'series_complete_moderna_65plus',\n",
    "    'series_complete_pfizer_65plus', \n",
    "    'series_complete_unk_manuf_3',\n",
    "    'additional_doses_moderna', \n",
    "    'additional_doses_pfizer',\n",
    "    'additional_doses_janssen', \n",
    "    'additional_doses_unk_manuf',\n",
    "    'additional_doses',\n",
    "    'additional_doses_18plus',\n",
    "    'additional_doses_50plus',\n",
    "    'additional_doses_50plus', \n",
    "    'administered_dose1_recip', \n",
    "    'administered_dose1_recip_1', \n",
    "    'administered_dose1_recip_2',\n",
    "    'administered_dose1_recip_3', \n",
    "    'administered_dose1_recip_4',\n",
    "    'administered_dose1_recip_5', \n",
    "    'administered_dose1_recip_6',\n",
    "    'additional_doses_vax_pct',\n",
    "    'additional_doses_18plus_vax_pct', \n",
    "    'additional_doses_50plus_vax_pct',\n",
    "    'additional_doses_65plus', \n",
    "    'additional_doses_65plus_vax_pct'}\n",
    "v2 = v2.drop(columns = drop_columns)"
   ]
  },
  {
   "cell_type": "code",
   "execution_count": null,
   "id": "eee8326d",
   "metadata": {},
   "outputs": [],
   "source": [
    "v2['date'] = v2['date'].astype('datetime64[ns]')"
   ]
  },
  {
   "cell_type": "code",
   "execution_count": null,
   "id": "f8ed6161",
   "metadata": {},
   "outputs": [],
   "source": [
    "v2['distributed'] = pd.to_numeric(v2['distributed']).astype(int)\n",
    "v2['dist_per_100k'] = pd.to_numeric(v2['dist_per_100k']).astype(int)\n",
    "v2['distributed_per_100k_12plus'] = pd.to_numeric(v2['distributed_per_100k_12plus']).astype(int)\n",
    "v2['distributed_per_100k_18plus'] = pd.to_numeric(v2['distributed_per_100k_18plus']).astype(int)\n",
    "v2['distributed_per_100k_65plus'] = pd.to_numeric(v2['distributed_per_100k_65plus']).astype(int)\n",
    "v2['administered'] = pd.to_numeric(v2['administered']).astype(int)\n",
    "v2['administered_12plus'] = pd.to_numeric(v2['administered_12plus']).astype(int)\n",
    "v2['administered_18plus'] = pd.to_numeric(v2['administered_18plus']).astype(int)\n",
    "v2['administered_65plus'] = pd.to_numeric(v2['administered_65plus']).astype(int)\n",
    "v2['admin_per_100k_12plus'] = pd.to_numeric(v2['admin_per_100k_12plus']).astype(int)\n",
    "v2['admin_per_100k_18plus'] = pd.to_numeric(v2['admin_per_100k_18plus']).astype(int)\n",
    "v2['admin_per_100k_65plus'] = pd.to_numeric(v2['admin_per_100k_65plus']).astype(int)\n",
    "v2['recip_administered'] = pd.to_numeric(v2['recip_administered']).astype(int)\n",
    "v2['series_complete_yes'] = pd.to_numeric(v2['series_complete_yes']).astype(int)\n",
    "v2['series_complete_12plus'] = pd.to_numeric(v2['series_complete_12plus']).astype(int)\n",
    "v2['series_complete_18plus'] = pd.to_numeric(v2['series_complete_18plus']).astype(int)\n",
    "v2['series_complete_65plus'] = pd.to_numeric(v2['series_complete_65plus']).astype(int)"
   ]
  },
  {
   "cell_type": "code",
   "execution_count": null,
   "id": "3edc981d",
   "metadata": {},
   "outputs": [],
   "source": [
    "v2['administered_dose1_pop_pct'] = pd.to_numeric(v2['administered_dose1_pop_pct']).astype(float)\n",
    "v2['series_complete_pop_pct'] = pd.to_numeric(v2['series_complete_pop_pct']).astype(float)\n",
    "v2['series_complete_12pluspop'] = pd.to_numeric(v2['series_complete_12pluspop']).astype(float)\n",
    "v2['series_complete_18pluspop'] = pd.to_numeric(v2['series_complete_18pluspop']).astype(float)\n",
    "v2['series_complete_65pluspop'] = pd.to_numeric(v2['series_complete_65pluspop']).astype(float)"
   ]
  },
  {
   "cell_type": "code",
   "execution_count": null,
   "id": "cd44cbd5",
   "metadata": {},
   "outputs": [],
   "source": [
    "v2.shape"
   ]
  },
  {
   "cell_type": "code",
   "execution_count": null,
   "id": "da85f69f",
   "metadata": {},
   "outputs": [],
   "source": [
    "v2.columns"
   ]
  },
  {
   "cell_type": "code",
   "execution_count": null,
   "id": "0ce536f0",
   "metadata": {},
   "outputs": [],
   "source": [
    "v2 = v2.query(\"date.dt.month > 9 and date.dt.year == 2021\")"
   ]
  },
  {
   "cell_type": "code",
   "execution_count": null,
   "id": "f743bba8",
   "metadata": {},
   "outputs": [],
   "source": [
    "v2.shape"
   ]
  },
  {
   "cell_type": "code",
   "execution_count": null,
   "id": "0a8fb3da",
   "metadata": {},
   "outputs": [],
   "source": [
    "v2.info()"
   ]
  },
  {
   "cell_type": "code",
   "execution_count": null,
   "id": "1e576ba0",
   "metadata": {},
   "outputs": [],
   "source": [
    "v2.head()"
   ]
  },
  {
   "cell_type": "markdown",
   "id": "5029be4e",
   "metadata": {},
   "source": [
    "# Inspect the data"
   ]
  },
  {
   "cell_type": "code",
   "execution_count": null,
   "id": "70c4ea54",
   "metadata": {},
   "outputs": [],
   "source": [
    "# checking for duplicates\n",
    "v2.loc[v2.duplicated()]"
   ]
  },
  {
   "cell_type": "code",
   "execution_count": null,
   "id": "e977afbc",
   "metadata": {},
   "outputs": [],
   "source": [
    "# Just listing the columns and how many rows \n",
    "# for each have a missing value.\n",
    "\n",
    "v2.isnull().sum()"
   ]
  },
  {
   "cell_type": "code",
   "execution_count": null,
   "id": "fcb72301",
   "metadata": {},
   "outputs": [],
   "source": [
    "df_null = v2.isna().mean().round(4) * 100\n",
    "df_null.sort_values(ascending=False).head()"
   ]
  },
  {
   "cell_type": "markdown",
   "id": "b300b0a4",
   "metadata": {},
   "source": [
    "# Add region to the dataframe"
   ]
  },
  {
   "cell_type": "code",
   "execution_count": null,
   "id": "c6eb82cd",
   "metadata": {},
   "outputs": [],
   "source": [
    "states = pd.read_csv('/Users/jimcody/Documents/2021Python/Plotly-Dash/data/us-map-data.csv')"
   ]
  },
  {
   "cell_type": "code",
   "execution_count": null,
   "id": "d787dcfb",
   "metadata": {},
   "outputs": [],
   "source": [
    "states.shape"
   ]
  },
  {
   "cell_type": "code",
   "execution_count": null,
   "id": "ba525c6d",
   "metadata": {},
   "outputs": [],
   "source": [
    "states.info()"
   ]
  },
  {
   "cell_type": "code",
   "execution_count": null,
   "id": "ba3ff06f",
   "metadata": {},
   "outputs": [],
   "source": [
    "states.head()"
   ]
  },
  {
   "cell_type": "code",
   "execution_count": null,
   "id": "5c4a9c28",
   "metadata": {},
   "outputs": [],
   "source": [
    "v3 = pd.merge(v2,states, left_on = 'location', right_on = 'Abbreviation', )\n",
    "v3 = v3.drop(columns = ['Abbreviation', 'Code'])"
   ]
  },
  {
   "cell_type": "code",
   "execution_count": null,
   "id": "45ef22a4",
   "metadata": {},
   "outputs": [],
   "source": [
    "v3.head()"
   ]
  },
  {
   "cell_type": "code",
   "execution_count": null,
   "id": "26582609",
   "metadata": {},
   "outputs": [],
   "source": [
    "sns.displot(data=v3, x=\"distributed\", hue=\"Region\", col=\"location\", kind = 'ecdf', col_wrap = 5)"
   ]
  },
  {
   "cell_type": "markdown",
   "id": "34d13b69",
   "metadata": {},
   "source": [
    "# Create a summary table"
   ]
  },
  {
   "cell_type": "code",
   "execution_count": null,
   "id": "921c5f69",
   "metadata": {},
   "outputs": [],
   "source": [
    "vac_summary = v3.groupby(['Region','location']).sum().reset_index()\n",
    "vac_summary.shape"
   ]
  },
  {
   "cell_type": "code",
   "execution_count": null,
   "id": "420f1cc8",
   "metadata": {},
   "outputs": [],
   "source": [
    "vac_summary.head()"
   ]
  },
  {
   "cell_type": "markdown",
   "id": "59f1ce17",
   "metadata": {},
   "source": [
    "# Use plotly express"
   ]
  },
  {
   "cell_type": "markdown",
   "id": "641bca14",
   "metadata": {},
   "source": [
    "## Bar chart"
   ]
  },
  {
   "cell_type": "code",
   "execution_count": null,
   "id": "7365f8b2",
   "metadata": {},
   "outputs": [],
   "source": [
    "\n",
    "fig = px.bar(vac_summary, x='location', y='distributed', color = 'Region')\n",
    "fig.show()\n",
    "\n",
    "# Provides some built-in interaction.  \n",
    "# plots each individual row(oberservation).  No aggregation is occurring."
   ]
  },
  {
   "cell_type": "markdown",
   "id": "102dd985",
   "metadata": {},
   "source": []
  },
  {
   "cell_type": "code",
   "execution_count": null,
   "id": "e767da72",
   "metadata": {},
   "outputs": [],
   "source": []
  },
  {
   "cell_type": "code",
   "execution_count": null,
   "id": "9b5e59a0",
   "metadata": {},
   "outputs": [],
   "source": []
  },
  {
   "cell_type": "code",
   "execution_count": null,
   "id": "1989a767",
   "metadata": {},
   "outputs": [],
   "source": [
    "# Exercise 1\n",
    "# Use the plotly documentation to create a pie chart. \n",
    "\n",
    "\n",
    "# First line is not needed\n",
    "#import plotly.express as px\n",
    "df = px.data.gapminder().query(\"year == 2007\").query(\"continent == 'Europe'\")\n",
    "df.loc[df['pop'] < 2.e6, 'country'] = 'Other countries' # Represent only large countries\n",
    "fig = px.pie(df, values='pop', names='country', title='Population of European continent')\n",
    "fig.show()"
   ]
  },
  {
   "cell_type": "markdown",
   "id": "11e6830a",
   "metadata": {},
   "source": [
    "# Use the high level interface\n",
    "\n",
    "https://plotly.com/python-api-reference/plotly.express.html\n",
    "\n",
    "For when we want to ad more attributes than is in the sample code."
   ]
  },
  {
   "cell_type": "code",
   "execution_count": null,
   "id": "a5543998",
   "metadata": {},
   "outputs": [],
   "source": [
    "gm.head()"
   ]
  },
  {
   "cell_type": "code",
   "execution_count": null,
   "id": "ae05046b",
   "metadata": {},
   "outputs": [],
   "source": [
    "# Adding additional attributes\n",
    "\n",
    "data_canada = px.data.gapminder().query(\"country == 'Canada'\")\n",
    "fig = px.bar(data_canada, x='year', y='pop', color = 'year', title = 'Canada/s Population 1950 - 2007')\n",
    "fig.show()"
   ]
  },
  {
   "cell_type": "markdown",
   "id": "8f457972",
   "metadata": {},
   "source": [
    "# Adding More Details\n",
    "Working with plotly graph objects\n",
    "\n",
    "https://plotly.com/python/reference/index/\n",
    "\n",
    "Traces > Update Traces   Traces represents the data that goes inside the layout\n",
    "\n",
    "Layout > Update Layout   Layout represents the charts > ticks, hover, legend"
   ]
  },
  {
   "cell_type": "code",
   "execution_count": null,
   "id": "4809f3ba",
   "metadata": {},
   "outputs": [],
   "source": []
  },
  {
   "cell_type": "code",
   "execution_count": null,
   "id": "13cd8b57",
   "metadata": {},
   "outputs": [],
   "source": []
  },
  {
   "cell_type": "code",
   "execution_count": null,
   "id": "7c1722a7",
   "metadata": {},
   "outputs": [],
   "source": []
  },
  {
   "cell_type": "code",
   "execution_count": null,
   "id": "1d7dec7f",
   "metadata": {},
   "outputs": [],
   "source": []
  },
  {
   "cell_type": "markdown",
   "id": "5afe10df",
   "metadata": {},
   "source": [
    "# DO NOT GO PAST HERE!!!!!"
   ]
  },
  {
   "cell_type": "code",
   "execution_count": null,
   "id": "4f7cfcf9",
   "metadata": {},
   "outputs": [],
   "source": [
    "nums = ['distributed', \n",
    "       'dist_per_100k',\n",
    "       'distributed_per_100k_12plus', \n",
    "       'distributed_per_100k_18plus',\n",
    "       'distributed_per_100k_65plus', \n",
    "       'administered', \n",
    "       'administered_12plus',\n",
    "       'administered_18plus', \n",
    "       'administered_65plus', \n",
    "       'admin_per_100k_12plus',\n",
    "       'admin_per_100k_18plus', \n",
    "       'admin_per_100k_65plus', \n",
    "       'recip_administered',\n",
    "       'administered_dose1_recip', \n",
    "       'administered_dose1_recip_1', \n",
    "       'administered_dose1_recip_2',\n",
    "       'administered_dose1_recip_3', \n",
    "       'administered_dose1_recip_4',\n",
    "       'administered_dose1_recip_5', \n",
    "       'administered_dose1_recip_6',\n",
    "       'series_complete_yes', \n",
    "       'series_complete_12plus', \n",
    "       'series_complete_18plus', \n",
    "       'series_complete_65plus', \n",
    "       'additional_doses', \n",
    "       'additional_doses_18plus', \n",
    "       'additional_doses_50plus', \n",
    "       'additional_doses_65plus']"
   ]
  },
  {
   "cell_type": "code",
   "execution_count": null,
   "id": "233eadb7",
   "metadata": {},
   "outputs": [],
   "source": [
    "flts = ['administered_dose1_pop_pct',\n",
    "       'series_complete_pop_pct',\n",
    "       'series_complete_12pluspop',\n",
    "       'series_complete_18pluspop',\n",
    "       'series_complete_65pluspop',\n",
    "       'additional_doses_vax_pct',\n",
    "       'additional_doses_18plus_vax_pct',\n",
    "       'additional_doses_50plus_vax_pct',\n",
    "       'additional_doses_65plus_vax_pct']"
   ]
  }
 ],
 "metadata": {
  "kernelspec": {
   "display_name": "Python 3 (ipykernel)",
   "language": "python",
   "name": "python3"
  },
  "language_info": {
   "codemirror_mode": {
    "name": "ipython",
    "version": 3
   },
   "file_extension": ".py",
   "mimetype": "text/x-python",
   "name": "python",
   "nbconvert_exporter": "python",
   "pygments_lexer": "ipython3",
   "version": "3.8.2"
  },
  "toc": {
   "base_numbering": 1,
   "nav_menu": {},
   "number_sections": true,
   "sideBar": false,
   "skip_h1_title": false,
   "title_cell": "Table of Contents",
   "title_sidebar": "",
   "toc_cell": true,
   "toc_position": {
    "height": "calc(100% - 180px)",
    "left": "10px",
    "top": "150px",
    "width": "165px"
   },
   "toc_section_display": false,
   "toc_window_display": false
  }
 },
 "nbformat": 4,
 "nbformat_minor": 5
}
