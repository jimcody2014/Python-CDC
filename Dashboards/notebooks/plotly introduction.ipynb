{
 "cells": [
  {
   "cell_type": "markdown",
   "id": "9f9db43e",
   "metadata": {
    "toc": true
   },
   "source": [
    "<h1>Table of Contents<span class=\"tocSkip\"></span></h1>\n",
    "<div class=\"toc\"><ul class=\"toc-item\"><li><span><a href=\"#Why-plotly?\" data-toc-modified-id=\"Why-plotly?-1\"><span class=\"toc-item-num\">1&nbsp;&nbsp;</span>Why plotly?</a></span></li><li><span><a href=\"#Get-the-data\" data-toc-modified-id=\"Get-the-data-2\"><span class=\"toc-item-num\">2&nbsp;&nbsp;</span>Get the data</a></span></li><li><span><a href=\"#Inspect-the-data\" data-toc-modified-id=\"Inspect-the-data-3\"><span class=\"toc-item-num\">3&nbsp;&nbsp;</span>Inspect the data</a></span></li><li><span><a href=\"#Add-region-to-the-dataframe\" data-toc-modified-id=\"Add-region-to-the-dataframe-4\"><span class=\"toc-item-num\">4&nbsp;&nbsp;</span>Add region to the dataframe</a></span></li><li><span><a href=\"#Create-a-summary-table\" data-toc-modified-id=\"Create-a-summary-table-5\"><span class=\"toc-item-num\">5&nbsp;&nbsp;</span>Create a summary table</a></span></li><li><span><a href=\"#Use-plotly-express\" data-toc-modified-id=\"Use-plotly-express-6\"><span class=\"toc-item-num\">6&nbsp;&nbsp;</span>Use plotly express</a></span><ul class=\"toc-item\"><li><span><a href=\"#Bar-chart\" data-toc-modified-id=\"Bar-chart-6.1\"><span class=\"toc-item-num\">6.1&nbsp;&nbsp;</span>Bar chart</a></span></li></ul></li><li><span><a href=\"#Use-the-high-level-interface\" data-toc-modified-id=\"Use-the-high-level-interface-7\"><span class=\"toc-item-num\">7&nbsp;&nbsp;</span>Use the high level interface</a></span></li><li><span><a href=\"#Adding-More-Details\" data-toc-modified-id=\"Adding-More-Details-8\"><span class=\"toc-item-num\">8&nbsp;&nbsp;</span>Adding More Details</a></span></li><li><span><a href=\"#DO-NOT-GO-PAST-HERE!!!!!\" data-toc-modified-id=\"DO-NOT-GO-PAST-HERE!!!!!-9\"><span class=\"toc-item-num\">9&nbsp;&nbsp;</span>DO NOT GO PAST HERE!!!!!</a></span></li></ul></div>"
   ]
  },
  {
   "cell_type": "markdown",
   "id": "dfaa9bda",
   "metadata": {},
   "source": [
    "# Why plotly?\n",
    "\n",
    "1. why you should use plotly and not other data visualization platforms\n",
    "    - only platform w interactive and pure python and deploy to web as a web app\n",
    "    - use with R, julia and a few others\n",
    "    - very efficient coding\n",
    "2. navigate documentation\n",
    "3. share graphs with others\n",
    "\n",
    "\n",
    "Express to graph objects == seaborn/pyplot to matplotlib\n",
    "graph objects - build from the bottom up - define data > layout > frame\n",
    "\n",
    "start with express and the use graph objects to further refine\n",
    "\n",
    "\n",
    "https://plotly.com/python/\n",
    "\n"
   ]
  },
  {
   "cell_type": "markdown",
   "id": "0f5735ce",
   "metadata": {},
   "source": [
    "# Get the data"
   ]
  },
  {
   "cell_type": "code",
   "execution_count": 2,
   "id": "11d79c11",
   "metadata": {},
   "outputs": [],
   "source": [
    "import pandas as pd\n",
    "import numpy as np\n",
    "from numpy.random import randn\n",
    "import plotly.express as px\n",
    "import requests\n",
    "from sodapy import Socrata\n",
    "import seaborn as sns\n",
    "\n",
    "\n",
    "\n",
    "#from gapminder import gapminder\n",
    "#gm = gapminder\n",
    "#gm.head()"
   ]
  },
  {
   "cell_type": "code",
   "execution_count": 3,
   "id": "461bde8b",
   "metadata": {},
   "outputs": [],
   "source": [
    "#client = Socrata(\"data.cdc.gov\", None)\n",
    "\n",
    "client = Socrata('data.cdc.gov',\n",
    "                  'cGQ7A3af5QfCgIY9vYgX0uFaZ',\n",
    "                  username=\"james_cody@mail.harvard.edu\",\n",
    "                  password=\"RideaBike2021!\")\n",
    "\n",
    "#results = client.get(\"8xkx-amqh\", limit = 100000)\n",
    "results = client.get(\"unsk-b7fc\", limit = 150000)\n",
    "vaccines = pd.DataFrame(results)\n",
    "\n",
    "\n",
    "\n",
    "# https://data.cdc.gov/Vaccinations/COVID-19-Vaccinations-in-the-United-States-County/8xkx-amqh\n",
    "# https://data.cdc.gov/Vaccinations/COVID-19-Vaccinations-in-the-United-States-Jurisdi/unsk-b7fc"
   ]
  },
  {
   "cell_type": "code",
   "execution_count": 4,
   "id": "4d92b002",
   "metadata": {},
   "outputs": [
    {
     "data": {
      "text/plain": [
       "(35480, 91)"
      ]
     },
     "execution_count": 4,
     "metadata": {},
     "output_type": "execute_result"
    }
   ],
   "source": [
    "v2 = vaccines\n",
    "v2.shape"
   ]
  },
  {
   "cell_type": "code",
   "execution_count": 5,
   "id": "7ec15e82",
   "metadata": {},
   "outputs": [
    {
     "name": "stdout",
     "output_type": "stream",
     "text": [
      "<class 'pandas.core.frame.DataFrame'>\n",
      "RangeIndex: 35480 entries, 0 to 35479\n",
      "Data columns (total 91 columns):\n",
      " #   Column                                 Non-Null Count  Dtype \n",
      "---  ------                                 --------------  ----- \n",
      " 0   date                                   35480 non-null  object\n",
      " 1   mmwr_week                              35480 non-null  object\n",
      " 2   location                               35480 non-null  object\n",
      " 3   distributed                            35480 non-null  object\n",
      " 4   distributed_janssen                    35480 non-null  object\n",
      " 5   distributed_moderna                    35480 non-null  object\n",
      " 6   distributed_pfizer                     35480 non-null  object\n",
      " 7   distributed_unk_manuf                  35480 non-null  object\n",
      " 8   dist_per_100k                          35480 non-null  object\n",
      " 9   distributed_per_100k_5plus             35032 non-null  object\n",
      " 10  distributed_per_100k_12plus            35480 non-null  object\n",
      " 11  distributed_per_100k_18plus            35480 non-null  object\n",
      " 12  distributed_per_100k_65plus            35480 non-null  object\n",
      " 13  administered                           35480 non-null  object\n",
      " 14  administered_5plus                     35032 non-null  object\n",
      " 15  administered_12plus                    35480 non-null  object\n",
      " 16  administered_18plus                    35480 non-null  object\n",
      " 17  administered_65plus                    35480 non-null  object\n",
      " 18  administered_janssen                   35480 non-null  object\n",
      " 19  administered_moderna                   35480 non-null  object\n",
      " 20  administered_pfizer                    35480 non-null  object\n",
      " 21  administered_unk_manuf                 35480 non-null  object\n",
      " 22  admin_per_100k                         35480 non-null  object\n",
      " 23  admin_per_100k_5plus                   35032 non-null  object\n",
      " 24  admin_per_100k_12plus                  35480 non-null  object\n",
      " 25  admin_per_100k_18plus                  35480 non-null  object\n",
      " 26  admin_per_100k_65plus                  35480 non-null  object\n",
      " 27  recip_administered                     35480 non-null  object\n",
      " 28  administered_dose1_recip               35480 non-null  object\n",
      " 29  administered_dose1_pop_pct             35480 non-null  object\n",
      " 30  administered_dose1_recip_5plus         35032 non-null  object\n",
      " 31  administered_dose1_recip_5pluspop_pct  35032 non-null  object\n",
      " 32  administered_dose1_recip_1             35480 non-null  object\n",
      " 33  administered_dose1_recip_2             35480 non-null  object\n",
      " 34  administered_dose1_recip_3             35480 non-null  object\n",
      " 35  administered_dose1_recip_4             35480 non-null  object\n",
      " 36  administered_dose1_recip_5             35480 non-null  object\n",
      " 37  administered_dose1_recip_6             35480 non-null  object\n",
      " 38  series_complete_yes                    35480 non-null  object\n",
      " 39  series_complete_pop_pct                35480 non-null  object\n",
      " 40  series_complete_5plus                  35032 non-null  object\n",
      " 41  series_complete_5pluspop_pct           35032 non-null  object\n",
      " 42  series_complete_12plus                 35480 non-null  object\n",
      " 43  series_complete_12pluspop              35480 non-null  object\n",
      " 44  series_complete_18plus                 35480 non-null  object\n",
      " 45  series_complete_18pluspop              35480 non-null  object\n",
      " 46  series_complete_65plus                 35480 non-null  object\n",
      " 47  series_complete_65pluspop              35480 non-null  object\n",
      " 48  series_complete_janssen                35480 non-null  object\n",
      " 49  series_complete_moderna                35480 non-null  object\n",
      " 50  series_complete_pfizer                 35480 non-null  object\n",
      " 51  series_complete_unk_manuf              35480 non-null  object\n",
      " 52  series_complete_janssen_5plus          14464 non-null  object\n",
      " 53  series_complete_moderna_5plus          14464 non-null  object\n",
      " 54  series_complete_pfizer_5plus           14464 non-null  object\n",
      " 55  series_complete_unk_manuf_5plus        14464 non-null  object\n",
      " 56  series_complete_janssen_12plus         35480 non-null  object\n",
      " 57  series_complete_moderna_12plus         35480 non-null  object\n",
      " 58  series_complete_pfizer_12plus          35480 non-null  object\n",
      " 59  series_complete_unk_manuf_1            35480 non-null  object\n",
      " 60  series_complete_janssen_18plus         35480 non-null  object\n",
      " 61  series_complete_moderna_18plus         35480 non-null  object\n",
      " 62  series_complete_pfizer_18plus          35480 non-null  object\n",
      " 63  series_complete_unk_manuf_2            35480 non-null  object\n",
      " 64  series_complete_janssen_65plus         35480 non-null  object\n",
      " 65  series_complete_moderna_65plus         35480 non-null  object\n",
      " 66  series_complete_pfizer_65plus          35480 non-null  object\n",
      " 67  series_complete_unk_manuf_3            35480 non-null  object\n",
      " 68  additional_doses                       19132 non-null  object\n",
      " 69  additional_doses_vax_pct               35155 non-null  object\n",
      " 70  additional_doses_12plus                9024 non-null   object\n",
      " 71  additional_doses_12plus_vax_pct        9024 non-null   object\n",
      " 72  additional_doses_18plus                35155 non-null  object\n",
      " 73  additional_doses_18plus_vax_pct        35155 non-null  object\n",
      " 74  additional_doses_50plus                35155 non-null  object\n",
      " 75  additional_doses_50plus_vax_pct        35480 non-null  object\n",
      " 76  additional_doses_65plus                35155 non-null  object\n",
      " 77  additional_doses_65plus_vax_pct        35155 non-null  object\n",
      " 78  additional_doses_moderna               35155 non-null  object\n",
      " 79  additional_doses_pfizer                35155 non-null  object\n",
      " 80  additional_doses_janssen               35155 non-null  object\n",
      " 81  additional_doses_unk_manuf             35155 non-null  object\n",
      " 82  second_booster_50plus                  3584 non-null   object\n",
      " 83  second_booster_50plus_vax_pct          3584 non-null   object\n",
      " 84  second_booster_65plus                  3584 non-null   object\n",
      " 85  second_booster_65plus_vax_pct          3584 non-null   object\n",
      " 86  second_booster_janssen                 3584 non-null   object\n",
      " 87  second_booster_moderna                 3584 non-null   object\n",
      " 88  second_booster_pfizer                  3584 non-null   object\n",
      " 89  second_booster_unk_manuf               3584 non-null   object\n",
      " 90  second_booster                         56 non-null     object\n",
      "dtypes: object(91)\n",
      "memory usage: 24.6+ MB\n"
     ]
    }
   ],
   "source": [
    "vaccines.info()"
   ]
  },
  {
   "cell_type": "code",
   "execution_count": 6,
   "id": "4fedd028",
   "metadata": {},
   "outputs": [],
   "source": [
    "# Drop columns\n",
    "drop_columns = {'distributed_janssen',\n",
    "    'distributed_moderna', \n",
    "    'distributed_pfizer', \n",
    "    'distributed_unk_manuf',\n",
    "    'administered_janssen', \n",
    "    'administered_moderna',\n",
    "    'administered_pfizer', \n",
    "    'administered_unk_manuf', \n",
    "    'admin_per_100k',\n",
    "    'series_complete_janssen', \n",
    "    'series_complete_moderna',\n",
    "    'series_complete_pfizer', \n",
    "    'series_complete_unk_manuf',\n",
    "    'series_complete_janssen_12plus', \n",
    "    'series_complete_moderna_12plus',\n",
    "    'series_complete_pfizer_12plus', \n",
    "    'series_complete_unk_manuf_1',\n",
    "    'series_complete_janssen_18plus', \n",
    "    'series_complete_moderna_18plus',\n",
    "    'series_complete_pfizer_18plus', \n",
    "    'series_complete_unk_manuf_2',\n",
    "    'series_complete_janssen_65plus', \n",
    "    'series_complete_moderna_65plus',\n",
    "    'series_complete_pfizer_65plus', \n",
    "    'series_complete_unk_manuf_3',\n",
    "    'additional_doses_moderna', \n",
    "    'additional_doses_pfizer',\n",
    "    'additional_doses_janssen', \n",
    "    'additional_doses_unk_manuf',\n",
    "    'additional_doses',\n",
    "    'additional_doses_18plus',\n",
    "    'additional_doses_50plus',\n",
    "    'additional_doses_50plus', \n",
    "    'administered_dose1_recip', \n",
    "    'administered_dose1_recip_1', \n",
    "    'administered_dose1_recip_2',\n",
    "    'administered_dose1_recip_3', \n",
    "    'administered_dose1_recip_4',\n",
    "    'administered_dose1_recip_5', \n",
    "    'administered_dose1_recip_6',\n",
    "    'additional_doses_vax_pct',\n",
    "    'additional_doses_18plus_vax_pct', \n",
    "    'additional_doses_50plus_vax_pct',\n",
    "    'additional_doses_65plus', \n",
    "    'additional_doses_65plus_vax_pct'}\n",
    "v2 = v2.drop(columns = drop_columns)"
   ]
  },
  {
   "cell_type": "code",
   "execution_count": 7,
   "id": "eee8326d",
   "metadata": {},
   "outputs": [],
   "source": [
    "v2['date'] = v2['date'].astype('datetime64[ns]')"
   ]
  },
  {
   "cell_type": "code",
   "execution_count": 8,
   "id": "f8ed6161",
   "metadata": {},
   "outputs": [],
   "source": [
    "v2['distributed'] = pd.to_numeric(v2['distributed']).astype(int)\n",
    "v2['dist_per_100k'] = pd.to_numeric(v2['dist_per_100k']).astype(int)\n",
    "v2['distributed_per_100k_12plus'] = pd.to_numeric(v2['distributed_per_100k_12plus']).astype(int)\n",
    "v2['distributed_per_100k_18plus'] = pd.to_numeric(v2['distributed_per_100k_18plus']).astype(int)\n",
    "v2['distributed_per_100k_65plus'] = pd.to_numeric(v2['distributed_per_100k_65plus']).astype(int)\n",
    "v2['administered'] = pd.to_numeric(v2['administered']).astype(int)\n",
    "v2['administered_12plus'] = pd.to_numeric(v2['administered_12plus']).astype(int)\n",
    "v2['administered_18plus'] = pd.to_numeric(v2['administered_18plus']).astype(int)\n",
    "v2['administered_65plus'] = pd.to_numeric(v2['administered_65plus']).astype(int)\n",
    "v2['admin_per_100k_12plus'] = pd.to_numeric(v2['admin_per_100k_12plus']).astype(int)\n",
    "v2['admin_per_100k_18plus'] = pd.to_numeric(v2['admin_per_100k_18plus']).astype(int)\n",
    "v2['admin_per_100k_65plus'] = pd.to_numeric(v2['admin_per_100k_65plus']).astype(int)\n",
    "v2['recip_administered'] = pd.to_numeric(v2['recip_administered']).astype(int)\n",
    "v2['series_complete_yes'] = pd.to_numeric(v2['series_complete_yes']).astype(int)\n",
    "v2['series_complete_12plus'] = pd.to_numeric(v2['series_complete_12plus']).astype(int)\n",
    "v2['series_complete_18plus'] = pd.to_numeric(v2['series_complete_18plus']).astype(int)\n",
    "v2['series_complete_65plus'] = pd.to_numeric(v2['series_complete_65plus']).astype(int)"
   ]
  },
  {
   "cell_type": "code",
   "execution_count": 9,
   "id": "3edc981d",
   "metadata": {},
   "outputs": [],
   "source": [
    "v2['administered_dose1_pop_pct'] = pd.to_numeric(v2['administered_dose1_pop_pct']).astype(float)\n",
    "v2['series_complete_pop_pct'] = pd.to_numeric(v2['series_complete_pop_pct']).astype(float)\n",
    "v2['series_complete_12pluspop'] = pd.to_numeric(v2['series_complete_12pluspop']).astype(float)\n",
    "v2['series_complete_18pluspop'] = pd.to_numeric(v2['series_complete_18pluspop']).astype(float)\n",
    "v2['series_complete_65pluspop'] = pd.to_numeric(v2['series_complete_65pluspop']).astype(float)"
   ]
  },
  {
   "cell_type": "code",
   "execution_count": 10,
   "id": "cd44cbd5",
   "metadata": {},
   "outputs": [
    {
     "data": {
      "text/plain": [
       "(35480, 47)"
      ]
     },
     "execution_count": 10,
     "metadata": {},
     "output_type": "execute_result"
    }
   ],
   "source": [
    "v2.shape"
   ]
  },
  {
   "cell_type": "code",
   "execution_count": 11,
   "id": "da85f69f",
   "metadata": {},
   "outputs": [
    {
     "data": {
      "text/plain": [
       "Index(['date', 'mmwr_week', 'location', 'distributed', 'dist_per_100k',\n",
       "       'distributed_per_100k_5plus', 'distributed_per_100k_12plus',\n",
       "       'distributed_per_100k_18plus', 'distributed_per_100k_65plus',\n",
       "       'administered', 'administered_5plus', 'administered_12plus',\n",
       "       'administered_18plus', 'administered_65plus', 'admin_per_100k_5plus',\n",
       "       'admin_per_100k_12plus', 'admin_per_100k_18plus',\n",
       "       'admin_per_100k_65plus', 'recip_administered',\n",
       "       'administered_dose1_pop_pct', 'administered_dose1_recip_5plus',\n",
       "       'administered_dose1_recip_5pluspop_pct', 'series_complete_yes',\n",
       "       'series_complete_pop_pct', 'series_complete_5plus',\n",
       "       'series_complete_5pluspop_pct', 'series_complete_12plus',\n",
       "       'series_complete_12pluspop', 'series_complete_18plus',\n",
       "       'series_complete_18pluspop', 'series_complete_65plus',\n",
       "       'series_complete_65pluspop', 'series_complete_janssen_5plus',\n",
       "       'series_complete_moderna_5plus', 'series_complete_pfizer_5plus',\n",
       "       'series_complete_unk_manuf_5plus', 'additional_doses_12plus',\n",
       "       'additional_doses_12plus_vax_pct', 'second_booster_50plus',\n",
       "       'second_booster_50plus_vax_pct', 'second_booster_65plus',\n",
       "       'second_booster_65plus_vax_pct', 'second_booster_janssen',\n",
       "       'second_booster_moderna', 'second_booster_pfizer',\n",
       "       'second_booster_unk_manuf', 'second_booster'],\n",
       "      dtype='object')"
      ]
     },
     "execution_count": 11,
     "metadata": {},
     "output_type": "execute_result"
    }
   ],
   "source": [
    "v2.columns"
   ]
  },
  {
   "cell_type": "code",
   "execution_count": 12,
   "id": "0ce536f0",
   "metadata": {},
   "outputs": [],
   "source": [
    "v2 = v2.query(\"date.dt.month > 9 and date.dt.year == 2021\")"
   ]
  },
  {
   "cell_type": "code",
   "execution_count": 13,
   "id": "f743bba8",
   "metadata": {},
   "outputs": [
    {
     "data": {
      "text/plain": [
       "(5909, 47)"
      ]
     },
     "execution_count": 13,
     "metadata": {},
     "output_type": "execute_result"
    }
   ],
   "source": [
    "v2.shape"
   ]
  },
  {
   "cell_type": "code",
   "execution_count": 14,
   "id": "0a8fb3da",
   "metadata": {},
   "outputs": [
    {
     "name": "stdout",
     "output_type": "stream",
     "text": [
      "<class 'pandas.core.frame.DataFrame'>\n",
      "Int64Index: 5909 entries, 10688 to 16596\n",
      "Data columns (total 47 columns):\n",
      " #   Column                                 Non-Null Count  Dtype         \n",
      "---  ------                                 --------------  -----         \n",
      " 0   date                                   5909 non-null   datetime64[ns]\n",
      " 1   mmwr_week                              5909 non-null   object        \n",
      " 2   location                               5909 non-null   object        \n",
      " 3   distributed                            5909 non-null   int64         \n",
      " 4   dist_per_100k                          5909 non-null   int64         \n",
      " 5   distributed_per_100k_5plus             5461 non-null   object        \n",
      " 6   distributed_per_100k_12plus            5909 non-null   int64         \n",
      " 7   distributed_per_100k_18plus            5909 non-null   int64         \n",
      " 8   distributed_per_100k_65plus            5909 non-null   int64         \n",
      " 9   administered                           5909 non-null   int64         \n",
      " 10  administered_5plus                     5461 non-null   object        \n",
      " 11  administered_12plus                    5909 non-null   int64         \n",
      " 12  administered_18plus                    5909 non-null   int64         \n",
      " 13  administered_65plus                    5909 non-null   int64         \n",
      " 14  admin_per_100k_5plus                   5461 non-null   object        \n",
      " 15  admin_per_100k_12plus                  5909 non-null   int64         \n",
      " 16  admin_per_100k_18plus                  5909 non-null   int64         \n",
      " 17  admin_per_100k_65plus                  5909 non-null   int64         \n",
      " 18  recip_administered                     5909 non-null   int64         \n",
      " 19  administered_dose1_pop_pct             5909 non-null   float64       \n",
      " 20  administered_dose1_recip_5plus         5461 non-null   object        \n",
      " 21  administered_dose1_recip_5pluspop_pct  5461 non-null   object        \n",
      " 22  series_complete_yes                    5909 non-null   int64         \n",
      " 23  series_complete_pop_pct                5909 non-null   float64       \n",
      " 24  series_complete_5plus                  5461 non-null   object        \n",
      " 25  series_complete_5pluspop_pct           5461 non-null   object        \n",
      " 26  series_complete_12plus                 5909 non-null   int64         \n",
      " 27  series_complete_12pluspop              5909 non-null   float64       \n",
      " 28  series_complete_18plus                 5909 non-null   int64         \n",
      " 29  series_complete_18pluspop              5909 non-null   float64       \n",
      " 30  series_complete_65plus                 5909 non-null   int64         \n",
      " 31  series_complete_65pluspop              5909 non-null   float64       \n",
      " 32  series_complete_janssen_5plus          3776 non-null   object        \n",
      " 33  series_complete_moderna_5plus          3776 non-null   object        \n",
      " 34  series_complete_pfizer_5plus           3776 non-null   object        \n",
      " 35  series_complete_unk_manuf_5plus        3776 non-null   object        \n",
      " 36  additional_doses_12plus                0 non-null      object        \n",
      " 37  additional_doses_12plus_vax_pct        0 non-null      object        \n",
      " 38  second_booster_50plus                  0 non-null      object        \n",
      " 39  second_booster_50plus_vax_pct          0 non-null      object        \n",
      " 40  second_booster_65plus                  0 non-null      object        \n",
      " 41  second_booster_65plus_vax_pct          0 non-null      object        \n",
      " 42  second_booster_janssen                 0 non-null      object        \n",
      " 43  second_booster_moderna                 0 non-null      object        \n",
      " 44  second_booster_pfizer                  0 non-null      object        \n",
      " 45  second_booster_unk_manuf               0 non-null      object        \n",
      " 46  second_booster                         0 non-null      object        \n",
      "dtypes: datetime64[ns](1), float64(5), int64(17), object(24)\n",
      "memory usage: 2.2+ MB\n"
     ]
    }
   ],
   "source": [
    "v2.info()"
   ]
  },
  {
   "cell_type": "code",
   "execution_count": 15,
   "id": "1e576ba0",
   "metadata": {},
   "outputs": [
    {
     "data": {
      "text/html": [
       "<div>\n",
       "<style scoped>\n",
       "    .dataframe tbody tr th:only-of-type {\n",
       "        vertical-align: middle;\n",
       "    }\n",
       "\n",
       "    .dataframe tbody tr th {\n",
       "        vertical-align: top;\n",
       "    }\n",
       "\n",
       "    .dataframe thead th {\n",
       "        text-align: right;\n",
       "    }\n",
       "</style>\n",
       "<table border=\"1\" class=\"dataframe\">\n",
       "  <thead>\n",
       "    <tr style=\"text-align: right;\">\n",
       "      <th></th>\n",
       "      <th>date</th>\n",
       "      <th>mmwr_week</th>\n",
       "      <th>location</th>\n",
       "      <th>distributed</th>\n",
       "      <th>dist_per_100k</th>\n",
       "      <th>distributed_per_100k_5plus</th>\n",
       "      <th>distributed_per_100k_12plus</th>\n",
       "      <th>distributed_per_100k_18plus</th>\n",
       "      <th>distributed_per_100k_65plus</th>\n",
       "      <th>administered</th>\n",
       "      <th>...</th>\n",
       "      <th>additional_doses_12plus_vax_pct</th>\n",
       "      <th>second_booster_50plus</th>\n",
       "      <th>second_booster_50plus_vax_pct</th>\n",
       "      <th>second_booster_65plus</th>\n",
       "      <th>second_booster_65plus_vax_pct</th>\n",
       "      <th>second_booster_janssen</th>\n",
       "      <th>second_booster_moderna</th>\n",
       "      <th>second_booster_pfizer</th>\n",
       "      <th>second_booster_unk_manuf</th>\n",
       "      <th>second_booster</th>\n",
       "    </tr>\n",
       "  </thead>\n",
       "  <tbody>\n",
       "    <tr>\n",
       "      <th>10688</th>\n",
       "      <td>2021-12-31</td>\n",
       "      <td>52</td>\n",
       "      <td>HI</td>\n",
       "      <td>2978290</td>\n",
       "      <td>210350</td>\n",
       "      <td>223822</td>\n",
       "      <td>245914</td>\n",
       "      <td>266871</td>\n",
       "      <td>1109450</td>\n",
       "      <td>2245091</td>\n",
       "      <td>...</td>\n",
       "      <td>NaN</td>\n",
       "      <td>NaN</td>\n",
       "      <td>NaN</td>\n",
       "      <td>NaN</td>\n",
       "      <td>NaN</td>\n",
       "      <td>NaN</td>\n",
       "      <td>NaN</td>\n",
       "      <td>NaN</td>\n",
       "      <td>NaN</td>\n",
       "      <td>NaN</td>\n",
       "    </tr>\n",
       "    <tr>\n",
       "      <th>10689</th>\n",
       "      <td>2021-12-31</td>\n",
       "      <td>52</td>\n",
       "      <td>NE</td>\n",
       "      <td>3417630</td>\n",
       "      <td>176676</td>\n",
       "      <td>189497</td>\n",
       "      <td>211303</td>\n",
       "      <td>234352</td>\n",
       "      <td>1093790</td>\n",
       "      <td>2857010</td>\n",
       "      <td>...</td>\n",
       "      <td>NaN</td>\n",
       "      <td>NaN</td>\n",
       "      <td>NaN</td>\n",
       "      <td>NaN</td>\n",
       "      <td>NaN</td>\n",
       "      <td>NaN</td>\n",
       "      <td>NaN</td>\n",
       "      <td>NaN</td>\n",
       "      <td>NaN</td>\n",
       "      <td>NaN</td>\n",
       "    </tr>\n",
       "    <tr>\n",
       "      <th>10690</th>\n",
       "      <td>2021-12-31</td>\n",
       "      <td>52</td>\n",
       "      <td>OR</td>\n",
       "      <td>8488505</td>\n",
       "      <td>201257</td>\n",
       "      <td>212748</td>\n",
       "      <td>232704</td>\n",
       "      <td>253299</td>\n",
       "      <td>1108040</td>\n",
       "      <td>6852504</td>\n",
       "      <td>...</td>\n",
       "      <td>NaN</td>\n",
       "      <td>NaN</td>\n",
       "      <td>NaN</td>\n",
       "      <td>NaN</td>\n",
       "      <td>NaN</td>\n",
       "      <td>NaN</td>\n",
       "      <td>NaN</td>\n",
       "      <td>NaN</td>\n",
       "      <td>NaN</td>\n",
       "      <td>NaN</td>\n",
       "    </tr>\n",
       "    <tr>\n",
       "      <th>10691</th>\n",
       "      <td>2021-12-31</td>\n",
       "      <td>52</td>\n",
       "      <td>VI</td>\n",
       "      <td>134690</td>\n",
       "      <td>126719</td>\n",
       "      <td>135198</td>\n",
       "      <td>150618</td>\n",
       "      <td>165250</td>\n",
       "      <td>657730</td>\n",
       "      <td>130384</td>\n",
       "      <td>...</td>\n",
       "      <td>NaN</td>\n",
       "      <td>NaN</td>\n",
       "      <td>NaN</td>\n",
       "      <td>NaN</td>\n",
       "      <td>NaN</td>\n",
       "      <td>NaN</td>\n",
       "      <td>NaN</td>\n",
       "      <td>NaN</td>\n",
       "      <td>NaN</td>\n",
       "      <td>NaN</td>\n",
       "    </tr>\n",
       "    <tr>\n",
       "      <th>10692</th>\n",
       "      <td>2021-12-31</td>\n",
       "      <td>52</td>\n",
       "      <td>RP</td>\n",
       "      <td>36490</td>\n",
       "      <td>169469</td>\n",
       "      <td>179110</td>\n",
       "      <td>195709</td>\n",
       "      <td>220045</td>\n",
       "      <td>1831830</td>\n",
       "      <td>36970</td>\n",
       "      <td>...</td>\n",
       "      <td>NaN</td>\n",
       "      <td>NaN</td>\n",
       "      <td>NaN</td>\n",
       "      <td>NaN</td>\n",
       "      <td>NaN</td>\n",
       "      <td>NaN</td>\n",
       "      <td>NaN</td>\n",
       "      <td>NaN</td>\n",
       "      <td>NaN</td>\n",
       "      <td>NaN</td>\n",
       "    </tr>\n",
       "  </tbody>\n",
       "</table>\n",
       "<p>5 rows × 47 columns</p>\n",
       "</div>"
      ],
      "text/plain": [
       "            date mmwr_week location  distributed  dist_per_100k  \\\n",
       "10688 2021-12-31        52       HI      2978290         210350   \n",
       "10689 2021-12-31        52       NE      3417630         176676   \n",
       "10690 2021-12-31        52       OR      8488505         201257   \n",
       "10691 2021-12-31        52       VI       134690         126719   \n",
       "10692 2021-12-31        52       RP        36490         169469   \n",
       "\n",
       "      distributed_per_100k_5plus  distributed_per_100k_12plus  \\\n",
       "10688                     223822                       245914   \n",
       "10689                     189497                       211303   \n",
       "10690                     212748                       232704   \n",
       "10691                     135198                       150618   \n",
       "10692                     179110                       195709   \n",
       "\n",
       "       distributed_per_100k_18plus  distributed_per_100k_65plus  administered  \\\n",
       "10688                       266871                      1109450       2245091   \n",
       "10689                       234352                      1093790       2857010   \n",
       "10690                       253299                      1108040       6852504   \n",
       "10691                       165250                       657730        130384   \n",
       "10692                       220045                      1831830         36970   \n",
       "\n",
       "       ... additional_doses_12plus_vax_pct  second_booster_50plus  \\\n",
       "10688  ...                             NaN                    NaN   \n",
       "10689  ...                             NaN                    NaN   \n",
       "10690  ...                             NaN                    NaN   \n",
       "10691  ...                             NaN                    NaN   \n",
       "10692  ...                             NaN                    NaN   \n",
       "\n",
       "       second_booster_50plus_vax_pct  second_booster_65plus  \\\n",
       "10688                            NaN                    NaN   \n",
       "10689                            NaN                    NaN   \n",
       "10690                            NaN                    NaN   \n",
       "10691                            NaN                    NaN   \n",
       "10692                            NaN                    NaN   \n",
       "\n",
       "      second_booster_65plus_vax_pct  second_booster_janssen  \\\n",
       "10688                           NaN                     NaN   \n",
       "10689                           NaN                     NaN   \n",
       "10690                           NaN                     NaN   \n",
       "10691                           NaN                     NaN   \n",
       "10692                           NaN                     NaN   \n",
       "\n",
       "       second_booster_moderna  second_booster_pfizer  \\\n",
       "10688                     NaN                    NaN   \n",
       "10689                     NaN                    NaN   \n",
       "10690                     NaN                    NaN   \n",
       "10691                     NaN                    NaN   \n",
       "10692                     NaN                    NaN   \n",
       "\n",
       "       second_booster_unk_manuf  second_booster  \n",
       "10688                       NaN             NaN  \n",
       "10689                       NaN             NaN  \n",
       "10690                       NaN             NaN  \n",
       "10691                       NaN             NaN  \n",
       "10692                       NaN             NaN  \n",
       "\n",
       "[5 rows x 47 columns]"
      ]
     },
     "execution_count": 15,
     "metadata": {},
     "output_type": "execute_result"
    }
   ],
   "source": [
    "v2.head()"
   ]
  },
  {
   "cell_type": "markdown",
   "id": "5029be4e",
   "metadata": {},
   "source": [
    "# Inspect the data"
   ]
  },
  {
   "cell_type": "code",
   "execution_count": 16,
   "id": "70c4ea54",
   "metadata": {},
   "outputs": [
    {
     "data": {
      "text/html": [
       "<div>\n",
       "<style scoped>\n",
       "    .dataframe tbody tr th:only-of-type {\n",
       "        vertical-align: middle;\n",
       "    }\n",
       "\n",
       "    .dataframe tbody tr th {\n",
       "        vertical-align: top;\n",
       "    }\n",
       "\n",
       "    .dataframe thead th {\n",
       "        text-align: right;\n",
       "    }\n",
       "</style>\n",
       "<table border=\"1\" class=\"dataframe\">\n",
       "  <thead>\n",
       "    <tr style=\"text-align: right;\">\n",
       "      <th></th>\n",
       "      <th>date</th>\n",
       "      <th>mmwr_week</th>\n",
       "      <th>location</th>\n",
       "      <th>distributed</th>\n",
       "      <th>dist_per_100k</th>\n",
       "      <th>distributed_per_100k_5plus</th>\n",
       "      <th>distributed_per_100k_12plus</th>\n",
       "      <th>distributed_per_100k_18plus</th>\n",
       "      <th>distributed_per_100k_65plus</th>\n",
       "      <th>administered</th>\n",
       "      <th>...</th>\n",
       "      <th>additional_doses_12plus_vax_pct</th>\n",
       "      <th>second_booster_50plus</th>\n",
       "      <th>second_booster_50plus_vax_pct</th>\n",
       "      <th>second_booster_65plus</th>\n",
       "      <th>second_booster_65plus_vax_pct</th>\n",
       "      <th>second_booster_janssen</th>\n",
       "      <th>second_booster_moderna</th>\n",
       "      <th>second_booster_pfizer</th>\n",
       "      <th>second_booster_unk_manuf</th>\n",
       "      <th>second_booster</th>\n",
       "    </tr>\n",
       "  </thead>\n",
       "  <tbody>\n",
       "  </tbody>\n",
       "</table>\n",
       "<p>0 rows × 47 columns</p>\n",
       "</div>"
      ],
      "text/plain": [
       "Empty DataFrame\n",
       "Columns: [date, mmwr_week, location, distributed, dist_per_100k, distributed_per_100k_5plus, distributed_per_100k_12plus, distributed_per_100k_18plus, distributed_per_100k_65plus, administered, administered_5plus, administered_12plus, administered_18plus, administered_65plus, admin_per_100k_5plus, admin_per_100k_12plus, admin_per_100k_18plus, admin_per_100k_65plus, recip_administered, administered_dose1_pop_pct, administered_dose1_recip_5plus, administered_dose1_recip_5pluspop_pct, series_complete_yes, series_complete_pop_pct, series_complete_5plus, series_complete_5pluspop_pct, series_complete_12plus, series_complete_12pluspop, series_complete_18plus, series_complete_18pluspop, series_complete_65plus, series_complete_65pluspop, series_complete_janssen_5plus, series_complete_moderna_5plus, series_complete_pfizer_5plus, series_complete_unk_manuf_5plus, additional_doses_12plus, additional_doses_12plus_vax_pct, second_booster_50plus, second_booster_50plus_vax_pct, second_booster_65plus, second_booster_65plus_vax_pct, second_booster_janssen, second_booster_moderna, second_booster_pfizer, second_booster_unk_manuf, second_booster]\n",
       "Index: []\n",
       "\n",
       "[0 rows x 47 columns]"
      ]
     },
     "execution_count": 16,
     "metadata": {},
     "output_type": "execute_result"
    }
   ],
   "source": [
    "# checking for duplicates\n",
    "v2.loc[v2.duplicated()]"
   ]
  },
  {
   "cell_type": "code",
   "execution_count": 17,
   "id": "e977afbc",
   "metadata": {},
   "outputs": [
    {
     "data": {
      "text/plain": [
       "date                                        0\n",
       "mmwr_week                                   0\n",
       "location                                    0\n",
       "distributed                                 0\n",
       "dist_per_100k                               0\n",
       "distributed_per_100k_5plus                448\n",
       "distributed_per_100k_12plus                 0\n",
       "distributed_per_100k_18plus                 0\n",
       "distributed_per_100k_65plus                 0\n",
       "administered                                0\n",
       "administered_5plus                        448\n",
       "administered_12plus                         0\n",
       "administered_18plus                         0\n",
       "administered_65plus                         0\n",
       "admin_per_100k_5plus                      448\n",
       "admin_per_100k_12plus                       0\n",
       "admin_per_100k_18plus                       0\n",
       "admin_per_100k_65plus                       0\n",
       "recip_administered                          0\n",
       "administered_dose1_pop_pct                  0\n",
       "administered_dose1_recip_5plus            448\n",
       "administered_dose1_recip_5pluspop_pct     448\n",
       "series_complete_yes                         0\n",
       "series_complete_pop_pct                     0\n",
       "series_complete_5plus                     448\n",
       "series_complete_5pluspop_pct              448\n",
       "series_complete_12plus                      0\n",
       "series_complete_12pluspop                   0\n",
       "series_complete_18plus                      0\n",
       "series_complete_18pluspop                   0\n",
       "series_complete_65plus                      0\n",
       "series_complete_65pluspop                   0\n",
       "series_complete_janssen_5plus            2133\n",
       "series_complete_moderna_5plus            2133\n",
       "series_complete_pfizer_5plus             2133\n",
       "series_complete_unk_manuf_5plus          2133\n",
       "additional_doses_12plus                  5909\n",
       "additional_doses_12plus_vax_pct          5909\n",
       "second_booster_50plus                    5909\n",
       "second_booster_50plus_vax_pct            5909\n",
       "second_booster_65plus                    5909\n",
       "second_booster_65plus_vax_pct            5909\n",
       "second_booster_janssen                   5909\n",
       "second_booster_moderna                   5909\n",
       "second_booster_pfizer                    5909\n",
       "second_booster_unk_manuf                 5909\n",
       "second_booster                           5909\n",
       "dtype: int64"
      ]
     },
     "execution_count": 17,
     "metadata": {},
     "output_type": "execute_result"
    }
   ],
   "source": [
    "# Just listing the columns and how many rows \n",
    "# for each have a missing value.\n",
    "\n",
    "v2.isnull().sum()"
   ]
  },
  {
   "cell_type": "code",
   "execution_count": 18,
   "id": "fcb72301",
   "metadata": {},
   "outputs": [
    {
     "data": {
      "text/plain": [
       "second_booster                     100.0\n",
       "second_booster_65plus_vax_pct      100.0\n",
       "additional_doses_12plus_vax_pct    100.0\n",
       "second_booster_50plus              100.0\n",
       "second_booster_50plus_vax_pct      100.0\n",
       "dtype: float64"
      ]
     },
     "execution_count": 18,
     "metadata": {},
     "output_type": "execute_result"
    }
   ],
   "source": [
    "df_null = v2.isna().mean().round(4) * 100\n",
    "df_null.sort_values(ascending=False).head()"
   ]
  },
  {
   "cell_type": "markdown",
   "id": "b300b0a4",
   "metadata": {},
   "source": [
    "# Add region to the dataframe"
   ]
  },
  {
   "cell_type": "code",
   "execution_count": 19,
   "id": "c6eb82cd",
   "metadata": {},
   "outputs": [
    {
     "ename": "FileNotFoundError",
     "evalue": "[Errno 2] No such file or directory: '/Users/jimcody/Documents/2021Python/Plotly-Dash/data/us-map-data.csv'",
     "output_type": "error",
     "traceback": [
      "\u001b[0;31m---------------------------------------------------------------------------\u001b[0m",
      "\u001b[0;31mFileNotFoundError\u001b[0m                         Traceback (most recent call last)",
      "Input \u001b[0;32mIn [19]\u001b[0m, in \u001b[0;36m<cell line: 1>\u001b[0;34m()\u001b[0m\n\u001b[0;32m----> 1\u001b[0m states \u001b[38;5;241m=\u001b[39m \u001b[43mpd\u001b[49m\u001b[38;5;241;43m.\u001b[39;49m\u001b[43mread_csv\u001b[49m\u001b[43m(\u001b[49m\u001b[38;5;124;43m'\u001b[39;49m\u001b[38;5;124;43m/Users/jimcody/Documents/2021Python/Plotly-Dash/data/us-map-data.csv\u001b[39;49m\u001b[38;5;124;43m'\u001b[39;49m\u001b[43m)\u001b[49m\n",
      "File \u001b[0;32m~/opt/anaconda3/envs/CDC/lib/python3.9/site-packages/pandas/util/_decorators.py:311\u001b[0m, in \u001b[0;36mdeprecate_nonkeyword_arguments.<locals>.decorate.<locals>.wrapper\u001b[0;34m(*args, **kwargs)\u001b[0m\n\u001b[1;32m    305\u001b[0m \u001b[38;5;28;01mif\u001b[39;00m \u001b[38;5;28mlen\u001b[39m(args) \u001b[38;5;241m>\u001b[39m num_allow_args:\n\u001b[1;32m    306\u001b[0m     warnings\u001b[38;5;241m.\u001b[39mwarn(\n\u001b[1;32m    307\u001b[0m         msg\u001b[38;5;241m.\u001b[39mformat(arguments\u001b[38;5;241m=\u001b[39marguments),\n\u001b[1;32m    308\u001b[0m         \u001b[38;5;167;01mFutureWarning\u001b[39;00m,\n\u001b[1;32m    309\u001b[0m         stacklevel\u001b[38;5;241m=\u001b[39mstacklevel,\n\u001b[1;32m    310\u001b[0m     )\n\u001b[0;32m--> 311\u001b[0m \u001b[38;5;28;01mreturn\u001b[39;00m \u001b[43mfunc\u001b[49m\u001b[43m(\u001b[49m\u001b[38;5;241;43m*\u001b[39;49m\u001b[43margs\u001b[49m\u001b[43m,\u001b[49m\u001b[43m \u001b[49m\u001b[38;5;241;43m*\u001b[39;49m\u001b[38;5;241;43m*\u001b[39;49m\u001b[43mkwargs\u001b[49m\u001b[43m)\u001b[49m\n",
      "File \u001b[0;32m~/opt/anaconda3/envs/CDC/lib/python3.9/site-packages/pandas/io/parsers/readers.py:680\u001b[0m, in \u001b[0;36mread_csv\u001b[0;34m(filepath_or_buffer, sep, delimiter, header, names, index_col, usecols, squeeze, prefix, mangle_dupe_cols, dtype, engine, converters, true_values, false_values, skipinitialspace, skiprows, skipfooter, nrows, na_values, keep_default_na, na_filter, verbose, skip_blank_lines, parse_dates, infer_datetime_format, keep_date_col, date_parser, dayfirst, cache_dates, iterator, chunksize, compression, thousands, decimal, lineterminator, quotechar, quoting, doublequote, escapechar, comment, encoding, encoding_errors, dialect, error_bad_lines, warn_bad_lines, on_bad_lines, delim_whitespace, low_memory, memory_map, float_precision, storage_options)\u001b[0m\n\u001b[1;32m    665\u001b[0m kwds_defaults \u001b[38;5;241m=\u001b[39m _refine_defaults_read(\n\u001b[1;32m    666\u001b[0m     dialect,\n\u001b[1;32m    667\u001b[0m     delimiter,\n\u001b[0;32m   (...)\u001b[0m\n\u001b[1;32m    676\u001b[0m     defaults\u001b[38;5;241m=\u001b[39m{\u001b[38;5;124m\"\u001b[39m\u001b[38;5;124mdelimiter\u001b[39m\u001b[38;5;124m\"\u001b[39m: \u001b[38;5;124m\"\u001b[39m\u001b[38;5;124m,\u001b[39m\u001b[38;5;124m\"\u001b[39m},\n\u001b[1;32m    677\u001b[0m )\n\u001b[1;32m    678\u001b[0m kwds\u001b[38;5;241m.\u001b[39mupdate(kwds_defaults)\n\u001b[0;32m--> 680\u001b[0m \u001b[38;5;28;01mreturn\u001b[39;00m \u001b[43m_read\u001b[49m\u001b[43m(\u001b[49m\u001b[43mfilepath_or_buffer\u001b[49m\u001b[43m,\u001b[49m\u001b[43m \u001b[49m\u001b[43mkwds\u001b[49m\u001b[43m)\u001b[49m\n",
      "File \u001b[0;32m~/opt/anaconda3/envs/CDC/lib/python3.9/site-packages/pandas/io/parsers/readers.py:575\u001b[0m, in \u001b[0;36m_read\u001b[0;34m(filepath_or_buffer, kwds)\u001b[0m\n\u001b[1;32m    572\u001b[0m _validate_names(kwds\u001b[38;5;241m.\u001b[39mget(\u001b[38;5;124m\"\u001b[39m\u001b[38;5;124mnames\u001b[39m\u001b[38;5;124m\"\u001b[39m, \u001b[38;5;28;01mNone\u001b[39;00m))\n\u001b[1;32m    574\u001b[0m \u001b[38;5;66;03m# Create the parser.\u001b[39;00m\n\u001b[0;32m--> 575\u001b[0m parser \u001b[38;5;241m=\u001b[39m \u001b[43mTextFileReader\u001b[49m\u001b[43m(\u001b[49m\u001b[43mfilepath_or_buffer\u001b[49m\u001b[43m,\u001b[49m\u001b[43m \u001b[49m\u001b[38;5;241;43m*\u001b[39;49m\u001b[38;5;241;43m*\u001b[39;49m\u001b[43mkwds\u001b[49m\u001b[43m)\u001b[49m\n\u001b[1;32m    577\u001b[0m \u001b[38;5;28;01mif\u001b[39;00m chunksize \u001b[38;5;129;01mor\u001b[39;00m iterator:\n\u001b[1;32m    578\u001b[0m     \u001b[38;5;28;01mreturn\u001b[39;00m parser\n",
      "File \u001b[0;32m~/opt/anaconda3/envs/CDC/lib/python3.9/site-packages/pandas/io/parsers/readers.py:933\u001b[0m, in \u001b[0;36mTextFileReader.__init__\u001b[0;34m(self, f, engine, **kwds)\u001b[0m\n\u001b[1;32m    930\u001b[0m     \u001b[38;5;28mself\u001b[39m\u001b[38;5;241m.\u001b[39moptions[\u001b[38;5;124m\"\u001b[39m\u001b[38;5;124mhas_index_names\u001b[39m\u001b[38;5;124m\"\u001b[39m] \u001b[38;5;241m=\u001b[39m kwds[\u001b[38;5;124m\"\u001b[39m\u001b[38;5;124mhas_index_names\u001b[39m\u001b[38;5;124m\"\u001b[39m]\n\u001b[1;32m    932\u001b[0m \u001b[38;5;28mself\u001b[39m\u001b[38;5;241m.\u001b[39mhandles: IOHandles \u001b[38;5;241m|\u001b[39m \u001b[38;5;28;01mNone\u001b[39;00m \u001b[38;5;241m=\u001b[39m \u001b[38;5;28;01mNone\u001b[39;00m\n\u001b[0;32m--> 933\u001b[0m \u001b[38;5;28mself\u001b[39m\u001b[38;5;241m.\u001b[39m_engine \u001b[38;5;241m=\u001b[39m \u001b[38;5;28;43mself\u001b[39;49m\u001b[38;5;241;43m.\u001b[39;49m\u001b[43m_make_engine\u001b[49m\u001b[43m(\u001b[49m\u001b[43mf\u001b[49m\u001b[43m,\u001b[49m\u001b[43m \u001b[49m\u001b[38;5;28;43mself\u001b[39;49m\u001b[38;5;241;43m.\u001b[39;49m\u001b[43mengine\u001b[49m\u001b[43m)\u001b[49m\n",
      "File \u001b[0;32m~/opt/anaconda3/envs/CDC/lib/python3.9/site-packages/pandas/io/parsers/readers.py:1217\u001b[0m, in \u001b[0;36mTextFileReader._make_engine\u001b[0;34m(self, f, engine)\u001b[0m\n\u001b[1;32m   1213\u001b[0m     mode \u001b[38;5;241m=\u001b[39m \u001b[38;5;124m\"\u001b[39m\u001b[38;5;124mrb\u001b[39m\u001b[38;5;124m\"\u001b[39m\n\u001b[1;32m   1214\u001b[0m \u001b[38;5;66;03m# error: No overload variant of \"get_handle\" matches argument types\u001b[39;00m\n\u001b[1;32m   1215\u001b[0m \u001b[38;5;66;03m# \"Union[str, PathLike[str], ReadCsvBuffer[bytes], ReadCsvBuffer[str]]\"\u001b[39;00m\n\u001b[1;32m   1216\u001b[0m \u001b[38;5;66;03m# , \"str\", \"bool\", \"Any\", \"Any\", \"Any\", \"Any\", \"Any\"\u001b[39;00m\n\u001b[0;32m-> 1217\u001b[0m \u001b[38;5;28mself\u001b[39m\u001b[38;5;241m.\u001b[39mhandles \u001b[38;5;241m=\u001b[39m \u001b[43mget_handle\u001b[49m\u001b[43m(\u001b[49m\u001b[43m  \u001b[49m\u001b[38;5;66;43;03m# type: ignore[call-overload]\u001b[39;49;00m\n\u001b[1;32m   1218\u001b[0m \u001b[43m    \u001b[49m\u001b[43mf\u001b[49m\u001b[43m,\u001b[49m\n\u001b[1;32m   1219\u001b[0m \u001b[43m    \u001b[49m\u001b[43mmode\u001b[49m\u001b[43m,\u001b[49m\n\u001b[1;32m   1220\u001b[0m \u001b[43m    \u001b[49m\u001b[43mencoding\u001b[49m\u001b[38;5;241;43m=\u001b[39;49m\u001b[38;5;28;43mself\u001b[39;49m\u001b[38;5;241;43m.\u001b[39;49m\u001b[43moptions\u001b[49m\u001b[38;5;241;43m.\u001b[39;49m\u001b[43mget\u001b[49m\u001b[43m(\u001b[49m\u001b[38;5;124;43m\"\u001b[39;49m\u001b[38;5;124;43mencoding\u001b[39;49m\u001b[38;5;124;43m\"\u001b[39;49m\u001b[43m,\u001b[49m\u001b[43m \u001b[49m\u001b[38;5;28;43;01mNone\u001b[39;49;00m\u001b[43m)\u001b[49m\u001b[43m,\u001b[49m\n\u001b[1;32m   1221\u001b[0m \u001b[43m    \u001b[49m\u001b[43mcompression\u001b[49m\u001b[38;5;241;43m=\u001b[39;49m\u001b[38;5;28;43mself\u001b[39;49m\u001b[38;5;241;43m.\u001b[39;49m\u001b[43moptions\u001b[49m\u001b[38;5;241;43m.\u001b[39;49m\u001b[43mget\u001b[49m\u001b[43m(\u001b[49m\u001b[38;5;124;43m\"\u001b[39;49m\u001b[38;5;124;43mcompression\u001b[39;49m\u001b[38;5;124;43m\"\u001b[39;49m\u001b[43m,\u001b[49m\u001b[43m \u001b[49m\u001b[38;5;28;43;01mNone\u001b[39;49;00m\u001b[43m)\u001b[49m\u001b[43m,\u001b[49m\n\u001b[1;32m   1222\u001b[0m \u001b[43m    \u001b[49m\u001b[43mmemory_map\u001b[49m\u001b[38;5;241;43m=\u001b[39;49m\u001b[38;5;28;43mself\u001b[39;49m\u001b[38;5;241;43m.\u001b[39;49m\u001b[43moptions\u001b[49m\u001b[38;5;241;43m.\u001b[39;49m\u001b[43mget\u001b[49m\u001b[43m(\u001b[49m\u001b[38;5;124;43m\"\u001b[39;49m\u001b[38;5;124;43mmemory_map\u001b[39;49m\u001b[38;5;124;43m\"\u001b[39;49m\u001b[43m,\u001b[49m\u001b[43m \u001b[49m\u001b[38;5;28;43;01mFalse\u001b[39;49;00m\u001b[43m)\u001b[49m\u001b[43m,\u001b[49m\n\u001b[1;32m   1223\u001b[0m \u001b[43m    \u001b[49m\u001b[43mis_text\u001b[49m\u001b[38;5;241;43m=\u001b[39;49m\u001b[43mis_text\u001b[49m\u001b[43m,\u001b[49m\n\u001b[1;32m   1224\u001b[0m \u001b[43m    \u001b[49m\u001b[43merrors\u001b[49m\u001b[38;5;241;43m=\u001b[39;49m\u001b[38;5;28;43mself\u001b[39;49m\u001b[38;5;241;43m.\u001b[39;49m\u001b[43moptions\u001b[49m\u001b[38;5;241;43m.\u001b[39;49m\u001b[43mget\u001b[49m\u001b[43m(\u001b[49m\u001b[38;5;124;43m\"\u001b[39;49m\u001b[38;5;124;43mencoding_errors\u001b[39;49m\u001b[38;5;124;43m\"\u001b[39;49m\u001b[43m,\u001b[49m\u001b[43m \u001b[49m\u001b[38;5;124;43m\"\u001b[39;49m\u001b[38;5;124;43mstrict\u001b[39;49m\u001b[38;5;124;43m\"\u001b[39;49m\u001b[43m)\u001b[49m\u001b[43m,\u001b[49m\n\u001b[1;32m   1225\u001b[0m \u001b[43m    \u001b[49m\u001b[43mstorage_options\u001b[49m\u001b[38;5;241;43m=\u001b[39;49m\u001b[38;5;28;43mself\u001b[39;49m\u001b[38;5;241;43m.\u001b[39;49m\u001b[43moptions\u001b[49m\u001b[38;5;241;43m.\u001b[39;49m\u001b[43mget\u001b[49m\u001b[43m(\u001b[49m\u001b[38;5;124;43m\"\u001b[39;49m\u001b[38;5;124;43mstorage_options\u001b[39;49m\u001b[38;5;124;43m\"\u001b[39;49m\u001b[43m,\u001b[49m\u001b[43m \u001b[49m\u001b[38;5;28;43;01mNone\u001b[39;49;00m\u001b[43m)\u001b[49m\u001b[43m,\u001b[49m\n\u001b[1;32m   1226\u001b[0m \u001b[43m\u001b[49m\u001b[43m)\u001b[49m\n\u001b[1;32m   1227\u001b[0m \u001b[38;5;28;01massert\u001b[39;00m \u001b[38;5;28mself\u001b[39m\u001b[38;5;241m.\u001b[39mhandles \u001b[38;5;129;01mis\u001b[39;00m \u001b[38;5;129;01mnot\u001b[39;00m \u001b[38;5;28;01mNone\u001b[39;00m\n\u001b[1;32m   1228\u001b[0m f \u001b[38;5;241m=\u001b[39m \u001b[38;5;28mself\u001b[39m\u001b[38;5;241m.\u001b[39mhandles\u001b[38;5;241m.\u001b[39mhandle\n",
      "File \u001b[0;32m~/opt/anaconda3/envs/CDC/lib/python3.9/site-packages/pandas/io/common.py:789\u001b[0m, in \u001b[0;36mget_handle\u001b[0;34m(path_or_buf, mode, encoding, compression, memory_map, is_text, errors, storage_options)\u001b[0m\n\u001b[1;32m    784\u001b[0m \u001b[38;5;28;01melif\u001b[39;00m \u001b[38;5;28misinstance\u001b[39m(handle, \u001b[38;5;28mstr\u001b[39m):\n\u001b[1;32m    785\u001b[0m     \u001b[38;5;66;03m# Check whether the filename is to be opened in binary mode.\u001b[39;00m\n\u001b[1;32m    786\u001b[0m     \u001b[38;5;66;03m# Binary mode does not support 'encoding' and 'newline'.\u001b[39;00m\n\u001b[1;32m    787\u001b[0m     \u001b[38;5;28;01mif\u001b[39;00m ioargs\u001b[38;5;241m.\u001b[39mencoding \u001b[38;5;129;01mand\u001b[39;00m \u001b[38;5;124m\"\u001b[39m\u001b[38;5;124mb\u001b[39m\u001b[38;5;124m\"\u001b[39m \u001b[38;5;129;01mnot\u001b[39;00m \u001b[38;5;129;01min\u001b[39;00m ioargs\u001b[38;5;241m.\u001b[39mmode:\n\u001b[1;32m    788\u001b[0m         \u001b[38;5;66;03m# Encoding\u001b[39;00m\n\u001b[0;32m--> 789\u001b[0m         handle \u001b[38;5;241m=\u001b[39m \u001b[38;5;28;43mopen\u001b[39;49m\u001b[43m(\u001b[49m\n\u001b[1;32m    790\u001b[0m \u001b[43m            \u001b[49m\u001b[43mhandle\u001b[49m\u001b[43m,\u001b[49m\n\u001b[1;32m    791\u001b[0m \u001b[43m            \u001b[49m\u001b[43mioargs\u001b[49m\u001b[38;5;241;43m.\u001b[39;49m\u001b[43mmode\u001b[49m\u001b[43m,\u001b[49m\n\u001b[1;32m    792\u001b[0m \u001b[43m            \u001b[49m\u001b[43mencoding\u001b[49m\u001b[38;5;241;43m=\u001b[39;49m\u001b[43mioargs\u001b[49m\u001b[38;5;241;43m.\u001b[39;49m\u001b[43mencoding\u001b[49m\u001b[43m,\u001b[49m\n\u001b[1;32m    793\u001b[0m \u001b[43m            \u001b[49m\u001b[43merrors\u001b[49m\u001b[38;5;241;43m=\u001b[39;49m\u001b[43merrors\u001b[49m\u001b[43m,\u001b[49m\n\u001b[1;32m    794\u001b[0m \u001b[43m            \u001b[49m\u001b[43mnewline\u001b[49m\u001b[38;5;241;43m=\u001b[39;49m\u001b[38;5;124;43m\"\u001b[39;49m\u001b[38;5;124;43m\"\u001b[39;49m\u001b[43m,\u001b[49m\n\u001b[1;32m    795\u001b[0m \u001b[43m        \u001b[49m\u001b[43m)\u001b[49m\n\u001b[1;32m    796\u001b[0m     \u001b[38;5;28;01melse\u001b[39;00m:\n\u001b[1;32m    797\u001b[0m         \u001b[38;5;66;03m# Binary mode\u001b[39;00m\n\u001b[1;32m    798\u001b[0m         handle \u001b[38;5;241m=\u001b[39m \u001b[38;5;28mopen\u001b[39m(handle, ioargs\u001b[38;5;241m.\u001b[39mmode)\n",
      "\u001b[0;31mFileNotFoundError\u001b[0m: [Errno 2] No such file or directory: '/Users/jimcody/Documents/2021Python/Plotly-Dash/data/us-map-data.csv'"
     ]
    }
   ],
   "source": [
    "states = pd.read_csv('/Users/jimcody/Documents/2021Python/Plotly-Dash/data/us-map-data.csv')"
   ]
  },
  {
   "cell_type": "code",
   "execution_count": null,
   "id": "d787dcfb",
   "metadata": {},
   "outputs": [],
   "source": [
    "states.shape"
   ]
  },
  {
   "cell_type": "code",
   "execution_count": null,
   "id": "ba525c6d",
   "metadata": {},
   "outputs": [],
   "source": [
    "states.info()"
   ]
  },
  {
   "cell_type": "code",
   "execution_count": null,
   "id": "ba3ff06f",
   "metadata": {},
   "outputs": [],
   "source": [
    "states.head()"
   ]
  },
  {
   "cell_type": "code",
   "execution_count": null,
   "id": "5c4a9c28",
   "metadata": {},
   "outputs": [],
   "source": [
    "v3 = pd.merge(v2,states, left_on = 'location', right_on = 'Abbreviation', )\n",
    "v3 = v3.drop(columns = ['Abbreviation', 'Code'])"
   ]
  },
  {
   "cell_type": "code",
   "execution_count": null,
   "id": "45ef22a4",
   "metadata": {},
   "outputs": [],
   "source": [
    "v3.head()"
   ]
  },
  {
   "cell_type": "code",
   "execution_count": null,
   "id": "26582609",
   "metadata": {},
   "outputs": [],
   "source": [
    "sns.displot(data=v3, x=\"distributed\", hue=\"Region\", col=\"location\", kind = 'ecdf', col_wrap = 5)"
   ]
  },
  {
   "cell_type": "markdown",
   "id": "34d13b69",
   "metadata": {},
   "source": [
    "# Create a summary table"
   ]
  },
  {
   "cell_type": "code",
   "execution_count": null,
   "id": "921c5f69",
   "metadata": {},
   "outputs": [],
   "source": [
    "vac_summary = v3.groupby(['Region','location']).sum().reset_index()\n",
    "vac_summary.shape"
   ]
  },
  {
   "cell_type": "code",
   "execution_count": null,
   "id": "420f1cc8",
   "metadata": {},
   "outputs": [],
   "source": [
    "vac_summary.head()"
   ]
  },
  {
   "cell_type": "markdown",
   "id": "59f1ce17",
   "metadata": {},
   "source": [
    "# Use plotly express"
   ]
  },
  {
   "cell_type": "markdown",
   "id": "641bca14",
   "metadata": {},
   "source": [
    "## Bar chart"
   ]
  },
  {
   "cell_type": "code",
   "execution_count": null,
   "id": "7365f8b2",
   "metadata": {},
   "outputs": [],
   "source": [
    "\n",
    "fig = px.bar(vac_summary, x='location', y='distributed', color = 'Region')\n",
    "fig.show()\n",
    "\n",
    "# Provides some built-in interaction.  \n",
    "# plots each individual row(oberservation).  No aggregation is occurring."
   ]
  },
  {
   "cell_type": "markdown",
   "id": "102dd985",
   "metadata": {},
   "source": []
  },
  {
   "cell_type": "code",
   "execution_count": null,
   "id": "e767da72",
   "metadata": {},
   "outputs": [],
   "source": []
  },
  {
   "cell_type": "code",
   "execution_count": null,
   "id": "9b5e59a0",
   "metadata": {},
   "outputs": [],
   "source": []
  },
  {
   "cell_type": "code",
   "execution_count": null,
   "id": "1989a767",
   "metadata": {},
   "outputs": [],
   "source": [
    "# Exercise 1\n",
    "# Use the plotly documentation to create a pie chart. \n",
    "\n",
    "\n",
    "# First line is not needed\n",
    "#import plotly.express as px\n",
    "df = px.data.gapminder().query(\"year == 2007\").query(\"continent == 'Europe'\")\n",
    "df.loc[df['pop'] < 2.e6, 'country'] = 'Other countries' # Represent only large countries\n",
    "fig = px.pie(df, values='pop', names='country', title='Population of European continent')\n",
    "fig.show()"
   ]
  },
  {
   "cell_type": "markdown",
   "id": "11e6830a",
   "metadata": {},
   "source": [
    "# Use the high level interface\n",
    "\n",
    "https://plotly.com/python-api-reference/plotly.express.html\n",
    "\n",
    "For when we want to ad more attributes than is in the sample code."
   ]
  },
  {
   "cell_type": "code",
   "execution_count": null,
   "id": "a5543998",
   "metadata": {},
   "outputs": [],
   "source": [
    "gm.head()"
   ]
  },
  {
   "cell_type": "code",
   "execution_count": null,
   "id": "ae05046b",
   "metadata": {},
   "outputs": [],
   "source": [
    "# Adding additional attributes\n",
    "\n",
    "data_canada = px.data.gapminder().query(\"country == 'Canada'\")\n",
    "fig = px.bar(data_canada, x='year', y='pop', color = 'year', title = 'Canada/s Population 1950 - 2007')\n",
    "fig.show()"
   ]
  },
  {
   "cell_type": "markdown",
   "id": "8f457972",
   "metadata": {},
   "source": [
    "# Adding More Details\n",
    "Working with plotly graph objects\n",
    "\n",
    "https://plotly.com/python/reference/index/\n",
    "\n",
    "Traces > Update Traces   Traces represents the data that goes inside the layout\n",
    "\n",
    "Layout > Update Layout   Layout represents the charts > ticks, hover, legend"
   ]
  },
  {
   "cell_type": "code",
   "execution_count": null,
   "id": "4809f3ba",
   "metadata": {},
   "outputs": [],
   "source": []
  },
  {
   "cell_type": "code",
   "execution_count": null,
   "id": "13cd8b57",
   "metadata": {},
   "outputs": [],
   "source": []
  },
  {
   "cell_type": "code",
   "execution_count": null,
   "id": "7c1722a7",
   "metadata": {},
   "outputs": [],
   "source": []
  },
  {
   "cell_type": "code",
   "execution_count": null,
   "id": "1d7dec7f",
   "metadata": {},
   "outputs": [],
   "source": []
  },
  {
   "cell_type": "markdown",
   "id": "5afe10df",
   "metadata": {},
   "source": [
    "# DO NOT GO PAST HERE!!!!!"
   ]
  },
  {
   "cell_type": "code",
   "execution_count": null,
   "id": "4f7cfcf9",
   "metadata": {},
   "outputs": [],
   "source": [
    "nums = ['distributed', \n",
    "       'dist_per_100k',\n",
    "       'distributed_per_100k_12plus', \n",
    "       'distributed_per_100k_18plus',\n",
    "       'distributed_per_100k_65plus', \n",
    "       'administered', \n",
    "       'administered_12plus',\n",
    "       'administered_18plus', \n",
    "       'administered_65plus', \n",
    "       'admin_per_100k_12plus',\n",
    "       'admin_per_100k_18plus', \n",
    "       'admin_per_100k_65plus', \n",
    "       'recip_administered',\n",
    "       'administered_dose1_recip', \n",
    "       'administered_dose1_recip_1', \n",
    "       'administered_dose1_recip_2',\n",
    "       'administered_dose1_recip_3', \n",
    "       'administered_dose1_recip_4',\n",
    "       'administered_dose1_recip_5', \n",
    "       'administered_dose1_recip_6',\n",
    "       'series_complete_yes', \n",
    "       'series_complete_12plus', \n",
    "       'series_complete_18plus', \n",
    "       'series_complete_65plus', \n",
    "       'additional_doses', \n",
    "       'additional_doses_18plus', \n",
    "       'additional_doses_50plus', \n",
    "       'additional_doses_65plus']"
   ]
  },
  {
   "cell_type": "code",
   "execution_count": null,
   "id": "233eadb7",
   "metadata": {},
   "outputs": [],
   "source": [
    "flts = ['administered_dose1_pop_pct',\n",
    "       'series_complete_pop_pct',\n",
    "       'series_complete_12pluspop',\n",
    "       'series_complete_18pluspop',\n",
    "       'series_complete_65pluspop',\n",
    "       'additional_doses_vax_pct',\n",
    "       'additional_doses_18plus_vax_pct',\n",
    "       'additional_doses_50plus_vax_pct',\n",
    "       'additional_doses_65plus_vax_pct']"
   ]
  }
 ],
 "metadata": {
  "kernelspec": {
   "display_name": "Python 3 (ipykernel)",
   "language": "python",
   "name": "python3"
  },
  "language_info": {
   "codemirror_mode": {
    "name": "ipython",
    "version": 3
   },
   "file_extension": ".py",
   "mimetype": "text/x-python",
   "name": "python",
   "nbconvert_exporter": "python",
   "pygments_lexer": "ipython3",
   "version": "3.9.13"
  },
  "toc": {
   "base_numbering": 1,
   "nav_menu": {},
   "number_sections": true,
   "sideBar": false,
   "skip_h1_title": false,
   "title_cell": "Table of Contents",
   "title_sidebar": "",
   "toc_cell": true,
   "toc_position": {
    "height": "calc(100% - 180px)",
    "left": "10px",
    "top": "150px",
    "width": "165px"
   },
   "toc_section_display": false,
   "toc_window_display": false
  },
  "varInspector": {
   "cols": {
    "lenName": 16,
    "lenType": 16,
    "lenVar": 40
   },
   "kernels_config": {
    "python": {
     "delete_cmd_postfix": "",
     "delete_cmd_prefix": "del ",
     "library": "var_list.py",
     "varRefreshCmd": "print(var_dic_list())"
    },
    "r": {
     "delete_cmd_postfix": ") ",
     "delete_cmd_prefix": "rm(",
     "library": "var_list.r",
     "varRefreshCmd": "cat(var_dic_list()) "
    }
   },
   "types_to_exclude": [
    "module",
    "function",
    "builtin_function_or_method",
    "instance",
    "_Feature"
   ],
   "window_display": false
  }
 },
 "nbformat": 4,
 "nbformat_minor": 5
}
