{
 "cells": [
  {
   "cell_type": "markdown",
   "id": "d5d4a972",
   "metadata": {
    "toc": true
   },
   "source": [
    "<h1>Table of Contents<span class=\"tocSkip\"></span></h1>\n",
    "<div class=\"toc\"><ul class=\"toc-item\"></ul></div>"
   ]
  },
  {
   "cell_type": "code",
   "execution_count": 1,
   "id": "929f5265",
   "metadata": {},
   "outputs": [
    {
     "data": {
      "text/html": [
       "\n",
       "        <iframe\n",
       "            width=\"100%\"\n",
       "            height=\"650\"\n",
       "            src=\"http://127.0.0.1:8050/\"\n",
       "            frameborder=\"0\"\n",
       "            allowfullscreen\n",
       "        ></iframe>\n",
       "        "
      ],
      "text/plain": [
       "<IPython.lib.display.IFrame at 0x7f97f31cb490>"
      ]
     },
     "metadata": {},
     "output_type": "display_data"
    }
   ],
   "source": [
    "# Uses a slider to control the year of the chart\n",
    "from jupyter_dash import JupyterDash  \n",
    "from dash.dependencies import Output, Input\n",
    "from dash import no_update\n",
    "from dash import dcc\n",
    "from dash import html                       \n",
    "\n",
    "import pandas as pd \n",
    "import plotly.graph_objects as go\n",
    "import plotly.express as px\n",
    "\n",
    "\n",
    "diabetes = pd.read_csv('https://bitbucket.org/jimcody/sampledata/raw/b2aa6df015816ec35afc482b53df1b7ca7a31f80/diabetes_for_plotly.csv')\n",
    "diabetes['gender'] = diabetes['gender'].replace({'M':'Male', 'Mle':'Male', 'F':'Female', \n",
    "                                                 'female':'Female', 'male':'Male', \n",
    "                                                 '?':'Female', 'Unknown/Invalid':'Female'})\n",
    "\n",
    "# The following group by statements will run before I reduce the number of rows in diabetes\n",
    "d_gender = diabetes.groupby('gender').sum().reset_index()\n",
    "d_month = diabetes.groupby(['year','month']).sum().reset_index()\n",
    "d_month = d_month.sort_values(['year','month'])\n",
    "\n",
    "# Reduce the number of rows\n",
    "#diabetes = diabetes[(diabetes['diabetesMed'] == 'No') & (diabetes['year'] == 2021) & \n",
    "#                    (diabetes['admission_type_id'] == 1)]\n",
    "# This leaves 4292 rows to process\n",
    "\n",
    "\n",
    "#fig1 = px.scatter(diabetes, x=diabetes.num_lab_procedures, \n",
    "#                 y=diabetes.num_medications, \n",
    "#                 size = diabetes.time_in_hospital,\n",
    "#                 color = diabetes.gender,\n",
    "#                 hover_data = ['age'])\n",
    "#fig1.show()\n",
    "\n",
    "\n",
    "#fig3 = px.bar(d_gender, x='gender', y=['num_lab_procedures', 'num_procedures'], barmode = 'group')\n",
    "#fig3.show()\n",
    "\n",
    "#fig4 = go.Figure(\n",
    "#    data=[go.Bar(name = 'labs', x=d_gender.gender, y = d_gender.num_lab_procedures),\n",
    "#        go.Bar(name = 'non labs', x=d_gender.gender, y = d_gender.num_procedures)],\n",
    "#    layout=go.Layout(\n",
    "#        title=go.layout.Title(text=\"A Figure Specified By A Graph Object\")\n",
    "#    )\n",
    "#)\n",
    "#fig4.show()\n",
    "\n",
    "fig5 = px.line(d_month,x='month', y='num_medications')\n",
    "#fig5.show()\n",
    "\n",
    "####### Build the App. ##################\n",
    "app = JupyterDash(__name__) \n",
    "\n",
    "app.layout = html.Div([\n",
    "    dcc.Graph(id='x', figure = fig5),\n",
    "    dcc.Slider(\n",
    "        id='year-slider',\n",
    "        min=d_month['year'].min(),\n",
    "        max=d_month['year'].max(),\n",
    "        value=d_month['year'].min(),\n",
    "        marks={str(year): str(year) for year in d_month['year'].unique()},\n",
    "        step=None\n",
    "    )\n",
    "])\n",
    "@app.callback(\n",
    "    Output('x', 'figure'),\n",
    "    Input('year-slider', 'value'))\n",
    "\n",
    "def update_figure(selected_year):\n",
    "    d_year = d_month[d_month.year == selected_year]\n",
    "    \n",
    "    fig5 = px.line(d_year,x='month', y='num_medications')\n",
    "\n",
    "\n",
    "    fig5.update_layout(transition_duration=500)\n",
    "\n",
    "    return fig5\n",
    "\n",
    "app.run_server(mode='inline')"
   ]
  },
  {
   "cell_type": "code",
   "execution_count": 4,
   "id": "9c144671",
   "metadata": {},
   "outputs": [
    {
     "data": {
      "text/html": [
       "\n",
       "        <iframe\n",
       "            width=\"100%\"\n",
       "            height=\"650\"\n",
       "            src=\"http://127.0.0.1:8050/\"\n",
       "            frameborder=\"0\"\n",
       "            allowfullscreen\n",
       "        ></iframe>\n",
       "        "
      ],
      "text/plain": [
       "<IPython.lib.display.IFrame at 0x7fe480d770a0>"
      ]
     },
     "metadata": {},
     "output_type": "display_data"
    }
   ],
   "source": [
    "# Uses a dropdown list to control the year of the chart\n",
    "from jupyter_dash import JupyterDash  \n",
    "from dash.dependencies import Output, Input\n",
    "from dash import no_update\n",
    "from dash import dcc\n",
    "from dash import html                       \n",
    "\n",
    "import pandas as pd \n",
    "import plotly.graph_objects as go\n",
    "import plotly.express as px\n",
    "\n",
    "diabetes = pd.read_csv('https://bitbucket.org/jimcody/sampledata/raw/b2aa6df015816ec35afc482b53df1b7ca7a31f80/diabetes_for_plotly.csv')\n",
    "diabetes['gender'] = diabetes['gender'].replace({'M':'Male', 'Mle':'Male', 'F':'Female', \n",
    "                                                 'female':'Female', 'male':'Male', \n",
    "                                                 '?':'Female', 'Unknown/Invalid':'Female'})\n",
    "\n",
    "d_month = diabetes.groupby(['year','month']).sum().reset_index()\n",
    "d_month = d_month.sort_values(['year','month'])\n",
    "\n",
    "fig5 = px.line(d_month,x='month', y='num_medications')\n",
    "\n",
    "####### Build the App. ##################\n",
    "app = JupyterDash(__name__) \n",
    "\n",
    "app.layout = html.Div([\n",
    "    dcc.Dropdown(id='dropdown', \n",
    "                 options=[\n",
    "                {'label': i, 'value': i} for i in d_month.year.unique()\n",
    "                ],  value=2019,\n",
    "                    clearable=False,placeholder='Filter by year...'),\n",
    "    dcc.Graph(id='x', figure = fig5)\n",
    "])\n",
    "\n",
    "\n",
    "@app.callback(\n",
    "    Output('x', 'figure'),\n",
    "    Input('dropdown', 'value'))\n",
    "\n",
    "def update_figure(selected_year):\n",
    "    d_month2 = d_month[d_month.year == selected_year]\n",
    "    \n",
    "    fig5 = px.line(d_month2,x='month', y='num_medications')\n",
    "\n",
    "\n",
    "    fig5.update_layout(transition_duration=100)\n",
    "\n",
    "    return fig5\n",
    "\n",
    "app.run_server(mode='inline')"
   ]
  },
  {
   "cell_type": "code",
   "execution_count": null,
   "id": "5b6a26ab",
   "metadata": {},
   "outputs": [],
   "source": []
  }
 ],
 "metadata": {
  "kernelspec": {
   "display_name": "Python 3 (ipykernel)",
   "language": "python",
   "name": "python3"
  },
  "language_info": {
   "codemirror_mode": {
    "name": "ipython",
    "version": 3
   },
   "file_extension": ".py",
   "mimetype": "text/x-python",
   "name": "python",
   "nbconvert_exporter": "python",
   "pygments_lexer": "ipython3",
   "version": "3.9.13"
  },
  "toc": {
   "base_numbering": 1,
   "nav_menu": {},
   "number_sections": true,
   "sideBar": true,
   "skip_h1_title": false,
   "title_cell": "Table of Contents",
   "title_sidebar": "Contents",
   "toc_cell": true,
   "toc_position": {
    "height": "calc(100% - 180px)",
    "left": "10px",
    "top": "150px",
    "width": "165px"
   },
   "toc_section_display": true,
   "toc_window_display": true
  },
  "varInspector": {
   "cols": {
    "lenName": 16,
    "lenType": 16,
    "lenVar": 40
   },
   "kernels_config": {
    "python": {
     "delete_cmd_postfix": "",
     "delete_cmd_prefix": "del ",
     "library": "var_list.py",
     "varRefreshCmd": "print(var_dic_list())"
    },
    "r": {
     "delete_cmd_postfix": ") ",
     "delete_cmd_prefix": "rm(",
     "library": "var_list.r",
     "varRefreshCmd": "cat(var_dic_list()) "
    }
   },
   "types_to_exclude": [
    "module",
    "function",
    "builtin_function_or_method",
    "instance",
    "_Feature"
   ],
   "window_display": false
  }
 },
 "nbformat": 4,
 "nbformat_minor": 5
}
