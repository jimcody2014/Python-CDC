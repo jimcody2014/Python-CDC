{
 "cells": [
  {
   "cell_type": "code",
   "execution_count": null,
   "id": "2da767a7",
   "metadata": {},
   "outputs": [],
   "source": [
    "# Uses a dropdown list to control the year of the chart\n",
    "from jupyter_dash import JupyterDash  \n",
    "from dash.dependencies import Output, Input\n",
    "from dash import no_update\n",
    "from dash import dcc\n",
    "from dash import html                       \n",
    "\n",
    "import pandas as pd \n",
    "import plotly.graph_objects as go\n",
    "import plotly.express as px\n",
    "\n",
    "diabetes = pd.read_csv('https://bitbucket.org/jimcody/sampledata/raw/b2aa6df015816ec35afc482b53df1b7ca7a31f80/diabetes_for_plotly.csv')\n",
    "diabetes['gender'] = diabetes['gender'].replace({'M':'Male', 'Mle':'Male', 'F':'Female', \n",
    "                                                 'female':'Female', 'male':'Male', \n",
    "                                                 '?':'Female', 'Unknown/Invalid':'Female'})\n",
    "\n"
   ]
  },
  {
   "cell_type": "code",
   "execution_count": null,
   "id": "489a251d",
   "metadata": {},
   "outputs": [],
   "source": [
    "diabetes.columns\n"
   ]
  },
  {
   "cell_type": "code",
   "execution_count": null,
   "id": "72fc377d",
   "metadata": {},
   "outputs": [],
   "source": [
    "diabetes = diabetes.drop('encounter_id',axis=1)\n",
    "diabetes = diabetes.drop('patient_nbr',axis=1)\n",
    "diabetes['admission_type_id'] = diabetes.admission_type_id.astype(str)\n",
    "diabetes['discharge_disposition_id'] = diabetes.discharge_disposition_id.astype(str)"
   ]
  },
  {
   "cell_type": "code",
   "execution_count": null,
   "id": "8e273fc7",
   "metadata": {},
   "outputs": [],
   "source": [
    "d_month = diabetes.groupby(['year','month','admission_type_id','discharge_disposition_id']).sum().reset_index()\n",
    "d_month = d_month.sort_values(['year','month'])"
   ]
  },
  {
   "cell_type": "code",
   "execution_count": null,
   "id": "865d154b",
   "metadata": {},
   "outputs": [],
   "source": [
    "d_month.head()"
   ]
  },
  {
   "cell_type": "code",
   "execution_count": null,
   "id": "892efd66",
   "metadata": {},
   "outputs": [],
   "source": [
    "d_month.shape"
   ]
  },
  {
   "cell_type": "markdown",
   "id": "5efa4592",
   "metadata": {},
   "source": [
    "# Add dashboard code below"
   ]
  },
  {
   "cell_type": "markdown",
   "id": "44b94a45",
   "metadata": {},
   "source": [
    "# Dash Exercise 1 - 20 minutes\n",
    "\n",
    "- Use the Diabetes Analysis Dashboard notebook.\n",
    "- Add a new cell that will contain all of the dashboard code.\n",
    "- Add dashboard code to show a scatterplot (use the model created the Dashboard Walkthrough notebook).\n",
    "- Can you add two more of your created graphs?"
   ]
  },
  {
   "cell_type": "code",
   "execution_count": null,
   "id": "9c86492e",
   "metadata": {},
   "outputs": [],
   "source": []
  }
 ],
 "metadata": {
  "kernelspec": {
   "display_name": "Python 3 (ipykernel)",
   "language": "python",
   "name": "python3"
  },
  "language_info": {
   "codemirror_mode": {
    "name": "ipython",
    "version": 3
   },
   "file_extension": ".py",
   "mimetype": "text/x-python",
   "name": "python",
   "nbconvert_exporter": "python",
   "pygments_lexer": "ipython3",
   "version": "3.9.12"
  },
  "varInspector": {
   "cols": {
    "lenName": 16,
    "lenType": 16,
    "lenVar": 40
   },
   "kernels_config": {
    "python": {
     "delete_cmd_postfix": "",
     "delete_cmd_prefix": "del ",
     "library": "var_list.py",
     "varRefreshCmd": "print(var_dic_list())"
    },
    "r": {
     "delete_cmd_postfix": ") ",
     "delete_cmd_prefix": "rm(",
     "library": "var_list.r",
     "varRefreshCmd": "cat(var_dic_list()) "
    }
   },
   "types_to_exclude": [
    "module",
    "function",
    "builtin_function_or_method",
    "instance",
    "_Feature"
   ],
   "window_display": false
  }
 },
 "nbformat": 4,
 "nbformat_minor": 5
}
