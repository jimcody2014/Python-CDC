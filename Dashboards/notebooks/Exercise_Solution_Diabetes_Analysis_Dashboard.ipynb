{
 "cells": [
  {
   "cell_type": "markdown",
   "id": "5ceddf4e",
   "metadata": {
    "toc": true
   },
   "source": [
    "<h1>Topics<span class=\"tocSkip\"></span></h1>\n",
    "<div class=\"toc\"><ul class=\"toc-item\"></ul></div>"
   ]
  },
  {
   "cell_type": "code",
   "execution_count": null,
   "id": "2da767a7",
   "metadata": {
    "id": "2da767a7"
   },
   "outputs": [],
   "source": [
    "import pandas as pd \n",
    "import plotly.express as px\n",
    "\n",
    "# Read in the data\n",
    "diabetes = pd.read_csv('https://bitbucket.org/jimcody/sampledata/raw/b2aa6df015816ec35afc482b53df1b7ca7a31f80/diabetes_for_plotly.csv')\n",
    "\n",
    "# Clean up the data\n",
    "diabetes['gender'] = diabetes['gender'].replace({'M':'Male', 'Mle':'Male', 'F':'Female', \n",
    "                                                 'female':'Female', 'male':'Male', \n",
    "                                                 '?':'Female', 'Unknown/Invalid':'Female'})\n",
    "\n",
    "diabetes = diabetes.drop('encounter_id',axis=1)\n",
    "diabetes = diabetes.drop('patient_nbr',axis=1)\n",
    "diabetes['admission_type_id'] = diabetes.admission_type_id.astype(str)\n",
    "diabetes['discharge_disposition_id'] = diabetes.discharge_disposition_id.astype(str)\n",
    "\n",
    "#Create an aggregated dataset (dataframe)\n",
    "dm = diabetes.groupby(['year','month','gender','admission_type_id','discharge_disposition_id']).sum().reset_index()\n",
    "dm = dm.sort_values(['year','month'])\n",
    "#d_month.head()"
   ]
  },
  {
   "cell_type": "code",
   "execution_count": null,
   "id": "d6a545bd",
   "metadata": {},
   "outputs": [],
   "source": [
    "dm.info()"
   ]
  },
  {
   "cell_type": "markdown",
   "id": "5efa4592",
   "metadata": {
    "id": "5efa4592"
   },
   "source": [
    "# Add dashboard code below"
   ]
  },
  {
   "cell_type": "markdown",
   "id": "44b94a45",
   "metadata": {
    "id": "44b94a45"
   },
   "source": [
    "# Dash Exercise 1 - 20 minutes\n",
    "\n",
    "- Use the dm dataframe.  This has the raw diabetes data aggregated\n",
    "- In the cell below, add all of your dashboard code.\n",
    "- The dashboard should include a scatterplot of num_procedures vs num_lab_procedures.\n",
    "- Add two more plots of any style."
   ]
  },
  {
   "cell_type": "code",
   "execution_count": null,
   "id": "15895cd3",
   "metadata": {},
   "outputs": [],
   "source": [
    "#!pip install jupyter_dash"
   ]
  },
  {
   "cell_type": "code",
   "execution_count": null,
   "id": "c0f1d201",
   "metadata": {},
   "outputs": [],
   "source": [
    "from jupyter_dash import JupyterDash  \n",
    "from dash.dependencies import Output, Input\n",
    "from dash import no_update\n",
    "from dash import dcc\n",
    "from dash import html"
   ]
  },
  {
   "cell_type": "markdown",
   "id": "2ff2bbb5",
   "metadata": {},
   "source": [
    "# Adding a Radio Item"
   ]
  },
  {
   "cell_type": "code",
   "execution_count": null,
   "id": "9f70dd94",
   "metadata": {},
   "outputs": [],
   "source": [
    "labs = px.scatter(dm, \n",
    "                  x='num_lab_procedures', \n",
    "                  y='num_procedures',\n",
    "                  size='num_medications', \n",
    "                  color='month', \n",
    "                  hover_name='month')\n",
    "\n",
    "time = px.bar(dm, x=\"month\", y=\"time_in_hospital\")\n",
    "admin = px.bar(dm, x=\"admission_type_id\", y=\"num_lab_procedures\")\n",
    "\n",
    "app = JupyterDash(__name__) \n",
    "\n",
    "# Add dcc.Graph code here\n",
    "app.layout = html.Div([\n",
    "    \n",
    "    html.Div([dcc.Graph(id='x', figure=labs )]),\n",
    "    'Admin Type: ',\n",
    "    html.Div([dcc.RadioItems(id='s-year',\n",
    "                             options=[2019,2020,2021], \n",
    "                             value=2019)])\n",
    "])\n",
    "\n",
    "#app.run_server(mode='inline')\n",
    "app.run_server(mode='external', port = 8074)"
   ]
  },
  {
   "cell_type": "markdown",
   "id": "bc071998",
   "metadata": {
    "id": "wo26-1eyflr8"
   },
   "source": [
    "# Adding the callback & reusable component"
   ]
  },
  {
   "cell_type": "code",
   "execution_count": 103,
   "id": "3bc6612c",
   "metadata": {},
   "outputs": [
    {
     "name": "stdout",
     "output_type": "stream",
     "text": [
      "Dash app running on http://127.0.0.1:8073/\n"
     ]
    }
   ],
   "source": [
    "labs = px.scatter(dm, \n",
    "                  x='num_lab_procedures', \n",
    "                  y='num_procedures',\n",
    "                  size='num_medications', \n",
    "                  color='month', \n",
    "                  hover_name='month')\n",
    "\n",
    "app = JupyterDash(__name__) \n",
    "\n",
    "app.layout = html.Div([\n",
    "    \n",
    "    dcc.Graph(id='fig1'),\n",
    "    'Select a Year:  ',\n",
    "    html.P(),\n",
    "    dcc.RadioItems(id='year-s', options=[2019,2020,2021], value=2019)  ])\n",
    "\n",
    "@app.callback(\n",
    "    Output('fig1','figure'),               \n",
    "    Input('year-s','value'))\n",
    "\n",
    "def update_figure(xyz):\n",
    "    filtered_df = dm[dm.year == xyz]\n",
    "\n",
    "    labs = px.scatter(filtered_df, \n",
    "                     x='num_lab_procedures', \n",
    "                     y='num_procedures')\n",
    "\n",
    "    labs.update_layout(transition_duration=500)\n",
    "\n",
    "    return labs\n",
    "    \n",
    "#app.run_server(mode='inline')\n",
    "app.run_server(mode='external', port = 8073)"
   ]
  },
  {
   "cell_type": "code",
   "execution_count": null,
   "id": "a7c16842",
   "metadata": {},
   "outputs": [],
   "source": [
    "# Output & Input are the arguements of the callback decorator.\n",
    "# properties of a particular component\n",
    "# Our input is the \"value\" property of the component that has the ID 'admintype'. \n",
    "# Our output is the \"children\" property of the component with the ID 'x'.\n",
    "# There are only 2 keyword arguements - component_id and component_property.  Can be omitted."
   ]
  }
 ],
 "metadata": {
  "colab": {
   "name": "Copy of Exercise - Diabetes Analysis Dashboard.ipynb",
   "provenance": []
  },
  "kernelspec": {
   "display_name": "Python 3 (ipykernel)",
   "language": "python",
   "name": "python3"
  },
  "language_info": {
   "codemirror_mode": {
    "name": "ipython",
    "version": 3
   },
   "file_extension": ".py",
   "mimetype": "text/x-python",
   "name": "python",
   "nbconvert_exporter": "python",
   "pygments_lexer": "ipython3",
   "version": "3.9.12"
  },
  "toc": {
   "base_numbering": 1,
   "nav_menu": {},
   "number_sections": true,
   "sideBar": true,
   "skip_h1_title": true,
   "title_cell": "Topics",
   "title_sidebar": "Contents",
   "toc_cell": true,
   "toc_position": {},
   "toc_section_display": true,
   "toc_window_display": false
  },
  "varInspector": {
   "cols": {
    "lenName": 16,
    "lenType": 16,
    "lenVar": 40
   },
   "kernels_config": {
    "python": {
     "delete_cmd_postfix": "",
     "delete_cmd_prefix": "del ",
     "library": "var_list.py",
     "varRefreshCmd": "print(var_dic_list())"
    },
    "r": {
     "delete_cmd_postfix": ") ",
     "delete_cmd_prefix": "rm(",
     "library": "var_list.r",
     "varRefreshCmd": "cat(var_dic_list()) "
    }
   },
   "oldHeight": 467.844,
   "position": {
    "height": "489.844px",
    "left": "49px",
    "right": "20px",
    "top": "172px",
    "width": "800px"
   },
   "types_to_exclude": [
    "module",
    "function",
    "builtin_function_or_method",
    "instance",
    "_Feature"
   ],
   "varInspector_section_display": "block",
   "window_display": false
  }
 },
 "nbformat": 4,
 "nbformat_minor": 5
}
