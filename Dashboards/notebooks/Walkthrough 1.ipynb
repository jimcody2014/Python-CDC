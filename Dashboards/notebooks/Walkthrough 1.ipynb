{
 "cells": [
  {
   "cell_type": "markdown",
   "id": "e46d59a0",
   "metadata": {},
   "source": [
    "# Don't forget to run !pip install jupyter-dash first!!"
   ]
  },
  {
   "cell_type": "code",
   "execution_count": 1,
   "id": "5b31f121",
   "metadata": {},
   "outputs": [
    {
     "name": "stdout",
     "output_type": "stream",
     "text": [
      "Dash app running on http://127.0.0.1:8090/\n"
     ]
    }
   ],
   "source": [
    "# Uses a dropdown list to control the year of the chart\n",
    "from jupyter_dash import JupyterDash  \n",
    "from dash.dependencies import Output, Input\n",
    "from dash import no_update\n",
    "from dash import dcc\n",
    "from dash import html                       \n",
    "\n",
    "import pandas as pd \n",
    "import plotly.express as px\n",
    "\n",
    "diabetes = pd.read_csv('https://bitbucket.org/jimcody/sampledata/raw/b2aa6df015816ec35afc482b53df1b7ca7a31f80/diabetes_for_plotly.csv')\n",
    "d_month = diabetes.groupby(['year','month']).sum().reset_index()\n",
    "d_month = d_month.sort_values(['year','month'])\n",
    "\n",
    "fig5 = px.line(d_month,x='month', y='num_medications')\n",
    "\n",
    "####### Build the App. ##################\n",
    "app = JupyterDash(__name__) \n",
    "\n",
    "app.layout = html.Div([\n",
    "    \n",
    "    dcc.Graph(id='x', figure = fig5),   # Don't forget the comma\n",
    "    \n",
    "    dcc.Dropdown(id='dropdown', \n",
    "                 options=[\n",
    "                {'label': i, 'value': i} for i in d_month.year.unique()\n",
    "                ],  value=2019,\n",
    "                    clearable=False,placeholder='Filter by year...')\n",
    "    \n",
    "])\n",
    "\n",
    "\n",
    "@app.callback(\n",
    "   \n",
    "    Output('x', 'figure'),\n",
    "    Input('dropdown', 'value'))\n",
    "\n",
    "def update_figure(selected_year):\n",
    "    d_month2 = d_month[d_month.year == selected_year]\n",
    "    \n",
    "    fig5 = px.line(d_month2,x='month', y='num_medications')\n",
    "    fig5.update_layout(transition_duration=100)\n",
    "    return fig5\n",
    "\n",
    "#app.run_server(mode='inline')\n",
    "app.run_server(mode='external', port = 8090)"
   ]
  },
  {
   "cell_type": "code",
   "execution_count": null,
   "id": "b3b696d1",
   "metadata": {},
   "outputs": [],
   "source": [
    "# Step 1 - Get the data, group it and look at it"
   ]
  },
  {
   "cell_type": "code",
   "execution_count": null,
   "id": "5b004af8",
   "metadata": {},
   "outputs": [],
   "source": [
    "# Step 2 - In a new cell, Run pip install"
   ]
  },
  {
   "cell_type": "code",
   "execution_count": null,
   "id": "e51bb1e5",
   "metadata": {},
   "outputs": [],
   "source": [
    "# In a new cell do all the following steps\n",
    "\n",
    "# Step 3 - Add the imports\n",
    "\n",
    "# Step 4 - Get the data"
   ]
  },
  {
   "cell_type": "code",
   "execution_count": null,
   "id": "cd497eea",
   "metadata": {},
   "outputs": [],
   "source": [
    "\n",
    "# Step 5 - Copy and paste this code - the basic structure\n",
    "\n",
    "\n",
    "####### Build the App. ##################\n",
    "app = JupyterDash(__name__) \n",
    "\n",
    "\n",
    "app.run_server(mode='inline')"
   ]
  },
  {
   "cell_type": "code",
   "execution_count": null,
   "id": "361af45e",
   "metadata": {},
   "outputs": [],
   "source": [
    "ack()# Step 6 - Add app.layout & @app.callback\n",
    "\n",
    "app.layout = html.Div()\n",
    "\n",
    "@app.callback()"
   ]
  },
  {
   "cell_type": "code",
   "execution_count": null,
   "id": "2ce89983",
   "metadata": {},
   "outputs": [],
   "source": [
    "# Step 7 - Add the plot.  \n",
    "\n",
    "# Add this after the data\n",
    "\n",
    "fig5 = px.line(d_month,x='month', y='num_medications')\n",
    "\n",
    "\n",
    "# Drop this inside the html.Div\n",
    "dcc.Graph(id='x', figure = fig5)"
   ]
  },
  {
   "cell_type": "code",
   "execution_count": null,
   "id": "a639a1ff",
   "metadata": {},
   "outputs": [],
   "source": [
    "# Step 8 - Build the dropdown"
   ]
  },
  {
   "cell_type": "code",
   "execution_count": null,
   "id": "b696863d",
   "metadata": {},
   "outputs": [],
   "source": [
    "# Step 9 - Add the callback"
   ]
  },
  {
   "cell_type": "code",
   "execution_count": null,
   "id": "ddfd8f6a",
   "metadata": {},
   "outputs": [],
   "source": [
    "# Step 10 - add user defined function to link the callback"
   ]
  }
 ],
 "metadata": {
  "kernelspec": {
   "display_name": "Python 3 (ipykernel)",
   "language": "python",
   "name": "python3"
  },
  "language_info": {
   "codemirror_mode": {
    "name": "ipython",
    "version": 3
   },
   "file_extension": ".py",
   "mimetype": "text/x-python",
   "name": "python",
   "nbconvert_exporter": "python",
   "pygments_lexer": "ipython3",
   "version": "3.9.12"
  },
  "varInspector": {
   "cols": {
    "lenName": 16,
    "lenType": 16,
    "lenVar": 40
   },
   "kernels_config": {
    "python": {
     "delete_cmd_postfix": "",
     "delete_cmd_prefix": "del ",
     "library": "var_list.py",
     "varRefreshCmd": "print(var_dic_list())"
    },
    "r": {
     "delete_cmd_postfix": ") ",
     "delete_cmd_prefix": "rm(",
     "library": "var_list.r",
     "varRefreshCmd": "cat(var_dic_list()) "
    }
   },
   "types_to_exclude": [
    "module",
    "function",
    "builtin_function_or_method",
    "instance",
    "_Feature"
   ],
   "window_display": false
  }
 },
 "nbformat": 4,
 "nbformat_minor": 5
}
