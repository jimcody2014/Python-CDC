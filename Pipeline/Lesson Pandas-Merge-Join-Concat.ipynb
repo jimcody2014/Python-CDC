{
 "cells": [
  {
   "cell_type": "markdown",
   "id": "7a99f59c",
   "metadata": {
    "toc": true
   },
   "source": [
    "<h1>Table of Contents<span class=\"tocSkip\"></span></h1>\n",
    "<div class=\"toc\"><ul class=\"toc-item\"><li><span><a href=\"#Merge\" data-toc-modified-id=\"Merge-1\"><span class=\"toc-item-num\">1&nbsp;&nbsp;</span>Merge</a></span><ul class=\"toc-item\"><li><span><a href=\"#Making-the-'table'-wider-(i.e.,-adding-columns-from.-a-second-source)\" data-toc-modified-id=\"Making-the-'table'-wider-(i.e.,-adding-columns-from.-a-second-source)-1.1\"><span class=\"toc-item-num\">1.1&nbsp;&nbsp;</span>Making the 'table' wider (i.e., adding columns from. a second source)</a></span><ul class=\"toc-item\"><li><span><a href=\"#Basic-merge---uses-the-index\" data-toc-modified-id=\"Basic-merge---uses-the-index-1.1.1\"><span class=\"toc-item-num\">1.1.1&nbsp;&nbsp;</span>Basic merge - uses the index</a></span></li><li><span><a href=\"#Specifying-columns-to-use-for-the-merge\" data-toc-modified-id=\"Specifying-columns-to-use-for-the-merge-1.1.2\"><span class=\"toc-item-num\">1.1.2&nbsp;&nbsp;</span>Specifying columns to use for the merge</a></span></li><li><span><a href=\"#Column-names-not-the-same\" data-toc-modified-id=\"Column-names-not-the-same-1.1.3\"><span class=\"toc-item-num\">1.1.3&nbsp;&nbsp;</span>Column names not the same</a></span></li><li><span><a href=\"#Outer,-Left-&amp;-Right-join\" data-toc-modified-id=\"Outer,-Left-&amp;-Right-join-1.1.4\"><span class=\"toc-item-num\">1.1.4&nbsp;&nbsp;</span>Outer, Left &amp; Right join</a></span></li></ul></li></ul></li><li><span><a href=\"#Same-code-using-.join\" data-toc-modified-id=\"Same-code-using-.join-2\"><span class=\"toc-item-num\">2&nbsp;&nbsp;</span>Same code using .join</a></span><ul class=\"toc-item\"><li><span><a href=\"#Append-(aka-union)\" data-toc-modified-id=\"Append-(aka-union)-2.1\"><span class=\"toc-item-num\">2.1&nbsp;&nbsp;</span>Append (aka union)</a></span></li><li><span><a href=\"#Concatenate\" data-toc-modified-id=\"Concatenate-2.2\"><span class=\"toc-item-num\">2.2&nbsp;&nbsp;</span>Concatenate</a></span><ul class=\"toc-item\"><li><ul class=\"toc-item\"><li><span><a href=\"#Concat-can-work-along-either-axis\" data-toc-modified-id=\"Concat-can-work-along-either-axis-2.2.0.1\"><span class=\"toc-item-num\">2.2.0.1&nbsp;&nbsp;</span>Concat can work along either axis</a></span></li></ul></li></ul></li></ul></li></ul></div>"
   ]
  },
  {
   "cell_type": "markdown",
   "id": "4ca99763",
   "metadata": {},
   "source": [
    "<div style=\"page-break-after: always; break-after: page;\"></div>\n"
   ]
  },
  {
   "cell_type": "code",
   "execution_count": null,
   "id": "35a074bc",
   "metadata": {},
   "outputs": [],
   "source": [
    "import pandas as pd"
   ]
  },
  {
   "cell_type": "markdown",
   "id": "5555f9de",
   "metadata": {},
   "source": [
    "# Merge\n",
    "\n",
    "## Making the 'table' wider (i.e., adding columns from. a second source)"
   ]
  },
  {
   "cell_type": "markdown",
   "id": "bddb6502",
   "metadata": {},
   "source": [
    "- merge() for combining data on common columns or indices\n",
    "- .join() for combining data on a key column or an index (uses merge internally, faster because index is used)\n",
    "- concat() for combining DataFrames across rows or columns"
   ]
  },
  {
   "cell_type": "markdown",
   "id": "53e72f3c",
   "metadata": {},
   "source": [
    "More info: https://pandas.pydata.org/pandas-docs/stable/user_guide/merging.html#brief-primer-on-merge-methods-relational-algebra\n"
   ]
  },
  {
   "cell_type": "code",
   "execution_count": null,
   "id": "bf3be68e",
   "metadata": {},
   "outputs": [],
   "source": [
    "df1 = {\n",
    "    'location':['bolton','berlin','boyleston','charlton'],\n",
    "    'apples': [3, 2, 0, 1], \n",
    "    'pears': [0, 3, 7, 2]\n",
    "}\n",
    "\n",
    "df2 = {\n",
    "    'location':['bolton','berlin','boyleston','charlton'],\n",
    "    'blueberries': [3, 2, 0, 1], \n",
    "    'strawberries': [0, 3, 7, 2]\n",
    "}\n",
    "\n",
    "d1 = pd.DataFrame(df1)\n",
    "d2 = pd.DataFrame(df2)\n",
    "print(d1)\n",
    "print(' ')\n",
    "print(d2)"
   ]
  },
  {
   "cell_type": "markdown",
   "id": "2f67429b",
   "metadata": {},
   "source": [
    "### Basic merge - uses the index"
   ]
  },
  {
   "cell_type": "code",
   "execution_count": null,
   "id": "44955c29",
   "metadata": {},
   "outputs": [],
   "source": [
    "\n",
    "pd.merge(d1,d2,how = 'inner')  # Inner, outer, left, right\n",
    "# When not being explicit, the merge is based on the index for each dataframe."
   ]
  },
  {
   "cell_type": "markdown",
   "id": "0d5b4d24",
   "metadata": {},
   "source": [
    "### Specifying columns to use for the merge"
   ]
  },
  {
   "cell_type": "code",
   "execution_count": null,
   "id": "e03c051d",
   "metadata": {},
   "outputs": [],
   "source": [
    "df3 = {\n",
    "    'state':['MA','MA','VT','VT'],\n",
    "    'location':['bolton','berlin','boyleston','berlin'],\n",
    "    'apples': [3, 2, 0, 1], \n",
    "    'pears': [0, 3, 7, 2]\n",
    "}\n",
    "\n",
    "df4 = {\n",
    "    'state':['MA','MA','VT','VT'],\n",
    "    'location':['bolton','berlin','boyleston','berlin'],\n",
    "    'blueberries': [3, 2, 0, 1], \n",
    "    'strawberries': [0, 3, 7, 2]\n",
    "}\n",
    "\n",
    "d3 = pd.DataFrame(df3)\n",
    "d4 = pd.DataFrame(df4)"
   ]
  },
  {
   "cell_type": "code",
   "execution_count": null,
   "id": "2223c25f",
   "metadata": {},
   "outputs": [],
   "source": [
    "multi = pd.merge(d3,d4, how = 'inner', on = ['state','location'])\n",
    "multi"
   ]
  },
  {
   "cell_type": "markdown",
   "id": "a9fac022",
   "metadata": {},
   "source": [
    "### Column names not the same"
   ]
  },
  {
   "cell_type": "code",
   "execution_count": null,
   "id": "3aa1e4ba",
   "metadata": {},
   "outputs": [],
   "source": [
    "df5 = {\n",
    "    'state':['MA','MA','VT','VT'],\n",
    "    'location':['bolton','berlin','boyleston','berlin'],\n",
    "    'apples': [3, 2, 0, 1], \n",
    "    'pears': [0, 3, 7, 2]\n",
    "}\n",
    "\n",
    "df6 = {\n",
    "    'states':['MA','MA','VT','VT'],\n",
    "    'loc':['bolton','berlin','boyleston','berlin'],\n",
    "    'blueberries': [3, 2, 0, 1], \n",
    "    'strawberries': [0, 3, 7, 2]\n",
    "}\n",
    "\n",
    "d5 = pd.DataFrame(df5)\n",
    "d6 = pd.DataFrame(df6)"
   ]
  },
  {
   "cell_type": "code",
   "execution_count": null,
   "id": "e0a61a35",
   "metadata": {},
   "outputs": [],
   "source": [
    "# Use left_on, right_on instead of on.\n",
    "\n",
    "pd.merge(d5, d6, left_on = ['state','location'], right_on = ['states','loc'])\n",
    "\n",
    "# Would it be better or easier to just rename the columns?"
   ]
  },
  {
   "cell_type": "markdown",
   "id": "a847ef9a",
   "metadata": {},
   "source": [
    "### Outer, Left & Right join"
   ]
  },
  {
   "cell_type": "code",
   "execution_count": null,
   "id": "98764c37",
   "metadata": {},
   "outputs": [],
   "source": [
    "# Data for d7 and d8 does not 'line up' cleanly\n",
    "\n",
    "df7 = {\n",
    "    'state':['MA','MA','VT','NH'],\n",
    "    'location':['bolton','berlin','boyleston','berlin'],\n",
    "    'apples': [3, 2, 0, 1], \n",
    "    'pears': [0, 3, 7, 2]\n",
    "}\n",
    "\n",
    "df8 = {\n",
    "    'state':['MA','MA','VT','ME'],\n",
    "    'location':['bolton','berlin','boyleston','berlin'],\n",
    "    'blueberries': [3, 2, 0, 1], \n",
    "    'strawberries': [0, 3, 7, 2]\n",
    "}\n",
    "\n",
    "d7 = pd.DataFrame(df7)\n",
    "d8 = pd.DataFrame(df8)"
   ]
  },
  {
   "cell_type": "code",
   "execution_count": null,
   "id": "34957a7c",
   "metadata": {},
   "outputs": [],
   "source": [
    "# Outer join\n",
    "outer = pd.merge(d7,d8, how = 'outer', on = ['state','location'])\n",
    "outer"
   ]
  },
  {
   "cell_type": "code",
   "execution_count": null,
   "id": "2289ebe9",
   "metadata": {},
   "outputs": [],
   "source": [
    "# Left join\n",
    "left = pd.merge(d7,d8, how = 'left', on = ['state','location'])\n",
    "left\n",
    "\n",
    "# Notice the Nan values"
   ]
  },
  {
   "cell_type": "code",
   "execution_count": null,
   "id": "fad0adea",
   "metadata": {},
   "outputs": [],
   "source": [
    "# Right join\n",
    "right = pd.merge(d7,d8, how = 'right', on = ['state','location'])\n",
    "right"
   ]
  },
  {
   "cell_type": "markdown",
   "id": "2b25ebd7",
   "metadata": {},
   "source": [
    "# Same code using .join"
   ]
  },
  {
   "cell_type": "code",
   "execution_count": null,
   "id": "f3abd1c5",
   "metadata": {},
   "outputs": [],
   "source": [
    "# basic syntax - first_dataframe.join(to second dataframe)\n",
    "d1.join(d2, lsuffix = '_1')\n",
    "\n",
    "# d1.join(d2, lsuffix = '_1', rsuffix = '_2')\n",
    "\n",
    "\n",
    "# If you want to use join() and want to merge the columns, you must set them to be indexes first. \n",
    "\n",
    "d1.join(d2.set_index('location'), on='location', lsuffix = '_1', rsuffix = '_2')\n",
    "\n",
    "\n",
    "d3.join(d4.set_index(['state','location']), on=['state','location'], lsuffix='_3')\n"
   ]
  },
  {
   "cell_type": "code",
   "execution_count": null,
   "id": "dbf0ab2b",
   "metadata": {},
   "outputs": [],
   "source": [
    "# Outer join\n",
    "\n",
    "d7.join(d8.set_index(['state','location']), on=['state','location'], lsuffix='_3',how= 'outer')"
   ]
  },
  {
   "cell_type": "code",
   "execution_count": null,
   "id": "d035474d",
   "metadata": {},
   "outputs": [],
   "source": [
    "# Left join\n",
    "\n",
    "d7.join(d8.set_index(['state','location']), on=['state','location'], lsuffix='_3',how= 'left')"
   ]
  },
  {
   "cell_type": "code",
   "execution_count": null,
   "id": "d33520ad",
   "metadata": {},
   "outputs": [],
   "source": [
    "# Right join\n",
    "\n",
    "d7.join(d8.set_index(['state','location']), on=['state','location'], lsuffix='_3',how= 'right')"
   ]
  },
  {
   "cell_type": "markdown",
   "id": "9d38106f",
   "metadata": {},
   "source": [
    "## Append (aka union)\n",
    "\n",
    "Stack datasets on top of one another"
   ]
  },
  {
   "cell_type": "code",
   "execution_count": null,
   "id": "1e97aaad",
   "metadata": {},
   "outputs": [],
   "source": [
    "df9 = {\n",
    "    'month':['Oct','Oct','Oct','Oct'],\n",
    "    'location':['bolton','berlin','boyleston','charlton'],\n",
    "    'apples': [3, 2, 0, 1], \n",
    "    'pears': [0, 3, 7, 2]\n",
    "}\n",
    "\n",
    "df10 = {\n",
    "    'month':['Nov','Nov','Nov','Nov'],\n",
    "    'location':['bolton','berlin','boyleston','charlton'],\n",
    "    'apples': [3, 2, 0, 1], \n",
    "    'pears': [0, 3, 7, 2]\n",
    "}\n",
    "\n",
    "d9 = pd.DataFrame(df9)\n",
    "d10 = pd.DataFrame(df10)"
   ]
  },
  {
   "cell_type": "code",
   "execution_count": null,
   "id": "6f435781",
   "metadata": {},
   "outputs": [],
   "source": [
    "d9.append(d10)"
   ]
  },
  {
   "cell_type": "markdown",
   "id": "96397f6d",
   "metadata": {},
   "source": [
    "## Concatenate\n",
    "\n",
    "With concatenation, your datasets are just stitched together along an axis — either the row axis or column axis"
   ]
  },
  {
   "cell_type": "code",
   "execution_count": null,
   "id": "bcc8dceb",
   "metadata": {},
   "outputs": [],
   "source": [
    "pd.concat([d9,d10])  # Need to pass in a *list* of dataframes"
   ]
  },
  {
   "cell_type": "markdown",
   "id": "4ed22380",
   "metadata": {},
   "source": [
    "#### Concat can work along either axis"
   ]
  },
  {
   "cell_type": "code",
   "execution_count": null,
   "id": "8a360f4c",
   "metadata": {},
   "outputs": [],
   "source": [
    "pd.concat([d9,d10], axis = 1)"
   ]
  },
  {
   "cell_type": "code",
   "execution_count": null,
   "id": "5d13db4a",
   "metadata": {},
   "outputs": [],
   "source": [
    "pd.concat([d7,d8], axis = 1)  # Be careful! (Look at Berlin output NH & ME)"
   ]
  },
  {
   "cell_type": "code",
   "execution_count": null,
   "id": "dd9285a1",
   "metadata": {},
   "outputs": [],
   "source": [
    "pd.concat([d7,d8], join = 'inner', axis =1)"
   ]
  }
 ],
 "metadata": {
  "kernelspec": {
   "display_name": "Python 3 (ipykernel)",
   "language": "python",
   "name": "python3"
  },
  "language_info": {
   "codemirror_mode": {
    "name": "ipython",
    "version": 3
   },
   "file_extension": ".py",
   "mimetype": "text/x-python",
   "name": "python",
   "nbconvert_exporter": "python",
   "pygments_lexer": "ipython3",
   "version": "3.8.2"
  },
  "toc": {
   "base_numbering": 1,
   "nav_menu": {},
   "number_sections": true,
   "sideBar": true,
   "skip_h1_title": false,
   "title_cell": "Table of Contents",
   "title_sidebar": "Contents",
   "toc_cell": true,
   "toc_position": {
    "height": "calc(100% - 180px)",
    "left": "10px",
    "top": "150px",
    "width": "300.8px"
   },
   "toc_section_display": true,
   "toc_window_display": true
  }
 },
 "nbformat": 4,
 "nbformat_minor": 5
}
