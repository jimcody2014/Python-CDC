{
 "cells": [
  {
   "cell_type": "markdown",
   "id": "c92e9fe3",
   "metadata": {
    "toc": true
   },
   "source": [
    "<h1>Table of Contents<span class=\"tocSkip\"></span></h1>\n",
    "<div class=\"toc\"><ul class=\"toc-item\"><li><span><a href=\"#Using-lambda-functions\" data-toc-modified-id=\"Using-lambda-functions-1\"><span class=\"toc-item-num\">1&nbsp;&nbsp;</span>Using lambda functions</a></span></li></ul></div>"
   ]
  },
  {
   "cell_type": "code",
   "execution_count": null,
   "id": "59b4637a",
   "metadata": {},
   "outputs": [],
   "source": [
    "import pandas as pd"
   ]
  },
  {
   "cell_type": "code",
   "execution_count": null,
   "id": "ff54dd1d",
   "metadata": {},
   "outputs": [],
   "source": [
    "url = 'https://bitbucket.org/jimcody/sampledata/raw/fb57313245ea48958efbb81a84f614bbdc765b33/acs2017.csv'\n",
    "acs = pd.read_csv(url)"
   ]
  },
  {
   "cell_type": "code",
   "execution_count": null,
   "id": "3d0d921a",
   "metadata": {},
   "outputs": [],
   "source": [
    "acs.columns= acs.columns.str.lower()\n",
    "acs_state = acs.groupby('state').agg({'totalpop':'sum','men':'sum',\n",
    "                                      'women':'sum','income':'mean','poverty':'mean'}).reset_index()\n",
    "acs_state['income'] = acs_state['income'].round(2)\n",
    "acs_state['poverty'] = acs_state['poverty'].round(2)"
   ]
  },
  {
   "cell_type": "markdown",
   "id": "43287911",
   "metadata": {},
   "source": [
    "Function\n",
    "\n",
    "- as small as possible\n",
    "- output relies on input\n",
    "- no side effects\n",
    "- readable\n",
    "- testable\n",
    "- adds flexibility\n",
    "- makes application configurable"
   ]
  },
  {
   "cell_type": "code",
   "execution_count": null,
   "id": "f1f7736a",
   "metadata": {},
   "outputs": [],
   "source": [
    "# Basic form\n",
    "# def function_name(parameters):\n",
    "#     function block (what it does)\n",
    "#     return expression\n",
    "\n",
    "# Example\n",
    "\n",
    "def new_math(x,y):\n",
    "    z = x+y\n",
    "    return z\n",
    "    "
   ]
  },
  {
   "cell_type": "code",
   "execution_count": null,
   "id": "da9ac39c",
   "metadata": {},
   "outputs": [],
   "source": [
    "# To use the function\n",
    "print(new_math(5,7))"
   ]
  },
  {
   "cell_type": "code",
   "execution_count": null,
   "id": "be7b9a6d",
   "metadata": {},
   "outputs": [],
   "source": [
    "acs_state.columns"
   ]
  },
  {
   "cell_type": "code",
   "execution_count": null,
   "id": "dd9b96a7",
   "metadata": {},
   "outputs": [],
   "source": [
    "def pct_men(acs_state):\n",
    "    pct_m = acs_state.men/acs_state.women\n",
    "    return pct_m"
   ]
  },
  {
   "cell_type": "code",
   "execution_count": null,
   "id": "6ff0280a",
   "metadata": {},
   "outputs": [],
   "source": [
    "acs_state['new_column1'] = acs_state.apply(pct_men, axis = 1)\n",
    "acs_state.head()"
   ]
  },
  {
   "cell_type": "markdown",
   "id": "8ad84f53",
   "metadata": {},
   "source": [
    "## Using lambda functions"
   ]
  },
  {
   "cell_type": "code",
   "execution_count": null,
   "id": "5b24bf96",
   "metadata": {},
   "outputs": [],
   "source": [
    "# Basic form\n",
    "# lambda arguement(s):expression\n",
    "\n",
    "# Example\n",
    "\n",
    "acs_state['new_column2'] = acs_state['new_column1'].apply(lambda x: 'Male' if x >= 1 else 'Female')\n",
    "acs_state.head()"
   ]
  },
  {
   "cell_type": "code",
   "execution_count": null,
   "id": "bce887ed",
   "metadata": {},
   "outputs": [],
   "source": [
    "acs_state.head()"
   ]
  },
  {
   "cell_type": "code",
   "execution_count": null,
   "id": "ecd9aa5b",
   "metadata": {},
   "outputs": [],
   "source": [
    "acs_state['new_column1'] = acs_state['new_column1'].apply(lambda x: round(x,1))\n",
    "acs_state.head()"
   ]
  },
  {
   "cell_type": "code",
   "execution_count": null,
   "id": "785b08d1",
   "metadata": {},
   "outputs": [],
   "source": [
    "def majority(acs_state):\n",
    "    if acs_state['men']> acs_state['women']: val = 'Male'\n",
    "    else: val = 'Female'\n",
    "    return val"
   ]
  },
  {
   "cell_type": "code",
   "execution_count": null,
   "id": "fce0791f",
   "metadata": {},
   "outputs": [],
   "source": [
    "acs_state['gender_majority'] = acs_state.apply(majority, axis = 1)"
   ]
  },
  {
   "cell_type": "code",
   "execution_count": null,
   "id": "d818fc52",
   "metadata": {},
   "outputs": [],
   "source": []
  }
 ],
 "metadata": {
  "kernelspec": {
   "display_name": "Python 3 (ipykernel)",
   "language": "python",
   "name": "python3"
  },
  "language_info": {
   "codemirror_mode": {
    "name": "ipython",
    "version": 3
   },
   "file_extension": ".py",
   "mimetype": "text/x-python",
   "name": "python",
   "nbconvert_exporter": "python",
   "pygments_lexer": "ipython3",
   "version": "3.8.12"
  },
  "toc": {
   "base_numbering": 1,
   "nav_menu": {},
   "number_sections": true,
   "sideBar": true,
   "skip_h1_title": false,
   "title_cell": "Table of Contents",
   "title_sidebar": "Contents",
   "toc_cell": true,
   "toc_position": {},
   "toc_section_display": true,
   "toc_window_display": true
  },
  "varInspector": {
   "cols": {
    "lenName": 16,
    "lenType": 16,
    "lenVar": 40
   },
   "kernels_config": {
    "python": {
     "delete_cmd_postfix": "",
     "delete_cmd_prefix": "del ",
     "library": "var_list.py",
     "varRefreshCmd": "print(var_dic_list())"
    },
    "r": {
     "delete_cmd_postfix": ") ",
     "delete_cmd_prefix": "rm(",
     "library": "var_list.r",
     "varRefreshCmd": "cat(var_dic_list()) "
    }
   },
   "types_to_exclude": [
    "module",
    "function",
    "builtin_function_or_method",
    "instance",
    "_Feature"
   ],
   "window_display": false
  }
 },
 "nbformat": 4,
 "nbformat_minor": 5
}
