{
 "cells": [
  {
   "cell_type": "markdown",
   "id": "b73b5d02",
   "metadata": {
    "toc": true
   },
   "source": [
    "<h1>Table of Contents<span class=\"tocSkip\"></span></h1>\n",
    "<div class=\"toc\"><ul class=\"toc-item\"></ul></div>"
   ]
  },
  {
   "cell_type": "code",
   "execution_count": 4,
   "id": "236a876e",
   "metadata": {},
   "outputs": [],
   "source": [
    "import pandas as pd\n",
    "import numpy as np\n",
    "import requests\n",
    "from sodapy import Socrata\n",
    "\n",
    "########## NEW #################\n",
    "from dotenv import load_dotenv\n",
    "import os\n"
   ]
  },
  {
   "cell_type": "code",
   "execution_count": 5,
   "id": "795e1913",
   "metadata": {},
   "outputs": [],
   "source": [
    "MyAppToken = os.getenv('MyAppToken')\n",
    "Myusername = os.getenv('Myusername')\n",
    "Mypassword = os.getenv('Mypassword')\n",
    "cdc_api = 'unsk-b7fc'\n",
    "row_limit = 1000000"
   ]
  },
  {
   "cell_type": "code",
   "execution_count": 6,
   "id": "04432af1",
   "metadata": {},
   "outputs": [
    {
     "name": "stderr",
     "output_type": "stream",
     "text": [
      "WARNING:root:Requests made without an app_token will be subject to strict throttling limits.\n"
     ]
    },
    {
     "data": {
      "text/plain": [
       "(1000000, 32)"
      ]
     },
     "execution_count": 6,
     "metadata": {},
     "output_type": "execute_result"
    }
   ],
   "source": [
    "client = Socrata('data.cdc.gov',\n",
    "                  MyAppToken,\n",
    "                  username= Myusername,\n",
    "                  password= Mypassword)\n",
    "\n",
    "results = client.get(\"8xkx-amqh\", limit = row_limit)\n",
    "#results = client.get(cdc_api, limit = row_limit)\n",
    "vaccines99 = pd.DataFrame(results)\n",
    "vaccines99.shape"
   ]
  },
  {
   "cell_type": "code",
   "execution_count": 8,
   "id": "45e55c33",
   "metadata": {},
   "outputs": [],
   "source": [
    "x =MyAppToken\n",
    "x"
   ]
  },
  {
   "cell_type": "code",
   "execution_count": null,
   "id": "4597a6c9",
   "metadata": {},
   "outputs": [],
   "source": []
  }
 ],
 "metadata": {
  "kernelspec": {
   "display_name": "Python 3 (ipykernel)",
   "language": "python",
   "name": "python3"
  },
  "language_info": {
   "codemirror_mode": {
    "name": "ipython",
    "version": 3
   },
   "file_extension": ".py",
   "mimetype": "text/x-python",
   "name": "python",
   "nbconvert_exporter": "python",
   "pygments_lexer": "ipython3",
   "version": "3.8.2"
  },
  "toc": {
   "base_numbering": 1,
   "nav_menu": {},
   "number_sections": true,
   "sideBar": true,
   "skip_h1_title": false,
   "title_cell": "Table of Contents",
   "title_sidebar": "Contents",
   "toc_cell": true,
   "toc_position": {},
   "toc_section_display": true,
   "toc_window_display": true
  }
 },
 "nbformat": 4,
 "nbformat_minor": 5
}
