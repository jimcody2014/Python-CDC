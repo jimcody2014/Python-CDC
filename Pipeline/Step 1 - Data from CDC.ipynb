{
 "cells": [
  {
   "cell_type": "markdown",
   "id": "7972ee51",
   "metadata": {
    "toc": true
   },
   "source": [
    "<h1>Table of Contents<span class=\"tocSkip\"></span></h1>\n",
    "<div class=\"toc\"><ul class=\"toc-item\"><li><span><a href=\"#Read-data-from-CDC\" data-toc-modified-id=\"Read-data-from-CDC-1\"><span class=\"toc-item-num\">1&nbsp;&nbsp;</span>Read data from CDC</a></span></li><li><span><a href=\"#Create-a-2nd-df-to-manipulate\" data-toc-modified-id=\"Create-a-2nd-df-to-manipulate-2\"><span class=\"toc-item-num\">2&nbsp;&nbsp;</span>Create a 2nd df to manipulate</a></span><ul class=\"toc-item\"><li><span><a href=\"#Create-a-subset-based-on-date\" data-toc-modified-id=\"Create-a-subset-based-on-date-2.1\"><span class=\"toc-item-num\">2.1&nbsp;&nbsp;</span>Create a subset based on date</a></span></li></ul></li><li><span><a href=\"#Create-a-df-with-just-data-from-Delaware\" data-toc-modified-id=\"Create-a-df-with-just-data-from-Delaware-3\"><span class=\"toc-item-num\">3&nbsp;&nbsp;</span>Create a df with just data from Delaware</a></span></li><li><span><a href=\"#Create-a-df-that-contains-data-summarized-by-year-and-month\" data-toc-modified-id=\"Create-a-df-that-contains-data-summarized-by-year-and-month-4\"><span class=\"toc-item-num\">4&nbsp;&nbsp;</span>Create a df that contains data summarized by year and month</a></span><ul class=\"toc-item\"><li><ul class=\"toc-item\"><li><span><a href=\"#What-needs-to-change-if-we-want-to-the-same-for-v2DE-but-we-want-to-exclude-the-mean-and-include-dist_first,-dist_last?\" data-toc-modified-id=\"What-needs-to-change-if-we-want-to-the-same-for-v2DE-but-we-want-to-exclude-the-mean-and-include-dist_first,-dist_last?-4.0.1\"><span class=\"toc-item-num\">4.0.1&nbsp;&nbsp;</span>What needs to change if we want to the same for v2DE but we want to exclude the mean and include dist_first, dist_last?</a></span></li></ul></li></ul></li><li><span><a href=\"#Write-out-each-df-as-a-csv-file\" data-toc-modified-id=\"Write-out-each-df-as-a-csv-file-5\"><span class=\"toc-item-num\">5&nbsp;&nbsp;</span>Write out each df as a csv file</a></span></li></ul></div>"
   ]
  },
  {
   "cell_type": "code",
   "execution_count": null,
   "id": "7bd0de61",
   "metadata": {},
   "outputs": [],
   "source": [
    "from google.colab import drive\n",
    "drive.mount('/content/drive')"
   ]
  },
  {
   "cell_type": "markdown",
   "id": "09a7a1fc",
   "metadata": {},
   "source": [
    "# Read data from CDC"
   ]
  },
  {
   "cell_type": "code",
   "execution_count": 1,
   "id": "d923fd9c",
   "metadata": {},
   "outputs": [],
   "source": [
    "# Key data is hardcoded.\n",
    "\n",
    "import pandas as pd\n",
    "import numpy as np\n",
    "from datetime import datetime, timedelta\n",
    "import requests\n",
    "from sodapy import Socrata\n",
    "client = Socrata('data.cdc.gov',\n",
    "                  '',\n",
    "                  username='',\n",
    "                  password='')\n",
    "\n",
    "#results = client.get(\"8xkx-amqh\", limit = 100000)\n",
    "results = client.get(\"unsk-b7fc\", limit = 150000)\n",
    "vaccines = pd.DataFrame(results)\n",
    "\n",
    "# This is where the documentation is:\n",
    "# https://data.cdc.gov/Vaccinations/COVID-19-Vaccinations-in-the-United-States-Jurisdi/unsk-b7fc"
   ]
  },
  {
   "cell_type": "code",
   "execution_count": 2,
   "id": "13402416",
   "metadata": {},
   "outputs": [
    {
     "name": "stdout",
     "output_type": "stream",
     "text": [
      "Index(['date', 'mmwr_week', 'location', 'distributed', 'distributed_janssen',\n",
      "       'distributed_moderna', 'distributed_pfizer', 'distributed_unk_manuf',\n",
      "       'dist_per_100k', 'distributed_per_100k_12plus',\n",
      "       'distributed_per_100k_18plus', 'distributed_per_100k_65plus',\n",
      "       'administered', 'administered_12plus', 'administered_18plus',\n",
      "       'administered_65plus', 'administered_janssen', 'administered_moderna',\n",
      "       'administered_pfizer', 'administered_unk_manuf', 'admin_per_100k',\n",
      "       'admin_per_100k_12plus', 'admin_per_100k_18plus',\n",
      "       'admin_per_100k_65plus', 'recip_administered',\n",
      "       'administered_dose1_recip', 'administered_dose1_pop_pct',\n",
      "       'administered_dose1_recip_1', 'administered_dose1_recip_2',\n",
      "       'administered_dose1_recip_3', 'administered_dose1_recip_4',\n",
      "       'administered_dose1_recip_5', 'administered_dose1_recip_6',\n",
      "       'series_complete_yes', 'series_complete_pop_pct',\n",
      "       'series_complete_12plus', 'series_complete_12pluspop',\n",
      "       'series_complete_18plus', 'series_complete_18pluspop',\n",
      "       'series_complete_65plus', 'series_complete_65pluspop',\n",
      "       'series_complete_janssen', 'series_complete_moderna',\n",
      "       'series_complete_pfizer', 'series_complete_unk_manuf',\n",
      "       'series_complete_janssen_12plus', 'series_complete_moderna_12plus',\n",
      "       'series_complete_pfizer_12plus', 'series_complete_unk_manuf_1',\n",
      "       'series_complete_janssen_18plus', 'series_complete_moderna_18plus',\n",
      "       'series_complete_pfizer_18plus', 'series_complete_unk_manuf_2',\n",
      "       'series_complete_janssen_65plus', 'series_complete_moderna_65plus',\n",
      "       'series_complete_pfizer_65plus', 'series_complete_unk_manuf_3',\n",
      "       'additional_doses', 'additional_doses_vax_pct',\n",
      "       'additional_doses_18plus', 'additional_doses_18plus_vax_pct',\n",
      "       'additional_doses_50plus', 'additional_doses_50plus_vax_pct',\n",
      "       'additional_doses_65plus', 'additional_doses_65plus_vax_pct',\n",
      "       'additional_doses_moderna', 'additional_doses_pfizer',\n",
      "       'additional_doses_janssen', 'additional_doses_unk_manuf'],\n",
      "      dtype='object')\n",
      "(21720, 69)\n"
     ]
    }
   ],
   "source": [
    "print(vaccines.columns)\n",
    "print(vaccines.shape)"
   ]
  },
  {
   "cell_type": "markdown",
   "id": "b0445531",
   "metadata": {},
   "source": [
    "# Create a 2nd df to manipulate"
   ]
  },
  {
   "cell_type": "markdown",
   "id": "e8926d69",
   "metadata": {},
   "source": [
    "## Create a subset based on date"
   ]
  },
  {
   "cell_type": "code",
   "execution_count": null,
   "id": "759b38b5",
   "metadata": {},
   "outputs": [],
   "source": [
    "v2 = vaccines[vaccines.date >= '2021-04-27']\n",
    "v2.shape\n",
    "\n",
    "# At this point, date is an object not a date"
   ]
  },
  {
   "cell_type": "code",
   "execution_count": null,
   "id": "97894326",
   "metadata": {},
   "outputs": [],
   "source": [
    "# Create a new dataframe with just the required columns\n",
    "# new=  old[['A', 'C', 'D']]\n",
    "v2 = vaccines[['date','mmwr_week','location','distributed','administered','distributed_janssen',\n",
    "    'distributed_moderna','distributed_pfizer', 'additional_doses','administered_12plus',\n",
    "               'administered_18plus','administered_65plus','series_complete_yes','series_complete_12plus',\n",
    "               'series_complete_18plus','series_complete_65plus']]"
   ]
  },
  {
   "cell_type": "code",
   "execution_count": null,
   "id": "7d506963",
   "metadata": {},
   "outputs": [],
   "source": [
    "v2.head()"
   ]
  },
  {
   "cell_type": "code",
   "execution_count": null,
   "id": "119edb9e",
   "metadata": {},
   "outputs": [],
   "source": [
    "v2.info()"
   ]
  },
  {
   "cell_type": "code",
   "execution_count": null,
   "id": "d6070738",
   "metadata": {},
   "outputs": [],
   "source": [
    "# Drop columns\n",
    "drop_columns = {'distributed_janssen',\n",
    "    'distributed_moderna', \n",
    "    'distributed_pfizer'}\n",
    "\n",
    "v2 = v2.drop(columns = drop_columns)"
   ]
  },
  {
   "cell_type": "code",
   "execution_count": null,
   "id": "037f28aa",
   "metadata": {},
   "outputs": [],
   "source": [
    "# Which columns have null values?\n",
    "\n",
    "v2.isnull().sum()"
   ]
  },
  {
   "cell_type": "code",
   "execution_count": null,
   "id": "811bda4f",
   "metadata": {},
   "outputs": [],
   "source": [
    "# Fill the Null values with zero\n",
    "\n",
    "v2['additional_doses'] = v2['additional_doses'].fillna(0)\n",
    "# Alternate code v2['additional_doses'].fillna(0, inplace = True)\n",
    "\n",
    "v2.isnull().sum()"
   ]
  },
  {
   "cell_type": "code",
   "execution_count": null,
   "id": "9f66b5de",
   "metadata": {},
   "outputs": [],
   "source": [
    "#. Change the datatypes\n",
    "\n",
    "v2['date'] = v2['date'].astype('datetime64[ns]')\n",
    "\n",
    "v2['distributed'] = pd.to_numeric(v2['distributed']).astype(int)\n",
    "v2['administered'] = pd.to_numeric(v2['administered']).astype(int)\n",
    "v2['additional_doses'] = pd.to_numeric(v2['additional_doses']).astype(int)\n",
    "v2['administered_12plus'] = pd.to_numeric(v2['administered_12plus']).astype(int)\n",
    "v2['administered_18plus'] = pd.to_numeric(v2['administered_18plus']).astype(int)\n",
    "v2['administered_65plus'] = pd.to_numeric(v2['administered_65plus']).astype(int)\n",
    "v2['series_complete_yes'] = pd.to_numeric(v2['series_complete_yes']).astype(int)\n",
    "v2['series_complete_12plus'] = pd.to_numeric(v2['series_complete_12plus']).astype(int)\n",
    "v2['series_complete_18plus'] = pd.to_numeric(v2['series_complete_18plus']).astype(int)\n",
    "v2['series_complete_65plus'] = pd.to_numeric(v2['series_complete_65plus']).astype(int)\n"
   ]
  },
  {
   "cell_type": "code",
   "execution_count": null,
   "id": "b4d9c6ec",
   "metadata": {},
   "outputs": [],
   "source": [
    "v2.info()"
   ]
  },
  {
   "cell_type": "code",
   "execution_count": null,
   "id": "a09043af",
   "metadata": {},
   "outputs": [],
   "source": [
    "#Create year, month, day columns from date\n",
    "\n",
    "v2['year']= v2['date'].dt.year\n",
    "v2['month']= v2['date'].dt.month\n",
    "v2['day']= v2['date'].dt.day\n",
    "v2.head()"
   ]
  },
  {
   "cell_type": "code",
   "execution_count": null,
   "id": "7af3a8f4",
   "metadata": {},
   "outputs": [],
   "source": [
    "# Create a column to classify the distribution volume\n",
    "\n",
    "v2['volume'] = pd.cut(v2['distributed'], bins=[0,100000,1000000,100000000],labels=['low','medium','high'],right = False)\n",
    "v2.head()"
   ]
  },
  {
   "cell_type": "markdown",
   "id": "9b37200b",
   "metadata": {},
   "source": [
    "# Create a df with just data from Delaware"
   ]
  },
  {
   "cell_type": "code",
   "execution_count": null,
   "id": "4ac77009",
   "metadata": {},
   "outputs": [],
   "source": [
    "v2DE = v2[v2.location == 'DE']"
   ]
  },
  {
   "cell_type": "code",
   "execution_count": null,
   "id": "3dcee212",
   "metadata": {},
   "outputs": [],
   "source": [
    "v2DE = v2DE.sort_values('date')"
   ]
  },
  {
   "cell_type": "code",
   "execution_count": null,
   "id": "25b75d68",
   "metadata": {},
   "outputs": [],
   "source": [
    "v2DE.shape"
   ]
  },
  {
   "cell_type": "code",
   "execution_count": null,
   "id": "c077baa1",
   "metadata": {},
   "outputs": [],
   "source": [
    "v2DE.head()"
   ]
  },
  {
   "cell_type": "code",
   "execution_count": null,
   "id": "b8c9a0d9",
   "metadata": {},
   "outputs": [],
   "source": [
    "# How many vaccines were distributed at the beginning of the month?\n",
    "v2DE['dist_first'] = v2DE.sort_values(by=['day']).groupby(['year', 'month'])['distributed'].transform('first')\n",
    "v2DE['dist_last']  = v2DE.sort_values(by=['day']).groupby(['year', 'month'])['distributed'].transform('last')"
   ]
  },
  {
   "cell_type": "code",
   "execution_count": null,
   "id": "3e7bceb9",
   "metadata": {},
   "outputs": [],
   "source": [
    "v2DE.head()"
   ]
  },
  {
   "cell_type": "code",
   "execution_count": null,
   "id": "e590fb63",
   "metadata": {},
   "outputs": [],
   "source": [
    "v2DE[['date', 'mmwr_week','distributed','year','month','day','dist_first', 'dist_last']]"
   ]
  },
  {
   "cell_type": "markdown",
   "id": "3b0bd8bb",
   "metadata": {},
   "source": [
    "# Create a df that contains data summarized by year and month"
   ]
  },
  {
   "cell_type": "code",
   "execution_count": null,
   "id": "1c1f847b",
   "metadata": {},
   "outputs": [],
   "source": [
    "# Only aggregate distributed and administered\n",
    "\n",
    "v2_agg = v2.groupby(['year','month']).agg({'distributed':['sum','mean'],'administered':['sum','mean']}).reset_index()\n",
    "v2_agg.head()\n",
    "\n",
    "# df_new = df.groupby(['col1', 'col2'])[\"col3\", \"col4\"].sum()"
   ]
  },
  {
   "cell_type": "markdown",
   "id": "2ae7f211",
   "metadata": {},
   "source": [
    "### What needs to change if we want to the same for v2DE but we want to exclude the mean and include dist_first, dist_last?"
   ]
  },
  {
   "cell_type": "code",
   "execution_count": null,
   "id": "895a7973",
   "metadata": {},
   "outputs": [],
   "source": [
    "v2DE2 = v2DE.groupby(['year','month']).agg(distributed = ('distributed','sum'),\n",
    "                                            administered = ('administered','sum'),\n",
    "                                            dist_first = ('dist_first','min'),\n",
    "                                            dist_last = ('dist_last','min')).reset_index()\n",
    "v2DE2.head()"
   ]
  },
  {
   "cell_type": "code",
   "execution_count": null,
   "id": "1c99e9fd",
   "metadata": {},
   "outputs": [],
   "source": [
    "#v2_DE2['prev_last'] = v2_DE2.sort_values(by=['month']).groupby(['year'])['dist_last','min'].shift(1)"
   ]
  },
  {
   "cell_type": "markdown",
   "id": "bc591738",
   "metadata": {},
   "source": [
    "# Write out each df as a csv file"
   ]
  },
  {
   "cell_type": "code",
   "execution_count": null,
   "id": "ced01ea5",
   "metadata": {},
   "outputs": [],
   "source": [
    "v2.to_csv('vaccines_delivered.csv', index = False)\n",
    "v2DE.to_csv('DE vaccines delivered.csv', index = False)\n",
    "v2_agg.to_csv('v2 aggregated.csv', index = False)"
   ]
  }
 ],
 "metadata": {
  "kernelspec": {
   "display_name": "Python 3 (ipykernel)",
   "language": "python",
   "name": "python3"
  },
  "language_info": {
   "codemirror_mode": {
    "name": "ipython",
    "version": 3
   },
   "file_extension": ".py",
   "mimetype": "text/x-python",
   "name": "python",
   "nbconvert_exporter": "python",
   "pygments_lexer": "ipython3",
   "version": "3.8.12"
  },
  "toc": {
   "base_numbering": 1,
   "nav_menu": {},
   "number_sections": true,
   "sideBar": true,
   "skip_h1_title": false,
   "title_cell": "Table of Contents",
   "title_sidebar": "Contents",
   "toc_cell": true,
   "toc_position": {
    "height": "calc(100% - 180px)",
    "left": "10px",
    "top": "150px",
    "width": "165px"
   },
   "toc_section_display": true,
   "toc_window_display": true
  },
  "varInspector": {
   "cols": {
    "lenName": 16,
    "lenType": 16,
    "lenVar": 40
   },
   "kernels_config": {
    "python": {
     "delete_cmd_postfix": "",
     "delete_cmd_prefix": "del ",
     "library": "var_list.py",
     "varRefreshCmd": "print(var_dic_list())"
    },
    "r": {
     "delete_cmd_postfix": ") ",
     "delete_cmd_prefix": "rm(",
     "library": "var_list.r",
     "varRefreshCmd": "cat(var_dic_list()) "
    }
   },
   "types_to_exclude": [
    "module",
    "function",
    "builtin_function_or_method",
    "instance",
    "_Feature"
   ],
   "window_display": false
  }
 },
 "nbformat": 4,
 "nbformat_minor": 5
}
