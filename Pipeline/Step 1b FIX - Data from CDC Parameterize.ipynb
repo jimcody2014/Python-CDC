{
 "cells": [
  {
   "cell_type": "markdown",
   "id": "7972ee51",
   "metadata": {
    "toc": true
   },
   "source": [
    "<h1>Table of Contents<span class=\"tocSkip\"></span></h1>\n",
    "<div class=\"toc\"><ul class=\"toc-item\"><li><span><a href=\"#Set-parameters\" data-toc-modified-id=\"Set-parameters-1\"><span class=\"toc-item-num\">1&nbsp;&nbsp;</span>Set parameters</a></span></li><li><span><a href=\"#Read-data-from-CDC\" data-toc-modified-id=\"Read-data-from-CDC-2\"><span class=\"toc-item-num\">2&nbsp;&nbsp;</span>Read data from CDC</a></span></li><li><span><a href=\"#Create-a-2nd-df-to-manipulate\" data-toc-modified-id=\"Create-a-2nd-df-to-manipulate-3\"><span class=\"toc-item-num\">3&nbsp;&nbsp;</span>Create a 2nd df to manipulate</a></span><ul class=\"toc-item\"><li><span><a href=\"#Create-a-subset-based-on-date\" data-toc-modified-id=\"Create-a-subset-based-on-date-3.1\"><span class=\"toc-item-num\">3.1&nbsp;&nbsp;</span>Create a subset based on date</a></span></li></ul></li><li><span><a href=\"#Create-a-df-with-just-data-from-Delaware\" data-toc-modified-id=\"Create-a-df-with-just-data-from-Delaware-4\"><span class=\"toc-item-num\">4&nbsp;&nbsp;</span>Create a df with just data from Delaware</a></span></li><li><span><a href=\"#Create-a-df-that-contains-data-summarized-by-year-and-month\" data-toc-modified-id=\"Create-a-df-that-contains-data-summarized-by-year-and-month-5\"><span class=\"toc-item-num\">5&nbsp;&nbsp;</span>Create a df that contains data summarized by year and month</a></span><ul class=\"toc-item\"><li><ul class=\"toc-item\"><li><span><a href=\"#What-needs-to-change-if-we-want-to-the-same-for-v2DE-but-we-want-to-exclude-the-mean-and-include-dist_first,-dist_last?\" data-toc-modified-id=\"What-needs-to-change-if-we-want-to-the-same-for-v2DE-but-we-want-to-exclude-the-mean-and-include-dist_first,-dist_last?-5.0.1\"><span class=\"toc-item-num\">5.0.1&nbsp;&nbsp;</span>What needs to change if we want to the same for v2DE but we want to exclude the mean and include dist_first, dist_last?</a></span></li></ul></li></ul></li><li><span><a href=\"#Write-out-each-df-as-a-csv-file\" data-toc-modified-id=\"Write-out-each-df-as-a-csv-file-6\"><span class=\"toc-item-num\">6&nbsp;&nbsp;</span>Write out each df as a csv file</a></span></li></ul></div>"
   ]
  },
  {
   "cell_type": "markdown",
   "id": "5f5bdad7",
   "metadata": {},
   "source": [
    "# Set parameters"
   ]
  },
  {
   "cell_type": "code",
   "execution_count": 1,
   "id": "88c9092c",
   "metadata": {},
   "outputs": [],
   "source": [
    "# Step 1 - put keys into parameters\n",
    "# Step 2 - put keys into .env file\n",
    "\n",
    "#MyAppToken = ''\n",
    "#Myusername = ''\n",
    "#Mypassword = ''\n",
    "cdc_api = 'unsk-b7fc'\n",
    "row_limit = 150000\n",
    "start_date = '2021-04-27'\n",
    "\n",
    "keep_columns = ['date','mmwr_week','location','distributed','administered','distributed_janssen',\n",
    "                'distributed_moderna','distributed_pfizer', 'additional_doses','administered_12plus',\n",
    "                'administered_18plus','administered_65plus','series_complete_yes','series_complete_12plus',\n",
    "                'series_complete_18plus','series_complete_65plus']\n",
    "\n",
    "drop_columns = {'distributed_janssen',\n",
    "                'distributed_moderna', \n",
    "                'distributed_pfizer'}\n",
    "\n",
    "bin_values = [0,100000,1000000,100000000]\n",
    "bin_labels = ['low','medium','high']\n",
    "\n",
    "state = 'DE'\n"
   ]
  },
  {
   "cell_type": "markdown",
   "id": "09a7a1fc",
   "metadata": {},
   "source": [
    "# Read data from CDC"
   ]
  },
  {
   "cell_type": "code",
   "execution_count": 2,
   "id": "d923fd9c",
   "metadata": {},
   "outputs": [
    {
     "name": "stderr",
     "output_type": "stream",
     "text": [
      "WARNING:root:Requests made without an app_token will be subject to strict throttling limits.\n"
     ]
    }
   ],
   "source": [
    "import pandas as pd\n",
    "import numpy as np\n",
    "import requests\n",
    "from sodapy import Socrata\n",
    "\n",
    "########## NEW #################\n",
    "from dotenv import load_dotenv\n",
    "import os\n",
    "\n",
    "load_dotenv()\n",
    "\n",
    "MyAppToken = os.getenv('MyAppToken')\n",
    "Myusername = os.getenv('Myusername')\n",
    "Mypassword = os.getenv('Mypassword')\n",
    "\n",
    "client = Socrata('data.cdc.gov',\n",
    "                  MyAppToken,\n",
    "                  username= Myusername,\n",
    "                  password= Mypassword)\n",
    "\n",
    "#results = client.get(\"8xkx-amqh\", limit = 100000)\n",
    "results = client.get(cdc_api, limit = row_limit)\n",
    "vaccines = pd.DataFrame(results)\n",
    "\n",
    "# This is where the documentation is:\n",
    "# https://data.cdc.gov/Vaccinations/COVID-19-Vaccinations-in-the-United-States-Jurisdi/unsk-b7fc"
   ]
  },
  {
   "cell_type": "code",
   "execution_count": 3,
   "id": "13402416",
   "metadata": {},
   "outputs": [
    {
     "name": "stdout",
     "output_type": "stream",
     "text": [
      "(21656, 69)\n"
     ]
    }
   ],
   "source": [
    "#print(vaccines.columns)\n",
    "print(vaccines.shape)"
   ]
  },
  {
   "cell_type": "markdown",
   "id": "b0445531",
   "metadata": {},
   "source": [
    "# Create a 2nd df to manipulate"
   ]
  },
  {
   "cell_type": "markdown",
   "id": "e8926d69",
   "metadata": {},
   "source": [
    "## Create a subset based on date"
   ]
  },
  {
   "cell_type": "code",
   "execution_count": null,
   "id": "759b38b5",
   "metadata": {},
   "outputs": [],
   "source": [
    "v2 = vaccines[vaccines.date >= start_date]\n",
    "v2.shape\n",
    "\n",
    "# At this point, date is an object not a date"
   ]
  },
  {
   "cell_type": "code",
   "execution_count": null,
   "id": "97894326",
   "metadata": {},
   "outputs": [],
   "source": [
    "# Create a new dataframe with just the required columns\n",
    "# new=  old[['A', 'C', 'D']]\n",
    "v2 = vaccines[keep_columns]"
   ]
  },
  {
   "cell_type": "code",
   "execution_count": null,
   "id": "7d506963",
   "metadata": {},
   "outputs": [],
   "source": [
    "v2.head()"
   ]
  },
  {
   "cell_type": "code",
   "execution_count": null,
   "id": "119edb9e",
   "metadata": {},
   "outputs": [],
   "source": [
    "v2.info()"
   ]
  },
  {
   "cell_type": "code",
   "execution_count": null,
   "id": "d6070738",
   "metadata": {},
   "outputs": [],
   "source": [
    "# Drop columns\n",
    "v2 = v2.drop(columns = drop_columns)"
   ]
  },
  {
   "cell_type": "code",
   "execution_count": null,
   "id": "037f28aa",
   "metadata": {},
   "outputs": [],
   "source": [
    "# Which columns have null values?\n",
    "v2.isnull().sum()"
   ]
  },
  {
   "cell_type": "code",
   "execution_count": null,
   "id": "811bda4f",
   "metadata": {},
   "outputs": [],
   "source": [
    "# Fill the Null values with zero\n",
    "\n",
    "v2['additional_doses'] = v2['additional_doses'].fillna(0)\n",
    "# Alternate code v2['additional_doses'].fillna(0, inplace = True)\n",
    "\n",
    "v2.isnull().sum()"
   ]
  },
  {
   "cell_type": "code",
   "execution_count": null,
   "id": "9f66b5de",
   "metadata": {},
   "outputs": [],
   "source": [
    "#. Change the datatypes\n",
    "\n",
    "v2['date'] = v2['date'].astype('datetime64[ns]')\n",
    "\n",
    "#v2['distributed'] = pd.to_numeric(v2['distributed']).astype(int)\n",
    "#v2['administered'] = pd.to_numeric(v2['administered']).astype(int)\n",
    "#v2['additional_doses'] = pd.to_numeric(v2['additional_doses']).astype(int)\n",
    "#v2['administered_12plus'] = pd.to_numeric(v2['administered_12plus']).astype(int)\n",
    "#v2['administered_18plus'] = pd.to_numeric(v2['administered_18plus']).astype(int)\n",
    "#v2['administered_65plus'] = pd.to_numeric(v2['administered_65plus']).astype(int)\n",
    "#v2['series_complete_yes'] = pd.to_numeric(v2['series_complete_yes']).astype(int)\n",
    "#v2['series_complete_12plus'] = pd.to_numeric(v2['series_complete_12plus']).astype(int)\n",
    "#v2['series_complete_18plus'] = pd.to_numeric(v2['series_complete_18plus']).astype(int)\n",
    "#v2['series_complete_65plus'] = pd.to_numeric(v2['series_complete_65plus']).astype(int)\n"
   ]
  },
  {
   "cell_type": "code",
   "execution_count": null,
   "id": "ac634e49",
   "metadata": {},
   "outputs": [],
   "source": [
    "columns = list(v2.columns)\n",
    "\n",
    "#change the first and last column names below as required\n",
    "start_column = columns.index('distributed')\n",
    "end_column   = columns.index('series_complete_65plus')\n",
    "\n",
    "for index, col in enumerate(columns):\n",
    "    if (start_column <= index) & (index <= end_column):\n",
    "        v2[col] = v2[col].astype(int)\n"
   ]
  },
  {
   "cell_type": "code",
   "execution_count": null,
   "id": "b4d9c6ec",
   "metadata": {},
   "outputs": [],
   "source": [
    "v2.info()"
   ]
  },
  {
   "cell_type": "code",
   "execution_count": null,
   "id": "a09043af",
   "metadata": {},
   "outputs": [],
   "source": [
    "#Create year, month, day columns from date\n",
    "\n",
    "v2['year']= v2['date'].dt.year\n",
    "v2['month']= v2['date'].dt.month\n",
    "v2['day']= v2['date'].dt.day\n",
    "v2.head()"
   ]
  },
  {
   "cell_type": "code",
   "execution_count": null,
   "id": "e735020f",
   "metadata": {},
   "outputs": [],
   "source": [
    "# Create a column for season\n",
    "\n"
   ]
  },
  {
   "cell_type": "code",
   "execution_count": null,
   "id": "7af3a8f4",
   "metadata": {},
   "outputs": [],
   "source": [
    "# Create a column to classify the distribution volume\n",
    "\n",
    "\n",
    "v2['volume'] = pd.cut(v2['distributed'], bins=bin_values,labels=bin_labels,right = False)\n",
    "v2.head()"
   ]
  },
  {
   "cell_type": "markdown",
   "id": "9b37200b",
   "metadata": {},
   "source": [
    "# Create a df with just data from Delaware"
   ]
  },
  {
   "cell_type": "code",
   "execution_count": null,
   "id": "4ac77009",
   "metadata": {},
   "outputs": [],
   "source": [
    "v2DE = v2[v2.location == state]"
   ]
  },
  {
   "cell_type": "code",
   "execution_count": null,
   "id": "3dcee212",
   "metadata": {},
   "outputs": [],
   "source": [
    "v2DE = v2DE.sort_values('date')"
   ]
  },
  {
   "cell_type": "code",
   "execution_count": null,
   "id": "25b75d68",
   "metadata": {},
   "outputs": [],
   "source": [
    "v2DE.shape"
   ]
  },
  {
   "cell_type": "code",
   "execution_count": null,
   "id": "c077baa1",
   "metadata": {},
   "outputs": [],
   "source": [
    "v2DE.head()"
   ]
  },
  {
   "cell_type": "code",
   "execution_count": null,
   "id": "b8c9a0d9",
   "metadata": {},
   "outputs": [],
   "source": [
    "# How many vaccines were distributed at the beginning of the month?\n",
    "v2DE['dist_first'] = v2DE.sort_values(by=['day']).groupby(['year', 'month'])['distributed'].transform('first')\n",
    "v2DE['dist_last']  = v2DE.sort_values(by=['day']).groupby(['year', 'month'])['distributed'].transform('last')"
   ]
  },
  {
   "cell_type": "code",
   "execution_count": null,
   "id": "3e7bceb9",
   "metadata": {},
   "outputs": [],
   "source": [
    "v2DE.head()"
   ]
  },
  {
   "cell_type": "code",
   "execution_count": null,
   "id": "e590fb63",
   "metadata": {},
   "outputs": [],
   "source": [
    "v2DE[['date', 'mmwr_week','distributed','year','month','day','dist_first', 'dist_last']]"
   ]
  },
  {
   "cell_type": "markdown",
   "id": "3b0bd8bb",
   "metadata": {},
   "source": [
    "# Create a df that contains data summarized by year and month"
   ]
  },
  {
   "cell_type": "code",
   "execution_count": null,
   "id": "1c1f847b",
   "metadata": {},
   "outputs": [],
   "source": [
    "# Only aggregate distributed and administered\n",
    "\n",
    "v2_agg = v2.groupby(['year','month']).agg({'distributed':['sum','mean'],'administered':['sum','mean']}).reset_index()\n",
    "v2_agg.head()\n",
    "\n",
    "# df_new = df.groupby(['col1', 'col2'])[\"col3\", \"col4\"].sum()"
   ]
  },
  {
   "cell_type": "markdown",
   "id": "2ae7f211",
   "metadata": {},
   "source": [
    "### What needs to change if we want to the same for v2DE but we want to exclude the mean and include dist_first, dist_last?"
   ]
  },
  {
   "cell_type": "code",
   "execution_count": null,
   "id": "895a7973",
   "metadata": {},
   "outputs": [],
   "source": [
    "v2DE2 = v2DE.groupby(['year','month']).agg(distributed = ('distributed','sum'),\n",
    "                                            administered = ('administered','sum'),\n",
    "                                            dist_first = ('dist_first','min'),\n",
    "                                            dist_last = ('dist_last','min')).reset_index()\n",
    "v2DE2.head()"
   ]
  },
  {
   "cell_type": "code",
   "execution_count": null,
   "id": "1c99e9fd",
   "metadata": {},
   "outputs": [],
   "source": [
    "#v2_DE2['prev_last'] = v2_DE2.sort_values(by=['month']).groupby(['year'])['dist_last','min'].shift(1)"
   ]
  },
  {
   "cell_type": "markdown",
   "id": "bc591738",
   "metadata": {},
   "source": [
    "# Write out each df as a csv file"
   ]
  },
  {
   "cell_type": "code",
   "execution_count": null,
   "id": "ced01ea5",
   "metadata": {},
   "outputs": [],
   "source": [
    "v2.to_csv('vaccines_delivered.csv', index = False)\n",
    "v2DE.to_csv('DE vaccines delivered.csv', index = False)\n",
    "v2_agg.to_csv('v2 aggregated.csv', index = False)"
   ]
  }
 ],
 "metadata": {
  "kernelspec": {
   "display_name": "Python 3 (ipykernel)",
   "language": "python",
   "name": "python3"
  },
  "language_info": {
   "codemirror_mode": {
    "name": "ipython",
    "version": 3
   },
   "file_extension": ".py",
   "mimetype": "text/x-python",
   "name": "python",
   "nbconvert_exporter": "python",
   "pygments_lexer": "ipython3",
   "version": "3.8.2"
  },
  "toc": {
   "base_numbering": 1,
   "nav_menu": {},
   "number_sections": true,
   "sideBar": true,
   "skip_h1_title": false,
   "title_cell": "Table of Contents",
   "title_sidebar": "Contents",
   "toc_cell": true,
   "toc_position": {
    "height": "calc(100% - 180px)",
    "left": "10px",
    "top": "150px",
    "width": "165px"
   },
   "toc_section_display": true,
   "toc_window_display": true
  }
 },
 "nbformat": 4,
 "nbformat_minor": 5
}
