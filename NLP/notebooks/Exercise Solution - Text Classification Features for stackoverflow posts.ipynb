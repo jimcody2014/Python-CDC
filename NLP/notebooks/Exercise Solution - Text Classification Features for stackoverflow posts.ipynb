{
 "cells": [
  {
   "cell_type": "markdown",
   "metadata": {
    "toc": true
   },
   "source": [
    "<h1>Table of Contents<span class=\"tocSkip\"></span></h1>\n",
    "<div class=\"toc\"><ul class=\"toc-item\"><li><span><a href=\"#Project-Objective\" data-toc-modified-id=\"Project-Objective-1\">Project Objective</a></span></li><li><span><a href=\"#Project-setup\" data-toc-modified-id=\"Project-setup-2\">Project setup</a></span><ul class=\"toc-item\"><li><ul class=\"toc-item\"><li><span><a href=\"#python-pickle\" data-toc-modified-id=\"python-pickle-2.0.1\">python pickle</a></span></li><li><span><a href=\"#Number-of-articles-in-each-category\" data-toc-modified-id=\"Number-of-articles-in-each-category-2.0.2\">Number of articles in each category</a></span></li><li><span><a href=\"#News-length-by-category\" data-toc-modified-id=\"News-length-by-category-2.0.3\">News length by category</a></span></li></ul></li></ul></li><li><span><a href=\"#Pre-processing-&amp;-Feature-Engineering\" data-toc-modified-id=\"Pre-processing-&amp;-Feature-Engineering-3\">Pre-processing &amp; Feature Engineering</a></span><ul class=\"toc-item\"><li><span><a href=\"#Coding-the-labels---Set-up-your-codes\" data-toc-modified-id=\"Coding-the-labels---Set-up-your-codes-3.1\">Coding the labels - Set up your codes</a></span></li><li><span><a href=\"#Create-the-train-and-test-sets\" data-toc-modified-id=\"Create-the-train-and-test-sets-3.2\">Create the train and test sets</a></span></li><li><span><a href=\"#Create-features-using-TF-IDF\" data-toc-modified-id=\"Create-features-using-TF-IDF-3.3\">Create features using TF-IDF</a></span></li><li><span><a href=\"#Creating-the-features\" data-toc-modified-id=\"Creating-the-features-3.4\">Creating the features</a></span></li><li><span><a href=\"#Looking-at-the-result\" data-toc-modified-id=\"Looking-at-the-result-3.5\">Looking at the result</a></span></li></ul></li><li><span><a href=\"#Save-the-data-&amp;-features\" data-toc-modified-id=\"Save-the-data-&amp;-features-4\">Save the data &amp; features</a></span></li></ul></div>"
   ]
  },
  {
   "cell_type": "markdown",
   "metadata": {},
   "source": [
    "https://towardsdatascience.com/text-classification-in-python-dd95d264c802"
   ]
  },
  {
   "cell_type": "markdown",
   "metadata": {},
   "source": [
    "# Project Objective\n",
    "\n",
    "Classify (catagorize) news articles based on their content.  There are five categories - business, entertainment, politics, sport and technology.\n",
    "\n",
    "- A labeled dataset has been provided. Approximately 2200 articles from the BBC.\n",
    "    - Each individual article was provided in its own file.\n",
    "    - The data has already been processed into one large file - News_dataset.csv\n",
    "    - Every article became a row in the corpus.\n",
    "- This is a supervised learning problem"
   ]
  },
  {
   "cell_type": "markdown",
   "metadata": {},
   "source": [
    "# Project setup\n",
    "\n",
    "- Connect to Google Drive\n",
    "- Inside of your NLP_data folder, create a new folder named Pickles\n",
    "- News_dataset.csv will be read from github.  Output files will be placed in the the Pickles folder."
   ]
  },
  {
   "cell_type": "markdown",
   "metadata": {},
   "source": [
    "### python pickle\n",
    "\n",
    "Pickle in Python is primarily used in serializing and deserializing a Python object structure. In other words, it's the process of converting a Python object into a byte stream to store it in a file/database, maintain program state across sessions, or transport data over the network.\n",
    "\n",
    "https://towardsdatascience.com/stop-using-csvs-for-storage-pickle-is-an-80-times-faster-alternative-832041bbc199"
   ]
  },
  {
   "cell_type": "code",
   "execution_count": 35,
   "metadata": {},
   "outputs": [],
   "source": [
    "#from google.colab import drive\n",
    "#drive.mount('/content/drive')"
   ]
  },
  {
   "cell_type": "code",
   "execution_count": 36,
   "metadata": {},
   "outputs": [
    {
     "name": "stderr",
     "output_type": "stream",
     "text": [
      "[nltk_data] Downloading package punkt to /Users/jimcody/nltk_data...\n",
      "[nltk_data]   Package punkt is already up-to-date!\n",
      "[nltk_data] Downloading package wordnet to /Users/jimcody/nltk_data...\n",
      "[nltk_data]   Package wordnet is already up-to-date!\n",
      "[nltk_data] Downloading package stopwords to\n",
      "[nltk_data]     /Users/jimcody/nltk_data...\n",
      "[nltk_data]   Package stopwords is already up-to-date!\n"
     ]
    },
    {
     "data": {
      "text/plain": [
       "True"
      ]
     },
     "execution_count": 36,
     "metadata": {},
     "output_type": "execute_result"
    }
   ],
   "source": [
    "import pandas as pd\n",
    "import numpy as np\n",
    "import matplotlib.pyplot as plt\n",
    "import pickle\n",
    "import seaborn as sns\n",
    "sns.set_style(\"whitegrid\")\n",
    "#import altair as alt\n",
    "#alt.renderers.enable(\"notebook\")\n",
    "\n",
    "# Code for hiding seaborn warnings\n",
    "import warnings\n",
    "warnings.filterwarnings(\"ignore\")\n",
    "\n",
    "\n",
    "import re\n",
    "import nltk\n",
    "from nltk.corpus import stopwords\n",
    "from nltk.stem import WordNetLemmatizer\n",
    "from sklearn.feature_extraction.text import TfidfVectorizer\n",
    "from sklearn.model_selection import train_test_split\n",
    "from sklearn.feature_selection import chi2\n",
    "\n",
    "from sklearn.ensemble import RandomForestClassifier\n",
    "from pprint import pprint\n",
    "from sklearn.model_selection import RandomizedSearchCV\n",
    "from sklearn.model_selection import GridSearchCV\n",
    "from sklearn.metrics import classification_report, confusion_matrix, accuracy_score\n",
    "from sklearn.model_selection import ShuffleSplit\n",
    "\n",
    "nltk.download('punkt')\n",
    "nltk.download('wordnet')\n",
    "nltk.download('stopwords')\n"
   ]
  },
  {
   "cell_type": "markdown",
   "metadata": {},
   "source": [
    "Loading the dataset:"
   ]
  },
  {
   "cell_type": "code",
   "execution_count": 37,
   "metadata": {},
   "outputs": [],
   "source": [
    "url = 'https://raw.githubusercontent.com/ibraraslam/datasets/master/stack-overflow-data.csv'\n",
    "df = pd.read_csv(url)"
   ]
  },
  {
   "cell_type": "code",
   "execution_count": 38,
   "metadata": {},
   "outputs": [
    {
     "data": {
      "text/html": [
       "<div>\n",
       "<style scoped>\n",
       "    .dataframe tbody tr th:only-of-type {\n",
       "        vertical-align: middle;\n",
       "    }\n",
       "\n",
       "    .dataframe tbody tr th {\n",
       "        vertical-align: top;\n",
       "    }\n",
       "\n",
       "    .dataframe thead th {\n",
       "        text-align: right;\n",
       "    }\n",
       "</style>\n",
       "<table border=\"1\" class=\"dataframe\">\n",
       "  <thead>\n",
       "    <tr style=\"text-align: right;\">\n",
       "      <th></th>\n",
       "      <th>post</th>\n",
       "      <th>tags</th>\n",
       "    </tr>\n",
       "  </thead>\n",
       "  <tbody>\n",
       "    <tr>\n",
       "      <th>0</th>\n",
       "      <td>what is causing this behavior  in our c# datet...</td>\n",
       "      <td>c#</td>\n",
       "    </tr>\n",
       "    <tr>\n",
       "      <th>1</th>\n",
       "      <td>have dynamic html load as if it was in an ifra...</td>\n",
       "      <td>asp.net</td>\n",
       "    </tr>\n",
       "    <tr>\n",
       "      <th>2</th>\n",
       "      <td>how to convert a float value in to min:sec  i ...</td>\n",
       "      <td>objective-c</td>\n",
       "    </tr>\n",
       "    <tr>\n",
       "      <th>3</th>\n",
       "      <td>.net framework 4 redistributable  just wonderi...</td>\n",
       "      <td>.net</td>\n",
       "    </tr>\n",
       "    <tr>\n",
       "      <th>4</th>\n",
       "      <td>trying to calculate and print the mean and its...</td>\n",
       "      <td>python</td>\n",
       "    </tr>\n",
       "  </tbody>\n",
       "</table>\n",
       "</div>"
      ],
      "text/plain": [
       "                                                post         tags\n",
       "0  what is causing this behavior  in our c# datet...           c#\n",
       "1  have dynamic html load as if it was in an ifra...      asp.net\n",
       "2  how to convert a float value in to min:sec  i ...  objective-c\n",
       "3  .net framework 4 redistributable  just wonderi...         .net\n",
       "4  trying to calculate and print the mean and its...       python"
      ]
     },
     "execution_count": 38,
     "metadata": {},
     "output_type": "execute_result"
    }
   ],
   "source": [
    "df.head()"
   ]
  },
  {
   "cell_type": "markdown",
   "metadata": {},
   "source": [
    "### Number of articles in each category"
   ]
  },
  {
   "cell_type": "code",
   "execution_count": 39,
   "metadata": {},
   "outputs": [
    {
     "data": {
      "text/plain": [
       "<AxesSubplot:xlabel='tags', ylabel='count'>"
      ]
     },
     "execution_count": 39,
     "metadata": {},
     "output_type": "execute_result"
    },
    {
     "data": {
      "image/png": "[encoded data removed]",
      "text/plain": [
       "<Figure size 432x288 with 1 Axes>"
      ]
     },
     "metadata": {},
     "output_type": "display_data"
    }
   ],
   "source": [
    "sns.countplot(x=\"tags\", data=df)"
   ]
  },
  {
   "cell_type": "markdown",
   "metadata": {},
   "source": [
    "### News length by category"
   ]
  },
  {
   "cell_type": "markdown",
   "metadata": {},
   "source": [
    "Definition of news length field. Although there are special characters in the text (``\\r, \\n``), it will be useful as an approximation."
   ]
  },
  {
   "cell_type": "code",
   "execution_count": 40,
   "metadata": {},
   "outputs": [],
   "source": [
    "df['News_length'] = df['post'].str.len()"
   ]
  },
  {
   "cell_type": "code",
   "execution_count": 41,
   "metadata": {},
   "outputs": [
    {
     "data": {
      "image/png": "[encoded data removed]",
      "text/plain": [
       "<Figure size 921.6x432 with 1 Axes>"
      ]
     },
     "metadata": {},
     "output_type": "display_data"
    }
   ],
   "source": [
    "plt.figure(figsize=(12.8,6))\n",
    "sns.distplot(df['News_length']).set_title('News length distribution');"
   ]
  },
  {
   "cell_type": "code",
   "execution_count": 42,
   "metadata": {},
   "outputs": [
    {
     "data": {
      "text/plain": [
       "count    40000.000000\n",
       "mean      1099.799525\n",
       "std       1408.481981\n",
       "min         37.000000\n",
       "25%        433.000000\n",
       "50%        724.000000\n",
       "75%       1252.000000\n",
       "max      34439.000000\n",
       "Name: News_length, dtype: float64"
      ]
     },
     "execution_count": 42,
     "metadata": {},
     "output_type": "execute_result"
    }
   ],
   "source": [
    "df['News_length'].describe()"
   ]
  },
  {
   "cell_type": "markdown",
   "metadata": {},
   "source": [
    "Let's remove from the 95% percentile onwards to better appreciate the histogram:"
   ]
  },
  {
   "cell_type": "code",
   "execution_count": 43,
   "metadata": {},
   "outputs": [],
   "source": [
    "quantile_95 = df['News_length'].quantile(0.95)\n",
    "df_95 = df[df['News_length'] < quantile_95]"
   ]
  },
  {
   "cell_type": "code",
   "execution_count": 44,
   "metadata": {},
   "outputs": [
    {
     "data": {
      "image/png": "[encoded data removed]",
      "text/plain": [
       "<Figure size 921.6x432 with 1 Axes>"
      ]
     },
     "metadata": {},
     "output_type": "display_data"
    }
   ],
   "source": [
    "plt.figure(figsize=(12.8,6))\n",
    "sns.distplot(df_95['News_length']).set_title('News length distribution');"
   ]
  },
  {
   "cell_type": "markdown",
   "metadata": {},
   "source": [
    "We can get the number of news articles with more than 10,000 characters:"
   ]
  },
  {
   "cell_type": "code",
   "execution_count": 45,
   "metadata": {},
   "outputs": [
    {
     "data": {
      "text/plain": [
       "164"
      ]
     },
     "execution_count": 45,
     "metadata": {},
     "output_type": "execute_result"
    }
   ],
   "source": [
    "df_more10k = df[df['News_length'] > 10000]\n",
    "len(df_more10k)"
   ]
  },
  {
   "cell_type": "markdown",
   "metadata": {},
   "source": [
    "Let's see one:"
   ]
  },
  {
   "cell_type": "code",
   "execution_count": 46,
   "metadata": {
    "scrolled": false
   },
   "outputs": [],
   "source": [
    "#df_more10k['Content'].iloc[0]"
   ]
  },
  {
   "cell_type": "markdown",
   "metadata": {},
   "source": [
    "It's just a large news article."
   ]
  },
  {
   "cell_type": "markdown",
   "metadata": {},
   "source": [
    "Let's now plot a boxplot:"
   ]
  },
  {
   "cell_type": "code",
   "execution_count": 47,
   "metadata": {
    "scrolled": false
   },
   "outputs": [
    {
     "data": {
      "image/png": "[encoded data removed]",
      "text/plain": [
       "<Figure size 921.6x432 with 1 Axes>"
      ]
     },
     "metadata": {},
     "output_type": "display_data"
    }
   ],
   "source": [
    "plt.figure(figsize=(12.8,6))\n",
    "sns.boxplot(data=df, x='tags', y='News_length', width=.5);"
   ]
  },
  {
   "cell_type": "markdown",
   "metadata": {},
   "source": [
    "Now, let's remove the larger documents for better comprehension:"
   ]
  },
  {
   "cell_type": "code",
   "execution_count": 48,
   "metadata": {},
   "outputs": [
    {
     "data": {
      "image/png": "[encoded data removed]",
      "text/plain": [
       "<Figure size 921.6x432 with 1 Axes>"
      ]
     },
     "metadata": {},
     "output_type": "display_data"
    }
   ],
   "source": [
    "plt.figure(figsize=(12.8,6))\n",
    "sns.boxplot(data=df_95, x='tags', y='News_length');"
   ]
  },
  {
   "cell_type": "markdown",
   "metadata": {},
   "source": [
    "We can see that, although the length distribution is different for every category, the difference is not too big. If we had way too different lengths between categories we would have a problem since the feature creation process may take into account counts of words. However, when creating the features with TF-IDF scoring, we will normalize the features just to avoid this."
   ]
  },
  {
   "cell_type": "markdown",
   "metadata": {},
   "source": [
    "At this point, we cannot do further Exploratory Data Analysis. We'll turn onto the **Feature Engineering** section."
   ]
  },
  {
   "cell_type": "markdown",
   "metadata": {},
   "source": [
    "We'll save the dataset:"
   ]
  },
  {
   "cell_type": "code",
   "execution_count": 49,
   "metadata": {},
   "outputs": [],
   "source": [
    "#with open('News_dataset.pickle', 'wb') as output:\n",
    "#   pickle.dump(df, output)"
   ]
  },
  {
   "cell_type": "markdown",
   "metadata": {},
   "source": [
    "# Pre-processing & Feature Engineering"
   ]
  },
  {
   "cell_type": "code",
   "execution_count": 50,
   "metadata": {},
   "outputs": [],
   "source": [
    "#path_df = \"/home/lnc/0. Latest News Classifier/02. Exploratory Data Analysis/News_dataset.pickle\"\n",
    "\n",
    "#path_df ='/Users/jimcody/Documents/2021Python/nlp/data/News_dataset.pickle'\n",
    "#with open(path_df, 'rb') as data:\n",
    "#    df = pickle.load(data)"
   ]
  },
  {
   "cell_type": "code",
   "execution_count": 51,
   "metadata": {},
   "outputs": [
    {
     "data": {
      "text/html": [
       "<div>\n",
       "<style scoped>\n",
       "    .dataframe tbody tr th:only-of-type {\n",
       "        vertical-align: middle;\n",
       "    }\n",
       "\n",
       "    .dataframe tbody tr th {\n",
       "        vertical-align: top;\n",
       "    }\n",
       "\n",
       "    .dataframe thead th {\n",
       "        text-align: right;\n",
       "    }\n",
       "</style>\n",
       "<table border=\"1\" class=\"dataframe\">\n",
       "  <thead>\n",
       "    <tr style=\"text-align: right;\">\n",
       "      <th></th>\n",
       "      <th>post</th>\n",
       "      <th>tags</th>\n",
       "      <th>News_length</th>\n",
       "    </tr>\n",
       "  </thead>\n",
       "  <tbody>\n",
       "    <tr>\n",
       "      <th>0</th>\n",
       "      <td>what is causing this behavior  in our c# datet...</td>\n",
       "      <td>c#</td>\n",
       "      <td>833</td>\n",
       "    </tr>\n",
       "    <tr>\n",
       "      <th>1</th>\n",
       "      <td>have dynamic html load as if it was in an ifra...</td>\n",
       "      <td>asp.net</td>\n",
       "      <td>804</td>\n",
       "    </tr>\n",
       "    <tr>\n",
       "      <th>2</th>\n",
       "      <td>how to convert a float value in to min:sec  i ...</td>\n",
       "      <td>objective-c</td>\n",
       "      <td>755</td>\n",
       "    </tr>\n",
       "    <tr>\n",
       "      <th>3</th>\n",
       "      <td>.net framework 4 redistributable  just wonderi...</td>\n",
       "      <td>.net</td>\n",
       "      <td>349</td>\n",
       "    </tr>\n",
       "    <tr>\n",
       "      <th>4</th>\n",
       "      <td>trying to calculate and print the mean and its...</td>\n",
       "      <td>python</td>\n",
       "      <td>1290</td>\n",
       "    </tr>\n",
       "  </tbody>\n",
       "</table>\n",
       "</div>"
      ],
      "text/plain": [
       "                                                post         tags  News_length\n",
       "0  what is causing this behavior  in our c# datet...           c#          833\n",
       "1  have dynamic html load as if it was in an ifra...      asp.net          804\n",
       "2  how to convert a float value in to min:sec  i ...  objective-c          755\n",
       "3  .net framework 4 redistributable  just wonderi...         .net          349\n",
       "4  trying to calculate and print the mean and its...       python         1290"
      ]
     },
     "execution_count": 51,
     "metadata": {},
     "output_type": "execute_result"
    }
   ],
   "source": [
    "df.head()"
   ]
  },
  {
   "cell_type": "code",
   "execution_count": 52,
   "metadata": {},
   "outputs": [],
   "source": [
    "# \\r and \\n  \\r - carraige return.  \\n - new line\n",
    "df['Content_Parsed_1'] = df['post'].str.replace(\"\\r\", \" \")\n",
    "df['Content_Parsed_1'] = df['Content_Parsed_1'].str.replace(\"\\n\", \" \")\n",
    "df['Content_Parsed_1'] = df['Content_Parsed_1'].str.replace(\"    \", \" \")\n",
    "\n",
    "df['Content_Parsed_1'] = df['Content_Parsed_1'].str.replace('\"', '')  # remove double-quote\n",
    "df['Content_Parsed_2'] = df['Content_Parsed_1'].str.lower()           # make lowercase\n",
    "\n",
    "punctuation_signs = list(\"?:!.,;\")\n",
    "df['Content_Parsed_3'] = df['Content_Parsed_2']                       # remove punctuation\n",
    "for punct_sign in punctuation_signs:\n",
    "    df['Content_Parsed_3'] = df['Content_Parsed_3'].str.replace(punct_sign, '')\n",
    "    \n",
    "df['Content_Parsed_4'] = df['Content_Parsed_3'].str.replace(\"'s\", \"\") # # Possessive pronouns"
   ]
  },
  {
   "cell_type": "code",
   "execution_count": 53,
   "metadata": {},
   "outputs": [],
   "source": [
    "# Lemmatize\n",
    "wordnet_lemmatizer = WordNetLemmatizer()\n",
    "\n",
    "# Iterate over every word in order to lemmatize\n",
    "nrows = len(df)\n",
    "lemmatized_text_list = []\n",
    "\n",
    "for row in range(0, nrows):\n",
    "    \n",
    "    # Create an empty list containing lemmatized words\n",
    "    lemmatized_list = []\n",
    "    \n",
    "    # Save the text and its words into an object\n",
    "    text = df.loc[row]['Content_Parsed_4']\n",
    "    text_words = text.split(\" \")\n",
    "\n",
    "    # Iterate through every word to lemmatize\n",
    "    for word in text_words:\n",
    "        lemmatized_list.append(wordnet_lemmatizer.lemmatize(word, pos=\"v\"))\n",
    "        \n",
    "    # Join the list\n",
    "    lemmatized_text = \" \".join(lemmatized_list)\n",
    "    \n",
    "    # Append to the list containing the texts\n",
    "    lemmatized_text_list.append(lemmatized_text)\n",
    "    \n",
    "df['Content_Parsed_5'] = lemmatized_text_list"
   ]
  },
  {
   "cell_type": "code",
   "execution_count": 54,
   "metadata": {},
   "outputs": [
    {
     "data": {
      "text/plain": [
       "['i',\n",
       " 'me',\n",
       " 'my',\n",
       " 'myself',\n",
       " 'we',\n",
       " 'our',\n",
       " 'ours',\n",
       " 'ourselves',\n",
       " 'you',\n",
       " \"you're\",\n",
       " \"you've\",\n",
       " \"you'll\",\n",
       " \"you'd\",\n",
       " 'your',\n",
       " 'yours',\n",
       " 'yourself',\n",
       " 'yourselves',\n",
       " 'he',\n",
       " 'him',\n",
       " 'his',\n",
       " 'himself',\n",
       " 'she',\n",
       " \"she's\",\n",
       " 'her',\n",
       " 'hers',\n",
       " 'herself',\n",
       " 'it',\n",
       " \"it's\",\n",
       " 'its',\n",
       " 'itself',\n",
       " 'they',\n",
       " 'them',\n",
       " 'their',\n",
       " 'theirs',\n",
       " 'themselves',\n",
       " 'what',\n",
       " 'which',\n",
       " 'who',\n",
       " 'whom',\n",
       " 'this',\n",
       " 'that',\n",
       " \"that'll\",\n",
       " 'these',\n",
       " 'those',\n",
       " 'am',\n",
       " 'is',\n",
       " 'are',\n",
       " 'was',\n",
       " 'were',\n",
       " 'be',\n",
       " 'been',\n",
       " 'being',\n",
       " 'have',\n",
       " 'has',\n",
       " 'had',\n",
       " 'having',\n",
       " 'do',\n",
       " 'does',\n",
       " 'did',\n",
       " 'doing',\n",
       " 'a',\n",
       " 'an',\n",
       " 'the',\n",
       " 'and',\n",
       " 'but',\n",
       " 'if',\n",
       " 'or',\n",
       " 'because',\n",
       " 'as',\n",
       " 'until',\n",
       " 'while',\n",
       " 'of',\n",
       " 'at',\n",
       " 'by',\n",
       " 'for',\n",
       " 'with',\n",
       " 'about',\n",
       " 'against',\n",
       " 'between',\n",
       " 'into',\n",
       " 'through',\n",
       " 'during',\n",
       " 'before',\n",
       " 'after',\n",
       " 'above',\n",
       " 'below',\n",
       " 'to',\n",
       " 'from',\n",
       " 'up',\n",
       " 'down',\n",
       " 'in',\n",
       " 'out',\n",
       " 'on',\n",
       " 'off',\n",
       " 'over',\n",
       " 'under',\n",
       " 'again',\n",
       " 'further',\n",
       " 'then',\n",
       " 'once',\n",
       " 'here',\n",
       " 'there',\n",
       " 'when',\n",
       " 'where',\n",
       " 'why',\n",
       " 'how',\n",
       " 'all',\n",
       " 'any',\n",
       " 'both',\n",
       " 'each',\n",
       " 'few',\n",
       " 'more',\n",
       " 'most',\n",
       " 'other',\n",
       " 'some',\n",
       " 'such',\n",
       " 'no',\n",
       " 'nor',\n",
       " 'not',\n",
       " 'only',\n",
       " 'own',\n",
       " 'same',\n",
       " 'so',\n",
       " 'than',\n",
       " 'too',\n",
       " 'very',\n",
       " 's',\n",
       " 't',\n",
       " 'can',\n",
       " 'will',\n",
       " 'just',\n",
       " 'don',\n",
       " \"don't\",\n",
       " 'should',\n",
       " \"should've\",\n",
       " 'now',\n",
       " 'd',\n",
       " 'll',\n",
       " 'm',\n",
       " 'o',\n",
       " 're',\n",
       " 've',\n",
       " 'y',\n",
       " 'ain',\n",
       " 'aren',\n",
       " \"aren't\",\n",
       " 'couldn',\n",
       " \"couldn't\",\n",
       " 'didn',\n",
       " \"didn't\",\n",
       " 'doesn',\n",
       " \"doesn't\",\n",
       " 'hadn',\n",
       " \"hadn't\",\n",
       " 'hasn',\n",
       " \"hasn't\",\n",
       " 'haven',\n",
       " \"haven't\",\n",
       " 'isn',\n",
       " \"isn't\",\n",
       " 'ma',\n",
       " 'mightn',\n",
       " \"mightn't\",\n",
       " 'mustn',\n",
       " \"mustn't\",\n",
       " 'needn',\n",
       " \"needn't\",\n",
       " 'shan',\n",
       " \"shan't\",\n",
       " 'shouldn',\n",
       " \"shouldn't\",\n",
       " 'wasn',\n",
       " \"wasn't\",\n",
       " 'weren',\n",
       " \"weren't\",\n",
       " 'won',\n",
       " \"won't\",\n",
       " 'wouldn',\n",
       " \"wouldn't\"]"
      ]
     },
     "execution_count": 54,
     "metadata": {},
     "output_type": "execute_result"
    }
   ],
   "source": [
    "# Stop words\n",
    "stop_words = list(stopwords.words('english'))\n",
    "\n",
    "df['Content_Parsed_6'] = df['Content_Parsed_5']     # Put 5 into 6\n",
    "\n",
    "for stop_word in stop_words:                        # Replace 6 with blank if it is a stopword\n",
    "\n",
    "    regex_stopword = r\"\\b\" + stop_word + r\"\\b\"\n",
    "    df['Content_Parsed_6'] = df['Content_Parsed_6'].str.replace(regex_stopword, '')\n",
    "\n",
    "# This might result in some double and triple spacing between words.  \n",
    "# That will be corrected when the content is tokenized.\n",
    "\n",
    "stop_words"
   ]
  },
  {
   "cell_type": "code",
   "execution_count": 55,
   "metadata": {},
   "outputs": [
    {
     "data": {
      "text/html": [
       "<div>\n",
       "<style scoped>\n",
       "    .dataframe tbody tr th:only-of-type {\n",
       "        vertical-align: middle;\n",
       "    }\n",
       "\n",
       "    .dataframe tbody tr th {\n",
       "        vertical-align: top;\n",
       "    }\n",
       "\n",
       "    .dataframe thead th {\n",
       "        text-align: right;\n",
       "    }\n",
       "</style>\n",
       "<table border=\"1\" class=\"dataframe\">\n",
       "  <thead>\n",
       "    <tr style=\"text-align: right;\">\n",
       "      <th></th>\n",
       "      <th>post</th>\n",
       "      <th>tags</th>\n",
       "      <th>News_length</th>\n",
       "      <th>Content_Parsed_1</th>\n",
       "      <th>Content_Parsed_2</th>\n",
       "      <th>Content_Parsed_3</th>\n",
       "      <th>Content_Parsed_4</th>\n",
       "      <th>Content_Parsed_5</th>\n",
       "      <th>Content_Parsed_6</th>\n",
       "    </tr>\n",
       "  </thead>\n",
       "  <tbody>\n",
       "    <tr>\n",
       "      <th>0</th>\n",
       "      <td>what is causing this behavior  in our c# datet...</td>\n",
       "      <td>c#</td>\n",
       "      <td>833</td>\n",
       "      <td>what is causing this behavior  in our c# datet...</td>\n",
       "      <td>what is causing this behavior  in our c# datet...</td>\n",
       "      <td>what is causing this behavior  in our c# datet...</td>\n",
       "      <td>what is causing this behavior  in our c# datet...</td>\n",
       "      <td>what be cause this behavior  in our c# datetim...</td>\n",
       "      <td>cause  behavior    c# datetime type  &lt;pre&gt;&lt;c...</td>\n",
       "    </tr>\n",
       "  </tbody>\n",
       "</table>\n",
       "</div>"
      ],
      "text/plain": [
       "                                                post tags  News_length  \\\n",
       "0  what is causing this behavior  in our c# datet...   c#          833   \n",
       "\n",
       "                                    Content_Parsed_1  \\\n",
       "0  what is causing this behavior  in our c# datet...   \n",
       "\n",
       "                                    Content_Parsed_2  \\\n",
       "0  what is causing this behavior  in our c# datet...   \n",
       "\n",
       "                                    Content_Parsed_3  \\\n",
       "0  what is causing this behavior  in our c# datet...   \n",
       "\n",
       "                                    Content_Parsed_4  \\\n",
       "0  what is causing this behavior  in our c# datet...   \n",
       "\n",
       "                                    Content_Parsed_5  \\\n",
       "0  what be cause this behavior  in our c# datetim...   \n",
       "\n",
       "                                    Content_Parsed_6  \n",
       "0    cause  behavior    c# datetime type  <pre><c...  "
      ]
     },
     "execution_count": 55,
     "metadata": {},
     "output_type": "execute_result"
    }
   ],
   "source": [
    "df.head(1)"
   ]
  },
  {
   "cell_type": "code",
   "execution_count": 56,
   "metadata": {},
   "outputs": [],
   "source": [
    "list_columns = ['tags', 'post', 'Content_Parsed_6']\n",
    "df = df[list_columns]\n",
    "\n",
    "df = df.rename(columns={'Content_Parsed_6': 'Content_Parsed'})"
   ]
  },
  {
   "cell_type": "code",
   "execution_count": 57,
   "metadata": {},
   "outputs": [
    {
     "data": {
      "text/html": [
       "<div>\n",
       "<style scoped>\n",
       "    .dataframe tbody tr th:only-of-type {\n",
       "        vertical-align: middle;\n",
       "    }\n",
       "\n",
       "    .dataframe tbody tr th {\n",
       "        vertical-align: top;\n",
       "    }\n",
       "\n",
       "    .dataframe thead th {\n",
       "        text-align: right;\n",
       "    }\n",
       "</style>\n",
       "<table border=\"1\" class=\"dataframe\">\n",
       "  <thead>\n",
       "    <tr style=\"text-align: right;\">\n",
       "      <th></th>\n",
       "      <th>tags</th>\n",
       "      <th>post</th>\n",
       "      <th>Content_Parsed</th>\n",
       "    </tr>\n",
       "  </thead>\n",
       "  <tbody>\n",
       "    <tr>\n",
       "      <th>0</th>\n",
       "      <td>c#</td>\n",
       "      <td>what is causing this behavior  in our c# datet...</td>\n",
       "      <td>cause  behavior    c# datetime type  &lt;pre&gt;&lt;c...</td>\n",
       "    </tr>\n",
       "    <tr>\n",
       "      <th>1</th>\n",
       "      <td>asp.net</td>\n",
       "      <td>have dynamic html load as if it was in an ifra...</td>\n",
       "      <td>dynamic html load       iframe     aspnet 40 ...</td>\n",
       "    </tr>\n",
       "    <tr>\n",
       "      <th>2</th>\n",
       "      <td>objective-c</td>\n",
       "      <td>how to convert a float value in to min:sec  i ...</td>\n",
       "      <td>convert  float value   minsec    try  conver...</td>\n",
       "    </tr>\n",
       "    <tr>\n",
       "      <th>3</th>\n",
       "      <td>.net</td>\n",
       "      <td>.net framework 4 redistributable  just wonderi...</td>\n",
       "      <td>net framework 4 redistributable   wonder    ge...</td>\n",
       "    </tr>\n",
       "    <tr>\n",
       "      <th>4</th>\n",
       "      <td>python</td>\n",
       "      <td>trying to calculate and print the mean and its...</td>\n",
       "      <td>try  calculate  print  mean   return   &lt;functi...</td>\n",
       "    </tr>\n",
       "  </tbody>\n",
       "</table>\n",
       "</div>"
      ],
      "text/plain": [
       "          tags                                               post  \\\n",
       "0           c#  what is causing this behavior  in our c# datet...   \n",
       "1      asp.net  have dynamic html load as if it was in an ifra...   \n",
       "2  objective-c  how to convert a float value in to min:sec  i ...   \n",
       "3         .net  .net framework 4 redistributable  just wonderi...   \n",
       "4       python  trying to calculate and print the mean and its...   \n",
       "\n",
       "                                      Content_Parsed  \n",
       "0    cause  behavior    c# datetime type  <pre><c...  \n",
       "1   dynamic html load       iframe     aspnet 40 ...  \n",
       "2    convert  float value   minsec    try  conver...  \n",
       "3  net framework 4 redistributable   wonder    ge...  \n",
       "4  try  calculate  print  mean   return   <functi...  "
      ]
     },
     "execution_count": 57,
     "metadata": {},
     "output_type": "execute_result"
    }
   ],
   "source": [
    "df.head()"
   ]
  },
  {
   "cell_type": "code",
   "execution_count": 58,
   "metadata": {},
   "outputs": [
    {
     "data": {
      "text/plain": [
       "array(['c#', 'asp.net', 'objective-c', '.net', 'python', 'angularjs',\n",
       "       'iphone', 'ruby-on-rails', 'ios', 'c', 'sql', 'java', 'jquery',\n",
       "       'css', 'c++', 'php', 'android', 'mysql', 'javascript', 'html'],\n",
       "      dtype=object)"
      ]
     },
     "execution_count": 58,
     "metadata": {},
     "output_type": "execute_result"
    }
   ],
   "source": [
    "df.tags.unique()"
   ]
  },
  {
   "cell_type": "markdown",
   "metadata": {},
   "source": [
    "## Coding the labels - Set up your codes"
   ]
  },
  {
   "cell_type": "code",
   "execution_count": 59,
   "metadata": {},
   "outputs": [
    {
     "data": {
      "text/html": [
       "<div>\n",
       "<style scoped>\n",
       "    .dataframe tbody tr th:only-of-type {\n",
       "        vertical-align: middle;\n",
       "    }\n",
       "\n",
       "    .dataframe tbody tr th {\n",
       "        vertical-align: top;\n",
       "    }\n",
       "\n",
       "    .dataframe thead th {\n",
       "        text-align: right;\n",
       "    }\n",
       "</style>\n",
       "<table border=\"1\" class=\"dataframe\">\n",
       "  <thead>\n",
       "    <tr style=\"text-align: right;\">\n",
       "      <th></th>\n",
       "      <th>tags</th>\n",
       "      <th>post</th>\n",
       "      <th>Content_Parsed</th>\n",
       "      <th>tags_code</th>\n",
       "    </tr>\n",
       "  </thead>\n",
       "  <tbody>\n",
       "    <tr>\n",
       "      <th>0</th>\n",
       "      <td>c#</td>\n",
       "      <td>what is causing this behavior  in our c# datet...</td>\n",
       "      <td>cause  behavior    c# datetime type  &lt;pre&gt;&lt;c...</td>\n",
       "      <td>19</td>\n",
       "    </tr>\n",
       "    <tr>\n",
       "      <th>1</th>\n",
       "      <td>asp.net</td>\n",
       "      <td>have dynamic html load as if it was in an ifra...</td>\n",
       "      <td>dynamic html load       iframe     aspnet 40 ...</td>\n",
       "      <td>0</td>\n",
       "    </tr>\n",
       "    <tr>\n",
       "      <th>2</th>\n",
       "      <td>objective-c</td>\n",
       "      <td>how to convert a float value in to min:sec  i ...</td>\n",
       "      <td>convert  float value   minsec    try  conver...</td>\n",
       "      <td>1</td>\n",
       "    </tr>\n",
       "    <tr>\n",
       "      <th>3</th>\n",
       "      <td>.net</td>\n",
       "      <td>.net framework 4 redistributable  just wonderi...</td>\n",
       "      <td>net framework 4 redistributable   wonder    ge...</td>\n",
       "      <td>2</td>\n",
       "    </tr>\n",
       "    <tr>\n",
       "      <th>4</th>\n",
       "      <td>python</td>\n",
       "      <td>trying to calculate and print the mean and its...</td>\n",
       "      <td>try  calculate  print  mean   return   &lt;functi...</td>\n",
       "      <td>3</td>\n",
       "    </tr>\n",
       "  </tbody>\n",
       "</table>\n",
       "</div>"
      ],
      "text/plain": [
       "          tags                                               post  \\\n",
       "0           c#  what is causing this behavior  in our c# datet...   \n",
       "1      asp.net  have dynamic html load as if it was in an ifra...   \n",
       "2  objective-c  how to convert a float value in to min:sec  i ...   \n",
       "3         .net  .net framework 4 redistributable  just wonderi...   \n",
       "4       python  trying to calculate and print the mean and its...   \n",
       "\n",
       "                                      Content_Parsed  tags_code  \n",
       "0    cause  behavior    c# datetime type  <pre><c...         19  \n",
       "1   dynamic html load       iframe     aspnet 40 ...          0  \n",
       "2    convert  float value   minsec    try  conver...          1  \n",
       "3  net framework 4 redistributable   wonder    ge...          2  \n",
       "4  try  calculate  print  mean   return   <functi...          3  "
      ]
     },
     "execution_count": 59,
     "metadata": {},
     "output_type": "execute_result"
    }
   ],
   "source": [
    "# You need to change this code!!!\n",
    "# And then makesure column names are consistent throughout the rest of the code.\n",
    "\n",
    "tagcodes = {\n",
    "    'c#':19, \n",
    "    'asp.net':0, \n",
    "    'objective-c':1, \n",
    "    '.net':2, \n",
    "    'python':3, \n",
    "    'angularjs':4,\n",
    "    'iphone':5, \n",
    "    'ruby-on-rails':6, \n",
    "    'ios':7, \n",
    "    'c':8, \n",
    "    'sql':9, \n",
    "    'java':10, \n",
    "    'jquery':11,\n",
    "    'css':12, \n",
    "    'c++':13, \n",
    "    'php':14, \n",
    "    'android':15, \n",
    "    'mysql':16, \n",
    "    'javascript':17, \n",
    "    'html':18\n",
    "}\n",
    "\n",
    "# Category mapping\n",
    "df['tags_code'] = df['tags']\n",
    "df = df.replace({'tags_code':tagcodes})\n",
    "df.head()"
   ]
  },
  {
   "cell_type": "markdown",
   "metadata": {},
   "source": [
    "## Create the train and test sets"
   ]
  },
  {
   "cell_type": "code",
   "execution_count": 60,
   "metadata": {},
   "outputs": [],
   "source": [
    "X_train, X_test, y_train, y_test = train_test_split(df['Content_Parsed'], \n",
    "                                                    df['tags_code'], \n",
    "                                                    test_size=0.15, \n",
    "                                                    random_state=8)"
   ]
  },
  {
   "cell_type": "markdown",
   "metadata": {},
   "source": [
    "## Create features using TF-IDF\n",
    "\n",
    "We have various options:\n",
    "\n",
    "* Count Vectors as features\n",
    "* TF-IDF Vectors as features\n",
    "* Word Embeddings as features\n",
    "* Text / NLP based features\n",
    "* Topic Models as features\n",
    "\n",
    "*Count vectors and TF-IDF are considered 'bag of words' methods that do not take the order of words in a sentence into consideration.*\n",
    "\n",
    "An almost understandable word embedding article - https://jalammar.github.io/illustrated-word2vec/\n",
    "\n",
    "Another... https://medium.com/geekculture/word-embeddings-in-ai-10a9e430cb59"
   ]
  },
  {
   "cell_type": "markdown",
   "metadata": {},
   "source": [
    "We have to define the different parameters:\n",
    "\n",
    "* `ngram_range`: We want to consider both unigrams and bigrams.\n",
    "* `max_df`: When building the vocabulary ignore terms that have a document\n",
    "    frequency strictly higher than the given threshold\n",
    "* `min_df`: When building the vocabulary ignore terms that have a document\n",
    "    frequency strictly lower than the given threshold.\n",
    "* `max_features`: If not None, build a vocabulary that only consider the top\n",
    "    max_features ordered by term frequency across the corpus."
   ]
  },
  {
   "cell_type": "code",
   "execution_count": 61,
   "metadata": {},
   "outputs": [],
   "source": [
    "# Parameter election\n",
    "ngram_range = (1,2)\n",
    "min_df = 10\n",
    "max_df = 1.\n",
    "max_features = 300"
   ]
  },
  {
   "cell_type": "markdown",
   "metadata": {},
   "source": [
    "## Creating the features"
   ]
  },
  {
   "cell_type": "code",
   "execution_count": 62,
   "metadata": {},
   "outputs": [
    {
     "name": "stdout",
     "output_type": "stream",
     "text": [
      "(34000, 300)\n",
      "(6000, 300)\n"
     ]
    }
   ],
   "source": [
    "tfidf = TfidfVectorizer(encoding='utf-8',\n",
    "                        ngram_range=ngram_range,\n",
    "                        stop_words=None,\n",
    "                        lowercase=False,\n",
    "                        max_df=max_df,\n",
    "                        min_df=min_df,\n",
    "                        max_features=max_features,\n",
    "                        norm='l2',\n",
    "                        sublinear_tf=True)\n",
    "                        \n",
    "features_train = tfidf.fit_transform(X_train).toarray()\n",
    "labels_train = y_train\n",
    "print(features_train.shape)\n",
    "\n",
    "features_test = tfidf.transform(X_test).toarray()\n",
    "labels_test = y_test\n",
    "print(features_test.shape)"
   ]
  },
  {
   "cell_type": "markdown",
   "metadata": {},
   "source": [
    "## Looking at the result"
   ]
  },
  {
   "cell_type": "code",
   "execution_count": 63,
   "metadata": {},
   "outputs": [
    {
     "name": "stdout",
     "output_type": "stream",
     "text": [
      "# '.net' category:\n",
      "  . Most correlated unigrams:\n",
      ". pre\n",
      ". project\n",
      ". version\n",
      ". application\n",
      ". net\n",
      "  . Most correlated bigrams:\n",
      ". pre code\n",
      ". code pre\n",
      "\n",
      "# 'android' category:\n",
      "  . Most correlated unigrams:\n",
      ". view\n",
      ". app\n",
      ". public\n",
      ". override\n",
      ". android\n",
      "  . Most correlated bigrams:\n",
      ". div gt\n",
      ". public void\n",
      "\n",
      "# 'angularjs' category:\n",
      "  . Most correlated unigrams:\n",
      ". function\n",
      ". model\n",
      ". controller\n",
      ". scope\n",
      ". ng\n",
      "  . Most correlated bigrams:\n",
      ". div gt\n",
      ". lt div\n",
      "\n",
      "# 'asp.net' category:\n",
      "  . Most correlated unigrams:\n",
      ". application\n",
      ". web\n",
      ". page\n",
      ". control\n",
      ". server\n",
      "  . Most correlated bigrams:\n",
      ". lt lt\n",
      ". gt lt\n",
      "\n",
      "# 'c' category:\n",
      "  . Most correlated unigrams:\n",
      ". main\n",
      ". include\n",
      ". int\n",
      ". char\n",
      ". printf\n",
      "  . Most correlated bigrams:\n",
      ". gt lt\n",
      ". amp amp\n",
      "\n",
      "# 'c#' category:\n",
      "  . Most correlated unigrams:\n",
      ". static\n",
      ". new\n",
      ". private\n",
      ". string\n",
      ". public\n",
      "  . Most correlated bigrams:\n",
      ". public void\n",
      ". gt lt\n",
      "\n",
      "# 'c++' category:\n",
      "  . Most correlated unigrams:\n",
      ". char\n",
      ". include\n",
      ". int\n",
      ". const\n",
      ". cout\n",
      "  . Most correlated bigrams:\n",
      ". cout lt\n",
      ". lt lt\n",
      "\n",
      "# 'css' category:\n",
      "  . Most correlated unigrams:\n",
      ". div\n",
      ". width\n",
      ". background\n",
      ". border\n",
      ". css\n",
      "  . Most correlated bigrams:\n",
      ". lt div\n",
      ". div gt\n",
      "\n",
      "# 'html' category:\n",
      "  . Most correlated unigrams:\n",
      ". div\n",
      ". page\n",
      ". lta\n",
      ". tag\n",
      ". html\n",
      "  . Most correlated bigrams:\n",
      ". gt code\n",
      ". gt lt\n",
      "\n",
      "# 'ios' category:\n",
      "  . Most correlated unigrams:\n",
      ". self\n",
      ". nsstring\n",
      ". alloc\n",
      ". view\n",
      ". app\n",
      "  . Most correlated bigrams:\n",
      ". https istackimgurcom\n",
      ". gt lt\n",
      "\n",
      "# 'iphone' category:\n",
      "  . Most correlated unigrams:\n",
      ". application\n",
      ". alloc\n",
      ". view\n",
      ". app\n",
      ". iphone\n",
      "  . Most correlated bigrams:\n",
      ". gt code\n",
      ". gt lt\n",
      "\n",
      "# 'java' category:\n",
      "  . Most correlated unigrams:\n",
      ". string\n",
      ". static\n",
      ". public\n",
      ". systemoutprintln\n",
      ". java\n",
      "  . Most correlated bigrams:\n",
      ". gt lt\n",
      ". public void\n",
      "\n",
      "# 'javascript' category:\n",
      "  . Most correlated unigrams:\n",
      ". script\n",
      ". js\n",
      ". function\n",
      ". var\n",
      ". javascript\n",
      "  . Most correlated bigrams:\n",
      ". gt ltinput\n",
      ". type text\n",
      "\n",
      "# 'jquery' category:\n",
      "  . Most correlated unigrams:\n",
      ". var\n",
      ". div\n",
      ". function\n",
      ". click\n",
      ". jquery\n",
      "  . Most correlated bigrams:\n",
      ". lt div\n",
      ". div gt\n",
      "\n",
      "# 'mysql' category:\n",
      "  . Most correlated unigrams:\n",
      ". join\n",
      ". select\n",
      ". query\n",
      ". table\n",
      ". mysql\n",
      "  . Most correlated bigrams:\n",
      ". gt code\n",
      ". gt lt\n",
      "\n",
      "# 'objective-c' category:\n",
      "  . Most correlated unigrams:\n",
      ". method\n",
      ". property\n",
      ". self\n",
      ". alloc\n",
      ". nsstring\n",
      "  . Most correlated bigrams:\n",
      ". gt code\n",
      ". gt lt\n",
      "\n",
      "# 'php' category:\n",
      "  . Most correlated unigrams:\n",
      ". email\n",
      ". ltbr\n",
      ". array\n",
      ". echo\n",
      ". php\n",
      "  . Most correlated bigrams:\n",
      ". ltinput type\n",
      ". ltbr gt\n",
      "\n",
      "# 'python' category:\n",
      "  . Most correlated unigrams:\n",
      ". list\n",
      ". import\n",
      ". def\n",
      ". print\n",
      ". python\n",
      "  . Most correlated bigrams:\n",
      ". gt lt\n",
      ". gt gt\n",
      "\n",
      "# 'ruby-on-rails' category:\n",
      "  . Most correlated unigrams:\n",
      ". lib\n",
      ". def\n",
      ". end\n",
      ". model\n",
      ". rail\n",
      "  . Most correlated bigrams:\n",
      ". gt code\n",
      ". gt lt\n",
      "\n",
      "# 'sql' category:\n",
      "  . Most correlated unigrams:\n",
      ". select\n",
      ". join\n",
      ". table\n",
      ". query\n",
      ". sql\n",
      "  . Most correlated bigrams:\n",
      ". gt code\n",
      ". gt lt\n",
      "\n"
     ]
    }
   ],
   "source": [
    "from sklearn.feature_selection import chi2\n",
    "import numpy as np\n",
    "\n",
    "for Product, category_id in sorted(tagcodes.items()):\n",
    "    features_chi2 = chi2(features_train, labels_train == category_id)\n",
    "    indices = np.argsort(features_chi2[0])\n",
    "    feature_names = np.array(tfidf.get_feature_names())[indices]\n",
    "    unigrams = [v for v in feature_names if len(v.split(' ')) == 1]\n",
    "    bigrams = [v for v in feature_names if len(v.split(' ')) == 2]\n",
    "    print(\"# '{}' category:\".format(Product))\n",
    "    print(\"  . Most correlated unigrams:\\n. {}\".format('\\n. '.join(unigrams[-5:])))\n",
    "    print(\"  . Most correlated bigrams:\\n. {}\".format('\\n. '.join(bigrams[-2:])))\n",
    "    print(\"\")\n"
   ]
  },
  {
   "cell_type": "code",
   "execution_count": 64,
   "metadata": {},
   "outputs": [
    {
     "data": {
      "text/plain": [
       "['https istackimgurcom',\n",
       " 'would like',\n",
       " 'lt gt',\n",
       " 'li li',\n",
       " 'href https',\n",
       " 'ltbr gt',\n",
       " 'gt ltli',\n",
       " 'code pre',\n",
       " 'lt li',\n",
       " 'li gt',\n",
       " 'gt lttd',\n",
       " 'ltdiv id',\n",
       " 'gt lta',\n",
       " 'td gt',\n",
       " 'lt td',\n",
       " 'amp amp',\n",
       " 'cout lt',\n",
       " 'gt ltinput',\n",
       " 'lta href',\n",
       " 'ltinput type',\n",
       " 'code code',\n",
       " 'pre code',\n",
       " 'type text',\n",
       " 'rel nofollow',\n",
       " 'public void',\n",
       " 'gt gt',\n",
       " 'href http',\n",
       " 'ltdiv class',\n",
       " 'like pre',\n",
       " 'lt lt',\n",
       " 'gt ltdiv',\n",
       " 'lt div',\n",
       " 'div gt',\n",
       " 'gt code',\n",
       " 'gt lt']"
      ]
     },
     "execution_count": 64,
     "metadata": {},
     "output_type": "execute_result"
    }
   ],
   "source": [
    "bigrams"
   ]
  },
  {
   "cell_type": "markdown",
   "metadata": {},
   "source": [
    "# Save the data & features"
   ]
  },
  {
   "cell_type": "code",
   "execution_count": 65,
   "metadata": {},
   "outputs": [],
   "source": [
    "# X_train\n",
    "with open('/Users/jimcody/Documents/2021Python/nlp/data/Pickles2/X_train.pickle', 'wb') as output:\n",
    "    pickle.dump(X_train, output)\n",
    "    \n",
    "# X_test    \n",
    "with open('/Users/jimcody/Documents/2021Python/nlp/data/Pickles2/X_test.pickle', 'wb') as output:\n",
    "    pickle.dump(X_test, output)\n",
    "    \n",
    "# y_train\n",
    "with open('/Users/jimcody/Documents/2021Python/nlp/data/Pickles2/y_train.pickle', 'wb') as output:\n",
    "    pickle.dump(y_train, output)\n",
    "    \n",
    "# y_test\n",
    "with open('/Users/jimcody/Documents/2021Python/nlp/data/Pickles2/y_test.pickle', 'wb') as output:\n",
    "    pickle.dump(y_test, output)\n",
    "    \n",
    "# df\n",
    "with open('/Users/jimcody/Documents/2021Python/nlp/data/Pickles2/df.pickle', 'wb') as output:\n",
    "    pickle.dump(df, output)\n",
    "    \n",
    "# features_train\n",
    "with open('/Users/jimcody/Documents/2021Python/nlp/data/Pickles2/features_train.pickle', 'wb') as output:\n",
    "    pickle.dump(features_train, output)\n",
    "\n",
    "# labels_train\n",
    "with open('/Users/jimcody/Documents/2021Python/nlp/data/Pickles2/labels_train.pickle', 'wb') as output:\n",
    "    pickle.dump(labels_train, output)\n",
    "\n",
    "# features_test\n",
    "with open('/Users/jimcody/Documents/2021Python/nlp/data/Pickles2/features_test.pickle', 'wb') as output:\n",
    "    pickle.dump(features_test, output)\n",
    "\n",
    "# labels_test\n",
    "with open('/Users/jimcody/Documents/2021Python/nlp/data/Pickles2/labels_test.pickle', 'wb') as output:\n",
    "    pickle.dump(labels_test, output)\n",
    "    \n",
    "# TF-IDF object\n",
    "with open('/Users/jimcody/Documents/2021Python/nlp/data/Pickles2/tfidf.pickle', 'wb') as output:\n",
    "    pickle.dump(tfidf, output)"
   ]
  }
 ],
 "metadata": {
  "kernelspec": {
   "display_name": "Python 3 (ipykernel)",
   "language": "python",
   "name": "python3"
  },
  "language_info": {
   "codemirror_mode": {
    "name": "ipython",
    "version": 3
   },
   "file_extension": ".py",
   "mimetype": "text/x-python",
   "name": "python",
   "nbconvert_exporter": "python",
   "pygments_lexer": "ipython3",
   "version": "3.8.12"
  },
  "toc": {
   "base_numbering": 1,
   "nav_menu": {},
   "number_sections": false,
   "sideBar": true,
   "skip_h1_title": false,
   "title_cell": "Table of Contents",
   "title_sidebar": "Contents",
   "toc_cell": true,
   "toc_position": {
    "height": "calc(100% - 180px)",
    "left": "10px",
    "top": "150px",
    "width": "411px"
   },
   "toc_section_display": true,
   "toc_window_display": true
  },
  "varInspector": {
   "cols": {
    "lenName": 16,
    "lenType": 16,
    "lenVar": 40
   },
   "kernels_config": {
    "python": {
     "delete_cmd_postfix": "",
     "delete_cmd_prefix": "del ",
     "library": "var_list.py",
     "varRefreshCmd": "print(var_dic_list())"
    },
    "r": {
     "delete_cmd_postfix": ") ",
     "delete_cmd_prefix": "rm(",
     "library": "var_list.r",
     "varRefreshCmd": "cat(var_dic_list()) "
    }
   },
   "types_to_exclude": [
    "module",
    "function",
    "builtin_function_or_method",
    "instance",
    "_Feature"
   ],
   "window_display": false
  }
 },
 "nbformat": 4,
 "nbformat_minor": 2
}
