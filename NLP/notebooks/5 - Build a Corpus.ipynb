{
 "cells": [
  {
   "cell_type": "markdown",
   "id": "39332956",
   "metadata": {
    "toc": true
   },
   "source": [
    "<h1>Table of Contents<span class=\"tocSkip\"></span></h1>\n",
    "<div class=\"toc\"><ul class=\"toc-item\"></ul></div>"
   ]
  },
  {
   "cell_type": "code",
   "execution_count": null,
   "id": "a7cac73a",
   "metadata": {},
   "outputs": [],
   "source": [
    "import pandas as pd\n",
    "x = pd.read_table('/Users/jimcody/Documents/2021Python/nlp/data/Health-Tweets/bbchealth.txt', \n",
    "                  delimiter = '|',\n",
    "                  header = None)\n",
    "x.head()"
   ]
  },
  {
   "cell_type": "code",
   "execution_count": null,
   "id": "469c1fad",
   "metadata": {},
   "outputs": [],
   "source": [
    "import os\n",
    "# find all the txt files in the dataset folder\n",
    "inputs = []\n",
    "for file in os.listdir('/Users/jimcody/Documents/2021Python/nlp/data/Health-Tweets'):\n",
    "    if file.endswith(\".txt\"):\n",
    "        inputs.append(os.path.join('/Users/jimcody/Documents/2021Python/nlp/data/Health-Tweets', file))\n",
    " \n",
    " \n",
    "# concatanate all txt files in a file called merged_file.txt\n",
    "with open('merged_file.txt', 'w') as outfile:\n",
    "    for fname in inputs:\n",
    "        with open(fname, encoding=\"utf-8\", errors='ignore') as infile:\n",
    "            outfile.write(infile.read())"
   ]
  },
  {
   "cell_type": "code",
   "execution_count": null,
   "id": "47f04a9f",
   "metadata": {},
   "outputs": [],
   "source": [
    "import pandas as pd\n",
    "\n",
    "with  open('merged_file.txt','r') as file:\n",
    "    print(file.read())\n",
    "          \n",
    "y = pd.read_table('merged_file.txt',  header=None, index_col=None, names = ['aaa'])\n",
    "y.head()"
   ]
  },
  {
   "cell_type": "code",
   "execution_count": null,
   "id": "8ef304ae",
   "metadata": {},
   "outputs": [],
   "source": [
    "y.columns"
   ]
  },
  {
   "cell_type": "code",
   "execution_count": null,
   "id": "018c656c",
   "metadata": {},
   "outputs": [],
   "source": [
    "# new data frame with split value columns\n",
    "\n",
    "y = y['aaa'].str.split(\"|\", expand = True)\n",
    "  \n",
    "# df display\n",
    "y"
   ]
  },
  {
   "cell_type": "code",
   "execution_count": null,
   "id": "acac4a89",
   "metadata": {},
   "outputs": [],
   "source": [
    "z = y.iloc[:,2]\n",
    "z"
   ]
  },
  {
   "cell_type": "code",
   "execution_count": null,
   "id": "7c555bcb",
   "metadata": {},
   "outputs": [],
   "source": [
    "z.shape\n"
   ]
  },
  {
   "cell_type": "code",
   "execution_count": null,
   "id": "4bccecd7",
   "metadata": {},
   "outputs": [],
   "source": []
  }
 ],
 "metadata": {
  "kernelspec": {
   "display_name": "Python 3 (ipykernel)",
   "language": "python",
   "name": "python3"
  },
  "language_info": {
   "codemirror_mode": {
    "name": "ipython",
    "version": 3
   },
   "file_extension": ".py",
   "mimetype": "text/x-python",
   "name": "python",
   "nbconvert_exporter": "python",
   "pygments_lexer": "ipython3",
   "version": "3.8.12"
  },
  "toc": {
   "base_numbering": 1,
   "nav_menu": {},
   "number_sections": true,
   "sideBar": true,
   "skip_h1_title": false,
   "title_cell": "Table of Contents",
   "title_sidebar": "Contents",
   "toc_cell": true,
   "toc_position": {},
   "toc_section_display": true,
   "toc_window_display": true
  }
 },
 "nbformat": 4,
 "nbformat_minor": 5
}
