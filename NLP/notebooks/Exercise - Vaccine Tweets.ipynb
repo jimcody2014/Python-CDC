{
 "cells": [
  {
   "cell_type": "markdown",
   "metadata": {},
   "source": [
    "# 30 minutes"
   ]
  },
  {
   "cell_type": "markdown",
   "metadata": {
    "toc": true
   },
   "source": [
    "<h1>Table of Contents<span class=\"tocSkip\"></span></h1>\n",
    "<div class=\"toc\"><ul class=\"toc-item\"><li><span><a href=\"#Instructions\" data-toc-modified-id=\"Instructions-0\">Instructions</a></span><ul class=\"toc-item\"><li><span><a href=\"#Get-data-from-kaggle.com\" data-toc-modified-id=\"Get-data-from-kaggle.com-0.1\">Get data from kaggle.com</a></span></li><li><span><a href=\"#Load-a-dataframe\" data-toc-modified-id=\"Load-a-dataframe-0.2\">Load a dataframe</a></span></li><li><span><a href=\"#Basic-pre-processing\" data-toc-modified-id=\"Basic-pre-processing-0.3\">Basic pre-processing</a></span></li></ul></li></ul></div>"
   ]
  },
  {
   "cell_type": "markdown",
   "metadata": {},
   "source": [
    "## Instructions\n",
    "\n",
    "1. Load this data set from kaggle - kaggle datasets download -d gpreda/pfizer-vaccine-tweets\n",
    "2. Determine the shape of the dataframe\n",
    "3. Review the data types\n",
    "4. Drop the id column\n",
    "5. Check for null values\n",
    "6. Perform the following pre-processing on the 'text' column. \n",
    "    - (new column1) change all text to lowercase\n",
    "    - (new column2) use new column1 and remove contractions.  \n",
    "    - (new column3) use new column2 and string the data back together\n",
    "    - (new column4) use new column3 and tokenize into sentences\n",
    "    - (new column5) use new column3, again, and tokenize into words   \n",
    "    - (new column6) use new column5 and special characters\n",
    "    - (new column7) use new column6 and remove stop words\n",
    "    - (new column8) use new column7 and perform stemming\n",
    "    - (new column9) use new column8 and perform lemmanization\n",
    "    - add columns tweet length and tweet word count"
   ]
  },
  {
   "cell_type": "markdown",
   "metadata": {},
   "source": [
    "### Get data from kaggle.com"
   ]
  },
  {
   "cell_type": "code",
   "execution_count": null,
   "metadata": {},
   "outputs": [],
   "source": [
    "#from google.colab import drive\n",
    "#drive.mount('/content/drive')"
   ]
  },
  {
   "cell_type": "code",
   "execution_count": null,
   "metadata": {},
   "outputs": [],
   "source": [
    "#from google.colab import files\n",
    "\n",
    "## Upload your kaggle json file (API Token)\n",
    "#files.upload()\n",
    "\n",
    "#!mkdir ~/.kaggle\n",
    "\n",
    "#!cp kaggle.json ~/.kaggle/\n",
    "\n",
    "#!chmod 600 ~/.kaggle/kaggle.json"
   ]
  },
  {
   "cell_type": "code",
   "execution_count": 1,
   "metadata": {},
   "outputs": [
    {
     "name": "stdout",
     "output_type": "stream",
     "text": [
      "zsh:1: command not found: kaggle\r\n"
     ]
    }
   ],
   "source": [
    "#!kaggle datasets download -d gpreda/pfizer-vaccine-tweets"
   ]
  },
  {
   "cell_type": "code",
   "execution_count": null,
   "metadata": {},
   "outputs": [],
   "source": [
    "#!ls"
   ]
  },
  {
   "cell_type": "code",
   "execution_count": null,
   "metadata": {},
   "outputs": [],
   "source": [
    "#!mkdir data\n",
    "\n",
    "#!unzip zip file name -d data"
   ]
  },
  {
   "cell_type": "code",
   "execution_count": null,
   "metadata": {},
   "outputs": [],
   "source": [
    "#!ls -l data/"
   ]
  },
  {
   "cell_type": "markdown",
   "metadata": {},
   "source": [
    "### Load a dataframe"
   ]
  },
  {
   "cell_type": "code",
   "execution_count": null,
   "metadata": {},
   "outputs": [],
   "source": [
    "# Imports\n",
    "import pandas as pd\n",
    "\n",
    "# What other imports are required?\n"
   ]
  },
  {
   "cell_type": "code",
   "execution_count": null,
   "metadata": {},
   "outputs": [],
   "source": []
  },
  {
   "cell_type": "markdown",
   "metadata": {},
   "source": [
    "### Basic pre-processing"
   ]
  },
  {
   "cell_type": "code",
   "execution_count": null,
   "metadata": {},
   "outputs": [],
   "source": []
  }
 ],
 "metadata": {
  "kernelspec": {
   "display_name": "Python 3 (ipykernel)",
   "language": "python",
   "name": "python3"
  },
  "language_info": {
   "codemirror_mode": {
    "name": "ipython",
    "version": 3
   },
   "file_extension": ".py",
   "mimetype": "text/x-python",
   "name": "python",
   "nbconvert_exporter": "python",
   "pygments_lexer": "ipython3",
   "version": "3.8.12"
  },
  "toc": {
   "base_numbering": "",
   "nav_menu": {},
   "number_sections": false,
   "sideBar": true,
   "skip_h1_title": false,
   "title_cell": "Table of Contents",
   "title_sidebar": "Contents",
   "toc_cell": true,
   "toc_position": {},
   "toc_section_display": true,
   "toc_window_display": true
  }
 },
 "nbformat": 4,
 "nbformat_minor": 2
}
