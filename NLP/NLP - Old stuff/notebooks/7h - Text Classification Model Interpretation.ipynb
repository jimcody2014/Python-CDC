{
 "cells": [
  {
   "cell_type": "markdown",
   "metadata": {},
   "source": [
    "# Model Interpretation"
   ]
  },
  {
   "cell_type": "markdown",
   "metadata": {},
   "source": [
    "At this point we have selected the SVM as our preferred model to do the predictions. We will now study its behaviour by analyzing misclassified articles. Hopefully this will give us some insights on the way the model is working."
   ]
  },
  {
   "cell_type": "code",
   "execution_count": 5,
   "metadata": {},
   "outputs": [],
   "source": [
    "import pickle\n",
    "import pandas as pd\n",
    "import numpy as np\n",
    "import random"
   ]
  },
  {
   "cell_type": "markdown",
   "metadata": {},
   "source": [
    "Let's load what we need:"
   ]
  },
  {
   "cell_type": "code",
   "execution_count": 20,
   "metadata": {},
   "outputs": [
    {
     "ename": "FileNotFoundError",
     "evalue": "[Errno 2] No such file or directory: '/Users/jimcody/Documents/2021Python/nlp/data/Pickles/best_svc.pickle'",
     "output_type": "error",
     "traceback": [
      "\u001b[0;31m---------------------------------------------------------------------------\u001b[0m",
      "\u001b[0;31mFileNotFoundError\u001b[0m                         Traceback (most recent call last)",
      "\u001b[0;32m/var/folders/0q/ntwcxlqn1111n9nhc76xwp1w0000gn/T/ipykernel_1585/447355690.py\u001b[0m in \u001b[0;36m<module>\u001b[0;34m\u001b[0m\n\u001b[1;32m     46\u001b[0m \u001b[0;31m# SVM Model\u001b[0m\u001b[0;34m\u001b[0m\u001b[0;34m\u001b[0m\u001b[0;34m\u001b[0m\u001b[0m\n\u001b[1;32m     47\u001b[0m \u001b[0mpath_model\u001b[0m \u001b[0;34m=\u001b[0m \u001b[0;34m\"/Users/jimcody/Documents/2021Python/nlp/data/Pickles/best_svc.pickle\"\u001b[0m\u001b[0;34m\u001b[0m\u001b[0;34m\u001b[0m\u001b[0m\n\u001b[0;32m---> 48\u001b[0;31m \u001b[0;32mwith\u001b[0m \u001b[0mopen\u001b[0m\u001b[0;34m(\u001b[0m\u001b[0mpath_model\u001b[0m\u001b[0;34m,\u001b[0m \u001b[0;34m'rb'\u001b[0m\u001b[0;34m)\u001b[0m \u001b[0;32mas\u001b[0m \u001b[0mdata\u001b[0m\u001b[0;34m:\u001b[0m\u001b[0;34m\u001b[0m\u001b[0;34m\u001b[0m\u001b[0m\n\u001b[0m\u001b[1;32m     49\u001b[0m     \u001b[0msvc_model\u001b[0m \u001b[0;34m=\u001b[0m \u001b[0mpickle\u001b[0m\u001b[0;34m.\u001b[0m\u001b[0mload\u001b[0m\u001b[0;34m(\u001b[0m\u001b[0mdata\u001b[0m\u001b[0;34m)\u001b[0m\u001b[0;34m\u001b[0m\u001b[0;34m\u001b[0m\u001b[0m\n\u001b[1;32m     50\u001b[0m \u001b[0;34m\u001b[0m\u001b[0m\n",
      "\u001b[0;31mFileNotFoundError\u001b[0m: [Errno 2] No such file or directory: '/Users/jimcody/Documents/2021Python/nlp/data/Pickles/best_svc.pickle'"
     ]
    }
   ],
   "source": [
    "# Dataframe\n",
    "path_df = \"/Users/jimcody/Documents/2021Python/nlp/data/Pickles/df.pickle\"\n",
    "with open(path_df, 'rb') as data:\n",
    "    df = pickle.load(data)\n",
    "    \n",
    "# X_train\n",
    "path_X_train = \"/Users/jimcody/Documents/2021Python/nlp/data/Pickles/X_train.pickle\"\n",
    "with open(path_X_train, 'rb') as data:\n",
    "    X_train = pickle.load(data)\n",
    "\n",
    "# X_test\n",
    "path_X_test = \"/Users/jimcody/Documents/2021Python/nlp/data/Pickles/X_test.pickle\"\n",
    "with open(path_X_test, 'rb') as data:\n",
    "    X_test = pickle.load(data)\n",
    "\n",
    "# y_train\n",
    "path_y_train = \"/Users/jimcody/Documents/2021Python/nlp/data/Pickles/y_train.pickle\"\n",
    "with open(path_y_train, 'rb') as data:\n",
    "    y_train = pickle.load(data)\n",
    "\n",
    "# y_test\n",
    "path_y_test = \"/Users/jimcody/Documents/2021Python/nlp/data/Pickles/y_test.pickle\"\n",
    "with open(path_y_test, 'rb') as data:\n",
    "    y_test = pickle.load(data)\n",
    "\n",
    "# features_train\n",
    "path_features_train = \"/Users/jimcody/Documents/2021Python/nlp/data/Pickles/features_train.pickle\"\n",
    "with open(path_features_train, 'rb') as data:\n",
    "    features_train = pickle.load(data)\n",
    "\n",
    "# labels_train\n",
    "path_labels_train = \"/Users/jimcody/Documents/2021Python/nlp/data/Pickles/labels_train.pickle\"\n",
    "with open(path_labels_train, 'rb') as data:\n",
    "    labels_train = pickle.load(data)\n",
    "\n",
    "# features_test\n",
    "path_features_test = \"/Users/jimcody/Documents/2021Python/nlp/data/Pickles/features_test.pickle\"\n",
    "with open(path_features_test, 'rb') as data:\n",
    "    features_test = pickle.load(data)\n",
    "\n",
    "# labels_test\n",
    "path_labels_test = \"/Users/jimcody/Documents/2021Python/nlp/data/Pickles/labels_test.pickle\"\n",
    "with open(path_labels_test, 'rb') as data:\n",
    "    labels_test = pickle.load(data)\n",
    "    \n",
    "# SVM Model\n",
    "path_model = \"/Users/jimcody/Documents/2021Python/nlp/data/Pickles/best_svc.pickle\"\n",
    "with open(path_model, 'rb') as data:\n",
    "    svc_model = pickle.load(data)\n",
    "    \n",
    "# Category mapping dictionary\n",
    "category_codes = {\n",
    "    'business': 0,\n",
    "    'entertainment': 1,\n",
    "    'politics': 2,\n",
    "    'sport': 3,\n",
    "    'tech': 4\n",
    "}\n",
    "\n",
    "category_names = {\n",
    "    0: 'business',\n",
    "    1: 'entertainment',\n",
    "    2: 'politics',\n",
    "    3: 'sport',\n",
    "    4: 'tech'\n",
    "}"
   ]
  },
  {
   "cell_type": "markdown",
   "metadata": {},
   "source": [
    "Let's get the predictions on the test set:"
   ]
  },
  {
   "cell_type": "code",
   "execution_count": 7,
   "metadata": {},
   "outputs": [],
   "source": [
    "predictions = svc_model.predict(features_test)"
   ]
  },
  {
   "cell_type": "markdown",
   "metadata": {},
   "source": [
    "Now we'll create the Test Set dataframe with the actual and predicted categories:"
   ]
  },
  {
   "cell_type": "code",
   "execution_count": 8,
   "metadata": {},
   "outputs": [],
   "source": [
    "# Indexes of the test set\n",
    "index_X_test = X_test.index\n",
    "\n",
    "# We get them from the original df\n",
    "df_test = df.loc[index_X_test]\n",
    "\n",
    "# Add the predictions\n",
    "df_test['Prediction'] = predictions\n",
    "\n",
    "# Clean columns\n",
    "df_test = df_test[['Content', 'Category', 'Category_Code', 'Prediction']]\n",
    "\n",
    "# Decode\n",
    "df_test['Category_Predicted'] = df_test['Prediction']\n",
    "df_test = df_test.replace({'Category_Predicted':category_names})\n",
    "\n",
    "# Clean columns again\n",
    "df_test = df_test[['Content', 'Category', 'Category_Predicted']]"
   ]
  },
  {
   "cell_type": "code",
   "execution_count": 9,
   "metadata": {},
   "outputs": [
    {
     "data": {
      "text/html": [
       "<div>\n",
       "<style scoped>\n",
       "    .dataframe tbody tr th:only-of-type {\n",
       "        vertical-align: middle;\n",
       "    }\n",
       "\n",
       "    .dataframe tbody tr th {\n",
       "        vertical-align: top;\n",
       "    }\n",
       "\n",
       "    .dataframe thead th {\n",
       "        text-align: right;\n",
       "    }\n",
       "</style>\n",
       "<table border=\"1\" class=\"dataframe\">\n",
       "  <thead>\n",
       "    <tr style=\"text-align: right;\">\n",
       "      <th></th>\n",
       "      <th>Content</th>\n",
       "      <th>Category</th>\n",
       "      <th>Category_Predicted</th>\n",
       "    </tr>\n",
       "  </thead>\n",
       "  <tbody>\n",
       "    <tr>\n",
       "      <th>1691</th>\n",
       "      <td>Ireland call up uncapped Campbell\\n\\nUlster sc...</td>\n",
       "      <td>sport</td>\n",
       "      <td>sport</td>\n",
       "    </tr>\n",
       "    <tr>\n",
       "      <th>1103</th>\n",
       "      <td>Gurkhas to help tsunami victims\\n\\nBritain has...</td>\n",
       "      <td>politics</td>\n",
       "      <td>business</td>\n",
       "    </tr>\n",
       "    <tr>\n",
       "      <th>477</th>\n",
       "      <td>Egypt and Israel seal trade deal\\n\\nIn a sign ...</td>\n",
       "      <td>business</td>\n",
       "      <td>business</td>\n",
       "    </tr>\n",
       "    <tr>\n",
       "      <th>197</th>\n",
       "      <td>Cairn shares up on new oil find\\n\\nShares in C...</td>\n",
       "      <td>business</td>\n",
       "      <td>business</td>\n",
       "    </tr>\n",
       "    <tr>\n",
       "      <th>475</th>\n",
       "      <td>Saudi NCCI's shares soar\\n\\nShares in Saudi Ar...</td>\n",
       "      <td>business</td>\n",
       "      <td>business</td>\n",
       "    </tr>\n",
       "  </tbody>\n",
       "</table>\n",
       "</div>"
      ],
      "text/plain": [
       "                                                Content  Category  \\\n",
       "1691  Ireland call up uncapped Campbell\\n\\nUlster sc...     sport   \n",
       "1103  Gurkhas to help tsunami victims\\n\\nBritain has...  politics   \n",
       "477   Egypt and Israel seal trade deal\\n\\nIn a sign ...  business   \n",
       "197   Cairn shares up on new oil find\\n\\nShares in C...  business   \n",
       "475   Saudi NCCI's shares soar\\n\\nShares in Saudi Ar...  business   \n",
       "\n",
       "     Category_Predicted  \n",
       "1691              sport  \n",
       "1103           business  \n",
       "477            business  \n",
       "197            business  \n",
       "475            business  "
      ]
     },
     "execution_count": 9,
     "metadata": {},
     "output_type": "execute_result"
    }
   ],
   "source": [
    "df_test.head()"
   ]
  },
  {
   "cell_type": "markdown",
   "metadata": {},
   "source": [
    "Let's get the misclassified articles:"
   ]
  },
  {
   "cell_type": "code",
   "execution_count": 10,
   "metadata": {},
   "outputs": [
    {
     "data": {
      "text/html": [
       "<div>\n",
       "<style scoped>\n",
       "    .dataframe tbody tr th:only-of-type {\n",
       "        vertical-align: middle;\n",
       "    }\n",
       "\n",
       "    .dataframe tbody tr th {\n",
       "        vertical-align: top;\n",
       "    }\n",
       "\n",
       "    .dataframe thead th {\n",
       "        text-align: right;\n",
       "    }\n",
       "</style>\n",
       "<table border=\"1\" class=\"dataframe\">\n",
       "  <thead>\n",
       "    <tr style=\"text-align: right;\">\n",
       "      <th></th>\n",
       "      <th>Content</th>\n",
       "      <th>Category</th>\n",
       "      <th>Category_Predicted</th>\n",
       "    </tr>\n",
       "  </thead>\n",
       "  <tbody>\n",
       "    <tr>\n",
       "      <th>1103</th>\n",
       "      <td>Gurkhas to help tsunami victims\\n\\nBritain has...</td>\n",
       "      <td>politics</td>\n",
       "      <td>business</td>\n",
       "    </tr>\n",
       "    <tr>\n",
       "      <th>1880</th>\n",
       "      <td>Half-Life 2 sweeps Bafta awards\\n\\nPC first pe...</td>\n",
       "      <td>tech</td>\n",
       "      <td>entertainment</td>\n",
       "    </tr>\n",
       "    <tr>\n",
       "      <th>627</th>\n",
       "      <td>REM concerts blighted by illness\\n\\nUS rock ba...</td>\n",
       "      <td>entertainment</td>\n",
       "      <td>sport</td>\n",
       "    </tr>\n",
       "  </tbody>\n",
       "</table>\n",
       "</div>"
      ],
      "text/plain": [
       "                                                Content       Category  \\\n",
       "1103  Gurkhas to help tsunami victims\\n\\nBritain has...       politics   \n",
       "1880  Half-Life 2 sweeps Bafta awards\\n\\nPC first pe...           tech   \n",
       "627   REM concerts blighted by illness\\n\\nUS rock ba...  entertainment   \n",
       "\n",
       "     Category_Predicted  \n",
       "1103           business  \n",
       "1880      entertainment  \n",
       "627               sport  "
      ]
     },
     "execution_count": 10,
     "metadata": {},
     "output_type": "execute_result"
    }
   ],
   "source": [
    "condition = (df_test['Category'] != df_test['Category_Predicted'])\n",
    "\n",
    "df_misclassified = df_test[condition]\n",
    "\n",
    "df_misclassified.head(3)"
   ]
  },
  {
   "cell_type": "markdown",
   "metadata": {},
   "source": [
    "Let's get a sample of 3 articles. We'll define a function to make this process faster:"
   ]
  },
  {
   "cell_type": "code",
   "execution_count": 11,
   "metadata": {},
   "outputs": [],
   "source": [
    "def output_article(row_article):\n",
    "    print('Actual Category: %s' %(row_article['Category']))\n",
    "    print('Predicted Category: %s' %(row_article['Category_Predicted']))\n",
    "    print('-------------------------------------------')\n",
    "    print('Text: ')\n",
    "    print('%s' %(row_article['Content']))"
   ]
  },
  {
   "cell_type": "markdown",
   "metadata": {},
   "source": [
    "We'll get three random numbers from the indexes:"
   ]
  },
  {
   "cell_type": "code",
   "execution_count": 16,
   "metadata": {},
   "outputs": [
    {
     "data": {
      "text/plain": [
       "[2003, 1339, 431]"
      ]
     },
     "execution_count": 16,
     "metadata": {},
     "output_type": "execute_result"
    }
   ],
   "source": [
    "random.seed(8)\n",
    "list_samples = random.sample(list(df_misclassified.index), 3)\n",
    "list_samples"
   ]
  },
  {
   "cell_type": "markdown",
   "metadata": {},
   "source": [
    "First case:"
   ]
  },
  {
   "cell_type": "code",
   "execution_count": 17,
   "metadata": {
    "scrolled": false
   },
   "outputs": [
    {
     "name": "stdout",
     "output_type": "stream",
     "text": [
      "Actual Category: tech\n",
      "Predicted Category: business\n",
      "-------------------------------------------\n",
      "Text: \n",
      "US blogger fired by her airline\n",
      "\n",
      "A US airline attendant suspended over \"inappropriate images\" on her blog - web diary - says she has been fired.\n",
      "\n",
      "Ellen Simonetti, known as Queen of the Sky, wrote an anonymous semi-fictional account of her life in the sky. She was suspended by Delta in September. In a statement, she said she was initiating legal action against the airline for \"wrongful termination\". A Delta spokesperson confirmed on Wednesday that Ms Simonetti was no longer an employee. Delta has repeatedly declined to elaborate on what it calls \"internal employee matters\". A spokesperson reiterated this position on Wednesday, confirming only that Ms Simonetti was no longer with the company. The spokesperson also confirmed that there were \"very clear rules\" attached to the unauthorised use of Delta branding, including uniforms. Ms Simonetti announced on her blog she had been fired on 1 November.\n",
      "\n",
      "She said in an official statement: \"As a result of my suspension and subsequent termination without cause by Delta Airlines I am moving forward with filing a discrimination complaint with the Federal Government EEOC [US Equal Employment Opportunity Commission].\" She added she had also hired a Texas-based law firm to initiate legal action for \"wrongful termination, defamation of character and lost future wages.\" Ms Simonetti told the BBC News website she had received no warning or further explanation when she was suspended on 25 September. Queen of the Sky has received a lot of support and advice from the global blogging community since news of her suspension was brought to light on the BBC News website and others.\n",
      "\n",
      "Her story has highlighted concerns amongst the growing blogging community about conflicts of interest, employment law and free speech on personal websites. The blog, which she started in January as a way of getting over her mother's death, contains a mix of fictional and non-fictional accounts. Queen of the Sky developed over the months as a character in her own right, according to Ms Simonetti. In the postings, she made up fictional names for cities and other companies she mentioned to protect anonymity. But some postings contained images of herself in uniform. Of the 10 or so images only one showed Ms Simonetti's flight \"wings\". She removed them as soon as she was informed of her suspension. \"I never meant it as something to harm my company and don't understand how they think it did harm them,\" Ms Simonetti said. A legal expert in the US speculated that Delta might be concerned that the fictional content on the blog may be linked back to the airline after the images were posted.\n",
      "\n",
      "Delta has been hit recently by pressures of rising fuel costs and fierce competition. It has said it needs to cut between 6,000 and 7,000 jobs and reduce costs by $5bn (Â£2.7bn) a year. Analysts had warned recently that the airline might have to seek Chapter 11 bankruptcy prevention. Last week, it struck a $1bn cost-cutting deal with its pilots which could save it from bankruptcy. The deal would see pilots accept a 32% pay cut in return for the right to buy 30 million Delta shares, unions said. And on Monday, it negotiated a deal to defer about $135m in debt which was due next year, until 2007. The airline also said it had agreed the terms of a $600m loan from American Express.\n"
     ]
    }
   ],
   "source": [
    "output_article(df_misclassified.loc[list_samples[0]])"
   ]
  },
  {
   "cell_type": "markdown",
   "metadata": {},
   "source": [
    "Second case:"
   ]
  },
  {
   "cell_type": "code",
   "execution_count": 18,
   "metadata": {},
   "outputs": [
    {
     "name": "stdout",
     "output_type": "stream",
     "text": [
      "Actual Category: sport\n",
      "Predicted Category: entertainment\n",
      "-------------------------------------------\n",
      "Text: \n",
      "Holmes feted with further honour\n",
      "\n",
      "Double Olympic champion Kelly Holmes has been voted European Athletics (EAA) woman athlete of 2004 in the governing body's annual poll.\n",
      "\n",
      "The Briton, made a dame in the New Year Honours List for taking 800m and 1,500m gold, won vital votes from the public, press and EAA member federations. She is only the second British woman to land the title after- Sally Gunnell won for her world 400m hurdles win in 1993. Swedish triple jumper Christian Olsson was voted male athlete of the year. The accolade is the latest in a long list of awards that Holmes has received since her success in Athens. In addition to becoming a dame, she was also named the BBC Sports Personality of the Year in December. Her gutsy victory in the 800m also earned her the International Association of Athletics Federations' award for the best women's performance in the world for 2004. And she scooped two awards at the British Athletics Writers' Association annual dinner in October.\n"
     ]
    }
   ],
   "source": [
    "output_article(df_misclassified.loc[list_samples[1]])"
   ]
  },
  {
   "cell_type": "markdown",
   "metadata": {},
   "source": [
    "Third case:"
   ]
  },
  {
   "cell_type": "code",
   "execution_count": 19,
   "metadata": {},
   "outputs": [
    {
     "name": "stdout",
     "output_type": "stream",
     "text": [
      "Actual Category: business\n",
      "Predicted Category: politics\n",
      "-------------------------------------------\n",
      "Text: \n",
      "BA to suspend two Saudi services\n",
      "\n",
      "British Airways is to halt its flights from London Heathrow to Jeddah and Riyadh in Saudi Arabia from 27 March.\n",
      "\n",
      "The airline said the decision was a commercial one due to reduced passenger demand for the services. BA currently operates four flights per week from Heathrow to Jeddah, and three weekly journeys to Riyadh. It suspended flights to Saudi Arabia for three weeks in autumn 2003 after a government warning about a \"threat to UK aviation interests in Saudi Arabia\".\n",
      "\n",
      "BA will now suspend the Saudi flights - which it says will remain \"under constant review\" - from 27 March. \"The decision to suspend flights between the UK and Saudi Arabia is a difficult one to make as we have enjoyed a long history of flying between the two countries,\" said BA director of commercial planning, Robert Boyle. \"However, the routes don't currently make a profitable contribution to our business and we are unable to sustain them while this remains the case.\" Passengers with flights booked after the suspension date will be contacted by BA for alternative arrangements to be made.\n"
     ]
    }
   ],
   "source": [
    "output_article(df_misclassified.loc[list_samples[2]])"
   ]
  },
  {
   "cell_type": "markdown",
   "metadata": {},
   "source": [
    "We can see that in all cases the category is not 100% clear, since these articles contain concepts of both categories. These errors will always happen and we are not looking forward to be 100% accurate on them."
   ]
  }
 ],
 "metadata": {
  "kernelspec": {
   "display_name": "Python 3 (ipykernel)",
   "language": "python",
   "name": "python3"
  },
  "language_info": {
   "codemirror_mode": {
    "name": "ipython",
    "version": 3
   },
   "file_extension": ".py",
   "mimetype": "text/x-python",
   "name": "python",
   "nbconvert_exporter": "python",
   "pygments_lexer": "ipython3",
   "version": "3.8.12"
  }
 },
 "nbformat": 4,
 "nbformat_minor": 2
}
