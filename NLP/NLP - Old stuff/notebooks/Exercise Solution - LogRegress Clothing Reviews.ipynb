{
 "cells": [
  {
   "cell_type": "markdown",
   "id": "676d7604",
   "metadata": {},
   "source": [
    "# Exercise Solution - LogRegress Clothing Reviews"
   ]
  },
  {
   "cell_type": "code",
   "execution_count": 1,
   "id": "9d2b7163",
   "metadata": {},
   "outputs": [],
   "source": [
    "#from google.colab import drive\n",
    "#drive.mount('/content/drive')"
   ]
  },
  {
   "cell_type": "code",
   "execution_count": 2,
   "id": "e68159d8",
   "metadata": {},
   "outputs": [
    {
     "name": "stdout",
     "output_type": "stream",
     "text": [
      "Requirement already satisfied: contractions in /opt/anaconda3/lib/python3.8/site-packages (0.0.58)\r\n",
      "Requirement already satisfied: textsearch>=0.0.21 in /opt/anaconda3/lib/python3.8/site-packages (from contractions) (0.0.21)\r\n",
      "Requirement already satisfied: pyahocorasick in /opt/anaconda3/lib/python3.8/site-packages (from textsearch>=0.0.21->contractions) (1.4.2)\r\n",
      "Requirement already satisfied: anyascii in /opt/anaconda3/lib/python3.8/site-packages (from textsearch>=0.0.21->contractions) (0.3.0)\r\n"
     ]
    },
    {
     "name": "stderr",
     "output_type": "stream",
     "text": [
      "[nltk_data] Downloading package punkt to /Users/jimcody/nltk_data...\n",
      "[nltk_data]   Package punkt is already up-to-date!\n",
      "[nltk_data] Downloading package averaged_perceptron_tagger to\n",
      "[nltk_data]     /Users/jimcody/nltk_data...\n",
      "[nltk_data]   Package averaged_perceptron_tagger is already up-to-\n",
      "[nltk_data]       date!\n",
      "[nltk_data] Downloading package wordnet to /Users/jimcody/nltk_data...\n",
      "[nltk_data]   Package wordnet is already up-to-date!\n",
      "[nltk_data] Downloading package stopwords to\n",
      "[nltk_data]     /Users/jimcody/nltk_data...\n",
      "[nltk_data]   Package stopwords is already up-to-date!\n"
     ]
    }
   ],
   "source": [
    "import pandas as pd\n",
    "!pip install contractions\n",
    "\n",
    "import matplotlib.pyplot as plt\n",
    "import seaborn as sns\n",
    "import numpy as np\n",
    "import contractions\n",
    "#from pyspellchecker import SpellChecker\n",
    "import string\n",
    "import re\n",
    "from textblob import TextBlob, Word\n",
    "\n",
    "import nltk\n",
    "nltk.download('punkt')\n",
    "nltk.download('averaged_perceptron_tagger')\n",
    "nltk.download('wordnet')\n",
    "nltk.download('stopwords')\n",
    "\n",
    "from nltk.tokenize import word_tokenize\n",
    "from nltk.tokenize import sent_tokenize\n",
    "from nltk.stem import WordNetLemmatizer\n",
    "from nltk.corpus import stopwords\n",
    "from nltk.corpus import wordnet\n",
    "\n",
    "from sklearn.ensemble import RandomForestClassifier, ExtraTreesClassifier,AdaBoostClassifier\n",
    "from sklearn.tree import DecisionTreeClassifier\n"
   ]
  },
  {
   "cell_type": "code",
   "execution_count": 3,
   "id": "79b2feb2",
   "metadata": {},
   "outputs": [],
   "source": [
    "wc = pd.read_csv('/Users/jimcody/Documents/2021Python/nlp/data/Womens Clothing E-Commerce Reviews.csv')"
   ]
  },
  {
   "cell_type": "code",
   "execution_count": 4,
   "id": "1166f02d",
   "metadata": {},
   "outputs": [],
   "source": [
    "drop_columns = {'Unnamed: 0', 'Clothing ID', 'Age', 'Title', 'Rating',\n",
    "        'Positive Feedback Count', 'Division Name',\n",
    "       'Department Name', 'Class Name'}\n",
    "wc2 = wc.drop(columns = drop_columns)\n",
    "wc2.columns= wc2.columns.str.lower()\n",
    "wc2.rename(columns = {'review text':'review','recommended ind':'target'}, inplace = True)\n",
    "wc2 = wc2[~wc2['review'].isnull()]"
   ]
  },
  {
   "cell_type": "code",
   "execution_count": 5,
   "id": "250fbfc2",
   "metadata": {},
   "outputs": [
    {
     "data": {
      "text/plain": [
       "\"def clean_text_round1(text):  \\n    text = text.lower()\\n    text = re.sub('\\\\[.*?\\\\]', '', text)\\n    text = re.sub('[%s]' % re.escape(string.punctuation), '', text)\\n    text = re.sub('\\\\w*\\\\d\\\\w*', '', text)\\n    text = re.sub('[‘’“”…]', '', text)\\n    text = re.sub('\\n', '', text)\\n    return text\\n\\nround1 = lambda x: clean_text_round1(x)\\n\\nwc2.review = pd.DataFrame(wc2.review.apply(round1))\""
      ]
     },
     "execution_count": 5,
     "metadata": {},
     "output_type": "execute_result"
    }
   ],
   "source": [
    "'''def clean_text_round1(text):  \n",
    "    text = text.lower()\n",
    "    text = re.sub('\\[.*?\\]', '', text)\n",
    "    text = re.sub('[%s]' % re.escape(string.punctuation), '', text)\n",
    "    text = re.sub('\\w*\\d\\w*', '', text)\n",
    "    text = re.sub('[‘’“”…]', '', text)\n",
    "    text = re.sub('\\n', '', text)\n",
    "    return text\n",
    "\n",
    "round1 = lambda x: clean_text_round1(x)\n",
    "\n",
    "wc2.review = pd.DataFrame(wc2.review.apply(round1))'''"
   ]
  },
  {
   "cell_type": "code",
   "execution_count": 6,
   "id": "1926a6d5",
   "metadata": {},
   "outputs": [
    {
     "data": {
      "text/plain": [
       "array([[ 564,  222],\n",
       "       [ 311, 3665]])"
      ]
     },
     "execution_count": 6,
     "metadata": {},
     "output_type": "execute_result"
    }
   ],
   "source": [
    "index = wc2.index\n",
    "wc2['random_number'] = np.random.randn(len(index))  # This is just a sample technique\n",
    "train = wc2[wc2['random_number'] <= 0.8]\n",
    "test = wc2[wc2['random_number'] > 0.8]\n",
    "\n",
    "from sklearn.feature_extraction.text import CountVectorizer\n",
    "vectorizer = CountVectorizer(token_pattern=r'\\b\\w+\\b')     \n",
    "train_matrix = vectorizer.fit_transform(train['review'])\n",
    "test_matrix = vectorizer.transform(test['review'])\n",
    "from sklearn.linear_model import LogisticRegression\n",
    "from sklearn import metrics\n",
    "lr = LogisticRegression(max_iter = 500)\n",
    "X_train = train_matrix\n",
    "X_test = test_matrix\n",
    "y_train = train['target']\n",
    "y_test = test['target']\n",
    "lr.fit(X_train,y_train) \n",
    "predictions = lr.predict(X_test)\n",
    "from sklearn.metrics import confusion_matrix,classification_report\n",
    "new = np.asarray(y_test)\n",
    "confusion_matrix(predictions,y_test)"
   ]
  },
  {
   "cell_type": "code",
   "execution_count": 7,
   "id": "42407a81",
   "metadata": {},
   "outputs": [
    {
     "name": "stdout",
     "output_type": "stream",
     "text": [
      "Accuracy: 0.8880722385552289\n",
      "Precision: 0.9217806841046278\n",
      "Recall: 0.9428865448932339\n"
     ]
    }
   ],
   "source": [
    "print(\"Accuracy:\",metrics.accuracy_score(y_test, predictions))\n",
    "print(\"Precision:\",metrics.precision_score(y_test, predictions))\n",
    "print(\"Recall:\",metrics.recall_score(y_test, predictions))"
   ]
  },
  {
   "cell_type": "code",
   "execution_count": null,
   "id": "fd7271f0",
   "metadata": {},
   "outputs": [],
   "source": []
  }
 ],
 "metadata": {
  "kernelspec": {
   "display_name": "Python 3 (ipykernel)",
   "language": "python",
   "name": "python3"
  },
  "language_info": {
   "codemirror_mode": {
    "name": "ipython",
    "version": 3
   },
   "file_extension": ".py",
   "mimetype": "text/x-python",
   "name": "python",
   "nbconvert_exporter": "python",
   "pygments_lexer": "ipython3",
   "version": "3.8.12"
  }
 },
 "nbformat": 4,
 "nbformat_minor": 5
}
