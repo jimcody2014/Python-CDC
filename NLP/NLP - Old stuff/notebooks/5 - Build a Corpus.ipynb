{
 "cells": [
  {
   "cell_type": "markdown",
   "id": "39332956",
   "metadata": {
    "toc": true
   },
   "source": [
    "<h1>Table of Contents<span class=\"tocSkip\"></span></h1>\n",
    "<div class=\"toc\"><ul class=\"toc-item\"></ul></div>"
   ]
  },
  {
   "cell_type": "code",
   "execution_count": 8,
   "id": "a7cac73a",
   "metadata": {},
   "outputs": [
    {
     "data": {
      "text/html": [
       "<div>\n",
       "<style scoped>\n",
       "    .dataframe tbody tr th:only-of-type {\n",
       "        vertical-align: middle;\n",
       "    }\n",
       "\n",
       "    .dataframe tbody tr th {\n",
       "        vertical-align: top;\n",
       "    }\n",
       "\n",
       "    .dataframe thead th {\n",
       "        text-align: right;\n",
       "    }\n",
       "</style>\n",
       "<table border=\"1\" class=\"dataframe\">\n",
       "  <thead>\n",
       "    <tr style=\"text-align: right;\">\n",
       "      <th></th>\n",
       "      <th>0</th>\n",
       "      <th>1</th>\n",
       "      <th>2</th>\n",
       "    </tr>\n",
       "  </thead>\n",
       "  <tbody>\n",
       "    <tr>\n",
       "      <th>0</th>\n",
       "      <td>585978391360221184</td>\n",
       "      <td>Thu Apr 09 01:31:50 +0000 2015</td>\n",
       "      <td>Breast cancer risk test devised http://bbc.in/...</td>\n",
       "    </tr>\n",
       "    <tr>\n",
       "      <th>1</th>\n",
       "      <td>585947808772960257</td>\n",
       "      <td>Wed Apr 08 23:30:18 +0000 2015</td>\n",
       "      <td>GP workload harming care - BMA poll http://bbc...</td>\n",
       "    </tr>\n",
       "    <tr>\n",
       "      <th>2</th>\n",
       "      <td>585947807816650752</td>\n",
       "      <td>Wed Apr 08 23:30:18 +0000 2015</td>\n",
       "      <td>Short people's 'heart risk greater' http://bbc...</td>\n",
       "    </tr>\n",
       "    <tr>\n",
       "      <th>3</th>\n",
       "      <td>585866060991078401</td>\n",
       "      <td>Wed Apr 08 18:05:28 +0000 2015</td>\n",
       "      <td>New approach against HIV 'promising' http://bb...</td>\n",
       "    </tr>\n",
       "    <tr>\n",
       "      <th>4</th>\n",
       "      <td>585794106170839041</td>\n",
       "      <td>Wed Apr 08 13:19:33 +0000 2015</td>\n",
       "      <td>Coalition 'undermined NHS' - doctors http://bb...</td>\n",
       "    </tr>\n",
       "  </tbody>\n",
       "</table>\n",
       "</div>"
      ],
      "text/plain": [
       "                    0                               1  \\\n",
       "0  585978391360221184  Thu Apr 09 01:31:50 +0000 2015   \n",
       "1  585947808772960257  Wed Apr 08 23:30:18 +0000 2015   \n",
       "2  585947807816650752  Wed Apr 08 23:30:18 +0000 2015   \n",
       "3  585866060991078401  Wed Apr 08 18:05:28 +0000 2015   \n",
       "4  585794106170839041  Wed Apr 08 13:19:33 +0000 2015   \n",
       "\n",
       "                                                   2  \n",
       "0  Breast cancer risk test devised http://bbc.in/...  \n",
       "1  GP workload harming care - BMA poll http://bbc...  \n",
       "2  Short people's 'heart risk greater' http://bbc...  \n",
       "3  New approach against HIV 'promising' http://bb...  \n",
       "4  Coalition 'undermined NHS' - doctors http://bb...  "
      ]
     },
     "execution_count": 8,
     "metadata": {},
     "output_type": "execute_result"
    }
   ],
   "source": [
    "import pandas as pd\n",
    "x = pd.read_table('/Users/jimcody/Documents/2021Python/nlp/data/Health-Tweets/bbchealth.txt', \n",
    "                  delimiter = '|',\n",
    "                  header = None)\n",
    "x.head()"
   ]
  },
  {
   "cell_type": "code",
   "execution_count": 10,
   "id": "9a98e364",
   "metadata": {},
   "outputs": [
    {
     "data": {
      "text/plain": [
       "(3929, 3)"
      ]
     },
     "execution_count": 10,
     "metadata": {},
     "output_type": "execute_result"
    }
   ],
   "source": [
    "x.shape"
   ]
  },
  {
   "cell_type": "code",
   "execution_count": 9,
   "id": "469c1fad",
   "metadata": {},
   "outputs": [],
   "source": [
    "import os\n",
    "# find all the txt files in the dataset folder\n",
    "inputs = []\n",
    "for file in os.listdir('/Users/jimcody/Documents/2021Python/nlp/data/Health-Tweets'):\n",
    "    if file.endswith(\".txt\"):\n",
    "        inputs.append(os.path.join('/Users/jimcody/Documents/2021Python/nlp/data/Health-Tweets', file))\n",
    " \n",
    " \n",
    "# concatanate all txt files in a file called merged_file.txt\n",
    "with open('merged_file.txt', 'w') as outfile:\n",
    "    for fname in inputs:\n",
    "        with open(fname, encoding=\"utf-8\", errors='ignore') as infile:\n",
    "            outfile.write(infile.read())"
   ]
  },
  {
   "cell_type": "code",
   "execution_count": 11,
   "id": "47f04a9f",
   "metadata": {},
   "outputs": [
    {
     "name": "stderr",
     "output_type": "stream",
     "text": [
      "IOPub data rate exceeded.\n",
      "The notebook server will temporarily stop sending output\n",
      "to the client in order to avoid crashing it.\n",
      "To change this limit, set the config variable\n",
      "`--NotebookApp.iopub_data_rate_limit`.\n",
      "\n",
      "Current values:\n",
      "NotebookApp.iopub_data_rate_limit=1000000.0 (bytes/sec)\n",
      "NotebookApp.rate_limit_window=3.0 (secs)\n",
      "\n"
     ]
    },
    {
     "data": {
      "text/html": [
       "<div>\n",
       "<style scoped>\n",
       "    .dataframe tbody tr th:only-of-type {\n",
       "        vertical-align: middle;\n",
       "    }\n",
       "\n",
       "    .dataframe tbody tr th {\n",
       "        vertical-align: top;\n",
       "    }\n",
       "\n",
       "    .dataframe thead th {\n",
       "        text-align: right;\n",
       "    }\n",
       "</style>\n",
       "<table border=\"1\" class=\"dataframe\">\n",
       "  <thead>\n",
       "    <tr style=\"text-align: right;\">\n",
       "      <th></th>\n",
       "      <th>aaa</th>\n",
       "    </tr>\n",
       "  </thead>\n",
       "  <tbody>\n",
       "    <tr>\n",
       "      <th>0</th>\n",
       "      <td>586266687948881921|Thu Apr 09 20:37:25 +0000 2...</td>\n",
       "    </tr>\n",
       "    <tr>\n",
       "      <th>1</th>\n",
       "      <td>586266687017771008|Thu Apr 09 20:37:25 +0000 2...</td>\n",
       "    </tr>\n",
       "    <tr>\n",
       "      <th>2</th>\n",
       "      <td>586266685495214080|Thu Apr 09 20:37:24 +0000 2...</td>\n",
       "    </tr>\n",
       "    <tr>\n",
       "      <th>3</th>\n",
       "      <td>586226316820623360|Thu Apr 09 17:57:00 +0000 2...</td>\n",
       "    </tr>\n",
       "    <tr>\n",
       "      <th>4</th>\n",
       "      <td>586164344452354048|Thu Apr 09 13:50:44 +0000 2...</td>\n",
       "    </tr>\n",
       "  </tbody>\n",
       "</table>\n",
       "</div>"
      ],
      "text/plain": [
       "                                                 aaa\n",
       "0  586266687948881921|Thu Apr 09 20:37:25 +0000 2...\n",
       "1  586266687017771008|Thu Apr 09 20:37:25 +0000 2...\n",
       "2  586266685495214080|Thu Apr 09 20:37:24 +0000 2...\n",
       "3  586226316820623360|Thu Apr 09 17:57:00 +0000 2...\n",
       "4  586164344452354048|Thu Apr 09 13:50:44 +0000 2..."
      ]
     },
     "execution_count": 11,
     "metadata": {},
     "output_type": "execute_result"
    }
   ],
   "source": [
    "import pandas as pd\n",
    "\n",
    "with  open('merged_file.txt','r') as file:\n",
    "    print(file.read())\n",
    "          \n",
    "y = pd.read_table('merged_file.txt',  header=None, index_col=None, names = ['aaa'])\n",
    "y.head()"
   ]
  },
  {
   "cell_type": "code",
   "execution_count": 12,
   "id": "a26c04ed",
   "metadata": {},
   "outputs": [
    {
     "data": {
      "text/plain": [
       "(63324, 1)"
      ]
     },
     "execution_count": 12,
     "metadata": {},
     "output_type": "execute_result"
    }
   ],
   "source": [
    "y.shape"
   ]
  },
  {
   "cell_type": "code",
   "execution_count": 13,
   "id": "8ef304ae",
   "metadata": {},
   "outputs": [
    {
     "data": {
      "text/plain": [
       "Index(['aaa'], dtype='object')"
      ]
     },
     "execution_count": 13,
     "metadata": {},
     "output_type": "execute_result"
    }
   ],
   "source": [
    "y.columns"
   ]
  },
  {
   "cell_type": "code",
   "execution_count": 14,
   "id": "018c656c",
   "metadata": {},
   "outputs": [
    {
     "data": {
      "text/html": [
       "<div>\n",
       "<style scoped>\n",
       "    .dataframe tbody tr th:only-of-type {\n",
       "        vertical-align: middle;\n",
       "    }\n",
       "\n",
       "    .dataframe tbody tr th {\n",
       "        vertical-align: top;\n",
       "    }\n",
       "\n",
       "    .dataframe thead th {\n",
       "        text-align: right;\n",
       "    }\n",
       "</style>\n",
       "<table border=\"1\" class=\"dataframe\">\n",
       "  <thead>\n",
       "    <tr style=\"text-align: right;\">\n",
       "      <th></th>\n",
       "      <th>0</th>\n",
       "      <th>1</th>\n",
       "      <th>2</th>\n",
       "      <th>3</th>\n",
       "      <th>4</th>\n",
       "    </tr>\n",
       "  </thead>\n",
       "  <tbody>\n",
       "    <tr>\n",
       "      <th>0</th>\n",
       "      <td>586266687948881921</td>\n",
       "      <td>Thu Apr 09 20:37:25 +0000 2015</td>\n",
       "      <td>Drugs need careful monitoring for expiry dates...</td>\n",
       "      <td>None</td>\n",
       "      <td>None</td>\n",
       "    </tr>\n",
       "    <tr>\n",
       "      <th>1</th>\n",
       "      <td>586266687017771008</td>\n",
       "      <td>Thu Apr 09 20:37:25 +0000 2015</td>\n",
       "      <td>Sabra hummus recalled in U.S. http://www.cbc.c...</td>\n",
       "      <td>None</td>\n",
       "      <td>None</td>\n",
       "    </tr>\n",
       "    <tr>\n",
       "      <th>2</th>\n",
       "      <td>586266685495214080</td>\n",
       "      <td>Thu Apr 09 20:37:24 +0000 2015</td>\n",
       "      <td>U.S. sperm bank sued by Canadian couple didn't...</td>\n",
       "      <td>None</td>\n",
       "      <td>None</td>\n",
       "    </tr>\n",
       "    <tr>\n",
       "      <th>3</th>\n",
       "      <td>586226316820623360</td>\n",
       "      <td>Thu Apr 09 17:57:00 +0000 2015</td>\n",
       "      <td>Manitoba pharmacists want clampdown on Tylenol...</td>\n",
       "      <td>None</td>\n",
       "      <td>None</td>\n",
       "    </tr>\n",
       "    <tr>\n",
       "      <th>4</th>\n",
       "      <td>586164344452354048</td>\n",
       "      <td>Thu Apr 09 13:50:44 +0000 2015</td>\n",
       "      <td>Mom of 7 'spooked' by vaccinations reverses st...</td>\n",
       "      <td>None</td>\n",
       "      <td>None</td>\n",
       "    </tr>\n",
       "    <tr>\n",
       "      <th>...</th>\n",
       "      <td>...</td>\n",
       "      <td>...</td>\n",
       "      <td>...</td>\n",
       "      <td>...</td>\n",
       "      <td>...</td>\n",
       "    </tr>\n",
       "    <tr>\n",
       "      <th>63319</th>\n",
       "      <td>106106376224378880</td>\n",
       "      <td>Tue Aug 23 20:51:46 +0000 2011</td>\n",
       "      <td>Mainstay Meds Often Cut Off Accidentally After...</td>\n",
       "      <td>None</td>\n",
       "      <td>None</td>\n",
       "    </tr>\n",
       "    <tr>\n",
       "      <th>63320</th>\n",
       "      <td>106106374735400960</td>\n",
       "      <td>Tue Aug 23 20:51:45 +0000 2011</td>\n",
       "      <td>Injectable Psoriasis Drugs May Not Hike Heart ...</td>\n",
       "      <td>None</td>\n",
       "      <td>None</td>\n",
       "    </tr>\n",
       "    <tr>\n",
       "      <th>63321</th>\n",
       "      <td>106106373275787264</td>\n",
       "      <td>Tue Aug 23 20:51:45 +0000 2011</td>\n",
       "      <td>Certain Foods Said to Help Lower Bad Cholester...</td>\n",
       "      <td>None</td>\n",
       "      <td>None</td>\n",
       "    </tr>\n",
       "    <tr>\n",
       "      <th>63322</th>\n",
       "      <td>106106371736485889</td>\n",
       "      <td>Tue Aug 23 20:51:45 +0000 2011</td>\n",
       "      <td>Boys Mature Sexually Earlier Than Ever Before:...</td>\n",
       "      <td>None</td>\n",
       "      <td>None</td>\n",
       "    </tr>\n",
       "    <tr>\n",
       "      <th>63323</th>\n",
       "      <td>106073015590203393</td>\n",
       "      <td>Tue Aug 23 18:39:12 +0000 2011</td>\n",
       "      <td>Mental Illness Affects Women, Men Differently,...</td>\n",
       "      <td>None</td>\n",
       "      <td>None</td>\n",
       "    </tr>\n",
       "  </tbody>\n",
       "</table>\n",
       "<p>63324 rows × 5 columns</p>\n",
       "</div>"
      ],
      "text/plain": [
       "                        0                               1  \\\n",
       "0      586266687948881921  Thu Apr 09 20:37:25 +0000 2015   \n",
       "1      586266687017771008  Thu Apr 09 20:37:25 +0000 2015   \n",
       "2      586266685495214080  Thu Apr 09 20:37:24 +0000 2015   \n",
       "3      586226316820623360  Thu Apr 09 17:57:00 +0000 2015   \n",
       "4      586164344452354048  Thu Apr 09 13:50:44 +0000 2015   \n",
       "...                   ...                             ...   \n",
       "63319  106106376224378880  Tue Aug 23 20:51:46 +0000 2011   \n",
       "63320  106106374735400960  Tue Aug 23 20:51:45 +0000 2011   \n",
       "63321  106106373275787264  Tue Aug 23 20:51:45 +0000 2011   \n",
       "63322  106106371736485889  Tue Aug 23 20:51:45 +0000 2011   \n",
       "63323  106073015590203393  Tue Aug 23 18:39:12 +0000 2011   \n",
       "\n",
       "                                                       2     3     4  \n",
       "0      Drugs need careful monitoring for expiry dates...  None  None  \n",
       "1      Sabra hummus recalled in U.S. http://www.cbc.c...  None  None  \n",
       "2      U.S. sperm bank sued by Canadian couple didn't...  None  None  \n",
       "3      Manitoba pharmacists want clampdown on Tylenol...  None  None  \n",
       "4      Mom of 7 'spooked' by vaccinations reverses st...  None  None  \n",
       "...                                                  ...   ...   ...  \n",
       "63319  Mainstay Meds Often Cut Off Accidentally After...  None  None  \n",
       "63320  Injectable Psoriasis Drugs May Not Hike Heart ...  None  None  \n",
       "63321  Certain Foods Said to Help Lower Bad Cholester...  None  None  \n",
       "63322  Boys Mature Sexually Earlier Than Ever Before:...  None  None  \n",
       "63323  Mental Illness Affects Women, Men Differently,...  None  None  \n",
       "\n",
       "[63324 rows x 5 columns]"
      ]
     },
     "execution_count": 14,
     "metadata": {},
     "output_type": "execute_result"
    }
   ],
   "source": [
    "# new data frame with split value columns\n",
    "\n",
    "y = y['aaa'].str.split(\"|\", expand = True)\n",
    "  \n",
    "# df display\n",
    "y"
   ]
  },
  {
   "cell_type": "code",
   "execution_count": 15,
   "id": "acac4a89",
   "metadata": {},
   "outputs": [
    {
     "data": {
      "text/plain": [
       "0        Drugs need careful monitoring for expiry dates...\n",
       "1        Sabra hummus recalled in U.S. http://www.cbc.c...\n",
       "2        U.S. sperm bank sued by Canadian couple didn't...\n",
       "3        Manitoba pharmacists want clampdown on Tylenol...\n",
       "4        Mom of 7 'spooked' by vaccinations reverses st...\n",
       "                               ...                        \n",
       "63319    Mainstay Meds Often Cut Off Accidentally After...\n",
       "63320    Injectable Psoriasis Drugs May Not Hike Heart ...\n",
       "63321    Certain Foods Said to Help Lower Bad Cholester...\n",
       "63322    Boys Mature Sexually Earlier Than Ever Before:...\n",
       "63323    Mental Illness Affects Women, Men Differently,...\n",
       "Name: 2, Length: 63324, dtype: object"
      ]
     },
     "execution_count": 15,
     "metadata": {},
     "output_type": "execute_result"
    }
   ],
   "source": [
    "z = y.iloc[:,2]\n",
    "z"
   ]
  },
  {
   "cell_type": "code",
   "execution_count": 16,
   "id": "7c555bcb",
   "metadata": {},
   "outputs": [
    {
     "data": {
      "text/plain": [
       "(63324,)"
      ]
     },
     "execution_count": 16,
     "metadata": {},
     "output_type": "execute_result"
    }
   ],
   "source": [
    "z.shape\n"
   ]
  },
  {
   "cell_type": "code",
   "execution_count": null,
   "id": "4bccecd7",
   "metadata": {},
   "outputs": [],
   "source": []
  }
 ],
 "metadata": {
  "kernelspec": {
   "display_name": "Python 3 (ipykernel)",
   "language": "python",
   "name": "python3"
  },
  "language_info": {
   "codemirror_mode": {
    "name": "ipython",
    "version": 3
   },
   "file_extension": ".py",
   "mimetype": "text/x-python",
   "name": "python",
   "nbconvert_exporter": "python",
   "pygments_lexer": "ipython3",
   "version": "3.8.12"
  },
  "toc": {
   "base_numbering": 1,
   "nav_menu": {},
   "number_sections": true,
   "sideBar": true,
   "skip_h1_title": false,
   "title_cell": "Table of Contents",
   "title_sidebar": "Contents",
   "toc_cell": true,
   "toc_position": {},
   "toc_section_display": true,
   "toc_window_display": true
  }
 },
 "nbformat": 4,
 "nbformat_minor": 5
}
