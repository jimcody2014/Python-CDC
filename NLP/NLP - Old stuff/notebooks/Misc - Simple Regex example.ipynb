{
 "cells": [
  {
   "cell_type": "code",
   "execution_count": 42,
   "id": "798c9926",
   "metadata": {},
   "outputs": [
    {
     "data": {
      "text/plain": [
       "\"This is a`~+ *paragraph that's ready to be tokenized for COVID-19.  It 'has' 2 sentences.\""
      ]
     },
     "execution_count": 42,
     "metadata": {},
     "output_type": "execute_result"
    }
   ],
   "source": [
    "sample = \"This is a`~+ *paragraph that's ready to be tokenized for COVID-19.  It 'has' 2 sentences.\"\n",
    "\n",
    "import re\n",
    "import string\n",
    "sample"
   ]
  },
  {
   "cell_type": "code",
   "execution_count": 43,
   "id": "d3fa8422",
   "metadata": {},
   "outputs": [
    {
     "data": {
      "text/plain": [
       "\"this is a`~+ *paragraph that's ready to be tokenized for covid-19.  it 'has' 2 sentences.\""
      ]
     },
     "execution_count": 43,
     "metadata": {},
     "output_type": "execute_result"
    }
   ],
   "source": [
    "sample = sample.lower()\n",
    "sample"
   ]
  },
  {
   "cell_type": "code",
   "execution_count": 44,
   "id": "f1d6c8af",
   "metadata": {},
   "outputs": [
    {
     "name": "stdout",
     "output_type": "stream",
     "text": [
      "!\"#$%&'()*+,-./:;<=>?@[\\]^_`{|}~\n"
     ]
    }
   ],
   "source": [
    "print(string.punctuation)"
   ]
  },
  {
   "cell_type": "code",
   "execution_count": 45,
   "id": "972be175",
   "metadata": {},
   "outputs": [
    {
     "data": {
      "text/plain": [
       "'this is a paragraph thats ready to be tokenized for covid19  it has 2 sentences'"
      ]
     },
     "execution_count": 45,
     "metadata": {},
     "output_type": "execute_result"
    }
   ],
   "source": [
    "sample = re.sub('[%s]' % re.escape(string.punctuation), '', sample)\n",
    "sample"
   ]
  },
  {
   "cell_type": "code",
   "execution_count": 46,
   "id": "be8c20c9",
   "metadata": {},
   "outputs": [
    {
     "data": {
      "text/plain": [
       "'this is a paragraph thats ready to be tokenized for   it has  sentences'"
      ]
     },
     "execution_count": 46,
     "metadata": {},
     "output_type": "execute_result"
    }
   ],
   "source": [
    "sample = re.sub('\\w*\\d\\w*', '', sample)  # word number word  \\d is number * is 0 or more occurrances\n",
    "sample"
   ]
  },
  {
   "cell_type": "code",
   "execution_count": 47,
   "id": "7f3339c1",
   "metadata": {},
   "outputs": [
    {
     "data": {
      "text/plain": [
       "'this is a paragraph thats ready to be tokenized for   it has  sentences'"
      ]
     },
     "execution_count": 47,
     "metadata": {},
     "output_type": "execute_result"
    }
   ],
   "source": [
    "sample = re.sub('\\n', '', sample)   # \\n - new line\n",
    "sample"
   ]
  },
  {
   "cell_type": "markdown",
   "id": "3964fb49",
   "metadata": {},
   "source": [
    "- https://docs.python.org/3/library/re.html\n",
    "- https://docs.python.org/3/howto/regex.html\n",
    "- https://www.w3schools.com/python/python_regex.asp\n",
    "- https://www.shortcutfoo.com/app/dojos/python-regex/cheatsheet\n",
    "\n",
    "- https://towardsdatascience.com/regex-essential-for-nlp-ee0336ef988d\n"
   ]
  },
  {
   "cell_type": "code",
   "execution_count": null,
   "id": "100d408e",
   "metadata": {},
   "outputs": [],
   "source": []
  }
 ],
 "metadata": {
  "kernelspec": {
   "display_name": "Python 3 (ipykernel)",
   "language": "python",
   "name": "python3"
  },
  "language_info": {
   "codemirror_mode": {
    "name": "ipython",
    "version": 3
   },
   "file_extension": ".py",
   "mimetype": "text/x-python",
   "name": "python",
   "nbconvert_exporter": "python",
   "pygments_lexer": "ipython3",
   "version": "3.8.12"
  }
 },
 "nbformat": 4,
 "nbformat_minor": 5
}
