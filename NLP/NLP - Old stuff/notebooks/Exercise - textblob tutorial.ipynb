{
 "cells": [
  {
   "cell_type": "code",
   "execution_count": 1,
   "metadata": {
    "colab": {
     "base_uri": "https://localhost:8080/"
    },
    "executionInfo": {
     "elapsed": 479,
     "status": "ok",
     "timestamp": 1638198462076,
     "user": {
      "displayName": "Jim Cody",
      "photoUrl": "https://lh3.googleusercontent.com/a-/AOh14Gh1CZSJzsdDhyGcIJLshudggBQbFRIu2QIn52d62bE=s64",
      "userId": "00429259176830739493"
     },
     "user_tz": 300
    },
    "id": "xPi81IWPOhYj",
    "outputId": "ac40e735-a9e9-494c-d242-65be9d77c585"
   },
   "outputs": [
    {
     "name": "stderr",
     "output_type": "stream",
     "text": [
      "[nltk_data] Downloading package punkt to /Users/jimcody/nltk_data...\n",
      "[nltk_data]   Package punkt is already up-to-date!\n",
      "[nltk_data] Downloading package averaged_perceptron_tagger to\n",
      "[nltk_data]     /Users/jimcody/nltk_data...\n",
      "[nltk_data]   Package averaged_perceptron_tagger is already up-to-\n",
      "[nltk_data]       date!\n",
      "[nltk_data] Downloading package wordnet to /Users/jimcody/nltk_data...\n",
      "[nltk_data]   Package wordnet is already up-to-date!\n",
      "[nltk_data] Downloading package stopwords to\n",
      "[nltk_data]     /Users/jimcody/nltk_data...\n",
      "[nltk_data]   Package stopwords is already up-to-date!\n",
      "[nltk_data] Downloading package brown to /Users/jimcody/nltk_data...\n",
      "[nltk_data]   Package brown is already up-to-date!\n"
     ]
    }
   ],
   "source": [
    "import nltk\n",
    "nltk.download('punkt')\n",
    "nltk.download('averaged_perceptron_tagger')\n",
    "nltk.download('wordnet')\n",
    "nltk.download('stopwords')\n",
    "nltk.download('brown')\n",
    "from textblob import TextBlob\n"
   ]
  },
  {
   "cell_type": "code",
   "execution_count": 2,
   "metadata": {
    "colab": {
     "base_uri": "https://localhost:8080/"
    },
    "executionInfo": {
     "elapsed": 152,
     "status": "ok",
     "timestamp": 1638198465998,
     "user": {
      "displayName": "Jim Cody",
      "photoUrl": "https://lh3.googleusercontent.com/a-/AOh14Gh1CZSJzsdDhyGcIJLshudggBQbFRIu2QIn52d62bE=s64",
      "userId": "00429259176830739493"
     },
     "user_tz": 300
    },
    "id": "PsISCPEBPKiJ",
    "outputId": "02731761-c90d-4f3d-8884-d4906b444dca"
   },
   "outputs": [
    {
     "data": {
      "text/plain": [
       "[('Python', 'NNP'),\n",
       " ('is', 'VBZ'),\n",
       " ('a', 'DT'),\n",
       " ('high-level', 'JJ'),\n",
       " ('general-purpose', 'JJ'),\n",
       " ('programming', 'NN'),\n",
       " ('language', 'NN')]"
      ]
     },
     "execution_count": 2,
     "metadata": {},
     "output_type": "execute_result"
    }
   ],
   "source": [
    "wiki = TextBlob(\"Python is a high-level, general-purpose programming language.\")\n",
    "wiki.tags"
   ]
  },
  {
   "cell_type": "code",
   "execution_count": 3,
   "metadata": {
    "colab": {
     "base_uri": "https://localhost:8080/"
    },
    "executionInfo": {
     "elapsed": 4077,
     "status": "ok",
     "timestamp": 1638198472246,
     "user": {
      "displayName": "Jim Cody",
      "photoUrl": "https://lh3.googleusercontent.com/a-/AOh14Gh1CZSJzsdDhyGcIJLshudggBQbFRIu2QIn52d62bE=s64",
      "userId": "00429259176830739493"
     },
     "user_tz": 300
    },
    "id": "EYvCdglJOnDL",
    "outputId": "6795d55d-8399-40e8-b489-87ad4d1958d6"
   },
   "outputs": [
    {
     "data": {
      "text/plain": [
       "WordList(['python'])"
      ]
     },
     "execution_count": 3,
     "metadata": {},
     "output_type": "execute_result"
    }
   ],
   "source": [
    "wiki.noun_phrases"
   ]
  },
  {
   "cell_type": "code",
   "execution_count": 4,
   "metadata": {
    "colab": {
     "base_uri": "https://localhost:8080/"
    },
    "executionInfo": {
     "elapsed": 152,
     "status": "ok",
     "timestamp": 1638198476068,
     "user": {
      "displayName": "Jim Cody",
      "photoUrl": "https://lh3.googleusercontent.com/a-/AOh14Gh1CZSJzsdDhyGcIJLshudggBQbFRIu2QIn52d62bE=s64",
      "userId": "00429259176830739493"
     },
     "user_tz": 300
    },
    "id": "r0gME2DWOnGA",
    "outputId": "de12df87-2612-4e22-b415-fd14ccb8474a"
   },
   "outputs": [
    {
     "data": {
      "text/plain": [
       "0.39166666666666666"
      ]
     },
     "execution_count": 4,
     "metadata": {},
     "output_type": "execute_result"
    }
   ],
   "source": [
    "testimonial = TextBlob(\"Textblob is amazingly simple to use. What great fun!\")\n",
    "testimonial.sentiment\n",
    "testimonial.sentiment.polarity"
   ]
  },
  {
   "cell_type": "code",
   "execution_count": 5,
   "metadata": {
    "executionInfo": {
     "elapsed": 137,
     "status": "ok",
     "timestamp": 1638198548386,
     "user": {
      "displayName": "Jim Cody",
      "photoUrl": "https://lh3.googleusercontent.com/a-/AOh14Gh1CZSJzsdDhyGcIJLshudggBQbFRIu2QIn52d62bE=s64",
      "userId": "00429259176830739493"
     },
     "user_tz": 300
    },
    "id": "vj3N6i-HOnIi"
   },
   "outputs": [],
   "source": [
    "zen = TextBlob(\"Beautiful is better than ugly. \"\n",
    "               \"Explicit is better than implicit. \"\n",
    "                \"Simple is better than complex.\")"
   ]
  },
  {
   "cell_type": "code",
   "execution_count": 6,
   "metadata": {
    "colab": {
     "base_uri": "https://localhost:8080/"
    },
    "executionInfo": {
     "elapsed": 155,
     "status": "ok",
     "timestamp": 1638198551598,
     "user": {
      "displayName": "Jim Cody",
      "photoUrl": "https://lh3.googleusercontent.com/a-/AOh14Gh1CZSJzsdDhyGcIJLshudggBQbFRIu2QIn52d62bE=s64",
      "userId": "00429259176830739493"
     },
     "user_tz": 300
    },
    "id": "f3nPE_evOnLB",
    "outputId": "a690fd59-6265-41ef-bb02-9315a0fa7c06"
   },
   "outputs": [
    {
     "data": {
      "text/plain": [
       "WordList(['Beautiful', 'is', 'better', 'than', 'ugly', 'Explicit', 'is', 'better', 'than', 'implicit', 'Simple', 'is', 'better', 'than', 'complex'])"
      ]
     },
     "execution_count": 6,
     "metadata": {},
     "output_type": "execute_result"
    }
   ],
   "source": [
    "zen.words"
   ]
  },
  {
   "cell_type": "code",
   "execution_count": 7,
   "metadata": {
    "colab": {
     "base_uri": "https://localhost:8080/"
    },
    "executionInfo": {
     "elapsed": 138,
     "status": "ok",
     "timestamp": 1638198550034,
     "user": {
      "displayName": "Jim Cody",
      "photoUrl": "https://lh3.googleusercontent.com/a-/AOh14Gh1CZSJzsdDhyGcIJLshudggBQbFRIu2QIn52d62bE=s64",
      "userId": "00429259176830739493"
     },
     "user_tz": 300
    },
    "id": "cDt5nybJPd5b",
    "outputId": "e9b49eaf-cb4f-4606-8ab8-4760800ad3ee"
   },
   "outputs": [
    {
     "data": {
      "text/plain": [
       "[Sentence(\"Beautiful is better than ugly.\"),\n",
       " Sentence(\"Explicit is better than implicit.\"),\n",
       " Sentence(\"Simple is better than complex.\")]"
      ]
     },
     "execution_count": 7,
     "metadata": {},
     "output_type": "execute_result"
    }
   ],
   "source": [
    "zen.sentences"
   ]
  },
  {
   "cell_type": "code",
   "execution_count": 8,
   "metadata": {
    "colab": {
     "base_uri": "https://localhost:8080/"
    },
    "executionInfo": {
     "elapsed": 140,
     "status": "ok",
     "timestamp": 1638198573623,
     "user": {
      "displayName": "Jim Cody",
      "photoUrl": "https://lh3.googleusercontent.com/a-/AOh14Gh1CZSJzsdDhyGcIJLshudggBQbFRIu2QIn52d62bE=s64",
      "userId": "00429259176830739493"
     },
     "user_tz": 300
    },
    "id": "-UGweK0CPlyQ",
    "outputId": "963cd4af-6e90-4eb3-eb78-56f15a58c81a"
   },
   "outputs": [
    {
     "name": "stdout",
     "output_type": "stream",
     "text": [
      "Sentiment(polarity=0.2166666666666667, subjectivity=0.8333333333333334)\n",
      "Sentiment(polarity=0.5, subjectivity=0.5)\n",
      "Sentiment(polarity=0.06666666666666667, subjectivity=0.41904761904761906)\n"
     ]
    }
   ],
   "source": [
    "for sentence in zen.sentences:\n",
    "    print(sentence.sentiment)"
   ]
  },
  {
   "cell_type": "code",
   "execution_count": 9,
   "metadata": {
    "colab": {
     "base_uri": "https://localhost:8080/",
     "height": 35
    },
    "executionInfo": {
     "elapsed": 151,
     "status": "ok",
     "timestamp": 1638198613151,
     "user": {
      "displayName": "Jim Cody",
      "photoUrl": "https://lh3.googleusercontent.com/a-/AOh14Gh1CZSJzsdDhyGcIJLshudggBQbFRIu2QIn52d62bE=s64",
      "userId": "00429259176830739493"
     },
     "user_tz": 300
    },
    "id": "0NQ0aPbrPl1G",
    "outputId": "4cf32493-8f80-403c-d97a-50f2b98b0c4f"
   },
   "outputs": [
    {
     "data": {
      "text/plain": [
       "'space'"
      ]
     },
     "execution_count": 9,
     "metadata": {},
     "output_type": "execute_result"
    }
   ],
   "source": [
    "sentence = TextBlob('Use 4 spaces per indentation level.')\n",
    "sentence.words \n",
    "sentence.words[2].singularize()"
   ]
  },
  {
   "cell_type": "code",
   "execution_count": 10,
   "metadata": {
    "colab": {
     "base_uri": "https://localhost:8080/",
     "height": 35
    },
    "executionInfo": {
     "elapsed": 171,
     "status": "ok",
     "timestamp": 1638198615085,
     "user": {
      "displayName": "Jim Cody",
      "photoUrl": "https://lh3.googleusercontent.com/a-/AOh14Gh1CZSJzsdDhyGcIJLshudggBQbFRIu2QIn52d62bE=s64",
      "userId": "00429259176830739493"
     },
     "user_tz": 300
    },
    "id": "Uqcdy9exPl30",
    "outputId": "f1b6980c-05e0-45cb-8ebc-a9d0a150cceb"
   },
   "outputs": [
    {
     "data": {
      "text/plain": [
       "'levels'"
      ]
     },
     "execution_count": 10,
     "metadata": {},
     "output_type": "execute_result"
    }
   ],
   "source": [
    "sentence.words[-1].pluralize()"
   ]
  },
  {
   "cell_type": "code",
   "execution_count": 11,
   "metadata": {
    "colab": {
     "base_uri": "https://localhost:8080/",
     "height": 35
    },
    "executionInfo": {
     "elapsed": 2022,
     "status": "ok",
     "timestamp": 1638198697204,
     "user": {
      "displayName": "Jim Cody",
      "photoUrl": "https://lh3.googleusercontent.com/a-/AOh14Gh1CZSJzsdDhyGcIJLshudggBQbFRIu2QIn52d62bE=s64",
      "userId": "00429259176830739493"
     },
     "user_tz": 300
    },
    "id": "K8uoGHIePl6Q",
    "outputId": "527993e3-47b7-477a-faa6-bbbdd0c3f9f9"
   },
   "outputs": [
    {
     "data": {
      "text/plain": [
       "'octopus'"
      ]
     },
     "execution_count": 11,
     "metadata": {},
     "output_type": "execute_result"
    }
   ],
   "source": [
    "from textblob import Word\n",
    "w = Word(\"octopi\")\n",
    "w.lemmatize()"
   ]
  },
  {
   "cell_type": "code",
   "execution_count": 12,
   "metadata": {
    "colab": {
     "base_uri": "https://localhost:8080/",
     "height": 35
    },
    "executionInfo": {
     "elapsed": 146,
     "status": "ok",
     "timestamp": 1638198698927,
     "user": {
      "displayName": "Jim Cody",
      "photoUrl": "https://lh3.googleusercontent.com/a-/AOh14Gh1CZSJzsdDhyGcIJLshudggBQbFRIu2QIn52d62bE=s64",
      "userId": "00429259176830739493"
     },
     "user_tz": 300
    },
    "id": "qJQC3Pa2Pl9Y",
    "outputId": "1beacbf7-04d8-43f0-cb29-fdf8cad17093"
   },
   "outputs": [
    {
     "data": {
      "text/plain": [
       "'go'"
      ]
     },
     "execution_count": 12,
     "metadata": {},
     "output_type": "execute_result"
    }
   ],
   "source": [
    "w = Word(\"went\")\n",
    "w.lemmatize(\"v\")  # Pass in WordNet part of speech (verb)"
   ]
  },
  {
   "cell_type": "code",
   "execution_count": 13,
   "metadata": {
    "colab": {
     "base_uri": "https://localhost:8080/"
    },
    "executionInfo": {
     "elapsed": 447,
     "status": "ok",
     "timestamp": 1638198755786,
     "user": {
      "displayName": "Jim Cody",
      "photoUrl": "https://lh3.googleusercontent.com/a-/AOh14Gh1CZSJzsdDhyGcIJLshudggBQbFRIu2QIn52d62bE=s64",
      "userId": "00429259176830739493"
     },
     "user_tz": 300
    },
    "id": "B35LxgI6PmAK",
    "outputId": "5d61842f-1cf5-43ee-de70-07e2811bb9d3"
   },
   "outputs": [
    {
     "data": {
      "text/plain": [
       "[Synset('octopus.n.01'), Synset('octopus.n.02')]"
      ]
     },
     "execution_count": 13,
     "metadata": {},
     "output_type": "execute_result"
    }
   ],
   "source": [
    "from textblob import Word\n",
    "from textblob.wordnet import VERB\n",
    "word = Word(\"octopus\")\n",
    "word.synsets"
   ]
  },
  {
   "cell_type": "code",
   "execution_count": 14,
   "metadata": {
    "colab": {
     "base_uri": "https://localhost:8080/"
    },
    "executionInfo": {
     "elapsed": 129,
     "status": "ok",
     "timestamp": 1638198760791,
     "user": {
      "displayName": "Jim Cody",
      "photoUrl": "https://lh3.googleusercontent.com/a-/AOh14Gh1CZSJzsdDhyGcIJLshudggBQbFRIu2QIn52d62bE=s64",
      "userId": "00429259176830739493"
     },
     "user_tz": 300
    },
    "id": "DZiW0ootQSCL",
    "outputId": "857bed05-4e94-443e-d2e4-2886a3a6e87d"
   },
   "outputs": [
    {
     "data": {
      "text/plain": [
       "[Synset('chop.v.05'),\n",
       " Synset('hack.v.02'),\n",
       " Synset('hack.v.03'),\n",
       " Synset('hack.v.04'),\n",
       " Synset('hack.v.05'),\n",
       " Synset('hack.v.06'),\n",
       " Synset('hack.v.07'),\n",
       " Synset('hack.v.08')]"
      ]
     },
     "execution_count": 14,
     "metadata": {},
     "output_type": "execute_result"
    }
   ],
   "source": [
    "Word(\"hack\").get_synsets(pos=VERB)"
   ]
  },
  {
   "cell_type": "code",
   "execution_count": 15,
   "metadata": {
    "colab": {
     "base_uri": "https://localhost:8080/"
    },
    "executionInfo": {
     "elapsed": 151,
     "status": "ok",
     "timestamp": 1638198791228,
     "user": {
      "displayName": "Jim Cody",
      "photoUrl": "https://lh3.googleusercontent.com/a-/AOh14Gh1CZSJzsdDhyGcIJLshudggBQbFRIu2QIn52d62bE=s64",
      "userId": "00429259176830739493"
     },
     "user_tz": 300
    },
    "id": "tBDAgY_fQbbn",
    "outputId": "fe659cdf-aba4-4d28-c51c-9adceb84643b"
   },
   "outputs": [
    {
     "data": {
      "text/plain": [
       "['tentacles of octopus prepared as food',\n",
       " 'bottom-living cephalopod having a soft oval body with eight long tentacles']"
      ]
     },
     "execution_count": 15,
     "metadata": {},
     "output_type": "execute_result"
    }
   ],
   "source": [
    "Word(\"octopus\").definitions"
   ]
  },
  {
   "cell_type": "code",
   "execution_count": 16,
   "metadata": {
    "colab": {
     "base_uri": "https://localhost:8080/"
    },
    "executionInfo": {
     "elapsed": 177,
     "status": "ok",
     "timestamp": 1638198832525,
     "user": {
      "displayName": "Jim Cody",
      "photoUrl": "https://lh3.googleusercontent.com/a-/AOh14Gh1CZSJzsdDhyGcIJLshudggBQbFRIu2QIn52d62bE=s64",
      "userId": "00429259176830739493"
     },
     "user_tz": 300
    },
    "id": "QG9fH68qQbYr",
    "outputId": "888706a4-cee5-43f7-a0cf-cdc364f2fda9"
   },
   "outputs": [
    {
     "data": {
      "text/plain": [
       "0.1111111111111111"
      ]
     },
     "execution_count": 16,
     "metadata": {},
     "output_type": "execute_result"
    }
   ],
   "source": [
    "from textblob.wordnet import Synset\n",
    "octopus = Synset('octopus.n.02')\n",
    "shrimp = Synset('shrimp.n.03')\n",
    "octopus.path_similarity(shrimp)"
   ]
  },
  {
   "cell_type": "code",
   "execution_count": 17,
   "metadata": {
    "colab": {
     "base_uri": "https://localhost:8080/"
    },
    "executionInfo": {
     "elapsed": 170,
     "status": "ok",
     "timestamp": 1638198867313,
     "user": {
      "displayName": "Jim Cody",
      "photoUrl": "https://lh3.googleusercontent.com/a-/AOh14Gh1CZSJzsdDhyGcIJLshudggBQbFRIu2QIn52d62bE=s64",
      "userId": "00429259176830739493"
     },
     "user_tz": 300
    },
    "id": "jmM15YTWQbVw",
    "outputId": "cc0a0f82-3d64-4c76-8eb8-b394015cffe3"
   },
   "outputs": [
    {
     "data": {
      "text/plain": [
       "WordList(['cat', 'dog', 'octopus'])"
      ]
     },
     "execution_count": 17,
     "metadata": {},
     "output_type": "execute_result"
    }
   ],
   "source": [
    "animals = TextBlob(\"cat dog octopus\")\n",
    "animals.words"
   ]
  },
  {
   "cell_type": "code",
   "execution_count": 18,
   "metadata": {
    "colab": {
     "base_uri": "https://localhost:8080/"
    },
    "executionInfo": {
     "elapsed": 173,
     "status": "ok",
     "timestamp": 1638198875309,
     "user": {
      "displayName": "Jim Cody",
      "photoUrl": "https://lh3.googleusercontent.com/a-/AOh14Gh1CZSJzsdDhyGcIJLshudggBQbFRIu2QIn52d62bE=s64",
      "userId": "00429259176830739493"
     },
     "user_tz": 300
    },
    "id": "5mSvg8K8QbTB",
    "outputId": "3fea00a3-7228-4be6-a383-c929f60830fa"
   },
   "outputs": [
    {
     "data": {
      "text/plain": [
       "WordList(['cats', 'dogs', 'octopodes'])"
      ]
     },
     "execution_count": 18,
     "metadata": {},
     "output_type": "execute_result"
    }
   ],
   "source": [
    "animals.words.pluralize()"
   ]
  },
  {
   "cell_type": "code",
   "execution_count": 19,
   "metadata": {
    "colab": {
     "base_uri": "https://localhost:8080/"
    },
    "executionInfo": {
     "elapsed": 150,
     "status": "ok",
     "timestamp": 1638198897566,
     "user": {
      "displayName": "Jim Cody",
      "photoUrl": "https://lh3.googleusercontent.com/a-/AOh14Gh1CZSJzsdDhyGcIJLshudggBQbFRIu2QIn52d62bE=s64",
      "userId": "00429259176830739493"
     },
     "user_tz": 300
    },
    "id": "nQuH4umMQbPr",
    "outputId": "8a56d23d-c8ba-4f08-f204-0757ab23c4be"
   },
   "outputs": [
    {
     "name": "stdout",
     "output_type": "stream",
     "text": [
      "I have good spelling!\n"
     ]
    }
   ],
   "source": [
    "b = TextBlob(\"I havv goood speling!\")\n",
    "print(b.correct())"
   ]
  },
  {
   "cell_type": "code",
   "execution_count": 20,
   "metadata": {
    "colab": {
     "base_uri": "https://localhost:8080/"
    },
    "executionInfo": {
     "elapsed": 180,
     "status": "ok",
     "timestamp": 1638198919774,
     "user": {
      "displayName": "Jim Cody",
      "photoUrl": "https://lh3.googleusercontent.com/a-/AOh14Gh1CZSJzsdDhyGcIJLshudggBQbFRIu2QIn52d62bE=s64",
      "userId": "00429259176830739493"
     },
     "user_tz": 300
    },
    "id": "d7Fy76xXQbMV",
    "outputId": "99aef5e2-b60a-4c89-ee9f-0252e2f08b9c"
   },
   "outputs": [
    {
     "data": {
      "text/plain": [
       "[('fallibility', 1.0)]"
      ]
     },
     "execution_count": 20,
     "metadata": {},
     "output_type": "execute_result"
    }
   ],
   "source": [
    "from textblob import Word\n",
    "w = Word('falibility')\n",
    "w.spellcheck()"
   ]
  },
  {
   "cell_type": "code",
   "execution_count": 21,
   "metadata": {
    "colab": {
     "base_uri": "https://localhost:8080/"
    },
    "executionInfo": {
     "elapsed": 212,
     "status": "ok",
     "timestamp": 1638198950719,
     "user": {
      "displayName": "Jim Cody",
      "photoUrl": "https://lh3.googleusercontent.com/a-/AOh14Gh1CZSJzsdDhyGcIJLshudggBQbFRIu2QIn52d62bE=s64",
      "userId": "00429259176830739493"
     },
     "user_tz": 300
    },
    "id": "kKWtkNWQQbJC",
    "outputId": "a370994e-d343-4257-da35-47f1372816e6"
   },
   "outputs": [
    {
     "data": {
      "text/plain": [
       "3"
      ]
     },
     "execution_count": 21,
     "metadata": {},
     "output_type": "execute_result"
    }
   ],
   "source": [
    "monty = TextBlob(\"We are no longer the Knights who say Ni. \"\n",
    "                   \"We are now the Knights who say Ekki ekki ekki PTANG.\")\n",
    "monty.word_counts['ekki']"
   ]
  },
  {
   "cell_type": "code",
   "execution_count": 22,
   "metadata": {
    "colab": {
     "base_uri": "https://localhost:8080/"
    },
    "executionInfo": {
     "elapsed": 374,
     "status": "ok",
     "timestamp": 1638198976689,
     "user": {
      "displayName": "Jim Cody",
      "photoUrl": "https://lh3.googleusercontent.com/a-/AOh14Gh1CZSJzsdDhyGcIJLshudggBQbFRIu2QIn52d62bE=s64",
      "userId": "00429259176830739493"
     },
     "user_tz": 300
    },
    "id": "Tagt0LKaQbE6",
    "outputId": "1b869d98-3bf9-4741-b772-b1f542258d2d"
   },
   "outputs": [
    {
     "data": {
      "text/plain": [
       "3"
      ]
     },
     "execution_count": 22,
     "metadata": {},
     "output_type": "execute_result"
    }
   ],
   "source": [
    "monty.words.count('ekki')"
   ]
  },
  {
   "cell_type": "code",
   "execution_count": 23,
   "metadata": {
    "colab": {
     "base_uri": "https://localhost:8080/"
    },
    "executionInfo": {
     "elapsed": 11,
     "status": "ok",
     "timestamp": 1638198977509,
     "user": {
      "displayName": "Jim Cody",
      "photoUrl": "https://lh3.googleusercontent.com/a-/AOh14Gh1CZSJzsdDhyGcIJLshudggBQbFRIu2QIn52d62bE=s64",
      "userId": "00429259176830739493"
     },
     "user_tz": 300
    },
    "id": "bVplVUx4Qa9j",
    "outputId": "cf9c1c0d-a5ff-4fc0-caf6-e6525ebfbda0"
   },
   "outputs": [
    {
     "data": {
      "text/plain": [
       "2"
      ]
     },
     "execution_count": 23,
     "metadata": {},
     "output_type": "execute_result"
    }
   ],
   "source": [
    "monty.words.count('ekki', case_sensitive=True)"
   ]
  },
  {
   "cell_type": "code",
   "execution_count": 24,
   "metadata": {
    "colab": {
     "base_uri": "https://localhost:8080/"
    },
    "executionInfo": {
     "elapsed": 200,
     "status": "ok",
     "timestamp": 1638198986885,
     "user": {
      "displayName": "Jim Cody",
      "photoUrl": "https://lh3.googleusercontent.com/a-/AOh14Gh1CZSJzsdDhyGcIJLshudggBQbFRIu2QIn52d62bE=s64",
      "userId": "00429259176830739493"
     },
     "user_tz": 300
    },
    "id": "MeCIkZCpQaz-",
    "outputId": "34487106-e516-4623-b519-04690eafc562"
   },
   "outputs": [
    {
     "data": {
      "text/plain": [
       "1"
      ]
     },
     "execution_count": 24,
     "metadata": {},
     "output_type": "execute_result"
    }
   ],
   "source": [
    "wiki.noun_phrases.count('python')"
   ]
  },
  {
   "cell_type": "code",
   "execution_count": 25,
   "metadata": {
    "colab": {
     "base_uri": "https://localhost:8080/"
    },
    "executionInfo": {
     "elapsed": 361,
     "status": "ok",
     "timestamp": 1638199002581,
     "user": {
      "displayName": "Jim Cody",
      "photoUrl": "https://lh3.googleusercontent.com/a-/AOh14Gh1CZSJzsdDhyGcIJLshudggBQbFRIu2QIn52d62bE=s64",
      "userId": "00429259176830739493"
     },
     "user_tz": 300
    },
    "id": "I0JA08axRMbz",
    "outputId": "67d8a6da-6db5-475d-f58c-ff39068be615"
   },
   "outputs": [
    {
     "name": "stdout",
     "output_type": "stream",
     "text": [
      "And/CC/O/O now/RB/B-ADVP/O for/IN/B-PP/B-PNP something/NN/B-NP/I-PNP completely/RB/B-ADJP/O different/JJ/I-ADJP/O ././O/O\n"
     ]
    }
   ],
   "source": [
    "b = TextBlob(\"And now for something completely different.\")\n",
    "print(b.parse())"
   ]
  },
  {
   "cell_type": "code",
   "execution_count": 26,
   "metadata": {
    "colab": {
     "base_uri": "https://localhost:8080/"
    },
    "executionInfo": {
     "elapsed": 177,
     "status": "ok",
     "timestamp": 1638199035280,
     "user": {
      "displayName": "Jim Cody",
      "photoUrl": "https://lh3.googleusercontent.com/a-/AOh14Gh1CZSJzsdDhyGcIJLshudggBQbFRIu2QIn52d62bE=s64",
      "userId": "00429259176830739493"
     },
     "user_tz": 300
    },
    "id": "cNipNsWRRQOc",
    "outputId": "877b105e-4f58-498d-b59c-0cc29aaa7b03"
   },
   "outputs": [
    {
     "data": {
      "text/plain": [
       "TextBlob(\"Beautiful is better\")"
      ]
     },
     "execution_count": 26,
     "metadata": {},
     "output_type": "execute_result"
    }
   ],
   "source": [
    "zen[0:19]"
   ]
  },
  {
   "cell_type": "code",
   "execution_count": 27,
   "metadata": {
    "colab": {
     "base_uri": "https://localhost:8080/"
    },
    "executionInfo": {
     "elapsed": 207,
     "status": "ok",
     "timestamp": 1638199037849,
     "user": {
      "displayName": "Jim Cody",
      "photoUrl": "https://lh3.googleusercontent.com/a-/AOh14Gh1CZSJzsdDhyGcIJLshudggBQbFRIu2QIn52d62bE=s64",
      "userId": "00429259176830739493"
     },
     "user_tz": 300
    },
    "id": "Gx0Gz-exRYPs",
    "outputId": "2eba88bb-45d3-44fd-93f9-0a46a5cf06cc"
   },
   "outputs": [
    {
     "data": {
      "text/plain": [
       "TextBlob(\"BEAUTIFUL IS BETTER THAN UGLY. EXPLICIT IS BETTER THAN IMPLICIT. SIMPLE IS BETTER THAN COMPLEX.\")"
      ]
     },
     "execution_count": 27,
     "metadata": {},
     "output_type": "execute_result"
    }
   ],
   "source": [
    "zen.upper()"
   ]
  },
  {
   "cell_type": "code",
   "execution_count": 28,
   "metadata": {
    "colab": {
     "base_uri": "https://localhost:8080/"
    },
    "executionInfo": {
     "elapsed": 188,
     "status": "ok",
     "timestamp": 1638199047392,
     "user": {
      "displayName": "Jim Cody",
      "photoUrl": "https://lh3.googleusercontent.com/a-/AOh14Gh1CZSJzsdDhyGcIJLshudggBQbFRIu2QIn52d62bE=s64",
      "userId": "00429259176830739493"
     },
     "user_tz": 300
    },
    "id": "ULDET_k-RY38",
    "outputId": "e3750789-9a72-482e-b348-c7361b13e051"
   },
   "outputs": [
    {
     "data": {
      "text/plain": [
       "65"
      ]
     },
     "execution_count": 28,
     "metadata": {},
     "output_type": "execute_result"
    }
   ],
   "source": [
    "zen.find(\"Simple\")"
   ]
  },
  {
   "cell_type": "code",
   "execution_count": 29,
   "metadata": {
    "colab": {
     "base_uri": "https://localhost:8080/"
    },
    "executionInfo": {
     "elapsed": 144,
     "status": "ok",
     "timestamp": 1638199120922,
     "user": {
      "displayName": "Jim Cody",
      "photoUrl": "https://lh3.googleusercontent.com/a-/AOh14Gh1CZSJzsdDhyGcIJLshudggBQbFRIu2QIn52d62bE=s64",
      "userId": "00429259176830739493"
     },
     "user_tz": 300
    },
    "id": "w5VSu4gQRbM0",
    "outputId": "50ddad20-841a-4859-925a-98739c3474cc"
   },
   "outputs": [
    {
     "data": {
      "text/plain": [
       "True"
      ]
     },
     "execution_count": 29,
     "metadata": {},
     "output_type": "execute_result"
    }
   ],
   "source": [
    "apple_blob = TextBlob('apples')\n",
    "banana_blob = TextBlob('bananas')\n",
    "apple_blob < banana_blob"
   ]
  },
  {
   "cell_type": "code",
   "execution_count": 30,
   "metadata": {
    "colab": {
     "base_uri": "https://localhost:8080/",
     "height": 35
    },
    "executionInfo": {
     "elapsed": 15,
     "status": "ok",
     "timestamp": 1638199121683,
     "user": {
      "displayName": "Jim Cody",
      "photoUrl": "https://lh3.googleusercontent.com/a-/AOh14Gh1CZSJzsdDhyGcIJLshudggBQbFRIu2QIn52d62bE=s64",
      "userId": "00429259176830739493"
     },
     "user_tz": 300
    },
    "id": "x3ywkQq2Rf99",
    "outputId": "5b8cd0a9-feb3-43a1-cd01-662f4c8849bc"
   },
   "outputs": [
    {
     "data": {
      "text/plain": [
       "'apples and bananas'"
      ]
     },
     "execution_count": 30,
     "metadata": {},
     "output_type": "execute_result"
    }
   ],
   "source": [
    "apple_blob + ' and ' + banana_blob\n",
    "\"{0} and {1}\".format(apple_blob, banana_blob)"
   ]
  },
  {
   "cell_type": "code",
   "execution_count": 31,
   "metadata": {
    "colab": {
     "base_uri": "https://localhost:8080/"
    },
    "executionInfo": {
     "elapsed": 219,
     "status": "ok",
     "timestamp": 1638199136677,
     "user": {
      "displayName": "Jim Cody",
      "photoUrl": "https://lh3.googleusercontent.com/a-/AOh14Gh1CZSJzsdDhyGcIJLshudggBQbFRIu2QIn52d62bE=s64",
      "userId": "00429259176830739493"
     },
     "user_tz": 300
    },
    "id": "tLo4UgM0RrwM",
    "outputId": "59326c86-19aa-45f5-f42e-aece4e9c56c9"
   },
   "outputs": [
    {
     "data": {
      "text/plain": [
       "[WordList(['Now', 'is', 'better']),\n",
       " WordList(['is', 'better', 'than']),\n",
       " WordList(['better', 'than', 'never'])]"
      ]
     },
     "execution_count": 31,
     "metadata": {},
     "output_type": "execute_result"
    }
   ],
   "source": [
    "blob = TextBlob(\"Now is better than never.\")\n",
    "blob.ngrams(n=3)"
   ]
  },
  {
   "cell_type": "code",
   "execution_count": 32,
   "metadata": {
    "colab": {
     "base_uri": "https://localhost:8080/"
    },
    "executionInfo": {
     "elapsed": 188,
     "status": "ok",
     "timestamp": 1638199156724,
     "user": {
      "displayName": "Jim Cody",
      "photoUrl": "https://lh3.googleusercontent.com/a-/AOh14Gh1CZSJzsdDhyGcIJLshudggBQbFRIu2QIn52d62bE=s64",
      "userId": "00429259176830739493"
     },
     "user_tz": 300
    },
    "id": "mUeUHWmoRw_7",
    "outputId": "c59347f0-f500-46b1-f4c7-ee0e9f9c561c"
   },
   "outputs": [
    {
     "name": "stdout",
     "output_type": "stream",
     "text": [
      "Beautiful is better than ugly.\n",
      "---- Starts at index 0, Ends at index 30\n",
      "Explicit is better than implicit.\n",
      "---- Starts at index 31, Ends at index 64\n",
      "Simple is better than complex.\n",
      "---- Starts at index 65, Ends at index 95\n"
     ]
    }
   ],
   "source": [
    "for s in zen.sentences:\n",
    "     print(s)\n",
    "     print(\"---- Starts at index {}, Ends at index {}\".format(s.start, s.end))"
   ]
  },
  {
   "cell_type": "code",
   "execution_count": null,
   "metadata": {
    "id": "2aJ01MqSR15U"
   },
   "outputs": [],
   "source": []
  }
 ],
 "metadata": {
  "colab": {
   "authorship_tag": "ABX9TyMbdJ+yCSa5kwtUwosTT4zF",
   "collapsed_sections": [],
   "name": "textblob tutorial.ipynb",
   "provenance": []
  },
  "kernelspec": {
   "display_name": "Python 3 (ipykernel)",
   "language": "python",
   "name": "python3"
  },
  "language_info": {
   "codemirror_mode": {
    "name": "ipython",
    "version": 3
   },
   "file_extension": ".py",
   "mimetype": "text/x-python",
   "name": "python",
   "nbconvert_exporter": "python",
   "pygments_lexer": "ipython3",
   "version": "3.8.12"
  }
 },
 "nbformat": 4,
 "nbformat_minor": 1
}
