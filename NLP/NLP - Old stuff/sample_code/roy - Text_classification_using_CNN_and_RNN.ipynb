{
 "cells": [
  {
   "cell_type": "markdown",
   "metadata": {
    "toc": true
   },
   "source": [
    "<h1>Table of Contents<span class=\"tocSkip\"></span></h1>\n",
    "<div class=\"toc\"><ul class=\"toc-item\"><li><ul class=\"toc-item\"><li><span><a href=\"#Data-Preprocessing\" data-toc-modified-id=\"Data-Preprocessing-0.1\"><span class=\"toc-item-num\">0.1&nbsp;&nbsp;</span>Data Preprocessing</a></span></li><li><span><a href=\"#Convolutional-Neural-Network\" data-toc-modified-id=\"Convolutional-Neural-Network-0.2\"><span class=\"toc-item-num\">0.2&nbsp;&nbsp;</span>Convolutional Neural Network</a></span></li></ul></li><li><span><a href=\"#Recurrent-Neural-Network-application\" data-toc-modified-id=\"Recurrent-Neural-Network-application-1\"><span class=\"toc-item-num\">1&nbsp;&nbsp;</span>Recurrent Neural Network application</a></span></li></ul></div>"
   ]
  },
  {
   "cell_type": "code",
   "execution_count": 1,
   "metadata": {
    "colab": {
     "base_uri": "https://localhost:8080/",
     "height": 122
    },
    "colab_type": "code",
    "id": "0ISPGMrvOVcu",
    "outputId": "8fe3e8a4-a848-4e4b-abad-4266bd3b1898"
   },
   "outputs": [
    {
     "name": "stdout",
     "output_type": "stream",
     "text": [
      "Go to this URL in a browser: https://accounts.google.com/o/oauth2/auth?client_id=947318989803-6bn6qk8qdgf4n4g3pfee6491hc0brc4i.apps.googleusercontent.com&redirect_uri=urn%3aietf%3awg%3aoauth%3a2.0%3aoob&response_type=code&scope=email%20https%3a%2f%2fwww.googleapis.com%2fauth%2fdocs.test%20https%3a%2f%2fwww.googleapis.com%2fauth%2fdrive%20https%3a%2f%2fwww.googleapis.com%2fauth%2fdrive.photos.readonly%20https%3a%2f%2fwww.googleapis.com%2fauth%2fpeopleapi.readonly\n",
      "\n",
      "Enter your authorization code:\n",
      "··········\n",
      "Mounted at /content/drive\n"
     ]
    }
   ],
   "source": [
    "#from google.colab import drive\n",
    "#drive.mount('/content/drive')"
   ]
  },
  {
   "cell_type": "markdown",
   "metadata": {
    "colab_type": "text",
    "id": "DVDD4ym3OeIc"
   },
   "source": [
    "### Data Preprocessing"
   ]
  },
  {
   "cell_type": "code",
   "execution_count": 1,
   "metadata": {
    "colab": {},
    "colab_type": "code",
    "id": "exKe_i3dOdZX"
   },
   "outputs": [],
   "source": [
    "import pandas as pd\n",
    "import numpy as np\n",
    "import tensorflow as tf"
   ]
  },
  {
   "cell_type": "code",
   "execution_count": 2,
   "metadata": {
    "colab": {},
    "colab_type": "code",
    "id": "lQB1ZwygOm4J"
   },
   "outputs": [],
   "source": [
    "url = '/Users/jimcody/Documents/2021Python/nlp/data/IMDBDataset.csv'"
   ]
  },
  {
   "cell_type": "code",
   "execution_count": 4,
   "metadata": {
    "colab": {},
    "colab_type": "code",
    "id": "oDxuV_mVOoOp"
   },
   "outputs": [],
   "source": [
    "df=pd.read_csv(url)"
   ]
  },
  {
   "cell_type": "code",
   "execution_count": 5,
   "metadata": {
    "colab": {},
    "colab_type": "code",
    "id": "Hotys9OaOpdV"
   },
   "outputs": [],
   "source": [
    "from bs4 import BeautifulSoup\n",
    "def strip_html(text):\n",
    "    soup = BeautifulSoup(text, \"html.parser\")\n",
    "    return soup.get_text()\n",
    "import re\n",
    "def remove_between_square_brackets(text):\n",
    "    return re.sub('\\[[^]]*\\]', '', text)\n",
    "def denoise_text(text):\n",
    "    text = strip_html(text)\n",
    "    text = remove_between_square_brackets(text)\n",
    "    return text"
   ]
  },
  {
   "cell_type": "code",
   "execution_count": 5,
   "metadata": {
    "colab": {},
    "colab_type": "code",
    "id": "sWlXMJN8OwiE"
   },
   "outputs": [
    {
     "ename": "NameError",
     "evalue": "name 'denoise_text' is not defined",
     "output_type": "error",
     "traceback": [
      "\u001b[0;31m---------------------------------------------------------------------------\u001b[0m",
      "\u001b[0;31mNameError\u001b[0m                                 Traceback (most recent call last)",
      "\u001b[0;32m/var/folders/0q/ntwcxlqn1111n9nhc76xwp1w0000gn/T/ipykernel_912/2825182444.py\u001b[0m in \u001b[0;36m<module>\u001b[0;34m\u001b[0m\n\u001b[0;32m----> 1\u001b[0;31m \u001b[0mdf\u001b[0m\u001b[0;34m[\u001b[0m\u001b[0;34m'review'\u001b[0m\u001b[0;34m]\u001b[0m\u001b[0;34m=\u001b[0m\u001b[0mdf\u001b[0m\u001b[0;34m[\u001b[0m\u001b[0;34m'review'\u001b[0m\u001b[0;34m]\u001b[0m\u001b[0;34m.\u001b[0m\u001b[0mapply\u001b[0m\u001b[0;34m(\u001b[0m\u001b[0mdenoise_text\u001b[0m\u001b[0;34m)\u001b[0m\u001b[0;34m\u001b[0m\u001b[0;34m\u001b[0m\u001b[0m\n\u001b[0m",
      "\u001b[0;31mNameError\u001b[0m: name 'denoise_text' is not defined"
     ]
    }
   ],
   "source": [
    "df['review']=df['review'].apply(denoise_text)"
   ]
  },
  {
   "cell_type": "code",
   "execution_count": 7,
   "metadata": {
    "colab": {},
    "colab_type": "code",
    "id": "VS7lkZOXOzep"
   },
   "outputs": [],
   "source": [
    "def remove_special_characters(text, remove_digits=True):\n",
    "    pattern=r'[^a-zA-z0-9\\s]'\n",
    "    text=re.sub(pattern,'',text)\n",
    "    return text"
   ]
  },
  {
   "cell_type": "code",
   "execution_count": 8,
   "metadata": {
    "colab": {},
    "colab_type": "code",
    "id": "kpIgW87fOzT8"
   },
   "outputs": [],
   "source": [
    "def Convert_to_bin(text, remove_digits=True):\n",
    "    if text=='positive':\n",
    "      text= 1\n",
    "    else:\n",
    "      text=0\n",
    "    return text"
   ]
  },
  {
   "cell_type": "code",
   "execution_count": 9,
   "metadata": {
    "colab": {},
    "colab_type": "code",
    "id": "ndtRuY5jO3SF"
   },
   "outputs": [],
   "source": [
    "df['review']=df['review'].apply(remove_special_characters)"
   ]
  },
  {
   "cell_type": "code",
   "execution_count": 10,
   "metadata": {
    "colab": {},
    "colab_type": "code",
    "id": "-oBR1ZhAO55d"
   },
   "outputs": [],
   "source": [
    "df['sentiment']=df['sentiment'].apply(Convert_to_bin)"
   ]
  },
  {
   "cell_type": "code",
   "execution_count": 11,
   "metadata": {
    "colab": {},
    "colab_type": "code",
    "id": "QdbTNe4BO7rb"
   },
   "outputs": [],
   "source": [
    "from sklearn.model_selection import train_test_split"
   ]
  },
  {
   "cell_type": "code",
   "execution_count": 12,
   "metadata": {
    "colab": {},
    "colab_type": "code",
    "id": "BPTlnBqZO-IY"
   },
   "outputs": [],
   "source": [
    "X=df['review'].values\n",
    "Y=df['sentiment'].values\n",
    "X_train, X_test, Y_train, Y_test= train_test_split(X,Y, test_size=0.3)"
   ]
  },
  {
   "cell_type": "markdown",
   "metadata": {
    "colab_type": "text",
    "id": "KMoL9d59POLe"
   },
   "source": [
    "### Convolutional Neural Network"
   ]
  },
  {
   "cell_type": "markdown",
   "metadata": {
    "colab_type": "text",
    "id": "Wi5VYQr5PgNo"
   },
   "source": [
    "In mathematics (in particular, functional analysis) convolution is a mathematical operation on two functions (f and g) that produces a third function expressing how the shape of one is modified by the other. The term convolution refers to both the result function and to the process of computing it.\n",
    "\n",
    "So, Convolutional is best for extracting special features and behaviour of feature values from the 2D pixels of images. Convolutional layers hava a set of kernels which helps to extract several important features from the data samples. Now here, in text classifications our feature matrices are 1Dimensional. So, here Conv1D is used. Basically it moves as a sliding window of size decieded by the user. We have chosen 5. \n",
    "\n",
    "Now, initially after embedding we get 100 Dimensional embedding. Next using 1D convolutions we try to make our feature set smaller and let the feature set dicover the best features relations for the classification. The maxpooling layer also helps to pick the features or words which have best performance. \n",
    "\n",
    "\n",
    "Convolutional layer is always used after an embedding layer after it provides its embedded feature vectors."
   ]
  },
  {
   "cell_type": "code",
   "execution_count": 31,
   "metadata": {
    "colab": {},
    "colab_type": "code",
    "id": "SvvS6EinPV-7"
   },
   "outputs": [],
   "source": [
    "from tensorflow.keras.preprocessing.text import Tokenizer"
   ]
  },
  {
   "cell_type": "code",
   "execution_count": 32,
   "metadata": {
    "colab": {},
    "colab_type": "code",
    "id": "qPGuPs9-Qqf1"
   },
   "outputs": [],
   "source": [
    "tokenizer = Tokenizer(num_words=10000)"
   ]
  },
  {
   "cell_type": "code",
   "execution_count": 33,
   "metadata": {
    "colab": {},
    "colab_type": "code",
    "id": "8-2KN9chQrzY"
   },
   "outputs": [],
   "source": [
    "tokenizer.fit_on_texts(X_train)"
   ]
  },
  {
   "cell_type": "code",
   "execution_count": 34,
   "metadata": {
    "colab": {},
    "colab_type": "code",
    "id": "kZeAiZr3QtHv"
   },
   "outputs": [],
   "source": [
    "x_train = tokenizer.texts_to_sequences(X_train) "
   ]
  },
  {
   "cell_type": "code",
   "execution_count": 35,
   "metadata": {
    "colab": {},
    "colab_type": "code",
    "id": "JsPquE65QvLz"
   },
   "outputs": [],
   "source": [
    "x_test = tokenizer.texts_to_sequences(X_test)"
   ]
  },
  {
   "cell_type": "code",
   "execution_count": 36,
   "metadata": {
    "colab": {},
    "colab_type": "code",
    "id": "xu4jW4i1Qvtl"
   },
   "outputs": [],
   "source": [
    "vocab = len(tokenizer.word_index) + 1  "
   ]
  },
  {
   "cell_type": "code",
   "execution_count": 37,
   "metadata": {
    "colab": {},
    "colab_type": "code",
    "id": "uscYv130QxYg"
   },
   "outputs": [],
   "source": [
    "from tensorflow.keras.preprocessing.sequence import pad_sequences"
   ]
  },
  {
   "cell_type": "code",
   "execution_count": 38,
   "metadata": {
    "colab": {},
    "colab_type": "code",
    "id": "T2dcosu4Q0Ce"
   },
   "outputs": [],
   "source": [
    "maxlen = 100"
   ]
  },
  {
   "cell_type": "code",
   "execution_count": 39,
   "metadata": {
    "colab": {},
    "colab_type": "code",
    "id": "4vpq_2wMQ2Qu"
   },
   "outputs": [],
   "source": [
    "x_train = pad_sequences(x_train, padding='post', maxlen=maxlen)\n",
    "x_test = pad_sequences(x_test, padding='post', maxlen=maxlen)"
   ]
  },
  {
   "cell_type": "code",
   "execution_count": 40,
   "metadata": {
    "colab": {},
    "colab_type": "code",
    "id": "rhyNWH0IQ5f7"
   },
   "outputs": [],
   "source": [
    "from tensorflow.keras.models import Sequential\n",
    "from tensorflow.keras.layers import Embedding,Dense, Activation, MaxPool1D,Conv1D\n",
    "from tensorflow.keras.optimizers import Adam\n",
    "emb_dim=100\n",
    "\n",
    "model= Sequential()\n",
    "model.add(Embedding(input_dim=vocab, output_dim=emb_dim, input_length=maxlen))\n",
    "model.add(Conv1D(64, 5, activation='relu'))\n",
    "model.add(MaxPool1D(5))\n",
    "model.add(Conv1D(128, 5, activation='relu'))\n",
    "model.add(MaxPool1D(5))\n",
    "model.add(Dense(16,activation=\"relu\"))\n",
    "model.add(Dense(1, activation='sigmoid'))\n",
    "model.compile(optimizer='Adam',loss='binary_crossentropy',metrics=['accuracy'])"
   ]
  },
  {
   "cell_type": "code",
   "execution_count": 41,
   "metadata": {
    "colab": {
     "base_uri": "https://localhost:8080/",
     "height": 391
    },
    "colab_type": "code",
    "id": "8jwuQrcuRhJF",
    "outputId": "ca1287d8-3896-4b2f-b6d0-f6fe4e2e67d4"
   },
   "outputs": [
    {
     "name": "stdout",
     "output_type": "stream",
     "text": [
      "Model: \"sequential_2\"\n",
      "_________________________________________________________________\n",
      "Layer (type)                 Output Shape              Param #   \n",
      "=================================================================\n",
      "embedding_2 (Embedding)      (None, 100, 100)          17739900  \n",
      "_________________________________________________________________\n",
      "conv1d_2 (Conv1D)            (None, 96, 64)            32064     \n",
      "_________________________________________________________________\n",
      "max_pooling1d_2 (MaxPooling1 (None, 19, 64)            0         \n",
      "_________________________________________________________________\n",
      "conv1d_3 (Conv1D)            (None, 15, 128)           41088     \n",
      "_________________________________________________________________\n",
      "max_pooling1d_3 (MaxPooling1 (None, 3, 128)            0         \n",
      "_________________________________________________________________\n",
      "dense_2 (Dense)              (None, 3, 16)             2064      \n",
      "_________________________________________________________________\n",
      "dense_3 (Dense)              (None, 3, 1)              17        \n",
      "=================================================================\n",
      "Total params: 17,815,133\n",
      "Trainable params: 17,815,133\n",
      "Non-trainable params: 0\n",
      "_________________________________________________________________\n"
     ]
    }
   ],
   "source": [
    "model.summary()"
   ]
  },
  {
   "cell_type": "code",
   "execution_count": 44,
   "metadata": {
    "colab": {
     "base_uri": "https://localhost:8080/",
     "height": 697
    },
    "colab_type": "code",
    "id": "kHVdmxlPRorL",
    "outputId": "b5f112fc-3cf4-49e2-fde8-2bfbac0f0bef"
   },
   "outputs": [
    {
     "name": "stdout",
     "output_type": "stream",
     "text": [
      "Epoch 1/20\n",
      "2188/2188 [==============================] - 366s 167ms/step - loss: 0.0466 - accuracy: 0.9805\n",
      "Epoch 2/20\n",
      "2188/2188 [==============================] - 366s 167ms/step - loss: 0.0341 - accuracy: 0.9851\n",
      "Epoch 3/20\n",
      "2188/2188 [==============================] - 366s 167ms/step - loss: 0.0288 - accuracy: 0.9869\n",
      "Epoch 4/20\n",
      "2188/2188 [==============================] - 368s 168ms/step - loss: 0.0259 - accuracy: 0.9880\n",
      "Epoch 5/20\n",
      "2188/2188 [==============================] - 370s 169ms/step - loss: 0.0223 - accuracy: 0.9892\n",
      "Epoch 6/20\n",
      "2188/2188 [==============================] - 368s 168ms/step - loss: 0.0228 - accuracy: 0.9895\n",
      "Epoch 7/20\n",
      "2188/2188 [==============================] - 370s 169ms/step - loss: 0.0221 - accuracy: 0.9897\n",
      "Epoch 8/20\n",
      "2188/2188 [==============================] - 370s 169ms/step - loss: 0.0202 - accuracy: 0.9902\n",
      "Epoch 9/20\n",
      "2188/2188 [==============================] - 370s 169ms/step - loss: 0.0183 - accuracy: 0.9909\n",
      "Epoch 10/20\n",
      "2188/2188 [==============================] - 372s 170ms/step - loss: 0.0192 - accuracy: 0.9908\n",
      "Epoch 11/20\n",
      "2188/2188 [==============================] - 374s 171ms/step - loss: 0.0166 - accuracy: 0.9917\n",
      "Epoch 12/20\n",
      "2188/2188 [==============================] - 372s 170ms/step - loss: 0.0169 - accuracy: 0.9916\n",
      "Epoch 13/20\n",
      "2188/2188 [==============================] - 371s 170ms/step - loss: 0.0158 - accuracy: 0.9918\n",
      "Epoch 14/20\n",
      "2188/2188 [==============================] - 371s 170ms/step - loss: 0.0154 - accuracy: 0.9922\n",
      "Epoch 15/20\n",
      "2188/2188 [==============================] - 371s 170ms/step - loss: 0.0147 - accuracy: 0.9924\n",
      "Epoch 16/20\n",
      "2188/2188 [==============================] - 375s 171ms/step - loss: 0.0146 - accuracy: 0.9924\n",
      "Epoch 17/20\n",
      "2188/2188 [==============================] - 371s 170ms/step - loss: 0.0138 - accuracy: 0.9928\n",
      "Epoch 18/20\n",
      "2188/2188 [==============================] - 370s 169ms/step - loss: 0.0137 - accuracy: 0.9928\n",
      "Epoch 19/20\n",
      "2188/2188 [==============================] - 371s 169ms/step - loss: 0.0147 - accuracy: 0.9925\n",
      "Epoch 20/20\n",
      "2188/2188 [==============================] - 369s 169ms/step - loss: 0.0130 - accuracy: 0.9931\n"
     ]
    }
   ],
   "source": [
    "history = model.fit(x_train, Y_train,epochs=20,verbose=True,batch_size=16)"
   ]
  },
  {
   "cell_type": "code",
   "execution_count": 54,
   "metadata": {
    "colab": {
     "base_uri": "https://localhost:8080/",
     "height": 68
    },
    "colab_type": "code",
    "id": "rWa74PxZhARa",
    "outputId": "c91896de-d81f-4ded-ed93-3d327e8e6ac5"
   },
   "outputs": [
    {
     "name": "stdout",
     "output_type": "stream",
     "text": [
      "469/469 [==============================] - 2s 3ms/step - loss: 1.7621 - accuracy: 0.7642\n",
      "469/469 [==============================] - 2s 3ms/step - loss: 1.7621 - accuracy: 0.7642\n",
      "469/469 [==============================] - 2s 3ms/step - loss: 1.7621 - accuracy: 0.7642\n"
     ]
    }
   ],
   "source": [
    "test_score=model.evaluate(x_test,Y_test)"
   ]
  },
  {
   "cell_type": "code",
   "execution_count": 55,
   "metadata": {
    "colab": {
     "base_uri": "https://localhost:8080/",
     "height": 51
    },
    "colab_type": "code",
    "id": "x8YSLfRmhCXS",
    "outputId": "ad274645-3952-4202-8634-24eae4664bef"
   },
   "outputs": [
    {
     "data": {
      "text/plain": [
       "[1.7621402740478516, 0.7641777396202087]"
      ]
     },
     "execution_count": 47,
     "metadata": {
      "tags": []
     },
     "output_type": "execute_result"
    },
    {
     "data": {
      "text/plain": [
       "[1.7621402740478516, 0.7641777396202087]"
      ]
     },
     "execution_count": 51,
     "metadata": {
      "tags": []
     },
     "output_type": "execute_result"
    },
    {
     "data": {
      "text/plain": [
       "[1.7621402740478516, 0.7641777396202087]"
      ]
     },
     "execution_count": 55,
     "metadata": {
      "tags": []
     },
     "output_type": "execute_result"
    }
   ],
   "source": [
    "test_score"
   ]
  },
  {
   "cell_type": "code",
   "execution_count": 56,
   "metadata": {
    "colab": {
     "base_uri": "https://localhost:8080/",
     "height": 68
    },
    "colab_type": "code",
    "id": "hhK1Vh-OhDym",
    "outputId": "5020ad4c-b682-4977-f1b7-bad9920bcfe7"
   },
   "outputs": [
    {
     "name": "stdout",
     "output_type": "stream",
     "text": [
      "1094/1094 [==============================] - 4s 3ms/step - loss: 0.0111 - accuracy: 0.9938\n",
      "1094/1094 [==============================] - 4s 3ms/step - loss: 0.0111 - accuracy: 0.9938\n",
      "1094/1094 [==============================] - 4s 3ms/step - loss: 0.0111 - accuracy: 0.9938\n"
     ]
    }
   ],
   "source": [
    "train_score=model.evaluate(x_train,Y_train)"
   ]
  },
  {
   "cell_type": "code",
   "execution_count": 58,
   "metadata": {
    "colab": {
     "base_uri": "https://localhost:8080/",
     "height": 51
    },
    "colab_type": "code",
    "id": "a3NCsR4XhHHY",
    "outputId": "7904d481-83e7-4cf1-d1f3-e7646be63906"
   },
   "outputs": [
    {
     "data": {
      "text/plain": [
       "[0.01113097183406353, 0.9938176274299622]"
      ]
     },
     "execution_count": 53,
     "metadata": {
      "tags": []
     },
     "output_type": "execute_result"
    },
    {
     "data": {
      "text/plain": [
       "[0.01113097183406353, 0.9938176274299622]"
      ]
     },
     "execution_count": 57,
     "metadata": {
      "tags": []
     },
     "output_type": "execute_result"
    },
    {
     "data": {
      "text/plain": [
       "[0.01113097183406353, 0.9938176274299622]"
      ]
     },
     "execution_count": 58,
     "metadata": {
      "tags": []
     },
     "output_type": "execute_result"
    }
   ],
   "source": [
    "train_score"
   ]
  },
  {
   "cell_type": "markdown",
   "metadata": {
    "colab_type": "text",
    "id": "ZZjKcz-Q2kKr"
   },
   "source": [
    "Train accuracy 0.99\n",
    "Test accuracy  0.77"
   ]
  },
  {
   "cell_type": "code",
   "execution_count": null,
   "metadata": {
    "colab": {},
    "colab_type": "code",
    "id": "QVV9CLalfJS9"
   },
   "outputs": [],
   "source": [
    "## Done"
   ]
  },
  {
   "cell_type": "markdown",
   "metadata": {
    "colab_type": "text",
    "id": "JSWb6nJIZ0Tz"
   },
   "source": [
    "## Recurrent Neural Network application"
   ]
  },
  {
   "cell_type": "markdown",
   "metadata": {
    "colab_type": "text",
    "id": "I0hhyhulaYag"
   },
   "source": [
    "**Why Recurrent Neural Networks**\n",
    "\n",
    "Until now we have tried to extract some features from all the words in a sample at a time. So, all of them are non temporal approaches. Now, let's see how a person will judge a sentiment. He/she will not only considered what were the words used, humans will also consider how they are used, that is, in what context, and what are the preeceding and succeeding words? So, until now we have focused on what were the words used only, so, now let's look at the other part of the story. \n",
    "\n",
    "So, for this part we need Recurrent neural network to give a memory to our models. If we think about telling something about someones statements, we will generally listen to the whole statement word by word and then make a comment. This is what the Recurrent Neural networks will accomplish. It will look at each word on a temporal manner one by one and try to correlate to the context using the embedded feature vector of the word. \n",
    "\n",
    "Now as we know RNN suffers from the vanishing and exploding gradient problem we will be using LSTM. \n",
    "\n",
    "Now LSTM, operates on two things a hidden state that is sent from previous time stamp and a cell state that actually maintains the weight neutralizing the vanishing gradient effect.\n",
    "\n",
    "Now, the LSTM layer basically has 4 components:\n",
    "A Forget gate, An input gate, a cell state and a output gate\n"
   ]
  },
  {
   "cell_type": "markdown",
   "metadata": {
    "colab_type": "text",
    "id": "0WOuw5kb0bs2"
   },
   "source": [
    "![LSTM](https://miro.medium.com/max/700/1*-kBdBYzR7lpimgb3AIRkOw.png)"
   ]
  },
  {
   "cell_type": "markdown",
   "metadata": {
    "colab_type": "text",
    "id": "rZP347bL1J89"
   },
   "source": [
    "![gates](https://miro.medium.com/max/700/1*yBXV9o5q7L_CvY7quJt3WQ.png)"
   ]
  },
  {
   "cell_type": "markdown",
   "metadata": {
    "colab_type": "text",
    "id": "Y9MWWPJ03YUc"
   },
   "source": [
    "![alt text](https://miro.medium.com/max/700/1*y-RI3y90IZpOUMnkCBrQxQ.png)"
   ]
  },
  {
   "cell_type": "markdown",
   "metadata": {
    "colab_type": "text",
    "id": "2KY5kBPK32d4"
   },
   "source": [
    "**LSTM also provide feature set on the last time stamp for the dense layer to use the feature set to produce results.**  Now we can see the above equations are the equations for the Gates of LSTM. Now here each gate acts like a neural network individually. So, they have their individual weight matrices that are optimized when the recurrent network model is trained. Using these weight matrices only the gates learn their tasks, like which data to foget and what part of the data is needed to be updated to the cell state. So, the gates optimize their weight matrices and decide the operations accoring to it. \n",
    "\n",
    "Now, lets see the use. \n",
    "\n",
    "--------------------------------------------------\n",
    "\n",
    "Say we have a 100 dimensional vector space. a batch size of 16, each sample length = 10. and the number of nodes in each layer= 64.\n",
    "\n",
    "INPUT SIZE = batch_size * Embedding \n",
    "so, here it is 16 x 300 matrix = i(t)\n",
    "\n",
    "The time stamp 0 that is the first word of every sample enter. \n",
    "\n",
    "PREVIOUS HIDDEN STATE (0 vec for tiemstamp 0) = Batch size x Hidden Units \n",
    "So, Here it is 16 x 64 matrix.= h(t-1)\n",
    "\n",
    "After concatenation, the matrix formed h(t-1)= 16 x 64 and i(t)= 16 x 300\n",
    "\n",
    "So the h(t-1) + i(t) matrix is sent to all gates.\n",
    "\n",
    "--------------------------------------------------\n",
    "First the forget gate Weight matrix of the hidden state is of dimension 64 x 64 because in the hidden state for each of the 16 words of timestamp (t-1) there were 64 values from the 64 nodes from the RNN. \n",
    "\n",
    "So, actually our matrix from hidden state 16 rows which are records and for each record there are 64 columns or 64 features. \n",
    "\n",
    "y=w1x1+w2x2+........wnxn \n",
    "\n",
    "where the x's are the features or the column values. So, there must a maintained array of 64 weights for each node or unit of the network. Now there are 64 such units so total of (64 x 64) matrix.\n",
    "\n",
    "Again, now for input, there are 16 rows or records for each of them 300 columns or 300 features. so, the weight matrix of one hidden unit must have 100 values. Total 64 units are there. So, dimension of the matrix. (100 x 64)\n",
    "\n",
    "So at forget gate \n",
    "\n",
    "y= sigmoid((16 x 100) x (100 x 64) + (16 x 100)  x (100 x 64))\n",
    "\n",
    "y=sigmoid (16 x 64) vector\n",
    "\n",
    "--------------------------------------------------\n",
    "\n",
    "Sigmoid gives the value between 0 and 1. If the value is close to 0 the value is forgotten else added to the cell state.\n",
    "\n",
    "Now,the cell state is also of the same dimension (16 x 64) as it is also having the weights of the 16 sample word's by 64 nodes So, they can easily be added.\n",
    "\n",
    "\n",
    "\n",
    "Next is the input gate it decides what part of the data should enter means the actual tanh. It deciedes whether the cell state should be updated. \n",
    "\n",
    "These gates matrices are also same as the forget gates matrices with (64 x 64) values in the last hidden layer and (300 x 64) values for the input.\n",
    "\n",
    "So, they also give sigmoid(16 x 64) as a result\n",
    "\n",
    "One thing to notice here is there is a tanh layer also. The tanh is here to squeeze the value between 1 to -1 to deal with the exploding and vanishing gradient. So, it basically works like and regularized value that represnts the value of the cell state on that timestep. The sigmoid is the switch. \n",
    "\n",
    "So, after that the obtained vectors are just multiplied to obtain 1 result.\n",
    "\n",
    "--------------------------------------------------\n",
    "\n",
    "**One thing to notice about this is, though the wieght matrices are of same dimensions they are not same. They belong to different gates and their values and optimzations are all different.**\n",
    "\n",
    "--------------------------------------------------\n",
    "\n",
    "Now in the next step the cell step is updated \n",
    "\n",
    "It is basically a simple sum. \n",
    "\n",
    "The new c is formed by removing the unwanted information from the last step + accomplishments of the current time step. \n",
    "\n",
    "\n",
    "--------------------------------------------------\n",
    "\n",
    "Next, comes the output gate. This decides what should be next steps hidden layer be. \n",
    "\n",
    "\n",
    "For this the new cell state is passed through a tanh gate and the h(t-1) + i(t) is passed through another sigmoid. Both of the results are multiplied. That's the next.\n",
    "\n",
    "--------------------------------------------------\n",
    "\n",
    "\n",
    "Now, these weights get updated at every timestep with every word and after the 10th word or timestamp. We get a matrix of size 16 x 64, which are basically the weight values of the nodes corresponding to each sample. But what we don't see are the weight matrices of the gates but they are also optimized. These 64 values basically represent the weights of a sample in the batch. \n",
    "\n",
    "For all the samples we obtain a value. These values act as feature set for the dense layers to perform their operations.\n",
    "\n",
    "\n",
    "\n",
    "\n",
    "\n"
   ]
  },
  {
   "cell_type": "code",
   "execution_count": 13,
   "metadata": {
    "colab": {},
    "colab_type": "code",
    "id": "uTSZIKWLaO3H"
   },
   "outputs": [],
   "source": [
    "file_path=\"drive/My Drive/glove.6B/\""
   ]
  },
  {
   "cell_type": "code",
   "execution_count": 14,
   "metadata": {
    "colab": {},
    "colab_type": "code",
    "id": "YI4JYWH2YiFb"
   },
   "outputs": [],
   "source": [
    "import numpy as np\n",
    "from tensorflow.keras.preprocessing.text import Tokenizer\n",
    "tokenizer = Tokenizer(num_words=10000)\n",
    "tokenizer.fit_on_texts(X_train)"
   ]
  },
  {
   "cell_type": "code",
   "execution_count": 15,
   "metadata": {
    "colab": {},
    "colab_type": "code",
    "id": "Cr1--O_IYsG_"
   },
   "outputs": [],
   "source": [
    "x_train = tokenizer.texts_to_sequences(X_train) \n",
    "x_test = tokenizer.texts_to_sequences(X_test)"
   ]
  },
  {
   "cell_type": "code",
   "execution_count": 16,
   "metadata": {
    "colab": {
     "base_uri": "https://localhost:8080/",
     "height": 34
    },
    "colab_type": "code",
    "id": "6coFckBGYuXR",
    "outputId": "675da485-16ee-4a43-a2e2-bb2ea9f7bde4"
   },
   "outputs": [
    {
     "name": "stderr",
     "output_type": "stream",
     "text": [
      "Using TensorFlow backend.\n"
     ]
    }
   ],
   "source": [
    "from keras.preprocessing.sequence import pad_sequences\n",
    "maxlen=100\n",
    "x_train = pad_sequences(x_train, padding='post', maxlen=maxlen)\n",
    "x_test = pad_sequences(x_test, padding='post', maxlen=maxlen)"
   ]
  },
  {
   "cell_type": "code",
   "execution_count": 17,
   "metadata": {
    "colab": {},
    "colab_type": "code",
    "id": "_x_AKbMUYwUY"
   },
   "outputs": [],
   "source": [
    "emb_dim=50\n",
    "vocab=len(tokenizer.word_index)+1\n",
    "emb_mat= np.zeros((vocab,emb_dim))"
   ]
  },
  {
   "cell_type": "code",
   "execution_count": 18,
   "metadata": {
    "colab": {},
    "colab_type": "code",
    "id": "Zj7OsHEoYyCz"
   },
   "outputs": [],
   "source": [
    "with open(file_path+'glove.6B.50d.txt') as f:\n",
    "        for line in f:\n",
    "            word, *emb = line.split()\n",
    "            if word in tokenizer.word_index:\n",
    "              ind=tokenizer.word_index[word]\n",
    "              emb_mat[ind]=np.array(emb,dtype=\"float32\")[:emb_dim]"
   ]
  },
  {
   "cell_type": "code",
   "execution_count": 20,
   "metadata": {
    "colab": {},
    "colab_type": "code",
    "id": "FB2Wek6GYzff"
   },
   "outputs": [],
   "source": [
    "from tensorflow.keras.models import Sequential\n",
    "from tensorflow.keras.layers import Embedding,Dense, Activation, MaxPool1D, LSTM\n",
    "from tensorflow.keras.optimizers import Adam\n",
    "emb_dim=50\n",
    "maxlen=100\n",
    "model= Sequential()\n",
    "model.add(Embedding(input_dim=vocab, output_dim=emb_dim,weights=[emb_mat], input_length=maxlen,trainable=False))\n",
    "model.add(MaxPool1D())\n",
    "model.add(LSTM(64, return_sequences = False))\n",
    "model.add(Dense(16,activation=\"relu\"))\n",
    "model.add(Dense(1, activation='sigmoid'))\n",
    "model.compile(optimizer='Adam',loss='binary_crossentropy',metrics=['accuracy'])"
   ]
  },
  {
   "cell_type": "code",
   "execution_count": 21,
   "metadata": {
    "colab": {
     "base_uri": "https://localhost:8080/",
     "height": 323
    },
    "colab_type": "code",
    "id": "hM73KAmDcli1",
    "outputId": "d557bb23-585a-4c05-cc11-dec9395f18d7"
   },
   "outputs": [
    {
     "name": "stdout",
     "output_type": "stream",
     "text": [
      "Model: \"sequential_1\"\n",
      "_________________________________________________________________\n",
      "Layer (type)                 Output Shape              Param #   \n",
      "=================================================================\n",
      "embedding_1 (Embedding)      (None, 100, 50)           8876350   \n",
      "_________________________________________________________________\n",
      "max_pooling1d_1 (MaxPooling1 (None, 50, 50)            0         \n",
      "_________________________________________________________________\n",
      "lstm (LSTM)                  (None, 64)                29440     \n",
      "_________________________________________________________________\n",
      "dense (Dense)                (None, 16)                1040      \n",
      "_________________________________________________________________\n",
      "dense_1 (Dense)              (None, 1)                 17        \n",
      "=================================================================\n",
      "Total params: 8,906,847\n",
      "Trainable params: 30,497\n",
      "Non-trainable params: 8,876,350\n",
      "_________________________________________________________________\n"
     ]
    }
   ],
   "source": [
    "model.summary()"
   ]
  },
  {
   "cell_type": "code",
   "execution_count": 22,
   "metadata": {
    "colab": {
     "base_uri": "https://localhost:8080/",
     "height": 1000
    },
    "colab_type": "code",
    "id": "X-akKF2NcoI_",
    "outputId": "cb75f87e-29c5-472f-a5c2-d4d05b5f7b63"
   },
   "outputs": [
    {
     "name": "stdout",
     "output_type": "stream",
     "text": [
      "Epoch 1/50\n",
      "2188/2188 [==============================] - 10s 5ms/step - loss: 0.5535 - accuracy: 0.7149\n",
      "Epoch 2/50\n",
      "2188/2188 [==============================] - 10s 5ms/step - loss: 0.4731 - accuracy: 0.7744\n",
      "Epoch 3/50\n",
      "2188/2188 [==============================] - 10s 5ms/step - loss: 0.4422 - accuracy: 0.7937\n",
      "Epoch 4/50\n",
      "2188/2188 [==============================] - 10s 5ms/step - loss: 0.4199 - accuracy: 0.8042\n",
      "Epoch 5/50\n",
      "2188/2188 [==============================] - 10s 5ms/step - loss: 0.3991 - accuracy: 0.8184\n",
      "Epoch 6/50\n",
      "2188/2188 [==============================] - 10s 5ms/step - loss: 0.3815 - accuracy: 0.8257\n",
      "Epoch 7/50\n",
      "2188/2188 [==============================] - 10s 5ms/step - loss: 0.3620 - accuracy: 0.8359\n",
      "Epoch 8/50\n",
      "2188/2188 [==============================] - 10s 5ms/step - loss: 0.3475 - accuracy: 0.8452\n",
      "Epoch 9/50\n",
      "2188/2188 [==============================] - 10s 5ms/step - loss: 0.3262 - accuracy: 0.8557\n",
      "Epoch 10/50\n",
      "2188/2188 [==============================] - 10s 5ms/step - loss: 0.3080 - accuracy: 0.8655\n",
      "Epoch 11/50\n",
      "2188/2188 [==============================] - 10s 5ms/step - loss: 0.2884 - accuracy: 0.8752\n",
      "Epoch 12/50\n",
      "2188/2188 [==============================] - 11s 5ms/step - loss: 0.2696 - accuracy: 0.8854\n",
      "Epoch 13/50\n",
      "2188/2188 [==============================] - 10s 5ms/step - loss: 0.2487 - accuracy: 0.8949\n",
      "Epoch 14/50\n",
      "2188/2188 [==============================] - 10s 5ms/step - loss: 0.2308 - accuracy: 0.9036\n",
      "Epoch 15/50\n",
      "2188/2188 [==============================] - 10s 5ms/step - loss: 0.2146 - accuracy: 0.9110\n",
      "Epoch 16/50\n",
      "2188/2188 [==============================] - 10s 5ms/step - loss: 0.1953 - accuracy: 0.9204\n",
      "Epoch 17/50\n",
      "2188/2188 [==============================] - 10s 5ms/step - loss: 0.1787 - accuracy: 0.9283\n",
      "Epoch 18/50\n",
      "2188/2188 [==============================] - 10s 5ms/step - loss: 0.1619 - accuracy: 0.9351\n",
      "Epoch 19/50\n",
      "2188/2188 [==============================] - 10s 5ms/step - loss: 0.1471 - accuracy: 0.9400\n",
      "Epoch 20/50\n",
      "2188/2188 [==============================] - 10s 5ms/step - loss: 0.1338 - accuracy: 0.9475\n",
      "Epoch 21/50\n",
      "2188/2188 [==============================] - 10s 5ms/step - loss: 0.1237 - accuracy: 0.9511\n",
      "Epoch 22/50\n",
      "2188/2188 [==============================] - 10s 5ms/step - loss: 0.1109 - accuracy: 0.9569\n",
      "Epoch 23/50\n",
      "2188/2188 [==============================] - 10s 5ms/step - loss: 0.1040 - accuracy: 0.9607\n",
      "Epoch 24/50\n",
      "2188/2188 [==============================] - 10s 5ms/step - loss: 0.0943 - accuracy: 0.9641\n",
      "Epoch 25/50\n",
      "2188/2188 [==============================] - 10s 5ms/step - loss: 0.0903 - accuracy: 0.9657\n",
      "Epoch 26/50\n",
      "2188/2188 [==============================] - 10s 5ms/step - loss: 0.0820 - accuracy: 0.9675\n",
      "Epoch 27/50\n",
      "2188/2188 [==============================] - 10s 5ms/step - loss: 0.0748 - accuracy: 0.9717\n",
      "Epoch 28/50\n",
      "2188/2188 [==============================] - 10s 5ms/step - loss: 0.0716 - accuracy: 0.9729\n",
      "Epoch 29/50\n",
      "2188/2188 [==============================] - 10s 5ms/step - loss: 0.0695 - accuracy: 0.9737\n",
      "Epoch 30/50\n",
      "2188/2188 [==============================] - 10s 5ms/step - loss: 0.0631 - accuracy: 0.9766\n",
      "Epoch 31/50\n",
      "2188/2188 [==============================] - 10s 5ms/step - loss: 0.0588 - accuracy: 0.9784\n",
      "Epoch 32/50\n",
      "2188/2188 [==============================] - 10s 5ms/step - loss: 0.0627 - accuracy: 0.9769\n",
      "Epoch 33/50\n",
      "2188/2188 [==============================] - 10s 5ms/step - loss: 0.0555 - accuracy: 0.9804\n",
      "Epoch 34/50\n",
      "2188/2188 [==============================] - 10s 5ms/step - loss: 0.0541 - accuracy: 0.9797\n",
      "Epoch 35/50\n",
      "2188/2188 [==============================] - 10s 5ms/step - loss: 0.0515 - accuracy: 0.9813\n",
      "Epoch 36/50\n",
      "2188/2188 [==============================] - 10s 5ms/step - loss: 0.0476 - accuracy: 0.9830\n",
      "Epoch 37/50\n",
      "2188/2188 [==============================] - 10s 5ms/step - loss: 0.0510 - accuracy: 0.9807\n",
      "Epoch 38/50\n",
      "2188/2188 [==============================] - 10s 5ms/step - loss: 0.0454 - accuracy: 0.9836\n",
      "Epoch 39/50\n",
      "2188/2188 [==============================] - 10s 5ms/step - loss: 0.0406 - accuracy: 0.9850\n",
      "Epoch 40/50\n",
      "2188/2188 [==============================] - 10s 5ms/step - loss: 0.0461 - accuracy: 0.9833\n",
      "Epoch 41/50\n",
      "2188/2188 [==============================] - 10s 5ms/step - loss: 0.0462 - accuracy: 0.9844\n",
      "Epoch 42/50\n",
      "2188/2188 [==============================] - 10s 5ms/step - loss: 0.0394 - accuracy: 0.9864\n",
      "Epoch 43/50\n",
      "2188/2188 [==============================] - 11s 5ms/step - loss: 0.0411 - accuracy: 0.9842\n",
      "Epoch 44/50\n",
      "2188/2188 [==============================] - 10s 5ms/step - loss: 0.0399 - accuracy: 0.9855\n",
      "Epoch 45/50\n",
      "2188/2188 [==============================] - 10s 5ms/step - loss: 0.0381 - accuracy: 0.9871\n",
      "Epoch 46/50\n",
      "2188/2188 [==============================] - 10s 5ms/step - loss: 0.0377 - accuracy: 0.9870\n",
      "Epoch 47/50\n",
      "2188/2188 [==============================] - 10s 5ms/step - loss: 0.0346 - accuracy: 0.9875\n",
      "Epoch 48/50\n",
      "2188/2188 [==============================] - 10s 5ms/step - loss: 0.0406 - accuracy: 0.9855\n",
      "Epoch 49/50\n",
      "2188/2188 [==============================] - 10s 5ms/step - loss: 0.0449 - accuracy: 0.9847\n",
      "Epoch 50/50\n",
      "2188/2188 [==============================] - 10s 5ms/step - loss: 0.0288 - accuracy: 0.9905\n"
     ]
    }
   ],
   "source": [
    "history = model.fit(x_train, Y_train,epochs=50,verbose=True,batch_size=16)"
   ]
  },
  {
   "cell_type": "code",
   "execution_count": 23,
   "metadata": {
    "colab": {
     "base_uri": "https://localhost:8080/",
     "height": 34
    },
    "colab_type": "code",
    "id": "uNtRuyHTcsT7",
    "outputId": "50dfb1a4-be5d-4ad0-b752-0acaffb2a77c"
   },
   "outputs": [
    {
     "name": "stdout",
     "output_type": "stream",
     "text": [
      "469/469 [==============================] - 1s 3ms/step - loss: 1.6903 - accuracy: 0.7759\n"
     ]
    }
   ],
   "source": [
    "test_score=model.evaluate(x_test,Y_test)"
   ]
  },
  {
   "cell_type": "code",
   "execution_count": 24,
   "metadata": {
    "colab": {
     "base_uri": "https://localhost:8080/",
     "height": 34
    },
    "colab_type": "code",
    "id": "SCY2wdmmcwTU",
    "outputId": "00ed1bb3-39ae-4314-d7d8-b747c4f479ca"
   },
   "outputs": [
    {
     "data": {
      "text/plain": [
       "[1.6902750730514526, 0.7759333252906799]"
      ]
     },
     "execution_count": 24,
     "metadata": {
      "tags": []
     },
     "output_type": "execute_result"
    }
   ],
   "source": [
    "test_score"
   ]
  },
  {
   "cell_type": "code",
   "execution_count": 25,
   "metadata": {
    "colab": {
     "base_uri": "https://localhost:8080/",
     "height": 34
    },
    "colab_type": "code",
    "id": "Qw7Wh7T1c4aO",
    "outputId": "970e843e-4474-44a6-fdb3-426defedcafe"
   },
   "outputs": [
    {
     "name": "stdout",
     "output_type": "stream",
     "text": [
      "1094/1094 [==============================] - 3s 3ms/step - loss: 0.0330 - accuracy: 0.9886\n"
     ]
    }
   ],
   "source": [
    "train_score=model.evaluate(x_train,Y_train)"
   ]
  },
  {
   "cell_type": "code",
   "execution_count": 26,
   "metadata": {
    "colab": {
     "base_uri": "https://localhost:8080/",
     "height": 34
    },
    "colab_type": "code",
    "id": "xyH2uMnWc6YF",
    "outputId": "47f8945b-bf98-4593-b6b2-d2ab217837a2"
   },
   "outputs": [
    {
     "data": {
      "text/plain": [
       "[0.03299878537654877, 0.9885714054107666]"
      ]
     },
     "execution_count": 26,
     "metadata": {
      "tags": []
     },
     "output_type": "execute_result"
    }
   ],
   "source": [
    "train_score"
   ]
  },
  {
   "cell_type": "code",
   "execution_count": 27,
   "metadata": {
    "colab": {},
    "colab_type": "code",
    "id": "zOBapI7bfAp1"
   },
   "outputs": [],
   "source": [
    "## Done"
   ]
  }
 ],
 "metadata": {
  "accelerator": "GPU",
  "colab": {
   "name": "Text_classification_using_CNN_and_RNN.ipynb",
   "provenance": []
  },
  "kernelspec": {
   "display_name": "Python 3 (ipykernel)",
   "language": "python",
   "name": "python3"
  },
  "language_info": {
   "codemirror_mode": {
    "name": "ipython",
    "version": 3
   },
   "file_extension": ".py",
   "mimetype": "text/x-python",
   "name": "python",
   "nbconvert_exporter": "python",
   "pygments_lexer": "ipython3",
   "version": "3.8.12"
  },
  "toc": {
   "base_numbering": 1,
   "nav_menu": {},
   "number_sections": true,
   "sideBar": true,
   "skip_h1_title": false,
   "title_cell": "Table of Contents",
   "title_sidebar": "Contents",
   "toc_cell": true,
   "toc_position": {},
   "toc_section_display": true,
   "toc_window_display": true
  }
 },
 "nbformat": 4,
 "nbformat_minor": 4
}
