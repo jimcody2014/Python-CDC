{
 "cells": [
  {
   "cell_type": "markdown",
   "id": "b293d6b0",
   "metadata": {
    "toc": true
   },
   "source": [
    "<h1>Table of Contents<span class=\"tocSkip\"></span></h1>\n",
    "<div class=\"toc\"><ul class=\"toc-item\"><li><span><a href=\"#Rename\" data-toc-modified-id=\"Rename-1\"><span class=\"toc-item-num\">1&nbsp;&nbsp;</span>Rename</a></span></li><li><span><a href=\"#String-functions\" data-toc-modified-id=\"String-functions-2\"><span class=\"toc-item-num\">2&nbsp;&nbsp;</span>String functions</a></span></li><li><span><a href=\"#Dropping/Imputing-missing-data\" data-toc-modified-id=\"Dropping/Imputing-missing-data-3\"><span class=\"toc-item-num\">3&nbsp;&nbsp;</span>Dropping/Imputing missing data</a></span><ul class=\"toc-item\"><li><span><a href=\"#Applying-functions\" data-toc-modified-id=\"Applying-functions-3.1\"><span class=\"toc-item-num\">3.1&nbsp;&nbsp;</span>Applying functions</a></span></li><li><span><a href=\"#Sorting-DF\" data-toc-modified-id=\"Sorting-DF-3.2\"><span class=\"toc-item-num\">3.2&nbsp;&nbsp;</span>Sorting DF</a></span><ul class=\"toc-item\"><li><span><a href=\"#Remember---sort-needs-inplace\" data-toc-modified-id=\"Remember---sort-needs-inplace-3.2.1\"><span class=\"toc-item-num\">3.2.1&nbsp;&nbsp;</span>Remember - sort needs inplace</a></span></li></ul></li><li><span><a href=\"#Changing-data-types\" data-toc-modified-id=\"Changing-data-types-3.3\"><span class=\"toc-item-num\">3.3&nbsp;&nbsp;</span>Changing data types</a></span><ul class=\"toc-item\"><li><span><a href=\"#convert_dtypes()\" data-toc-modified-id=\"convert_dtypes()-3.3.1\"><span class=\"toc-item-num\">3.3.1&nbsp;&nbsp;</span>convert_dtypes()</a></span></li></ul></li></ul></li><li><span><a href=\"#Selecting-columns-based-on-conditions\" data-toc-modified-id=\"Selecting-columns-based-on-conditions-4\"><span class=\"toc-item-num\">4&nbsp;&nbsp;</span>Selecting columns based on conditions</a></span></li><li><span><a href=\"#Factorize\" data-toc-modified-id=\"Factorize-5\"><span class=\"toc-item-num\">5&nbsp;&nbsp;</span>Factorize</a></span><ul class=\"toc-item\"><li><ul class=\"toc-item\"><li><span><a href=\"#Factorize()\" data-toc-modified-id=\"Factorize()-5.0.1\"><span class=\"toc-item-num\">5.0.1&nbsp;&nbsp;</span>Factorize()</a></span></li></ul></li></ul></li><li><span><a href=\"#Binning\" data-toc-modified-id=\"Binning-6\"><span class=\"toc-item-num\">6&nbsp;&nbsp;</span>Binning</a></span></li><li><span><a href=\"#Stories\" data-toc-modified-id=\"Stories-7\"><span class=\"toc-item-num\">7&nbsp;&nbsp;</span>Stories</a></span><ul class=\"toc-item\"><li><span><a href=\"#Story-1\" data-toc-modified-id=\"Story-1-7.1\"><span class=\"toc-item-num\">7.1&nbsp;&nbsp;</span>Story 1</a></span></li><li><span><a href=\"#Story-2\" data-toc-modified-id=\"Story-2-7.2\"><span class=\"toc-item-num\">7.2&nbsp;&nbsp;</span>Story 2</a></span></li><li><span><a href=\"#Story-3\" data-toc-modified-id=\"Story-3-7.3\"><span class=\"toc-item-num\">7.3&nbsp;&nbsp;</span>Story 3</a></span><ul class=\"toc-item\"><li><span><a href=\"#Simple-Aggregations\" data-toc-modified-id=\"Simple-Aggregations-7.3.1\"><span class=\"toc-item-num\">7.3.1&nbsp;&nbsp;</span>Simple Aggregations</a></span></li><li><span><a href=\"#Multiple-Aggregations\" data-toc-modified-id=\"Multiple-Aggregations-7.3.2\"><span class=\"toc-item-num\">7.3.2&nbsp;&nbsp;</span>Multiple Aggregations</a></span></li></ul></li></ul></li></ul></div>"
   ]
  },
  {
   "cell_type": "code",
   "execution_count": null,
   "id": "e6aa329b",
   "metadata": {},
   "outputs": [],
   "source": [
    "df.columns"
   ]
  },
  {
   "cell_type": "code",
   "execution_count": null,
   "id": "b9b730f4",
   "metadata": {},
   "outputs": [],
   "source": [
    "df.index"
   ]
  },
  {
   "cell_type": "code",
   "execution_count": null,
   "id": "b822416e",
   "metadata": {},
   "outputs": [],
   "source": [
    "# Select by datatype\n",
    "df.dtypes\n",
    "\n",
    "# This include both int and float columns\n",
    "df.select_dtypes(include='number').head()\n",
    "\n",
    "# select just object columns\n",
    "df.select_dtypes(include='object')\n",
    "\n",
    "# select multiple data types\n",
    "df.select_dtypes(include=['int', 'datetime', 'object'])\n",
    "\n",
    "# exclude certain data types\n",
    "df.select_dtypes(exclude='int')"
   ]
  },
  {
   "cell_type": "markdown",
   "id": "39074f9a",
   "metadata": {},
   "source": [
    "# Rename"
   ]
  },
  {
   "cell_type": "code",
   "execution_count": null,
   "id": "6d00ba5e",
   "metadata": {},
   "outputs": [],
   "source": [
    "import numpy as np\n",
    "import pandas as pd\n",
    "from numpy.random import randn"
   ]
  },
  {
   "cell_type": "code",
   "execution_count": null,
   "id": "519e7b50",
   "metadata": {},
   "outputs": [],
   "source": [
    "imm = pd.read_excel('/Users/jimcody/Documents/2021Python/intropython/data/immunotherapy.xlsx',\n",
    "                               sheet_name = 'Immuno1')\n",
    "imm.head()"
   ]
  },
  {
   "cell_type": "code",
   "execution_count": null,
   "id": "b849a207",
   "metadata": {},
   "outputs": [],
   "source": [
    "# Rename as part of read_csv\n",
    "imm = pd.read_excel('/Users/jimcody/Documents/2021Python/intropython/data/immunotherapy.xlsx',\n",
    "                    names = ('a','b','c','d','e','f','g','h'),\n",
    "                    sheet_name = 'Immuno1')\n",
    "imm.head()"
   ]
  },
  {
   "cell_type": "code",
   "execution_count": null,
   "id": "45ca5067",
   "metadata": {},
   "outputs": [],
   "source": [
    "# Rename all columns using rename()\n",
    "imm.rename(columns = {'a':'a1','b':'b1','c':'c1','d':'d1','e':'e1','f':'f1','g':'g1','h':'h1'}, inplace = True)\n",
    "imm.head()"
   ]
  },
  {
   "cell_type": "code",
   "execution_count": null,
   "id": "395b442c",
   "metadata": {},
   "outputs": [],
   "source": [
    "# Rename some using rename()\n",
    "imm.rename(columns = {'b1':'BB','e1':'EE'}, inplace = True)\n",
    "imm.head()"
   ]
  },
  {
   "cell_type": "code",
   "execution_count": null,
   "id": "9dd9a9d8",
   "metadata": {},
   "outputs": [],
   "source": [
    "# Rename using set_axis()   not used that often\n",
    "imm.set_axis(['AA','BB','CC','DD','EE','FF','GG','HH'], axis = 'columns', inplace = True)\n",
    "imm.head()"
   ]
  },
  {
   "cell_type": "code",
   "execution_count": null,
   "id": "e9acfc10",
   "metadata": {},
   "outputs": [],
   "source": [
    "# Rename using .columns()\n",
    "imm.columns = ['AaA','BbB','CcC','DdD','EeE','FfF','GgG','HhH']\n",
    "imm.head()"
   ]
  },
  {
   "cell_type": "code",
   "execution_count": null,
   "id": "a5f1e085",
   "metadata": {},
   "outputs": [],
   "source": [
    "# Rename using str.replace\n",
    "imm.columns = imm.columns.str.replace('CcC','CCC')\n",
    "imm.head()"
   ]
  },
  {
   "cell_type": "markdown",
   "id": "29193783",
   "metadata": {},
   "source": [
    "# String functions"
   ]
  },
  {
   "cell_type": "code",
   "execution_count": null,
   "id": "41d0bb61",
   "metadata": {},
   "outputs": [],
   "source": [
    "# Passing `str.lower` function to lowercase column names\n",
    "df.rename(columns=str.lower).head()\n",
    "\n",
    "#df_excel['gender'].str.title()\n",
    "#df_excel['gender'].str.upper()\n",
    "#df_excel['gender'].str.title()"
   ]
  },
  {
   "cell_type": "code",
   "execution_count": null,
   "id": "d02e990b",
   "metadata": {},
   "outputs": [],
   "source": [
    "# Custom function\n",
    "def toUpperCase(string):\n",
    "    return string.upper()\n",
    "\n",
    "df.rename(columns=toUpperCase).head()"
   ]
  },
  {
   "cell_type": "code",
   "execution_count": 33,
   "id": "4c0b6afc",
   "metadata": {},
   "outputs": [
    {
     "data": {
      "text/plain": [
       "'Python was created by Guido van Rossum and released in 1991'"
      ]
     },
     "execution_count": 33,
     "metadata": {},
     "output_type": "execute_result"
    }
   ],
   "source": [
    "# joining strings\n",
    "\n",
    "name = 'Guido van Rossum'\n",
    "year = 1991\n",
    "f'Python was created by {name} and released in {year}'\n"
   ]
  },
  {
   "cell_type": "code",
   "execution_count": 34,
   "id": "181bcbf0",
   "metadata": {},
   "outputs": [
    {
     "data": {
      "text/plain": [
       "'Python was created by Guido van Rossum and released in 1991'"
      ]
     },
     "execution_count": 34,
     "metadata": {},
     "output_type": "execute_result"
    }
   ],
   "source": [
    "# joining strings\n",
    "\n",
    "name = 'Guido van Rossum'\n",
    "year = 1991\n",
    "\n",
    "\"Python was created by {} and released in {}\".format(name, year)"
   ]
  },
  {
   "cell_type": "code",
   "execution_count": 35,
   "id": "5c500b1b",
   "metadata": {},
   "outputs": [
    {
     "data": {
      "text/plain": [
       "'Today is October 15, 2021'"
      ]
     },
     "execution_count": 35,
     "metadata": {},
     "output_type": "execute_result"
    }
   ],
   "source": [
    "import datetime\n",
    "now = datetime.datetime.now()\n",
    "f'Today is {now:%B} {now:%-d}, {now:%Y}'"
   ]
  },
  {
   "cell_type": "markdown",
   "id": "c48f1f44",
   "metadata": {},
   "source": [
    "# Dropping/Imputing missing data"
   ]
  },
  {
   "cell_type": "code",
   "execution_count": null,
   "id": "99115678",
   "metadata": {},
   "outputs": [],
   "source": [
    "# To drop rows if any NaN values are present\n",
    "df.dropna(axis = 0)"
   ]
  },
  {
   "cell_type": "code",
   "execution_count": null,
   "id": "7a4530d8",
   "metadata": {},
   "outputs": [],
   "source": [
    "# To drop columns if any NaN values are present\n",
    "df.dropna(axis = 1)"
   ]
  },
  {
   "cell_type": "code",
   "execution_count": null,
   "id": "6c9a8508",
   "metadata": {},
   "outputs": [],
   "source": [
    "# To drop columns in which more than 10% of values are missing\n",
    "df.dropna(thresh=len(df)*0.9, axis=1)"
   ]
  },
  {
   "cell_type": "code",
   "execution_count": null,
   "id": "46bd8bc5",
   "metadata": {},
   "outputs": [],
   "source": [
    "# To replace all NaN values with a scalar\n",
    "df.fillna(value=10)\n",
    "\n",
    "# To replace NaN values with the values in the previous row.\n",
    "df.fillna(axis=0, method='ffill')\n",
    "\n",
    "# To replace NaN values with the values in the previous column.\n",
    "df.fillna(axis=1, method='ffill')\n",
    "\n",
    "# Replace with the values in the next row\n",
    "df.fillna(axis=0, method='bfill')\n",
    "\n",
    "# Replace with the values in the next column\n",
    "df.fillna(axis=1, method='bfill')\n",
    "\n",
    "# To replace NaN values with the mean\n",
    "df['Age'].fillna(value=df['Age'].mean(), inplace=True)"
   ]
  },
  {
   "cell_type": "code",
   "execution_count": null,
   "id": "98012f69",
   "metadata": {},
   "outputs": [],
   "source": []
  },
  {
   "cell_type": "code",
   "execution_count": null,
   "id": "b164dcf1",
   "metadata": {},
   "outputs": [],
   "source": [
    "  # Basic statistics for price"
   ]
  },
  {
   "cell_type": "code",
   "execution_count": null,
   "id": "8f65e9c9",
   "metadata": {},
   "outputs": [],
   "source": [
    "df['price'].describe()     \n",
    "df['price'].unique()\n",
    "df['price'].nunique()\n",
    "df['col2'].value_counts()"
   ]
  },
  {
   "cell_type": "code",
   "execution_count": null,
   "id": "15bb50cc",
   "metadata": {},
   "outputs": [],
   "source": []
  },
  {
   "cell_type": "code",
   "execution_count": null,
   "id": "4f0d81f5",
   "metadata": {},
   "outputs": [],
   "source": [
    "# Segregation of Numerical and Categorical Variables/Columns\n",
    "\n",
    "cat_col = df.select_dtypes(include=['object']).columns\n",
    "num_col = df.select_dtypes(exclude=['object']).columns\n",
    "df_cat = df[cat_col]\n",
    "df_num = df[num_col]"
   ]
  },
  {
   "cell_type": "markdown",
   "id": "386488aa",
   "metadata": {},
   "source": [
    "## Applying functions"
   ]
  },
  {
   "cell_type": "code",
   "execution_count": null,
   "id": "7d583d10",
   "metadata": {},
   "outputs": [],
   "source": [
    "def times2(x):\n",
    "    return x*2"
   ]
  },
  {
   "cell_type": "code",
   "execution_count": null,
   "id": "e483f56a",
   "metadata": {},
   "outputs": [],
   "source": [
    "df['col1'].apply(times2)"
   ]
  },
  {
   "cell_type": "code",
   "execution_count": null,
   "id": "9ec5417e",
   "metadata": {},
   "outputs": [],
   "source": [
    "df['col3'].apply(len)"
   ]
  },
  {
   "cell_type": "code",
   "execution_count": null,
   "id": "0eea43b9",
   "metadata": {},
   "outputs": [],
   "source": [
    "df['col1'].sum()"
   ]
  },
  {
   "cell_type": "code",
   "execution_count": null,
   "id": "5f58eb25",
   "metadata": {},
   "outputs": [],
   "source": []
  },
  {
   "cell_type": "code",
   "execution_count": null,
   "id": "aaa75390",
   "metadata": {},
   "outputs": [],
   "source": []
  },
  {
   "cell_type": "code",
   "execution_count": null,
   "id": "802bc6ae",
   "metadata": {},
   "outputs": [],
   "source": [
    "# Transform Sex into binary values 0 and 1\n",
    "sex = pd.Series( np.where( full.Sex == 'male' , 1 , 0 ) , name = 'Sex' )"
   ]
  },
  {
   "cell_type": "code",
   "execution_count": null,
   "id": "d780cff5",
   "metadata": {},
   "outputs": [],
   "source": [
    "# Extracting Car Company from the CarName as per direction in Problem \n",
    "\n",
    "df['CarName'] = df['CarName'].str.split(' ',expand=True)"
   ]
  },
  {
   "cell_type": "code",
   "execution_count": null,
   "id": "dbf06b10",
   "metadata": {},
   "outputs": [],
   "source": [
    "# Unique Car company\n",
    "\n",
    "df['CarName'].unique()# Renaming the typo errors in Car Company names\n",
    "\n",
    "df['CarName'] = df['CarName'].replace({'maxda': 'mazda', 'nissan': 'Nissan', 'porcshce': 'porsche', 'toyouta': 'toyota', \n",
    "                           'vokswagen': 'volkswagen', 'vw': 'volkswagen'})"
   ]
  },
  {
   "cell_type": "code",
   "execution_count": null,
   "id": "48241a98",
   "metadata": {},
   "outputs": [],
   "source": [
    "# Fill missing values of ChildPoverty with the average of ChildPoverty (mean)\n",
    "\n",
    "df[ 'ChildPoverty' ] = df.ChildPoverty.fillna( df.ChildPoverty.mean() )\n",
    "df_null = df.isna().mean().round(4) * 100\n",
    "\n",
    "df_null.sort_values(ascending=False).head()"
   ]
  },
  {
   "cell_type": "code",
   "execution_count": null,
   "id": "7a5da48c",
   "metadata": {},
   "outputs": [],
   "source": [
    "df['A'].fillna(value=df['A'].mean())"
   ]
  },
  {
   "cell_type": "code",
   "execution_count": null,
   "id": "e8ff3ba7",
   "metadata": {},
   "outputs": [],
   "source": [
    "# Create dataset\n",
    "imputed = pd.DataFrame()\n",
    "\n",
    "# Fill missing values of Age with the average of Age (mean)\n",
    "imputed[ 'Age' ] = full.Age.fillna( full.Age.mean() )\n",
    "\n",
    "# Fill missing values of Fare with the average of Fare (mean)\n",
    "imputed[ 'Fare' ] = full.Fare.fillna( full.Fare.mean() )\n",
    "\n",
    "imputed.head()"
   ]
  },
  {
   "cell_type": "code",
   "execution_count": null,
   "id": "5d290593",
   "metadata": {},
   "outputs": [],
   "source": [
    "cabin = pd.DataFrame()\n",
    "\n",
    "# replacing missing cabins with U (for Uknown)\n",
    "cabin[ 'Cabin' ] = full.Cabin.fillna( 'U' )\n",
    "\n",
    "# mapping each Cabin value with the cabin letter\n",
    "cabin[ 'Cabin' ] = cabin[ 'Cabin' ].map( lambda c : c[0] )\n",
    "\n",
    "# dummy encoding ...\n",
    "cabin = pd.get_dummies( cabin['Cabin'] , prefix = 'Cabin' )\n",
    "\n",
    "cabin.head()"
   ]
  },
  {
   "cell_type": "code",
   "execution_count": null,
   "id": "5f0e3ab3",
   "metadata": {},
   "outputs": [],
   "source": [
    "family = pd.DataFrame()\n",
    "\n",
    "# introducing a new feature : the size of families (including the passenger)\n",
    "family[ 'FamilySize' ] = full[ 'Parch' ] + full[ 'SibSp' ] + 1\n",
    "\n",
    "# introducing other features based on the family size\n",
    "family[ 'Family_Single' ] = family[ 'FamilySize' ].map( lambda s : 1 if s == 1 else 0 )\n",
    "family[ 'Family_Small' ]  = family[ 'FamilySize' ].map( lambda s : 1 if 2 <= s <= 4 else 0 )\n",
    "family[ 'Family_Large' ]  = family[ 'FamilySize' ].map( lambda s : 1 if 5 <= s else 0 )\n",
    "\n",
    "family.head()"
   ]
  },
  {
   "cell_type": "code",
   "execution_count": null,
   "id": "38e01f9f",
   "metadata": {},
   "outputs": [],
   "source": [
    "# Select which features/variables to include in the dataset from the list below:\n",
    "# imputed , embarked , pclass , sex , family , cabin , ticket\n",
    "\n",
    "full_X = pd.concat( [ imputed , embarked , cabin , sex ] , axis=1 )\n",
    "full_X.head()"
   ]
  },
  {
   "cell_type": "code",
   "execution_count": null,
   "id": "dfe9e615",
   "metadata": {},
   "outputs": [],
   "source": [
    "# Create a new dataframe\n",
    "\n",
    "df2 = df[['TotalPopulation','ChildPoverty','MeanCommute',\n",
    "          'MeanHealthCommute','Unemployment','Unemployment%_2019',\n",
    "          'Median Household Income_2019',]]"
   ]
  },
  {
   "cell_type": "code",
   "execution_count": null,
   "id": "adf6fc20",
   "metadata": {},
   "outputs": [],
   "source": [
    "# Create a new variable for every unique value of Embarked\n",
    "embarked = pd.get_dummies( full.Embarked , prefix='Embarked' )\n",
    "embarked.head()"
   ]
  },
  {
   "cell_type": "code",
   "execution_count": null,
   "id": "fbf6a911",
   "metadata": {},
   "outputs": [],
   "source": [
    "# a function that extracts each prefix of the ticket, returns 'XXX' \n",
    "# if no prefix (i.e the ticket is a digit)\n",
    "def cleanTicket( ticket ):\n",
    "    ticket = ticket.replace( '.' , '' )\n",
    "    ticket = ticket.replace( '/' , '' )\n",
    "    ticket = ticket.split()\n",
    "    ticket = map( lambda t : t.strip() , ticket )\n",
    "    ticket = list(filter( lambda t : not t.isdigit() , ticket ))\n",
    "    if len( ticket ) > 0:\n",
    "        return ticket[0]\n",
    "    else: \n",
    "        return 'XXX'\n",
    "\n",
    "ticket = pd.DataFrame()\n",
    "\n",
    "# Extracting dummy variables from tickets:\n",
    "ticket[ 'Ticket' ] = full[ 'Ticket' ].map( cleanTicket )\n",
    "ticket = pd.get_dummies( ticket[ 'Ticket' ] , prefix = 'Ticket' )\n",
    "\n",
    "ticket.shape\n",
    "ticket.head()"
   ]
  },
  {
   "cell_type": "code",
   "execution_count": null,
   "id": "c567c8b2",
   "metadata": {},
   "outputs": [],
   "source": [
    "title = pd.DataFrame()\n",
    "# we extract the title from each name\n",
    "title[ 'Title' ] = full[ 'Name' ].map( lambda name: name.split\n",
    "                                      ( ',' )[1].split( '.' )[0].strip() )\n",
    "\n",
    "# a map of more aggregated titles\n",
    "Title_Dictionary = {\n",
    "                    \"Capt\":       \"Officer\",\n",
    "                    \"Col\":        \"Officer\",\n",
    "                    \"Major\":      \"Officer\",\n",
    "                    \"Jonkheer\":   \"Royalty\",\n",
    "                    \"Don\":        \"Royalty\",\n",
    "                    \"Sir\" :       \"Royalty\",\n",
    "                    \"Dr\":         \"Officer\",\n",
    "                    \"Rev\":        \"Officer\",\n",
    "                    \"the Countess\":\"Royalty\",\n",
    "                    \"Dona\":       \"Royalty\",\n",
    "                    \"Mme\":        \"Mrs\",\n",
    "                    \"Mlle\":       \"Miss\",\n",
    "                    \"Ms\":         \"Mrs\",\n",
    "                    \"Mr\" :        \"Mr\",\n",
    "                    \"Mrs\" :       \"Mrs\",\n",
    "                    \"Miss\" :      \"Miss\",\n",
    "                    \"Master\" :    \"Master\",\n",
    "                    \"Lady\" :      \"Royalty\"\n",
    "\n",
    "                    }\n",
    "\n",
    "# we map each title\n",
    "title[ 'Title' ] = title.Title.map( Title_Dictionary )\n",
    "title = pd.get_dummies( title.Title )\n",
    "#title = pd.concat( [ title , titles_dummies ] , axis = 1 )\n",
    "\n",
    "title.head()"
   ]
  },
  {
   "cell_type": "markdown",
   "id": "f5bdb79e",
   "metadata": {},
   "source": [
    "## Sorting DF\n",
    "\n",
    "### Remember - sort needs inplace"
   ]
  },
  {
   "cell_type": "code",
   "execution_count": null,
   "id": "2616cede",
   "metadata": {},
   "outputs": [],
   "source": [
    "import pandas as pd\n",
    "import numpy as np\n",
    "client_dictionary = {'name': ['Michael', 'Ana', 'Sean'], \n",
    "                     'country': ['UK', 'UK', 'USA'], \n",
    "                     'age': [10, 51, 13],\n",
    "                     'latest date active': ['07-05-2019', '23-12-2019', '03-04-2016']}\n",
    "df = pd.DataFrame(client_dictionary)\n",
    "df.head()"
   ]
  },
  {
   "cell_type": "code",
   "execution_count": null,
   "id": "6b6b74c3",
   "metadata": {},
   "outputs": [],
   "source": [
    "df.sort_values(by='name')"
   ]
  },
  {
   "cell_type": "code",
   "execution_count": null,
   "id": "add9667b",
   "metadata": {},
   "outputs": [],
   "source": [
    "df.sort_values(by='name', ascending=False)"
   ]
  },
  {
   "cell_type": "code",
   "execution_count": null,
   "id": "733602cb",
   "metadata": {},
   "outputs": [],
   "source": [
    "df.sort_values(by='age')"
   ]
  },
  {
   "cell_type": "code",
   "execution_count": null,
   "id": "1995c599",
   "metadata": {},
   "outputs": [],
   "source": [
    "df.sort_values(by=['country','name'])"
   ]
  },
  {
   "cell_type": "code",
   "execution_count": null,
   "id": "4537c162",
   "metadata": {},
   "outputs": [],
   "source": [
    "df['latest date active'] = df['latest date active'].astype('datetime64[ns]')\n",
    "df.sort_values(by='latest date active')"
   ]
  },
  {
   "cell_type": "markdown",
   "id": "46760aa4",
   "metadata": {},
   "source": [
    "## Changing data types"
   ]
  },
  {
   "cell_type": "code",
   "execution_count": null,
   "id": "28cd1bbd",
   "metadata": {},
   "outputs": [],
   "source": [
    "data = {\"Car\": [\"A\", \"B\", \"C\",\"D\", \"E\", \"F\", \"G\", \"H\"],\\\n",
    "     \"Color\": [\"Red\", \"Yellow\", \"Black\", \"Green\", \"Black\", \"Red\", \"Black\", \"Black\"],\\\n",
    "     \"Year\": [\"1990\", \"1980\", \"2003\", \"2000\", \"2001\", \"2004\", \"1999\", \"2020\"],\\\n",
    "     \"Rating\": [\"2.5\", \"1.5\", \"3.8\", \"9.7\", \"8.9\", \"3.2\", \"5.5\", \"6.9\"],\\\n",
    "     \"Service\": [\"30/05/2010\", \"31/08/1999\", \"28/12/2005\", \"29/06/2011\",\\\n",
    "                 \"30/12/2020\", \"31/07/2013\", \"28/11/2000\", \"25/12/2020\"]}\n",
    "df = pd.DataFrame(data)\n",
    "df.head()"
   ]
  },
  {
   "cell_type": "code",
   "execution_count": null,
   "id": "c7721cff",
   "metadata": {},
   "outputs": [],
   "source": [
    "df1 = df.copy()"
   ]
  },
  {
   "cell_type": "code",
   "execution_count": null,
   "id": "d5d0f3d2",
   "metadata": {},
   "outputs": [],
   "source": [
    "# single column\n",
    "df1[\"Year\"] = df1[\"Year\"].astype(\"int64\")\n",
    "df1.head()"
   ]
  },
  {
   "cell_type": "code",
   "execution_count": null,
   "id": "c7e42be5",
   "metadata": {},
   "outputs": [],
   "source": [
    "# Multiple columns\n",
    "\n",
    "df1 = df1.astype({\"Year\": \"complex\", \"Rating\": \"float64\",\\\n",
    "                  \"Car\": 'int32'}, errors='ignore')\n",
    "df1.info()"
   ]
  },
  {
   "cell_type": "code",
   "execution_count": null,
   "id": "044c2f44",
   "metadata": {},
   "outputs": [],
   "source": [
    "df1[\"Car\"] = df1[\"Car\"].astype(\"int64\", errors='ignore')\n",
    "df1.head()"
   ]
  },
  {
   "cell_type": "code",
   "execution_count": null,
   "id": "00a44e12",
   "metadata": {},
   "outputs": [],
   "source": [
    "df1 = df1.astype(\"int64\", errors='ignore')\n",
    "df1.head()"
   ]
  },
  {
   "cell_type": "code",
   "execution_count": null,
   "id": "38403e8b",
   "metadata": {},
   "outputs": [],
   "source": [
    "df2 = df.copy()"
   ]
  },
  {
   "cell_type": "code",
   "execution_count": null,
   "id": "98982986",
   "metadata": {},
   "outputs": [],
   "source": [
    "df2[\"RealDate\"] = pd.to_datetime(df2[\"Service\"])\n",
    "df2"
   ]
  },
  {
   "cell_type": "code",
   "execution_count": null,
   "id": "f344ef0d",
   "metadata": {},
   "outputs": [],
   "source": [
    "df2[\"Rating\"]=pd.to_numeric(df2[\"Rating\"])\n",
    "\n",
    "df2.info()"
   ]
  },
  {
   "cell_type": "code",
   "execution_count": null,
   "id": "ee5821c0",
   "metadata": {},
   "outputs": [],
   "source": [
    "df2[[\"Rating\", \"Year\"]] = df2[[\"Rating\",\\\n",
    "                               \"Year\"]].apply(pd.to_numeric)\n",
    "df2.head()"
   ]
  },
  {
   "cell_type": "markdown",
   "id": "ce48c18d",
   "metadata": {},
   "source": [
    "### convert_dtypes()"
   ]
  },
  {
   "cell_type": "code",
   "execution_count": null,
   "id": "18202652",
   "metadata": {},
   "outputs": [],
   "source": [
    "df3 = df.copy()\n",
    "dfn = df3.convert_dtypes()\n",
    "dfn.info()"
   ]
  },
  {
   "cell_type": "markdown",
   "id": "cf9de23e",
   "metadata": {},
   "source": [
    "# Selecting columns based on conditions"
   ]
  },
  {
   "cell_type": "code",
   "execution_count": null,
   "id": "65a18fb7",
   "metadata": {},
   "outputs": [],
   "source": [
    "df = pd.DataFrame(\n",
    " [\n",
    "  (73, 15, 55, 33, 'foo'),\n",
    "  (63, 64, 11, 11, 'bar'),\n",
    "  (56, 72, 57, 55, 'foo'),\n",
    " ],\n",
    " columns=['A', 'B', 'C', 'D', 'E'],\n",
    ")"
   ]
  },
  {
   "cell_type": "code",
   "execution_count": null,
   "id": "35424b9c",
   "metadata": {},
   "outputs": [],
   "source": [
    "# Selecting Rows\n",
    "x = df.loc[df['B'] == 64]\n",
    "y = df[df['B'] == 64]\n",
    "z = df[df.B == 64]\n",
    "print(x)\n",
    "print(y)\n",
    "print(z)"
   ]
  },
  {
   "cell_type": "code",
   "execution_count": null,
   "id": "a31e46aa",
   "metadata": {},
   "outputs": [],
   "source": [
    "# In the context of Python, it is a common practise to name \n",
    "# such boolean conditions as mask that we then pass to DataFrame \n",
    "# when indexing it.\n",
    "\n",
    "mask = df.B == 64\n",
    "df[mask]\n",
    "\n",
    "# loc[] is the way to go. This is simply because df[mask] will always \n",
    "# dispatch to df.loc[mask] which means using loc directly will be \n",
    "# slightly faster."
   ]
  },
  {
   "cell_type": "code",
   "execution_count": null,
   "id": "bbafbfb9",
   "metadata": {},
   "outputs": [],
   "source": [
    "df.loc[df['B'] != 64]                 # scalar not equal\n",
    "df.loc[df['B'] >= 64]                 # scalar >=\n",
    "df.loc[df['E'].str.contains('oo')]    # contains a string\n",
    "df.loc[df['B'].isin([64, 15])]        # column is an iterable\n",
    "df.loc[~df['B'].isin([64, 15])]       # not in the list "
   ]
  },
  {
   "cell_type": "code",
   "execution_count": null,
   "id": "8f7f5d56",
   "metadata": {},
   "outputs": [],
   "source": [
    "# Multiple conditions\n",
    "df.loc[(df['A'] >= 59) & (df['E'].isin(['foo', 'boo']))]"
   ]
  },
  {
   "cell_type": "code",
   "execution_count": null,
   "id": "a4bbebd0",
   "metadata": {},
   "outputs": [],
   "source": [
    "#Select from DataFrame using criteria from multiple columns\n",
    "newdf = df[(df['col1']>2) & (df['col2']==444)]"
   ]
  },
  {
   "cell_type": "markdown",
   "id": "2a38e6b6",
   "metadata": {},
   "source": [
    "# Factorize\n",
    "\n",
    ".factorize() is a Pandas method that helps you to quickly transform your data from **text to numbers**.<p>\n",
    "It makes the same work as map or replace , but you don’t need to write a dictionary."
   ]
  },
  {
   "cell_type": "code",
   "execution_count": null,
   "id": "759020e2",
   "metadata": {},
   "outputs": [],
   "source": []
  },
  {
   "cell_type": "code",
   "execution_count": null,
   "id": "5a5dad13",
   "metadata": {},
   "outputs": [],
   "source": [
    "import pandas as ps\n",
    "import seaborn as sns\n",
    "df = sns.load_dataset('taxis')"
   ]
  },
  {
   "cell_type": "code",
   "execution_count": null,
   "id": "bfab97d9",
   "metadata": {},
   "outputs": [],
   "source": [
    "# slice only some textual columns\n",
    "df = df[['payment', 'pickup_borough', 'pickup_zone']]\n",
    "df.payment.unique()"
   ]
  },
  {
   "cell_type": "code",
   "execution_count": null,
   "id": "d31e2bb0",
   "metadata": {},
   "outputs": [],
   "source": [
    "# .map is fine if there are only a few values\n",
    "df.payment.map({'cash':0, 'credit card':1})"
   ]
  },
  {
   "cell_type": "code",
   "execution_count": null,
   "id": "51684ef8",
   "metadata": {},
   "outputs": [],
   "source": [
    "df.pickup_zone.nunique()"
   ]
  },
  {
   "cell_type": "markdown",
   "id": "30935269",
   "metadata": {},
   "source": [
    "### Factorize()"
   ]
  },
  {
   "cell_type": "code",
   "execution_count": null,
   "id": "9a4c73e5",
   "metadata": {},
   "outputs": [],
   "source": [
    "df.pickup_zone.factorize()"
   ]
  },
  {
   "cell_type": "code",
   "execution_count": null,
   "id": "66bd1a76",
   "metadata": {},
   "outputs": [],
   "source": [
    "# New factorized column\n",
    "# Each pickup zone is assigned a value\n",
    "df['zone_code'] = df.pickup_zone.factorize()[0]\n",
    "df"
   ]
  },
  {
   "cell_type": "code",
   "execution_count": null,
   "id": "57cd9d59",
   "metadata": {},
   "outputs": [],
   "source": [
    "df['pay_cd'] = df.payment.factorize()[0]\n",
    "df"
   ]
  },
  {
   "cell_type": "markdown",
   "id": "8aab72e9",
   "metadata": {},
   "source": [
    "# Binning"
   ]
  },
  {
   "cell_type": "code",
   "execution_count": null,
   "id": "44602b2f",
   "metadata": {},
   "outputs": [],
   "source": [
    "# Convert continuous data to categorical data\n",
    "import sys\n",
    "\n",
    "df['ageGroup']=pd.cut(\n",
    "    df['Age'], \n",
    "    bins=[0, 13, 19, 61, sys.maxsize], \n",
    "    labels=['<12', 'Teen', 'Adult', 'Older']\n",
    ")\n",
    "\n",
    "df['ageGroup'].head(8)\n"
   ]
  },
  {
   "cell_type": "markdown",
   "id": "9532e21f",
   "metadata": {},
   "source": [
    "# Stories"
   ]
  },
  {
   "cell_type": "markdown",
   "id": "b2437493",
   "metadata": {},
   "source": [
    "## Story 1\n",
    "\n",
    "https://towardsdatascience.com/a-complete-yet-simple-guide-to-move-from-excel-to-python-d664e5683039"
   ]
  },
  {
   "cell_type": "code",
   "execution_count": null,
   "id": "6b54a02c",
   "metadata": {},
   "outputs": [],
   "source": [
    "import pandas as pd\n",
    "import numpy as np\n",
    "df_excel = pd.read_csv('/Users/jimcody/Documents/2021Python/intropython/data/StudentsPerformance.csv')\n",
    "df_excel"
   ]
  },
  {
   "cell_type": "code",
   "execution_count": null,
   "id": "ebdd26ba",
   "metadata": {},
   "outputs": [],
   "source": [
    "df_excel['math score'].mean()"
   ]
  },
  {
   "cell_type": "code",
   "execution_count": null,
   "id": "0ac8cb5e",
   "metadata": {},
   "outputs": [],
   "source": [
    "# Math \n",
    "df_excel['average'] = (df_excel['math score'] \n",
    "                       + df_excel['reading score'] \n",
    "                       + df_excel['writing score'])/3"
   ]
  },
  {
   "cell_type": "code",
   "execution_count": null,
   "id": "b4b92afc",
   "metadata": {},
   "outputs": [],
   "source": [
    "df_excel['average2'] = df_excel.mean(axis=1)"
   ]
  },
  {
   "cell_type": "code",
   "execution_count": null,
   "id": "ccd2010b",
   "metadata": {},
   "outputs": [],
   "source": [
    "df_excel"
   ]
  },
  {
   "cell_type": "code",
   "execution_count": null,
   "id": "9860e45c",
   "metadata": {},
   "outputs": [],
   "source": [
    "df_excel['gender'].value_counts()"
   ]
  },
  {
   "cell_type": "code",
   "execution_count": null,
   "id": "3c16a57c",
   "metadata": {},
   "outputs": [],
   "source": [
    "df_excel['pass/fail'] = np.where(df_excel['average'] > 70, 'Pass', 'Fail')"
   ]
  },
  {
   "cell_type": "code",
   "execution_count": null,
   "id": "874b431f",
   "metadata": {},
   "outputs": [],
   "source": [
    "conditions = [\n",
    "    (df_excel['average']>=90),\n",
    "    (df_excel['average']>=80) & (df_excel['average']<90),\n",
    "    (df_excel['average']>=70) & (df_excel['average']<80),\n",
    "    (df_excel['average']>=60) & (df_excel['average']<70),\n",
    "    (df_excel['average']>=50) & (df_excel['average']<60),\n",
    "    (df_excel['average']<50),\n",
    "]\n",
    "values = ['A', 'B', 'C', 'D', 'E', 'F']"
   ]
  },
  {
   "cell_type": "code",
   "execution_count": null,
   "id": "caa4d135",
   "metadata": {},
   "outputs": [],
   "source": [
    "df_excel['grades'] = np.select(conditions, values)\n",
    "df_excel"
   ]
  },
  {
   "cell_type": "code",
   "execution_count": null,
   "id": "41da6e0e",
   "metadata": {},
   "outputs": [],
   "source": [
    "df_female = df_excel[df_excel['gender'] == 'female']"
   ]
  },
  {
   "cell_type": "code",
   "execution_count": null,
   "id": "0fbd5545",
   "metadata": {},
   "outputs": [],
   "source": [
    "df_sumifs = df_excel[(df_excel['gender'] == 'female') & (df_excel['race/ethnicity'] == 'group B')]"
   ]
  },
  {
   "cell_type": "code",
   "execution_count": null,
   "id": "4b56f352",
   "metadata": {},
   "outputs": [],
   "source": [
    "df_sumifs = df_sumifs.assign(sumifs = df_sumifs['math score'] \n",
    "                             + df_sumifs['reading score'] \n",
    "                             + df_sumifs['writing score'])"
   ]
  },
  {
   "cell_type": "code",
   "execution_count": null,
   "id": "80f9cd1a",
   "metadata": {},
   "outputs": [],
   "source": [
    "#df_excel['gender'].str.lower()\n",
    "#df_excel['gender'].str.upper()\n",
    "df_excel['gender'].str.title()"
   ]
  },
  {
   "cell_type": "code",
   "execution_count": null,
   "id": "5a965641",
   "metadata": {},
   "outputs": [],
   "source": [
    "df_excel['gender'] = df_excel['gender'].str.title()"
   ]
  },
  {
   "cell_type": "code",
   "execution_count": null,
   "id": "982f4044",
   "metadata": {},
   "outputs": [],
   "source": [
    "df_excel"
   ]
  },
  {
   "cell_type": "code",
   "execution_count": null,
   "id": "74109410",
   "metadata": {},
   "outputs": [],
   "source": [
    "df_excel['race/ethnicity'].str.extract(r'([A-Z])')"
   ]
  },
  {
   "cell_type": "markdown",
   "id": "535892a4",
   "metadata": {},
   "source": [
    "## Story 2\n",
    "\n",
    "https://towardsdatascience.com/pandas-cheat-sheet-for-data-preprocessing-cd1bcd607426"
   ]
  },
  {
   "cell_type": "code",
   "execution_count": null,
   "id": "67145ea5",
   "metadata": {},
   "outputs": [],
   "source": [
    "import pandas as pd\n",
    "import numpy as np\n",
    "from sklearn.datasets import load_boston\n",
    "from sklearn import preprocessing"
   ]
  },
  {
   "cell_type": "code",
   "execution_count": null,
   "id": "227de747",
   "metadata": {},
   "outputs": [],
   "source": [
    "pd.set_option('display.max_rows', 50)\n",
    "pd.set_option('display.max_columns', 50)"
   ]
  },
  {
   "cell_type": "code",
   "execution_count": null,
   "id": "cf2013db",
   "metadata": {},
   "outputs": [],
   "source": [
    "boston = load_boston()\n",
    "df_X = pd.DataFrame(boston.data, columns=boston.feature_names)\n",
    "df_y = pd.DataFrame(boston.target, columns=['target'])"
   ]
  },
  {
   "cell_type": "code",
   "execution_count": null,
   "id": "dde442a8",
   "metadata": {},
   "outputs": [],
   "source": [
    "df_X.columns"
   ]
  },
  {
   "cell_type": "code",
   "execution_count": null,
   "id": "6df665f5",
   "metadata": {},
   "outputs": [],
   "source": [
    "df_X.columns.tolist()"
   ]
  },
  {
   "cell_type": "code",
   "execution_count": null,
   "id": "3523db2c",
   "metadata": {},
   "outputs": [],
   "source": [
    "df_X[df_X.duplicated()]"
   ]
  },
  {
   "cell_type": "code",
   "execution_count": null,
   "id": "c49025db",
   "metadata": {},
   "outputs": [],
   "source": [
    "df_X[df_X.duplicated(keep='last')]"
   ]
  },
  {
   "cell_type": "code",
   "execution_count": null,
   "id": "d35df779",
   "metadata": {},
   "outputs": [],
   "source": [
    "df_X.T[df_X.T.duplicated(keep=False)].T"
   ]
  },
  {
   "cell_type": "code",
   "execution_count": null,
   "id": "e117dbe5",
   "metadata": {},
   "outputs": [],
   "source": [
    "np.where(pd.isnull(df_X))"
   ]
  },
  {
   "cell_type": "code",
   "execution_count": null,
   "id": "c772cd45",
   "metadata": {},
   "outputs": [],
   "source": [
    "df_X.replace(np.nan, 0)"
   ]
  },
  {
   "cell_type": "code",
   "execution_count": null,
   "id": "c35885f9",
   "metadata": {},
   "outputs": [],
   "source": [
    "df_X.dtypes"
   ]
  },
  {
   "cell_type": "code",
   "execution_count": null,
   "id": "9730cdbe",
   "metadata": {},
   "outputs": [],
   "source": [
    "col_miss = ['DIS', 'B']\n",
    "for i_col in col_miss:\n",
    "    for j in df_X[i_col].unique():\n",
    "        try:\n",
    "            float(j)\n",
    "        except ValueError:\n",
    "            print(j)"
   ]
  },
  {
   "cell_type": "code",
   "execution_count": null,
   "id": "6613aa7e",
   "metadata": {},
   "outputs": [],
   "source": [
    "df_X.replace('1..7554', 1.7554)\n",
    "df_X.replace('396.9.9', 396.99)"
   ]
  },
  {
   "cell_type": "code",
   "execution_count": null,
   "id": "de0bee6f",
   "metadata": {},
   "outputs": [],
   "source": [
    "df_X[['DIS', 'B']] = df_X[['DIS', 'B']].astype(float)"
   ]
  },
  {
   "cell_type": "code",
   "execution_count": null,
   "id": "7028191f",
   "metadata": {},
   "outputs": [],
   "source": [
    "df_X.nunique()"
   ]
  },
  {
   "cell_type": "code",
   "execution_count": null,
   "id": "3f9d32a0",
   "metadata": {},
   "outputs": [],
   "source": [
    "mm = preprocessing.MinMaxScaler()\n",
    "df_float = df_X.loc[:, df_X.dtypes == 'float64']\n",
    "df_scaled = pd.DataFrame(mm.fit_transform(df_float), index=df_float.index, columns=df_float.columns)\n",
    "duplicates = df_scaled.T[df_scaled.T.duplicated()]\n",
    "duplicates.T"
   ]
  },
  {
   "cell_type": "code",
   "execution_count": null,
   "id": "a7f16a88",
   "metadata": {},
   "outputs": [],
   "source": [
    "df_X.drop(['TEST', 'TEST2'], axis=1)"
   ]
  },
  {
   "cell_type": "code",
   "execution_count": null,
   "id": "50c9a38f",
   "metadata": {},
   "outputs": [],
   "source": [
    "df_X.describe()"
   ]
  },
  {
   "cell_type": "markdown",
   "id": "297609d4",
   "metadata": {},
   "source": [
    "## Story 3\n",
    "https://betterprogramming.pub/3-pandas-functions-to-group-and-aggregate-data-9763a32583bb"
   ]
  },
  {
   "cell_type": "code",
   "execution_count": null,
   "id": "b325b6d3",
   "metadata": {},
   "outputs": [],
   "source": [
    "import numpy as np # linear algebra\n",
    "import pandas as pd # data processing, CSV file I/O (e.g. pd.read_csv)\n",
    "from sklearn.datasets import load_boston\n",
    "\n",
    "boston = load_boston()\n",
    "df = pd.DataFrame(data=boston.data,columns=boston.feature_names)\n",
    "df['price']=boston.target\n",
    "df.head()"
   ]
  },
  {
   "cell_type": "code",
   "execution_count": null,
   "id": "195dd5df",
   "metadata": {},
   "outputs": [],
   "source": [
    "df['RM_levels']=df['RM'].apply(lambda x: 'low' if x<5.8 else 'middle' if x<6.6 else 'high')\n",
    "df['price_levels']=df['price'].apply(lambda x: 'low' if x<17 else 'middle' if x<25 else 'high')\n",
    "df[['RM','RM_levels','price','price_levels']].head()"
   ]
  },
  {
   "cell_type": "code",
   "execution_count": null,
   "id": "dfa65349",
   "metadata": {},
   "outputs": [],
   "source": [
    "df['RM_levels'] = pd.cut(df['RM'],bins=[3,5.8,6.6,9],right=False)\n",
    "df['price_levels'] = pd.cut(df['price'],bins=[5,17,25,51],right=False)\n",
    "df[['RM','RM_levels','price','price_levels']].head()"
   ]
  },
  {
   "cell_type": "code",
   "execution_count": null,
   "id": "f3a7a03f",
   "metadata": {},
   "outputs": [],
   "source": [
    "df[df.price_levels=='[17, 25)']\n",
    "type(df['price_levels'][0])"
   ]
  },
  {
   "cell_type": "code",
   "execution_count": null,
   "id": "0b06948a",
   "metadata": {},
   "outputs": [],
   "source": [
    "l=[[3,5.8,6.6,9],[5,17,25,51]]\n",
    "lbs1 = ['[{},{})'.format(l[0][i],l[0][i+1]) for i in range(len(l[0])-1)]\n",
    "lbs2 = ['[{},{})'.format(l[1][i],l[1][i+1]) for i in range(len(l[1])-1)]\n",
    "\n",
    "df['RM_levels'] = pd.cut(df['RM'],bins=[3,5.8,6.6,9],right=False,labels=lbs1)\n",
    "df['price_levels'] = pd.cut(df['price'],bins=[5,17,25,51],right=False,labels=lbs2)\n",
    "print(type(df['price_levels'][0]))"
   ]
  },
  {
   "cell_type": "code",
   "execution_count": null,
   "id": "cfc87a97",
   "metadata": {},
   "outputs": [],
   "source": [
    "df['RM_levels'] = pd.cut(df['RM'],bins=[3,5.8,6.6,9],labels=['low','middle','high'],right=False)\n",
    "df['price_levels'] = pd.cut(df['price'],bins=[5,17,25,51],labels=['low','middle','high'],right=False)\n"
   ]
  },
  {
   "cell_type": "markdown",
   "id": "d7687a78",
   "metadata": {},
   "source": [
    "### Simple Aggregations"
   ]
  },
  {
   "cell_type": "code",
   "execution_count": null,
   "id": "af2a6349",
   "metadata": {},
   "outputs": [],
   "source": [
    "\n",
    "df_price = df.groupby(by=['price_levels']).mean()\n",
    "df_price"
   ]
  },
  {
   "cell_type": "code",
   "execution_count": null,
   "id": "1718a2b7",
   "metadata": {},
   "outputs": [],
   "source": [
    "\n",
    "df.info()"
   ]
  },
  {
   "cell_type": "code",
   "execution_count": null,
   "id": "4ed969a3",
   "metadata": {},
   "outputs": [],
   "source": [
    "df['price_levels']=df['price_levels'].astype('category')\n",
    "df['price_levels'].cat.reorder_categories(['low','middle','high'], inplace=True)\n",
    "\n",
    "df['RM_levels']=df['RM_levels'].astype('category')\n",
    "df['RM_levels'].cat.reorder_categories(['low','middle','high'], inplace=True)"
   ]
  },
  {
   "cell_type": "code",
   "execution_count": null,
   "id": "988fb7a1",
   "metadata": {},
   "outputs": [],
   "source": [
    "df_price = df.groupby(by=['price_levels'],as_index=False).mean()\n",
    "df_price"
   ]
  },
  {
   "cell_type": "code",
   "execution_count": null,
   "id": "e7ef50c3",
   "metadata": {},
   "outputs": [],
   "source": [
    "df_price = df.groupby(by=['price_levels'],as_index=False)[['price','RM']].mean().sort_values(by='price_levels', ascending=True)\n",
    "df_price"
   ]
  },
  {
   "cell_type": "code",
   "execution_count": null,
   "id": "121ac612",
   "metadata": {},
   "outputs": [],
   "source": [
    "\n",
    "df_price = df.groupby(by=['price_levels'],as_index=False)[['CRIM','LSTAT']].apply(lambda v: v.max()-v.min())\n",
    "df_price"
   ]
  },
  {
   "cell_type": "markdown",
   "id": "ed5222d1",
   "metadata": {},
   "source": [
    "### Multiple Aggregations"
   ]
  },
  {
   "cell_type": "code",
   "execution_count": null,
   "id": "ee099042",
   "metadata": {},
   "outputs": [],
   "source": [
    "df_price = df.groupby(by=['price_levels'],as_index=False)[['price','AGE','CRIM']].agg(['mean','min','max','std'])\n",
    "df_price"
   ]
  },
  {
   "cell_type": "code",
   "execution_count": null,
   "id": "d746f83f",
   "metadata": {},
   "outputs": [],
   "source": [
    "df_price = df.groupby(by=['price_levels'])[['price','AGE','CRIM']].agg(['mean','min','max','std']).reset_index()\n",
    "df_price"
   ]
  },
  {
   "cell_type": "code",
   "execution_count": null,
   "id": "e2489969",
   "metadata": {},
   "outputs": [],
   "source": [
    "df_price.columns"
   ]
  },
  {
   "cell_type": "code",
   "execution_count": null,
   "id": "94597bb8",
   "metadata": {},
   "outputs": [],
   "source": [
    "stats = ['mean','min','max','std']\n",
    "df_price.columns = ['price_levels']+['price_{}'.format(stat) for stat in stats]+['age_{}'.format(stat) for stat in stats]+['age_{}'.format(stat) for stat in stats]\n",
    "df_price"
   ]
  },
  {
   "cell_type": "code",
   "execution_count": null,
   "id": "45d07fdd",
   "metadata": {},
   "outputs": [],
   "source": [
    "df_price = df.groupby(by=['price_levels','RM_levels'],as_index=False).agg({'CRIM':['count','mean','max','min'],'price':['mean']})\n",
    "df_price"
   ]
  }
 ],
 "metadata": {
  "kernelspec": {
   "display_name": "Python 3 (ipykernel)",
   "language": "python",
   "name": "python3"
  },
  "language_info": {
   "codemirror_mode": {
    "name": "ipython",
    "version": 3
   },
   "file_extension": ".py",
   "mimetype": "text/x-python",
   "name": "python",
   "nbconvert_exporter": "python",
   "pygments_lexer": "ipython3",
   "version": "3.8.2"
  },
  "toc": {
   "base_numbering": 1,
   "nav_menu": {},
   "number_sections": true,
   "sideBar": true,
   "skip_h1_title": false,
   "title_cell": "Table of Contents",
   "title_sidebar": "Contents",
   "toc_cell": true,
   "toc_position": {
    "height": "calc(100% - 180px)",
    "left": "10px",
    "top": "150px",
    "width": "165px"
   },
   "toc_section_display": true,
   "toc_window_display": true
  }
 },
 "nbformat": 4,
 "nbformat_minor": 5
}
